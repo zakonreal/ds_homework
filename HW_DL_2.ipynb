{
  "nbformat": 4,
  "nbformat_minor": 0,
  "metadata": {
    "colab": {
      "provenance": []
    },
    "kernelspec": {
      "name": "python3",
      "display_name": "Python 3"
    },
    "language_info": {
      "name": "python"
    },
    "accelerator": "GPU",
    "gpuClass": "standard",
    "widgets": {
      "application/vnd.jupyter.widget-state+json": {
        "9f015773099f4512a0b50a8d55df5b3a": {
          "model_module": "@jupyter-widgets/controls",
          "model_name": "HBoxModel",
          "model_module_version": "1.5.0",
          "state": {
            "_dom_classes": [],
            "_model_module": "@jupyter-widgets/controls",
            "_model_module_version": "1.5.0",
            "_model_name": "HBoxModel",
            "_view_count": null,
            "_view_module": "@jupyter-widgets/controls",
            "_view_module_version": "1.5.0",
            "_view_name": "HBoxView",
            "box_style": "",
            "children": [
              "IPY_MODEL_2a8c6a6982d94ea3a4f4300526d55eaa",
              "IPY_MODEL_8b5bf343f07847deb48deba93b8c3713",
              "IPY_MODEL_bf413b1d5d204289a944dc5c9f9a805c"
            ],
            "layout": "IPY_MODEL_e208a868041545ff9e32d75960669643"
          }
        },
        "2a8c6a6982d94ea3a4f4300526d55eaa": {
          "model_module": "@jupyter-widgets/controls",
          "model_name": "HTMLModel",
          "model_module_version": "1.5.0",
          "state": {
            "_dom_classes": [],
            "_model_module": "@jupyter-widgets/controls",
            "_model_module_version": "1.5.0",
            "_model_name": "HTMLModel",
            "_view_count": null,
            "_view_module": "@jupyter-widgets/controls",
            "_view_module_version": "1.5.0",
            "_view_name": "HTMLView",
            "description": "",
            "description_tooltip": null,
            "layout": "IPY_MODEL_4744132acbee46ffa3404f5550c50d50",
            "placeholder": "​",
            "style": "IPY_MODEL_88fb1b555fc94ee09dca15d16cb73aa1",
            "value": "100%"
          }
        },
        "8b5bf343f07847deb48deba93b8c3713": {
          "model_module": "@jupyter-widgets/controls",
          "model_name": "FloatProgressModel",
          "model_module_version": "1.5.0",
          "state": {
            "_dom_classes": [],
            "_model_module": "@jupyter-widgets/controls",
            "_model_module_version": "1.5.0",
            "_model_name": "FloatProgressModel",
            "_view_count": null,
            "_view_module": "@jupyter-widgets/controls",
            "_view_module_version": "1.5.0",
            "_view_name": "ProgressView",
            "bar_style": "success",
            "description": "",
            "description_tooltip": null,
            "layout": "IPY_MODEL_072991adfaf047d39aa60d13afc10fc7",
            "max": 9912422,
            "min": 0,
            "orientation": "horizontal",
            "style": "IPY_MODEL_842490f454e642cf8c6cad7632322d7b",
            "value": 9912422
          }
        },
        "bf413b1d5d204289a944dc5c9f9a805c": {
          "model_module": "@jupyter-widgets/controls",
          "model_name": "HTMLModel",
          "model_module_version": "1.5.0",
          "state": {
            "_dom_classes": [],
            "_model_module": "@jupyter-widgets/controls",
            "_model_module_version": "1.5.0",
            "_model_name": "HTMLModel",
            "_view_count": null,
            "_view_module": "@jupyter-widgets/controls",
            "_view_module_version": "1.5.0",
            "_view_name": "HTMLView",
            "description": "",
            "description_tooltip": null,
            "layout": "IPY_MODEL_3b4e85bbd4464c44bd734b3be2f7e686",
            "placeholder": "​",
            "style": "IPY_MODEL_8312591e0a86474fbc75b02c8f3034e3",
            "value": " 9912422/9912422 [00:00&lt;00:00, 22884261.82it/s]"
          }
        },
        "e208a868041545ff9e32d75960669643": {
          "model_module": "@jupyter-widgets/base",
          "model_name": "LayoutModel",
          "model_module_version": "1.2.0",
          "state": {
            "_model_module": "@jupyter-widgets/base",
            "_model_module_version": "1.2.0",
            "_model_name": "LayoutModel",
            "_view_count": null,
            "_view_module": "@jupyter-widgets/base",
            "_view_module_version": "1.2.0",
            "_view_name": "LayoutView",
            "align_content": null,
            "align_items": null,
            "align_self": null,
            "border": null,
            "bottom": null,
            "display": null,
            "flex": null,
            "flex_flow": null,
            "grid_area": null,
            "grid_auto_columns": null,
            "grid_auto_flow": null,
            "grid_auto_rows": null,
            "grid_column": null,
            "grid_gap": null,
            "grid_row": null,
            "grid_template_areas": null,
            "grid_template_columns": null,
            "grid_template_rows": null,
            "height": null,
            "justify_content": null,
            "justify_items": null,
            "left": null,
            "margin": null,
            "max_height": null,
            "max_width": null,
            "min_height": null,
            "min_width": null,
            "object_fit": null,
            "object_position": null,
            "order": null,
            "overflow": null,
            "overflow_x": null,
            "overflow_y": null,
            "padding": null,
            "right": null,
            "top": null,
            "visibility": null,
            "width": null
          }
        },
        "4744132acbee46ffa3404f5550c50d50": {
          "model_module": "@jupyter-widgets/base",
          "model_name": "LayoutModel",
          "model_module_version": "1.2.0",
          "state": {
            "_model_module": "@jupyter-widgets/base",
            "_model_module_version": "1.2.0",
            "_model_name": "LayoutModel",
            "_view_count": null,
            "_view_module": "@jupyter-widgets/base",
            "_view_module_version": "1.2.0",
            "_view_name": "LayoutView",
            "align_content": null,
            "align_items": null,
            "align_self": null,
            "border": null,
            "bottom": null,
            "display": null,
            "flex": null,
            "flex_flow": null,
            "grid_area": null,
            "grid_auto_columns": null,
            "grid_auto_flow": null,
            "grid_auto_rows": null,
            "grid_column": null,
            "grid_gap": null,
            "grid_row": null,
            "grid_template_areas": null,
            "grid_template_columns": null,
            "grid_template_rows": null,
            "height": null,
            "justify_content": null,
            "justify_items": null,
            "left": null,
            "margin": null,
            "max_height": null,
            "max_width": null,
            "min_height": null,
            "min_width": null,
            "object_fit": null,
            "object_position": null,
            "order": null,
            "overflow": null,
            "overflow_x": null,
            "overflow_y": null,
            "padding": null,
            "right": null,
            "top": null,
            "visibility": null,
            "width": null
          }
        },
        "88fb1b555fc94ee09dca15d16cb73aa1": {
          "model_module": "@jupyter-widgets/controls",
          "model_name": "DescriptionStyleModel",
          "model_module_version": "1.5.0",
          "state": {
            "_model_module": "@jupyter-widgets/controls",
            "_model_module_version": "1.5.0",
            "_model_name": "DescriptionStyleModel",
            "_view_count": null,
            "_view_module": "@jupyter-widgets/base",
            "_view_module_version": "1.2.0",
            "_view_name": "StyleView",
            "description_width": ""
          }
        },
        "072991adfaf047d39aa60d13afc10fc7": {
          "model_module": "@jupyter-widgets/base",
          "model_name": "LayoutModel",
          "model_module_version": "1.2.0",
          "state": {
            "_model_module": "@jupyter-widgets/base",
            "_model_module_version": "1.2.0",
            "_model_name": "LayoutModel",
            "_view_count": null,
            "_view_module": "@jupyter-widgets/base",
            "_view_module_version": "1.2.0",
            "_view_name": "LayoutView",
            "align_content": null,
            "align_items": null,
            "align_self": null,
            "border": null,
            "bottom": null,
            "display": null,
            "flex": null,
            "flex_flow": null,
            "grid_area": null,
            "grid_auto_columns": null,
            "grid_auto_flow": null,
            "grid_auto_rows": null,
            "grid_column": null,
            "grid_gap": null,
            "grid_row": null,
            "grid_template_areas": null,
            "grid_template_columns": null,
            "grid_template_rows": null,
            "height": null,
            "justify_content": null,
            "justify_items": null,
            "left": null,
            "margin": null,
            "max_height": null,
            "max_width": null,
            "min_height": null,
            "min_width": null,
            "object_fit": null,
            "object_position": null,
            "order": null,
            "overflow": null,
            "overflow_x": null,
            "overflow_y": null,
            "padding": null,
            "right": null,
            "top": null,
            "visibility": null,
            "width": null
          }
        },
        "842490f454e642cf8c6cad7632322d7b": {
          "model_module": "@jupyter-widgets/controls",
          "model_name": "ProgressStyleModel",
          "model_module_version": "1.5.0",
          "state": {
            "_model_module": "@jupyter-widgets/controls",
            "_model_module_version": "1.5.0",
            "_model_name": "ProgressStyleModel",
            "_view_count": null,
            "_view_module": "@jupyter-widgets/base",
            "_view_module_version": "1.2.0",
            "_view_name": "StyleView",
            "bar_color": null,
            "description_width": ""
          }
        },
        "3b4e85bbd4464c44bd734b3be2f7e686": {
          "model_module": "@jupyter-widgets/base",
          "model_name": "LayoutModel",
          "model_module_version": "1.2.0",
          "state": {
            "_model_module": "@jupyter-widgets/base",
            "_model_module_version": "1.2.0",
            "_model_name": "LayoutModel",
            "_view_count": null,
            "_view_module": "@jupyter-widgets/base",
            "_view_module_version": "1.2.0",
            "_view_name": "LayoutView",
            "align_content": null,
            "align_items": null,
            "align_self": null,
            "border": null,
            "bottom": null,
            "display": null,
            "flex": null,
            "flex_flow": null,
            "grid_area": null,
            "grid_auto_columns": null,
            "grid_auto_flow": null,
            "grid_auto_rows": null,
            "grid_column": null,
            "grid_gap": null,
            "grid_row": null,
            "grid_template_areas": null,
            "grid_template_columns": null,
            "grid_template_rows": null,
            "height": null,
            "justify_content": null,
            "justify_items": null,
            "left": null,
            "margin": null,
            "max_height": null,
            "max_width": null,
            "min_height": null,
            "min_width": null,
            "object_fit": null,
            "object_position": null,
            "order": null,
            "overflow": null,
            "overflow_x": null,
            "overflow_y": null,
            "padding": null,
            "right": null,
            "top": null,
            "visibility": null,
            "width": null
          }
        },
        "8312591e0a86474fbc75b02c8f3034e3": {
          "model_module": "@jupyter-widgets/controls",
          "model_name": "DescriptionStyleModel",
          "model_module_version": "1.5.0",
          "state": {
            "_model_module": "@jupyter-widgets/controls",
            "_model_module_version": "1.5.0",
            "_model_name": "DescriptionStyleModel",
            "_view_count": null,
            "_view_module": "@jupyter-widgets/base",
            "_view_module_version": "1.2.0",
            "_view_name": "StyleView",
            "description_width": ""
          }
        },
        "5d862edab9414226b9be71372bd7736a": {
          "model_module": "@jupyter-widgets/controls",
          "model_name": "HBoxModel",
          "model_module_version": "1.5.0",
          "state": {
            "_dom_classes": [],
            "_model_module": "@jupyter-widgets/controls",
            "_model_module_version": "1.5.0",
            "_model_name": "HBoxModel",
            "_view_count": null,
            "_view_module": "@jupyter-widgets/controls",
            "_view_module_version": "1.5.0",
            "_view_name": "HBoxView",
            "box_style": "",
            "children": [
              "IPY_MODEL_99f6b95b44934e48b0d60ce226133939",
              "IPY_MODEL_b558d7b08ce44779a66d5399d7f08d96",
              "IPY_MODEL_419d1e5eba3a4e2bb0ce8d2c8d5860bd"
            ],
            "layout": "IPY_MODEL_39f124d0e9bd447887d6423fce7fa104"
          }
        },
        "99f6b95b44934e48b0d60ce226133939": {
          "model_module": "@jupyter-widgets/controls",
          "model_name": "HTMLModel",
          "model_module_version": "1.5.0",
          "state": {
            "_dom_classes": [],
            "_model_module": "@jupyter-widgets/controls",
            "_model_module_version": "1.5.0",
            "_model_name": "HTMLModel",
            "_view_count": null,
            "_view_module": "@jupyter-widgets/controls",
            "_view_module_version": "1.5.0",
            "_view_name": "HTMLView",
            "description": "",
            "description_tooltip": null,
            "layout": "IPY_MODEL_06bf0e58e0c243d88fb21906955682d4",
            "placeholder": "​",
            "style": "IPY_MODEL_f583178879cb4d2f84aad5e0a41ff676",
            "value": "100%"
          }
        },
        "b558d7b08ce44779a66d5399d7f08d96": {
          "model_module": "@jupyter-widgets/controls",
          "model_name": "FloatProgressModel",
          "model_module_version": "1.5.0",
          "state": {
            "_dom_classes": [],
            "_model_module": "@jupyter-widgets/controls",
            "_model_module_version": "1.5.0",
            "_model_name": "FloatProgressModel",
            "_view_count": null,
            "_view_module": "@jupyter-widgets/controls",
            "_view_module_version": "1.5.0",
            "_view_name": "ProgressView",
            "bar_style": "success",
            "description": "",
            "description_tooltip": null,
            "layout": "IPY_MODEL_46312f2305c542fa8c1d0d246809f247",
            "max": 28881,
            "min": 0,
            "orientation": "horizontal",
            "style": "IPY_MODEL_1a960fc4559944b4827be81664985196",
            "value": 28881
          }
        },
        "419d1e5eba3a4e2bb0ce8d2c8d5860bd": {
          "model_module": "@jupyter-widgets/controls",
          "model_name": "HTMLModel",
          "model_module_version": "1.5.0",
          "state": {
            "_dom_classes": [],
            "_model_module": "@jupyter-widgets/controls",
            "_model_module_version": "1.5.0",
            "_model_name": "HTMLModel",
            "_view_count": null,
            "_view_module": "@jupyter-widgets/controls",
            "_view_module_version": "1.5.0",
            "_view_name": "HTMLView",
            "description": "",
            "description_tooltip": null,
            "layout": "IPY_MODEL_5d03d8dd540b40b1ad7ad1eeacc90b23",
            "placeholder": "​",
            "style": "IPY_MODEL_aafb60d8ec6a4d629973b177d1c5a294",
            "value": " 28881/28881 [00:00&lt;00:00, 1015217.01it/s]"
          }
        },
        "39f124d0e9bd447887d6423fce7fa104": {
          "model_module": "@jupyter-widgets/base",
          "model_name": "LayoutModel",
          "model_module_version": "1.2.0",
          "state": {
            "_model_module": "@jupyter-widgets/base",
            "_model_module_version": "1.2.0",
            "_model_name": "LayoutModel",
            "_view_count": null,
            "_view_module": "@jupyter-widgets/base",
            "_view_module_version": "1.2.0",
            "_view_name": "LayoutView",
            "align_content": null,
            "align_items": null,
            "align_self": null,
            "border": null,
            "bottom": null,
            "display": null,
            "flex": null,
            "flex_flow": null,
            "grid_area": null,
            "grid_auto_columns": null,
            "grid_auto_flow": null,
            "grid_auto_rows": null,
            "grid_column": null,
            "grid_gap": null,
            "grid_row": null,
            "grid_template_areas": null,
            "grid_template_columns": null,
            "grid_template_rows": null,
            "height": null,
            "justify_content": null,
            "justify_items": null,
            "left": null,
            "margin": null,
            "max_height": null,
            "max_width": null,
            "min_height": null,
            "min_width": null,
            "object_fit": null,
            "object_position": null,
            "order": null,
            "overflow": null,
            "overflow_x": null,
            "overflow_y": null,
            "padding": null,
            "right": null,
            "top": null,
            "visibility": null,
            "width": null
          }
        },
        "06bf0e58e0c243d88fb21906955682d4": {
          "model_module": "@jupyter-widgets/base",
          "model_name": "LayoutModel",
          "model_module_version": "1.2.0",
          "state": {
            "_model_module": "@jupyter-widgets/base",
            "_model_module_version": "1.2.0",
            "_model_name": "LayoutModel",
            "_view_count": null,
            "_view_module": "@jupyter-widgets/base",
            "_view_module_version": "1.2.0",
            "_view_name": "LayoutView",
            "align_content": null,
            "align_items": null,
            "align_self": null,
            "border": null,
            "bottom": null,
            "display": null,
            "flex": null,
            "flex_flow": null,
            "grid_area": null,
            "grid_auto_columns": null,
            "grid_auto_flow": null,
            "grid_auto_rows": null,
            "grid_column": null,
            "grid_gap": null,
            "grid_row": null,
            "grid_template_areas": null,
            "grid_template_columns": null,
            "grid_template_rows": null,
            "height": null,
            "justify_content": null,
            "justify_items": null,
            "left": null,
            "margin": null,
            "max_height": null,
            "max_width": null,
            "min_height": null,
            "min_width": null,
            "object_fit": null,
            "object_position": null,
            "order": null,
            "overflow": null,
            "overflow_x": null,
            "overflow_y": null,
            "padding": null,
            "right": null,
            "top": null,
            "visibility": null,
            "width": null
          }
        },
        "f583178879cb4d2f84aad5e0a41ff676": {
          "model_module": "@jupyter-widgets/controls",
          "model_name": "DescriptionStyleModel",
          "model_module_version": "1.5.0",
          "state": {
            "_model_module": "@jupyter-widgets/controls",
            "_model_module_version": "1.5.0",
            "_model_name": "DescriptionStyleModel",
            "_view_count": null,
            "_view_module": "@jupyter-widgets/base",
            "_view_module_version": "1.2.0",
            "_view_name": "StyleView",
            "description_width": ""
          }
        },
        "46312f2305c542fa8c1d0d246809f247": {
          "model_module": "@jupyter-widgets/base",
          "model_name": "LayoutModel",
          "model_module_version": "1.2.0",
          "state": {
            "_model_module": "@jupyter-widgets/base",
            "_model_module_version": "1.2.0",
            "_model_name": "LayoutModel",
            "_view_count": null,
            "_view_module": "@jupyter-widgets/base",
            "_view_module_version": "1.2.0",
            "_view_name": "LayoutView",
            "align_content": null,
            "align_items": null,
            "align_self": null,
            "border": null,
            "bottom": null,
            "display": null,
            "flex": null,
            "flex_flow": null,
            "grid_area": null,
            "grid_auto_columns": null,
            "grid_auto_flow": null,
            "grid_auto_rows": null,
            "grid_column": null,
            "grid_gap": null,
            "grid_row": null,
            "grid_template_areas": null,
            "grid_template_columns": null,
            "grid_template_rows": null,
            "height": null,
            "justify_content": null,
            "justify_items": null,
            "left": null,
            "margin": null,
            "max_height": null,
            "max_width": null,
            "min_height": null,
            "min_width": null,
            "object_fit": null,
            "object_position": null,
            "order": null,
            "overflow": null,
            "overflow_x": null,
            "overflow_y": null,
            "padding": null,
            "right": null,
            "top": null,
            "visibility": null,
            "width": null
          }
        },
        "1a960fc4559944b4827be81664985196": {
          "model_module": "@jupyter-widgets/controls",
          "model_name": "ProgressStyleModel",
          "model_module_version": "1.5.0",
          "state": {
            "_model_module": "@jupyter-widgets/controls",
            "_model_module_version": "1.5.0",
            "_model_name": "ProgressStyleModel",
            "_view_count": null,
            "_view_module": "@jupyter-widgets/base",
            "_view_module_version": "1.2.0",
            "_view_name": "StyleView",
            "bar_color": null,
            "description_width": ""
          }
        },
        "5d03d8dd540b40b1ad7ad1eeacc90b23": {
          "model_module": "@jupyter-widgets/base",
          "model_name": "LayoutModel",
          "model_module_version": "1.2.0",
          "state": {
            "_model_module": "@jupyter-widgets/base",
            "_model_module_version": "1.2.0",
            "_model_name": "LayoutModel",
            "_view_count": null,
            "_view_module": "@jupyter-widgets/base",
            "_view_module_version": "1.2.0",
            "_view_name": "LayoutView",
            "align_content": null,
            "align_items": null,
            "align_self": null,
            "border": null,
            "bottom": null,
            "display": null,
            "flex": null,
            "flex_flow": null,
            "grid_area": null,
            "grid_auto_columns": null,
            "grid_auto_flow": null,
            "grid_auto_rows": null,
            "grid_column": null,
            "grid_gap": null,
            "grid_row": null,
            "grid_template_areas": null,
            "grid_template_columns": null,
            "grid_template_rows": null,
            "height": null,
            "justify_content": null,
            "justify_items": null,
            "left": null,
            "margin": null,
            "max_height": null,
            "max_width": null,
            "min_height": null,
            "min_width": null,
            "object_fit": null,
            "object_position": null,
            "order": null,
            "overflow": null,
            "overflow_x": null,
            "overflow_y": null,
            "padding": null,
            "right": null,
            "top": null,
            "visibility": null,
            "width": null
          }
        },
        "aafb60d8ec6a4d629973b177d1c5a294": {
          "model_module": "@jupyter-widgets/controls",
          "model_name": "DescriptionStyleModel",
          "model_module_version": "1.5.0",
          "state": {
            "_model_module": "@jupyter-widgets/controls",
            "_model_module_version": "1.5.0",
            "_model_name": "DescriptionStyleModel",
            "_view_count": null,
            "_view_module": "@jupyter-widgets/base",
            "_view_module_version": "1.2.0",
            "_view_name": "StyleView",
            "description_width": ""
          }
        },
        "389a67623f954ab2a0b66f8f39e83332": {
          "model_module": "@jupyter-widgets/controls",
          "model_name": "HBoxModel",
          "model_module_version": "1.5.0",
          "state": {
            "_dom_classes": [],
            "_model_module": "@jupyter-widgets/controls",
            "_model_module_version": "1.5.0",
            "_model_name": "HBoxModel",
            "_view_count": null,
            "_view_module": "@jupyter-widgets/controls",
            "_view_module_version": "1.5.0",
            "_view_name": "HBoxView",
            "box_style": "",
            "children": [
              "IPY_MODEL_b242e969ed564b1682d2bca5e2027a3f",
              "IPY_MODEL_72c4f6c2db69455ba47d6073ca0e5ccc",
              "IPY_MODEL_fecd6e538dbc4df980e69fca09d53e1a"
            ],
            "layout": "IPY_MODEL_a06bfc625b3c41caa5cd8372aa479d8d"
          }
        },
        "b242e969ed564b1682d2bca5e2027a3f": {
          "model_module": "@jupyter-widgets/controls",
          "model_name": "HTMLModel",
          "model_module_version": "1.5.0",
          "state": {
            "_dom_classes": [],
            "_model_module": "@jupyter-widgets/controls",
            "_model_module_version": "1.5.0",
            "_model_name": "HTMLModel",
            "_view_count": null,
            "_view_module": "@jupyter-widgets/controls",
            "_view_module_version": "1.5.0",
            "_view_name": "HTMLView",
            "description": "",
            "description_tooltip": null,
            "layout": "IPY_MODEL_83be333bf5b44f2281e3cb7e90020152",
            "placeholder": "​",
            "style": "IPY_MODEL_4a3bd4bbf5344178bac6eaf9b61280bb",
            "value": "100%"
          }
        },
        "72c4f6c2db69455ba47d6073ca0e5ccc": {
          "model_module": "@jupyter-widgets/controls",
          "model_name": "FloatProgressModel",
          "model_module_version": "1.5.0",
          "state": {
            "_dom_classes": [],
            "_model_module": "@jupyter-widgets/controls",
            "_model_module_version": "1.5.0",
            "_model_name": "FloatProgressModel",
            "_view_count": null,
            "_view_module": "@jupyter-widgets/controls",
            "_view_module_version": "1.5.0",
            "_view_name": "ProgressView",
            "bar_style": "success",
            "description": "",
            "description_tooltip": null,
            "layout": "IPY_MODEL_b9740deeed46499baf7f7dd551bb5b9e",
            "max": 1648877,
            "min": 0,
            "orientation": "horizontal",
            "style": "IPY_MODEL_60ef7adb6eaf4d4f9d1697b2911ac032",
            "value": 1648877
          }
        },
        "fecd6e538dbc4df980e69fca09d53e1a": {
          "model_module": "@jupyter-widgets/controls",
          "model_name": "HTMLModel",
          "model_module_version": "1.5.0",
          "state": {
            "_dom_classes": [],
            "_model_module": "@jupyter-widgets/controls",
            "_model_module_version": "1.5.0",
            "_model_name": "HTMLModel",
            "_view_count": null,
            "_view_module": "@jupyter-widgets/controls",
            "_view_module_version": "1.5.0",
            "_view_name": "HTMLView",
            "description": "",
            "description_tooltip": null,
            "layout": "IPY_MODEL_1b56fcea9cf9470ea62487911056101f",
            "placeholder": "​",
            "style": "IPY_MODEL_1490f9ef046f47908b7b1f3cdc8bf702",
            "value": " 1648877/1648877 [00:00&lt;00:00, 19577008.25it/s]"
          }
        },
        "a06bfc625b3c41caa5cd8372aa479d8d": {
          "model_module": "@jupyter-widgets/base",
          "model_name": "LayoutModel",
          "model_module_version": "1.2.0",
          "state": {
            "_model_module": "@jupyter-widgets/base",
            "_model_module_version": "1.2.0",
            "_model_name": "LayoutModel",
            "_view_count": null,
            "_view_module": "@jupyter-widgets/base",
            "_view_module_version": "1.2.0",
            "_view_name": "LayoutView",
            "align_content": null,
            "align_items": null,
            "align_self": null,
            "border": null,
            "bottom": null,
            "display": null,
            "flex": null,
            "flex_flow": null,
            "grid_area": null,
            "grid_auto_columns": null,
            "grid_auto_flow": null,
            "grid_auto_rows": null,
            "grid_column": null,
            "grid_gap": null,
            "grid_row": null,
            "grid_template_areas": null,
            "grid_template_columns": null,
            "grid_template_rows": null,
            "height": null,
            "justify_content": null,
            "justify_items": null,
            "left": null,
            "margin": null,
            "max_height": null,
            "max_width": null,
            "min_height": null,
            "min_width": null,
            "object_fit": null,
            "object_position": null,
            "order": null,
            "overflow": null,
            "overflow_x": null,
            "overflow_y": null,
            "padding": null,
            "right": null,
            "top": null,
            "visibility": null,
            "width": null
          }
        },
        "83be333bf5b44f2281e3cb7e90020152": {
          "model_module": "@jupyter-widgets/base",
          "model_name": "LayoutModel",
          "model_module_version": "1.2.0",
          "state": {
            "_model_module": "@jupyter-widgets/base",
            "_model_module_version": "1.2.0",
            "_model_name": "LayoutModel",
            "_view_count": null,
            "_view_module": "@jupyter-widgets/base",
            "_view_module_version": "1.2.0",
            "_view_name": "LayoutView",
            "align_content": null,
            "align_items": null,
            "align_self": null,
            "border": null,
            "bottom": null,
            "display": null,
            "flex": null,
            "flex_flow": null,
            "grid_area": null,
            "grid_auto_columns": null,
            "grid_auto_flow": null,
            "grid_auto_rows": null,
            "grid_column": null,
            "grid_gap": null,
            "grid_row": null,
            "grid_template_areas": null,
            "grid_template_columns": null,
            "grid_template_rows": null,
            "height": null,
            "justify_content": null,
            "justify_items": null,
            "left": null,
            "margin": null,
            "max_height": null,
            "max_width": null,
            "min_height": null,
            "min_width": null,
            "object_fit": null,
            "object_position": null,
            "order": null,
            "overflow": null,
            "overflow_x": null,
            "overflow_y": null,
            "padding": null,
            "right": null,
            "top": null,
            "visibility": null,
            "width": null
          }
        },
        "4a3bd4bbf5344178bac6eaf9b61280bb": {
          "model_module": "@jupyter-widgets/controls",
          "model_name": "DescriptionStyleModel",
          "model_module_version": "1.5.0",
          "state": {
            "_model_module": "@jupyter-widgets/controls",
            "_model_module_version": "1.5.0",
            "_model_name": "DescriptionStyleModel",
            "_view_count": null,
            "_view_module": "@jupyter-widgets/base",
            "_view_module_version": "1.2.0",
            "_view_name": "StyleView",
            "description_width": ""
          }
        },
        "b9740deeed46499baf7f7dd551bb5b9e": {
          "model_module": "@jupyter-widgets/base",
          "model_name": "LayoutModel",
          "model_module_version": "1.2.0",
          "state": {
            "_model_module": "@jupyter-widgets/base",
            "_model_module_version": "1.2.0",
            "_model_name": "LayoutModel",
            "_view_count": null,
            "_view_module": "@jupyter-widgets/base",
            "_view_module_version": "1.2.0",
            "_view_name": "LayoutView",
            "align_content": null,
            "align_items": null,
            "align_self": null,
            "border": null,
            "bottom": null,
            "display": null,
            "flex": null,
            "flex_flow": null,
            "grid_area": null,
            "grid_auto_columns": null,
            "grid_auto_flow": null,
            "grid_auto_rows": null,
            "grid_column": null,
            "grid_gap": null,
            "grid_row": null,
            "grid_template_areas": null,
            "grid_template_columns": null,
            "grid_template_rows": null,
            "height": null,
            "justify_content": null,
            "justify_items": null,
            "left": null,
            "margin": null,
            "max_height": null,
            "max_width": null,
            "min_height": null,
            "min_width": null,
            "object_fit": null,
            "object_position": null,
            "order": null,
            "overflow": null,
            "overflow_x": null,
            "overflow_y": null,
            "padding": null,
            "right": null,
            "top": null,
            "visibility": null,
            "width": null
          }
        },
        "60ef7adb6eaf4d4f9d1697b2911ac032": {
          "model_module": "@jupyter-widgets/controls",
          "model_name": "ProgressStyleModel",
          "model_module_version": "1.5.0",
          "state": {
            "_model_module": "@jupyter-widgets/controls",
            "_model_module_version": "1.5.0",
            "_model_name": "ProgressStyleModel",
            "_view_count": null,
            "_view_module": "@jupyter-widgets/base",
            "_view_module_version": "1.2.0",
            "_view_name": "StyleView",
            "bar_color": null,
            "description_width": ""
          }
        },
        "1b56fcea9cf9470ea62487911056101f": {
          "model_module": "@jupyter-widgets/base",
          "model_name": "LayoutModel",
          "model_module_version": "1.2.0",
          "state": {
            "_model_module": "@jupyter-widgets/base",
            "_model_module_version": "1.2.0",
            "_model_name": "LayoutModel",
            "_view_count": null,
            "_view_module": "@jupyter-widgets/base",
            "_view_module_version": "1.2.0",
            "_view_name": "LayoutView",
            "align_content": null,
            "align_items": null,
            "align_self": null,
            "border": null,
            "bottom": null,
            "display": null,
            "flex": null,
            "flex_flow": null,
            "grid_area": null,
            "grid_auto_columns": null,
            "grid_auto_flow": null,
            "grid_auto_rows": null,
            "grid_column": null,
            "grid_gap": null,
            "grid_row": null,
            "grid_template_areas": null,
            "grid_template_columns": null,
            "grid_template_rows": null,
            "height": null,
            "justify_content": null,
            "justify_items": null,
            "left": null,
            "margin": null,
            "max_height": null,
            "max_width": null,
            "min_height": null,
            "min_width": null,
            "object_fit": null,
            "object_position": null,
            "order": null,
            "overflow": null,
            "overflow_x": null,
            "overflow_y": null,
            "padding": null,
            "right": null,
            "top": null,
            "visibility": null,
            "width": null
          }
        },
        "1490f9ef046f47908b7b1f3cdc8bf702": {
          "model_module": "@jupyter-widgets/controls",
          "model_name": "DescriptionStyleModel",
          "model_module_version": "1.5.0",
          "state": {
            "_model_module": "@jupyter-widgets/controls",
            "_model_module_version": "1.5.0",
            "_model_name": "DescriptionStyleModel",
            "_view_count": null,
            "_view_module": "@jupyter-widgets/base",
            "_view_module_version": "1.2.0",
            "_view_name": "StyleView",
            "description_width": ""
          }
        },
        "b15b0ec89ee94f23b42a124d2b94f623": {
          "model_module": "@jupyter-widgets/controls",
          "model_name": "HBoxModel",
          "model_module_version": "1.5.0",
          "state": {
            "_dom_classes": [],
            "_model_module": "@jupyter-widgets/controls",
            "_model_module_version": "1.5.0",
            "_model_name": "HBoxModel",
            "_view_count": null,
            "_view_module": "@jupyter-widgets/controls",
            "_view_module_version": "1.5.0",
            "_view_name": "HBoxView",
            "box_style": "",
            "children": [
              "IPY_MODEL_1641e24702424393b8c0882138754885",
              "IPY_MODEL_5e9c538a6b9c477b8fd52e7e3abcb00e",
              "IPY_MODEL_8008f6b5885a409992020b330a4ce118"
            ],
            "layout": "IPY_MODEL_0cb9dc1d4df54216870a1406e0db6b7a"
          }
        },
        "1641e24702424393b8c0882138754885": {
          "model_module": "@jupyter-widgets/controls",
          "model_name": "HTMLModel",
          "model_module_version": "1.5.0",
          "state": {
            "_dom_classes": [],
            "_model_module": "@jupyter-widgets/controls",
            "_model_module_version": "1.5.0",
            "_model_name": "HTMLModel",
            "_view_count": null,
            "_view_module": "@jupyter-widgets/controls",
            "_view_module_version": "1.5.0",
            "_view_name": "HTMLView",
            "description": "",
            "description_tooltip": null,
            "layout": "IPY_MODEL_683a79d375dd41caa1a7d2965bf73523",
            "placeholder": "​",
            "style": "IPY_MODEL_e198cf72d04d498c92f9099e0c24e777",
            "value": "100%"
          }
        },
        "5e9c538a6b9c477b8fd52e7e3abcb00e": {
          "model_module": "@jupyter-widgets/controls",
          "model_name": "FloatProgressModel",
          "model_module_version": "1.5.0",
          "state": {
            "_dom_classes": [],
            "_model_module": "@jupyter-widgets/controls",
            "_model_module_version": "1.5.0",
            "_model_name": "FloatProgressModel",
            "_view_count": null,
            "_view_module": "@jupyter-widgets/controls",
            "_view_module_version": "1.5.0",
            "_view_name": "ProgressView",
            "bar_style": "success",
            "description": "",
            "description_tooltip": null,
            "layout": "IPY_MODEL_5db73145af594dc59a19b64f96cb312f",
            "max": 4542,
            "min": 0,
            "orientation": "horizontal",
            "style": "IPY_MODEL_b0106624f4884fc8acd835e658224d9a",
            "value": 4542
          }
        },
        "8008f6b5885a409992020b330a4ce118": {
          "model_module": "@jupyter-widgets/controls",
          "model_name": "HTMLModel",
          "model_module_version": "1.5.0",
          "state": {
            "_dom_classes": [],
            "_model_module": "@jupyter-widgets/controls",
            "_model_module_version": "1.5.0",
            "_model_name": "HTMLModel",
            "_view_count": null,
            "_view_module": "@jupyter-widgets/controls",
            "_view_module_version": "1.5.0",
            "_view_name": "HTMLView",
            "description": "",
            "description_tooltip": null,
            "layout": "IPY_MODEL_d9dc8809626c480a96f28659b96df5f5",
            "placeholder": "​",
            "style": "IPY_MODEL_f807eca78ea44da08afb78e2a3bad357",
            "value": " 4542/4542 [00:00&lt;00:00, 257599.71it/s]"
          }
        },
        "0cb9dc1d4df54216870a1406e0db6b7a": {
          "model_module": "@jupyter-widgets/base",
          "model_name": "LayoutModel",
          "model_module_version": "1.2.0",
          "state": {
            "_model_module": "@jupyter-widgets/base",
            "_model_module_version": "1.2.0",
            "_model_name": "LayoutModel",
            "_view_count": null,
            "_view_module": "@jupyter-widgets/base",
            "_view_module_version": "1.2.0",
            "_view_name": "LayoutView",
            "align_content": null,
            "align_items": null,
            "align_self": null,
            "border": null,
            "bottom": null,
            "display": null,
            "flex": null,
            "flex_flow": null,
            "grid_area": null,
            "grid_auto_columns": null,
            "grid_auto_flow": null,
            "grid_auto_rows": null,
            "grid_column": null,
            "grid_gap": null,
            "grid_row": null,
            "grid_template_areas": null,
            "grid_template_columns": null,
            "grid_template_rows": null,
            "height": null,
            "justify_content": null,
            "justify_items": null,
            "left": null,
            "margin": null,
            "max_height": null,
            "max_width": null,
            "min_height": null,
            "min_width": null,
            "object_fit": null,
            "object_position": null,
            "order": null,
            "overflow": null,
            "overflow_x": null,
            "overflow_y": null,
            "padding": null,
            "right": null,
            "top": null,
            "visibility": null,
            "width": null
          }
        },
        "683a79d375dd41caa1a7d2965bf73523": {
          "model_module": "@jupyter-widgets/base",
          "model_name": "LayoutModel",
          "model_module_version": "1.2.0",
          "state": {
            "_model_module": "@jupyter-widgets/base",
            "_model_module_version": "1.2.0",
            "_model_name": "LayoutModel",
            "_view_count": null,
            "_view_module": "@jupyter-widgets/base",
            "_view_module_version": "1.2.0",
            "_view_name": "LayoutView",
            "align_content": null,
            "align_items": null,
            "align_self": null,
            "border": null,
            "bottom": null,
            "display": null,
            "flex": null,
            "flex_flow": null,
            "grid_area": null,
            "grid_auto_columns": null,
            "grid_auto_flow": null,
            "grid_auto_rows": null,
            "grid_column": null,
            "grid_gap": null,
            "grid_row": null,
            "grid_template_areas": null,
            "grid_template_columns": null,
            "grid_template_rows": null,
            "height": null,
            "justify_content": null,
            "justify_items": null,
            "left": null,
            "margin": null,
            "max_height": null,
            "max_width": null,
            "min_height": null,
            "min_width": null,
            "object_fit": null,
            "object_position": null,
            "order": null,
            "overflow": null,
            "overflow_x": null,
            "overflow_y": null,
            "padding": null,
            "right": null,
            "top": null,
            "visibility": null,
            "width": null
          }
        },
        "e198cf72d04d498c92f9099e0c24e777": {
          "model_module": "@jupyter-widgets/controls",
          "model_name": "DescriptionStyleModel",
          "model_module_version": "1.5.0",
          "state": {
            "_model_module": "@jupyter-widgets/controls",
            "_model_module_version": "1.5.0",
            "_model_name": "DescriptionStyleModel",
            "_view_count": null,
            "_view_module": "@jupyter-widgets/base",
            "_view_module_version": "1.2.0",
            "_view_name": "StyleView",
            "description_width": ""
          }
        },
        "5db73145af594dc59a19b64f96cb312f": {
          "model_module": "@jupyter-widgets/base",
          "model_name": "LayoutModel",
          "model_module_version": "1.2.0",
          "state": {
            "_model_module": "@jupyter-widgets/base",
            "_model_module_version": "1.2.0",
            "_model_name": "LayoutModel",
            "_view_count": null,
            "_view_module": "@jupyter-widgets/base",
            "_view_module_version": "1.2.0",
            "_view_name": "LayoutView",
            "align_content": null,
            "align_items": null,
            "align_self": null,
            "border": null,
            "bottom": null,
            "display": null,
            "flex": null,
            "flex_flow": null,
            "grid_area": null,
            "grid_auto_columns": null,
            "grid_auto_flow": null,
            "grid_auto_rows": null,
            "grid_column": null,
            "grid_gap": null,
            "grid_row": null,
            "grid_template_areas": null,
            "grid_template_columns": null,
            "grid_template_rows": null,
            "height": null,
            "justify_content": null,
            "justify_items": null,
            "left": null,
            "margin": null,
            "max_height": null,
            "max_width": null,
            "min_height": null,
            "min_width": null,
            "object_fit": null,
            "object_position": null,
            "order": null,
            "overflow": null,
            "overflow_x": null,
            "overflow_y": null,
            "padding": null,
            "right": null,
            "top": null,
            "visibility": null,
            "width": null
          }
        },
        "b0106624f4884fc8acd835e658224d9a": {
          "model_module": "@jupyter-widgets/controls",
          "model_name": "ProgressStyleModel",
          "model_module_version": "1.5.0",
          "state": {
            "_model_module": "@jupyter-widgets/controls",
            "_model_module_version": "1.5.0",
            "_model_name": "ProgressStyleModel",
            "_view_count": null,
            "_view_module": "@jupyter-widgets/base",
            "_view_module_version": "1.2.0",
            "_view_name": "StyleView",
            "bar_color": null,
            "description_width": ""
          }
        },
        "d9dc8809626c480a96f28659b96df5f5": {
          "model_module": "@jupyter-widgets/base",
          "model_name": "LayoutModel",
          "model_module_version": "1.2.0",
          "state": {
            "_model_module": "@jupyter-widgets/base",
            "_model_module_version": "1.2.0",
            "_model_name": "LayoutModel",
            "_view_count": null,
            "_view_module": "@jupyter-widgets/base",
            "_view_module_version": "1.2.0",
            "_view_name": "LayoutView",
            "align_content": null,
            "align_items": null,
            "align_self": null,
            "border": null,
            "bottom": null,
            "display": null,
            "flex": null,
            "flex_flow": null,
            "grid_area": null,
            "grid_auto_columns": null,
            "grid_auto_flow": null,
            "grid_auto_rows": null,
            "grid_column": null,
            "grid_gap": null,
            "grid_row": null,
            "grid_template_areas": null,
            "grid_template_columns": null,
            "grid_template_rows": null,
            "height": null,
            "justify_content": null,
            "justify_items": null,
            "left": null,
            "margin": null,
            "max_height": null,
            "max_width": null,
            "min_height": null,
            "min_width": null,
            "object_fit": null,
            "object_position": null,
            "order": null,
            "overflow": null,
            "overflow_x": null,
            "overflow_y": null,
            "padding": null,
            "right": null,
            "top": null,
            "visibility": null,
            "width": null
          }
        },
        "f807eca78ea44da08afb78e2a3bad357": {
          "model_module": "@jupyter-widgets/controls",
          "model_name": "DescriptionStyleModel",
          "model_module_version": "1.5.0",
          "state": {
            "_model_module": "@jupyter-widgets/controls",
            "_model_module_version": "1.5.0",
            "_model_name": "DescriptionStyleModel",
            "_view_count": null,
            "_view_module": "@jupyter-widgets/base",
            "_view_module_version": "1.2.0",
            "_view_name": "StyleView",
            "description_width": ""
          }
        }
      }
    }
  },
  "cells": [
    {
      "cell_type": "code",
      "execution_count": 1,
      "metadata": {
        "id": "in0PyicHhZDG"
      },
      "outputs": [],
      "source": [
        "import matplotlib.pyplot as plt\n",
        "import numpy\n",
        "import torch\n",
        "import torch.nn as nn\n",
        "import torchvision.models as models\n",
        "from torchvision import datasets, transforms\n",
        "from torch.utils.data import DataLoader"
      ]
    },
    {
      "cell_type": "code",
      "source": [
        "# архитектура модели\n",
        "# гиперпараметры хз\n",
        "# загрузчик данных\n",
        "# формирование батча\n",
        "# инициализировать модель\n",
        "# оптимизатор\n",
        "# функция потерь\n",
        "# опционально шедулеры\n",
        "# трейн луп"
      ],
      "metadata": {
        "id": "73ieMA485Tme"
      },
      "execution_count": 2,
      "outputs": []
    },
    {
      "cell_type": "code",
      "source": [
        "# hyperparams\n",
        "inp_dim = 28 * 28\n",
        "hidden = 256\n",
        "out_dim = 10\n",
        "device_id = -1\n",
        "device = 'cpu' if device_id == -1 else f'cuda:{device_id}' # 'cuda:0' id GPU\n",
        "n_epochs = 10\n",
        "batch_size = 128"
      ],
      "metadata": {
        "id": "3j8m35o3X9Kk"
      },
      "execution_count": 3,
      "outputs": []
    },
    {
      "cell_type": "code",
      "source": [
        "transform = transforms.Compose(\n",
        "    [transforms.ToTensor(),\n",
        "     transforms.Normalize((0.5), (0.5)),\n",
        "     ])\n",
        "\n",
        "# зашружаем тренировочный сет\n",
        "dataset_train = datasets.MNIST('.', \n",
        "                               train=True,            \n",
        "                               download=True, \n",
        "                               transform=transform)\n",
        "\n",
        "dataset_test = datasets.MNIST('.', \n",
        "                              train=False,\n",
        "                              download=True, \n",
        "                              transform=transform)\n"
      ],
      "metadata": {
        "id": "SI8UCZuy7hTK",
        "colab": {
          "base_uri": "https://localhost:8080/",
          "height": 423,
          "referenced_widgets": [
            "9f015773099f4512a0b50a8d55df5b3a",
            "2a8c6a6982d94ea3a4f4300526d55eaa",
            "8b5bf343f07847deb48deba93b8c3713",
            "bf413b1d5d204289a944dc5c9f9a805c",
            "e208a868041545ff9e32d75960669643",
            "4744132acbee46ffa3404f5550c50d50",
            "88fb1b555fc94ee09dca15d16cb73aa1",
            "072991adfaf047d39aa60d13afc10fc7",
            "842490f454e642cf8c6cad7632322d7b",
            "3b4e85bbd4464c44bd734b3be2f7e686",
            "8312591e0a86474fbc75b02c8f3034e3",
            "5d862edab9414226b9be71372bd7736a",
            "99f6b95b44934e48b0d60ce226133939",
            "b558d7b08ce44779a66d5399d7f08d96",
            "419d1e5eba3a4e2bb0ce8d2c8d5860bd",
            "39f124d0e9bd447887d6423fce7fa104",
            "06bf0e58e0c243d88fb21906955682d4",
            "f583178879cb4d2f84aad5e0a41ff676",
            "46312f2305c542fa8c1d0d246809f247",
            "1a960fc4559944b4827be81664985196",
            "5d03d8dd540b40b1ad7ad1eeacc90b23",
            "aafb60d8ec6a4d629973b177d1c5a294",
            "389a67623f954ab2a0b66f8f39e83332",
            "b242e969ed564b1682d2bca5e2027a3f",
            "72c4f6c2db69455ba47d6073ca0e5ccc",
            "fecd6e538dbc4df980e69fca09d53e1a",
            "a06bfc625b3c41caa5cd8372aa479d8d",
            "83be333bf5b44f2281e3cb7e90020152",
            "4a3bd4bbf5344178bac6eaf9b61280bb",
            "b9740deeed46499baf7f7dd551bb5b9e",
            "60ef7adb6eaf4d4f9d1697b2911ac032",
            "1b56fcea9cf9470ea62487911056101f",
            "1490f9ef046f47908b7b1f3cdc8bf702",
            "b15b0ec89ee94f23b42a124d2b94f623",
            "1641e24702424393b8c0882138754885",
            "5e9c538a6b9c477b8fd52e7e3abcb00e",
            "8008f6b5885a409992020b330a4ce118",
            "0cb9dc1d4df54216870a1406e0db6b7a",
            "683a79d375dd41caa1a7d2965bf73523",
            "e198cf72d04d498c92f9099e0c24e777",
            "5db73145af594dc59a19b64f96cb312f",
            "b0106624f4884fc8acd835e658224d9a",
            "d9dc8809626c480a96f28659b96df5f5",
            "f807eca78ea44da08afb78e2a3bad357"
          ]
        },
        "outputId": "0044a80c-be20-455e-9e8f-3d9f65278370"
      },
      "execution_count": 4,
      "outputs": [
        {
          "output_type": "stream",
          "name": "stdout",
          "text": [
            "Downloading http://yann.lecun.com/exdb/mnist/train-images-idx3-ubyte.gz\n",
            "Downloading http://yann.lecun.com/exdb/mnist/train-images-idx3-ubyte.gz to ./MNIST/raw/train-images-idx3-ubyte.gz\n"
          ]
        },
        {
          "output_type": "display_data",
          "data": {
            "text/plain": [
              "  0%|          | 0/9912422 [00:00<?, ?it/s]"
            ],
            "application/vnd.jupyter.widget-view+json": {
              "version_major": 2,
              "version_minor": 0,
              "model_id": "9f015773099f4512a0b50a8d55df5b3a"
            }
          },
          "metadata": {}
        },
        {
          "output_type": "stream",
          "name": "stdout",
          "text": [
            "Extracting ./MNIST/raw/train-images-idx3-ubyte.gz to ./MNIST/raw\n",
            "\n",
            "Downloading http://yann.lecun.com/exdb/mnist/train-labels-idx1-ubyte.gz\n",
            "Downloading http://yann.lecun.com/exdb/mnist/train-labels-idx1-ubyte.gz to ./MNIST/raw/train-labels-idx1-ubyte.gz\n"
          ]
        },
        {
          "output_type": "display_data",
          "data": {
            "text/plain": [
              "  0%|          | 0/28881 [00:00<?, ?it/s]"
            ],
            "application/vnd.jupyter.widget-view+json": {
              "version_major": 2,
              "version_minor": 0,
              "model_id": "5d862edab9414226b9be71372bd7736a"
            }
          },
          "metadata": {}
        },
        {
          "output_type": "stream",
          "name": "stdout",
          "text": [
            "Extracting ./MNIST/raw/train-labels-idx1-ubyte.gz to ./MNIST/raw\n",
            "\n",
            "Downloading http://yann.lecun.com/exdb/mnist/t10k-images-idx3-ubyte.gz\n",
            "Downloading http://yann.lecun.com/exdb/mnist/t10k-images-idx3-ubyte.gz to ./MNIST/raw/t10k-images-idx3-ubyte.gz\n"
          ]
        },
        {
          "output_type": "display_data",
          "data": {
            "text/plain": [
              "  0%|          | 0/1648877 [00:00<?, ?it/s]"
            ],
            "application/vnd.jupyter.widget-view+json": {
              "version_major": 2,
              "version_minor": 0,
              "model_id": "389a67623f954ab2a0b66f8f39e83332"
            }
          },
          "metadata": {}
        },
        {
          "output_type": "stream",
          "name": "stdout",
          "text": [
            "Extracting ./MNIST/raw/t10k-images-idx3-ubyte.gz to ./MNIST/raw\n",
            "\n",
            "Downloading http://yann.lecun.com/exdb/mnist/t10k-labels-idx1-ubyte.gz\n",
            "Downloading http://yann.lecun.com/exdb/mnist/t10k-labels-idx1-ubyte.gz to ./MNIST/raw/t10k-labels-idx1-ubyte.gz\n"
          ]
        },
        {
          "output_type": "display_data",
          "data": {
            "text/plain": [
              "  0%|          | 0/4542 [00:00<?, ?it/s]"
            ],
            "application/vnd.jupyter.widget-view+json": {
              "version_major": 2,
              "version_minor": 0,
              "model_id": "b15b0ec89ee94f23b42a124d2b94f623"
            }
          },
          "metadata": {}
        },
        {
          "output_type": "stream",
          "name": "stdout",
          "text": [
            "Extracting ./MNIST/raw/t10k-labels-idx1-ubyte.gz to ./MNIST/raw\n",
            "\n"
          ]
        }
      ]
    },
    {
      "cell_type": "code",
      "source": [
        "dataset_train"
      ],
      "metadata": {
        "colab": {
          "base_uri": "https://localhost:8080/"
        },
        "id": "dhJuBtoz7f43",
        "outputId": "b13b43c5-755e-4c3d-e763-02a64d6d8b2a"
      },
      "execution_count": 5,
      "outputs": [
        {
          "output_type": "execute_result",
          "data": {
            "text/plain": [
              "Dataset MNIST\n",
              "    Number of datapoints: 60000\n",
              "    Root location: .\n",
              "    Split: Train\n",
              "    StandardTransform\n",
              "Transform: Compose(\n",
              "               ToTensor()\n",
              "               Normalize(mean=0.5, std=0.5)\n",
              "           )"
            ]
          },
          "metadata": {},
          "execution_count": 5
        }
      ]
    },
    {
      "cell_type": "code",
      "source": [
        "dataset_test"
      ],
      "metadata": {
        "colab": {
          "base_uri": "https://localhost:8080/"
        },
        "id": "RZVJ3iaC7WJA",
        "outputId": "42f801ef-ea3d-4751-921f-08f352339a6a"
      },
      "execution_count": 6,
      "outputs": [
        {
          "output_type": "execute_result",
          "data": {
            "text/plain": [
              "Dataset MNIST\n",
              "    Number of datapoints: 10000\n",
              "    Root location: .\n",
              "    Split: Test\n",
              "    StandardTransform\n",
              "Transform: Compose(\n",
              "               ToTensor()\n",
              "               Normalize(mean=0.5, std=0.5)\n",
              "           )"
            ]
          },
          "metadata": {},
          "execution_count": 6
        }
      ]
    },
    {
      "cell_type": "code",
      "source": [
        "plt.imshow(dataset_train.data[1].detach().numpy(), cmap='gray')\n",
        "plt.show()"
      ],
      "metadata": {
        "colab": {
          "base_uri": "https://localhost:8080/",
          "height": 265
        },
        "id": "0zXXXYP37gFL",
        "outputId": "fe7de2f3-284d-4c37-bc44-756c19474348"
      },
      "execution_count": 7,
      "outputs": [
        {
          "output_type": "display_data",
          "data": {
            "text/plain": [
              "<Figure size 432x288 with 1 Axes>"
            ],
            "image/png": "[encoded data removed]"
          },
          "metadata": {
            "needs_background": "light"
          }
        }
      ]
    },
    {
      "cell_type": "code",
      "source": [
        "figure = plt.figure(figsize=(10, 8))\n",
        "cols, rows = 5, 5\n",
        "for i in range(1, cols * rows + 1):\n",
        " sample_idx = torch.randint(len(dataset_train), size=(1,)).item()\n",
        " img, label = dataset_train[sample_idx]\n",
        " figure.add_subplot(rows, cols, i)\n",
        " plt.title(label)\n",
        " plt.axis(\"off\")\n",
        " plt.imshow(img.squeeze(), cmap=\"gray\")\n",
        "plt.show()"
      ],
      "metadata": {
        "colab": {
          "base_uri": "https://localhost:8080/",
          "height": 482
        },
        "id": "7Ml_9cu64dt6",
        "outputId": "8b8374bb-e6c6-44da-9af9-6c80f0b6bf38"
      },
      "execution_count": 9,
      "outputs": [
        {
          "output_type": "display_data",
          "data": {
            "text/plain": [
              "<Figure size 720x576 with 25 Axes>"
            ],
            "image/png": "[encoded data removed]"
          },
          "metadata": {
            "needs_background": "light"
          }
        }
      ]
    },
    {
      "cell_type": "code",
      "source": [
        "plt.imshow(dataset_test.data[1].detach().numpy())\n",
        "plt.show()"
      ],
      "metadata": {
        "colab": {
          "base_uri": "https://localhost:8080/",
          "height": 265
        },
        "id": "67A1iizN8x1V",
        "outputId": "220f8648-8bae-4141-a4a7-b7dd57967f0b"
      },
      "execution_count": 8,
      "outputs": [
        {
          "output_type": "display_data",
          "data": {
            "text/plain": [
              "<Figure size 432x288 with 1 Axes>"
            ],
            "image/png": "[encoded data removed]"
          },
          "metadata": {
            "needs_background": "light"
          }
        }
      ]
    },
    {
      "cell_type": "code",
      "source": [
        "class LinearModel(nn.Module):\n",
        "    def __init__(self, input_dim, hidden_dim, output_dim, dropout_p=0.1):\n",
        "        super().__init__()\n",
        "        self.linear1 = nn.Linear(input_dim, hidden_dim)\n",
        "        # custom init nn.init.xavier_uniform(self.linear1.weight) \n",
        "        self.do = nn.Dropout(dropout_p)\n",
        "        self.linear2 = nn.Linear(hidden_dim, output_dim)\n",
        "        self.activ = nn.ReLU()\n",
        "\n",
        "    def forward(self, x):\n",
        "        x = self.linear1(x)\n",
        "        x = self.activ(x)\n",
        "        x = self.do(x)\n",
        "        x = self.linear2(x)\n",
        "\n",
        "        return x\n"
      ],
      "metadata": {
        "id": "LdAH7oiY8Mxv"
      },
      "execution_count": 10,
      "outputs": []
    },
    {
      "cell_type": "code",
      "source": [
        "# Как формируется батч\n",
        "# dataloader берет из Samler набор индексов и по этим индексам получает элементы из Dataset\n",
        "dataset_train = datasets.MNIST('.', train=True, download=True)\n",
        "\n",
        "def collate_fn(data: list):\n",
        "    # data = [(pic, target)...]\n",
        "    pics = []\n",
        "    targets = []\n",
        "    for item in data:\n",
        "        pics.append(numpy.array(item[0]))\n",
        "        targets.append(item[1])\n",
        "    pics = torch.from_numpy(numpy.array(pics)).float() / 255\n",
        "    pics = pics.view(pics.size(0), -1) # mtx 28x28 to vec 7xx\n",
        "    targets = torch.from_numpy(numpy.array(targets))\n",
        "\n",
        "    return {\n",
        "        'data': pics,\n",
        "        'target': targets,\n",
        "    }"
      ],
      "metadata": {
        "id": "8nN5YnYrcv6s"
      },
      "execution_count": 11,
      "outputs": []
    },
    {
      "cell_type": "code",
      "source": [
        "dataloader_train = DataLoader(dataset_train, \n",
        "                        batch_size, \n",
        "                        shuffle=True, \n",
        "                        collate_fn=collate_fn,\n",
        "                        drop_last = True,\n",
        "                        )"
      ],
      "metadata": {
        "id": "aImjm1_u8NR8"
      },
      "execution_count": 12,
      "outputs": []
    },
    {
      "cell_type": "code",
      "source": [
        "dataset_test = datasets.MNIST('.', train=False, download=True)\n",
        "\n",
        "def collate_fn(data: list):\n",
        "    # data = [(pic, target)...]\n",
        "    pics = []\n",
        "    targets = []\n",
        "    for item in data:\n",
        "        pics.append(numpy.array(item[0]))\n",
        "        targets.append(item[1])\n",
        "    pics = torch.from_numpy(numpy.array(pics)).float() / 255\n",
        "    pics = pics.view(pics.size(0), -1) # mtx 28x28 to vec 7xx\n",
        "    targets = torch.from_numpy(numpy.array(targets))\n",
        "\n",
        "    return {\n",
        "        'data': pics,\n",
        "        'target': targets,\n",
        "    }"
      ],
      "metadata": {
        "id": "uPJauY4hAqJ6"
      },
      "execution_count": 13,
      "outputs": []
    },
    {
      "cell_type": "code",
      "source": [
        "# 60000 // 128 # число шагов"
      ],
      "metadata": {
        "id": "Ksavnku-905W"
      },
      "execution_count": null,
      "outputs": []
    },
    {
      "cell_type": "code",
      "source": [
        "dataloader_test = DataLoader(dataset_test, \n",
        "                        batch_size, \n",
        "                        shuffle=True, \n",
        "                        collate_fn=collate_fn,\n",
        "                        drop_last = True,\n",
        "                        )"
      ],
      "metadata": {
        "id": "7XVEKUFLBj2g"
      },
      "execution_count": 14,
      "outputs": []
    },
    {
      "cell_type": "code",
      "source": [
        "model = LinearModel(inp_dim, hidden, out_dim).to(device)\n",
        "optim = torch.optim.Adam(model.parameters())\n",
        "loss_func = nn.CrossEntropyLoss()"
      ],
      "metadata": {
        "id": "_fdZfq9C9zO2"
      },
      "execution_count": 15,
      "outputs": []
    },
    {
      "cell_type": "code",
      "source": [
        "for epoch in range(n_epochs):\n",
        "    # train model\n",
        "    model.train()\n",
        "    for i, batch in enumerate(dataloader_train):\n",
        "        optim.zero_grad()\n",
        "\n",
        "        predict = model(batch['data'].to(device))\n",
        "        loss = loss_func(predict, batch['target'].to(device))\n",
        "        loss.backward()\n",
        "        optim.step()\n",
        "        if i % 200 == 0:\n",
        "            print(f'epoch: {epoch}, step: {i}, loss: {loss.item()}')\n",
        "\n",
        "    # test model\n",
        "    model.eval()\n",
        "    for i, batch in enumerate(dataloader_test):\n",
        "              inputs, labels = batch\n",
        "              loss_test = 0\n",
        "              with torch.no_grad():\n",
        "                  predict = model(batch['data'].to(device))\n",
        "                  loss_test += loss_func(predict, batch['target'].to(device))\n",
        "    print('test loss:', loss_test / i)\n",
        "    \n",
        "    #save every epoch\n",
        "    torch.save(model.state_dict(), f'./chkpt_cv1_{epoch}.pth')"
      ],
      "metadata": {
        "colab": {
          "base_uri": "https://localhost:8080/"
        },
        "id": "Hb4JeOHta5HR",
        "outputId": "122ecf30-6161-4119-dd01-8a962b9ddeda"
      },
      "execution_count": 16,
      "outputs": [
        {
          "output_type": "stream",
          "name": "stdout",
          "text": [
            "epoch: 0, step: 0, loss: 2.2853968143463135\n",
            "epoch: 0, step: 200, loss: 0.2616434395313263\n",
            "epoch: 0, step: 400, loss: 0.145716592669487\n",
            "test loss: tensor(0.0015)\n",
            "epoch: 1, step: 0, loss: 0.26671546697616577\n",
            "epoch: 1, step: 200, loss: 0.08759607374668121\n",
            "epoch: 1, step: 400, loss: 0.12503257393836975\n",
            "test loss: tensor(0.0018)\n",
            "epoch: 2, step: 0, loss: 0.12602663040161133\n",
            "epoch: 2, step: 200, loss: 0.07422319799661636\n",
            "epoch: 2, step: 400, loss: 0.08289112150669098\n",
            "test loss: tensor(0.0021)\n",
            "epoch: 3, step: 0, loss: 0.07569771260023117\n",
            "epoch: 3, step: 200, loss: 0.11077646166086197\n",
            "epoch: 3, step: 400, loss: 0.04930879920721054\n",
            "test loss: tensor(0.0015)\n",
            "epoch: 4, step: 0, loss: 0.07244500517845154\n",
            "epoch: 4, step: 200, loss: 0.07062747329473495\n",
            "epoch: 4, step: 400, loss: 0.09009288251399994\n",
            "test loss: tensor(0.0011)\n",
            "epoch: 5, step: 0, loss: 0.01937379129230976\n",
            "epoch: 5, step: 200, loss: 0.06694533675909042\n",
            "epoch: 5, step: 400, loss: 0.09438925236463547\n",
            "test loss: tensor(0.0023)\n",
            "epoch: 6, step: 0, loss: 0.015744859352707863\n",
            "epoch: 6, step: 200, loss: 0.027318477630615234\n",
            "epoch: 6, step: 400, loss: 0.019274650141596794\n",
            "test loss: tensor(0.0005)\n",
            "epoch: 7, step: 0, loss: 0.06434820592403412\n",
            "epoch: 7, step: 200, loss: 0.016419673338532448\n",
            "epoch: 7, step: 400, loss: 0.03587423637509346\n",
            "test loss: tensor(0.0003)\n",
            "epoch: 8, step: 0, loss: 0.03269599378108978\n",
            "epoch: 8, step: 200, loss: 0.03852183371782303\n",
            "epoch: 8, step: 400, loss: 0.022973839193582535\n",
            "test loss: tensor(0.0022)\n",
            "epoch: 9, step: 0, loss: 0.006015710532665253\n",
            "epoch: 9, step: 200, loss: 0.02012893743813038\n",
            "epoch: 9, step: 400, loss: 0.013383486308157444\n",
            "test loss: tensor(0.0003)\n"
          ]
        }
      ]
    },
    {
      "cell_type": "code",
      "source": [
        "i=1\n",
        "image = dataset_test.data[i].detach().numpy()\n",
        "data = dataset_test.data[i].unsqueeze(0).view(1, -1).to(device).float()\n",
        "target = dataset_test.targets[i].tolist()\n",
        "model.eval()\n",
        "plt.imshow(image)\n",
        "plt.show()\n",
        "predict = torch.argmax(model(data)).squeeze().cpu().detach().tolist()\n",
        "print(f\"predict: {predict}\")\n",
        "print(f\"true:    {target}\")"
      ],
      "metadata": {
        "id": "LrFp13N8a42d",
        "colab": {
          "base_uri": "https://localhost:8080/",
          "height": 300
        },
        "outputId": "2a75a1fb-4de4-4fd4-83b1-fd32a64e27ba"
      },
      "execution_count": 17,
      "outputs": [
        {
          "output_type": "display_data",
          "data": {
            "text/plain": [
              "<Figure size 432x288 with 1 Axes>"
            ],
            "image/png": "[encoded data removed]"
          },
          "metadata": {
            "needs_background": "light"
          }
        },
        {
          "output_type": "stream",
          "name": "stdout",
          "text": [
            "predict: 2\n",
            "true:    2\n"
          ]
        }
      ]
    },
    {
      "cell_type": "code",
      "source": [
        "class LinearModel1(nn.Module):\n",
        "    def __init__(self, input_dim, hidden_dim, output_dim, dropout_p=0.1):\n",
        "        super().__init__()\n",
        "        self.linear1 = nn.Linear(input_dim, hidden_dim)\n",
        "        self.do1 = nn.Dropout(dropout_p)\n",
        "        self.act1 = nn.ReLU()\n",
        "        self.linear2 = nn.Linear(hidden_dim, hidden_dim // 2)\n",
        "        self.do2 = nn.Dropout(dropout_p)\n",
        "        self.act2 = nn.ReLU()\n",
        "        self.linear3 = nn.Linear(hidden_dim // 2, output_dim)\n",
        "\n",
        "    def forward(self, X):\n",
        "        X = self.act1(self.do1(self.linear1(X)))\n",
        "        X = self.act2(self.do2(self.linear2(X)))\n",
        "        X = self.linear3(X)\n",
        "\n",
        "        return X\n",
        "     "
      ],
      "metadata": {
        "id": "WHnW07TPLLdS"
      },
      "execution_count": 18,
      "outputs": []
    },
    {
      "cell_type": "code",
      "source": [
        "model1 = LinearModel1(inp_dim, hidden, out_dim).to(device)\n",
        "optim = torch.optim.Adam(model1.parameters())\n",
        "loss_func = nn.CrossEntropyLoss()"
      ],
      "metadata": {
        "id": "UiQOtbFyLLnK"
      },
      "execution_count": 19,
      "outputs": []
    },
    {
      "cell_type": "code",
      "source": [
        "for epoch in range(n_epochs):\n",
        "    # train model\n",
        "    model1.train()\n",
        "    for i, batch in enumerate(dataloader_train):\n",
        "        optim.zero_grad()\n",
        "\n",
        "        predict = model1(batch['data'].to(device))\n",
        "        loss = loss_func(predict, batch['target'].to(device))\n",
        "        loss.backward()\n",
        "        optim.step()\n",
        "        if i % 200 == 0:\n",
        "            print(f'epoch: {epoch}, step: {i}, loss: {loss.item()}')\n",
        "\n",
        "    # test model\n",
        "    model1.eval()\n",
        "    for i, batch in enumerate(dataloader_test):\n",
        "              inputs, labels = batch\n",
        "              loss_test = 0\n",
        "              with torch.no_grad():\n",
        "                  predict = model1(batch['data'].to(device))\n",
        "                  loss_test += loss_func(predict, batch['target'].to(device))\n",
        "    print('test loss:', loss_test.item() / i)\n",
        "    \n",
        "    #save every epoch\n",
        "    torch.save(model.state_dict(), f'./chkpt_cv1_{epoch}.pth')"
      ],
      "metadata": {
        "colab": {
          "base_uri": "https://localhost:8080/"
        },
        "id": "dFpN2Dw6LLql",
        "outputId": "76322ae7-7c04-42a5-e8f4-dc47ae592bec"
      },
      "execution_count": 22,
      "outputs": [
        {
          "output_type": "stream",
          "name": "stdout",
          "text": [
            "epoch: 0, step: 0, loss: 0.025547949597239494\n",
            "epoch: 0, step: 200, loss: 0.029750842601060867\n",
            "epoch: 0, step: 400, loss: 0.028345713391900063\n",
            "test loss: 0.0011733768435267659\n",
            "epoch: 1, step: 0, loss: 0.003367712954059243\n",
            "epoch: 1, step: 200, loss: 0.04249042272567749\n",
            "epoch: 1, step: 400, loss: 0.04066157713532448\n",
            "test loss: 0.004402094073109813\n",
            "epoch: 2, step: 0, loss: 0.026228496804833412\n",
            "epoch: 2, step: 200, loss: 0.010946211405098438\n",
            "epoch: 2, step: 400, loss: 0.009774645790457726\n",
            "test loss: 0.0004081266944284563\n",
            "epoch: 3, step: 0, loss: 0.01930265501141548\n",
            "epoch: 3, step: 200, loss: 0.022559301927685738\n",
            "epoch: 3, step: 400, loss: 0.005721476394683123\n",
            "test loss: 0.0011480388703284325\n",
            "epoch: 4, step: 0, loss: 0.008627270348370075\n",
            "epoch: 4, step: 200, loss: 0.03212476521730423\n",
            "epoch: 4, step: 400, loss: 0.011340392753481865\n",
            "test loss: 0.0020089546194324245\n",
            "epoch: 5, step: 0, loss: 0.014009792357683182\n",
            "epoch: 5, step: 200, loss: 0.030291419476270676\n",
            "epoch: 5, step: 400, loss: 0.009675631299614906\n",
            "test loss: 0.001445256754175409\n",
            "epoch: 6, step: 0, loss: 0.008720277808606625\n",
            "epoch: 6, step: 200, loss: 0.0023483603727072477\n",
            "epoch: 6, step: 400, loss: 0.0029590337071567774\n",
            "test loss: 0.00155862517558135\n",
            "epoch: 7, step: 0, loss: 0.012079255655407906\n",
            "epoch: 7, step: 200, loss: 0.01301121897995472\n",
            "epoch: 7, step: 400, loss: 0.0019325893372297287\n",
            "test loss: 0.002291636033491655\n",
            "epoch: 8, step: 0, loss: 0.04079845920205116\n",
            "epoch: 8, step: 200, loss: 0.00548674026504159\n",
            "epoch: 8, step: 400, loss: 0.007296401541680098\n",
            "test loss: 0.0017405452279301433\n",
            "epoch: 9, step: 0, loss: 0.0035471792798489332\n",
            "epoch: 9, step: 200, loss: 0.006480804178863764\n",
            "epoch: 9, step: 400, loss: 0.006043021101504564\n",
            "test loss: 0.001235664277881771\n"
          ]
        }
      ]
    },
    {
      "cell_type": "code",
      "source": [
        "i=1\n",
        "image = dataset_test.data[i].detach().numpy()\n",
        "data = dataset_test.data[i].unsqueeze(0).view(1, -1).to(device).float()\n",
        "target = dataset_test.targets[i].tolist()\n",
        "model1.eval()\n",
        "plt.imshow(image)\n",
        "plt.show()\n",
        "predict = torch.argmax(model1(data)).squeeze().cpu().detach().tolist()\n",
        "print(f\"predict: {predict}\")\n",
        "print(f\"true:    {target}\")"
      ],
      "metadata": {
        "colab": {
          "base_uri": "https://localhost:8080/",
          "height": 300
        },
        "id": "P6AwLovnLLuD",
        "outputId": "4545a55e-abc6-40f6-9446-24f173e8912a"
      },
      "execution_count": 21,
      "outputs": [
        {
          "output_type": "display_data",
          "data": {
            "text/plain": [
              "<Figure size 432x288 with 1 Axes>"
            ],
            "image/png": "[encoded data removed]"
          },
          "metadata": {
            "needs_background": "light"
          }
        },
        {
          "output_type": "stream",
          "name": "stdout",
          "text": [
            "predict: 2\n",
            "true:    2\n"
          ]
        }
      ]
    },
    {
      "cell_type": "markdown",
      "source": [
        "# Новый раздел"
      ],
      "metadata": {
        "id": "KzR-Z2IDGD7H"
      }
    },
    {
      "cell_type": "code",
      "source": [
        "# hyperparams\n",
        "input_ch = 1\n",
        "hidden_ch = 128\n",
        "out_dim = 10\n",
        "device_id = 0\n",
        "device = 'cpu' if device_id == -1 else f'cuda:{device_id}'\n",
        "n_epochs = 10\n",
        "batch_size = 128"
      ],
      "metadata": {
        "id": "W93UplWPZf0T"
      },
      "execution_count": 23,
      "outputs": []
    },
    {
      "cell_type": "code",
      "source": [
        "class ConvDO(nn.Module):\n",
        "    def __init__(self, input_ch, output_ch, kernel_size, stride, padding, \n",
        "                 dropout_p=0.1):\n",
        "        super().__init__()\n",
        "        self.conv = nn.Conv2d(\n",
        "            input_ch, \n",
        "            output_ch, \n",
        "            kernel_size=kernel_size,\n",
        "            stride=stride,\n",
        "            padding=padding, \n",
        "        )\n",
        "        # TODO добавить батч норм\n",
        "        self.do = nn.Dropout(dropout_p)\n",
        "\n",
        "    def forward(self, x):\n",
        "\n",
        "        return self.do(self.conv(x))\n",
        "\n",
        "class ConvModel(nn.Module):\n",
        "    def __init__(self, input_ch, hidden_ch, output_dim, dropout_p=0.1):\n",
        "        super().__init__()\n",
        "        self.conv1 = ConvDO(input_ch, hidden_ch, 5, 2, 2) # уменьшим размер выходной фичматрицы в 2 раза\n",
        "        # TODO еще уменьшить размер фичматрицы\n",
        "        self.conv2 = ConvDO(hidden_ch, hidden_ch, 3, 1, 1)\n",
        "        # TODO увеличить число выходных каналов\n",
        "        self.conv3 = ConvDO(hidden_ch, 1, 3, 1, 1)\n",
        "        self.linear = nn.Linear(\n",
        "            14 * 14, # TODO поправить при изменении числа каналов и размера фич матриц\n",
        "            output_dim,\n",
        "        )  \n",
        "        self.activ = nn.ReLU()    \n",
        "\n",
        "    def forward(self, x):\n",
        "        x = self.activ(self.conv1(x))\n",
        "        x = self.pool(x)\n",
        "        x = self.activ(self.conv2(x))\n",
        "        x = self.activ(self.conv3(x))\n",
        "        x = self.linear(x.view(x.size(0), -1))\n",
        "\n",
        "        return x"
      ],
      "metadata": {
        "id": "RYVsEjc-H1hQ"
      },
      "execution_count": 61,
      "outputs": []
    },
    {
      "cell_type": "code",
      "source": [
        "transform = transforms.Compose(\n",
        "    [transforms.ToTensor(),\n",
        "     transforms.Normalize((0.5), (0.5)),\n",
        "     ])\n",
        "\n",
        "# зашружаем тренировочный сет\n",
        "dataset_train = datasets.MNIST('.', \n",
        "                               train=True,            \n",
        "                               download=True, \n",
        "                               transform=transform)\n",
        "\n",
        "dataset_test = datasets.MNIST('.', \n",
        "                              train=False,\n",
        "                              download=True, \n",
        "                              transform=transform)"
      ],
      "metadata": {
        "id": "QgCm0j_99gY3"
      },
      "execution_count": 25,
      "outputs": []
    },
    {
      "cell_type": "code",
      "source": [
        "trainloader = torch.utils.data.DataLoader(dataset_train, \n",
        "                                          batch_size=batch_size,\n",
        "                                          shuffle=True, \n",
        "                                          num_workers=2, \n",
        "                                          drop_last = True,)\n",
        "\n",
        "testloader = torch.utils.data.DataLoader(dataset_test, \n",
        "                                          batch_size=batch_size,\n",
        "                                          shuffle=True, \n",
        "                                          num_workers=2, \n",
        "                                          drop_last = True,)"
      ],
      "metadata": {
        "id": "K_PACmDaH8Z7"
      },
      "execution_count": 26,
      "outputs": []
    },
    {
      "cell_type": "code",
      "source": [
        "model_conv = ConvModel(input_ch, hidden_ch, out_dim).to(device)\n",
        "optim = torch.optim.Adam(model_conv.parameters())\n",
        "loss_func = nn.CrossEntropyLoss()"
      ],
      "metadata": {
        "id": "a4gX5zVDIZdu"
      },
      "execution_count": 27,
      "outputs": []
    },
    {
      "cell_type": "code",
      "source": [
        "for epoch in range(n_epochs):\n",
        "    #train model\n",
        "    model_conv.train()\n",
        "    for i, batch in enumerate(trainloader):\n",
        "        inputs, labels = batch\n",
        "        optim.zero_grad()\n",
        "\n",
        "        predict = model_conv(inputs.to(device))\n",
        "        loss = loss_func(predict, labels.to(device))\n",
        "        loss.backward()\n",
        "        optim.step()\n",
        "        if i % 200 == 0:\n",
        "            print(f'epoch: {epoch}, step: {i}, loss: {loss.item()}')\n",
        "    \n",
        "    #test model\n",
        "    model_conv.eval()\n",
        "    for i, batch in enumerate(testloader):\n",
        "        inputs, labels = batch\n",
        "        loss_test = 0\n",
        "        with torch.no_grad():\n",
        "            predict = model_conv(inputs.to(device))\n",
        "            loss_test += loss_func(predict, labels.to(device))\n",
        "    \n",
        "    print('test loss:', loss_test / i)\n",
        "    \n",
        "    #save every epoch\n",
        "    torch.save(model_conv.state_dict(), f'./chkpt_cv1_conv_{epoch}.pth')\n"
      ],
      "metadata": {
        "colab": {
          "base_uri": "https://localhost:8080/"
        },
        "id": "jVX0P0otIk4D",
        "outputId": "d458b9f5-0df9-4a4d-9d60-a81c9db68a2f"
      },
      "execution_count": 28,
      "outputs": [
        {
          "output_type": "stream",
          "name": "stdout",
          "text": [
            "epoch: 0, step: 0, loss: 2.2934694290161133\n",
            "epoch: 0, step: 200, loss: 0.34279605746269226\n",
            "epoch: 0, step: 400, loss: 0.29226019978523254\n",
            "test loss: tensor(0.0022, device='cuda:0')\n",
            "epoch: 1, step: 0, loss: 0.09820900857448578\n",
            "epoch: 1, step: 200, loss: 0.10948328673839569\n",
            "epoch: 1, step: 400, loss: 0.16918309032917023\n",
            "test loss: tensor(0.0014, device='cuda:0')\n",
            "epoch: 2, step: 0, loss: 0.15241171419620514\n",
            "epoch: 2, step: 200, loss: 0.08216961473226547\n",
            "epoch: 2, step: 400, loss: 0.11621838808059692\n",
            "test loss: tensor(0.0010, device='cuda:0')\n",
            "epoch: 3, step: 0, loss: 0.04892957583069801\n",
            "epoch: 3, step: 200, loss: 0.09689443558454514\n",
            "epoch: 3, step: 400, loss: 0.07678675651550293\n",
            "test loss: tensor(0.0007, device='cuda:0')\n",
            "epoch: 4, step: 0, loss: 0.1876034438610077\n",
            "epoch: 4, step: 200, loss: 0.15658974647521973\n",
            "epoch: 4, step: 400, loss: 0.057437676936388016\n",
            "test loss: tensor(0.0007, device='cuda:0')\n",
            "epoch: 5, step: 0, loss: 0.05136842280626297\n",
            "epoch: 5, step: 200, loss: 0.07919743657112122\n",
            "epoch: 5, step: 400, loss: 0.05804192274808884\n",
            "test loss: tensor(0.0004, device='cuda:0')\n",
            "epoch: 6, step: 0, loss: 0.04404512420296669\n",
            "epoch: 6, step: 200, loss: 0.0340869203209877\n",
            "epoch: 6, step: 400, loss: 0.12462244927883148\n",
            "test loss: tensor(0.0002, device='cuda:0')\n",
            "epoch: 7, step: 0, loss: 0.07542401552200317\n",
            "epoch: 7, step: 200, loss: 0.07143990695476532\n",
            "epoch: 7, step: 400, loss: 0.14616847038269043\n",
            "test loss: tensor(0.0003, device='cuda:0')\n",
            "epoch: 8, step: 0, loss: 0.019516242668032646\n",
            "epoch: 8, step: 200, loss: 0.11643560975790024\n",
            "epoch: 8, step: 400, loss: 0.017717665061354637\n",
            "test loss: tensor(0.0003, device='cuda:0')\n",
            "epoch: 9, step: 0, loss: 0.056934721767902374\n",
            "epoch: 9, step: 200, loss: 0.06162327900528908\n",
            "epoch: 9, step: 400, loss: 0.057194020599126816\n",
            "test loss: tensor(0.0002, device='cuda:0')\n"
          ]
        }
      ]
    },
    {
      "cell_type": "code",
      "source": [
        "i=1\n",
        "image = dataset_test.data[i].detach().numpy()\n",
        "data = dataset_test.data[i].unsqueeze(0).unsqueeze(0).to(device).float()\n",
        "target = dataset_test.targets[i].tolist()\n",
        "model_conv.eval()\n",
        "plt.imshow(image)\n",
        "plt.show()\n",
        "predict = torch.argmax(model_conv(data)).squeeze().cpu().detach().tolist()\n",
        "print(f\"predict: {predict}\")\n",
        "print(f\"true:    {target}\")"
      ],
      "metadata": {
        "colab": {
          "base_uri": "https://localhost:8080/",
          "height": 300
        },
        "id": "peS1NtynJuQi",
        "outputId": "045dc4fb-a2d9-42ef-a5c6-a77af270be94"
      },
      "execution_count": 30,
      "outputs": [
        {
          "output_type": "display_data",
          "data": {
            "text/plain": [
              "<Figure size 432x288 with 1 Axes>"
            ],
            "image/png": "[encoded data removed]"
          },
          "metadata": {
            "needs_background": "light"
          }
        },
        {
          "output_type": "stream",
          "name": "stdout",
          "text": [
            "predict: 2\n",
            "true:    2\n"
          ]
        }
      ]
    },
    {
      "cell_type": "code",
      "source": [
        "class ConvModel1(nn.Module):\n",
        "  def __init__(self, input_ch, hidden_ch, output_dim, dropout_p=0.1):\n",
        "    super().__init__()\n",
        "    # уменьшит размер картинки в 2 раза\n",
        "    \n",
        "    self.conv1 = nn.Conv2d(input_ch, hidden_ch, kernel_size=3, padding=1, stride=1) \n",
        "    self.bn1 = nn.BatchNorm2d(hidden_ch)\n",
        "    self.pool = nn.MaxPool2d(kernel_size=2) # 14x14\n",
        "    self.conv2 = nn.Conv2d(hidden_ch, hidden_ch, kernel_size=3, padding=1, stride=1)\n",
        "    self.bn2 = nn.BatchNorm2d(hidden_ch)\n",
        "    self.conv3 = nn.Conv2d(hidden_ch, 5, kernel_size=3, padding=1, stride=1) \n",
        "    self.linear1 = nn.Linear(5 * 14 * 14, 100) \n",
        "    self.linear2 = nn.Linear(100, output_dim) \n",
        "    self.do1 = nn.Dropout(dropout_p)\n",
        "    self.do2 = nn.Dropout(dropout_p)\n",
        "    self.activ = nn.ReLU()\n",
        "\n",
        "  def forward(self, x):\n",
        "    \n",
        "    x = self.conv1(x)\n",
        "    x = self.bn1(x)\n",
        "    x = self.activ(x)\n",
        "    x = self.pool(x)\n",
        "    x = self.do1(x)\n",
        "    x = self.conv2(x)\n",
        "    x = self.bn2(x)\n",
        "    x = self.activ(x)\n",
        "    x = self.do2(x)\n",
        "    x = self.conv3(x)\n",
        "    x = self.linear1(x.view(x.size(0), -1))\n",
        "    x = self.activ(x)\n",
        "    x = self.linear2(x)\n",
        "    return x"
      ],
      "metadata": {
        "id": "xDdI7FD-AUgS"
      },
      "execution_count": 81,
      "outputs": []
    },
    {
      "cell_type": "code",
      "source": [
        "model_conv1 = ConvModel1(input_ch, hidden_ch, out_dim).to(device)\n",
        "optim = torch.optim.Adam(model_conv1.parameters())\n",
        "loss_func = nn.CrossEntropyLoss()"
      ],
      "metadata": {
        "id": "sYzH-Ah5GEgq"
      },
      "execution_count": 82,
      "outputs": []
    },
    {
      "cell_type": "code",
      "source": [
        "for epoch in range(n_epochs):\n",
        "    #train model\n",
        "    model_conv1.train()\n",
        "    for i, batch in enumerate(trainloader):\n",
        "        inputs, labels = batch\n",
        "        optim.zero_grad()\n",
        "\n",
        "        predict = model_conv1(inputs.to(device))\n",
        "        loss = loss_func(predict, labels.to(device))\n",
        "        loss.backward()\n",
        "        optim.step()\n",
        "        if i % 200 == 0:\n",
        "            print(f'epoch: {epoch}, step: {i}, loss: {loss.item()}')\n",
        "    \n",
        "    #test model\n",
        "    model_conv1.eval()\n",
        "    for i, batch in enumerate(testloader):\n",
        "        inputs, labels = batch\n",
        "        loss_test = 0\n",
        "        with torch.no_grad():\n",
        "            predict = model_conv1(inputs.to(device))\n",
        "            loss_test += loss_func(predict, labels.to(device))\n",
        "    \n",
        "    print('test loss:', loss_test / i)\n",
        "    \n",
        "    #save every epoch\n",
        "    torch.save(model_conv1.state_dict(), f'./chkpt_cv1_conv_{epoch}.pth')"
      ],
      "metadata": {
        "colab": {
          "base_uri": "https://localhost:8080/"
        },
        "id": "Pd0D1RuUGAVb",
        "outputId": "88e3db96-4e1c-40df-d0f4-493913d14c56"
      },
      "execution_count": 83,
      "outputs": [
        {
          "output_type": "stream",
          "name": "stdout",
          "text": [
            "epoch: 0, step: 0, loss: 2.297476291656494\n",
            "epoch: 0, step: 200, loss: 0.2185956835746765\n",
            "epoch: 0, step: 400, loss: 0.11441602557897568\n",
            "test loss: tensor(0.0003, device='cuda:0')\n",
            "epoch: 1, step: 0, loss: 0.04631646350026131\n",
            "epoch: 1, step: 200, loss: 0.029902473092079163\n",
            "epoch: 1, step: 400, loss: 0.005034723784774542\n",
            "test loss: tensor(0.0004, device='cuda:0')\n",
            "epoch: 2, step: 0, loss: 0.016138480976223946\n",
            "epoch: 2, step: 200, loss: 0.07319480180740356\n",
            "epoch: 2, step: 400, loss: 0.012085361406207085\n",
            "test loss: tensor(0.0002, device='cuda:0')\n",
            "epoch: 3, step: 0, loss: 0.02033577859401703\n",
            "epoch: 3, step: 200, loss: 0.005331458989530802\n",
            "epoch: 3, step: 400, loss: 0.05097034201025963\n",
            "test loss: tensor(0.0002, device='cuda:0')\n",
            "epoch: 4, step: 0, loss: 0.04295724257826805\n",
            "epoch: 4, step: 200, loss: 0.003983787260949612\n",
            "epoch: 4, step: 400, loss: 0.005145017057657242\n",
            "test loss: tensor(0.0001, device='cuda:0')\n",
            "epoch: 5, step: 0, loss: 0.007256653625518084\n",
            "epoch: 5, step: 200, loss: 0.05151653662323952\n",
            "epoch: 5, step: 400, loss: 0.029699169099330902\n",
            "test loss: tensor(0.0001, device='cuda:0')\n",
            "epoch: 6, step: 0, loss: 0.0009596128365956247\n",
            "epoch: 6, step: 200, loss: 0.018788939341902733\n",
            "epoch: 6, step: 400, loss: 0.03361770883202553\n",
            "test loss: tensor(0.0014, device='cuda:0')\n",
            "epoch: 7, step: 0, loss: 0.013600732199847698\n",
            "epoch: 7, step: 200, loss: 0.0008252992411144078\n",
            "epoch: 7, step: 400, loss: 0.012405560351908207\n",
            "test loss: tensor(2.3024e-06, device='cuda:0')\n",
            "epoch: 8, step: 0, loss: 0.0013793355319648981\n",
            "epoch: 8, step: 200, loss: 0.0011956754606217146\n",
            "epoch: 8, step: 400, loss: 0.0003993740538135171\n",
            "test loss: tensor(0.0004, device='cuda:0')\n",
            "epoch: 9, step: 0, loss: 0.044572826474905014\n",
            "epoch: 9, step: 200, loss: 0.013472016900777817\n",
            "epoch: 9, step: 400, loss: 0.0007264569867402315\n",
            "test loss: tensor(0.0001, device='cuda:0')\n"
          ]
        }
      ]
    },
    {
      "cell_type": "code",
      "source": [
        "i=1\n",
        "image = dataset_test.data[i].detach().numpy()\n",
        "data = dataset_test.data[i].unsqueeze(0).unsqueeze(0).to(device).float()\n",
        "target = dataset_test.targets[i].tolist()\n",
        "model_conv1.eval()\n",
        "plt.imshow(image)\n",
        "plt.show()\n",
        "predict = torch.argmax(model_conv1(data)).squeeze().cpu().detach().tolist()\n",
        "print(f\"predict: {predict}\")\n",
        "print(f\"true:    {target}\")"
      ],
      "metadata": {
        "colab": {
          "base_uri": "https://localhost:8080/",
          "height": 300
        },
        "id": "brnMDTZ01p0v",
        "outputId": "b426d3a3-b8d7-4475-8afc-60d2ec6b9107"
      },
      "execution_count": 84,
      "outputs": [
        {
          "output_type": "display_data",
          "data": {
            "text/plain": [
              "<Figure size 432x288 with 1 Axes>"
            ],
            "image/png": "[encoded data removed]"
          },
          "metadata": {
            "needs_background": "light"
          }
        },
        {
          "output_type": "stream",
          "name": "stdout",
          "text": [
            "predict: 2\n",
            "true:    2\n"
          ]
        }
      ]
    },
    {
      "cell_type": "code",
      "source": [],
      "metadata": {
        "id": "N1m3EZy_ASX7"
      },
      "execution_count": null,
      "outputs": []
    }
  ]
}