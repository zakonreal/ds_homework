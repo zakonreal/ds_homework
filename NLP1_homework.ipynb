{
  "nbformat": 4,
  "nbformat_minor": 0,
  "metadata": {
    "colab": {
      "provenance": [],
      "include_colab_link": true
    },
    "kernelspec": {
      "name": "python3",
      "display_name": "Python 3"
    },
    "language_info": {
      "name": "python"
    },
    "accelerator": "GPU",
    "gpuClass": "standard"
  },
  "cells": [
    {
      "cell_type": "markdown",
      "metadata": {
        "id": "view-in-github",
        "colab_type": "text"
      },
      "source": [
        "<a href=\"https://colab.research.google.com/github/zakonreal/ds_homework/blob/main/NLP1_homework.ipynb\" target=\"_parent\"><img src=\"https://colab.research.google.com/assets/colab-badge.svg\" alt=\"Open In Colab\"/></a>"
      ]
    },
    {
      "cell_type": "code",
      "execution_count": 1,
      "metadata": {
        "colab": {
          "base_uri": "https://localhost:8080/"
        },
        "id": "BIvhwE4zxX0s",
        "outputId": "c7a17cbd-3dd0-4cac-e319-db21cd4e7f0d"
      },
      "outputs": [
        {
          "output_type": "stream",
          "name": "stdout",
          "text": [
            "Looking in indexes: https://pypi.org/simple, https://us-python.pkg.dev/colab-wheels/public/simple/\n",
            "Requirement already satisfied: nltk in /usr/local/lib/python3.9/dist-packages (3.7)\n",
            "Collecting nltk\n",
            "  Downloading nltk-3.8.1-py3-none-any.whl (1.5 MB)\n",
            "\u001b[2K     \u001b[90m━━━━━━━━━━━━━━━━━━━━━━━━━━━━━━━━━━━━━━━━\u001b[0m \u001b[32m1.5/1.5 MB\u001b[0m \u001b[31m13.1 MB/s\u001b[0m eta \u001b[36m0:00:00\u001b[0m\n",
            "\u001b[?25hRequirement already satisfied: gensim in /usr/local/lib/python3.9/dist-packages (3.6.0)\n",
            "Collecting gensim\n",
            "  Downloading gensim-4.3.1-cp39-cp39-manylinux_2_17_x86_64.manylinux2014_x86_64.whl (26.5 MB)\n",
            "\u001b[2K     \u001b[90m━━━━━━━━━━━━━━━━━━━━━━━━━━━━━━━━━━━━━━━━\u001b[0m \u001b[32m26.5/26.5 MB\u001b[0m \u001b[31m34.7 MB/s\u001b[0m eta \u001b[36m0:00:00\u001b[0m\n",
            "\u001b[?25hRequirement already satisfied: bokeh in /usr/local/lib/python3.9/dist-packages (2.4.3)\n",
            "Collecting bokeh\n",
            "  Downloading bokeh-3.1.0-py3-none-any.whl (8.3 MB)\n",
            "\u001b[2K     \u001b[90m━━━━━━━━━━━━━━━━━━━━━━━━━━━━━━━━━━━━━━━━\u001b[0m \u001b[32m8.3/8.3 MB\u001b[0m \u001b[31m66.6 MB/s\u001b[0m eta \u001b[36m0:00:00\u001b[0m\n",
            "\u001b[?25hCollecting umap-learn\n",
            "  Downloading umap-learn-0.5.3.tar.gz (88 kB)\n",
            "\u001b[2K     \u001b[90m━━━━━━━━━━━━━━━━━━━━━━━━━━━━━━━━━━━━━━━━\u001b[0m \u001b[32m88.2/88.2 KB\u001b[0m \u001b[31m3.6 MB/s\u001b[0m eta \u001b[36m0:00:00\u001b[0m\n",
            "\u001b[?25h  Preparing metadata (setup.py) ... \u001b[?25l\u001b[?25hdone\n",
            "Requirement already satisfied: joblib in /usr/local/lib/python3.9/dist-packages (from nltk) (1.1.1)\n",
            "Requirement already satisfied: tqdm in /usr/local/lib/python3.9/dist-packages (from nltk) (4.65.0)\n",
            "Requirement already satisfied: click in /usr/local/lib/python3.9/dist-packages (from nltk) (8.1.3)\n",
            "Requirement already satisfied: regex>=2021.8.3 in /usr/local/lib/python3.9/dist-packages (from nltk) (2022.6.2)\n",
            "Requirement already satisfied: smart-open>=1.8.1 in /usr/local/lib/python3.9/dist-packages (from gensim) (6.3.0)\n",
            "Requirement already satisfied: scipy>=1.7.0 in /usr/local/lib/python3.9/dist-packages (from gensim) (1.10.1)\n",
            "Requirement already satisfied: numpy>=1.18.5 in /usr/local/lib/python3.9/dist-packages (from gensim) (1.22.4)\n",
            "Requirement already satisfied: pandas>=1.2 in /usr/local/lib/python3.9/dist-packages (from bokeh) (1.4.4)\n",
            "Requirement already satisfied: Jinja2>=2.9 in /usr/local/lib/python3.9/dist-packages (from bokeh) (3.1.2)\n",
            "Requirement already satisfied: pillow>=7.1.0 in /usr/local/lib/python3.9/dist-packages (from bokeh) (8.4.0)\n",
            "Requirement already satisfied: PyYAML>=3.10 in /usr/local/lib/python3.9/dist-packages (from bokeh) (6.0)\n",
            "Collecting xyzservices>=2021.09.1\n",
            "  Downloading xyzservices-2023.2.0-py3-none-any.whl (55 kB)\n",
            "\u001b[2K     \u001b[90m━━━━━━━━━━━━━━━━━━━━━━━━━━━━━━━━━━━━━━━━\u001b[0m \u001b[32m55.4/55.4 KB\u001b[0m \u001b[31m1.0 MB/s\u001b[0m eta \u001b[36m0:00:00\u001b[0m\n",
            "\u001b[?25hRequirement already satisfied: contourpy>=1 in /usr/local/lib/python3.9/dist-packages (from bokeh) (1.0.7)\n",
            "Requirement already satisfied: tornado>=5.1 in /usr/local/lib/python3.9/dist-packages (from bokeh) (6.2)\n",
            "Requirement already satisfied: packaging>=16.8 in /usr/local/lib/python3.9/dist-packages (from bokeh) (23.0)\n",
            "Requirement already satisfied: scikit-learn>=0.22 in /usr/local/lib/python3.9/dist-packages (from umap-learn) (1.2.2)\n",
            "Requirement already satisfied: numba>=0.49 in /usr/local/lib/python3.9/dist-packages (from umap-learn) (0.56.4)\n",
            "Collecting pynndescent>=0.5\n",
            "  Downloading pynndescent-0.5.8.tar.gz (1.1 MB)\n",
            "\u001b[2K     \u001b[90m━━━━━━━━━━━━━━━━━━━━━━━━━━━━━━━━━━━━━━━━\u001b[0m \u001b[32m1.1/1.1 MB\u001b[0m \u001b[31m20.1 MB/s\u001b[0m eta \u001b[36m0:00:00\u001b[0m\n",
            "\u001b[?25h  Preparing metadata (setup.py) ... \u001b[?25l\u001b[?25hdone\n",
            "Requirement already satisfied: MarkupSafe>=2.0 in /usr/local/lib/python3.9/dist-packages (from Jinja2>=2.9->bokeh) (2.1.2)\n",
            "Requirement already satisfied: llvmlite<0.40,>=0.39.0dev0 in /usr/local/lib/python3.9/dist-packages (from numba>=0.49->umap-learn) (0.39.1)\n",
            "Requirement already satisfied: setuptools in /usr/local/lib/python3.9/dist-packages (from numba>=0.49->umap-learn) (63.4.3)\n",
            "Requirement already satisfied: python-dateutil>=2.8.1 in /usr/local/lib/python3.9/dist-packages (from pandas>=1.2->bokeh) (2.8.2)\n",
            "Requirement already satisfied: pytz>=2020.1 in /usr/local/lib/python3.9/dist-packages (from pandas>=1.2->bokeh) (2022.7.1)\n",
            "Requirement already satisfied: threadpoolctl>=2.0.0 in /usr/local/lib/python3.9/dist-packages (from scikit-learn>=0.22->umap-learn) (3.1.0)\n",
            "Requirement already satisfied: six>=1.5 in /usr/local/lib/python3.9/dist-packages (from python-dateutil>=2.8.1->pandas>=1.2->bokeh) (1.15.0)\n",
            "Building wheels for collected packages: umap-learn, pynndescent\n",
            "  Building wheel for umap-learn (setup.py) ... \u001b[?25l\u001b[?25hdone\n",
            "  Created wheel for umap-learn: filename=umap_learn-0.5.3-py3-none-any.whl size=82830 sha256=a66907c0ad7a97aeaf7c6eab954d9229cf26dc5c478f43fff60f8c185a676c1e\n",
            "  Stored in directory: /root/.cache/pip/wheels/f4/3e/1c/596d0a463d17475af648688443fa4846fef624d1390339e7e9\n",
            "  Building wheel for pynndescent (setup.py) ... \u001b[?25l\u001b[?25hdone\n",
            "  Created wheel for pynndescent: filename=pynndescent-0.5.8-py3-none-any.whl size=55509 sha256=60183a9ddd88116d08979565113b465d710aec83900f022781f71fd16a9c4bd1\n",
            "  Stored in directory: /root/.cache/pip/wheels/b9/89/cc/59ab91ef5b21dc2ab3635528d7d227f49dfc9169905dcb959d\n",
            "Successfully built umap-learn pynndescent\n",
            "Installing collected packages: xyzservices, nltk, gensim, pynndescent, bokeh, umap-learn\n",
            "  Attempting uninstall: nltk\n",
            "    Found existing installation: nltk 3.7\n",
            "    Uninstalling nltk-3.7:\n",
            "      Successfully uninstalled nltk-3.7\n",
            "  Attempting uninstall: gensim\n",
            "    Found existing installation: gensim 3.6.0\n",
            "    Uninstalling gensim-3.6.0:\n",
            "      Successfully uninstalled gensim-3.6.0\n",
            "  Attempting uninstall: bokeh\n",
            "    Found existing installation: bokeh 2.4.3\n",
            "    Uninstalling bokeh-2.4.3:\n",
            "      Successfully uninstalled bokeh-2.4.3\n",
            "\u001b[31mERROR: pip's dependency resolver does not currently take into account all the packages that are installed. This behaviour is the source of the following dependency conflicts.\n",
            "panel 0.14.4 requires bokeh<2.5.0,>=2.4.0, but you have bokeh 3.1.0 which is incompatible.\u001b[0m\u001b[31m\n",
            "\u001b[0mSuccessfully installed bokeh-3.1.0 gensim-4.3.1 nltk-3.8.1 pynndescent-0.5.8 umap-learn-0.5.3 xyzservices-2023.2.0\n"
          ]
        },
        {
          "output_type": "stream",
          "name": "stderr",
          "text": [
            "[nltk_data] Downloading package wordnet to /root/nltk_data...\n",
            "[nltk_data] Downloading package omw-1.4 to /root/nltk_data...\n"
          ]
        }
      ],
      "source": [
        "#Установка нужных пакетов\n",
        "!pip install --upgrade nltk gensim bokeh umap-learn\n",
        "\n",
        "import itertools\n",
        "import string\n",
        "\n",
        "import numpy as np\n",
        "import umap\n",
        "from nltk.tokenize import WordPunctTokenizer\n",
        "\n",
        "from matplotlib import pyplot as plt\n",
        "\n",
        "from IPython.display import clear_output\n",
        "\n",
        "import nltk\n",
        "nltk.download('wordnet')\n",
        "nltk.download('omw-1.4')\n",
        "from nltk.stem import WordNetLemmatizer\n",
        "from nltk.stem import PorterStemmer\n",
        "from nltk.tokenize import word_tokenize\n",
        "\n",
        "ps = PorterStemmer()\n",
        "lemmatizer = WordNetLemmatizer()"
      ]
    },
    {
      "cell_type": "code",
      "source": [
        "# выгружаем датасет:\n",
        "!wget https://www.dropbox.com/s/obaitrix9jyu84r/quora.txt?dl=1 -O ./quora.txt -nc"
      ],
      "metadata": {
        "colab": {
          "base_uri": "https://localhost:8080/"
        },
        "id": "hF9WPCtfxZR9",
        "outputId": "7f4ef7a1-2323-44ad-8d6a-85dc7cd1a0e5"
      },
      "execution_count": 2,
      "outputs": [
        {
          "output_type": "stream",
          "name": "stdout",
          "text": [
            "--2023-03-17 09:36:08--  https://www.dropbox.com/s/obaitrix9jyu84r/quora.txt?dl=1\n",
            "Resolving www.dropbox.com (www.dropbox.com)... 162.125.7.18, 2620:100:6031:18::a27d:5112\n",
            "Connecting to www.dropbox.com (www.dropbox.com)|162.125.7.18|:443... connected.\n",
            "HTTP request sent, awaiting response... 302 Found\n",
            "Location: /s/dl/obaitrix9jyu84r/quora.txt [following]\n",
            "--2023-03-17 09:36:09--  https://www.dropbox.com/s/dl/obaitrix9jyu84r/quora.txt\n",
            "Reusing existing connection to www.dropbox.com:443.\n",
            "HTTP request sent, awaiting response... 302 Found\n",
            "Location: https://ucc94fbfe99dc5f4b8be27e26632.dl.dropboxusercontent.com/cd/0/get/B4Z4PEqZj1Lr_k_DYwlb_hGdVRciA7MQVe_lW3BY_WsUE6PaTfBdYKgtqdcTmWBLDuyWXVnQlCwasZU-7sb9J882dIpzqL9nzKy85_iappvCIIJrZtVxqiSRwLn3KPcm80NmulFcN3d1Cn8D2rXBtNnLUDmDE9OuyygBl90BG903YA/file?dl=1# [following]\n",
            "--2023-03-17 09:36:09--  https://ucc94fbfe99dc5f4b8be27e26632.dl.dropboxusercontent.com/cd/0/get/B4Z4PEqZj1Lr_k_DYwlb_hGdVRciA7MQVe_lW3BY_WsUE6PaTfBdYKgtqdcTmWBLDuyWXVnQlCwasZU-7sb9J882dIpzqL9nzKy85_iappvCIIJrZtVxqiSRwLn3KPcm80NmulFcN3d1Cn8D2rXBtNnLUDmDE9OuyygBl90BG903YA/file?dl=1\n",
            "Resolving ucc94fbfe99dc5f4b8be27e26632.dl.dropboxusercontent.com (ucc94fbfe99dc5f4b8be27e26632.dl.dropboxusercontent.com)... 162.125.81.15, 2620:100:6020:15::a27d:400f\n",
            "Connecting to ucc94fbfe99dc5f4b8be27e26632.dl.dropboxusercontent.com (ucc94fbfe99dc5f4b8be27e26632.dl.dropboxusercontent.com)|162.125.81.15|:443... connected.\n",
            "HTTP request sent, awaiting response... 200 OK\n",
            "Length: 33813903 (32M) [application/binary]\n",
            "Saving to: ‘./quora.txt’\n",
            "\n",
            "./quora.txt         100%[===================>]  32.25M  16.0MB/s    in 2.0s    \n",
            "\n",
            "2023-03-17 09:36:12 (16.0 MB/s) - ‘./quora.txt’ saved [33813903/33813903]\n",
            "\n"
          ]
        }
      ]
    },
    {
      "cell_type": "code",
      "source": [
        "data = list(open(\"./quora.txt\", encoding=\"utf-8\"))\n",
        "data[50]"
      ],
      "metadata": {
        "colab": {
          "base_uri": "https://localhost:8080/",
          "height": 36
        },
        "id": "MaFpN9pvxtNg",
        "outputId": "19f5ec4e-28d2-4d8a-ed86-387e7051a047"
      },
      "execution_count": 3,
      "outputs": [
        {
          "output_type": "execute_result",
          "data": {
            "text/plain": [
              "\"What TV shows or books help you read people's body language?\\n\""
            ],
            "application/vnd.google.colaboratory.intrinsic+json": {
              "type": "string"
            }
          },
          "metadata": {},
          "execution_count": 3
        }
      ]
    },
    {
      "cell_type": "code",
      "source": [
        "tokenizer = WordPunctTokenizer()\n",
        "\n",
        "print(tokenizer.tokenize(data[50]))"
      ],
      "metadata": {
        "colab": {
          "base_uri": "https://localhost:8080/"
        },
        "id": "HvXRbOKGx0l_",
        "outputId": "ac11867e-0b1e-433e-cb9e-c3979dd9658e"
      },
      "execution_count": 4,
      "outputs": [
        {
          "output_type": "stream",
          "name": "stdout",
          "text": [
            "['What', 'TV', 'shows', 'or', 'books', 'help', 'you', 'read', 'people', \"'\", 's', 'body', 'language', '?']\n"
          ]
        }
      ]
    },
    {
      "cell_type": "markdown",
      "source": [
        "#Задание 1: Перевести все слова в нижний регистр (NLTK) из data и добавьте как лист токенов в листе data_tok\n"
      ],
      "metadata": {
        "id": "ovkxi_QOySCl"
      }
    },
    {
      "cell_type": "code",
      "source": [
        "data_tok = list()\n",
        "for i in data:\n",
        "    token = tokenizer.tokenize(i)\n",
        "    r = list()\n",
        "    for e in token:\n",
        "        r.append(e.lower())\n",
        "    data_tok.append(r)\n",
        "\n",
        "#checking\n",
        "\n",
        "assert all(isinstance(row, (list, tuple)) for row in data_tok), \"please convert each line into a list of tokens (strings)\"\n",
        "is_latin = lambda tok: all('a' <= x.lower() <= 'z' for x in tok)\n",
        "assert all(map(lambda l: not is_latin(l) or l.islower(), map(' '.join, data_tok))), \"please make sure to lowercase the data\""
      ],
      "metadata": {
        "id": "EK7uvHi6zeWY"
      },
      "execution_count": 5,
      "outputs": []
    },
    {
      "cell_type": "code",
      "source": [
        "data_tok1 = [[word.lower() for word in tokenizer.tokenize(line)] for line in data]\n",
        "\n",
        "assert all(isinstance(row, (list, tuple)) for row in data_tok), \"please convert each line into a list of tokens (strings)\"\n",
        "is_latin = lambda tok: all('a' <= x.lower() <= 'z' for x in tok)\n",
        "assert all(map(lambda l: not is_latin(l) or l.islower(), map(' '.join, data_tok))), \"please make sure to lowercase the data\""
      ],
      "metadata": {
        "id": "W59fNKudV7_r"
      },
      "execution_count": 6,
      "outputs": []
    },
    {
      "cell_type": "markdown",
      "source": [
        "###Задание 2: Подсчитайте топ10 самых популярных лем в рамках data"
      ],
      "metadata": {
        "id": "dtKeoLCYzY4j"
      }
    },
    {
      "cell_type": "code",
      "source": [
        "import collections\n",
        "all_words = []\n",
        "for i in data_tok:\n",
        "  for j in i:\n",
        "    all_words.append(j)\n",
        "counter = collections.Counter(all_words)\n",
        "counter.most_common(10)"
      ],
      "metadata": {
        "id": "a_BxzSv9yR0w",
        "colab": {
          "base_uri": "https://localhost:8080/"
        },
        "outputId": "0e0c55d7-a582-4681-c55e-a22f3c4585f6"
      },
      "execution_count": 7,
      "outputs": [
        {
          "output_type": "execute_result",
          "data": {
            "text/plain": [
              "[('?', 552413),\n",
              " ('the', 252068),\n",
              " ('what', 214798),\n",
              " ('is', 185392),\n",
              " ('a', 155726),\n",
              " ('i', 149735),\n",
              " ('to', 141788),\n",
              " ('in', 139787),\n",
              " ('how', 135687),\n",
              " ('of', 112001)]"
            ]
          },
          "metadata": {},
          "execution_count": 7
        }
      ]
    },
    {
      "cell_type": "code",
      "source": [
        "list_data = []\n",
        "for i in data_tok:\n",
        "    list_data += i\n",
        "\n",
        "dict_data = {}\n",
        "for i in list_data:\n",
        "    lemm = lemmatizer.lemmatize(i)\n",
        "    if lemm not in dict_data:\n",
        "        dict_data[lemm] = dict_data.get(lemm, 0)\n",
        "    dict_data[lemm] += 1\n",
        "\n",
        "top = []\n",
        "for i in dict_data:\n",
        "    top += [[i, dict_data[i]]]\n",
        "sorted(top, key=lambda x: x[1], reverse = True)[:10]"
      ],
      "metadata": {
        "colab": {
          "base_uri": "https://localhost:8080/"
        },
        "id": "lEroPIvYbBj2",
        "outputId": "df2eab3c-da93-479f-abd6-b513d0f9717c"
      },
      "execution_count": 8,
      "outputs": [
        {
          "output_type": "execute_result",
          "data": {
            "text/plain": [
              "[['?', 552413],\n",
              " ['the', 252068],\n",
              " ['what', 214798],\n",
              " ['is', 185392],\n",
              " ['a', 172513],\n",
              " ['i', 149868],\n",
              " ['to', 141788],\n",
              " ['in', 139813],\n",
              " ['how', 135687],\n",
              " ['of', 112001]]"
            ]
          },
          "metadata": {},
          "execution_count": 8
        }
      ]
    },
    {
      "cell_type": "markdown",
      "source": [
        "###Задание 3: Подсчитайте количество разных слов до и после лемматизации"
      ],
      "metadata": {
        "id": "a1SM3sn1zf1b"
      }
    },
    {
      "cell_type": "code",
      "source": [
        "# all_words = []\n",
        "# for i in data_tok:\n",
        "#   for j in i:\n",
        "#     all_words.append(j)\n",
        "\n",
        "all_lemma = []\n",
        "for i in all_words:\n",
        "    t = lemmatizer.lemmatize(i)\n",
        "    all_lemma.append(t)\n",
        "\n",
        "unique_w = set(all_words)\n",
        "len(unique_w), len(set(all_lemma))"
      ],
      "metadata": {
        "colab": {
          "base_uri": "https://localhost:8080/"
        },
        "id": "cHHQmgk8SsLm",
        "outputId": "9193fc02-c0a3-4ae4-aa62-51e2d36c91dd"
      },
      "execution_count": 9,
      "outputs": [
        {
          "output_type": "execute_result",
          "data": {
            "text/plain": [
              "(87820, 80304)"
            ]
          },
          "metadata": {},
          "execution_count": 9
        }
      ]
    },
    {
      "cell_type": "code",
      "source": [
        "all_lemma = [lemmatizer.lemmatize(i) for i in all_words]\n",
        "len(unique_w), len(set(all_lemma))"
      ],
      "metadata": {
        "colab": {
          "base_uri": "https://localhost:8080/"
        },
        "id": "B3LP0gxdY_pu",
        "outputId": "62114d86-066a-41ef-e00a-b397da9c4d4f"
      },
      "execution_count": 10,
      "outputs": [
        {
          "output_type": "execute_result",
          "data": {
            "text/plain": [
              "(87820, 80304)"
            ]
          },
          "metadata": {},
          "execution_count": 10
        }
      ]
    },
    {
      "cell_type": "code",
      "source": [
        "# dict = {}\n",
        "# for lem in all_lemma:\n",
        "#     if lem in dict.keys():\n",
        "#       dict[lem]+=1\n",
        "#     else:\n",
        "#       dict[lem]=1\n",
        "# print(len(dict))\n",
        "# print(dict)\n",
        "\n",
        "# import pandas as pd\n",
        "\n",
        "# df = pd.DataFrame(dict.items())\n",
        "# df\n",
        "# sorted_df = df.sort_values(by=1, ascending = False) \n",
        "# print(sorted_df[0:10])"
      ],
      "metadata": {
        "id": "OVVpYaFSWiJ_"
      },
      "execution_count": 25,
      "outputs": []
    },
    {
      "cell_type": "markdown",
      "source": [
        "###Задание 4: Подсчитайте количество разных слов до и после стемминга"
      ],
      "metadata": {
        "id": "uxKa8yUUzqNN"
      }
    },
    {
      "cell_type": "code",
      "source": [
        "all_stem = []\n",
        "for i in all_words:\n",
        "    t = ps.stem(i)\n",
        "    all_stem.append(t)\n",
        "\n",
        "unique_w = set(all_words)\n",
        "len(unique_w), len(set(all_stem))"
      ],
      "metadata": {
        "colab": {
          "base_uri": "https://localhost:8080/"
        },
        "id": "kNKmibg3bKjI",
        "outputId": "4352c54b-8d9c-4832-a4d8-5242ef7fc04c"
      },
      "execution_count": 12,
      "outputs": [
        {
          "output_type": "execute_result",
          "data": {
            "text/plain": [
              "(87820, 67026)"
            ]
          },
          "metadata": {},
          "execution_count": 12
        }
      ]
    },
    {
      "cell_type": "code",
      "source": [
        "all_stem = [ps.stem(i) for i in all_words]\n",
        "len(unique_w), len(set(all_stem))"
      ],
      "metadata": {
        "id": "x91DX51qzszR",
        "colab": {
          "base_uri": "https://localhost:8080/"
        },
        "outputId": "b0d25528-0fc7-405e-ea4b-2844db3d0977"
      },
      "execution_count": 13,
      "outputs": [
        {
          "output_type": "execute_result",
          "data": {
            "text/plain": [
              "(87820, 67026)"
            ]
          },
          "metadata": {},
          "execution_count": 13
        }
      ]
    },
    {
      "cell_type": "markdown",
      "source": [
        "REGEXP\n",
        "\n",
        "https://www.programiz.com/python-programming/regex \n",
        "\n",
        "https://docs.python.org/3/howto/regex.html"
      ],
      "metadata": {
        "id": "At9iloRCVShn"
      }
    },
    {
      "cell_type": "code",
      "source": [
        "import re\n",
        "\n",
        "pattern = 'a[A-z]*s'\n",
        "test_string = 'abyss'\n",
        "result = re.match(pattern, test_string)\n",
        "\n",
        "if result:\n",
        "  print(\"Search successful.\")\n",
        "else:\n",
        "  print(\"Search unsuccessful.\")\t\n",
        "\n",
        "#debugging https://regex101.com/"
      ],
      "metadata": {
        "colab": {
          "base_uri": "https://localhost:8080/"
        },
        "id": "521aLisyVUg_",
        "outputId": "d0b4e855-340b-4dda-90ac-ed4abea9edb3"
      },
      "execution_count": 15,
      "outputs": [
        {
          "output_type": "stream",
          "name": "stdout",
          "text": [
            "Search successful.\n"
          ]
        }
      ]
    },
    {
      "cell_type": "markdown",
      "source": [
        "###Задание 6: \n",
        "https://www.hackerrank.com/challenges/matching-specific-string/problem?isFullScreen=true \n",
        "\n",
        "###Задание 7: \n",
        "https://www.hackerrank.com/challenges/matching-whitespace-non-whitespace-character/problem?isFullScreen=true\n",
        "\n",
        "###Задание 8: \n",
        "https://www.hackerrank.com/challenges/matching-start-end/problem?isFullScreen=true\n",
        "\n",
        "###Задание 9: \n",
        "https://www.hackerrank.com/challenges/matching-word-boundaries/problem?isFullScreen=true"
      ],
      "metadata": {
        "id": "dH7qx_irU4Y8"
      }
    },
    {
      "cell_type": "code",
      "source": [
        "# Задание 6\n",
        "# r\"hackerrank\""
      ],
      "metadata": {
        "id": "ih-6XUc8paA9"
      },
      "execution_count": 16,
      "outputs": []
    },
    {
      "cell_type": "code",
      "source": [
        "# Задание 7\n",
        "# r\"\\S\\S\\s\\S\\S\\s\\S\\S\""
      ],
      "metadata": {
        "id": "VSLU6F5ypaF2"
      },
      "execution_count": 17,
      "outputs": []
    },
    {
      "cell_type": "code",
      "source": [
        "# Задание 8\n",
        "# r\"^\\d\\w{4}\\.$\""
      ],
      "metadata": {
        "id": "GvsmVu9Bp2kl"
      },
      "execution_count": 18,
      "outputs": []
    },
    {
      "cell_type": "code",
      "source": [
        "# Задание 9\n",
        "# r'\\b[aeiouAEIOU][a-zA-Z]*\\b'"
      ],
      "metadata": {
        "id": "d4emQDbUp3R0"
      },
      "execution_count": 19,
      "outputs": []
    },
    {
      "cell_type": "markdown",
      "source": [
        "Bag Of Words (BOW)"
      ],
      "metadata": {
        "id": "Csv2YN2IRXJB"
      }
    },
    {
      "cell_type": "code",
      "source": [
        "# def vectorize(tokens):\n",
        "#     ''' This function takes list of words in a sentence as input \n",
        "#     and returns a vector of size of filtered_vocab.It puts 0 if the \n",
        "#     word is not present in tokens and count of token if present.'''\n",
        "#     vector=[]\n",
        "#     for w in filtered_vocab:\n",
        "#         vector.append(tokens.count(w))\n",
        "#     return vector\n",
        "# def unique(sequence):\n",
        "#     '''This functions returns a list in which the order remains \n",
        "#     same and no item repeats.Using the set() function does not \n",
        "#     preserve the original ordering,so i didnt use that instead'''\n",
        "#     seen = set()\n",
        "#     return [x for x in sequence if not (x in seen or seen.add(x))]\n",
        "\n",
        "# #create a list of stopwords.You can import stopwords from nltk too\n",
        "# stopwords=[\"to\",\"is\",\"a\"]\n",
        "\n",
        "# #list of special characters.You can use regular expressions too\n",
        "# special_char=[\",\",\":\",\" \",\";\",\".\",\"?\"]\n",
        "\n",
        "# #Write the sentences in the corpus,in our case, just two \n",
        "# string1=\"Welcome to Great Learning , Now start learning\"\n",
        "# string2=\"Learning is a good practice\"\n",
        "\n",
        "# #convert them to lower case\n",
        "# string1=string1.lower()\n",
        "# string2=string2.lower()\n",
        "\n",
        "# #split the sentences into tokens\n",
        "# tokens1=string1.split()\n",
        "# tokens2=string2.split()\n",
        "# print(tokens1)\n",
        "# print(tokens2)\n",
        "\n",
        "# #create a vocabulary list\n",
        "# vocab=unique(tokens1+tokens2)\n",
        "# print(vocab)\n",
        "\n",
        "# #filter the vocabulary list\n",
        "# filtered_vocab=[]\n",
        "# for w in vocab: \n",
        "#     if w not in stopwords and w not in special_char: \n",
        "#         filtered_vocab.append(w)\n",
        "# print(filtered_vocab)\n",
        "\n",
        "# #convert sentences into vectords\n",
        "# vector1=vectorize(tokens1)\n",
        "# print(vector1)\n",
        "# vector2=vectorize(tokens2)\n",
        "# print(vector2)"
      ],
      "metadata": {
        "id": "O8YWG3JhSFeZ"
      },
      "execution_count": null,
      "outputs": []
    },
    {
      "cell_type": "markdown",
      "source": [
        "Задание 10: Реализовать Bag of words на data_tok (можно на NLTK, можно без)"
      ],
      "metadata": {
        "id": "MOZ1qx05Q46b"
      }
    },
    {
      "cell_type": "code",
      "source": [],
      "metadata": {
        "id": "Tew2nQN4OCiW"
      },
      "execution_count": null,
      "outputs": []
    },
    {
      "cell_type": "markdown",
      "source": [
        "###Домашнее задание NLP1"
      ],
      "metadata": {
        "id": "iinwTxyd19fG"
      }
    },
    {
      "cell_type": "markdown",
      "source": [
        "###Задание 5: Подсчитайте количество разных слов\n",
        "нужно посчитать (на базе предыдущих упражнений)\n",
        "- до лемматизации и стеминнга\n",
        "- после стемминга\n",
        "- после лемматизации\n",
        "- после стеминга и лемматизации\n",
        "\n",
        "и отдельно сравнить (для важности корректного порядка процедур)\n",
        "\n",
        "1. сначала стеминг, потом лемматизацию\n",
        "2. сначала лемматизацию, потом стемминг"
      ],
      "metadata": {
        "id": "XXA7Fe_izuqh"
      }
    },
    {
      "cell_type": "code",
      "source": [
        "lemma_stem = []\n",
        "for i in all_words:\n",
        "    lemma_stem.append(ps.stem(lemmatizer.lemmatize(i)))\n",
        "\n",
        "stem_lemma = []\n",
        "for i in all_words:\n",
        "    stem_lemma.append(lemmatizer.lemmatize(ps.stem(i)))\n",
        "\n",
        "len(set(lemma_stem)), len(set(stem_lemma))"
      ],
      "metadata": {
        "colab": {
          "base_uri": "https://localhost:8080/"
        },
        "id": "MQ9QihJldTG_",
        "outputId": "78ead70f-f2a4-458c-f7c0-b5bd0f684e0d"
      },
      "execution_count": 14,
      "outputs": [
        {
          "output_type": "execute_result",
          "data": {
            "text/plain": [
              "(66835, 66818)"
            ]
          },
          "metadata": {},
          "execution_count": 14
        }
      ]
    },
    {
      "cell_type": "code",
      "source": [
        "# ML1_1:https://www.hackerrank.com/challenges/capturing-non-capturing-groups/problem?isFullScreen=true\n",
        "\n",
        "# r'okokok'"
      ],
      "metadata": {
        "id": "V3y_UYmSzlEt"
      },
      "execution_count": 20,
      "outputs": []
    },
    {
      "cell_type": "code",
      "source": [
        "# ML1_2: https://www.hackerrank.com/challenges/branch-reset-groups/problem?isFullScreen=true\n",
        "\n",
        "# ?php\n",
        "\n",
        "# $Regex_Pattern = '/^\\d{2}(?|(-)|(:)|(---)|(.))\\d{2}\\1\\d{2}\\1\\d{2}$/'; //Do not delete '/'. Replace __________ with your regex.\n",
        "\n",
        "# $handle = fopen (\"php://stdin\",\"r\");"
      ],
      "metadata": {
        "id": "UTGfgPNbzlHu"
      },
      "execution_count": 21,
      "outputs": []
    },
    {
      "cell_type": "code",
      "source": [
        "# ML1_3: https://www.hackerrank.com/challenges/detect-html-links/problem?isFullScreen=true\n",
        "\n",
        "# import re\n",
        "# Regex_Pattern = r'(?<=<a href=\")([^\"]+)\".*?>([^<]*)(?=</)'\n",
        "\n",
        "# for i in range(int(input())):\n",
        "#     matches = re.findall(Regex_Pattern, str(input()))\n",
        "#     if matches:\n",
        "#         for match in matches:\n",
        "#             print(match[0],match[1].strip(),sep=',')"
      ],
      "metadata": {
        "id": "Y8DUKXYgzlLj"
      },
      "execution_count": 23,
      "outputs": []
    },
    {
      "cell_type": "code",
      "source": [
        "# ML1_4: Реализовать stemming, lemmatization & BoW на следующем датасете:\n",
        "#  https://cloud.mail.ru/public/Z4L3/vB8GcgTtK (Russian Toxic-abuse comments)"
      ],
      "metadata": {
        "id": "aWGfP4sX9yrb"
      },
      "execution_count": 24,
      "outputs": []
    }
  ]
}