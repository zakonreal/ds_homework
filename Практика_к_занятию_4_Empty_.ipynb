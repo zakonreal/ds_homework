{
 "cells": [
  {
   "cell_type": "markdown",
   "metadata": {
    "id": "pDrecLU-4QjS"
   },
   "source": [
    "# Практика\n",
    "Используемые библиотеки"
   ]
  },
  {
   "cell_type": "code",
   "execution_count": 1,
   "metadata": {},
   "outputs": [],
   "source": [
    "import pandas as pd\n",
    "import numpy as np\n",
    "import requests # for web-download\n",
    "import io # for web-download\n",
    "import re # for data processing\n",
    "import os\n",
    "import random"
   ]
  },
  {
   "cell_type": "markdown",
   "metadata": {},
   "source": [
    "## Загрузка DataFrame\n",
    "### Задача 1\n",
    "На основании данных портала \"Открытые данные России\" о результатах Химического анализа родника в Нескучном саду https://data.gov.ru/opendata/7708660670-rodnik-neskuchniy-sad\n",
    "средствами библиотеки __Pandas__ сформируйте поле выводов по каждому анализирумомому параметру.\n",
    "Например, по показателю _pH_ получен результат _8.4 единицы pH_ при нормативе от _6 до 9 единиц pH_. Т.о. по данному показателю результат анализа в норме.\n",
    "Для решения задачи необходимо программно \"прочитать и понять\" значение столбца \"Норматив\" и выделенное численное значение сравнить с нормативом согласно логике норматива. Например, __6 >= pH >= 9__.\n",
    "В итоговом DataFrame столбец \"Показатель\" сделайте индексным.\n",
    "\n",
    "\n",
    "Загзрузка DataFrame выполняется непосредственно c сайта \"Открытые данные России\" https://data.gov.ru/opendata/7708660670-rodnik-neskuchniy-sad/data-20160608T1215-structure-20160608T1215.csv (см. код ниже).\n"
   ]
  },
  {
   "cell_type": "code",
   "execution_count": 2,
   "metadata": {},
   "outputs": [
    {
     "data": {
      "text/html": [
       "<div>\n",
       "<style scoped>\n",
       "    .dataframe tbody tr th:only-of-type {\n",
       "        vertical-align: middle;\n",
       "    }\n",
       "\n",
       "    .dataframe tbody tr th {\n",
       "        vertical-align: top;\n",
       "    }\n",
       "\n",
       "    .dataframe thead th {\n",
       "        text-align: right;\n",
       "    }\n",
       "</style>\n",
       "<table border=\"1\" class=\"dataframe\">\n",
       "  <thead>\n",
       "    <tr style=\"text-align: right;\">\n",
       "      <th></th>\n",
       "      <th>&lt;h1&gt;Forbidden&lt;/h1&gt;&lt;pre&gt;Request ID: 2022-12-22-16-47-18-592870F462E3DD91&lt;/pre&gt;</th>\n",
       "    </tr>\n",
       "  </thead>\n",
       "  <tbody>\n",
       "  </tbody>\n",
       "</table>\n",
       "</div>"
      ],
      "text/plain": [
       "Empty DataFrame\n",
       "Columns: [<h1>Forbidden</h1><pre>Request ID: 2022-12-22-16-47-18-592870F462E3DD91</pre>]\n",
       "Index: []"
      ]
     },
     "metadata": {},
     "output_type": "display_data"
    }
   ],
   "source": [
    "url =\"https://data.gov.ru/opendata/7708660670-rodnik-neskuchniy-sad/data-20160608T1215-structure-20160608T1215.csv\"\n",
    "s = requests.get(url).content\n",
    "df=pd.read_csv(io.StringIO(s.decode('UTF8')), sep=';', header=0)\n",
    "### Если не работает загрузка on-line\n",
    "# df=pd.read_csv(\"Химический анализ родника в Нескучном саду.csv\", sep=';')\n",
    "display(df)"
   ]
  },
  {
   "cell_type": "code",
   "execution_count": 3,
   "metadata": {},
   "outputs": [
    {
     "data": {
      "text/plain": [
       "'C:\\\\Users\\\\150ho\\\\Desktop\\\\DS\\\\lesson4'"
      ]
     },
     "execution_count": 3,
     "metadata": {},
     "output_type": "execute_result"
    }
   ],
   "source": [
    "os.getcwd ()"
   ]
  },
  {
   "cell_type": "code",
   "execution_count": 4,
   "metadata": {},
   "outputs": [
    {
     "data": {
      "text/html": [
       "<div>\n",
       "<style scoped>\n",
       "    .dataframe tbody tr th:only-of-type {\n",
       "        vertical-align: middle;\n",
       "    }\n",
       "\n",
       "    .dataframe tbody tr th {\n",
       "        vertical-align: top;\n",
       "    }\n",
       "\n",
       "    .dataframe thead th {\n",
       "        text-align: right;\n",
       "    }\n",
       "</style>\n",
       "<table border=\"1\" class=\"dataframe\">\n",
       "  <thead>\n",
       "    <tr style=\"text-align: right;\">\n",
       "      <th></th>\n",
       "      <th>Единица измерений</th>\n",
       "      <th>Результат анализа</th>\n",
       "      <th>Норматив</th>\n",
       "    </tr>\n",
       "    <tr>\n",
       "      <th>Показатель</th>\n",
       "      <th></th>\n",
       "      <th></th>\n",
       "      <th></th>\n",
       "    </tr>\n",
       "  </thead>\n",
       "  <tbody>\n",
       "    <tr>\n",
       "      <th>pH</th>\n",
       "      <td>единицы pH</td>\n",
       "      <td>8.4</td>\n",
       "      <td>в пределах 6-9</td>\n",
       "    </tr>\n",
       "    <tr>\n",
       "      <th>Запах</th>\n",
       "      <td>баллы</td>\n",
       "      <td>1</td>\n",
       "      <td>не более 2-3</td>\n",
       "    </tr>\n",
       "    <tr>\n",
       "      <th>Цветность</th>\n",
       "      <td>градусы</td>\n",
       "      <td>б/цвета</td>\n",
       "      <td>не более 30</td>\n",
       "    </tr>\n",
       "    <tr>\n",
       "      <th>Жёсткость</th>\n",
       "      <td>мг-эквл/дм3</td>\n",
       "      <td>9.199999999999999</td>\n",
       "      <td>в пределах 7-10</td>\n",
       "    </tr>\n",
       "    <tr>\n",
       "      <th>Аммиак и аммоний-ион (по азоту)</th>\n",
       "      <td>мг/дм3</td>\n",
       "      <td>0.42</td>\n",
       "      <td>не более 1,5</td>\n",
       "    </tr>\n",
       "    <tr>\n",
       "      <th>Нитриты (по NO2)</th>\n",
       "      <td>мг/дм3</td>\n",
       "      <td>0.017</td>\n",
       "      <td>не более 3,3</td>\n",
       "    </tr>\n",
       "    <tr>\n",
       "      <th>Нитраты (по NO3)</th>\n",
       "      <td>мг/дм3</td>\n",
       "      <td>24</td>\n",
       "      <td>не более 45</td>\n",
       "    </tr>\n",
       "    <tr>\n",
       "      <th>Фосфаты (P)</th>\n",
       "      <td>мг/дм3</td>\n",
       "      <td>0.36</td>\n",
       "      <td>не более 3,5</td>\n",
       "    </tr>\n",
       "    <tr>\n",
       "      <th>Хлориды (Cl)</th>\n",
       "      <td>мг/дм3</td>\n",
       "      <td>200</td>\n",
       "      <td>не более 350</td>\n",
       "    </tr>\n",
       "    <tr>\n",
       "      <th>Сульфаты (SO4)</th>\n",
       "      <td>мг/дм3</td>\n",
       "      <td>189.5</td>\n",
       "      <td>не более 500</td>\n",
       "    </tr>\n",
       "    <tr>\n",
       "      <th>Железо (включая хлорное железо) по Fe</th>\n",
       "      <td>мг/дм3</td>\n",
       "      <td>0.019</td>\n",
       "      <td>не более 0,3</td>\n",
       "    </tr>\n",
       "    <tr>\n",
       "      <th>Нефть</th>\n",
       "      <td>мг/дм3</td>\n",
       "      <td>0.55</td>\n",
       "      <td>не более 0,3</td>\n",
       "    </tr>\n",
       "    <tr>\n",
       "      <th>Общая минерализация (сухой остаток)</th>\n",
       "      <td>мг/дм3</td>\n",
       "      <td>590</td>\n",
       "      <td>не более 1000</td>\n",
       "    </tr>\n",
       "    <tr>\n",
       "      <th>Окисляемость перманганатная</th>\n",
       "      <td>мг/дм3</td>\n",
       "      <td>2</td>\n",
       "      <td>не более 0,5</td>\n",
       "    </tr>\n",
       "  </tbody>\n",
       "</table>\n",
       "</div>"
      ],
      "text/plain": [
       "                                      Единица измерений  Результат анализа  \\\n",
       "Показатель                                                                   \n",
       "pH                                           единицы pH                8.4   \n",
       "Запах                                             баллы                  1   \n",
       "Цветность                                       градусы            б/цвета   \n",
       "Жёсткость                                   мг-эквл/дм3  9.199999999999999   \n",
       "Аммиак и аммоний-ион (по азоту)                  мг/дм3               0.42   \n",
       "Нитриты (по NO2)                                 мг/дм3              0.017   \n",
       "Нитраты (по NO3)                                 мг/дм3                 24   \n",
       "Фосфаты (P)                                      мг/дм3               0.36   \n",
       "Хлориды (Cl)                                     мг/дм3                200   \n",
       "Сульфаты (SO4)                                   мг/дм3              189.5   \n",
       "Железо (включая хлорное железо) по Fe            мг/дм3              0.019   \n",
       "Нефть                                            мг/дм3               0.55   \n",
       "Общая минерализация (сухой остаток)              мг/дм3                590   \n",
       "Окисляемость перманганатная                      мг/дм3                  2   \n",
       "\n",
       "                                              Норматив  \n",
       "Показатель                                              \n",
       "pH                                      в пределах 6-9  \n",
       "Запах                                     не более 2-3  \n",
       "Цветность                                  не более 30  \n",
       "Жёсткость                              в пределах 7-10  \n",
       "Аммиак и аммоний-ион (по азоту)           не более 1,5  \n",
       "Нитриты (по NO2)                          не более 3,3  \n",
       "Нитраты (по NO3)                           не более 45  \n",
       "Фосфаты (P)                               не более 3,5  \n",
       "Хлориды (Cl)                              не более 350  \n",
       "Сульфаты (SO4)                            не более 500  \n",
       "Железо (включая хлорное железо) по Fe     не более 0,3  \n",
       "Нефть                                     не более 0,3  \n",
       "Общая минерализация (сухой остаток)      не более 1000  \n",
       "Окисляемость перманганатная               не более 0,5  "
      ]
     },
     "execution_count": 4,
     "metadata": {},
     "output_type": "execute_result"
    }
   ],
   "source": [
    "# Загружаем файл\n",
    "df = pd.read_csv('Химический анализ родника в Нескучном саду.csv', sep=';')\n",
    "df = df.set_index('Показатель') # столбец \"Показатель\" сделайте индексным\n",
    "df"
   ]
  },
  {
   "cell_type": "code",
   "execution_count": 5,
   "metadata": {},
   "outputs": [
    {
     "name": "stdout",
     "output_type": "stream",
     "text": [
      "<class 'pandas.core.frame.DataFrame'>\n",
      "Index: 14 entries, pH to Окисляемость перманганатная\n",
      "Data columns (total 3 columns):\n",
      " #   Column             Non-Null Count  Dtype \n",
      "---  ------             --------------  ----- \n",
      " 0   Единица измерений  14 non-null     object\n",
      " 1   Результат анализа  14 non-null     object\n",
      " 2   Норматив           14 non-null     object\n",
      "dtypes: object(3)\n",
      "memory usage: 448.0+ bytes\n"
     ]
    }
   ],
   "source": [
    "# смотрим инфу по датасету\n",
    "df.info()"
   ]
  },
  {
   "cell_type": "code",
   "execution_count": 6,
   "metadata": {},
   "outputs": [],
   "source": [
    "# приведем в соответствие столбец \"Результат анализа\" в число\n",
    "df[\"Результат анализа\"] = df[\"Результат анализа\"].str.extract(r'(\\d+(?:\\.\\d+)?)').astype(float)\n",
    "# приведем в соответствие числа столбеца \"Норматив\"\n",
    "df[\"Норматив\"] = df[\"Норматив\"].str.replace(',', '.')"
   ]
  },
  {
   "cell_type": "code",
   "execution_count": 7,
   "metadata": {},
   "outputs": [
    {
     "data": {
      "text/plain": [
       "Единица измерений    0\n",
       "Результат анализа    1\n",
       "Норматив             0\n",
       "dtype: int64"
      ]
     },
     "execution_count": 7,
     "metadata": {},
     "output_type": "execute_result"
    }
   ],
   "source": [
    "#  считаем количестово пропущенных значений\n",
    "df.isna().sum()"
   ]
  },
  {
   "cell_type": "code",
   "execution_count": 8,
   "metadata": {},
   "outputs": [],
   "source": [
    "# заменяем NaN на ноль по по некоректным данным\n",
    "df[\"Результат анализа\"].fillna(0, inplace = True)"
   ]
  },
  {
   "cell_type": "code",
   "execution_count": 9,
   "metadata": {},
   "outputs": [],
   "source": [
    "# создадим функцию для того, чтобы программно \"прочитать и понять\" значение столбца \"Норматив\"\n",
    "def Vivod(normativ, resul):\n",
    "    if 'в пределах' in normativ:\n",
    "        num = re.findall(r'(\\d+(?:\\.\\d+)?)', normativ)\n",
    "        if float(num[0]) <= resul <= float(num[1]):\n",
    "            return 'Yes'\n",
    "        else: return 'No'\n",
    "    elif 'не более' in normativ:\n",
    "        num = re.findall(r'(\\d+(?:\\.\\d+)?)', normativ)\n",
    "        if resul <= float(num[-1]):\n",
    "            return 'Yes'\n",
    "        else: return 'No'"
   ]
  },
  {
   "cell_type": "code",
   "execution_count": 10,
   "metadata": {},
   "outputs": [],
   "source": [
    "# создадим итоговый столбец\n",
    "df['Вывод'] = df.apply(lambda x: Vivod(x['Норматив'], x[\"Результат анализа\"]), axis=1)"
   ]
  },
  {
   "cell_type": "code",
   "execution_count": 11,
   "metadata": {},
   "outputs": [
    {
     "data": {
      "text/html": [
       "<div>\n",
       "<style scoped>\n",
       "    .dataframe tbody tr th:only-of-type {\n",
       "        vertical-align: middle;\n",
       "    }\n",
       "\n",
       "    .dataframe tbody tr th {\n",
       "        vertical-align: top;\n",
       "    }\n",
       "\n",
       "    .dataframe thead th {\n",
       "        text-align: right;\n",
       "    }\n",
       "</style>\n",
       "<table border=\"1\" class=\"dataframe\">\n",
       "  <thead>\n",
       "    <tr style=\"text-align: right;\">\n",
       "      <th></th>\n",
       "      <th>Единица измерений</th>\n",
       "      <th>Результат анализа</th>\n",
       "      <th>Норматив</th>\n",
       "      <th>Вывод</th>\n",
       "    </tr>\n",
       "    <tr>\n",
       "      <th>Показатель</th>\n",
       "      <th></th>\n",
       "      <th></th>\n",
       "      <th></th>\n",
       "      <th></th>\n",
       "    </tr>\n",
       "  </thead>\n",
       "  <tbody>\n",
       "    <tr>\n",
       "      <th>pH</th>\n",
       "      <td>единицы pH</td>\n",
       "      <td>8.400</td>\n",
       "      <td>в пределах 6-9</td>\n",
       "      <td>Yes</td>\n",
       "    </tr>\n",
       "    <tr>\n",
       "      <th>Запах</th>\n",
       "      <td>баллы</td>\n",
       "      <td>1.000</td>\n",
       "      <td>не более 2-3</td>\n",
       "      <td>Yes</td>\n",
       "    </tr>\n",
       "    <tr>\n",
       "      <th>Цветность</th>\n",
       "      <td>градусы</td>\n",
       "      <td>0.000</td>\n",
       "      <td>не более 30</td>\n",
       "      <td>Yes</td>\n",
       "    </tr>\n",
       "    <tr>\n",
       "      <th>Жёсткость</th>\n",
       "      <td>мг-эквл/дм3</td>\n",
       "      <td>9.200</td>\n",
       "      <td>в пределах 7-10</td>\n",
       "      <td>Yes</td>\n",
       "    </tr>\n",
       "    <tr>\n",
       "      <th>Аммиак и аммоний-ион (по азоту)</th>\n",
       "      <td>мг/дм3</td>\n",
       "      <td>0.420</td>\n",
       "      <td>не более 1.5</td>\n",
       "      <td>Yes</td>\n",
       "    </tr>\n",
       "    <tr>\n",
       "      <th>Нитриты (по NO2)</th>\n",
       "      <td>мг/дм3</td>\n",
       "      <td>0.017</td>\n",
       "      <td>не более 3.3</td>\n",
       "      <td>Yes</td>\n",
       "    </tr>\n",
       "    <tr>\n",
       "      <th>Нитраты (по NO3)</th>\n",
       "      <td>мг/дм3</td>\n",
       "      <td>24.000</td>\n",
       "      <td>не более 45</td>\n",
       "      <td>Yes</td>\n",
       "    </tr>\n",
       "    <tr>\n",
       "      <th>Фосфаты (P)</th>\n",
       "      <td>мг/дм3</td>\n",
       "      <td>0.360</td>\n",
       "      <td>не более 3.5</td>\n",
       "      <td>Yes</td>\n",
       "    </tr>\n",
       "    <tr>\n",
       "      <th>Хлориды (Cl)</th>\n",
       "      <td>мг/дм3</td>\n",
       "      <td>200.000</td>\n",
       "      <td>не более 350</td>\n",
       "      <td>Yes</td>\n",
       "    </tr>\n",
       "    <tr>\n",
       "      <th>Сульфаты (SO4)</th>\n",
       "      <td>мг/дм3</td>\n",
       "      <td>189.500</td>\n",
       "      <td>не более 500</td>\n",
       "      <td>Yes</td>\n",
       "    </tr>\n",
       "    <tr>\n",
       "      <th>Железо (включая хлорное железо) по Fe</th>\n",
       "      <td>мг/дм3</td>\n",
       "      <td>0.019</td>\n",
       "      <td>не более 0.3</td>\n",
       "      <td>Yes</td>\n",
       "    </tr>\n",
       "    <tr>\n",
       "      <th>Нефть</th>\n",
       "      <td>мг/дм3</td>\n",
       "      <td>0.550</td>\n",
       "      <td>не более 0.3</td>\n",
       "      <td>No</td>\n",
       "    </tr>\n",
       "    <tr>\n",
       "      <th>Общая минерализация (сухой остаток)</th>\n",
       "      <td>мг/дм3</td>\n",
       "      <td>590.000</td>\n",
       "      <td>не более 1000</td>\n",
       "      <td>Yes</td>\n",
       "    </tr>\n",
       "    <tr>\n",
       "      <th>Окисляемость перманганатная</th>\n",
       "      <td>мг/дм3</td>\n",
       "      <td>2.000</td>\n",
       "      <td>не более 0.5</td>\n",
       "      <td>No</td>\n",
       "    </tr>\n",
       "  </tbody>\n",
       "</table>\n",
       "</div>"
      ],
      "text/plain": [
       "                                      Единица измерений  Результат анализа  \\\n",
       "Показатель                                                                   \n",
       "pH                                           единицы pH              8.400   \n",
       "Запах                                             баллы              1.000   \n",
       "Цветность                                       градусы              0.000   \n",
       "Жёсткость                                   мг-эквл/дм3              9.200   \n",
       "Аммиак и аммоний-ион (по азоту)                  мг/дм3              0.420   \n",
       "Нитриты (по NO2)                                 мг/дм3              0.017   \n",
       "Нитраты (по NO3)                                 мг/дм3             24.000   \n",
       "Фосфаты (P)                                      мг/дм3              0.360   \n",
       "Хлориды (Cl)                                     мг/дм3            200.000   \n",
       "Сульфаты (SO4)                                   мг/дм3            189.500   \n",
       "Железо (включая хлорное железо) по Fe            мг/дм3              0.019   \n",
       "Нефть                                            мг/дм3              0.550   \n",
       "Общая минерализация (сухой остаток)              мг/дм3            590.000   \n",
       "Окисляемость перманганатная                      мг/дм3              2.000   \n",
       "\n",
       "                                              Норматив Вывод  \n",
       "Показатель                                                    \n",
       "pH                                      в пределах 6-9   Yes  \n",
       "Запах                                     не более 2-3   Yes  \n",
       "Цветность                                  не более 30   Yes  \n",
       "Жёсткость                              в пределах 7-10   Yes  \n",
       "Аммиак и аммоний-ион (по азоту)           не более 1.5   Yes  \n",
       "Нитриты (по NO2)                          не более 3.3   Yes  \n",
       "Нитраты (по NO3)                           не более 45   Yes  \n",
       "Фосфаты (P)                               не более 3.5   Yes  \n",
       "Хлориды (Cl)                              не более 350   Yes  \n",
       "Сульфаты (SO4)                            не более 500   Yes  \n",
       "Железо (включая хлорное железо) по Fe     не более 0.3   Yes  \n",
       "Нефть                                     не более 0.3    No  \n",
       "Общая минерализация (сухой остаток)      не более 1000   Yes  \n",
       "Окисляемость перманганатная               не более 0.5    No  "
      ]
     },
     "execution_count": 11,
     "metadata": {},
     "output_type": "execute_result"
    }
   ],
   "source": [
    "# вывод итог\n",
    "df"
   ]
  },
  {
   "cell_type": "markdown",
   "metadata": {
    "id": "gUvTNDlMaV-a"
   },
   "source": [
    "## Теория вероятности. События\n",
    "\n",
    "Требуется сгенерировать необходимые выборки и произвести по ним расчеты"
   ]
  },
  {
   "cell_type": "markdown",
   "metadata": {
    "id": "t0XOMos2Tl0e"
   },
   "source": [
    "### Задача 2\n",
    "В ящике 5 апельсинов и 4 яблока. Наудачу выбираются 3 фрукта. Какова вероятность, что все три фрукта – апельсины?\n",
    "\n",
    "В интернете полученный аналитически ответ 0.119. Подтверждается ли он эксперементально?\n"
   ]
  },
  {
   "cell_type": "code",
   "execution_count": 12,
   "metadata": {},
   "outputs": [],
   "source": [
    "# заполняем ящик\n",
    "Y1 = ['Orange']*5 + ['Apple']*4\n",
    "Y2 = ['Orange']*4 + ['Apple']*4\n",
    "Y3 = ['Orange']*3 + ['Apple']*4\n",
    "n = 1000000 # количество выбора"
   ]
  },
  {
   "cell_type": "code",
   "execution_count": 13,
   "metadata": {},
   "outputs": [],
   "source": [
    "# формируем выборку\n",
    "df = pd.DataFrame({'A': pd.Series(np.random.choice(Y1, n)),\n",
    "                   'B': pd.Series(np.random.choice(Y2, n)),\n",
    "                   'C': pd.Series(np.random.choice(Y3, n))})"
   ]
  },
  {
   "cell_type": "code",
   "execution_count": 14,
   "metadata": {},
   "outputs": [
    {
     "name": "stdout",
     "output_type": "stream",
     "text": [
      "CPU times: total: 453 ms\n",
      "Wall time: 445 ms\n"
     ]
    },
    {
     "data": {
      "text/plain": [
       "0.119145"
      ]
     },
     "execution_count": 14,
     "metadata": {},
     "output_type": "execute_result"
    }
   ],
   "source": [
    "%%time\n",
    "# вероятность\n",
    "df[(df.A == 'Orange') & (df.B == 'Orange') & (df.C == 'Orange')].shape[0] / df.shape[0]"
   ]
  },
  {
   "cell_type": "markdown",
   "metadata": {
    "id": "g7A7QlvGTnwZ"
   },
   "source": [
    "### Задача 3\n",
    "Мастер, имея 10 деталей, из которых 3 – нестандартных, проверяет детали одну за другой, пока ему не попадется стандартная. Какова вероятность, что он проверит ровно две детали?\n",
    "\n",
    "\n",
    "В интернете полученный аналитически ответ 7/30 или 0.23333. Подтверждается ли он эксперементально?"
   ]
  },
  {
   "cell_type": "code",
   "execution_count": null,
   "metadata": {},
   "outputs": [],
   "source": [
    "# Ваше решение"
   ]
  },
  {
   "cell_type": "code",
   "execution_count": 15,
   "metadata": {},
   "outputs": [],
   "source": [
    "# детали\n",
    "D1 = ['Стардант']*3 + ['Не Стардант']*7\n",
    "D2 = ['Стардант']*3 + ['Не Стардант']*6\n",
    "n = 1000000 # количество выбора"
   ]
  },
  {
   "cell_type": "code",
   "execution_count": 16,
   "metadata": {},
   "outputs": [],
   "source": [
    "# формируем выборку\n",
    "df = pd.DataFrame({'A': pd.Series(np.random.choice(D1, n)),\n",
    "                   'B': pd.Series(np.random.choice(D2, n))})"
   ]
  },
  {
   "cell_type": "code",
   "execution_count": 17,
   "metadata": {},
   "outputs": [
    {
     "name": "stdout",
     "output_type": "stream",
     "text": [
      "CPU times: total: 312 ms\n",
      "Wall time: 313 ms\n"
     ]
    },
    {
     "data": {
      "text/plain": [
       "0.233456"
      ]
     },
     "execution_count": 17,
     "metadata": {},
     "output_type": "execute_result"
    }
   ],
   "source": [
    "%%time\n",
    "# вероятность\n",
    "df[(df.A == 'Не Стардант') & (df.B == 'Стардант')].shape[0] / df.shape[0]"
   ]
  }
 ],
 "metadata": {
  "celltoolbar": "Raw Cell Format",
  "colab": {
   "collapsed_sections": [],
   "name": "Практика к занятию 11.ipynb",
   "provenance": []
  },
  "kernelspec": {
   "display_name": "Python 3 (ipykernel)",
   "language": "python",
   "name": "python3"
  },
  "language_info": {
   "codemirror_mode": {
    "name": "ipython",
    "version": 3
   },
   "file_extension": ".py",
   "mimetype": "text/x-python",
   "name": "python",
   "nbconvert_exporter": "python",
   "pygments_lexer": "ipython3",
   "version": "3.9.12"
  }
 },
 "nbformat": 4,
 "nbformat_minor": 1
}
