{
 "cells": [
  {
   "cell_type": "markdown",
   "metadata": {
    "pycharm": {
     "name": "#%% md\n"
    }
   },
   "source": [
    "[![Open In Colab](https://colab.research.google.com/assets/colab-badge.svg)](https://colab.research.google.com/github/ds-reboot/python-first-part/blob/main/notebooks/hometasks/Task2_dmrf_visual.ipynb)"
   ]
  },
  {
   "cell_type": "markdown",
   "metadata": {
    "pycharm": {
     "name": "#%% md\n"
    }
   },
   "source": [
    "# Задание\n",
    "* Собрать информацию о всех строящихся объектах на сайте \"наш.дом.рф\"\n",
    "* Cохранить результаты в pandas dataframe\n",
    "<hr>\n",
    "\n",
    "* Проверить состояние датафрейма и привести его в формат, позволяющий дальнейшее исследование данных:\n",
    "-- Привести колонки датафрейма к одному типу данных\n",
    "-- Проверить индекс, чтобы он соответствовал порядку строк\n",
    "-- Проверить наличие пропусков и в случае обнаружения, определить стратегию их обработки\n",
    "<hr>\n",
    "\n",
    "* Провести мини-исследование рынка строящейся недвижимости в одном или нескольких регионах с помощью pandas, matplotlib, seaborn, plotly и других инструментов.\n",
    "-- Рассчитать средние цены за квадратный метр по регионам. Важно чтобы пропуски не учитывались при расчете средней цены.\n",
    "-- Рассчитать объемы вводимого жилья по регионам и по годам.\n",
    "-- Сравнить этажность домов, количество квартир, жилую площадь, количество парковочных мест и цену за квадратный метр в разных регионах\n",
    "-- Визуализировать разброс, связь и распределение этих показателей по регионам\n",
    "-- Сделать выводы по каждому из расчетов и графиков\n",
    "\n"
   ]
  },
  {
   "cell_type": "code",
   "execution_count": 1,
   "metadata": {
    "pycharm": {
     "name": "#%%\n"
    }
   },
   "outputs": [],
   "source": [
    "import requests\n",
    "import os\n",
    "import csv\n",
    "import pandas as pd\n",
    "from tqdm.auto import tqdm\n",
    "from bs4 import BeautifulSoup as bs\n",
    "from urllib.parse import urljoin, urlparse\n",
    "import datetime\n",
    "from datetime import datetime, date\n",
    "import matplotlib.pyplot as plt\n",
    "import seaborn as sns\n",
    "import plotly.express as px\n",
    "import plotly.graph_objs as go\n",
    "\n",
    "import warnings\n",
    "warnings.filterwarnings('ignore')"
   ]
  },
  {
   "cell_type": "code",
   "execution_count": 2,
   "metadata": {},
   "outputs": [],
   "source": [
    "# установим параметры экрана\n",
    "# pd.set_option('display.max_rows', 10)\n",
    "pd.set_option('display.max_columns', None)\n",
    "# pd.set_option('display.max_colwidth', None)"
   ]
  },
  {
   "cell_type": "markdown",
   "metadata": {
    "pycharm": {
     "name": "#%% md\n"
    }
   },
   "source": [
    "## Список объектов"
   ]
  },
  {
   "cell_type": "code",
   "execution_count": 3,
   "metadata": {
    "pycharm": {
     "name": "#%%\n"
    }
   },
   "outputs": [],
   "source": [
    "# offset_ = 1\n",
    "# limit_ = 1000\n",
    "# url = f'https://xn--80az8a.xn--d1aqf.xn--p1ai/%D1%81%D0%B5%D1%80%D0%B2%D0%B8%D1%81%D1%8B/api/kn/object?offset={offset_}&limit={limit_}&sortField=devId.devShortCleanNm&sortType=asc&objStatus=0'\n",
    "# res = requests.get(url)\n",
    "# objects_data = res.json()"
   ]
  },
  {
   "cell_type": "code",
   "execution_count": 3,
   "metadata": {},
   "outputs": [
    {
     "data": {
      "text/html": [
       "<div>\n",
       "<style scoped>\n",
       "    .dataframe tbody tr th:only-of-type {\n",
       "        vertical-align: middle;\n",
       "    }\n",
       "\n",
       "    .dataframe tbody tr th {\n",
       "        vertical-align: top;\n",
       "    }\n",
       "\n",
       "    .dataframe thead th {\n",
       "        text-align: right;\n",
       "    }\n",
       "</style>\n",
       "<table border=\"1\" class=\"dataframe\">\n",
       "  <thead>\n",
       "    <tr style=\"text-align: right;\">\n",
       "      <th></th>\n",
       "      <th>hobjId</th>\n",
       "      <th>objId</th>\n",
       "      <th>developer</th>\n",
       "      <th>rpdRegionCd</th>\n",
       "      <th>objAddr</th>\n",
       "      <th>objFloorMin</th>\n",
       "      <th>objFloorMax</th>\n",
       "      <th>objElemLivingCnt</th>\n",
       "      <th>objReady100PercDt</th>\n",
       "      <th>objSquareLiving</th>\n",
       "      <th>objCompensFundFlg</th>\n",
       "      <th>objProblemFlg</th>\n",
       "      <th>latitude</th>\n",
       "      <th>longitude</th>\n",
       "      <th>problemFlag</th>\n",
       "      <th>siteStatus</th>\n",
       "      <th>objGuarantyEscrowFlg</th>\n",
       "      <th>residentialBuildings</th>\n",
       "      <th>rpdNum</th>\n",
       "      <th>pdId</th>\n",
       "      <th>buildType</th>\n",
       "      <th>objStatus</th>\n",
       "      <th>objCommercNm</th>\n",
       "      <th>complexShortName</th>\n",
       "    </tr>\n",
       "  </thead>\n",
       "  <tbody>\n",
       "    <tr>\n",
       "      <th>0</th>\n",
       "      <td>37219</td>\n",
       "      <td>13391</td>\n",
       "      <td>2МЕН ГРУПП</td>\n",
       "      <td>72</td>\n",
       "      <td>г Тюмень, ул Профсоюзная</td>\n",
       "      <td>3</td>\n",
       "      <td>12</td>\n",
       "      <td>44</td>\n",
       "      <td>2022-12-31</td>\n",
       "      <td>4297.44</td>\n",
       "      <td>1</td>\n",
       "      <td>0</td>\n",
       "      <td>57.1541</td>\n",
       "      <td>65.5595</td>\n",
       "      <td>NONE</td>\n",
       "      <td>Строящиеся</td>\n",
       "      <td>0</td>\n",
       "      <td>1</td>\n",
       "      <td>72-000096</td>\n",
       "      <td>28101</td>\n",
       "      <td>Жилое</td>\n",
       "      <td>0</td>\n",
       "      <td>NaN</td>\n",
       "      <td>NaN</td>\n",
       "    </tr>\n",
       "    <tr>\n",
       "      <th>1</th>\n",
       "      <td>39024</td>\n",
       "      <td>13383</td>\n",
       "      <td>2МЕН ГРУПП</td>\n",
       "      <td>72</td>\n",
       "      <td>г Тюмень</td>\n",
       "      <td>4</td>\n",
       "      <td>20</td>\n",
       "      <td>68</td>\n",
       "      <td>2022-12-31</td>\n",
       "      <td>6296.55</td>\n",
       "      <td>1</td>\n",
       "      <td>0</td>\n",
       "      <td>57.1519</td>\n",
       "      <td>65.5536</td>\n",
       "      <td>NONE</td>\n",
       "      <td>Строящиеся</td>\n",
       "      <td>0</td>\n",
       "      <td>1</td>\n",
       "      <td>72-000095</td>\n",
       "      <td>28105</td>\n",
       "      <td>Жилое</td>\n",
       "      <td>0</td>\n",
       "      <td>NaN</td>\n",
       "      <td>NaN</td>\n",
       "    </tr>\n",
       "    <tr>\n",
       "      <th>2</th>\n",
       "      <td>37165</td>\n",
       "      <td>13398</td>\n",
       "      <td>2МЕН ГРУПП</td>\n",
       "      <td>72</td>\n",
       "      <td>г Тюмень, ул Профсоюзная, д. 56</td>\n",
       "      <td>7</td>\n",
       "      <td>10</td>\n",
       "      <td>43</td>\n",
       "      <td>2024-12-31</td>\n",
       "      <td>4812.98</td>\n",
       "      <td>0</td>\n",
       "      <td>0</td>\n",
       "      <td>57.1519</td>\n",
       "      <td>65.5544</td>\n",
       "      <td>NONE</td>\n",
       "      <td>Строящиеся</td>\n",
       "      <td>0</td>\n",
       "      <td>1</td>\n",
       "      <td>72-000097</td>\n",
       "      <td>28141</td>\n",
       "      <td>Жилое</td>\n",
       "      <td>0</td>\n",
       "      <td>NaN</td>\n",
       "      <td>NaN</td>\n",
       "    </tr>\n",
       "    <tr>\n",
       "      <th>3</th>\n",
       "      <td>37201</td>\n",
       "      <td>13397</td>\n",
       "      <td>2МЕН ГРУПП</td>\n",
       "      <td>72</td>\n",
       "      <td>г Тюмень, ул Профсоюзная, д. 56</td>\n",
       "      <td>6</td>\n",
       "      <td>12</td>\n",
       "      <td>65</td>\n",
       "      <td>2024-12-31</td>\n",
       "      <td>6248.51</td>\n",
       "      <td>0</td>\n",
       "      <td>0</td>\n",
       "      <td>57.1519</td>\n",
       "      <td>65.5544</td>\n",
       "      <td>NONE</td>\n",
       "      <td>Строящиеся</td>\n",
       "      <td>0</td>\n",
       "      <td>1</td>\n",
       "      <td>72-000097</td>\n",
       "      <td>28141</td>\n",
       "      <td>Жилое</td>\n",
       "      <td>0</td>\n",
       "      <td>NaN</td>\n",
       "      <td>NaN</td>\n",
       "    </tr>\n",
       "    <tr>\n",
       "      <th>4</th>\n",
       "      <td>34754</td>\n",
       "      <td>13399</td>\n",
       "      <td>2МЕН ГРУПП</td>\n",
       "      <td>72</td>\n",
       "      <td>г Тюмень, ул Профсоюзная, д. 56</td>\n",
       "      <td>1</td>\n",
       "      <td>1</td>\n",
       "      <td>0</td>\n",
       "      <td>2024-12-31</td>\n",
       "      <td>0.00</td>\n",
       "      <td>0</td>\n",
       "      <td>0</td>\n",
       "      <td>57.1519</td>\n",
       "      <td>65.5544</td>\n",
       "      <td>NONE</td>\n",
       "      <td>Строящиеся</td>\n",
       "      <td>0</td>\n",
       "      <td>0</td>\n",
       "      <td>72-000097</td>\n",
       "      <td>28141</td>\n",
       "      <td>Нежилое</td>\n",
       "      <td>0</td>\n",
       "      <td>NaN</td>\n",
       "      <td>NaN</td>\n",
       "    </tr>\n",
       "  </tbody>\n",
       "</table>\n",
       "</div>"
      ],
      "text/plain": [
       "   hobjId  objId   developer  rpdRegionCd                          objAddr  \\\n",
       "0   37219  13391  2МЕН ГРУПП           72         г Тюмень, ул Профсоюзная   \n",
       "1   39024  13383  2МЕН ГРУПП           72                         г Тюмень   \n",
       "2   37165  13398  2МЕН ГРУПП           72  г Тюмень, ул Профсоюзная, д. 56   \n",
       "3   37201  13397  2МЕН ГРУПП           72  г Тюмень, ул Профсоюзная, д. 56   \n",
       "4   34754  13399  2МЕН ГРУПП           72  г Тюмень, ул Профсоюзная, д. 56   \n",
       "\n",
       "   objFloorMin  objFloorMax  objElemLivingCnt objReady100PercDt  \\\n",
       "0            3           12                44        2022-12-31   \n",
       "1            4           20                68        2022-12-31   \n",
       "2            7           10                43        2024-12-31   \n",
       "3            6           12                65        2024-12-31   \n",
       "4            1            1                 0        2024-12-31   \n",
       "\n",
       "   objSquareLiving  objCompensFundFlg  objProblemFlg  latitude  longitude  \\\n",
       "0          4297.44                  1              0   57.1541    65.5595   \n",
       "1          6296.55                  1              0   57.1519    65.5536   \n",
       "2          4812.98                  0              0   57.1519    65.5544   \n",
       "3          6248.51                  0              0   57.1519    65.5544   \n",
       "4             0.00                  0              0   57.1519    65.5544   \n",
       "\n",
       "  problemFlag  siteStatus  objGuarantyEscrowFlg  residentialBuildings  \\\n",
       "0        NONE  Строящиеся                     0                     1   \n",
       "1        NONE  Строящиеся                     0                     1   \n",
       "2        NONE  Строящиеся                     0                     1   \n",
       "3        NONE  Строящиеся                     0                     1   \n",
       "4        NONE  Строящиеся                     0                     0   \n",
       "\n",
       "      rpdNum   pdId buildType  objStatus objCommercNm complexShortName  \n",
       "0  72-000096  28101     Жилое          0          NaN              NaN  \n",
       "1  72-000095  28105     Жилое          0          NaN              NaN  \n",
       "2  72-000097  28141     Жилое          0          NaN              NaN  \n",
       "3  72-000097  28141     Жилое          0          NaN              NaN  \n",
       "4  72-000097  28141   Нежилое          0          NaN              NaN  "
      ]
     },
     "execution_count": 3,
     "metadata": {},
     "output_type": "execute_result"
    }
   ],
   "source": [
    "# загрузим датасет из ДЗ1\n",
    "df = pd.read_csv('nash-dom-rf.csv')\n",
    "df.head(5)"
   ]
  },
  {
   "cell_type": "markdown",
   "metadata": {
    "pycharm": {
     "name": "#%% md\n"
    }
   },
   "source": [
    "# Данные по определенному объекту"
   ]
  },
  {
   "cell_type": "code",
   "execution_count": 5,
   "metadata": {
    "pycharm": {
     "name": "#%%\n"
    }
   },
   "outputs": [],
   "source": [
    "# url = f'https://xn--80az8a.xn--d1aqf.xn--p1ai/%D1%81%D0%B5%D1%80%D0%B2%D0%B8%D1%81%D1%8B/api/object/36774'"
   ]
  },
  {
   "cell_type": "code",
   "execution_count": 4,
   "metadata": {
    "pycharm": {
     "name": "#%%\n"
    },
    "scrolled": false
   },
   "outputs": [
    {
     "data": {
      "text/html": [
       "<div>\n",
       "<style scoped>\n",
       "    .dataframe tbody tr th:only-of-type {\n",
       "        vertical-align: middle;\n",
       "    }\n",
       "\n",
       "    .dataframe tbody tr th {\n",
       "        vertical-align: top;\n",
       "    }\n",
       "\n",
       "    .dataframe thead th {\n",
       "        text-align: right;\n",
       "    }\n",
       "</style>\n",
       "<table border=\"1\" class=\"dataframe\">\n",
       "  <thead>\n",
       "    <tr style=\"text-align: right;\">\n",
       "      <th></th>\n",
       "      <th>id</th>\n",
       "      <th>hobjId</th>\n",
       "      <th>pdId</th>\n",
       "      <th>region</th>\n",
       "      <th>address</th>\n",
       "      <th>floorMin</th>\n",
       "      <th>floorMax</th>\n",
       "      <th>objElemLivingCnt</th>\n",
       "      <th>objReady100PercDt</th>\n",
       "      <th>wallMaterialShortDesc</th>\n",
       "      <th>objLkFinishTypeDesc</th>\n",
       "      <th>objLkFreePlanDesc</th>\n",
       "      <th>objElemParkingCnt</th>\n",
       "      <th>objSquareLiving</th>\n",
       "      <th>rpdNum</th>\n",
       "      <th>rpdPdfLink</th>\n",
       "      <th>rpdIssueDttm</th>\n",
       "      <th>objLkLatitude</th>\n",
       "      <th>objLkLongitude</th>\n",
       "      <th>objCompensFundFlg</th>\n",
       "      <th>objProblemFlg</th>\n",
       "      <th>objLkClassDesc</th>\n",
       "      <th>loadDttm</th>\n",
       "      <th>photoRenderDTO</th>\n",
       "      <th>objGuarantyEscrowFlg</th>\n",
       "      <th>objectType</th>\n",
       "      <th>miniUrl</th>\n",
       "      <th>residentialBuildings</th>\n",
       "      <th>newBuildingId</th>\n",
       "      <th>objFloorCnt</th>\n",
       "      <th>objFlatCnt</th>\n",
       "      <th>objFlatSq</th>\n",
       "      <th>objNonlivElemCnt</th>\n",
       "      <th>objStatus</th>\n",
       "      <th>isAvailableWantLiveHere</th>\n",
       "      <th>objTransferPlanDt</th>\n",
       "      <th>objLivCeilingHeight</th>\n",
       "      <th>objInfrstrBicycleLaneFlg</th>\n",
       "      <th>objInfrstrPlaygrndCnt</th>\n",
       "      <th>objInfrstrSportGroundCnt</th>\n",
       "      <th>objInfrstrTrashAreaCnt</th>\n",
       "      <th>objInfrstrObjPrkngCnt</th>\n",
       "      <th>objInfrstrNotObjPrkngCnt</th>\n",
       "      <th>objInfrstrRampFlg</th>\n",
       "      <th>objInfrstrCurbLoweringFlg</th>\n",
       "      <th>objElevatorWheelchairCnt</th>\n",
       "      <th>objElevatorPassengerCnt</th>\n",
       "      <th>objElevatorCargoCnt</th>\n",
       "      <th>objElevatorCargoPassengerCnt</th>\n",
       "      <th>soldOutPerc</th>\n",
       "      <th>objPriceAvg</th>\n",
       "      <th>generalContractorNm</th>\n",
       "      <th>nonlivFirstFloor</th>\n",
       "      <th>objectTransportInfo</th>\n",
       "      <th>conclusion</th>\n",
       "      <th>objLkSaleDepEmail</th>\n",
       "      <th>objGreenHouseFlg</th>\n",
       "      <th>objEnergyEffShortDesc</th>\n",
       "      <th>infrastructureIndexValue</th>\n",
       "      <th>developer.devId</th>\n",
       "      <th>developer.devShortCleanNm</th>\n",
       "      <th>developer.devShortNm</th>\n",
       "      <th>developer.devFullCleanNm</th>\n",
       "      <th>developer.problObjCnt</th>\n",
       "      <th>developer.buildObjCnt</th>\n",
       "      <th>developer.comissObjCnt</th>\n",
       "      <th>developer.regRegionDesc</th>\n",
       "      <th>developer.devPhoneNum</th>\n",
       "      <th>developer.devSite</th>\n",
       "      <th>developer.devEmail</th>\n",
       "      <th>developer.devInn</th>\n",
       "      <th>developer.devOgrn</th>\n",
       "      <th>developer.devKpp</th>\n",
       "      <th>developer.devLegalAddr</th>\n",
       "      <th>developer.devFactAddr</th>\n",
       "      <th>developer.lastRpdId</th>\n",
       "      <th>developer.fundGuarantyFlg</th>\n",
       "      <th>developer.devOrgRegRegionCd</th>\n",
       "      <th>developer.devEmplMainFullNm</th>\n",
       "      <th>developer.developerGroupName</th>\n",
       "      <th>developer.orgForm.id</th>\n",
       "      <th>developer.orgForm.fullForm</th>\n",
       "      <th>developer.orgForm.shortForm</th>\n",
       "      <th>developer.companyGroupId</th>\n",
       "      <th>developer.objGuarantyEscrowFlg</th>\n",
       "      <th>developer.govFundFlg</th>\n",
       "      <th>quartography.objLivElem1KCnt</th>\n",
       "      <th>quartography.objLivElem2KCnt</th>\n",
       "      <th>quartography.objLivElem3KCnt</th>\n",
       "      <th>quartography.objLivElem4KCnt</th>\n",
       "      <th>quartography.objLivElemCnt</th>\n",
       "      <th>quartography.objLivElemEntrCnt</th>\n",
       "      <th>quartography.objLivElemEntrFloorAvg</th>\n",
       "      <th>nameObj</th>\n",
       "      <th>transportDistIndex</th>\n",
       "      <th>transportDistIndexValue</th>\n",
       "      <th>metro.id</th>\n",
       "      <th>metro.name</th>\n",
       "      <th>metro.line</th>\n",
       "      <th>metro.color</th>\n",
       "      <th>metro.time</th>\n",
       "      <th>metro.isWalk</th>\n",
       "      <th>metro.colors</th>\n",
       "      <th>airQualityIndexValue</th>\n",
       "      <th>developer.bankruptStage.bankruptStageCd</th>\n",
       "      <th>developer.bankruptStage.bankruptStageDesc</th>\n",
       "      <th>developer.bankruptStage.bankruptLawUrl</th>\n",
       "      <th>developer.orgBankruptMsgDttm</th>\n",
       "      <th>complexShortNm</th>\n",
       "      <th>greenAreaIndexValue</th>\n",
       "    </tr>\n",
       "  </thead>\n",
       "  <tbody>\n",
       "    <tr>\n",
       "      <th>0</th>\n",
       "      <td>13391</td>\n",
       "      <td>37219</td>\n",
       "      <td>28101</td>\n",
       "      <td>72</td>\n",
       "      <td>г Тюмень, ул Профсоюзная</td>\n",
       "      <td>3</td>\n",
       "      <td>12</td>\n",
       "      <td>44</td>\n",
       "      <td>2022-12-31</td>\n",
       "      <td>Другое</td>\n",
       "      <td>По желанию заказчика</td>\n",
       "      <td>Есть</td>\n",
       "      <td>41</td>\n",
       "      <td>4297.44</td>\n",
       "      <td>72-000096</td>\n",
       "      <td>https://xn--80az8a.xn--d1aqf.xn--p1ai/api/ext/...</td>\n",
       "      <td>09-12-2022 15:04</td>\n",
       "      <td>57.1541</td>\n",
       "      <td>65.5595</td>\n",
       "      <td>1</td>\n",
       "      <td>0</td>\n",
       "      <td>Элитный</td>\n",
       "      <td>12-12-2022 01:20</td>\n",
       "      <td>[{'objId': 13391, 'pdId': 28101, 'rpdId': 6674...</td>\n",
       "      <td>0</td>\n",
       "      <td>normal</td>\n",
       "      <td>https://xn--80az8a.xn--d1aqf.xn--p1ai/api/ext/...</td>\n",
       "      <td>1</td>\n",
       "      <td>37219</td>\n",
       "      <td>12</td>\n",
       "      <td>44</td>\n",
       "      <td>4297.44</td>\n",
       "      <td>26</td>\n",
       "      <td>0</td>\n",
       "      <td>True</td>\n",
       "      <td>28-02-2023 12:00</td>\n",
       "      <td>2,8</td>\n",
       "      <td>0</td>\n",
       "      <td>1.0</td>\n",
       "      <td>1.0</td>\n",
       "      <td>1.0</td>\n",
       "      <td>0.0</td>\n",
       "      <td>9.0</td>\n",
       "      <td>1</td>\n",
       "      <td>1</td>\n",
       "      <td>0.0</td>\n",
       "      <td>2.0</td>\n",
       "      <td>2.0</td>\n",
       "      <td>6</td>\n",
       "      <td>0.450622</td>\n",
       "      <td>55893.0</td>\n",
       "      <td>ООО Транспромжилстрой-2005 (ИНН: 7204097730)</td>\n",
       "      <td>1.0</td>\n",
       "      <td>[]</td>\n",
       "      <td>False</td>\n",
       "      <td>info@2mengroup.ru</td>\n",
       "      <td>0</td>\n",
       "      <td>B</td>\n",
       "      <td>9.0</td>\n",
       "      <td>306</td>\n",
       "      <td>2МЕН ГРУПП</td>\n",
       "      <td>2МЕН ГРУПП</td>\n",
       "      <td>2МЕН ГРУПП</td>\n",
       "      <td>0</td>\n",
       "      <td>5</td>\n",
       "      <td>0</td>\n",
       "      <td>Тюменская область</td>\n",
       "      <td>+7(345)279-18-88</td>\n",
       "      <td>2mengroup.ru</td>\n",
       "      <td>info@2mengroup.ru</td>\n",
       "      <td>7701651356</td>\n",
       "      <td>1067746424899</td>\n",
       "      <td>720301001</td>\n",
       "      <td>Тюменская область, город Тюмень, улица Комсомо...</td>\n",
       "      <td>Тюменская область, город Тюмень, улица Комсомо...</td>\n",
       "      <td>667500</td>\n",
       "      <td>1</td>\n",
       "      <td>72.0</td>\n",
       "      <td>Киселев Сергей Михайлович</td>\n",
       "      <td>2МЕН ГРУПП ДЕВЕЛОПМЕНТ</td>\n",
       "      <td>1</td>\n",
       "      <td>Акционерное общество</td>\n",
       "      <td>АО</td>\n",
       "      <td>5776.0</td>\n",
       "      <td>0</td>\n",
       "      <td>0</td>\n",
       "      <td>11.0</td>\n",
       "      <td>16.0</td>\n",
       "      <td>12.0</td>\n",
       "      <td>5.0</td>\n",
       "      <td>44.0</td>\n",
       "      <td>2.0</td>\n",
       "      <td>4.0</td>\n",
       "      <td>NaN</td>\n",
       "      <td>NaN</td>\n",
       "      <td>NaN</td>\n",
       "      <td>NaN</td>\n",
       "      <td>NaN</td>\n",
       "      <td>NaN</td>\n",
       "      <td>NaN</td>\n",
       "      <td>NaN</td>\n",
       "      <td>NaN</td>\n",
       "      <td>NaN</td>\n",
       "      <td>NaN</td>\n",
       "      <td>NaN</td>\n",
       "      <td>NaN</td>\n",
       "      <td>NaN</td>\n",
       "      <td>NaN</td>\n",
       "      <td>NaN</td>\n",
       "      <td>NaN</td>\n",
       "    </tr>\n",
       "    <tr>\n",
       "      <th>1</th>\n",
       "      <td>13383</td>\n",
       "      <td>39024</td>\n",
       "      <td>28105</td>\n",
       "      <td>72</td>\n",
       "      <td>г Тюмень</td>\n",
       "      <td>4</td>\n",
       "      <td>20</td>\n",
       "      <td>68</td>\n",
       "      <td>2022-12-31</td>\n",
       "      <td>Другое</td>\n",
       "      <td>По желанию заказчика</td>\n",
       "      <td>Есть</td>\n",
       "      <td>31</td>\n",
       "      <td>6296.55</td>\n",
       "      <td>72-000095</td>\n",
       "      <td>https://xn--80az8a.xn--d1aqf.xn--p1ai/api/ext/...</td>\n",
       "      <td>09-12-2022 15:05</td>\n",
       "      <td>57.1519</td>\n",
       "      <td>65.5536</td>\n",
       "      <td>1</td>\n",
       "      <td>0</td>\n",
       "      <td>Элитный</td>\n",
       "      <td>12-12-2022 01:20</td>\n",
       "      <td>[{'objId': 13383, 'pdId': 28105, 'rpdId': 6674...</td>\n",
       "      <td>0</td>\n",
       "      <td>normal</td>\n",
       "      <td>https://xn--80az8a.xn--d1aqf.xn--p1ai/api/ext/...</td>\n",
       "      <td>1</td>\n",
       "      <td>39024</td>\n",
       "      <td>20</td>\n",
       "      <td>68</td>\n",
       "      <td>6296.55</td>\n",
       "      <td>10</td>\n",
       "      <td>0</td>\n",
       "      <td>True</td>\n",
       "      <td>28-02-2023 12:00</td>\n",
       "      <td>2,8</td>\n",
       "      <td>0</td>\n",
       "      <td>1.0</td>\n",
       "      <td>1.0</td>\n",
       "      <td>1.0</td>\n",
       "      <td>0.0</td>\n",
       "      <td>11.0</td>\n",
       "      <td>1</td>\n",
       "      <td>1</td>\n",
       "      <td>0.0</td>\n",
       "      <td>5.0</td>\n",
       "      <td>1.0</td>\n",
       "      <td>7</td>\n",
       "      <td>0.406985</td>\n",
       "      <td>53109.0</td>\n",
       "      <td>ООО Транспромжилстрой-2005 (ИНН: 7204097730)</td>\n",
       "      <td>1.0</td>\n",
       "      <td>[]</td>\n",
       "      <td>False</td>\n",
       "      <td>info@2mengroup.ru</td>\n",
       "      <td>0</td>\n",
       "      <td>B</td>\n",
       "      <td>10.0</td>\n",
       "      <td>306</td>\n",
       "      <td>2МЕН ГРУПП</td>\n",
       "      <td>2МЕН ГРУПП</td>\n",
       "      <td>2МЕН ГРУПП</td>\n",
       "      <td>0</td>\n",
       "      <td>5</td>\n",
       "      <td>0</td>\n",
       "      <td>Тюменская область</td>\n",
       "      <td>+7(345)279-18-88</td>\n",
       "      <td>2mengroup.ru</td>\n",
       "      <td>info@2mengroup.ru</td>\n",
       "      <td>7701651356</td>\n",
       "      <td>1067746424899</td>\n",
       "      <td>720301001</td>\n",
       "      <td>Тюменская область, город Тюмень, улица Комсомо...</td>\n",
       "      <td>Тюменская область, город Тюмень, улица Комсомо...</td>\n",
       "      <td>667500</td>\n",
       "      <td>1</td>\n",
       "      <td>72.0</td>\n",
       "      <td>Киселев Сергей Михайлович</td>\n",
       "      <td>2МЕН ГРУПП ДЕВЕЛОПМЕНТ</td>\n",
       "      <td>1</td>\n",
       "      <td>Акционерное общество</td>\n",
       "      <td>АО</td>\n",
       "      <td>5776.0</td>\n",
       "      <td>0</td>\n",
       "      <td>0</td>\n",
       "      <td>13.0</td>\n",
       "      <td>21.0</td>\n",
       "      <td>34.0</td>\n",
       "      <td>0.0</td>\n",
       "      <td>68.0</td>\n",
       "      <td>1.0</td>\n",
       "      <td>6.0</td>\n",
       "      <td>NaN</td>\n",
       "      <td>NaN</td>\n",
       "      <td>NaN</td>\n",
       "      <td>NaN</td>\n",
       "      <td>NaN</td>\n",
       "      <td>NaN</td>\n",
       "      <td>NaN</td>\n",
       "      <td>NaN</td>\n",
       "      <td>NaN</td>\n",
       "      <td>NaN</td>\n",
       "      <td>NaN</td>\n",
       "      <td>NaN</td>\n",
       "      <td>NaN</td>\n",
       "      <td>NaN</td>\n",
       "      <td>NaN</td>\n",
       "      <td>NaN</td>\n",
       "      <td>NaN</td>\n",
       "    </tr>\n",
       "    <tr>\n",
       "      <th>2</th>\n",
       "      <td>13398</td>\n",
       "      <td>37165</td>\n",
       "      <td>28141</td>\n",
       "      <td>72</td>\n",
       "      <td>г Тюмень, ул Профсоюзная, д. 56</td>\n",
       "      <td>7</td>\n",
       "      <td>10</td>\n",
       "      <td>43</td>\n",
       "      <td>2024-12-31</td>\n",
       "      <td>Другое</td>\n",
       "      <td>Без отделки</td>\n",
       "      <td>Нет</td>\n",
       "      <td>0</td>\n",
       "      <td>4812.98</td>\n",
       "      <td>72-000097</td>\n",
       "      <td>https://xn--80az8a.xn--d1aqf.xn--p1ai/api/ext/...</td>\n",
       "      <td>09-12-2022 15:04</td>\n",
       "      <td>57.1519</td>\n",
       "      <td>65.5544</td>\n",
       "      <td>0</td>\n",
       "      <td>0</td>\n",
       "      <td>Элитный</td>\n",
       "      <td>12-12-2022 01:20</td>\n",
       "      <td>[{'objId': 13398, 'pdId': 28141, 'rpdId': 6675...</td>\n",
       "      <td>0</td>\n",
       "      <td>normal</td>\n",
       "      <td>https://xn--80az8a.xn--d1aqf.xn--p1ai/api/ext/...</td>\n",
       "      <td>1</td>\n",
       "      <td>37165</td>\n",
       "      <td>10</td>\n",
       "      <td>43</td>\n",
       "      <td>4812.98</td>\n",
       "      <td>48</td>\n",
       "      <td>0</td>\n",
       "      <td>True</td>\n",
       "      <td>28-02-2025 12:00</td>\n",
       "      <td>2,96</td>\n",
       "      <td>0</td>\n",
       "      <td>1.0</td>\n",
       "      <td>1.0</td>\n",
       "      <td>1.0</td>\n",
       "      <td>4.0</td>\n",
       "      <td>15.0</td>\n",
       "      <td>1</td>\n",
       "      <td>1</td>\n",
       "      <td>0.0</td>\n",
       "      <td>3.0</td>\n",
       "      <td>3.0</td>\n",
       "      <td>6</td>\n",
       "      <td>1.000000</td>\n",
       "      <td>47886.0</td>\n",
       "      <td>ООО Транспромжилстрой-2005 (ИНН: 7204097730)</td>\n",
       "      <td>0.0</td>\n",
       "      <td>[]</td>\n",
       "      <td>False</td>\n",
       "      <td>info@2mengroup.ru</td>\n",
       "      <td>0</td>\n",
       "      <td>B</td>\n",
       "      <td>10.0</td>\n",
       "      <td>306</td>\n",
       "      <td>2МЕН ГРУПП</td>\n",
       "      <td>2МЕН ГРУПП</td>\n",
       "      <td>2МЕН ГРУПП</td>\n",
       "      <td>0</td>\n",
       "      <td>5</td>\n",
       "      <td>0</td>\n",
       "      <td>Тюменская область</td>\n",
       "      <td>+7(345)279-18-88</td>\n",
       "      <td>2mengroup.ru</td>\n",
       "      <td>info@2mengroup.ru</td>\n",
       "      <td>7701651356</td>\n",
       "      <td>1067746424899</td>\n",
       "      <td>720301001</td>\n",
       "      <td>Тюменская область, город Тюмень, улица Комсомо...</td>\n",
       "      <td>Тюменская область, город Тюмень, улица Комсомо...</td>\n",
       "      <td>667500</td>\n",
       "      <td>1</td>\n",
       "      <td>72.0</td>\n",
       "      <td>Киселев Сергей Михайлович</td>\n",
       "      <td>2МЕН ГРУПП ДЕВЕЛОПМЕНТ</td>\n",
       "      <td>1</td>\n",
       "      <td>Акционерное общество</td>\n",
       "      <td>АО</td>\n",
       "      <td>5776.0</td>\n",
       "      <td>0</td>\n",
       "      <td>0</td>\n",
       "      <td>0.0</td>\n",
       "      <td>11.0</td>\n",
       "      <td>19.0</td>\n",
       "      <td>13.0</td>\n",
       "      <td>43.0</td>\n",
       "      <td>3.0</td>\n",
       "      <td>3.0</td>\n",
       "      <td>NaN</td>\n",
       "      <td>NaN</td>\n",
       "      <td>NaN</td>\n",
       "      <td>NaN</td>\n",
       "      <td>NaN</td>\n",
       "      <td>NaN</td>\n",
       "      <td>NaN</td>\n",
       "      <td>NaN</td>\n",
       "      <td>NaN</td>\n",
       "      <td>NaN</td>\n",
       "      <td>NaN</td>\n",
       "      <td>NaN</td>\n",
       "      <td>NaN</td>\n",
       "      <td>NaN</td>\n",
       "      <td>NaN</td>\n",
       "      <td>NaN</td>\n",
       "      <td>NaN</td>\n",
       "    </tr>\n",
       "    <tr>\n",
       "      <th>3</th>\n",
       "      <td>13397</td>\n",
       "      <td>37201</td>\n",
       "      <td>28141</td>\n",
       "      <td>72</td>\n",
       "      <td>г Тюмень, ул Профсоюзная, д. 56</td>\n",
       "      <td>6</td>\n",
       "      <td>12</td>\n",
       "      <td>65</td>\n",
       "      <td>2024-12-31</td>\n",
       "      <td>Другое</td>\n",
       "      <td>Без отделки</td>\n",
       "      <td>Нет</td>\n",
       "      <td>0</td>\n",
       "      <td>6248.51</td>\n",
       "      <td>72-000097</td>\n",
       "      <td>https://xn--80az8a.xn--d1aqf.xn--p1ai/api/ext/...</td>\n",
       "      <td>09-12-2022 15:04</td>\n",
       "      <td>57.1519</td>\n",
       "      <td>65.5544</td>\n",
       "      <td>0</td>\n",
       "      <td>0</td>\n",
       "      <td>Элитный</td>\n",
       "      <td>12-12-2022 01:20</td>\n",
       "      <td>[{'objId': 13397, 'pdId': 28141, 'rpdId': 6675...</td>\n",
       "      <td>0</td>\n",
       "      <td>normal</td>\n",
       "      <td>https://xn--80az8a.xn--d1aqf.xn--p1ai/api/ext/...</td>\n",
       "      <td>1</td>\n",
       "      <td>37201</td>\n",
       "      <td>12</td>\n",
       "      <td>65</td>\n",
       "      <td>6248.51</td>\n",
       "      <td>70</td>\n",
       "      <td>0</td>\n",
       "      <td>True</td>\n",
       "      <td>28-02-2025 12:00</td>\n",
       "      <td>2,96</td>\n",
       "      <td>0</td>\n",
       "      <td>1.0</td>\n",
       "      <td>1.0</td>\n",
       "      <td>1.0</td>\n",
       "      <td>11.0</td>\n",
       "      <td>10.0</td>\n",
       "      <td>1</td>\n",
       "      <td>1</td>\n",
       "      <td>0.0</td>\n",
       "      <td>5.0</td>\n",
       "      <td>4.0</td>\n",
       "      <td>9</td>\n",
       "      <td>0.999984</td>\n",
       "      <td>45523.0</td>\n",
       "      <td>ООО Транспромжилстрой-2005 (ИНН: 7204097730)</td>\n",
       "      <td>0.0</td>\n",
       "      <td>[]</td>\n",
       "      <td>False</td>\n",
       "      <td>info@2mengroup.ru</td>\n",
       "      <td>0</td>\n",
       "      <td>B</td>\n",
       "      <td>10.0</td>\n",
       "      <td>306</td>\n",
       "      <td>2МЕН ГРУПП</td>\n",
       "      <td>2МЕН ГРУПП</td>\n",
       "      <td>2МЕН ГРУПП</td>\n",
       "      <td>0</td>\n",
       "      <td>5</td>\n",
       "      <td>0</td>\n",
       "      <td>Тюменская область</td>\n",
       "      <td>+7(345)279-18-88</td>\n",
       "      <td>2mengroup.ru</td>\n",
       "      <td>info@2mengroup.ru</td>\n",
       "      <td>7701651356</td>\n",
       "      <td>1067746424899</td>\n",
       "      <td>720301001</td>\n",
       "      <td>Тюменская область, город Тюмень, улица Комсомо...</td>\n",
       "      <td>Тюменская область, город Тюмень, улица Комсомо...</td>\n",
       "      <td>667500</td>\n",
       "      <td>1</td>\n",
       "      <td>72.0</td>\n",
       "      <td>Киселев Сергей Михайлович</td>\n",
       "      <td>2МЕН ГРУПП ДЕВЕЛОПМЕНТ</td>\n",
       "      <td>1</td>\n",
       "      <td>Акционерное общество</td>\n",
       "      <td>АО</td>\n",
       "      <td>5776.0</td>\n",
       "      <td>0</td>\n",
       "      <td>0</td>\n",
       "      <td>0.0</td>\n",
       "      <td>24.0</td>\n",
       "      <td>35.0</td>\n",
       "      <td>6.0</td>\n",
       "      <td>65.0</td>\n",
       "      <td>4.0</td>\n",
       "      <td>3.0</td>\n",
       "      <td>NaN</td>\n",
       "      <td>NaN</td>\n",
       "      <td>NaN</td>\n",
       "      <td>NaN</td>\n",
       "      <td>NaN</td>\n",
       "      <td>NaN</td>\n",
       "      <td>NaN</td>\n",
       "      <td>NaN</td>\n",
       "      <td>NaN</td>\n",
       "      <td>NaN</td>\n",
       "      <td>NaN</td>\n",
       "      <td>NaN</td>\n",
       "      <td>NaN</td>\n",
       "      <td>NaN</td>\n",
       "      <td>NaN</td>\n",
       "      <td>NaN</td>\n",
       "      <td>NaN</td>\n",
       "    </tr>\n",
       "    <tr>\n",
       "      <th>4</th>\n",
       "      <td>13399</td>\n",
       "      <td>34754</td>\n",
       "      <td>28141</td>\n",
       "      <td>72</td>\n",
       "      <td>г Тюмень, ул Профсоюзная, д. 56</td>\n",
       "      <td>1</td>\n",
       "      <td>1</td>\n",
       "      <td>0</td>\n",
       "      <td>2024-12-31</td>\n",
       "      <td>Другое</td>\n",
       "      <td>Без отделки</td>\n",
       "      <td>Нет</td>\n",
       "      <td>125</td>\n",
       "      <td>0.00</td>\n",
       "      <td>72-000097</td>\n",
       "      <td>https://xn--80az8a.xn--d1aqf.xn--p1ai/api/ext/...</td>\n",
       "      <td>09-12-2022 15:04</td>\n",
       "      <td>57.1519</td>\n",
       "      <td>65.5544</td>\n",
       "      <td>0</td>\n",
       "      <td>0</td>\n",
       "      <td>Элитный</td>\n",
       "      <td>12-12-2022 01:20</td>\n",
       "      <td>[{'objId': 13399, 'pdId': 28141, 'rpdId': 6675...</td>\n",
       "      <td>0</td>\n",
       "      <td>normal</td>\n",
       "      <td>https://xn--80az8a.xn--d1aqf.xn--p1ai/api/ext/...</td>\n",
       "      <td>0</td>\n",
       "      <td>34754</td>\n",
       "      <td>1</td>\n",
       "      <td>0</td>\n",
       "      <td>0.00</td>\n",
       "      <td>0</td>\n",
       "      <td>0</td>\n",
       "      <td>True</td>\n",
       "      <td>28-02-2025 12:00</td>\n",
       "      <td>NaN</td>\n",
       "      <td>0</td>\n",
       "      <td>0.0</td>\n",
       "      <td>0.0</td>\n",
       "      <td>1.0</td>\n",
       "      <td>0.0</td>\n",
       "      <td>0.0</td>\n",
       "      <td>1</td>\n",
       "      <td>1</td>\n",
       "      <td>0.0</td>\n",
       "      <td>8.0</td>\n",
       "      <td>7.0</td>\n",
       "      <td>15</td>\n",
       "      <td>0.917243</td>\n",
       "      <td>50768.0</td>\n",
       "      <td>ООО Транспромжилстрой-2005 (ИНН: 7204097730)</td>\n",
       "      <td>1.0</td>\n",
       "      <td>[]</td>\n",
       "      <td>False</td>\n",
       "      <td>info@2mengroup.ru</td>\n",
       "      <td>0</td>\n",
       "      <td>B</td>\n",
       "      <td>10.0</td>\n",
       "      <td>306</td>\n",
       "      <td>2МЕН ГРУПП</td>\n",
       "      <td>2МЕН ГРУПП</td>\n",
       "      <td>2МЕН ГРУПП</td>\n",
       "      <td>0</td>\n",
       "      <td>5</td>\n",
       "      <td>0</td>\n",
       "      <td>Тюменская область</td>\n",
       "      <td>+7(345)279-18-88</td>\n",
       "      <td>2mengroup.ru</td>\n",
       "      <td>info@2mengroup.ru</td>\n",
       "      <td>7701651356</td>\n",
       "      <td>1067746424899</td>\n",
       "      <td>720301001</td>\n",
       "      <td>Тюменская область, город Тюмень, улица Комсомо...</td>\n",
       "      <td>Тюменская область, город Тюмень, улица Комсомо...</td>\n",
       "      <td>667500</td>\n",
       "      <td>1</td>\n",
       "      <td>72.0</td>\n",
       "      <td>Киселев Сергей Михайлович</td>\n",
       "      <td>2МЕН ГРУПП ДЕВЕЛОПМЕНТ</td>\n",
       "      <td>1</td>\n",
       "      <td>Акционерное общество</td>\n",
       "      <td>АО</td>\n",
       "      <td>5776.0</td>\n",
       "      <td>0</td>\n",
       "      <td>0</td>\n",
       "      <td>NaN</td>\n",
       "      <td>NaN</td>\n",
       "      <td>NaN</td>\n",
       "      <td>NaN</td>\n",
       "      <td>NaN</td>\n",
       "      <td>NaN</td>\n",
       "      <td>NaN</td>\n",
       "      <td>NaN</td>\n",
       "      <td>NaN</td>\n",
       "      <td>NaN</td>\n",
       "      <td>NaN</td>\n",
       "      <td>NaN</td>\n",
       "      <td>NaN</td>\n",
       "      <td>NaN</td>\n",
       "      <td>NaN</td>\n",
       "      <td>NaN</td>\n",
       "      <td>NaN</td>\n",
       "      <td>NaN</td>\n",
       "      <td>NaN</td>\n",
       "      <td>NaN</td>\n",
       "      <td>NaN</td>\n",
       "      <td>NaN</td>\n",
       "      <td>NaN</td>\n",
       "      <td>NaN</td>\n",
       "    </tr>\n",
       "  </tbody>\n",
       "</table>\n",
       "</div>"
      ],
      "text/plain": [
       "      id  hobjId   pdId  region                          address  floorMin  \\\n",
       "0  13391   37219  28101      72         г Тюмень, ул Профсоюзная         3   \n",
       "1  13383   39024  28105      72                         г Тюмень         4   \n",
       "2  13398   37165  28141      72  г Тюмень, ул Профсоюзная, д. 56         7   \n",
       "3  13397   37201  28141      72  г Тюмень, ул Профсоюзная, д. 56         6   \n",
       "4  13399   34754  28141      72  г Тюмень, ул Профсоюзная, д. 56         1   \n",
       "\n",
       "   floorMax  objElemLivingCnt objReady100PercDt wallMaterialShortDesc  \\\n",
       "0        12                44        2022-12-31                Другое   \n",
       "1        20                68        2022-12-31                Другое   \n",
       "2        10                43        2024-12-31                Другое   \n",
       "3        12                65        2024-12-31                Другое   \n",
       "4         1                 0        2024-12-31                Другое   \n",
       "\n",
       "    objLkFinishTypeDesc objLkFreePlanDesc  objElemParkingCnt  objSquareLiving  \\\n",
       "0  По желанию заказчика              Есть                 41          4297.44   \n",
       "1  По желанию заказчика              Есть                 31          6296.55   \n",
       "2           Без отделки               Нет                  0          4812.98   \n",
       "3           Без отделки               Нет                  0          6248.51   \n",
       "4           Без отделки               Нет                125             0.00   \n",
       "\n",
       "      rpdNum                                         rpdPdfLink  \\\n",
       "0  72-000096  https://xn--80az8a.xn--d1aqf.xn--p1ai/api/ext/...   \n",
       "1  72-000095  https://xn--80az8a.xn--d1aqf.xn--p1ai/api/ext/...   \n",
       "2  72-000097  https://xn--80az8a.xn--d1aqf.xn--p1ai/api/ext/...   \n",
       "3  72-000097  https://xn--80az8a.xn--d1aqf.xn--p1ai/api/ext/...   \n",
       "4  72-000097  https://xn--80az8a.xn--d1aqf.xn--p1ai/api/ext/...   \n",
       "\n",
       "       rpdIssueDttm  objLkLatitude  objLkLongitude  objCompensFundFlg  \\\n",
       "0  09-12-2022 15:04        57.1541         65.5595                  1   \n",
       "1  09-12-2022 15:05        57.1519         65.5536                  1   \n",
       "2  09-12-2022 15:04        57.1519         65.5544                  0   \n",
       "3  09-12-2022 15:04        57.1519         65.5544                  0   \n",
       "4  09-12-2022 15:04        57.1519         65.5544                  0   \n",
       "\n",
       "   objProblemFlg objLkClassDesc          loadDttm  \\\n",
       "0              0        Элитный  12-12-2022 01:20   \n",
       "1              0        Элитный  12-12-2022 01:20   \n",
       "2              0        Элитный  12-12-2022 01:20   \n",
       "3              0        Элитный  12-12-2022 01:20   \n",
       "4              0        Элитный  12-12-2022 01:20   \n",
       "\n",
       "                                      photoRenderDTO  objGuarantyEscrowFlg  \\\n",
       "0  [{'objId': 13391, 'pdId': 28101, 'rpdId': 6674...                     0   \n",
       "1  [{'objId': 13383, 'pdId': 28105, 'rpdId': 6674...                     0   \n",
       "2  [{'objId': 13398, 'pdId': 28141, 'rpdId': 6675...                     0   \n",
       "3  [{'objId': 13397, 'pdId': 28141, 'rpdId': 6675...                     0   \n",
       "4  [{'objId': 13399, 'pdId': 28141, 'rpdId': 6675...                     0   \n",
       "\n",
       "  objectType                                            miniUrl  \\\n",
       "0     normal  https://xn--80az8a.xn--d1aqf.xn--p1ai/api/ext/...   \n",
       "1     normal  https://xn--80az8a.xn--d1aqf.xn--p1ai/api/ext/...   \n",
       "2     normal  https://xn--80az8a.xn--d1aqf.xn--p1ai/api/ext/...   \n",
       "3     normal  https://xn--80az8a.xn--d1aqf.xn--p1ai/api/ext/...   \n",
       "4     normal  https://xn--80az8a.xn--d1aqf.xn--p1ai/api/ext/...   \n",
       "\n",
       "   residentialBuildings  newBuildingId  objFloorCnt  objFlatCnt  objFlatSq  \\\n",
       "0                     1          37219           12          44    4297.44   \n",
       "1                     1          39024           20          68    6296.55   \n",
       "2                     1          37165           10          43    4812.98   \n",
       "3                     1          37201           12          65    6248.51   \n",
       "4                     0          34754            1           0       0.00   \n",
       "\n",
       "   objNonlivElemCnt  objStatus  isAvailableWantLiveHere objTransferPlanDt  \\\n",
       "0                26          0                     True  28-02-2023 12:00   \n",
       "1                10          0                     True  28-02-2023 12:00   \n",
       "2                48          0                     True  28-02-2025 12:00   \n",
       "3                70          0                     True  28-02-2025 12:00   \n",
       "4                 0          0                     True  28-02-2025 12:00   \n",
       "\n",
       "  objLivCeilingHeight  objInfrstrBicycleLaneFlg  objInfrstrPlaygrndCnt  \\\n",
       "0                 2,8                         0                    1.0   \n",
       "1                 2,8                         0                    1.0   \n",
       "2                2,96                         0                    1.0   \n",
       "3                2,96                         0                    1.0   \n",
       "4                 NaN                         0                    0.0   \n",
       "\n",
       "   objInfrstrSportGroundCnt  objInfrstrTrashAreaCnt  objInfrstrObjPrkngCnt  \\\n",
       "0                       1.0                     1.0                    0.0   \n",
       "1                       1.0                     1.0                    0.0   \n",
       "2                       1.0                     1.0                    4.0   \n",
       "3                       1.0                     1.0                   11.0   \n",
       "4                       0.0                     1.0                    0.0   \n",
       "\n",
       "   objInfrstrNotObjPrkngCnt  objInfrstrRampFlg  objInfrstrCurbLoweringFlg  \\\n",
       "0                       9.0                  1                          1   \n",
       "1                      11.0                  1                          1   \n",
       "2                      15.0                  1                          1   \n",
       "3                      10.0                  1                          1   \n",
       "4                       0.0                  1                          1   \n",
       "\n",
       "   objElevatorWheelchairCnt  objElevatorPassengerCnt  objElevatorCargoCnt  \\\n",
       "0                       0.0                      2.0                  2.0   \n",
       "1                       0.0                      5.0                  1.0   \n",
       "2                       0.0                      3.0                  3.0   \n",
       "3                       0.0                      5.0                  4.0   \n",
       "4                       0.0                      8.0                  7.0   \n",
       "\n",
       "   objElevatorCargoPassengerCnt  soldOutPerc  objPriceAvg  \\\n",
       "0                             6     0.450622      55893.0   \n",
       "1                             7     0.406985      53109.0   \n",
       "2                             6     1.000000      47886.0   \n",
       "3                             9     0.999984      45523.0   \n",
       "4                            15     0.917243      50768.0   \n",
       "\n",
       "                            generalContractorNm  nonlivFirstFloor  \\\n",
       "0  ООО Транспромжилстрой-2005 (ИНН: 7204097730)               1.0   \n",
       "1  ООО Транспромжилстрой-2005 (ИНН: 7204097730)               1.0   \n",
       "2  ООО Транспромжилстрой-2005 (ИНН: 7204097730)               0.0   \n",
       "3  ООО Транспромжилстрой-2005 (ИНН: 7204097730)               0.0   \n",
       "4  ООО Транспромжилстрой-2005 (ИНН: 7204097730)               1.0   \n",
       "\n",
       "  objectTransportInfo  conclusion  objLkSaleDepEmail  objGreenHouseFlg  \\\n",
       "0                  []       False  info@2mengroup.ru                 0   \n",
       "1                  []       False  info@2mengroup.ru                 0   \n",
       "2                  []       False  info@2mengroup.ru                 0   \n",
       "3                  []       False  info@2mengroup.ru                 0   \n",
       "4                  []       False  info@2mengroup.ru                 0   \n",
       "\n",
       "  objEnergyEffShortDesc  infrastructureIndexValue  developer.devId  \\\n",
       "0                     B                       9.0              306   \n",
       "1                     B                      10.0              306   \n",
       "2                     B                      10.0              306   \n",
       "3                     B                      10.0              306   \n",
       "4                     B                      10.0              306   \n",
       "\n",
       "  developer.devShortCleanNm developer.devShortNm developer.devFullCleanNm  \\\n",
       "0                2МЕН ГРУПП           2МЕН ГРУПП               2МЕН ГРУПП   \n",
       "1                2МЕН ГРУПП           2МЕН ГРУПП               2МЕН ГРУПП   \n",
       "2                2МЕН ГРУПП           2МЕН ГРУПП               2МЕН ГРУПП   \n",
       "3                2МЕН ГРУПП           2МЕН ГРУПП               2МЕН ГРУПП   \n",
       "4                2МЕН ГРУПП           2МЕН ГРУПП               2МЕН ГРУПП   \n",
       "\n",
       "   developer.problObjCnt  developer.buildObjCnt  developer.comissObjCnt  \\\n",
       "0                      0                      5                       0   \n",
       "1                      0                      5                       0   \n",
       "2                      0                      5                       0   \n",
       "3                      0                      5                       0   \n",
       "4                      0                      5                       0   \n",
       "\n",
       "  developer.regRegionDesc developer.devPhoneNum developer.devSite  \\\n",
       "0       Тюменская область      +7(345)279-18-88      2mengroup.ru   \n",
       "1       Тюменская область      +7(345)279-18-88      2mengroup.ru   \n",
       "2       Тюменская область      +7(345)279-18-88      2mengroup.ru   \n",
       "3       Тюменская область      +7(345)279-18-88      2mengroup.ru   \n",
       "4       Тюменская область      +7(345)279-18-88      2mengroup.ru   \n",
       "\n",
       "  developer.devEmail  developer.devInn  developer.devOgrn  developer.devKpp  \\\n",
       "0  info@2mengroup.ru        7701651356      1067746424899         720301001   \n",
       "1  info@2mengroup.ru        7701651356      1067746424899         720301001   \n",
       "2  info@2mengroup.ru        7701651356      1067746424899         720301001   \n",
       "3  info@2mengroup.ru        7701651356      1067746424899         720301001   \n",
       "4  info@2mengroup.ru        7701651356      1067746424899         720301001   \n",
       "\n",
       "                              developer.devLegalAddr  \\\n",
       "0  Тюменская область, город Тюмень, улица Комсомо...   \n",
       "1  Тюменская область, город Тюмень, улица Комсомо...   \n",
       "2  Тюменская область, город Тюмень, улица Комсомо...   \n",
       "3  Тюменская область, город Тюмень, улица Комсомо...   \n",
       "4  Тюменская область, город Тюмень, улица Комсомо...   \n",
       "\n",
       "                               developer.devFactAddr  developer.lastRpdId  \\\n",
       "0  Тюменская область, город Тюмень, улица Комсомо...               667500   \n",
       "1  Тюменская область, город Тюмень, улица Комсомо...               667500   \n",
       "2  Тюменская область, город Тюмень, улица Комсомо...               667500   \n",
       "3  Тюменская область, город Тюмень, улица Комсомо...               667500   \n",
       "4  Тюменская область, город Тюмень, улица Комсомо...               667500   \n",
       "\n",
       "   developer.fundGuarantyFlg  developer.devOrgRegRegionCd  \\\n",
       "0                          1                         72.0   \n",
       "1                          1                         72.0   \n",
       "2                          1                         72.0   \n",
       "3                          1                         72.0   \n",
       "4                          1                         72.0   \n",
       "\n",
       "  developer.devEmplMainFullNm developer.developerGroupName  \\\n",
       "0   Киселев Сергей Михайлович       2МЕН ГРУПП ДЕВЕЛОПМЕНТ   \n",
       "1   Киселев Сергей Михайлович       2МЕН ГРУПП ДЕВЕЛОПМЕНТ   \n",
       "2   Киселев Сергей Михайлович       2МЕН ГРУПП ДЕВЕЛОПМЕНТ   \n",
       "3   Киселев Сергей Михайлович       2МЕН ГРУПП ДЕВЕЛОПМЕНТ   \n",
       "4   Киселев Сергей Михайлович       2МЕН ГРУПП ДЕВЕЛОПМЕНТ   \n",
       "\n",
       "   developer.orgForm.id developer.orgForm.fullForm  \\\n",
       "0                     1       Акционерное общество   \n",
       "1                     1       Акционерное общество   \n",
       "2                     1       Акционерное общество   \n",
       "3                     1       Акционерное общество   \n",
       "4                     1       Акционерное общество   \n",
       "\n",
       "  developer.orgForm.shortForm  developer.companyGroupId  \\\n",
       "0                          АО                    5776.0   \n",
       "1                          АО                    5776.0   \n",
       "2                          АО                    5776.0   \n",
       "3                          АО                    5776.0   \n",
       "4                          АО                    5776.0   \n",
       "\n",
       "   developer.objGuarantyEscrowFlg  developer.govFundFlg  \\\n",
       "0                               0                     0   \n",
       "1                               0                     0   \n",
       "2                               0                     0   \n",
       "3                               0                     0   \n",
       "4                               0                     0   \n",
       "\n",
       "   quartography.objLivElem1KCnt  quartography.objLivElem2KCnt  \\\n",
       "0                          11.0                          16.0   \n",
       "1                          13.0                          21.0   \n",
       "2                           0.0                          11.0   \n",
       "3                           0.0                          24.0   \n",
       "4                           NaN                           NaN   \n",
       "\n",
       "   quartography.objLivElem3KCnt  quartography.objLivElem4KCnt  \\\n",
       "0                          12.0                           5.0   \n",
       "1                          34.0                           0.0   \n",
       "2                          19.0                          13.0   \n",
       "3                          35.0                           6.0   \n",
       "4                           NaN                           NaN   \n",
       "\n",
       "   quartography.objLivElemCnt  quartography.objLivElemEntrCnt  \\\n",
       "0                        44.0                             2.0   \n",
       "1                        68.0                             1.0   \n",
       "2                        43.0                             3.0   \n",
       "3                        65.0                             4.0   \n",
       "4                         NaN                             NaN   \n",
       "\n",
       "   quartography.objLivElemEntrFloorAvg nameObj transportDistIndex  \\\n",
       "0                                  4.0     NaN                NaN   \n",
       "1                                  6.0     NaN                NaN   \n",
       "2                                  3.0     NaN                NaN   \n",
       "3                                  3.0     NaN                NaN   \n",
       "4                                  NaN     NaN                NaN   \n",
       "\n",
       "   transportDistIndexValue  metro.id metro.name metro.line metro.color  \\\n",
       "0                      NaN       NaN        NaN        NaN         NaN   \n",
       "1                      NaN       NaN        NaN        NaN         NaN   \n",
       "2                      NaN       NaN        NaN        NaN         NaN   \n",
       "3                      NaN       NaN        NaN        NaN         NaN   \n",
       "4                      NaN       NaN        NaN        NaN         NaN   \n",
       "\n",
       "   metro.time metro.isWalk metro.colors  airQualityIndexValue  \\\n",
       "0         NaN          NaN          NaN                   NaN   \n",
       "1         NaN          NaN          NaN                   NaN   \n",
       "2         NaN          NaN          NaN                   NaN   \n",
       "3         NaN          NaN          NaN                   NaN   \n",
       "4         NaN          NaN          NaN                   NaN   \n",
       "\n",
       "   developer.bankruptStage.bankruptStageCd  \\\n",
       "0                                      NaN   \n",
       "1                                      NaN   \n",
       "2                                      NaN   \n",
       "3                                      NaN   \n",
       "4                                      NaN   \n",
       "\n",
       "  developer.bankruptStage.bankruptStageDesc  \\\n",
       "0                                       NaN   \n",
       "1                                       NaN   \n",
       "2                                       NaN   \n",
       "3                                       NaN   \n",
       "4                                       NaN   \n",
       "\n",
       "  developer.bankruptStage.bankruptLawUrl developer.orgBankruptMsgDttm  \\\n",
       "0                                    NaN                          NaN   \n",
       "1                                    NaN                          NaN   \n",
       "2                                    NaN                          NaN   \n",
       "3                                    NaN                          NaN   \n",
       "4                                    NaN                          NaN   \n",
       "\n",
       "  complexShortNm  greenAreaIndexValue  \n",
       "0            NaN                  NaN  \n",
       "1            NaN                  NaN  \n",
       "2            NaN                  NaN  \n",
       "3            NaN                  NaN  \n",
       "4            NaN                  NaN  "
      ]
     },
     "execution_count": 4,
     "metadata": {},
     "output_type": "execute_result"
    }
   ],
   "source": [
    "# загрузим датасет из ДЗ1\n",
    "df2 = pd.read_csv('nash-dom-rf1.csv')\n",
    "df2.head(5)"
   ]
  },
  {
   "cell_type": "code",
   "execution_count": 5,
   "metadata": {},
   "outputs": [
    {
     "data": {
      "text/plain": [
       "Text(0.5, 1.0, 'Пропущенные значения')"
      ]
     },
     "execution_count": 5,
     "metadata": {},
     "output_type": "execute_result"
    },
    {
     "data": {
      "image/png": "[encoded data removed]",
      "text/plain": [
       "<Figure size 432x288 with 1 Axes>"
      ]
     },
     "metadata": {
      "needs_background": "light"
     },
     "output_type": "display_data"
    }
   ],
   "source": [
    "# строим график пропущенных значений\n",
    "sns.heatmap(df2.isnull(), cbar = False).set_title(\"Пропущенные значения\")"
   ]
  },
  {
   "cell_type": "code",
   "execution_count": 6,
   "metadata": {},
   "outputs": [
    {
     "data": {
      "text/html": [
       "<div>\n",
       "<style scoped>\n",
       "    .dataframe tbody tr th:only-of-type {\n",
       "        vertical-align: middle;\n",
       "    }\n",
       "\n",
       "    .dataframe tbody tr th {\n",
       "        vertical-align: top;\n",
       "    }\n",
       "\n",
       "    .dataframe thead th {\n",
       "        text-align: right;\n",
       "    }\n",
       "</style>\n",
       "<table border=\"1\" class=\"dataframe\">\n",
       "  <thead>\n",
       "    <tr style=\"text-align: right;\">\n",
       "      <th></th>\n",
       "      <th>id</th>\n",
       "      <th>developer.devShortCleanNm</th>\n",
       "      <th>region</th>\n",
       "      <th>developer.regRegionDesc</th>\n",
       "      <th>address</th>\n",
       "      <th>objLkClassDesc</th>\n",
       "      <th>wallMaterialShortDesc</th>\n",
       "      <th>objLkFinishTypeDesc</th>\n",
       "      <th>objReady100PercDt</th>\n",
       "      <th>soldOutPerc</th>\n",
       "      <th>objElemParkingCnt</th>\n",
       "      <th>objElemLivingCnt</th>\n",
       "      <th>objSquareLiving</th>\n",
       "      <th>floorMax</th>\n",
       "      <th>objPriceAvg</th>\n",
       "    </tr>\n",
       "  </thead>\n",
       "  <tbody>\n",
       "    <tr>\n",
       "      <th>0</th>\n",
       "      <td>13391</td>\n",
       "      <td>2МЕН ГРУПП</td>\n",
       "      <td>72</td>\n",
       "      <td>Тюменская область</td>\n",
       "      <td>г Тюмень, ул Профсоюзная</td>\n",
       "      <td>Элитный</td>\n",
       "      <td>Другое</td>\n",
       "      <td>По желанию заказчика</td>\n",
       "      <td>2022-12-31</td>\n",
       "      <td>0.450622</td>\n",
       "      <td>41</td>\n",
       "      <td>44</td>\n",
       "      <td>4297.44</td>\n",
       "      <td>12</td>\n",
       "      <td>55893.0</td>\n",
       "    </tr>\n",
       "    <tr>\n",
       "      <th>1</th>\n",
       "      <td>13383</td>\n",
       "      <td>2МЕН ГРУПП</td>\n",
       "      <td>72</td>\n",
       "      <td>Тюменская область</td>\n",
       "      <td>г Тюмень</td>\n",
       "      <td>Элитный</td>\n",
       "      <td>Другое</td>\n",
       "      <td>По желанию заказчика</td>\n",
       "      <td>2022-12-31</td>\n",
       "      <td>0.406985</td>\n",
       "      <td>31</td>\n",
       "      <td>68</td>\n",
       "      <td>6296.55</td>\n",
       "      <td>20</td>\n",
       "      <td>53109.0</td>\n",
       "    </tr>\n",
       "    <tr>\n",
       "      <th>2</th>\n",
       "      <td>13398</td>\n",
       "      <td>2МЕН ГРУПП</td>\n",
       "      <td>72</td>\n",
       "      <td>Тюменская область</td>\n",
       "      <td>г Тюмень, ул Профсоюзная, д. 56</td>\n",
       "      <td>Элитный</td>\n",
       "      <td>Другое</td>\n",
       "      <td>Без отделки</td>\n",
       "      <td>2024-12-31</td>\n",
       "      <td>1.000000</td>\n",
       "      <td>0</td>\n",
       "      <td>43</td>\n",
       "      <td>4812.98</td>\n",
       "      <td>10</td>\n",
       "      <td>47886.0</td>\n",
       "    </tr>\n",
       "    <tr>\n",
       "      <th>3</th>\n",
       "      <td>13397</td>\n",
       "      <td>2МЕН ГРУПП</td>\n",
       "      <td>72</td>\n",
       "      <td>Тюменская область</td>\n",
       "      <td>г Тюмень, ул Профсоюзная, д. 56</td>\n",
       "      <td>Элитный</td>\n",
       "      <td>Другое</td>\n",
       "      <td>Без отделки</td>\n",
       "      <td>2024-12-31</td>\n",
       "      <td>0.999984</td>\n",
       "      <td>0</td>\n",
       "      <td>65</td>\n",
       "      <td>6248.51</td>\n",
       "      <td>12</td>\n",
       "      <td>45523.0</td>\n",
       "    </tr>\n",
       "    <tr>\n",
       "      <th>4</th>\n",
       "      <td>13399</td>\n",
       "      <td>2МЕН ГРУПП</td>\n",
       "      <td>72</td>\n",
       "      <td>Тюменская область</td>\n",
       "      <td>г Тюмень, ул Профсоюзная, д. 56</td>\n",
       "      <td>Элитный</td>\n",
       "      <td>Другое</td>\n",
       "      <td>Без отделки</td>\n",
       "      <td>2024-12-31</td>\n",
       "      <td>0.917243</td>\n",
       "      <td>125</td>\n",
       "      <td>0</td>\n",
       "      <td>0.00</td>\n",
       "      <td>1</td>\n",
       "      <td>50768.0</td>\n",
       "    </tr>\n",
       "    <tr>\n",
       "      <th>...</th>\n",
       "      <td>...</td>\n",
       "      <td>...</td>\n",
       "      <td>...</td>\n",
       "      <td>...</td>\n",
       "      <td>...</td>\n",
       "      <td>...</td>\n",
       "      <td>...</td>\n",
       "      <td>...</td>\n",
       "      <td>...</td>\n",
       "      <td>...</td>\n",
       "      <td>...</td>\n",
       "      <td>...</td>\n",
       "      <td>...</td>\n",
       "      <td>...</td>\n",
       "      <td>...</td>\n",
       "    </tr>\n",
       "    <tr>\n",
       "      <th>10787</th>\n",
       "      <td>28071</td>\n",
       "      <td>ЯРКИЙ МИР</td>\n",
       "      <td>50</td>\n",
       "      <td>Московская область</td>\n",
       "      <td>г Котельники, район мкр.Ковровый, д.1-5, 24-29...</td>\n",
       "      <td>Типовой</td>\n",
       "      <td>Другое</td>\n",
       "      <td>Под ключ</td>\n",
       "      <td>2024-06-30</td>\n",
       "      <td>0.071155</td>\n",
       "      <td>0</td>\n",
       "      <td>288</td>\n",
       "      <td>14870.40</td>\n",
       "      <td>26</td>\n",
       "      <td>85604.0</td>\n",
       "    </tr>\n",
       "    <tr>\n",
       "      <th>10788</th>\n",
       "      <td>28070</td>\n",
       "      <td>ЯРКИЙ МИР</td>\n",
       "      <td>50</td>\n",
       "      <td>Московская область</td>\n",
       "      <td>г Котельники, район мкр.Ковровый, д.1-5, 24-29...</td>\n",
       "      <td>Типовой</td>\n",
       "      <td>Другое</td>\n",
       "      <td>Под ключ</td>\n",
       "      <td>2025-03-31</td>\n",
       "      <td>0.072883</td>\n",
       "      <td>0</td>\n",
       "      <td>768</td>\n",
       "      <td>29620.10</td>\n",
       "      <td>26</td>\n",
       "      <td>85309.0</td>\n",
       "    </tr>\n",
       "    <tr>\n",
       "      <th>10789</th>\n",
       "      <td>28073</td>\n",
       "      <td>ЯРКИЙ МИР</td>\n",
       "      <td>50</td>\n",
       "      <td>Московская область</td>\n",
       "      <td>г Котельники, район мкр.Ковровый, д.1-5, 24-29...</td>\n",
       "      <td>Типовой</td>\n",
       "      <td>Другое</td>\n",
       "      <td>Под ключ</td>\n",
       "      <td>2024-06-30</td>\n",
       "      <td>0.070834</td>\n",
       "      <td>0</td>\n",
       "      <td>312</td>\n",
       "      <td>14872.80</td>\n",
       "      <td>26</td>\n",
       "      <td>85634.0</td>\n",
       "    </tr>\n",
       "    <tr>\n",
       "      <th>10790</th>\n",
       "      <td>44447</td>\n",
       "      <td>ЯРОСЛАВЛЬЗАКАЗЧИК</td>\n",
       "      <td>76</td>\n",
       "      <td>Ярославская область</td>\n",
       "      <td>г Ярославль, Фрунзенский район, территория в р...</td>\n",
       "      <td>Типовой</td>\n",
       "      <td>Кирпич</td>\n",
       "      <td>Другое</td>\n",
       "      <td>2022-12-31</td>\n",
       "      <td>0.255401</td>\n",
       "      <td>0</td>\n",
       "      <td>127</td>\n",
       "      <td>6764.22</td>\n",
       "      <td>6</td>\n",
       "      <td>70681.0</td>\n",
       "    </tr>\n",
       "    <tr>\n",
       "      <th>10791</th>\n",
       "      <td>45321</td>\n",
       "      <td>‹‹СЗ ‹‹СТРОЙ-НАДЕЖДА››</td>\n",
       "      <td>32</td>\n",
       "      <td>Брянская область</td>\n",
       "      <td>г Брянск, улица Молодой Гвардии, строение Поз.1</td>\n",
       "      <td>Типовой</td>\n",
       "      <td>Монолит-кирпич</td>\n",
       "      <td>Без отделки</td>\n",
       "      <td>2023-03-31</td>\n",
       "      <td>0.123780</td>\n",
       "      <td>0</td>\n",
       "      <td>90</td>\n",
       "      <td>5288.40</td>\n",
       "      <td>11</td>\n",
       "      <td>69594.0</td>\n",
       "    </tr>\n",
       "  </tbody>\n",
       "</table>\n",
       "<p>10792 rows × 15 columns</p>\n",
       "</div>"
      ],
      "text/plain": [
       "          id developer.devShortCleanNm  region developer.regRegionDesc  \\\n",
       "0      13391                2МЕН ГРУПП      72       Тюменская область   \n",
       "1      13383                2МЕН ГРУПП      72       Тюменская область   \n",
       "2      13398                2МЕН ГРУПП      72       Тюменская область   \n",
       "3      13397                2МЕН ГРУПП      72       Тюменская область   \n",
       "4      13399                2МЕН ГРУПП      72       Тюменская область   \n",
       "...      ...                       ...     ...                     ...   \n",
       "10787  28071                 ЯРКИЙ МИР      50      Московская область   \n",
       "10788  28070                 ЯРКИЙ МИР      50      Московская область   \n",
       "10789  28073                 ЯРКИЙ МИР      50      Московская область   \n",
       "10790  44447         ЯРОСЛАВЛЬЗАКАЗЧИК      76     Ярославская область   \n",
       "10791  45321    ‹‹СЗ ‹‹СТРОЙ-НАДЕЖДА››      32        Брянская область   \n",
       "\n",
       "                                                 address objLkClassDesc  \\\n",
       "0                               г Тюмень, ул Профсоюзная        Элитный   \n",
       "1                                               г Тюмень        Элитный   \n",
       "2                        г Тюмень, ул Профсоюзная, д. 56        Элитный   \n",
       "3                        г Тюмень, ул Профсоюзная, д. 56        Элитный   \n",
       "4                        г Тюмень, ул Профсоюзная, д. 56        Элитный   \n",
       "...                                                  ...            ...   \n",
       "10787  г Котельники, район мкр.Ковровый, д.1-5, 24-29...        Типовой   \n",
       "10788  г Котельники, район мкр.Ковровый, д.1-5, 24-29...        Типовой   \n",
       "10789  г Котельники, район мкр.Ковровый, д.1-5, 24-29...        Типовой   \n",
       "10790  г Ярославль, Фрунзенский район, территория в р...        Типовой   \n",
       "10791    г Брянск, улица Молодой Гвардии, строение Поз.1        Типовой   \n",
       "\n",
       "      wallMaterialShortDesc   objLkFinishTypeDesc objReady100PercDt  \\\n",
       "0                    Другое  По желанию заказчика        2022-12-31   \n",
       "1                    Другое  По желанию заказчика        2022-12-31   \n",
       "2                    Другое           Без отделки        2024-12-31   \n",
       "3                    Другое           Без отделки        2024-12-31   \n",
       "4                    Другое           Без отделки        2024-12-31   \n",
       "...                     ...                   ...               ...   \n",
       "10787                Другое              Под ключ        2024-06-30   \n",
       "10788                Другое              Под ключ        2025-03-31   \n",
       "10789                Другое              Под ключ        2024-06-30   \n",
       "10790                Кирпич                Другое        2022-12-31   \n",
       "10791        Монолит-кирпич           Без отделки        2023-03-31   \n",
       "\n",
       "       soldOutPerc  objElemParkingCnt  objElemLivingCnt  objSquareLiving  \\\n",
       "0         0.450622                 41                44          4297.44   \n",
       "1         0.406985                 31                68          6296.55   \n",
       "2         1.000000                  0                43          4812.98   \n",
       "3         0.999984                  0                65          6248.51   \n",
       "4         0.917243                125                 0             0.00   \n",
       "...            ...                ...               ...              ...   \n",
       "10787     0.071155                  0               288         14870.40   \n",
       "10788     0.072883                  0               768         29620.10   \n",
       "10789     0.070834                  0               312         14872.80   \n",
       "10790     0.255401                  0               127          6764.22   \n",
       "10791     0.123780                  0                90          5288.40   \n",
       "\n",
       "       floorMax  objPriceAvg  \n",
       "0            12      55893.0  \n",
       "1            20      53109.0  \n",
       "2            10      47886.0  \n",
       "3            12      45523.0  \n",
       "4             1      50768.0  \n",
       "...         ...          ...  \n",
       "10787        26      85604.0  \n",
       "10788        26      85309.0  \n",
       "10789        26      85634.0  \n",
       "10790         6      70681.0  \n",
       "10791        11      69594.0  \n",
       "\n",
       "[10792 rows x 15 columns]"
      ]
     },
     "execution_count": 6,
     "metadata": {},
     "output_type": "execute_result"
    }
   ],
   "source": [
    "# выберем необходимые столбцы\n",
    "df3 = df2[['id', 'developer.devShortCleanNm', 'region', 'developer.regRegionDesc', 'address', 'objLkClassDesc',\n",
    "     'wallMaterialShortDesc', 'objLkFinishTypeDesc', 'objReady100PercDt', 'soldOutPerc', 'objElemParkingCnt',\n",
    "     'objElemLivingCnt', 'objSquareLiving',  'floorMax', 'objPriceAvg']]\n",
    "df3"
   ]
  },
  {
   "cell_type": "code",
   "execution_count": 7,
   "metadata": {},
   "outputs": [
    {
     "data": {
      "text/html": [
       "<div>\n",
       "<style scoped>\n",
       "    .dataframe tbody tr th:only-of-type {\n",
       "        vertical-align: middle;\n",
       "    }\n",
       "\n",
       "    .dataframe tbody tr th {\n",
       "        vertical-align: top;\n",
       "    }\n",
       "\n",
       "    .dataframe thead th {\n",
       "        text-align: right;\n",
       "    }\n",
       "</style>\n",
       "<table border=\"1\" class=\"dataframe\">\n",
       "  <thead>\n",
       "    <tr style=\"text-align: right;\">\n",
       "      <th></th>\n",
       "      <th>id дома</th>\n",
       "      <th>застройщик</th>\n",
       "      <th>номер региона</th>\n",
       "      <th>название региона</th>\n",
       "      <th>адрес дома</th>\n",
       "      <th>класс недвижимости</th>\n",
       "      <th>материал стен</th>\n",
       "      <th>тип отделки</th>\n",
       "      <th>ввод в эксплуатацию</th>\n",
       "      <th>распроданность квартир</th>\n",
       "      <th>количество мест в паркинге</th>\n",
       "      <th>количество квартир</th>\n",
       "      <th>жилая площадь</th>\n",
       "      <th>количество этажей</th>\n",
       "      <th>средняя цена за 1 м²</th>\n",
       "    </tr>\n",
       "  </thead>\n",
       "  <tbody>\n",
       "    <tr>\n",
       "      <th>0</th>\n",
       "      <td>13391</td>\n",
       "      <td>2МЕН ГРУПП</td>\n",
       "      <td>72</td>\n",
       "      <td>Тюменская область</td>\n",
       "      <td>г Тюмень, ул Профсоюзная</td>\n",
       "      <td>Элитный</td>\n",
       "      <td>Другое</td>\n",
       "      <td>По желанию заказчика</td>\n",
       "      <td>2022-12-31</td>\n",
       "      <td>0.450622</td>\n",
       "      <td>41</td>\n",
       "      <td>44</td>\n",
       "      <td>4297.44</td>\n",
       "      <td>12</td>\n",
       "      <td>55893.0</td>\n",
       "    </tr>\n",
       "    <tr>\n",
       "      <th>1</th>\n",
       "      <td>13383</td>\n",
       "      <td>2МЕН ГРУПП</td>\n",
       "      <td>72</td>\n",
       "      <td>Тюменская область</td>\n",
       "      <td>г Тюмень</td>\n",
       "      <td>Элитный</td>\n",
       "      <td>Другое</td>\n",
       "      <td>По желанию заказчика</td>\n",
       "      <td>2022-12-31</td>\n",
       "      <td>0.406985</td>\n",
       "      <td>31</td>\n",
       "      <td>68</td>\n",
       "      <td>6296.55</td>\n",
       "      <td>20</td>\n",
       "      <td>53109.0</td>\n",
       "    </tr>\n",
       "    <tr>\n",
       "      <th>2</th>\n",
       "      <td>13398</td>\n",
       "      <td>2МЕН ГРУПП</td>\n",
       "      <td>72</td>\n",
       "      <td>Тюменская область</td>\n",
       "      <td>г Тюмень, ул Профсоюзная, д. 56</td>\n",
       "      <td>Элитный</td>\n",
       "      <td>Другое</td>\n",
       "      <td>Без отделки</td>\n",
       "      <td>2024-12-31</td>\n",
       "      <td>1.000000</td>\n",
       "      <td>0</td>\n",
       "      <td>43</td>\n",
       "      <td>4812.98</td>\n",
       "      <td>10</td>\n",
       "      <td>47886.0</td>\n",
       "    </tr>\n",
       "    <tr>\n",
       "      <th>3</th>\n",
       "      <td>13397</td>\n",
       "      <td>2МЕН ГРУПП</td>\n",
       "      <td>72</td>\n",
       "      <td>Тюменская область</td>\n",
       "      <td>г Тюмень, ул Профсоюзная, д. 56</td>\n",
       "      <td>Элитный</td>\n",
       "      <td>Другое</td>\n",
       "      <td>Без отделки</td>\n",
       "      <td>2024-12-31</td>\n",
       "      <td>0.999984</td>\n",
       "      <td>0</td>\n",
       "      <td>65</td>\n",
       "      <td>6248.51</td>\n",
       "      <td>12</td>\n",
       "      <td>45523.0</td>\n",
       "    </tr>\n",
       "    <tr>\n",
       "      <th>4</th>\n",
       "      <td>13399</td>\n",
       "      <td>2МЕН ГРУПП</td>\n",
       "      <td>72</td>\n",
       "      <td>Тюменская область</td>\n",
       "      <td>г Тюмень, ул Профсоюзная, д. 56</td>\n",
       "      <td>Элитный</td>\n",
       "      <td>Другое</td>\n",
       "      <td>Без отделки</td>\n",
       "      <td>2024-12-31</td>\n",
       "      <td>0.917243</td>\n",
       "      <td>125</td>\n",
       "      <td>0</td>\n",
       "      <td>0.00</td>\n",
       "      <td>1</td>\n",
       "      <td>50768.0</td>\n",
       "    </tr>\n",
       "    <tr>\n",
       "      <th>...</th>\n",
       "      <td>...</td>\n",
       "      <td>...</td>\n",
       "      <td>...</td>\n",
       "      <td>...</td>\n",
       "      <td>...</td>\n",
       "      <td>...</td>\n",
       "      <td>...</td>\n",
       "      <td>...</td>\n",
       "      <td>...</td>\n",
       "      <td>...</td>\n",
       "      <td>...</td>\n",
       "      <td>...</td>\n",
       "      <td>...</td>\n",
       "      <td>...</td>\n",
       "      <td>...</td>\n",
       "    </tr>\n",
       "    <tr>\n",
       "      <th>10787</th>\n",
       "      <td>28071</td>\n",
       "      <td>ЯРКИЙ МИР</td>\n",
       "      <td>50</td>\n",
       "      <td>Московская область</td>\n",
       "      <td>г Котельники, район мкр.Ковровый, д.1-5, 24-29...</td>\n",
       "      <td>Типовой</td>\n",
       "      <td>Другое</td>\n",
       "      <td>Под ключ</td>\n",
       "      <td>2024-06-30</td>\n",
       "      <td>0.071155</td>\n",
       "      <td>0</td>\n",
       "      <td>288</td>\n",
       "      <td>14870.40</td>\n",
       "      <td>26</td>\n",
       "      <td>85604.0</td>\n",
       "    </tr>\n",
       "    <tr>\n",
       "      <th>10788</th>\n",
       "      <td>28070</td>\n",
       "      <td>ЯРКИЙ МИР</td>\n",
       "      <td>50</td>\n",
       "      <td>Московская область</td>\n",
       "      <td>г Котельники, район мкр.Ковровый, д.1-5, 24-29...</td>\n",
       "      <td>Типовой</td>\n",
       "      <td>Другое</td>\n",
       "      <td>Под ключ</td>\n",
       "      <td>2025-03-31</td>\n",
       "      <td>0.072883</td>\n",
       "      <td>0</td>\n",
       "      <td>768</td>\n",
       "      <td>29620.10</td>\n",
       "      <td>26</td>\n",
       "      <td>85309.0</td>\n",
       "    </tr>\n",
       "    <tr>\n",
       "      <th>10789</th>\n",
       "      <td>28073</td>\n",
       "      <td>ЯРКИЙ МИР</td>\n",
       "      <td>50</td>\n",
       "      <td>Московская область</td>\n",
       "      <td>г Котельники, район мкр.Ковровый, д.1-5, 24-29...</td>\n",
       "      <td>Типовой</td>\n",
       "      <td>Другое</td>\n",
       "      <td>Под ключ</td>\n",
       "      <td>2024-06-30</td>\n",
       "      <td>0.070834</td>\n",
       "      <td>0</td>\n",
       "      <td>312</td>\n",
       "      <td>14872.80</td>\n",
       "      <td>26</td>\n",
       "      <td>85634.0</td>\n",
       "    </tr>\n",
       "    <tr>\n",
       "      <th>10790</th>\n",
       "      <td>44447</td>\n",
       "      <td>ЯРОСЛАВЛЬЗАКАЗЧИК</td>\n",
       "      <td>76</td>\n",
       "      <td>Ярославская область</td>\n",
       "      <td>г Ярославль, Фрунзенский район, территория в р...</td>\n",
       "      <td>Типовой</td>\n",
       "      <td>Кирпич</td>\n",
       "      <td>Другое</td>\n",
       "      <td>2022-12-31</td>\n",
       "      <td>0.255401</td>\n",
       "      <td>0</td>\n",
       "      <td>127</td>\n",
       "      <td>6764.22</td>\n",
       "      <td>6</td>\n",
       "      <td>70681.0</td>\n",
       "    </tr>\n",
       "    <tr>\n",
       "      <th>10791</th>\n",
       "      <td>45321</td>\n",
       "      <td>‹‹СЗ ‹‹СТРОЙ-НАДЕЖДА››</td>\n",
       "      <td>32</td>\n",
       "      <td>Брянская область</td>\n",
       "      <td>г Брянск, улица Молодой Гвардии, строение Поз.1</td>\n",
       "      <td>Типовой</td>\n",
       "      <td>Монолит-кирпич</td>\n",
       "      <td>Без отделки</td>\n",
       "      <td>2023-03-31</td>\n",
       "      <td>0.123780</td>\n",
       "      <td>0</td>\n",
       "      <td>90</td>\n",
       "      <td>5288.40</td>\n",
       "      <td>11</td>\n",
       "      <td>69594.0</td>\n",
       "    </tr>\n",
       "  </tbody>\n",
       "</table>\n",
       "<p>10792 rows × 15 columns</p>\n",
       "</div>"
      ],
      "text/plain": [
       "       id дома              застройщик  номер региона     название региона  \\\n",
       "0        13391              2МЕН ГРУПП             72    Тюменская область   \n",
       "1        13383              2МЕН ГРУПП             72    Тюменская область   \n",
       "2        13398              2МЕН ГРУПП             72    Тюменская область   \n",
       "3        13397              2МЕН ГРУПП             72    Тюменская область   \n",
       "4        13399              2МЕН ГРУПП             72    Тюменская область   \n",
       "...        ...                     ...            ...                  ...   \n",
       "10787    28071               ЯРКИЙ МИР             50   Московская область   \n",
       "10788    28070               ЯРКИЙ МИР             50   Московская область   \n",
       "10789    28073               ЯРКИЙ МИР             50   Московская область   \n",
       "10790    44447       ЯРОСЛАВЛЬЗАКАЗЧИК             76  Ярославская область   \n",
       "10791    45321  ‹‹СЗ ‹‹СТРОЙ-НАДЕЖДА››             32     Брянская область   \n",
       "\n",
       "                                              адрес дома класс недвижимости  \\\n",
       "0                               г Тюмень, ул Профсоюзная            Элитный   \n",
       "1                                               г Тюмень            Элитный   \n",
       "2                        г Тюмень, ул Профсоюзная, д. 56            Элитный   \n",
       "3                        г Тюмень, ул Профсоюзная, д. 56            Элитный   \n",
       "4                        г Тюмень, ул Профсоюзная, д. 56            Элитный   \n",
       "...                                                  ...                ...   \n",
       "10787  г Котельники, район мкр.Ковровый, д.1-5, 24-29...            Типовой   \n",
       "10788  г Котельники, район мкр.Ковровый, д.1-5, 24-29...            Типовой   \n",
       "10789  г Котельники, район мкр.Ковровый, д.1-5, 24-29...            Типовой   \n",
       "10790  г Ярославль, Фрунзенский район, территория в р...            Типовой   \n",
       "10791    г Брянск, улица Молодой Гвардии, строение Поз.1            Типовой   \n",
       "\n",
       "        материал стен           тип отделки ввод в эксплуатацию  \\\n",
       "0              Другое  По желанию заказчика          2022-12-31   \n",
       "1              Другое  По желанию заказчика          2022-12-31   \n",
       "2              Другое           Без отделки          2024-12-31   \n",
       "3              Другое           Без отделки          2024-12-31   \n",
       "4              Другое           Без отделки          2024-12-31   \n",
       "...               ...                   ...                 ...   \n",
       "10787          Другое              Под ключ          2024-06-30   \n",
       "10788          Другое              Под ключ          2025-03-31   \n",
       "10789          Другое              Под ключ          2024-06-30   \n",
       "10790          Кирпич                Другое          2022-12-31   \n",
       "10791  Монолит-кирпич           Без отделки          2023-03-31   \n",
       "\n",
       "       распроданность квартир  количество мест в паркинге  количество квартир  \\\n",
       "0                    0.450622                          41                  44   \n",
       "1                    0.406985                          31                  68   \n",
       "2                    1.000000                           0                  43   \n",
       "3                    0.999984                           0                  65   \n",
       "4                    0.917243                         125                   0   \n",
       "...                       ...                         ...                 ...   \n",
       "10787                0.071155                           0                 288   \n",
       "10788                0.072883                           0                 768   \n",
       "10789                0.070834                           0                 312   \n",
       "10790                0.255401                           0                 127   \n",
       "10791                0.123780                           0                  90   \n",
       "\n",
       "       жилая площадь  количество этажей  средняя цена за 1 м²  \n",
       "0            4297.44                 12               55893.0  \n",
       "1            6296.55                 20               53109.0  \n",
       "2            4812.98                 10               47886.0  \n",
       "3            6248.51                 12               45523.0  \n",
       "4               0.00                  1               50768.0  \n",
       "...              ...                ...                   ...  \n",
       "10787       14870.40                 26               85604.0  \n",
       "10788       29620.10                 26               85309.0  \n",
       "10789       14872.80                 26               85634.0  \n",
       "10790        6764.22                  6               70681.0  \n",
       "10791        5288.40                 11               69594.0  \n",
       "\n",
       "[10792 rows x 15 columns]"
      ]
     },
     "execution_count": 7,
     "metadata": {},
     "output_type": "execute_result"
    }
   ],
   "source": [
    "# меняем имена столбцов\n",
    "df3.rename(columns = {'id': 'id дома', 'developer.devShortCleanNm': 'застройщик', 'region': 'номер региона',\n",
    "                      'developer.regRegionDesc': 'название региона', 'address': 'адрес дома',\n",
    "                      'objLkClassDesc': 'класс недвижимости', 'wallMaterialShortDesc': 'материал стен',\n",
    "                      'objLkFinishTypeDesc': 'тип отделки', 'objReady100PercDt': 'ввод в эксплуатацию',\n",
    "                      'soldOutPerc': 'распроданность квартир', 'objElemParkingCnt':'количество мест в паркинге',\n",
    "                       'objElemLivingCnt': 'количество квартир', 'objSquareLiving': 'жилая площадь', \n",
    "                      'floorMax': 'количество этажей', 'objPriceAvg': 'средняя цена за 1 м²'}, inplace=True)\n",
    "df3"
   ]
  },
  {
   "cell_type": "code",
   "execution_count": 8,
   "metadata": {},
   "outputs": [
    {
     "name": "stdout",
     "output_type": "stream",
     "text": [
      "<class 'pandas.core.frame.DataFrame'>\n",
      "RangeIndex: 10792 entries, 0 to 10791\n",
      "Data columns (total 15 columns):\n",
      " #   Column                      Non-Null Count  Dtype  \n",
      "---  ------                      --------------  -----  \n",
      " 0   id дома                     10792 non-null  int64  \n",
      " 1   застройщик                  10792 non-null  object \n",
      " 2   номер региона               10792 non-null  int64  \n",
      " 3   название региона            10683 non-null  object \n",
      " 4   адрес дома                  10766 non-null  object \n",
      " 5   класс недвижимости          10792 non-null  object \n",
      " 6   материал стен               10792 non-null  object \n",
      " 7   тип отделки                 10792 non-null  object \n",
      " 8   ввод в эксплуатацию         10792 non-null  object \n",
      " 9   распроданность квартир      7600 non-null   float64\n",
      " 10  количество мест в паркинге  10792 non-null  int64  \n",
      " 11  количество квартир          10792 non-null  int64  \n",
      " 12  жилая площадь               10792 non-null  float64\n",
      " 13  количество этажей           10792 non-null  int64  \n",
      " 14  средняя цена за 1 м²        7594 non-null   float64\n",
      "dtypes: float64(3), int64(5), object(7)\n",
      "memory usage: 1.2+ MB\n"
     ]
    }
   ],
   "source": [
    "# смотрим инфу по датасету\n",
    "df3.info()"
   ]
  },
  {
   "cell_type": "code",
   "execution_count": 9,
   "metadata": {},
   "outputs": [
    {
     "data": {
      "text/html": [
       "<div>\n",
       "<style scoped>\n",
       "    .dataframe tbody tr th:only-of-type {\n",
       "        vertical-align: middle;\n",
       "    }\n",
       "\n",
       "    .dataframe tbody tr th {\n",
       "        vertical-align: top;\n",
       "    }\n",
       "\n",
       "    .dataframe thead th {\n",
       "        text-align: right;\n",
       "    }\n",
       "</style>\n",
       "<table border=\"1\" class=\"dataframe\">\n",
       "  <thead>\n",
       "    <tr style=\"text-align: right;\">\n",
       "      <th></th>\n",
       "      <th>id дома</th>\n",
       "      <th>застройщик</th>\n",
       "      <th>номер региона</th>\n",
       "      <th>название региона</th>\n",
       "      <th>адрес дома</th>\n",
       "      <th>класс недвижимости</th>\n",
       "      <th>материал стен</th>\n",
       "      <th>тип отделки</th>\n",
       "      <th>ввод в эксплуатацию</th>\n",
       "      <th>распроданность квартир</th>\n",
       "      <th>количество мест в паркинге</th>\n",
       "      <th>количество квартир</th>\n",
       "      <th>жилая площадь</th>\n",
       "      <th>количество этажей</th>\n",
       "      <th>средняя цена за 1 м²</th>\n",
       "    </tr>\n",
       "  </thead>\n",
       "  <tbody>\n",
       "    <tr>\n",
       "      <th>count</th>\n",
       "      <td>10792.000000</td>\n",
       "      <td>10792</td>\n",
       "      <td>10792.000000</td>\n",
       "      <td>10683</td>\n",
       "      <td>10766</td>\n",
       "      <td>10792</td>\n",
       "      <td>10792</td>\n",
       "      <td>10792</td>\n",
       "      <td>10792</td>\n",
       "      <td>7600.000000</td>\n",
       "      <td>10792.000000</td>\n",
       "      <td>10792.000000</td>\n",
       "      <td>10792.000000</td>\n",
       "      <td>10792.000000</td>\n",
       "      <td>7.594000e+03</td>\n",
       "    </tr>\n",
       "    <tr>\n",
       "      <th>unique</th>\n",
       "      <td>NaN</td>\n",
       "      <td>3604</td>\n",
       "      <td>NaN</td>\n",
       "      <td>82</td>\n",
       "      <td>8588</td>\n",
       "      <td>5</td>\n",
       "      <td>6</td>\n",
       "      <td>5</td>\n",
       "      <td>60</td>\n",
       "      <td>NaN</td>\n",
       "      <td>NaN</td>\n",
       "      <td>NaN</td>\n",
       "      <td>NaN</td>\n",
       "      <td>NaN</td>\n",
       "      <td>NaN</td>\n",
       "    </tr>\n",
       "    <tr>\n",
       "      <th>top</th>\n",
       "      <td>NaN</td>\n",
       "      <td>СЗ ГЕЛЕОН СТРОЙ</td>\n",
       "      <td>NaN</td>\n",
       "      <td>Москва город</td>\n",
       "      <td>г Санкт-Петербург</td>\n",
       "      <td>Комфорт</td>\n",
       "      <td>Монолит-кирпич</td>\n",
       "      <td>Без отделки</td>\n",
       "      <td>2023-12-31</td>\n",
       "      <td>NaN</td>\n",
       "      <td>NaN</td>\n",
       "      <td>NaN</td>\n",
       "      <td>NaN</td>\n",
       "      <td>NaN</td>\n",
       "      <td>NaN</td>\n",
       "    </tr>\n",
       "    <tr>\n",
       "      <th>freq</th>\n",
       "      <td>NaN</td>\n",
       "      <td>139</td>\n",
       "      <td>NaN</td>\n",
       "      <td>1099</td>\n",
       "      <td>97</td>\n",
       "      <td>5519</td>\n",
       "      <td>5731</td>\n",
       "      <td>5329</td>\n",
       "      <td>1532</td>\n",
       "      <td>NaN</td>\n",
       "      <td>NaN</td>\n",
       "      <td>NaN</td>\n",
       "      <td>NaN</td>\n",
       "      <td>NaN</td>\n",
       "      <td>NaN</td>\n",
       "    </tr>\n",
       "    <tr>\n",
       "      <th>mean</th>\n",
       "      <td>40005.543736</td>\n",
       "      <td>NaN</td>\n",
       "      <td>47.941253</td>\n",
       "      <td>NaN</td>\n",
       "      <td>NaN</td>\n",
       "      <td>NaN</td>\n",
       "      <td>NaN</td>\n",
       "      <td>NaN</td>\n",
       "      <td>NaN</td>\n",
       "      <td>0.435591</td>\n",
       "      <td>37.274277</td>\n",
       "      <td>188.586546</td>\n",
       "      <td>9343.246554</td>\n",
       "      <td>12.471831</td>\n",
       "      <td>1.198356e+05</td>\n",
       "    </tr>\n",
       "    <tr>\n",
       "      <th>std</th>\n",
       "      <td>9860.217407</td>\n",
       "      <td>NaN</td>\n",
       "      <td>23.384108</td>\n",
       "      <td>NaN</td>\n",
       "      <td>NaN</td>\n",
       "      <td>NaN</td>\n",
       "      <td>NaN</td>\n",
       "      <td>NaN</td>\n",
       "      <td>NaN</td>\n",
       "      <td>0.344209</td>\n",
       "      <td>117.513368</td>\n",
       "      <td>233.454251</td>\n",
       "      <td>11233.670333</td>\n",
       "      <td>8.402815</td>\n",
       "      <td>1.204491e+05</td>\n",
       "    </tr>\n",
       "    <tr>\n",
       "      <th>min</th>\n",
       "      <td>1259.000000</td>\n",
       "      <td>NaN</td>\n",
       "      <td>1.000000</td>\n",
       "      <td>NaN</td>\n",
       "      <td>NaN</td>\n",
       "      <td>NaN</td>\n",
       "      <td>NaN</td>\n",
       "      <td>NaN</td>\n",
       "      <td>NaN</td>\n",
       "      <td>0.000064</td>\n",
       "      <td>0.000000</td>\n",
       "      <td>0.000000</td>\n",
       "      <td>0.000000</td>\n",
       "      <td>0.000000</td>\n",
       "      <td>1.000000e+03</td>\n",
       "    </tr>\n",
       "    <tr>\n",
       "      <th>25%</th>\n",
       "      <td>37929.750000</td>\n",
       "      <td>NaN</td>\n",
       "      <td>25.000000</td>\n",
       "      <td>NaN</td>\n",
       "      <td>NaN</td>\n",
       "      <td>NaN</td>\n",
       "      <td>NaN</td>\n",
       "      <td>NaN</td>\n",
       "      <td>NaN</td>\n",
       "      <td>0.106441</td>\n",
       "      <td>0.000000</td>\n",
       "      <td>40.000000</td>\n",
       "      <td>2083.805000</td>\n",
       "      <td>5.000000</td>\n",
       "      <td>6.687850e+04</td>\n",
       "    </tr>\n",
       "    <tr>\n",
       "      <th>50%</th>\n",
       "      <td>43204.500000</td>\n",
       "      <td>NaN</td>\n",
       "      <td>50.000000</td>\n",
       "      <td>NaN</td>\n",
       "      <td>NaN</td>\n",
       "      <td>NaN</td>\n",
       "      <td>NaN</td>\n",
       "      <td>NaN</td>\n",
       "      <td>NaN</td>\n",
       "      <td>0.381289</td>\n",
       "      <td>0.000000</td>\n",
       "      <td>120.000000</td>\n",
       "      <td>6332.230000</td>\n",
       "      <td>11.000000</td>\n",
       "      <td>9.153350e+04</td>\n",
       "    </tr>\n",
       "    <tr>\n",
       "      <th>75%</th>\n",
       "      <td>46553.250000</td>\n",
       "      <td>NaN</td>\n",
       "      <td>69.000000</td>\n",
       "      <td>NaN</td>\n",
       "      <td>NaN</td>\n",
       "      <td>NaN</td>\n",
       "      <td>NaN</td>\n",
       "      <td>NaN</td>\n",
       "      <td>NaN</td>\n",
       "      <td>0.743252</td>\n",
       "      <td>0.000000</td>\n",
       "      <td>253.000000</td>\n",
       "      <td>12483.257500</td>\n",
       "      <td>18.000000</td>\n",
       "      <td>1.346605e+05</td>\n",
       "    </tr>\n",
       "    <tr>\n",
       "      <th>max</th>\n",
       "      <td>49476.000000</td>\n",
       "      <td>NaN</td>\n",
       "      <td>92.000000</td>\n",
       "      <td>NaN</td>\n",
       "      <td>NaN</td>\n",
       "      <td>NaN</td>\n",
       "      <td>NaN</td>\n",
       "      <td>NaN</td>\n",
       "      <td>NaN</td>\n",
       "      <td>1.000000</td>\n",
       "      <td>3580.000000</td>\n",
       "      <td>2676.000000</td>\n",
       "      <td>142978.700000</td>\n",
       "      <td>76.000000</td>\n",
       "      <td>2.228709e+06</td>\n",
       "    </tr>\n",
       "  </tbody>\n",
       "</table>\n",
       "</div>"
      ],
      "text/plain": [
       "             id дома       застройщик  номер региона название региона  \\\n",
       "count   10792.000000            10792   10792.000000            10683   \n",
       "unique           NaN             3604            NaN               82   \n",
       "top              NaN  СЗ ГЕЛЕОН СТРОЙ            NaN     Москва город   \n",
       "freq             NaN              139            NaN             1099   \n",
       "mean    40005.543736              NaN      47.941253              NaN   \n",
       "std      9860.217407              NaN      23.384108              NaN   \n",
       "min      1259.000000              NaN       1.000000              NaN   \n",
       "25%     37929.750000              NaN      25.000000              NaN   \n",
       "50%     43204.500000              NaN      50.000000              NaN   \n",
       "75%     46553.250000              NaN      69.000000              NaN   \n",
       "max     49476.000000              NaN      92.000000              NaN   \n",
       "\n",
       "               адрес дома класс недвижимости   материал стен  тип отделки  \\\n",
       "count               10766              10792           10792        10792   \n",
       "unique               8588                  5               6            5   \n",
       "top     г Санкт-Петербург            Комфорт  Монолит-кирпич  Без отделки   \n",
       "freq                   97               5519            5731         5329   \n",
       "mean                  NaN                NaN             NaN          NaN   \n",
       "std                   NaN                NaN             NaN          NaN   \n",
       "min                   NaN                NaN             NaN          NaN   \n",
       "25%                   NaN                NaN             NaN          NaN   \n",
       "50%                   NaN                NaN             NaN          NaN   \n",
       "75%                   NaN                NaN             NaN          NaN   \n",
       "max                   NaN                NaN             NaN          NaN   \n",
       "\n",
       "       ввод в эксплуатацию  распроданность квартир  \\\n",
       "count                10792             7600.000000   \n",
       "unique                  60                     NaN   \n",
       "top             2023-12-31                     NaN   \n",
       "freq                  1532                     NaN   \n",
       "mean                   NaN                0.435591   \n",
       "std                    NaN                0.344209   \n",
       "min                    NaN                0.000064   \n",
       "25%                    NaN                0.106441   \n",
       "50%                    NaN                0.381289   \n",
       "75%                    NaN                0.743252   \n",
       "max                    NaN                1.000000   \n",
       "\n",
       "        количество мест в паркинге  количество квартир  жилая площадь  \\\n",
       "count                 10792.000000        10792.000000   10792.000000   \n",
       "unique                         NaN                 NaN            NaN   \n",
       "top                            NaN                 NaN            NaN   \n",
       "freq                           NaN                 NaN            NaN   \n",
       "mean                     37.274277          188.586546    9343.246554   \n",
       "std                     117.513368          233.454251   11233.670333   \n",
       "min                       0.000000            0.000000       0.000000   \n",
       "25%                       0.000000           40.000000    2083.805000   \n",
       "50%                       0.000000          120.000000    6332.230000   \n",
       "75%                       0.000000          253.000000   12483.257500   \n",
       "max                    3580.000000         2676.000000  142978.700000   \n",
       "\n",
       "        количество этажей  средняя цена за 1 м²  \n",
       "count        10792.000000          7.594000e+03  \n",
       "unique                NaN                   NaN  \n",
       "top                   NaN                   NaN  \n",
       "freq                  NaN                   NaN  \n",
       "mean            12.471831          1.198356e+05  \n",
       "std              8.402815          1.204491e+05  \n",
       "min              0.000000          1.000000e+03  \n",
       "25%              5.000000          6.687850e+04  \n",
       "50%             11.000000          9.153350e+04  \n",
       "75%             18.000000          1.346605e+05  \n",
       "max             76.000000          2.228709e+06  "
      ]
     },
     "execution_count": 9,
     "metadata": {},
     "output_type": "execute_result"
    }
   ],
   "source": [
    "# описательная характеристика датасета\n",
    "df3.describe(include = \"all\")"
   ]
  },
  {
   "cell_type": "code",
   "execution_count": 10,
   "metadata": {},
   "outputs": [
    {
     "data": {
      "text/plain": [
       "id дома                       10783\n",
       "застройщик                     3604\n",
       "номер региона                    81\n",
       "название региона                 82\n",
       "адрес дома                     8588\n",
       "класс недвижимости                5\n",
       "материал стен                     6\n",
       "тип отделки                       5\n",
       "ввод в эксплуатацию              60\n",
       "распроданность квартир         6941\n",
       "количество мест в паркинге      527\n",
       "количество квартир              946\n",
       "жилая площадь                  7765\n",
       "количество этажей                62\n",
       "средняя цена за 1 м²           6935\n",
       "dtype: int64"
      ]
     },
     "execution_count": 10,
     "metadata": {},
     "output_type": "execute_result"
    }
   ],
   "source": [
    "# смотрим уникальность колонок\n",
    "df3.nunique()"
   ]
  },
  {
   "cell_type": "code",
   "execution_count": 11,
   "metadata": {},
   "outputs": [
    {
     "data": {
      "text/plain": [
       "id дома                          0\n",
       "застройщик                       0\n",
       "номер региона                    0\n",
       "название региона               109\n",
       "адрес дома                      26\n",
       "класс недвижимости               0\n",
       "материал стен                    0\n",
       "тип отделки                      0\n",
       "ввод в эксплуатацию              0\n",
       "распроданность квартир        3192\n",
       "количество мест в паркинге       0\n",
       "количество квартир               0\n",
       "жилая площадь                    0\n",
       "количество этажей                0\n",
       "средняя цена за 1 м²          3198\n",
       "dtype: int64"
      ]
     },
     "execution_count": 11,
     "metadata": {},
     "output_type": "execute_result"
    }
   ],
   "source": [
    "#  считаем количестово пропущенных значений\n",
    "df3.isna().sum()"
   ]
  },
  {
   "cell_type": "code",
   "execution_count": 12,
   "metadata": {},
   "outputs": [
    {
     "data": {
      "text/plain": [
       "4"
      ]
     },
     "execution_count": 12,
     "metadata": {},
     "output_type": "execute_result"
    }
   ],
   "source": [
    "# количество столбцов, которые имеют хотя бы одно пропущенное значение\n",
    "len(df3.columns[df3.isna().any()].tolist())"
   ]
  },
  {
   "cell_type": "code",
   "execution_count": 13,
   "metadata": {},
   "outputs": [],
   "source": [
    "# изменяем форман с object на datetime\n",
    "df3['ввод в эксплуатацию'] = pd.to_datetime(df3['ввод в эксплуатацию'], dayfirst=True)"
   ]
  },
  {
   "cell_type": "code",
   "execution_count": 15,
   "metadata": {},
   "outputs": [],
   "source": [
    "# выбираем дома где 'количество мест в паркинге' / 'распроданность квартир'  NaN и устанавливаем 0 \n",
    "df3['количество мест в паркинге'].fillna(0, inplace = True)\n",
    "df3['распроданность квартир'].fillna(0, inplace = True)"
   ]
  },
  {
   "cell_type": "code",
   "execution_count": 16,
   "metadata": {},
   "outputs": [
    {
     "name": "stdout",
     "output_type": "stream",
     "text": [
      "<class 'pandas.core.frame.DataFrame'>\n",
      "RangeIndex: 10792 entries, 0 to 10791\n",
      "Data columns (total 15 columns):\n",
      " #   Column                      Non-Null Count  Dtype         \n",
      "---  ------                      --------------  -----         \n",
      " 0   id дома                     10792 non-null  int64         \n",
      " 1   застройщик                  10792 non-null  object        \n",
      " 2   номер региона               10792 non-null  int64         \n",
      " 3   название региона            10683 non-null  object        \n",
      " 4   адрес дома                  10766 non-null  object        \n",
      " 5   класс недвижимости          10792 non-null  object        \n",
      " 6   материал стен               10792 non-null  object        \n",
      " 7   тип отделки                 10792 non-null  object        \n",
      " 8   ввод в эксплуатацию         10792 non-null  datetime64[ns]\n",
      " 9   распроданность квартир      10792 non-null  float64       \n",
      " 10  количество мест в паркинге  10792 non-null  int64         \n",
      " 11  количество квартир          10792 non-null  int64         \n",
      " 12  жилая площадь               10792 non-null  float64       \n",
      " 13  количество этажей           10792 non-null  int64         \n",
      " 14  средняя цена за 1 м²        7594 non-null   float64       \n",
      "dtypes: datetime64[ns](1), float64(3), int64(5), object(6)\n",
      "memory usage: 1.2+ MB\n"
     ]
    }
   ],
   "source": [
    "# смотрим инфу по датасету\n",
    "df3.info()"
   ]
  },
  {
   "cell_type": "code",
   "execution_count": 17,
   "metadata": {},
   "outputs": [
    {
     "data": {
      "text/html": [
       "<div>\n",
       "<style scoped>\n",
       "    .dataframe tbody tr th:only-of-type {\n",
       "        vertical-align: middle;\n",
       "    }\n",
       "\n",
       "    .dataframe tbody tr th {\n",
       "        vertical-align: top;\n",
       "    }\n",
       "\n",
       "    .dataframe thead th {\n",
       "        text-align: right;\n",
       "    }\n",
       "</style>\n",
       "<table border=\"1\" class=\"dataframe\">\n",
       "  <thead>\n",
       "    <tr style=\"text-align: right;\">\n",
       "      <th></th>\n",
       "      <th>id дома</th>\n",
       "      <th>застройщик</th>\n",
       "      <th>номер региона</th>\n",
       "      <th>название региона</th>\n",
       "      <th>адрес дома</th>\n",
       "      <th>класс недвижимости</th>\n",
       "      <th>материал стен</th>\n",
       "      <th>тип отделки</th>\n",
       "      <th>ввод в эксплуатацию</th>\n",
       "      <th>распроданность квартир</th>\n",
       "      <th>количество мест в паркинге</th>\n",
       "      <th>количество квартир</th>\n",
       "      <th>жилая площадь</th>\n",
       "      <th>количество этажей</th>\n",
       "      <th>средняя цена за 1 м²</th>\n",
       "    </tr>\n",
       "  </thead>\n",
       "  <tbody>\n",
       "    <tr>\n",
       "      <th>0</th>\n",
       "      <td>13391</td>\n",
       "      <td>2МЕН ГРУПП</td>\n",
       "      <td>72</td>\n",
       "      <td>Тюменская область</td>\n",
       "      <td>г Тюмень, ул Профсоюзная</td>\n",
       "      <td>Элитный</td>\n",
       "      <td>Другое</td>\n",
       "      <td>По желанию заказчика</td>\n",
       "      <td>2022-12-31</td>\n",
       "      <td>0.450622</td>\n",
       "      <td>41</td>\n",
       "      <td>44</td>\n",
       "      <td>4297.44</td>\n",
       "      <td>12</td>\n",
       "      <td>55893.0</td>\n",
       "    </tr>\n",
       "    <tr>\n",
       "      <th>1</th>\n",
       "      <td>13383</td>\n",
       "      <td>2МЕН ГРУПП</td>\n",
       "      <td>72</td>\n",
       "      <td>Тюменская область</td>\n",
       "      <td>г Тюмень</td>\n",
       "      <td>Элитный</td>\n",
       "      <td>Другое</td>\n",
       "      <td>По желанию заказчика</td>\n",
       "      <td>2022-12-31</td>\n",
       "      <td>0.406985</td>\n",
       "      <td>31</td>\n",
       "      <td>68</td>\n",
       "      <td>6296.55</td>\n",
       "      <td>20</td>\n",
       "      <td>53109.0</td>\n",
       "    </tr>\n",
       "    <tr>\n",
       "      <th>2</th>\n",
       "      <td>13398</td>\n",
       "      <td>2МЕН ГРУПП</td>\n",
       "      <td>72</td>\n",
       "      <td>Тюменская область</td>\n",
       "      <td>г Тюмень, ул Профсоюзная, д. 56</td>\n",
       "      <td>Элитный</td>\n",
       "      <td>Другое</td>\n",
       "      <td>Без отделки</td>\n",
       "      <td>2024-12-31</td>\n",
       "      <td>1.000000</td>\n",
       "      <td>0</td>\n",
       "      <td>43</td>\n",
       "      <td>4812.98</td>\n",
       "      <td>10</td>\n",
       "      <td>47886.0</td>\n",
       "    </tr>\n",
       "    <tr>\n",
       "      <th>3</th>\n",
       "      <td>13397</td>\n",
       "      <td>2МЕН ГРУПП</td>\n",
       "      <td>72</td>\n",
       "      <td>Тюменская область</td>\n",
       "      <td>г Тюмень, ул Профсоюзная, д. 56</td>\n",
       "      <td>Элитный</td>\n",
       "      <td>Другое</td>\n",
       "      <td>Без отделки</td>\n",
       "      <td>2024-12-31</td>\n",
       "      <td>0.999984</td>\n",
       "      <td>0</td>\n",
       "      <td>65</td>\n",
       "      <td>6248.51</td>\n",
       "      <td>12</td>\n",
       "      <td>45523.0</td>\n",
       "    </tr>\n",
       "    <tr>\n",
       "      <th>4</th>\n",
       "      <td>13399</td>\n",
       "      <td>2МЕН ГРУПП</td>\n",
       "      <td>72</td>\n",
       "      <td>Тюменская область</td>\n",
       "      <td>г Тюмень, ул Профсоюзная, д. 56</td>\n",
       "      <td>Элитный</td>\n",
       "      <td>Другое</td>\n",
       "      <td>Без отделки</td>\n",
       "      <td>2024-12-31</td>\n",
       "      <td>0.917243</td>\n",
       "      <td>125</td>\n",
       "      <td>0</td>\n",
       "      <td>0.00</td>\n",
       "      <td>1</td>\n",
       "      <td>50768.0</td>\n",
       "    </tr>\n",
       "    <tr>\n",
       "      <th>...</th>\n",
       "      <td>...</td>\n",
       "      <td>...</td>\n",
       "      <td>...</td>\n",
       "      <td>...</td>\n",
       "      <td>...</td>\n",
       "      <td>...</td>\n",
       "      <td>...</td>\n",
       "      <td>...</td>\n",
       "      <td>...</td>\n",
       "      <td>...</td>\n",
       "      <td>...</td>\n",
       "      <td>...</td>\n",
       "      <td>...</td>\n",
       "      <td>...</td>\n",
       "      <td>...</td>\n",
       "    </tr>\n",
       "    <tr>\n",
       "      <th>10787</th>\n",
       "      <td>28071</td>\n",
       "      <td>ЯРКИЙ МИР</td>\n",
       "      <td>50</td>\n",
       "      <td>Московская область</td>\n",
       "      <td>г Котельники, район мкр.Ковровый, д.1-5, 24-29...</td>\n",
       "      <td>Типовой</td>\n",
       "      <td>Другое</td>\n",
       "      <td>Под ключ</td>\n",
       "      <td>2024-06-30</td>\n",
       "      <td>0.071155</td>\n",
       "      <td>0</td>\n",
       "      <td>288</td>\n",
       "      <td>14870.40</td>\n",
       "      <td>26</td>\n",
       "      <td>85604.0</td>\n",
       "    </tr>\n",
       "    <tr>\n",
       "      <th>10788</th>\n",
       "      <td>28070</td>\n",
       "      <td>ЯРКИЙ МИР</td>\n",
       "      <td>50</td>\n",
       "      <td>Московская область</td>\n",
       "      <td>г Котельники, район мкр.Ковровый, д.1-5, 24-29...</td>\n",
       "      <td>Типовой</td>\n",
       "      <td>Другое</td>\n",
       "      <td>Под ключ</td>\n",
       "      <td>2025-03-31</td>\n",
       "      <td>0.072883</td>\n",
       "      <td>0</td>\n",
       "      <td>768</td>\n",
       "      <td>29620.10</td>\n",
       "      <td>26</td>\n",
       "      <td>85309.0</td>\n",
       "    </tr>\n",
       "    <tr>\n",
       "      <th>10789</th>\n",
       "      <td>28073</td>\n",
       "      <td>ЯРКИЙ МИР</td>\n",
       "      <td>50</td>\n",
       "      <td>Московская область</td>\n",
       "      <td>г Котельники, район мкр.Ковровый, д.1-5, 24-29...</td>\n",
       "      <td>Типовой</td>\n",
       "      <td>Другое</td>\n",
       "      <td>Под ключ</td>\n",
       "      <td>2024-06-30</td>\n",
       "      <td>0.070834</td>\n",
       "      <td>0</td>\n",
       "      <td>312</td>\n",
       "      <td>14872.80</td>\n",
       "      <td>26</td>\n",
       "      <td>85634.0</td>\n",
       "    </tr>\n",
       "    <tr>\n",
       "      <th>10790</th>\n",
       "      <td>44447</td>\n",
       "      <td>ЯРОСЛАВЛЬЗАКАЗЧИК</td>\n",
       "      <td>76</td>\n",
       "      <td>Ярославская область</td>\n",
       "      <td>г Ярославль, Фрунзенский район, территория в р...</td>\n",
       "      <td>Типовой</td>\n",
       "      <td>Кирпич</td>\n",
       "      <td>Другое</td>\n",
       "      <td>2022-12-31</td>\n",
       "      <td>0.255401</td>\n",
       "      <td>0</td>\n",
       "      <td>127</td>\n",
       "      <td>6764.22</td>\n",
       "      <td>6</td>\n",
       "      <td>70681.0</td>\n",
       "    </tr>\n",
       "    <tr>\n",
       "      <th>10791</th>\n",
       "      <td>45321</td>\n",
       "      <td>‹‹СЗ ‹‹СТРОЙ-НАДЕЖДА››</td>\n",
       "      <td>32</td>\n",
       "      <td>Брянская область</td>\n",
       "      <td>г Брянск, улица Молодой Гвардии, строение Поз.1</td>\n",
       "      <td>Типовой</td>\n",
       "      <td>Монолит-кирпич</td>\n",
       "      <td>Без отделки</td>\n",
       "      <td>2023-03-31</td>\n",
       "      <td>0.123780</td>\n",
       "      <td>0</td>\n",
       "      <td>90</td>\n",
       "      <td>5288.40</td>\n",
       "      <td>11</td>\n",
       "      <td>69594.0</td>\n",
       "    </tr>\n",
       "  </tbody>\n",
       "</table>\n",
       "<p>10792 rows × 15 columns</p>\n",
       "</div>"
      ],
      "text/plain": [
       "       id дома              застройщик  номер региона     название региона  \\\n",
       "0        13391              2МЕН ГРУПП             72    Тюменская область   \n",
       "1        13383              2МЕН ГРУПП             72    Тюменская область   \n",
       "2        13398              2МЕН ГРУПП             72    Тюменская область   \n",
       "3        13397              2МЕН ГРУПП             72    Тюменская область   \n",
       "4        13399              2МЕН ГРУПП             72    Тюменская область   \n",
       "...        ...                     ...            ...                  ...   \n",
       "10787    28071               ЯРКИЙ МИР             50   Московская область   \n",
       "10788    28070               ЯРКИЙ МИР             50   Московская область   \n",
       "10789    28073               ЯРКИЙ МИР             50   Московская область   \n",
       "10790    44447       ЯРОСЛАВЛЬЗАКАЗЧИК             76  Ярославская область   \n",
       "10791    45321  ‹‹СЗ ‹‹СТРОЙ-НАДЕЖДА››             32     Брянская область   \n",
       "\n",
       "                                              адрес дома класс недвижимости  \\\n",
       "0                               г Тюмень, ул Профсоюзная            Элитный   \n",
       "1                                               г Тюмень            Элитный   \n",
       "2                        г Тюмень, ул Профсоюзная, д. 56            Элитный   \n",
       "3                        г Тюмень, ул Профсоюзная, д. 56            Элитный   \n",
       "4                        г Тюмень, ул Профсоюзная, д. 56            Элитный   \n",
       "...                                                  ...                ...   \n",
       "10787  г Котельники, район мкр.Ковровый, д.1-5, 24-29...            Типовой   \n",
       "10788  г Котельники, район мкр.Ковровый, д.1-5, 24-29...            Типовой   \n",
       "10789  г Котельники, район мкр.Ковровый, д.1-5, 24-29...            Типовой   \n",
       "10790  г Ярославль, Фрунзенский район, территория в р...            Типовой   \n",
       "10791    г Брянск, улица Молодой Гвардии, строение Поз.1            Типовой   \n",
       "\n",
       "        материал стен           тип отделки ввод в эксплуатацию  \\\n",
       "0              Другое  По желанию заказчика          2022-12-31   \n",
       "1              Другое  По желанию заказчика          2022-12-31   \n",
       "2              Другое           Без отделки          2024-12-31   \n",
       "3              Другое           Без отделки          2024-12-31   \n",
       "4              Другое           Без отделки          2024-12-31   \n",
       "...               ...                   ...                 ...   \n",
       "10787          Другое              Под ключ          2024-06-30   \n",
       "10788          Другое              Под ключ          2025-03-31   \n",
       "10789          Другое              Под ключ          2024-06-30   \n",
       "10790          Кирпич                Другое          2022-12-31   \n",
       "10791  Монолит-кирпич           Без отделки          2023-03-31   \n",
       "\n",
       "       распроданность квартир  количество мест в паркинге  количество квартир  \\\n",
       "0                    0.450622                          41                  44   \n",
       "1                    0.406985                          31                  68   \n",
       "2                    1.000000                           0                  43   \n",
       "3                    0.999984                           0                  65   \n",
       "4                    0.917243                         125                   0   \n",
       "...                       ...                         ...                 ...   \n",
       "10787                0.071155                           0                 288   \n",
       "10788                0.072883                           0                 768   \n",
       "10789                0.070834                           0                 312   \n",
       "10790                0.255401                           0                 127   \n",
       "10791                0.123780                           0                  90   \n",
       "\n",
       "       жилая площадь  количество этажей  средняя цена за 1 м²  \n",
       "0            4297.44                 12               55893.0  \n",
       "1            6296.55                 20               53109.0  \n",
       "2            4812.98                 10               47886.0  \n",
       "3            6248.51                 12               45523.0  \n",
       "4               0.00                  1               50768.0  \n",
       "...              ...                ...                   ...  \n",
       "10787       14870.40                 26               85604.0  \n",
       "10788       29620.10                 26               85309.0  \n",
       "10789       14872.80                 26               85634.0  \n",
       "10790        6764.22                  6               70681.0  \n",
       "10791        5288.40                 11               69594.0  \n",
       "\n",
       "[10792 rows x 15 columns]"
      ]
     },
     "execution_count": 17,
     "metadata": {},
     "output_type": "execute_result"
    }
   ],
   "source": [
    "df3"
   ]
  },
  {
   "cell_type": "code",
   "execution_count": 18,
   "metadata": {},
   "outputs": [
    {
     "data": {
      "text/html": [
       "<div>\n",
       "<style scoped>\n",
       "    .dataframe tbody tr th:only-of-type {\n",
       "        vertical-align: middle;\n",
       "    }\n",
       "\n",
       "    .dataframe tbody tr th {\n",
       "        vertical-align: top;\n",
       "    }\n",
       "\n",
       "    .dataframe thead th {\n",
       "        text-align: right;\n",
       "    }\n",
       "</style>\n",
       "<table border=\"1\" class=\"dataframe\">\n",
       "  <thead>\n",
       "    <tr style=\"text-align: right;\">\n",
       "      <th></th>\n",
       "      <th>id дома</th>\n",
       "      <th>номер региона</th>\n",
       "      <th>распроданность квартир</th>\n",
       "      <th>количество мест в паркинге</th>\n",
       "      <th>количество квартир</th>\n",
       "      <th>жилая площадь</th>\n",
       "      <th>количество этажей</th>\n",
       "      <th>средняя цена за 1 м²</th>\n",
       "    </tr>\n",
       "  </thead>\n",
       "  <tbody>\n",
       "    <tr>\n",
       "      <th>count</th>\n",
       "      <td>10792.000000</td>\n",
       "      <td>10792.000000</td>\n",
       "      <td>10792.000000</td>\n",
       "      <td>10792.000000</td>\n",
       "      <td>10792.000000</td>\n",
       "      <td>10792.000000</td>\n",
       "      <td>10792.000000</td>\n",
       "      <td>7.594000e+03</td>\n",
       "    </tr>\n",
       "    <tr>\n",
       "      <th>mean</th>\n",
       "      <td>40005.543736</td>\n",
       "      <td>47.941253</td>\n",
       "      <td>0.306754</td>\n",
       "      <td>37.274277</td>\n",
       "      <td>188.586546</td>\n",
       "      <td>9343.246554</td>\n",
       "      <td>12.471831</td>\n",
       "      <td>1.198356e+05</td>\n",
       "    </tr>\n",
       "    <tr>\n",
       "      <th>std</th>\n",
       "      <td>9860.217407</td>\n",
       "      <td>23.384108</td>\n",
       "      <td>0.350654</td>\n",
       "      <td>117.513368</td>\n",
       "      <td>233.454251</td>\n",
       "      <td>11233.670333</td>\n",
       "      <td>8.402815</td>\n",
       "      <td>1.204491e+05</td>\n",
       "    </tr>\n",
       "    <tr>\n",
       "      <th>min</th>\n",
       "      <td>1259.000000</td>\n",
       "      <td>1.000000</td>\n",
       "      <td>0.000000</td>\n",
       "      <td>0.000000</td>\n",
       "      <td>0.000000</td>\n",
       "      <td>0.000000</td>\n",
       "      <td>0.000000</td>\n",
       "      <td>1.000000e+03</td>\n",
       "    </tr>\n",
       "    <tr>\n",
       "      <th>25%</th>\n",
       "      <td>37929.750000</td>\n",
       "      <td>25.000000</td>\n",
       "      <td>0.000000</td>\n",
       "      <td>0.000000</td>\n",
       "      <td>40.000000</td>\n",
       "      <td>2083.805000</td>\n",
       "      <td>5.000000</td>\n",
       "      <td>6.687850e+04</td>\n",
       "    </tr>\n",
       "    <tr>\n",
       "      <th>50%</th>\n",
       "      <td>43204.500000</td>\n",
       "      <td>50.000000</td>\n",
       "      <td>0.138264</td>\n",
       "      <td>0.000000</td>\n",
       "      <td>120.000000</td>\n",
       "      <td>6332.230000</td>\n",
       "      <td>11.000000</td>\n",
       "      <td>9.153350e+04</td>\n",
       "    </tr>\n",
       "    <tr>\n",
       "      <th>75%</th>\n",
       "      <td>46553.250000</td>\n",
       "      <td>69.000000</td>\n",
       "      <td>0.592112</td>\n",
       "      <td>0.000000</td>\n",
       "      <td>253.000000</td>\n",
       "      <td>12483.257500</td>\n",
       "      <td>18.000000</td>\n",
       "      <td>1.346605e+05</td>\n",
       "    </tr>\n",
       "    <tr>\n",
       "      <th>max</th>\n",
       "      <td>49476.000000</td>\n",
       "      <td>92.000000</td>\n",
       "      <td>1.000000</td>\n",
       "      <td>3580.000000</td>\n",
       "      <td>2676.000000</td>\n",
       "      <td>142978.700000</td>\n",
       "      <td>76.000000</td>\n",
       "      <td>2.228709e+06</td>\n",
       "    </tr>\n",
       "  </tbody>\n",
       "</table>\n",
       "</div>"
      ],
      "text/plain": [
       "            id дома  номер региона  распроданность квартир  \\\n",
       "count  10792.000000   10792.000000            10792.000000   \n",
       "mean   40005.543736      47.941253                0.306754   \n",
       "std     9860.217407      23.384108                0.350654   \n",
       "min     1259.000000       1.000000                0.000000   \n",
       "25%    37929.750000      25.000000                0.000000   \n",
       "50%    43204.500000      50.000000                0.138264   \n",
       "75%    46553.250000      69.000000                0.592112   \n",
       "max    49476.000000      92.000000                1.000000   \n",
       "\n",
       "       количество мест в паркинге  количество квартир  жилая площадь  \\\n",
       "count                10792.000000        10792.000000   10792.000000   \n",
       "mean                    37.274277          188.586546    9343.246554   \n",
       "std                    117.513368          233.454251   11233.670333   \n",
       "min                      0.000000            0.000000       0.000000   \n",
       "25%                      0.000000           40.000000    2083.805000   \n",
       "50%                      0.000000          120.000000    6332.230000   \n",
       "75%                      0.000000          253.000000   12483.257500   \n",
       "max                   3580.000000         2676.000000  142978.700000   \n",
       "\n",
       "       количество этажей  средняя цена за 1 м²  \n",
       "count       10792.000000          7.594000e+03  \n",
       "mean           12.471831          1.198356e+05  \n",
       "std             8.402815          1.204491e+05  \n",
       "min             0.000000          1.000000e+03  \n",
       "25%             5.000000          6.687850e+04  \n",
       "50%            11.000000          9.153350e+04  \n",
       "75%            18.000000          1.346605e+05  \n",
       "max            76.000000          2.228709e+06  "
      ]
     },
     "execution_count": 18,
     "metadata": {},
     "output_type": "execute_result"
    }
   ],
   "source": [
    "df3.describe()"
   ]
  },
  {
   "cell_type": "code",
   "execution_count": 18,
   "metadata": {},
   "outputs": [],
   "source": [
    "# Провести мини-исследование рынка строящейся недвижимости в одном или нескольких регионах\n",
    "# с помощью pandas, matplotlib, seaborn, plotly и других инструментов."
   ]
  },
  {
   "cell_type": "code",
   "execution_count": 19,
   "metadata": {},
   "outputs": [
    {
     "data": {
      "text/html": [
       "<div>\n",
       "<style scoped>\n",
       "    .dataframe tbody tr th:only-of-type {\n",
       "        vertical-align: middle;\n",
       "    }\n",
       "\n",
       "    .dataframe tbody tr th {\n",
       "        vertical-align: top;\n",
       "    }\n",
       "\n",
       "    .dataframe thead th {\n",
       "        text-align: right;\n",
       "    }\n",
       "</style>\n",
       "<table border=\"1\" class=\"dataframe\">\n",
       "  <thead>\n",
       "    <tr style=\"text-align: right;\">\n",
       "      <th></th>\n",
       "      <th>id дома</th>\n",
       "      <th>застройщик</th>\n",
       "      <th>номер региона</th>\n",
       "      <th>название региона</th>\n",
       "      <th>адрес дома</th>\n",
       "      <th>класс недвижимости</th>\n",
       "      <th>материал стен</th>\n",
       "      <th>тип отделки</th>\n",
       "      <th>ввод в эксплуатацию</th>\n",
       "      <th>распроданность квартир</th>\n",
       "      <th>количество мест в паркинге</th>\n",
       "      <th>количество квартир</th>\n",
       "      <th>жилая площадь</th>\n",
       "      <th>количество этажей</th>\n",
       "      <th>средняя цена за 1 м²</th>\n",
       "    </tr>\n",
       "  </thead>\n",
       "  <tbody>\n",
       "    <tr>\n",
       "      <th>0</th>\n",
       "      <td>40008</td>\n",
       "      <td>ГК ЖБИ-2</td>\n",
       "      <td>69</td>\n",
       "      <td>Тверская область</td>\n",
       "      <td>г Тверь, переулок 1-ый Вагонников, д. 6</td>\n",
       "      <td>Комфорт</td>\n",
       "      <td>Кирпич</td>\n",
       "      <td>Без отделки</td>\n",
       "      <td>2023-06-30</td>\n",
       "      <td>1.000000</td>\n",
       "      <td>0</td>\n",
       "      <td>79</td>\n",
       "      <td>4765.50</td>\n",
       "      <td>11</td>\n",
       "      <td>38946.0</td>\n",
       "    </tr>\n",
       "    <tr>\n",
       "      <th>1</th>\n",
       "      <td>41000</td>\n",
       "      <td>ГК ЖБИ-2</td>\n",
       "      <td>69</td>\n",
       "      <td>Тверская область</td>\n",
       "      <td>г Тверь, переулок 1-ый Вагонников, д. 6</td>\n",
       "      <td>Комфорт</td>\n",
       "      <td>Кирпич</td>\n",
       "      <td>Без отделки</td>\n",
       "      <td>2023-06-30</td>\n",
       "      <td>0.020472</td>\n",
       "      <td>0</td>\n",
       "      <td>55</td>\n",
       "      <td>3111.50</td>\n",
       "      <td>8</td>\n",
       "      <td>47400.0</td>\n",
       "    </tr>\n",
       "    <tr>\n",
       "      <th>2</th>\n",
       "      <td>5120</td>\n",
       "      <td>ЖИРАФ И К</td>\n",
       "      <td>69</td>\n",
       "      <td>Тверская область</td>\n",
       "      <td>г Тверь, улица Терещенко, д. 6, корпус 4</td>\n",
       "      <td>Типовой</td>\n",
       "      <td>Другое</td>\n",
       "      <td>По желанию заказчика</td>\n",
       "      <td>2022-12-31</td>\n",
       "      <td>1.000000</td>\n",
       "      <td>0</td>\n",
       "      <td>79</td>\n",
       "      <td>4097.10</td>\n",
       "      <td>16</td>\n",
       "      <td>41180.0</td>\n",
       "    </tr>\n",
       "    <tr>\n",
       "      <th>3</th>\n",
       "      <td>48244</td>\n",
       "      <td>ЖК РЕЧНОЙ</td>\n",
       "      <td>32</td>\n",
       "      <td>Брянская область</td>\n",
       "      <td>г Брянск</td>\n",
       "      <td>Комфорт</td>\n",
       "      <td>Монолит-кирпич</td>\n",
       "      <td>Без отделки</td>\n",
       "      <td>2025-12-31</td>\n",
       "      <td>0.000000</td>\n",
       "      <td>0</td>\n",
       "      <td>129</td>\n",
       "      <td>6737.99</td>\n",
       "      <td>21</td>\n",
       "      <td>NaN</td>\n",
       "    </tr>\n",
       "    <tr>\n",
       "      <th>4</th>\n",
       "      <td>40676</td>\n",
       "      <td>ИСК ФИНАНСИНВЕСТ</td>\n",
       "      <td>69</td>\n",
       "      <td>Москва город</td>\n",
       "      <td>г Тверь</td>\n",
       "      <td>Типовой</td>\n",
       "      <td>Монолит-кирпич</td>\n",
       "      <td>Без отделки</td>\n",
       "      <td>2023-09-30</td>\n",
       "      <td>0.722755</td>\n",
       "      <td>0</td>\n",
       "      <td>231</td>\n",
       "      <td>14082.92</td>\n",
       "      <td>23</td>\n",
       "      <td>69542.0</td>\n",
       "    </tr>\n",
       "    <tr>\n",
       "      <th>...</th>\n",
       "      <td>...</td>\n",
       "      <td>...</td>\n",
       "      <td>...</td>\n",
       "      <td>...</td>\n",
       "      <td>...</td>\n",
       "      <td>...</td>\n",
       "      <td>...</td>\n",
       "      <td>...</td>\n",
       "      <td>...</td>\n",
       "      <td>...</td>\n",
       "      <td>...</td>\n",
       "      <td>...</td>\n",
       "      <td>...</td>\n",
       "      <td>...</td>\n",
       "      <td>...</td>\n",
       "    </tr>\n",
       "    <tr>\n",
       "      <th>270</th>\n",
       "      <td>25395</td>\n",
       "      <td>ТКЗ</td>\n",
       "      <td>69</td>\n",
       "      <td>Тверская область</td>\n",
       "      <td>г Тверь, Михаила Румянцева, д. 42</td>\n",
       "      <td>Типовой</td>\n",
       "      <td>Кирпич</td>\n",
       "      <td>Без отделки</td>\n",
       "      <td>2022-12-31</td>\n",
       "      <td>0.938712</td>\n",
       "      <td>0</td>\n",
       "      <td>80</td>\n",
       "      <td>4416.21</td>\n",
       "      <td>10</td>\n",
       "      <td>55416.0</td>\n",
       "    </tr>\n",
       "    <tr>\n",
       "      <th>271</th>\n",
       "      <td>34611</td>\n",
       "      <td>УНИМАРКЕТ</td>\n",
       "      <td>40</td>\n",
       "      <td>Калужская область</td>\n",
       "      <td>г Калуга, улица Кутузова, д. 14 16</td>\n",
       "      <td>Комфорт</td>\n",
       "      <td>Кирпич</td>\n",
       "      <td>Без отделки</td>\n",
       "      <td>2023-03-31</td>\n",
       "      <td>0.890705</td>\n",
       "      <td>0</td>\n",
       "      <td>12</td>\n",
       "      <td>979.00</td>\n",
       "      <td>6</td>\n",
       "      <td>57912.0</td>\n",
       "    </tr>\n",
       "    <tr>\n",
       "      <th>272</th>\n",
       "      <td>42543</td>\n",
       "      <td>ФОНД ПОДДЕРЖКИ СТРОИТЕЛЬСТВА ДОСТУПНОГО ЖИЛЬЯ ...</td>\n",
       "      <td>40</td>\n",
       "      <td>Калужская область</td>\n",
       "      <td>п Воротынск, ул Сиреневый Бульвар, д. 8, строе...</td>\n",
       "      <td>Типовой</td>\n",
       "      <td>Другое</td>\n",
       "      <td>Без отделки</td>\n",
       "      <td>2022-12-31</td>\n",
       "      <td>0.072988</td>\n",
       "      <td>0</td>\n",
       "      <td>60</td>\n",
       "      <td>3148.20</td>\n",
       "      <td>6</td>\n",
       "      <td>32661.0</td>\n",
       "    </tr>\n",
       "    <tr>\n",
       "      <th>273</th>\n",
       "      <td>37772</td>\n",
       "      <td>ЦЕНТРСТРОЙ</td>\n",
       "      <td>69</td>\n",
       "      <td>Тверская область</td>\n",
       "      <td>г Тверь, ул Гончаровой, д. 34</td>\n",
       "      <td>Комфорт</td>\n",
       "      <td>Кирпич</td>\n",
       "      <td>Без отделки</td>\n",
       "      <td>2023-06-30</td>\n",
       "      <td>0.000000</td>\n",
       "      <td>0</td>\n",
       "      <td>0</td>\n",
       "      <td>0.00</td>\n",
       "      <td>1</td>\n",
       "      <td>NaN</td>\n",
       "    </tr>\n",
       "    <tr>\n",
       "      <th>274</th>\n",
       "      <td>45321</td>\n",
       "      <td>‹‹СЗ ‹‹СТРОЙ-НАДЕЖДА››</td>\n",
       "      <td>32</td>\n",
       "      <td>Брянская область</td>\n",
       "      <td>г Брянск, улица Молодой Гвардии, строение Поз.1</td>\n",
       "      <td>Типовой</td>\n",
       "      <td>Монолит-кирпич</td>\n",
       "      <td>Без отделки</td>\n",
       "      <td>2023-03-31</td>\n",
       "      <td>0.123780</td>\n",
       "      <td>0</td>\n",
       "      <td>90</td>\n",
       "      <td>5288.40</td>\n",
       "      <td>11</td>\n",
       "      <td>69594.0</td>\n",
       "    </tr>\n",
       "  </tbody>\n",
       "</table>\n",
       "<p>275 rows × 15 columns</p>\n",
       "</div>"
      ],
      "text/plain": [
       "     id дома                                         застройщик  \\\n",
       "0      40008                                           ГК ЖБИ-2   \n",
       "1      41000                                           ГК ЖБИ-2   \n",
       "2       5120                                          ЖИРАФ И К   \n",
       "3      48244                                          ЖК РЕЧНОЙ   \n",
       "4      40676                                   ИСК ФИНАНСИНВЕСТ   \n",
       "..       ...                                                ...   \n",
       "270    25395                                                ТКЗ   \n",
       "271    34611                                          УНИМАРКЕТ   \n",
       "272    42543  ФОНД ПОДДЕРЖКИ СТРОИТЕЛЬСТВА ДОСТУПНОГО ЖИЛЬЯ ...   \n",
       "273    37772                                         ЦЕНТРСТРОЙ   \n",
       "274    45321                             ‹‹СЗ ‹‹СТРОЙ-НАДЕЖДА››   \n",
       "\n",
       "     номер региона   название региона  \\\n",
       "0               69   Тверская область   \n",
       "1               69   Тверская область   \n",
       "2               69   Тверская область   \n",
       "3               32   Брянская область   \n",
       "4               69       Москва город   \n",
       "..             ...                ...   \n",
       "270             69   Тверская область   \n",
       "271             40  Калужская область   \n",
       "272             40  Калужская область   \n",
       "273             69   Тверская область   \n",
       "274             32   Брянская область   \n",
       "\n",
       "                                            адрес дома класс недвижимости  \\\n",
       "0              г Тверь, переулок 1-ый Вагонников, д. 6            Комфорт   \n",
       "1              г Тверь, переулок 1-ый Вагонников, д. 6            Комфорт   \n",
       "2             г Тверь, улица Терещенко, д. 6, корпус 4            Типовой   \n",
       "3                                             г Брянск            Комфорт   \n",
       "4                                              г Тверь            Типовой   \n",
       "..                                                 ...                ...   \n",
       "270                  г Тверь, Михаила Румянцева, д. 42            Типовой   \n",
       "271                 г Калуга, улица Кутузова, д. 14 16            Комфорт   \n",
       "272  п Воротынск, ул Сиреневый Бульвар, д. 8, строе...            Типовой   \n",
       "273                      г Тверь, ул Гончаровой, д. 34            Комфорт   \n",
       "274    г Брянск, улица Молодой Гвардии, строение Поз.1            Типовой   \n",
       "\n",
       "      материал стен           тип отделки ввод в эксплуатацию  \\\n",
       "0            Кирпич           Без отделки          2023-06-30   \n",
       "1            Кирпич           Без отделки          2023-06-30   \n",
       "2            Другое  По желанию заказчика          2022-12-31   \n",
       "3    Монолит-кирпич           Без отделки          2025-12-31   \n",
       "4    Монолит-кирпич           Без отделки          2023-09-30   \n",
       "..              ...                   ...                 ...   \n",
       "270          Кирпич           Без отделки          2022-12-31   \n",
       "271          Кирпич           Без отделки          2023-03-31   \n",
       "272          Другое           Без отделки          2022-12-31   \n",
       "273          Кирпич           Без отделки          2023-06-30   \n",
       "274  Монолит-кирпич           Без отделки          2023-03-31   \n",
       "\n",
       "     распроданность квартир  количество мест в паркинге  количество квартир  \\\n",
       "0                  1.000000                           0                  79   \n",
       "1                  0.020472                           0                  55   \n",
       "2                  1.000000                           0                  79   \n",
       "3                  0.000000                           0                 129   \n",
       "4                  0.722755                           0                 231   \n",
       "..                      ...                         ...                 ...   \n",
       "270                0.938712                           0                  80   \n",
       "271                0.890705                           0                  12   \n",
       "272                0.072988                           0                  60   \n",
       "273                0.000000                           0                   0   \n",
       "274                0.123780                           0                  90   \n",
       "\n",
       "     жилая площадь  количество этажей  средняя цена за 1 м²  \n",
       "0          4765.50                 11               38946.0  \n",
       "1          3111.50                  8               47400.0  \n",
       "2          4097.10                 16               41180.0  \n",
       "3          6737.99                 21                   NaN  \n",
       "4         14082.92                 23               69542.0  \n",
       "..             ...                ...                   ...  \n",
       "270        4416.21                 10               55416.0  \n",
       "271         979.00                  6               57912.0  \n",
       "272        3148.20                  6               32661.0  \n",
       "273           0.00                  1                   NaN  \n",
       "274        5288.40                 11               69594.0  \n",
       "\n",
       "[275 rows x 15 columns]"
      ]
     },
     "execution_count": 19,
     "metadata": {},
     "output_type": "execute_result"
    }
   ],
   "source": [
    "# выберем Смоленскую, Калужскую, Тверьскую и Брянскую области\n",
    "sktb = df3.loc[(df3['номер региона'] == 67) | (df3['номер региона'] == 40) | \n",
    "                (df3['номер региона'] == 69) | (df3['номер региона'] == 32)]\n",
    "sktb = sktb.reset_index()\n",
    "sktb = sktb.drop(['index'],axis=1)\n",
    "sktb"
   ]
  },
  {
   "cell_type": "code",
   "execution_count": 20,
   "metadata": {},
   "outputs": [
    {
     "name": "stdout",
     "output_type": "stream",
     "text": [
      "<class 'pandas.core.frame.DataFrame'>\n",
      "RangeIndex: 275 entries, 0 to 274\n",
      "Data columns (total 15 columns):\n",
      " #   Column                      Non-Null Count  Dtype         \n",
      "---  ------                      --------------  -----         \n",
      " 0   id дома                     275 non-null    int64         \n",
      " 1   застройщик                  275 non-null    object        \n",
      " 2   номер региона               275 non-null    int64         \n",
      " 3   название региона            275 non-null    object        \n",
      " 4   адрес дома                  275 non-null    object        \n",
      " 5   класс недвижимости          275 non-null    object        \n",
      " 6   материал стен               275 non-null    object        \n",
      " 7   тип отделки                 275 non-null    object        \n",
      " 8   ввод в эксплуатацию         275 non-null    datetime64[ns]\n",
      " 9   распроданность квартир      275 non-null    float64       \n",
      " 10  количество мест в паркинге  275 non-null    int64         \n",
      " 11  количество квартир          275 non-null    int64         \n",
      " 12  жилая площадь               275 non-null    float64       \n",
      " 13  количество этажей           275 non-null    int64         \n",
      " 14  средняя цена за 1 м²        196 non-null    float64       \n",
      "dtypes: datetime64[ns](1), float64(3), int64(5), object(6)\n",
      "memory usage: 32.4+ KB\n"
     ]
    }
   ],
   "source": [
    "sktb.info()"
   ]
  },
  {
   "cell_type": "code",
   "execution_count": 21,
   "metadata": {},
   "outputs": [
    {
     "data": {
      "text/plain": [
       "Text(0.5, 1.0, 'Пропущенные значения')"
      ]
     },
     "execution_count": 21,
     "metadata": {},
     "output_type": "execute_result"
    },
    {
     "data": {
      "image/png": "[encoded data removed]",
      "text/plain": [
       "<Figure size 432x288 with 1 Axes>"
      ]
     },
     "metadata": {
      "needs_background": "light"
     },
     "output_type": "display_data"
    }
   ],
   "source": [
    "# строим график пропущенных значений\n",
    "sns.heatmap(sktb.isnull(), cbar = False).set_title(\"Пропущенные значения\")"
   ]
  },
  {
   "cell_type": "code",
   "execution_count": 22,
   "metadata": {},
   "outputs": [
    {
     "data": {
      "text/plain": [
       "номер региона  название региона    \n",
       "32             Брянская область        59\n",
       "               Москва город             2\n",
       "40             Калужская область       41\n",
       "               Московская область      17\n",
       "               Смоленская область      10\n",
       "               Москва город             3\n",
       "               Брянская область         1\n",
       "67             Смоленская область      55\n",
       "               Московская область       2\n",
       "               Свердловская область     1\n",
       "69             Тверская область        71\n",
       "               Москва город             6\n",
       "               Московская область       5\n",
       "               Рязанская область        2\n",
       "dtype: int64"
      ]
     },
     "execution_count": 22,
     "metadata": {},
     "output_type": "execute_result"
    }
   ],
   "source": [
    "# нестыковка (неместные застройщики в сторонних регионах)\n",
    "sktb.groupby('номер региона')[['название региона']].value_counts()"
   ]
  },
  {
   "cell_type": "code",
   "execution_count": 23,
   "metadata": {},
   "outputs": [
    {
     "data": {
      "text/plain": [
       "69    84\n",
       "40    72\n",
       "32    61\n",
       "67    58\n",
       "Name: номер региона, dtype: int64"
      ]
     },
     "execution_count": 23,
     "metadata": {},
     "output_type": "execute_result"
    }
   ],
   "source": [
    "# количество строящихся домов по регионам\n",
    "g1 =sktb['номер региона'].value_counts()\n",
    "g1"
   ]
  },
  {
   "cell_type": "code",
   "execution_count": 24,
   "metadata": {},
   "outputs": [
    {
     "data": {
      "image/png": "[encoded data removed]",
      "text/plain": [
       "<Figure size 432x288 with 1 Axes>"
      ]
     },
     "metadata": {
      "needs_background": "light"
     },
     "output_type": "display_data"
    }
   ],
   "source": [
    "g1.plot(kind='bar')\n",
    "plt.xlabel('регион')\n",
    "plt.ylabel('количество домов')\n",
    "plt.title(\"Количество строящихся домов по регионам\")\n",
    "plt.show()"
   ]
  },
  {
   "cell_type": "code",
   "execution_count": 25,
   "metadata": {},
   "outputs": [
    {
     "data": {
      "text/html": [
       "<div>\n",
       "<style scoped>\n",
       "    .dataframe tbody tr th:only-of-type {\n",
       "        vertical-align: middle;\n",
       "    }\n",
       "\n",
       "    .dataframe tbody tr th {\n",
       "        vertical-align: top;\n",
       "    }\n",
       "\n",
       "    .dataframe thead th {\n",
       "        text-align: right;\n",
       "    }\n",
       "</style>\n",
       "<table border=\"1\" class=\"dataframe\">\n",
       "  <thead>\n",
       "    <tr style=\"text-align: right;\">\n",
       "      <th></th>\n",
       "      <th>min</th>\n",
       "      <th>max</th>\n",
       "      <th>mean</th>\n",
       "    </tr>\n",
       "    <tr>\n",
       "      <th>номер региона</th>\n",
       "      <th></th>\n",
       "      <th></th>\n",
       "      <th></th>\n",
       "    </tr>\n",
       "  </thead>\n",
       "  <tbody>\n",
       "    <tr>\n",
       "      <th>67</th>\n",
       "      <td>15337.0</td>\n",
       "      <td>83941.0</td>\n",
       "      <td>52489.180000</td>\n",
       "    </tr>\n",
       "    <tr>\n",
       "      <th>32</th>\n",
       "      <td>21851.0</td>\n",
       "      <td>89529.0</td>\n",
       "      <td>61777.355556</td>\n",
       "    </tr>\n",
       "    <tr>\n",
       "      <th>69</th>\n",
       "      <td>15592.0</td>\n",
       "      <td>118689.0</td>\n",
       "      <td>69211.734694</td>\n",
       "    </tr>\n",
       "    <tr>\n",
       "      <th>40</th>\n",
       "      <td>25897.0</td>\n",
       "      <td>174545.0</td>\n",
       "      <td>80812.346154</td>\n",
       "    </tr>\n",
       "  </tbody>\n",
       "</table>\n",
       "</div>"
      ],
      "text/plain": [
       "                   min       max          mean\n",
       "номер региона                                 \n",
       "67             15337.0   83941.0  52489.180000\n",
       "32             21851.0   89529.0  61777.355556\n",
       "69             15592.0  118689.0  69211.734694\n",
       "40             25897.0  174545.0  80812.346154"
      ]
     },
     "execution_count": 25,
     "metadata": {},
     "output_type": "execute_result"
    }
   ],
   "source": [
    "# Рассчитать средние цены за квадратный метр по регионам. Важно чтобы пропуски не учитывались при расчете средней цены.\n",
    "# Любые значения NaN автоматически пропускаются (не трогаем).\n",
    "g2 = sktb.groupby('номер региона')['средняя цена за 1 м²'].agg(['min', 'max', 'mean']).sort_values('mean')\n",
    "g2"
   ]
  },
  {
   "cell_type": "code",
   "execution_count": 26,
   "metadata": {},
   "outputs": [
    {
     "data": {
      "image/png": "[encoded data removed]",
      "text/plain": [
       "<Figure size 432x288 with 1 Axes>"
      ]
     },
     "metadata": {
      "needs_background": "light"
     },
     "output_type": "display_data"
    }
   ],
   "source": [
    "g2['mean'].plot(kind='barh', color='c')\n",
    "plt.show()"
   ]
  },
  {
   "cell_type": "code",
   "execution_count": 26,
   "metadata": {},
   "outputs": [],
   "source": [
    "# Вывод: самые дорогие квартиры в Калужской области, самые дешевые в Смоленской области"
   ]
  },
  {
   "cell_type": "code",
   "execution_count": 27,
   "metadata": {},
   "outputs": [
    {
     "data": {
      "text/html": [
       "<div>\n",
       "<style scoped>\n",
       "    .dataframe tbody tr th:only-of-type {\n",
       "        vertical-align: middle;\n",
       "    }\n",
       "\n",
       "    .dataframe tbody tr th {\n",
       "        vertical-align: top;\n",
       "    }\n",
       "\n",
       "    .dataframe thead th {\n",
       "        text-align: right;\n",
       "    }\n",
       "</style>\n",
       "<table border=\"1\" class=\"dataframe\">\n",
       "  <thead>\n",
       "    <tr style=\"text-align: right;\">\n",
       "      <th></th>\n",
       "      <th>жилая площадь</th>\n",
       "    </tr>\n",
       "    <tr>\n",
       "      <th>номер региона</th>\n",
       "      <th></th>\n",
       "    </tr>\n",
       "  </thead>\n",
       "  <tbody>\n",
       "    <tr>\n",
       "      <th>67</th>\n",
       "      <td>305306.54</td>\n",
       "    </tr>\n",
       "    <tr>\n",
       "      <th>32</th>\n",
       "      <td>479669.39</td>\n",
       "    </tr>\n",
       "    <tr>\n",
       "      <th>69</th>\n",
       "      <td>484099.73</td>\n",
       "    </tr>\n",
       "    <tr>\n",
       "      <th>40</th>\n",
       "      <td>489570.36</td>\n",
       "    </tr>\n",
       "  </tbody>\n",
       "</table>\n",
       "</div>"
      ],
      "text/plain": [
       "               жилая площадь\n",
       "номер региона               \n",
       "67                 305306.54\n",
       "32                 479669.39\n",
       "69                 484099.73\n",
       "40                 489570.36"
      ]
     },
     "execution_count": 27,
     "metadata": {},
     "output_type": "execute_result"
    }
   ],
   "source": [
    "# Рассчитать объемы вводимого жилья по регионам и по годам.\n",
    "g = (sktb.groupby(sktb['номер региона'])[['жилая площадь']].sum()).sort_values('жилая площадь')\n",
    "g"
   ]
  },
  {
   "cell_type": "code",
   "execution_count": 28,
   "metadata": {},
   "outputs": [
    {
     "data": {
      "image/png": "[encoded data removed]",
      "text/plain": [
       "<Figure size 720x432 with 4 Axes>"
      ]
     },
     "metadata": {
      "needs_background": "light"
     },
     "output_type": "display_data"
    }
   ],
   "source": [
    "# sktb['средняя цена за 1 м²'].fillna(0, inplace = True)\n",
    "fig, ax = plt.subplots(nrows=2,ncols=2)\n",
    "ax1, ax2, ax3, ax4 = ax.flatten()\n",
    "ax1.scatter(sktb.loc[sktb['номер региона'] == 67]['id дома'],sktb.loc[sktb['номер региона'] == 67]['жилая площадь'],color='r', marker=\"^\")\n",
    "ax2.scatter(sktb.loc[sktb['номер региона'] == 32]['id дома'],sktb.loc[sktb['номер региона'] == 32]['жилая площадь'],color='y', marker=\"*\")\n",
    "ax3.scatter(sktb.loc[sktb['номер региона'] == 40]['id дома'],sktb.loc[sktb['номер региона'] == 40]['жилая площадь'],color='g',marker=\"+\")\n",
    "ax4.scatter(sktb.loc[sktb['номер региона'] == 69]['id дома'],sktb.loc[sktb['номер региона'] == 69]['жилая площадь'])\n",
    "fig.set_size_inches(10,6)"
   ]
  },
  {
   "cell_type": "code",
   "execution_count": 29,
   "metadata": {},
   "outputs": [
    {
     "data": {
      "image/png": "[encoded data removed]",
      "text/plain": [
       "<Figure size 432x288 with 1 Axes>"
      ]
     },
     "metadata": {},
     "output_type": "display_data"
    }
   ],
   "source": [
    "v = g['жилая площадь']\n",
    "labels = g.index\n",
    "explode = [0, 0.1, 0, 0.2]\n",
    "plt.pie(v, labels=labels, explode=explode, autopct=\"%1.1f%%\")\n",
    "plt.title(\"Объемы вводимого жилья по регионам\")\n",
    "plt.show()"
   ]
  },
  {
   "cell_type": "code",
   "execution_count": 28,
   "metadata": {},
   "outputs": [],
   "source": [
    "# Вывод: больше всего строят жилой площади в Брянской области"
   ]
  },
  {
   "cell_type": "code",
   "execution_count": 30,
   "metadata": {},
   "outputs": [],
   "source": [
    "# посчитаем количество лет дома от сегодня до ввода в эксплуатацию ввод в эксплуатацию\n",
    "today = datetime.combine(date.today(), datetime.min.time()) # сегодня\n",
    "sktb['срок'] = sktb['ввод в эксплуатацию'].apply(lambda x: (x - today).days / 365)"
   ]
  },
  {
   "cell_type": "code",
   "execution_count": 31,
   "metadata": {},
   "outputs": [
    {
     "data": {
      "text/html": [
       "<div>\n",
       "<style scoped>\n",
       "    .dataframe tbody tr th:only-of-type {\n",
       "        vertical-align: middle;\n",
       "    }\n",
       "\n",
       "    .dataframe tbody tr th {\n",
       "        vertical-align: top;\n",
       "    }\n",
       "\n",
       "    .dataframe thead tr th {\n",
       "        text-align: left;\n",
       "    }\n",
       "\n",
       "    .dataframe thead tr:last-of-type th {\n",
       "        text-align: right;\n",
       "    }\n",
       "</style>\n",
       "<table border=\"1\" class=\"dataframe\">\n",
       "  <thead>\n",
       "    <tr>\n",
       "      <th></th>\n",
       "      <th colspan=\"2\" halign=\"left\">срок</th>\n",
       "    </tr>\n",
       "    <tr>\n",
       "      <th></th>\n",
       "      <th>count</th>\n",
       "      <th>mean</th>\n",
       "    </tr>\n",
       "    <tr>\n",
       "      <th>номер региона</th>\n",
       "      <th></th>\n",
       "      <th></th>\n",
       "    </tr>\n",
       "  </thead>\n",
       "  <tbody>\n",
       "    <tr>\n",
       "      <th>32</th>\n",
       "      <td>61</td>\n",
       "      <td>1.134786</td>\n",
       "    </tr>\n",
       "    <tr>\n",
       "      <th>40</th>\n",
       "      <td>72</td>\n",
       "      <td>0.749277</td>\n",
       "    </tr>\n",
       "    <tr>\n",
       "      <th>67</th>\n",
       "      <td>58</td>\n",
       "      <td>1.224988</td>\n",
       "    </tr>\n",
       "    <tr>\n",
       "      <th>69</th>\n",
       "      <td>84</td>\n",
       "      <td>0.946934</td>\n",
       "    </tr>\n",
       "  </tbody>\n",
       "</table>\n",
       "</div>"
      ],
      "text/plain": [
       "               срок          \n",
       "              count      mean\n",
       "номер региона                \n",
       "32               61  1.134786\n",
       "40               72  0.749277\n",
       "67               58  1.224988\n",
       "69               84  0.946934"
      ]
     },
     "execution_count": 31,
     "metadata": {},
     "output_type": "execute_result"
    }
   ],
   "source": [
    "# посчитаем средний срок до ввода домов в эксплуатацию по регионам\n",
    "today = datetime.combine(date.today(), datetime.min.time()) # сегодня\n",
    "g3 = sktb.groupby(['номер региона'])[['срок']].agg(['count', 'mean'])\n",
    "g3"
   ]
  },
  {
   "cell_type": "code",
   "execution_count": 31,
   "metadata": {},
   "outputs": [],
   "source": [
    "# Вывод: Быстрее всего строят в Калужской области"
   ]
  },
  {
   "cell_type": "code",
   "execution_count": 56,
   "metadata": {},
   "outputs": [
    {
     "data": {
      "application/vnd.plotly.v1+json": {
       "config": {
        "plotlyServerURL": "https://plot.ly"
       },
       "data": [
        {
         "alignmentgroup": "True",
         "hovertemplate": "x=%{x}<br>y=%{y}<extra></extra>",
         "legendgroup": "",
         "marker": {
          "color": "#636efa",
          "pattern": {
           "shape": ""
          }
         },
         "name": "",
         "offsetgroup": "",
         "orientation": "v",
         "showlegend": false,
         "textposition": "auto",
         "type": "bar",
         "x": [
          "32",
          "40",
          "67",
          "69"
         ],
         "xaxis": "x",
         "y": [
          1.1347855378396585,
          0.7492770167427701,
          1.224988190836089,
          0.9469341161121982
         ],
         "yaxis": "y"
        }
       ],
       "layout": {
        "barmode": "relative",
        "legend": {
         "tracegroupgap": 0
        },
        "margin": {
         "b": 0,
         "l": 0,
         "r": 0,
         "t": 30
        },
        "template": {
         "data": {
          "bar": [
           {
            "error_x": {
             "color": "#2a3f5f"
            },
            "error_y": {
             "color": "#2a3f5f"
            },
            "marker": {
             "line": {
              "color": "#E5ECF6",
              "width": 0.5
             },
             "pattern": {
              "fillmode": "overlay",
              "size": 10,
              "solidity": 0.2
             }
            },
            "type": "bar"
           }
          ],
          "barpolar": [
           {
            "marker": {
             "line": {
              "color": "#E5ECF6",
              "width": 0.5
             },
             "pattern": {
              "fillmode": "overlay",
              "size": 10,
              "solidity": 0.2
             }
            },
            "type": "barpolar"
           }
          ],
          "carpet": [
           {
            "aaxis": {
             "endlinecolor": "#2a3f5f",
             "gridcolor": "white",
             "linecolor": "white",
             "minorgridcolor": "white",
             "startlinecolor": "#2a3f5f"
            },
            "baxis": {
             "endlinecolor": "#2a3f5f",
             "gridcolor": "white",
             "linecolor": "white",
             "minorgridcolor": "white",
             "startlinecolor": "#2a3f5f"
            },
            "type": "carpet"
           }
          ],
          "choropleth": [
           {
            "colorbar": {
             "outlinewidth": 0,
             "ticks": ""
            },
            "type": "choropleth"
           }
          ],
          "contour": [
           {
            "colorbar": {
             "outlinewidth": 0,
             "ticks": ""
            },
            "colorscale": [
             [
              0,
              "#0d0887"
             ],
             [
              0.1111111111111111,
              "#46039f"
             ],
             [
              0.2222222222222222,
              "#7201a8"
             ],
             [
              0.3333333333333333,
              "#9c179e"
             ],
             [
              0.4444444444444444,
              "#bd3786"
             ],
             [
              0.5555555555555556,
              "#d8576b"
             ],
             [
              0.6666666666666666,
              "#ed7953"
             ],
             [
              0.7777777777777778,
              "#fb9f3a"
             ],
             [
              0.8888888888888888,
              "#fdca26"
             ],
             [
              1,
              "#f0f921"
             ]
            ],
            "type": "contour"
           }
          ],
          "contourcarpet": [
           {
            "colorbar": {
             "outlinewidth": 0,
             "ticks": ""
            },
            "type": "contourcarpet"
           }
          ],
          "heatmap": [
           {
            "colorbar": {
             "outlinewidth": 0,
             "ticks": ""
            },
            "colorscale": [
             [
              0,
              "#0d0887"
             ],
             [
              0.1111111111111111,
              "#46039f"
             ],
             [
              0.2222222222222222,
              "#7201a8"
             ],
             [
              0.3333333333333333,
              "#9c179e"
             ],
             [
              0.4444444444444444,
              "#bd3786"
             ],
             [
              0.5555555555555556,
              "#d8576b"
             ],
             [
              0.6666666666666666,
              "#ed7953"
             ],
             [
              0.7777777777777778,
              "#fb9f3a"
             ],
             [
              0.8888888888888888,
              "#fdca26"
             ],
             [
              1,
              "#f0f921"
             ]
            ],
            "type": "heatmap"
           }
          ],
          "heatmapgl": [
           {
            "colorbar": {
             "outlinewidth": 0,
             "ticks": ""
            },
            "colorscale": [
             [
              0,
              "#0d0887"
             ],
             [
              0.1111111111111111,
              "#46039f"
             ],
             [
              0.2222222222222222,
              "#7201a8"
             ],
             [
              0.3333333333333333,
              "#9c179e"
             ],
             [
              0.4444444444444444,
              "#bd3786"
             ],
             [
              0.5555555555555556,
              "#d8576b"
             ],
             [
              0.6666666666666666,
              "#ed7953"
             ],
             [
              0.7777777777777778,
              "#fb9f3a"
             ],
             [
              0.8888888888888888,
              "#fdca26"
             ],
             [
              1,
              "#f0f921"
             ]
            ],
            "type": "heatmapgl"
           }
          ],
          "histogram": [
           {
            "marker": {
             "pattern": {
              "fillmode": "overlay",
              "size": 10,
              "solidity": 0.2
             }
            },
            "type": "histogram"
           }
          ],
          "histogram2d": [
           {
            "colorbar": {
             "outlinewidth": 0,
             "ticks": ""
            },
            "colorscale": [
             [
              0,
              "#0d0887"
             ],
             [
              0.1111111111111111,
              "#46039f"
             ],
             [
              0.2222222222222222,
              "#7201a8"
             ],
             [
              0.3333333333333333,
              "#9c179e"
             ],
             [
              0.4444444444444444,
              "#bd3786"
             ],
             [
              0.5555555555555556,
              "#d8576b"
             ],
             [
              0.6666666666666666,
              "#ed7953"
             ],
             [
              0.7777777777777778,
              "#fb9f3a"
             ],
             [
              0.8888888888888888,
              "#fdca26"
             ],
             [
              1,
              "#f0f921"
             ]
            ],
            "type": "histogram2d"
           }
          ],
          "histogram2dcontour": [
           {
            "colorbar": {
             "outlinewidth": 0,
             "ticks": ""
            },
            "colorscale": [
             [
              0,
              "#0d0887"
             ],
             [
              0.1111111111111111,
              "#46039f"
             ],
             [
              0.2222222222222222,
              "#7201a8"
             ],
             [
              0.3333333333333333,
              "#9c179e"
             ],
             [
              0.4444444444444444,
              "#bd3786"
             ],
             [
              0.5555555555555556,
              "#d8576b"
             ],
             [
              0.6666666666666666,
              "#ed7953"
             ],
             [
              0.7777777777777778,
              "#fb9f3a"
             ],
             [
              0.8888888888888888,
              "#fdca26"
             ],
             [
              1,
              "#f0f921"
             ]
            ],
            "type": "histogram2dcontour"
           }
          ],
          "mesh3d": [
           {
            "colorbar": {
             "outlinewidth": 0,
             "ticks": ""
            },
            "type": "mesh3d"
           }
          ],
          "parcoords": [
           {
            "line": {
             "colorbar": {
              "outlinewidth": 0,
              "ticks": ""
             }
            },
            "type": "parcoords"
           }
          ],
          "pie": [
           {
            "automargin": true,
            "type": "pie"
           }
          ],
          "scatter": [
           {
            "marker": {
             "colorbar": {
              "outlinewidth": 0,
              "ticks": ""
             }
            },
            "type": "scatter"
           }
          ],
          "scatter3d": [
           {
            "line": {
             "colorbar": {
              "outlinewidth": 0,
              "ticks": ""
             }
            },
            "marker": {
             "colorbar": {
              "outlinewidth": 0,
              "ticks": ""
             }
            },
            "type": "scatter3d"
           }
          ],
          "scattercarpet": [
           {
            "marker": {
             "colorbar": {
              "outlinewidth": 0,
              "ticks": ""
             }
            },
            "type": "scattercarpet"
           }
          ],
          "scattergeo": [
           {
            "marker": {
             "colorbar": {
              "outlinewidth": 0,
              "ticks": ""
             }
            },
            "type": "scattergeo"
           }
          ],
          "scattergl": [
           {
            "marker": {
             "colorbar": {
              "outlinewidth": 0,
              "ticks": ""
             }
            },
            "type": "scattergl"
           }
          ],
          "scattermapbox": [
           {
            "marker": {
             "colorbar": {
              "outlinewidth": 0,
              "ticks": ""
             }
            },
            "type": "scattermapbox"
           }
          ],
          "scatterpolar": [
           {
            "marker": {
             "colorbar": {
              "outlinewidth": 0,
              "ticks": ""
             }
            },
            "type": "scatterpolar"
           }
          ],
          "scatterpolargl": [
           {
            "marker": {
             "colorbar": {
              "outlinewidth": 0,
              "ticks": ""
             }
            },
            "type": "scatterpolargl"
           }
          ],
          "scatterternary": [
           {
            "marker": {
             "colorbar": {
              "outlinewidth": 0,
              "ticks": ""
             }
            },
            "type": "scatterternary"
           }
          ],
          "surface": [
           {
            "colorbar": {
             "outlinewidth": 0,
             "ticks": ""
            },
            "colorscale": [
             [
              0,
              "#0d0887"
             ],
             [
              0.1111111111111111,
              "#46039f"
             ],
             [
              0.2222222222222222,
              "#7201a8"
             ],
             [
              0.3333333333333333,
              "#9c179e"
             ],
             [
              0.4444444444444444,
              "#bd3786"
             ],
             [
              0.5555555555555556,
              "#d8576b"
             ],
             [
              0.6666666666666666,
              "#ed7953"
             ],
             [
              0.7777777777777778,
              "#fb9f3a"
             ],
             [
              0.8888888888888888,
              "#fdca26"
             ],
             [
              1,
              "#f0f921"
             ]
            ],
            "type": "surface"
           }
          ],
          "table": [
           {
            "cells": {
             "fill": {
              "color": "#EBF0F8"
             },
             "line": {
              "color": "white"
             }
            },
            "header": {
             "fill": {
              "color": "#C8D4E3"
             },
             "line": {
              "color": "white"
             }
            },
            "type": "table"
           }
          ]
         },
         "layout": {
          "annotationdefaults": {
           "arrowcolor": "#2a3f5f",
           "arrowhead": 0,
           "arrowwidth": 1
          },
          "autotypenumbers": "strict",
          "coloraxis": {
           "colorbar": {
            "outlinewidth": 0,
            "ticks": ""
           }
          },
          "colorscale": {
           "diverging": [
            [
             0,
             "#8e0152"
            ],
            [
             0.1,
             "#c51b7d"
            ],
            [
             0.2,
             "#de77ae"
            ],
            [
             0.3,
             "#f1b6da"
            ],
            [
             0.4,
             "#fde0ef"
            ],
            [
             0.5,
             "#f7f7f7"
            ],
            [
             0.6,
             "#e6f5d0"
            ],
            [
             0.7,
             "#b8e186"
            ],
            [
             0.8,
             "#7fbc41"
            ],
            [
             0.9,
             "#4d9221"
            ],
            [
             1,
             "#276419"
            ]
           ],
           "sequential": [
            [
             0,
             "#0d0887"
            ],
            [
             0.1111111111111111,
             "#46039f"
            ],
            [
             0.2222222222222222,
             "#7201a8"
            ],
            [
             0.3333333333333333,
             "#9c179e"
            ],
            [
             0.4444444444444444,
             "#bd3786"
            ],
            [
             0.5555555555555556,
             "#d8576b"
            ],
            [
             0.6666666666666666,
             "#ed7953"
            ],
            [
             0.7777777777777778,
             "#fb9f3a"
            ],
            [
             0.8888888888888888,
             "#fdca26"
            ],
            [
             1,
             "#f0f921"
            ]
           ],
           "sequentialminus": [
            [
             0,
             "#0d0887"
            ],
            [
             0.1111111111111111,
             "#46039f"
            ],
            [
             0.2222222222222222,
             "#7201a8"
            ],
            [
             0.3333333333333333,
             "#9c179e"
            ],
            [
             0.4444444444444444,
             "#bd3786"
            ],
            [
             0.5555555555555556,
             "#d8576b"
            ],
            [
             0.6666666666666666,
             "#ed7953"
            ],
            [
             0.7777777777777778,
             "#fb9f3a"
            ],
            [
             0.8888888888888888,
             "#fdca26"
            ],
            [
             1,
             "#f0f921"
            ]
           ]
          },
          "colorway": [
           "#636efa",
           "#EF553B",
           "#00cc96",
           "#ab63fa",
           "#FFA15A",
           "#19d3f3",
           "#FF6692",
           "#B6E880",
           "#FF97FF",
           "#FECB52"
          ],
          "font": {
           "color": "#2a3f5f"
          },
          "geo": {
           "bgcolor": "white",
           "lakecolor": "white",
           "landcolor": "#E5ECF6",
           "showlakes": true,
           "showland": true,
           "subunitcolor": "white"
          },
          "hoverlabel": {
           "align": "left"
          },
          "hovermode": "closest",
          "mapbox": {
           "style": "light"
          },
          "paper_bgcolor": "white",
          "plot_bgcolor": "#E5ECF6",
          "polar": {
           "angularaxis": {
            "gridcolor": "white",
            "linecolor": "white",
            "ticks": ""
           },
           "bgcolor": "#E5ECF6",
           "radialaxis": {
            "gridcolor": "white",
            "linecolor": "white",
            "ticks": ""
           }
          },
          "scene": {
           "xaxis": {
            "backgroundcolor": "#E5ECF6",
            "gridcolor": "white",
            "gridwidth": 2,
            "linecolor": "white",
            "showbackground": true,
            "ticks": "",
            "zerolinecolor": "white"
           },
           "yaxis": {
            "backgroundcolor": "#E5ECF6",
            "gridcolor": "white",
            "gridwidth": 2,
            "linecolor": "white",
            "showbackground": true,
            "ticks": "",
            "zerolinecolor": "white"
           },
           "zaxis": {
            "backgroundcolor": "#E5ECF6",
            "gridcolor": "white",
            "gridwidth": 2,
            "linecolor": "white",
            "showbackground": true,
            "ticks": "",
            "zerolinecolor": "white"
           }
          },
          "shapedefaults": {
           "line": {
            "color": "#2a3f5f"
           }
          },
          "ternary": {
           "aaxis": {
            "gridcolor": "white",
            "linecolor": "white",
            "ticks": ""
           },
           "baxis": {
            "gridcolor": "white",
            "linecolor": "white",
            "ticks": ""
           },
           "bgcolor": "#E5ECF6",
           "caxis": {
            "gridcolor": "white",
            "linecolor": "white",
            "ticks": ""
           }
          },
          "title": {
           "x": 0.05
          },
          "xaxis": {
           "automargin": true,
           "gridcolor": "white",
           "linecolor": "white",
           "ticks": "",
           "title": {
            "standoff": 15
           },
           "zerolinecolor": "white",
           "zerolinewidth": 2
          },
          "yaxis": {
           "automargin": true,
           "gridcolor": "white",
           "linecolor": "white",
           "ticks": "",
           "title": {
            "standoff": 15
           },
           "zerolinecolor": "white",
           "zerolinewidth": 2
          }
         }
        },
        "title": {
         "text": "Средний срок до ввода домов в эксплуатацию по регионам"
        },
        "xaxis": {
         "anchor": "y",
         "domain": [
          0,
          1
         ],
         "title": {
          "text": "Регион"
         }
        },
        "yaxis": {
         "anchor": "x",
         "domain": [
          0,
          1
         ],
         "title": {
          "text": "Средний срок"
         }
        }
       }
      },
      "text/html": [
       "<div>                            <div id=\"6ae6e807-c06f-4fb6-9ea5-607daa7811bc\" class=\"plotly-graph-div\" style=\"height:525px; width:100%;\"></div>            <script type=\"text/javascript\">                require([\"plotly\"], function(Plotly) {                    window.PLOTLYENV=window.PLOTLYENV || {};                                    if (document.getElementById(\"6ae6e807-c06f-4fb6-9ea5-607daa7811bc\")) {                    Plotly.newPlot(                        \"6ae6e807-c06f-4fb6-9ea5-607daa7811bc\",                        [{\"alignmentgroup\":\"True\",\"hovertemplate\":\"x=%{x}<br>y=%{y}<extra></extra>\",\"legendgroup\":\"\",\"marker\":{\"color\":\"#636efa\",\"pattern\":{\"shape\":\"\"}},\"name\":\"\",\"offsetgroup\":\"\",\"orientation\":\"v\",\"showlegend\":false,\"textposition\":\"auto\",\"x\":[\"32\",\"40\",\"67\",\"69\"],\"xaxis\":\"x\",\"y\":[1.1347855378396585,0.7492770167427701,1.224988190836089,0.9469341161121982],\"yaxis\":\"y\",\"type\":\"bar\"}],                        {\"template\":{\"data\":{\"bar\":[{\"error_x\":{\"color\":\"#2a3f5f\"},\"error_y\":{\"color\":\"#2a3f5f\"},\"marker\":{\"line\":{\"color\":\"#E5ECF6\",\"width\":0.5},\"pattern\":{\"fillmode\":\"overlay\",\"size\":10,\"solidity\":0.2}},\"type\":\"bar\"}],\"barpolar\":[{\"marker\":{\"line\":{\"color\":\"#E5ECF6\",\"width\":0.5},\"pattern\":{\"fillmode\":\"overlay\",\"size\":10,\"solidity\":0.2}},\"type\":\"barpolar\"}],\"carpet\":[{\"aaxis\":{\"endlinecolor\":\"#2a3f5f\",\"gridcolor\":\"white\",\"linecolor\":\"white\",\"minorgridcolor\":\"white\",\"startlinecolor\":\"#2a3f5f\"},\"baxis\":{\"endlinecolor\":\"#2a3f5f\",\"gridcolor\":\"white\",\"linecolor\":\"white\",\"minorgridcolor\":\"white\",\"startlinecolor\":\"#2a3f5f\"},\"type\":\"carpet\"}],\"choropleth\":[{\"colorbar\":{\"outlinewidth\":0,\"ticks\":\"\"},\"type\":\"choropleth\"}],\"contour\":[{\"colorbar\":{\"outlinewidth\":0,\"ticks\":\"\"},\"colorscale\":[[0.0,\"#0d0887\"],[0.1111111111111111,\"#46039f\"],[0.2222222222222222,\"#7201a8\"],[0.3333333333333333,\"#9c179e\"],[0.4444444444444444,\"#bd3786\"],[0.5555555555555556,\"#d8576b\"],[0.6666666666666666,\"#ed7953\"],[0.7777777777777778,\"#fb9f3a\"],[0.8888888888888888,\"#fdca26\"],[1.0,\"#f0f921\"]],\"type\":\"contour\"}],\"contourcarpet\":[{\"colorbar\":{\"outlinewidth\":0,\"ticks\":\"\"},\"type\":\"contourcarpet\"}],\"heatmap\":[{\"colorbar\":{\"outlinewidth\":0,\"ticks\":\"\"},\"colorscale\":[[0.0,\"#0d0887\"],[0.1111111111111111,\"#46039f\"],[0.2222222222222222,\"#7201a8\"],[0.3333333333333333,\"#9c179e\"],[0.4444444444444444,\"#bd3786\"],[0.5555555555555556,\"#d8576b\"],[0.6666666666666666,\"#ed7953\"],[0.7777777777777778,\"#fb9f3a\"],[0.8888888888888888,\"#fdca26\"],[1.0,\"#f0f921\"]],\"type\":\"heatmap\"}],\"heatmapgl\":[{\"colorbar\":{\"outlinewidth\":0,\"ticks\":\"\"},\"colorscale\":[[0.0,\"#0d0887\"],[0.1111111111111111,\"#46039f\"],[0.2222222222222222,\"#7201a8\"],[0.3333333333333333,\"#9c179e\"],[0.4444444444444444,\"#bd3786\"],[0.5555555555555556,\"#d8576b\"],[0.6666666666666666,\"#ed7953\"],[0.7777777777777778,\"#fb9f3a\"],[0.8888888888888888,\"#fdca26\"],[1.0,\"#f0f921\"]],\"type\":\"heatmapgl\"}],\"histogram\":[{\"marker\":{\"pattern\":{\"fillmode\":\"overlay\",\"size\":10,\"solidity\":0.2}},\"type\":\"histogram\"}],\"histogram2d\":[{\"colorbar\":{\"outlinewidth\":0,\"ticks\":\"\"},\"colorscale\":[[0.0,\"#0d0887\"],[0.1111111111111111,\"#46039f\"],[0.2222222222222222,\"#7201a8\"],[0.3333333333333333,\"#9c179e\"],[0.4444444444444444,\"#bd3786\"],[0.5555555555555556,\"#d8576b\"],[0.6666666666666666,\"#ed7953\"],[0.7777777777777778,\"#fb9f3a\"],[0.8888888888888888,\"#fdca26\"],[1.0,\"#f0f921\"]],\"type\":\"histogram2d\"}],\"histogram2dcontour\":[{\"colorbar\":{\"outlinewidth\":0,\"ticks\":\"\"},\"colorscale\":[[0.0,\"#0d0887\"],[0.1111111111111111,\"#46039f\"],[0.2222222222222222,\"#7201a8\"],[0.3333333333333333,\"#9c179e\"],[0.4444444444444444,\"#bd3786\"],[0.5555555555555556,\"#d8576b\"],[0.6666666666666666,\"#ed7953\"],[0.7777777777777778,\"#fb9f3a\"],[0.8888888888888888,\"#fdca26\"],[1.0,\"#f0f921\"]],\"type\":\"histogram2dcontour\"}],\"mesh3d\":[{\"colorbar\":{\"outlinewidth\":0,\"ticks\":\"\"},\"type\":\"mesh3d\"}],\"parcoords\":[{\"line\":{\"colorbar\":{\"outlinewidth\":0,\"ticks\":\"\"}},\"type\":\"parcoords\"}],\"pie\":[{\"automargin\":true,\"type\":\"pie\"}],\"scatter\":[{\"marker\":{\"colorbar\":{\"outlinewidth\":0,\"ticks\":\"\"}},\"type\":\"scatter\"}],\"scatter3d\":[{\"line\":{\"colorbar\":{\"outlinewidth\":0,\"ticks\":\"\"}},\"marker\":{\"colorbar\":{\"outlinewidth\":0,\"ticks\":\"\"}},\"type\":\"scatter3d\"}],\"scattercarpet\":[{\"marker\":{\"colorbar\":{\"outlinewidth\":0,\"ticks\":\"\"}},\"type\":\"scattercarpet\"}],\"scattergeo\":[{\"marker\":{\"colorbar\":{\"outlinewidth\":0,\"ticks\":\"\"}},\"type\":\"scattergeo\"}],\"scattergl\":[{\"marker\":{\"colorbar\":{\"outlinewidth\":0,\"ticks\":\"\"}},\"type\":\"scattergl\"}],\"scattermapbox\":[{\"marker\":{\"colorbar\":{\"outlinewidth\":0,\"ticks\":\"\"}},\"type\":\"scattermapbox\"}],\"scatterpolar\":[{\"marker\":{\"colorbar\":{\"outlinewidth\":0,\"ticks\":\"\"}},\"type\":\"scatterpolar\"}],\"scatterpolargl\":[{\"marker\":{\"colorbar\":{\"outlinewidth\":0,\"ticks\":\"\"}},\"type\":\"scatterpolargl\"}],\"scatterternary\":[{\"marker\":{\"colorbar\":{\"outlinewidth\":0,\"ticks\":\"\"}},\"type\":\"scatterternary\"}],\"surface\":[{\"colorbar\":{\"outlinewidth\":0,\"ticks\":\"\"},\"colorscale\":[[0.0,\"#0d0887\"],[0.1111111111111111,\"#46039f\"],[0.2222222222222222,\"#7201a8\"],[0.3333333333333333,\"#9c179e\"],[0.4444444444444444,\"#bd3786\"],[0.5555555555555556,\"#d8576b\"],[0.6666666666666666,\"#ed7953\"],[0.7777777777777778,\"#fb9f3a\"],[0.8888888888888888,\"#fdca26\"],[1.0,\"#f0f921\"]],\"type\":\"surface\"}],\"table\":[{\"cells\":{\"fill\":{\"color\":\"#EBF0F8\"},\"line\":{\"color\":\"white\"}},\"header\":{\"fill\":{\"color\":\"#C8D4E3\"},\"line\":{\"color\":\"white\"}},\"type\":\"table\"}]},\"layout\":{\"annotationdefaults\":{\"arrowcolor\":\"#2a3f5f\",\"arrowhead\":0,\"arrowwidth\":1},\"autotypenumbers\":\"strict\",\"coloraxis\":{\"colorbar\":{\"outlinewidth\":0,\"ticks\":\"\"}},\"colorscale\":{\"diverging\":[[0,\"#8e0152\"],[0.1,\"#c51b7d\"],[0.2,\"#de77ae\"],[0.3,\"#f1b6da\"],[0.4,\"#fde0ef\"],[0.5,\"#f7f7f7\"],[0.6,\"#e6f5d0\"],[0.7,\"#b8e186\"],[0.8,\"#7fbc41\"],[0.9,\"#4d9221\"],[1,\"#276419\"]],\"sequential\":[[0.0,\"#0d0887\"],[0.1111111111111111,\"#46039f\"],[0.2222222222222222,\"#7201a8\"],[0.3333333333333333,\"#9c179e\"],[0.4444444444444444,\"#bd3786\"],[0.5555555555555556,\"#d8576b\"],[0.6666666666666666,\"#ed7953\"],[0.7777777777777778,\"#fb9f3a\"],[0.8888888888888888,\"#fdca26\"],[1.0,\"#f0f921\"]],\"sequentialminus\":[[0.0,\"#0d0887\"],[0.1111111111111111,\"#46039f\"],[0.2222222222222222,\"#7201a8\"],[0.3333333333333333,\"#9c179e\"],[0.4444444444444444,\"#bd3786\"],[0.5555555555555556,\"#d8576b\"],[0.6666666666666666,\"#ed7953\"],[0.7777777777777778,\"#fb9f3a\"],[0.8888888888888888,\"#fdca26\"],[1.0,\"#f0f921\"]]},\"colorway\":[\"#636efa\",\"#EF553B\",\"#00cc96\",\"#ab63fa\",\"#FFA15A\",\"#19d3f3\",\"#FF6692\",\"#B6E880\",\"#FF97FF\",\"#FECB52\"],\"font\":{\"color\":\"#2a3f5f\"},\"geo\":{\"bgcolor\":\"white\",\"lakecolor\":\"white\",\"landcolor\":\"#E5ECF6\",\"showlakes\":true,\"showland\":true,\"subunitcolor\":\"white\"},\"hoverlabel\":{\"align\":\"left\"},\"hovermode\":\"closest\",\"mapbox\":{\"style\":\"light\"},\"paper_bgcolor\":\"white\",\"plot_bgcolor\":\"#E5ECF6\",\"polar\":{\"angularaxis\":{\"gridcolor\":\"white\",\"linecolor\":\"white\",\"ticks\":\"\"},\"bgcolor\":\"#E5ECF6\",\"radialaxis\":{\"gridcolor\":\"white\",\"linecolor\":\"white\",\"ticks\":\"\"}},\"scene\":{\"xaxis\":{\"backgroundcolor\":\"#E5ECF6\",\"gridcolor\":\"white\",\"gridwidth\":2,\"linecolor\":\"white\",\"showbackground\":true,\"ticks\":\"\",\"zerolinecolor\":\"white\"},\"yaxis\":{\"backgroundcolor\":\"#E5ECF6\",\"gridcolor\":\"white\",\"gridwidth\":2,\"linecolor\":\"white\",\"showbackground\":true,\"ticks\":\"\",\"zerolinecolor\":\"white\"},\"zaxis\":{\"backgroundcolor\":\"#E5ECF6\",\"gridcolor\":\"white\",\"gridwidth\":2,\"linecolor\":\"white\",\"showbackground\":true,\"ticks\":\"\",\"zerolinecolor\":\"white\"}},\"shapedefaults\":{\"line\":{\"color\":\"#2a3f5f\"}},\"ternary\":{\"aaxis\":{\"gridcolor\":\"white\",\"linecolor\":\"white\",\"ticks\":\"\"},\"baxis\":{\"gridcolor\":\"white\",\"linecolor\":\"white\",\"ticks\":\"\"},\"bgcolor\":\"#E5ECF6\",\"caxis\":{\"gridcolor\":\"white\",\"linecolor\":\"white\",\"ticks\":\"\"}},\"title\":{\"x\":0.05},\"xaxis\":{\"automargin\":true,\"gridcolor\":\"white\",\"linecolor\":\"white\",\"ticks\":\"\",\"title\":{\"standoff\":15},\"zerolinecolor\":\"white\",\"zerolinewidth\":2},\"yaxis\":{\"automargin\":true,\"gridcolor\":\"white\",\"linecolor\":\"white\",\"ticks\":\"\",\"title\":{\"standoff\":15},\"zerolinecolor\":\"white\",\"zerolinewidth\":2}}},\"xaxis\":{\"anchor\":\"y\",\"domain\":[0.0,1.0],\"title\":{\"text\":\"\\u0420\\u0435\\u0433\\u0438\\u043e\\u043d\"}},\"yaxis\":{\"anchor\":\"x\",\"domain\":[0.0,1.0],\"title\":{\"text\":\"\\u0421\\u0440\\u0435\\u0434\\u043d\\u0438\\u0439 \\u0441\\u0440\\u043e\\u043a\"}},\"legend\":{\"tracegroupgap\":0},\"margin\":{\"t\":30,\"l\":0,\"r\":0,\"b\":0},\"barmode\":\"relative\",\"title\":{\"text\":\"\\u0421\\u0440\\u0435\\u0434\\u043d\\u0438\\u0439 \\u0441\\u0440\\u043e\\u043a \\u0434\\u043e \\u0432\\u0432\\u043e\\u0434\\u0430 \\u0434\\u043e\\u043c\\u043e\\u0432 \\u0432 \\u044d\\u043a\\u0441\\u043f\\u043b\\u0443\\u0430\\u0442\\u0430\\u0446\\u0438\\u044e \\u043f\\u043e \\u0440\\u0435\\u0433\\u0438\\u043e\\u043d\\u0430\\u043c\"}},                        {\"responsive\": true}                    ).then(function(){\n",
       "                            \n",
       "var gd = document.getElementById('6ae6e807-c06f-4fb6-9ea5-607daa7811bc');\n",
       "var x = new MutationObserver(function (mutations, observer) {{\n",
       "        var display = window.getComputedStyle(gd).display;\n",
       "        if (!display || display === 'none') {{\n",
       "            console.log([gd, 'removed!']);\n",
       "            Plotly.purge(gd);\n",
       "            observer.disconnect();\n",
       "        }}\n",
       "}});\n",
       "\n",
       "// Listen for the removal of the full notebook cells\n",
       "var notebookContainer = gd.closest('#notebook-container');\n",
       "if (notebookContainer) {{\n",
       "    x.observe(notebookContainer, {childList: true});\n",
       "}}\n",
       "\n",
       "// Listen for the clearing of the current output cell\n",
       "var outputEl = gd.closest('.output');\n",
       "if (outputEl) {{\n",
       "    x.observe(outputEl, {childList: true});\n",
       "}}\n",
       "\n",
       "                        })                };                });            </script>        </div>"
      ]
     },
     "metadata": {},
     "output_type": "display_data"
    }
   ],
   "source": [
    "fig = px.bar(x=g3.index.astype(str), y=g3['срок']['mean'])\n",
    "fig.update_layout(title=\"Средний срок до ввода домов в эксплуатацию по регионам\",\n",
    "                  xaxis_title=\"Регион\",\n",
    "                  yaxis_title=\"Средний срок\",\n",
    "                  margin=dict(l=0, r=0, t=30, b=0))\n",
    "fig.show()"
   ]
  },
  {
   "cell_type": "code",
   "execution_count": 43,
   "metadata": {},
   "outputs": [
    {
     "data": {
      "application/vnd.plotly.v1+json": {
       "config": {
        "plotlyServerURL": "https://plot.ly"
       },
       "data": [
        {
         "hovertemplate": "x=%{x}<br>y=%{y}<extra></extra>",
         "legendgroup": "",
         "marker": {
          "color": "#636efa",
          "symbol": "circle"
         },
         "mode": "markers",
         "name": "",
         "orientation": "h",
         "showlegend": false,
         "type": "scatter",
         "x": [
          40008,
          41000,
          5120,
          48244,
          40676,
          46140,
          46139,
          38360,
          41658,
          43811,
          26158,
          27945,
          27946,
          7043,
          7045,
          47074,
          47057,
          41012,
          46950,
          36673,
          46388,
          44458,
          35070,
          35069,
          35073,
          35072,
          35071,
          43825,
          27528,
          13136,
          34507,
          34506,
          45803,
          46593,
          46567,
          41689,
          42728,
          47418,
          46602,
          48279,
          39288,
          27484,
          30516,
          30481,
          48078,
          47129,
          45374,
          45372,
          45371,
          45370,
          45375,
          44668,
          44883,
          42763,
          42095,
          45310,
          48902,
          46975,
          30905,
          30906,
          30904,
          30907,
          39520,
          43764,
          37796,
          45916,
          31582,
          40327,
          38668,
          48801,
          44855,
          42504,
          48612,
          44967,
          48611,
          46995,
          39632,
          26287,
          46376,
          46484,
          45457,
          48425,
          33280,
          33281,
          33279,
          33278,
          47627,
          47679,
          41060,
          43778,
          44365,
          42264,
          41998,
          21241,
          21242,
          21240,
          31337,
          49335,
          49028,
          49029,
          49027,
          47537,
          48070,
          49209,
          46621,
          40082,
          45079,
          45422,
          48275,
          48081,
          38721,
          44135,
          44134,
          48414,
          38720,
          48079,
          44131,
          38722,
          45547,
          45539,
          45545,
          45538,
          45534,
          45537,
          45548,
          45536,
          45543,
          45535,
          45542,
          45544,
          45541,
          45540,
          45546,
          48982,
          46759,
          39058,
          45362,
          44484,
          48878,
          44036,
          47520,
          38480,
          45243,
          27397,
          42284,
          42583,
          43872,
          44640,
          41279,
          41280,
          46682,
          41278,
          48277,
          26401,
          44912,
          43420,
          42656,
          44908,
          42655,
          43421,
          41260,
          37597,
          40929,
          45935,
          44962,
          44906,
          44845,
          44087,
          47857,
          47858,
          41732,
          49115,
          46672,
          47805,
          47806,
          44889,
          42349,
          40720,
          48014,
          38554,
          48783,
          23073,
          45361,
          39290,
          47138,
          38965,
          48127,
          45601,
          41530,
          41531,
          42410,
          48459,
          44399,
          44397,
          44396,
          44398,
          44395,
          41173,
          46530,
          48240,
          48241,
          48238,
          45907,
          39011,
          43777,
          41715,
          42338,
          42340,
          42337,
          42336,
          42339,
          48252,
          48349,
          48248,
          45412,
          45170,
          47425,
          47426,
          45168,
          46270,
          17910,
          46205,
          42648,
          44015,
          39325,
          40009,
          45415,
          48145,
          48139,
          48140,
          43966,
          43839,
          42413,
          41320,
          47729,
          46914,
          46836,
          41924,
          42386,
          42387,
          41657,
          42345,
          38962,
          43885,
          43884,
          40210,
          43781,
          40211,
          49037,
          36711,
          42051,
          47881,
          47880,
          47879,
          48903,
          29873,
          30933,
          30935,
          34895,
          34894,
          33862,
          33861,
          33866,
          33863,
          33865,
          35325,
          35326,
          35322,
          15317,
          14294,
          25395,
          34611,
          42543,
          37772,
          45321
         ],
         "xaxis": "x",
         "y": [
          "2023-06-30T00:00:00",
          "2023-06-30T00:00:00",
          "2022-12-31T00:00:00",
          "2025-12-31T00:00:00",
          "2023-09-30T00:00:00",
          "2024-12-31T00:00:00",
          "2024-03-31T00:00:00",
          "2024-12-31T00:00:00",
          "2023-12-31T00:00:00",
          "2023-09-30T00:00:00",
          "2023-03-31T00:00:00",
          "2022-12-31T00:00:00",
          "2022-12-31T00:00:00",
          "2023-06-30T00:00:00",
          "2023-06-30T00:00:00",
          "2022-12-31T00:00:00",
          "2022-12-31T00:00:00",
          "2023-03-31T00:00:00",
          "2024-03-31T00:00:00",
          "2022-12-31T00:00:00",
          "2024-06-30T00:00:00",
          "2023-12-31T00:00:00",
          "2022-12-31T00:00:00",
          "2022-12-31T00:00:00",
          "2022-12-31T00:00:00",
          "2022-12-31T00:00:00",
          "2022-12-31T00:00:00",
          "2023-12-31T00:00:00",
          "2023-12-31T00:00:00",
          "2023-03-31T00:00:00",
          "2022-12-31T00:00:00",
          "2022-12-31T00:00:00",
          "2024-06-30T00:00:00",
          "2025-03-31T00:00:00",
          "2024-03-31T00:00:00",
          "2023-03-31T00:00:00",
          "2024-12-31T00:00:00",
          "2025-09-30T00:00:00",
          "2025-09-30T00:00:00",
          "2025-03-31T00:00:00",
          "2023-09-30T00:00:00",
          "2022-12-31T00:00:00",
          "2023-06-30T00:00:00",
          "2024-12-31T00:00:00",
          "2023-12-31T00:00:00",
          "2022-12-31T00:00:00",
          "2023-09-30T00:00:00",
          "2023-09-30T00:00:00",
          "2023-09-30T00:00:00",
          "2023-09-30T00:00:00",
          "2023-09-30T00:00:00",
          "2023-09-30T00:00:00",
          "2024-06-30T00:00:00",
          "2023-12-31T00:00:00",
          "2022-12-31T00:00:00",
          "2022-12-31T00:00:00",
          "2024-09-30T00:00:00",
          "2023-09-30T00:00:00",
          "2024-09-30T00:00:00",
          "2025-09-30T00:00:00",
          "2023-06-30T00:00:00",
          "2026-09-30T00:00:00",
          "2025-03-31T00:00:00",
          "2023-03-31T00:00:00",
          "2023-12-31T00:00:00",
          "2023-12-31T00:00:00",
          "2022-12-31T00:00:00",
          "2023-06-30T00:00:00",
          "2023-06-30T00:00:00",
          "2025-06-30T00:00:00",
          "2023-09-30T00:00:00",
          "2023-06-30T00:00:00",
          "2025-09-30T00:00:00",
          "2023-12-31T00:00:00",
          "2024-12-31T00:00:00",
          "2022-12-31T00:00:00",
          "2025-12-31T00:00:00",
          "2022-12-31T00:00:00",
          "2024-12-31T00:00:00",
          "2023-12-31T00:00:00",
          "2024-03-31T00:00:00",
          "2023-09-30T00:00:00",
          "2023-09-30T00:00:00",
          "2023-12-31T00:00:00",
          "2023-06-30T00:00:00",
          "2023-06-30T00:00:00",
          "2023-09-30T00:00:00",
          "2024-09-30T00:00:00",
          "2023-06-30T00:00:00",
          "2023-12-31T00:00:00",
          "2023-12-31T00:00:00",
          "2022-12-31T00:00:00",
          "2023-03-31T00:00:00",
          "2023-06-30T00:00:00",
          "2022-12-31T00:00:00",
          "2023-03-31T00:00:00",
          "2022-12-31T00:00:00",
          "2024-12-31T00:00:00",
          "2024-12-31T00:00:00",
          "2024-12-31T00:00:00",
          "2024-09-30T00:00:00",
          "2024-03-31T00:00:00",
          "2024-12-31T00:00:00",
          "2024-12-31T00:00:00",
          "2023-12-31T00:00:00",
          "2022-12-31T00:00:00",
          "2023-06-30T00:00:00",
          "2023-09-30T00:00:00",
          "2023-06-30T00:00:00",
          "2024-12-31T00:00:00",
          "2023-09-30T00:00:00",
          "2023-09-30T00:00:00",
          "2023-12-31T00:00:00",
          "2025-06-30T00:00:00",
          "2023-03-31T00:00:00",
          "2025-12-31T00:00:00",
          "2024-09-30T00:00:00",
          "2024-03-31T00:00:00",
          "2023-06-30T00:00:00",
          "2023-06-30T00:00:00",
          "2023-06-30T00:00:00",
          "2023-06-30T00:00:00",
          "2023-06-30T00:00:00",
          "2023-06-30T00:00:00",
          "2023-06-30T00:00:00",
          "2023-06-30T00:00:00",
          "2023-06-30T00:00:00",
          "2023-06-30T00:00:00",
          "2023-06-30T00:00:00",
          "2023-06-30T00:00:00",
          "2023-06-30T00:00:00",
          "2023-06-30T00:00:00",
          "2023-06-30T00:00:00",
          "2024-03-31T00:00:00",
          "2023-12-31T00:00:00",
          "2022-12-31T00:00:00",
          "2023-12-31T00:00:00",
          "2023-12-31T00:00:00",
          "2024-03-31T00:00:00",
          "2023-12-31T00:00:00",
          "2023-12-31T00:00:00",
          "2023-12-31T00:00:00",
          "2023-12-31T00:00:00",
          "2023-09-30T00:00:00",
          "2022-12-31T00:00:00",
          "2023-12-31T00:00:00",
          "2023-09-30T00:00:00",
          "2023-06-30T00:00:00",
          "2023-12-31T00:00:00",
          "2023-12-31T00:00:00",
          "2024-03-31T00:00:00",
          "2023-12-31T00:00:00",
          "2024-12-31T00:00:00",
          "2024-03-31T00:00:00",
          "2023-12-31T00:00:00",
          "2023-06-30T00:00:00",
          "2023-03-31T00:00:00",
          "2023-12-31T00:00:00",
          "2023-03-31T00:00:00",
          "2023-06-30T00:00:00",
          "2023-03-31T00:00:00",
          "2024-03-31T00:00:00",
          "2023-06-30T00:00:00",
          "2025-12-31T00:00:00",
          "2023-12-31T00:00:00",
          "2023-06-30T00:00:00",
          "2023-12-31T00:00:00",
          "2023-12-31T00:00:00",
          "2024-03-31T00:00:00",
          "2024-06-30T00:00:00",
          "2023-09-30T00:00:00",
          "2024-03-31T00:00:00",
          "2023-09-30T00:00:00",
          "2023-09-30T00:00:00",
          "2023-09-30T00:00:00",
          "2024-06-30T00:00:00",
          "2024-06-30T00:00:00",
          "2023-09-30T00:00:00",
          "2023-09-30T00:00:00",
          "2022-12-31T00:00:00",
          "2023-12-31T00:00:00",
          "2022-12-31T00:00:00",
          "2022-12-31T00:00:00",
          "2023-09-30T00:00:00",
          "2023-09-30T00:00:00",
          "2022-12-31T00:00:00",
          "2023-09-30T00:00:00",
          "2023-09-30T00:00:00",
          "2024-09-30T00:00:00",
          "2025-06-30T00:00:00",
          "2023-12-31T00:00:00",
          "2023-09-30T00:00:00",
          "2026-09-30T00:00:00",
          "2026-09-30T00:00:00",
          "2024-09-30T00:00:00",
          "2026-09-30T00:00:00",
          "2024-09-30T00:00:00",
          "2023-12-31T00:00:00",
          "2024-12-31T00:00:00",
          "2024-06-30T00:00:00",
          "2024-12-31T00:00:00",
          "2023-12-31T00:00:00",
          "2024-12-31T00:00:00",
          "2022-12-31T00:00:00",
          "2023-12-31T00:00:00",
          "2023-09-30T00:00:00",
          "2023-09-30T00:00:00",
          "2023-09-30T00:00:00",
          "2023-09-30T00:00:00",
          "2023-09-30T00:00:00",
          "2023-09-30T00:00:00",
          "2023-06-30T00:00:00",
          "2023-12-31T00:00:00",
          "2023-12-31T00:00:00",
          "2023-06-30T00:00:00",
          "2023-06-30T00:00:00",
          "2023-09-30T00:00:00",
          "2023-09-30T00:00:00",
          "2023-06-30T00:00:00",
          "2023-06-30T00:00:00",
          "2024-12-31T00:00:00",
          "2025-06-30T00:00:00",
          "2022-12-31T00:00:00",
          "2023-06-30T00:00:00",
          "2023-06-30T00:00:00",
          "2022-12-31T00:00:00",
          "2022-12-31T00:00:00",
          "2023-12-31T00:00:00",
          "2023-12-31T00:00:00",
          "2023-12-31T00:00:00",
          "2022-12-31T00:00:00",
          "2023-06-30T00:00:00",
          "2023-12-31T00:00:00",
          "2025-06-30T00:00:00",
          "2024-06-30T00:00:00",
          "2024-06-30T00:00:00",
          "2023-12-31T00:00:00",
          "2024-03-31T00:00:00",
          "2025-06-30T00:00:00",
          "2025-03-31T00:00:00",
          "2023-09-30T00:00:00",
          "2024-09-30T00:00:00",
          "2022-12-31T00:00:00",
          "2024-09-30T00:00:00",
          "2024-12-31T00:00:00",
          "2023-09-30T00:00:00",
          "2023-09-30T00:00:00",
          "2024-09-30T00:00:00",
          "2025-03-31T00:00:00",
          "2022-12-31T00:00:00",
          "2022-12-31T00:00:00",
          "2024-06-30T00:00:00",
          "2024-06-30T00:00:00",
          "2024-06-30T00:00:00",
          "2023-12-31T00:00:00",
          "2023-09-30T00:00:00",
          "2023-06-30T00:00:00",
          "2024-09-30T00:00:00",
          "2024-09-30T00:00:00",
          "2023-03-31T00:00:00",
          "2024-06-30T00:00:00",
          "2023-12-31T00:00:00",
          "2025-03-31T00:00:00",
          "2024-12-31T00:00:00",
          "2023-03-31T00:00:00",
          "2020-03-31T00:00:00",
          "2020-03-31T00:00:00",
          "2020-03-31T00:00:00",
          "2023-06-30T00:00:00",
          "2024-03-31T00:00:00",
          "2022-12-31T00:00:00",
          "2023-03-31T00:00:00",
          "2022-12-31T00:00:00",
          "2023-06-30T00:00:00",
          "2023-03-31T00:00:00"
         ],
         "yaxis": "y"
        }
       ],
       "layout": {
        "legend": {
         "tracegroupgap": 0
        },
        "margin": {
         "b": 0,
         "l": 0,
         "r": 0,
         "t": 30
        },
        "template": {
         "data": {
          "bar": [
           {
            "error_x": {
             "color": "#2a3f5f"
            },
            "error_y": {
             "color": "#2a3f5f"
            },
            "marker": {
             "line": {
              "color": "#E5ECF6",
              "width": 0.5
             },
             "pattern": {
              "fillmode": "overlay",
              "size": 10,
              "solidity": 0.2
             }
            },
            "type": "bar"
           }
          ],
          "barpolar": [
           {
            "marker": {
             "line": {
              "color": "#E5ECF6",
              "width": 0.5
             },
             "pattern": {
              "fillmode": "overlay",
              "size": 10,
              "solidity": 0.2
             }
            },
            "type": "barpolar"
           }
          ],
          "carpet": [
           {
            "aaxis": {
             "endlinecolor": "#2a3f5f",
             "gridcolor": "white",
             "linecolor": "white",
             "minorgridcolor": "white",
             "startlinecolor": "#2a3f5f"
            },
            "baxis": {
             "endlinecolor": "#2a3f5f",
             "gridcolor": "white",
             "linecolor": "white",
             "minorgridcolor": "white",
             "startlinecolor": "#2a3f5f"
            },
            "type": "carpet"
           }
          ],
          "choropleth": [
           {
            "colorbar": {
             "outlinewidth": 0,
             "ticks": ""
            },
            "type": "choropleth"
           }
          ],
          "contour": [
           {
            "colorbar": {
             "outlinewidth": 0,
             "ticks": ""
            },
            "colorscale": [
             [
              0,
              "#0d0887"
             ],
             [
              0.1111111111111111,
              "#46039f"
             ],
             [
              0.2222222222222222,
              "#7201a8"
             ],
             [
              0.3333333333333333,
              "#9c179e"
             ],
             [
              0.4444444444444444,
              "#bd3786"
             ],
             [
              0.5555555555555556,
              "#d8576b"
             ],
             [
              0.6666666666666666,
              "#ed7953"
             ],
             [
              0.7777777777777778,
              "#fb9f3a"
             ],
             [
              0.8888888888888888,
              "#fdca26"
             ],
             [
              1,
              "#f0f921"
             ]
            ],
            "type": "contour"
           }
          ],
          "contourcarpet": [
           {
            "colorbar": {
             "outlinewidth": 0,
             "ticks": ""
            },
            "type": "contourcarpet"
           }
          ],
          "heatmap": [
           {
            "colorbar": {
             "outlinewidth": 0,
             "ticks": ""
            },
            "colorscale": [
             [
              0,
              "#0d0887"
             ],
             [
              0.1111111111111111,
              "#46039f"
             ],
             [
              0.2222222222222222,
              "#7201a8"
             ],
             [
              0.3333333333333333,
              "#9c179e"
             ],
             [
              0.4444444444444444,
              "#bd3786"
             ],
             [
              0.5555555555555556,
              "#d8576b"
             ],
             [
              0.6666666666666666,
              "#ed7953"
             ],
             [
              0.7777777777777778,
              "#fb9f3a"
             ],
             [
              0.8888888888888888,
              "#fdca26"
             ],
             [
              1,
              "#f0f921"
             ]
            ],
            "type": "heatmap"
           }
          ],
          "heatmapgl": [
           {
            "colorbar": {
             "outlinewidth": 0,
             "ticks": ""
            },
            "colorscale": [
             [
              0,
              "#0d0887"
             ],
             [
              0.1111111111111111,
              "#46039f"
             ],
             [
              0.2222222222222222,
              "#7201a8"
             ],
             [
              0.3333333333333333,
              "#9c179e"
             ],
             [
              0.4444444444444444,
              "#bd3786"
             ],
             [
              0.5555555555555556,
              "#d8576b"
             ],
             [
              0.6666666666666666,
              "#ed7953"
             ],
             [
              0.7777777777777778,
              "#fb9f3a"
             ],
             [
              0.8888888888888888,
              "#fdca26"
             ],
             [
              1,
              "#f0f921"
             ]
            ],
            "type": "heatmapgl"
           }
          ],
          "histogram": [
           {
            "marker": {
             "pattern": {
              "fillmode": "overlay",
              "size": 10,
              "solidity": 0.2
             }
            },
            "type": "histogram"
           }
          ],
          "histogram2d": [
           {
            "colorbar": {
             "outlinewidth": 0,
             "ticks": ""
            },
            "colorscale": [
             [
              0,
              "#0d0887"
             ],
             [
              0.1111111111111111,
              "#46039f"
             ],
             [
              0.2222222222222222,
              "#7201a8"
             ],
             [
              0.3333333333333333,
              "#9c179e"
             ],
             [
              0.4444444444444444,
              "#bd3786"
             ],
             [
              0.5555555555555556,
              "#d8576b"
             ],
             [
              0.6666666666666666,
              "#ed7953"
             ],
             [
              0.7777777777777778,
              "#fb9f3a"
             ],
             [
              0.8888888888888888,
              "#fdca26"
             ],
             [
              1,
              "#f0f921"
             ]
            ],
            "type": "histogram2d"
           }
          ],
          "histogram2dcontour": [
           {
            "colorbar": {
             "outlinewidth": 0,
             "ticks": ""
            },
            "colorscale": [
             [
              0,
              "#0d0887"
             ],
             [
              0.1111111111111111,
              "#46039f"
             ],
             [
              0.2222222222222222,
              "#7201a8"
             ],
             [
              0.3333333333333333,
              "#9c179e"
             ],
             [
              0.4444444444444444,
              "#bd3786"
             ],
             [
              0.5555555555555556,
              "#d8576b"
             ],
             [
              0.6666666666666666,
              "#ed7953"
             ],
             [
              0.7777777777777778,
              "#fb9f3a"
             ],
             [
              0.8888888888888888,
              "#fdca26"
             ],
             [
              1,
              "#f0f921"
             ]
            ],
            "type": "histogram2dcontour"
           }
          ],
          "mesh3d": [
           {
            "colorbar": {
             "outlinewidth": 0,
             "ticks": ""
            },
            "type": "mesh3d"
           }
          ],
          "parcoords": [
           {
            "line": {
             "colorbar": {
              "outlinewidth": 0,
              "ticks": ""
             }
            },
            "type": "parcoords"
           }
          ],
          "pie": [
           {
            "automargin": true,
            "type": "pie"
           }
          ],
          "scatter": [
           {
            "marker": {
             "colorbar": {
              "outlinewidth": 0,
              "ticks": ""
             }
            },
            "type": "scatter"
           }
          ],
          "scatter3d": [
           {
            "line": {
             "colorbar": {
              "outlinewidth": 0,
              "ticks": ""
             }
            },
            "marker": {
             "colorbar": {
              "outlinewidth": 0,
              "ticks": ""
             }
            },
            "type": "scatter3d"
           }
          ],
          "scattercarpet": [
           {
            "marker": {
             "colorbar": {
              "outlinewidth": 0,
              "ticks": ""
             }
            },
            "type": "scattercarpet"
           }
          ],
          "scattergeo": [
           {
            "marker": {
             "colorbar": {
              "outlinewidth": 0,
              "ticks": ""
             }
            },
            "type": "scattergeo"
           }
          ],
          "scattergl": [
           {
            "marker": {
             "colorbar": {
              "outlinewidth": 0,
              "ticks": ""
             }
            },
            "type": "scattergl"
           }
          ],
          "scattermapbox": [
           {
            "marker": {
             "colorbar": {
              "outlinewidth": 0,
              "ticks": ""
             }
            },
            "type": "scattermapbox"
           }
          ],
          "scatterpolar": [
           {
            "marker": {
             "colorbar": {
              "outlinewidth": 0,
              "ticks": ""
             }
            },
            "type": "scatterpolar"
           }
          ],
          "scatterpolargl": [
           {
            "marker": {
             "colorbar": {
              "outlinewidth": 0,
              "ticks": ""
             }
            },
            "type": "scatterpolargl"
           }
          ],
          "scatterternary": [
           {
            "marker": {
             "colorbar": {
              "outlinewidth": 0,
              "ticks": ""
             }
            },
            "type": "scatterternary"
           }
          ],
          "surface": [
           {
            "colorbar": {
             "outlinewidth": 0,
             "ticks": ""
            },
            "colorscale": [
             [
              0,
              "#0d0887"
             ],
             [
              0.1111111111111111,
              "#46039f"
             ],
             [
              0.2222222222222222,
              "#7201a8"
             ],
             [
              0.3333333333333333,
              "#9c179e"
             ],
             [
              0.4444444444444444,
              "#bd3786"
             ],
             [
              0.5555555555555556,
              "#d8576b"
             ],
             [
              0.6666666666666666,
              "#ed7953"
             ],
             [
              0.7777777777777778,
              "#fb9f3a"
             ],
             [
              0.8888888888888888,
              "#fdca26"
             ],
             [
              1,
              "#f0f921"
             ]
            ],
            "type": "surface"
           }
          ],
          "table": [
           {
            "cells": {
             "fill": {
              "color": "#EBF0F8"
             },
             "line": {
              "color": "white"
             }
            },
            "header": {
             "fill": {
              "color": "#C8D4E3"
             },
             "line": {
              "color": "white"
             }
            },
            "type": "table"
           }
          ]
         },
         "layout": {
          "annotationdefaults": {
           "arrowcolor": "#2a3f5f",
           "arrowhead": 0,
           "arrowwidth": 1
          },
          "autotypenumbers": "strict",
          "coloraxis": {
           "colorbar": {
            "outlinewidth": 0,
            "ticks": ""
           }
          },
          "colorscale": {
           "diverging": [
            [
             0,
             "#8e0152"
            ],
            [
             0.1,
             "#c51b7d"
            ],
            [
             0.2,
             "#de77ae"
            ],
            [
             0.3,
             "#f1b6da"
            ],
            [
             0.4,
             "#fde0ef"
            ],
            [
             0.5,
             "#f7f7f7"
            ],
            [
             0.6,
             "#e6f5d0"
            ],
            [
             0.7,
             "#b8e186"
            ],
            [
             0.8,
             "#7fbc41"
            ],
            [
             0.9,
             "#4d9221"
            ],
            [
             1,
             "#276419"
            ]
           ],
           "sequential": [
            [
             0,
             "#0d0887"
            ],
            [
             0.1111111111111111,
             "#46039f"
            ],
            [
             0.2222222222222222,
             "#7201a8"
            ],
            [
             0.3333333333333333,
             "#9c179e"
            ],
            [
             0.4444444444444444,
             "#bd3786"
            ],
            [
             0.5555555555555556,
             "#d8576b"
            ],
            [
             0.6666666666666666,
             "#ed7953"
            ],
            [
             0.7777777777777778,
             "#fb9f3a"
            ],
            [
             0.8888888888888888,
             "#fdca26"
            ],
            [
             1,
             "#f0f921"
            ]
           ],
           "sequentialminus": [
            [
             0,
             "#0d0887"
            ],
            [
             0.1111111111111111,
             "#46039f"
            ],
            [
             0.2222222222222222,
             "#7201a8"
            ],
            [
             0.3333333333333333,
             "#9c179e"
            ],
            [
             0.4444444444444444,
             "#bd3786"
            ],
            [
             0.5555555555555556,
             "#d8576b"
            ],
            [
             0.6666666666666666,
             "#ed7953"
            ],
            [
             0.7777777777777778,
             "#fb9f3a"
            ],
            [
             0.8888888888888888,
             "#fdca26"
            ],
            [
             1,
             "#f0f921"
            ]
           ]
          },
          "colorway": [
           "#636efa",
           "#EF553B",
           "#00cc96",
           "#ab63fa",
           "#FFA15A",
           "#19d3f3",
           "#FF6692",
           "#B6E880",
           "#FF97FF",
           "#FECB52"
          ],
          "font": {
           "color": "#2a3f5f"
          },
          "geo": {
           "bgcolor": "white",
           "lakecolor": "white",
           "landcolor": "#E5ECF6",
           "showlakes": true,
           "showland": true,
           "subunitcolor": "white"
          },
          "hoverlabel": {
           "align": "left"
          },
          "hovermode": "closest",
          "mapbox": {
           "style": "light"
          },
          "paper_bgcolor": "white",
          "plot_bgcolor": "#E5ECF6",
          "polar": {
           "angularaxis": {
            "gridcolor": "white",
            "linecolor": "white",
            "ticks": ""
           },
           "bgcolor": "#E5ECF6",
           "radialaxis": {
            "gridcolor": "white",
            "linecolor": "white",
            "ticks": ""
           }
          },
          "scene": {
           "xaxis": {
            "backgroundcolor": "#E5ECF6",
            "gridcolor": "white",
            "gridwidth": 2,
            "linecolor": "white",
            "showbackground": true,
            "ticks": "",
            "zerolinecolor": "white"
           },
           "yaxis": {
            "backgroundcolor": "#E5ECF6",
            "gridcolor": "white",
            "gridwidth": 2,
            "linecolor": "white",
            "showbackground": true,
            "ticks": "",
            "zerolinecolor": "white"
           },
           "zaxis": {
            "backgroundcolor": "#E5ECF6",
            "gridcolor": "white",
            "gridwidth": 2,
            "linecolor": "white",
            "showbackground": true,
            "ticks": "",
            "zerolinecolor": "white"
           }
          },
          "shapedefaults": {
           "line": {
            "color": "#2a3f5f"
           }
          },
          "ternary": {
           "aaxis": {
            "gridcolor": "white",
            "linecolor": "white",
            "ticks": ""
           },
           "baxis": {
            "gridcolor": "white",
            "linecolor": "white",
            "ticks": ""
           },
           "bgcolor": "#E5ECF6",
           "caxis": {
            "gridcolor": "white",
            "linecolor": "white",
            "ticks": ""
           }
          },
          "title": {
           "x": 0.05
          },
          "xaxis": {
           "automargin": true,
           "gridcolor": "white",
           "linecolor": "white",
           "ticks": "",
           "title": {
            "standoff": 15
           },
           "zerolinecolor": "white",
           "zerolinewidth": 2
          },
          "yaxis": {
           "automargin": true,
           "gridcolor": "white",
           "linecolor": "white",
           "ticks": "",
           "title": {
            "standoff": 15
           },
           "zerolinecolor": "white",
           "zerolinewidth": 2
          }
         }
        },
        "title": {
         "text": "Ввод домов в эксплуатацию по регионам"
        },
        "xaxis": {
         "anchor": "y",
         "domain": [
          0,
          1
         ],
         "title": {
          "text": "id дома"
         }
        },
        "yaxis": {
         "anchor": "x",
         "domain": [
          0,
          1
         ],
         "title": {
          "text": "Год ввода"
         }
        }
       }
      },
      "text/html": [
       "<div>                            <div id=\"af5a564f-acaf-462d-9bc4-3197916b07cb\" class=\"plotly-graph-div\" style=\"height:525px; width:100%;\"></div>            <script type=\"text/javascript\">                require([\"plotly\"], function(Plotly) {                    window.PLOTLYENV=window.PLOTLYENV || {};                                    if (document.getElementById(\"af5a564f-acaf-462d-9bc4-3197916b07cb\")) {                    Plotly.newPlot(                        \"af5a564f-acaf-462d-9bc4-3197916b07cb\",                        [{\"hovertemplate\":\"x=%{x}<br>y=%{y}<extra></extra>\",\"legendgroup\":\"\",\"marker\":{\"color\":\"#636efa\",\"symbol\":\"circle\"},\"mode\":\"markers\",\"name\":\"\",\"orientation\":\"h\",\"showlegend\":false,\"x\":[40008,41000,5120,48244,40676,46140,46139,38360,41658,43811,26158,27945,27946,7043,7045,47074,47057,41012,46950,36673,46388,44458,35070,35069,35073,35072,35071,43825,27528,13136,34507,34506,45803,46593,46567,41689,42728,47418,46602,48279,39288,27484,30516,30481,48078,47129,45374,45372,45371,45370,45375,44668,44883,42763,42095,45310,48902,46975,30905,30906,30904,30907,39520,43764,37796,45916,31582,40327,38668,48801,44855,42504,48612,44967,48611,46995,39632,26287,46376,46484,45457,48425,33280,33281,33279,33278,47627,47679,41060,43778,44365,42264,41998,21241,21242,21240,31337,49335,49028,49029,49027,47537,48070,49209,46621,40082,45079,45422,48275,48081,38721,44135,44134,48414,38720,48079,44131,38722,45547,45539,45545,45538,45534,45537,45548,45536,45543,45535,45542,45544,45541,45540,45546,48982,46759,39058,45362,44484,48878,44036,47520,38480,45243,27397,42284,42583,43872,44640,41279,41280,46682,41278,48277,26401,44912,43420,42656,44908,42655,43421,41260,37597,40929,45935,44962,44906,44845,44087,47857,47858,41732,49115,46672,47805,47806,44889,42349,40720,48014,38554,48783,23073,45361,39290,47138,38965,48127,45601,41530,41531,42410,48459,44399,44397,44396,44398,44395,41173,46530,48240,48241,48238,45907,39011,43777,41715,42338,42340,42337,42336,42339,48252,48349,48248,45412,45170,47425,47426,45168,46270,17910,46205,42648,44015,39325,40009,45415,48145,48139,48140,43966,43839,42413,41320,47729,46914,46836,41924,42386,42387,41657,42345,38962,43885,43884,40210,43781,40211,49037,36711,42051,47881,47880,47879,48903,29873,30933,30935,34895,34894,33862,33861,33866,33863,33865,35325,35326,35322,15317,14294,25395,34611,42543,37772,45321],\"xaxis\":\"x\",\"y\":[\"2023-06-30T00:00:00\",\"2023-06-30T00:00:00\",\"2022-12-31T00:00:00\",\"2025-12-31T00:00:00\",\"2023-09-30T00:00:00\",\"2024-12-31T00:00:00\",\"2024-03-31T00:00:00\",\"2024-12-31T00:00:00\",\"2023-12-31T00:00:00\",\"2023-09-30T00:00:00\",\"2023-03-31T00:00:00\",\"2022-12-31T00:00:00\",\"2022-12-31T00:00:00\",\"2023-06-30T00:00:00\",\"2023-06-30T00:00:00\",\"2022-12-31T00:00:00\",\"2022-12-31T00:00:00\",\"2023-03-31T00:00:00\",\"2024-03-31T00:00:00\",\"2022-12-31T00:00:00\",\"2024-06-30T00:00:00\",\"2023-12-31T00:00:00\",\"2022-12-31T00:00:00\",\"2022-12-31T00:00:00\",\"2022-12-31T00:00:00\",\"2022-12-31T00:00:00\",\"2022-12-31T00:00:00\",\"2023-12-31T00:00:00\",\"2023-12-31T00:00:00\",\"2023-03-31T00:00:00\",\"2022-12-31T00:00:00\",\"2022-12-31T00:00:00\",\"2024-06-30T00:00:00\",\"2025-03-31T00:00:00\",\"2024-03-31T00:00:00\",\"2023-03-31T00:00:00\",\"2024-12-31T00:00:00\",\"2025-09-30T00:00:00\",\"2025-09-30T00:00:00\",\"2025-03-31T00:00:00\",\"2023-09-30T00:00:00\",\"2022-12-31T00:00:00\",\"2023-06-30T00:00:00\",\"2024-12-31T00:00:00\",\"2023-12-31T00:00:00\",\"2022-12-31T00:00:00\",\"2023-09-30T00:00:00\",\"2023-09-30T00:00:00\",\"2023-09-30T00:00:00\",\"2023-09-30T00:00:00\",\"2023-09-30T00:00:00\",\"2023-09-30T00:00:00\",\"2024-06-30T00:00:00\",\"2023-12-31T00:00:00\",\"2022-12-31T00:00:00\",\"2022-12-31T00:00:00\",\"2024-09-30T00:00:00\",\"2023-09-30T00:00:00\",\"2024-09-30T00:00:00\",\"2025-09-30T00:00:00\",\"2023-06-30T00:00:00\",\"2026-09-30T00:00:00\",\"2025-03-31T00:00:00\",\"2023-03-31T00:00:00\",\"2023-12-31T00:00:00\",\"2023-12-31T00:00:00\",\"2022-12-31T00:00:00\",\"2023-06-30T00:00:00\",\"2023-06-30T00:00:00\",\"2025-06-30T00:00:00\",\"2023-09-30T00:00:00\",\"2023-06-30T00:00:00\",\"2025-09-30T00:00:00\",\"2023-12-31T00:00:00\",\"2024-12-31T00:00:00\",\"2022-12-31T00:00:00\",\"2025-12-31T00:00:00\",\"2022-12-31T00:00:00\",\"2024-12-31T00:00:00\",\"2023-12-31T00:00:00\",\"2024-03-31T00:00:00\",\"2023-09-30T00:00:00\",\"2023-09-30T00:00:00\",\"2023-12-31T00:00:00\",\"2023-06-30T00:00:00\",\"2023-06-30T00:00:00\",\"2023-09-30T00:00:00\",\"2024-09-30T00:00:00\",\"2023-06-30T00:00:00\",\"2023-12-31T00:00:00\",\"2023-12-31T00:00:00\",\"2022-12-31T00:00:00\",\"2023-03-31T00:00:00\",\"2023-06-30T00:00:00\",\"2022-12-31T00:00:00\",\"2023-03-31T00:00:00\",\"2022-12-31T00:00:00\",\"2024-12-31T00:00:00\",\"2024-12-31T00:00:00\",\"2024-12-31T00:00:00\",\"2024-09-30T00:00:00\",\"2024-03-31T00:00:00\",\"2024-12-31T00:00:00\",\"2024-12-31T00:00:00\",\"2023-12-31T00:00:00\",\"2022-12-31T00:00:00\",\"2023-06-30T00:00:00\",\"2023-09-30T00:00:00\",\"2023-06-30T00:00:00\",\"2024-12-31T00:00:00\",\"2023-09-30T00:00:00\",\"2023-09-30T00:00:00\",\"2023-12-31T00:00:00\",\"2025-06-30T00:00:00\",\"2023-03-31T00:00:00\",\"2025-12-31T00:00:00\",\"2024-09-30T00:00:00\",\"2024-03-31T00:00:00\",\"2023-06-30T00:00:00\",\"2023-06-30T00:00:00\",\"2023-06-30T00:00:00\",\"2023-06-30T00:00:00\",\"2023-06-30T00:00:00\",\"2023-06-30T00:00:00\",\"2023-06-30T00:00:00\",\"2023-06-30T00:00:00\",\"2023-06-30T00:00:00\",\"2023-06-30T00:00:00\",\"2023-06-30T00:00:00\",\"2023-06-30T00:00:00\",\"2023-06-30T00:00:00\",\"2023-06-30T00:00:00\",\"2023-06-30T00:00:00\",\"2024-03-31T00:00:00\",\"2023-12-31T00:00:00\",\"2022-12-31T00:00:00\",\"2023-12-31T00:00:00\",\"2023-12-31T00:00:00\",\"2024-03-31T00:00:00\",\"2023-12-31T00:00:00\",\"2023-12-31T00:00:00\",\"2023-12-31T00:00:00\",\"2023-12-31T00:00:00\",\"2023-09-30T00:00:00\",\"2022-12-31T00:00:00\",\"2023-12-31T00:00:00\",\"2023-09-30T00:00:00\",\"2023-06-30T00:00:00\",\"2023-12-31T00:00:00\",\"2023-12-31T00:00:00\",\"2024-03-31T00:00:00\",\"2023-12-31T00:00:00\",\"2024-12-31T00:00:00\",\"2024-03-31T00:00:00\",\"2023-12-31T00:00:00\",\"2023-06-30T00:00:00\",\"2023-03-31T00:00:00\",\"2023-12-31T00:00:00\",\"2023-03-31T00:00:00\",\"2023-06-30T00:00:00\",\"2023-03-31T00:00:00\",\"2024-03-31T00:00:00\",\"2023-06-30T00:00:00\",\"2025-12-31T00:00:00\",\"2023-12-31T00:00:00\",\"2023-06-30T00:00:00\",\"2023-12-31T00:00:00\",\"2023-12-31T00:00:00\",\"2024-03-31T00:00:00\",\"2024-06-30T00:00:00\",\"2023-09-30T00:00:00\",\"2024-03-31T00:00:00\",\"2023-09-30T00:00:00\",\"2023-09-30T00:00:00\",\"2023-09-30T00:00:00\",\"2024-06-30T00:00:00\",\"2024-06-30T00:00:00\",\"2023-09-30T00:00:00\",\"2023-09-30T00:00:00\",\"2022-12-31T00:00:00\",\"2023-12-31T00:00:00\",\"2022-12-31T00:00:00\",\"2022-12-31T00:00:00\",\"2023-09-30T00:00:00\",\"2023-09-30T00:00:00\",\"2022-12-31T00:00:00\",\"2023-09-30T00:00:00\",\"2023-09-30T00:00:00\",\"2024-09-30T00:00:00\",\"2025-06-30T00:00:00\",\"2023-12-31T00:00:00\",\"2023-09-30T00:00:00\",\"2026-09-30T00:00:00\",\"2026-09-30T00:00:00\",\"2024-09-30T00:00:00\",\"2026-09-30T00:00:00\",\"2024-09-30T00:00:00\",\"2023-12-31T00:00:00\",\"2024-12-31T00:00:00\",\"2024-06-30T00:00:00\",\"2024-12-31T00:00:00\",\"2023-12-31T00:00:00\",\"2024-12-31T00:00:00\",\"2022-12-31T00:00:00\",\"2023-12-31T00:00:00\",\"2023-09-30T00:00:00\",\"2023-09-30T00:00:00\",\"2023-09-30T00:00:00\",\"2023-09-30T00:00:00\",\"2023-09-30T00:00:00\",\"2023-09-30T00:00:00\",\"2023-06-30T00:00:00\",\"2023-12-31T00:00:00\",\"2023-12-31T00:00:00\",\"2023-06-30T00:00:00\",\"2023-06-30T00:00:00\",\"2023-09-30T00:00:00\",\"2023-09-30T00:00:00\",\"2023-06-30T00:00:00\",\"2023-06-30T00:00:00\",\"2024-12-31T00:00:00\",\"2025-06-30T00:00:00\",\"2022-12-31T00:00:00\",\"2023-06-30T00:00:00\",\"2023-06-30T00:00:00\",\"2022-12-31T00:00:00\",\"2022-12-31T00:00:00\",\"2023-12-31T00:00:00\",\"2023-12-31T00:00:00\",\"2023-12-31T00:00:00\",\"2022-12-31T00:00:00\",\"2023-06-30T00:00:00\",\"2023-12-31T00:00:00\",\"2025-06-30T00:00:00\",\"2024-06-30T00:00:00\",\"2024-06-30T00:00:00\",\"2023-12-31T00:00:00\",\"2024-03-31T00:00:00\",\"2025-06-30T00:00:00\",\"2025-03-31T00:00:00\",\"2023-09-30T00:00:00\",\"2024-09-30T00:00:00\",\"2022-12-31T00:00:00\",\"2024-09-30T00:00:00\",\"2024-12-31T00:00:00\",\"2023-09-30T00:00:00\",\"2023-09-30T00:00:00\",\"2024-09-30T00:00:00\",\"2025-03-31T00:00:00\",\"2022-12-31T00:00:00\",\"2022-12-31T00:00:00\",\"2024-06-30T00:00:00\",\"2024-06-30T00:00:00\",\"2024-06-30T00:00:00\",\"2023-12-31T00:00:00\",\"2023-09-30T00:00:00\",\"2023-06-30T00:00:00\",\"2024-09-30T00:00:00\",\"2024-09-30T00:00:00\",\"2023-03-31T00:00:00\",\"2024-06-30T00:00:00\",\"2023-12-31T00:00:00\",\"2025-03-31T00:00:00\",\"2024-12-31T00:00:00\",\"2023-03-31T00:00:00\",\"2020-03-31T00:00:00\",\"2020-03-31T00:00:00\",\"2020-03-31T00:00:00\",\"2023-06-30T00:00:00\",\"2024-03-31T00:00:00\",\"2022-12-31T00:00:00\",\"2023-03-31T00:00:00\",\"2022-12-31T00:00:00\",\"2023-06-30T00:00:00\",\"2023-03-31T00:00:00\"],\"yaxis\":\"y\",\"type\":\"scatter\"}],                        {\"template\":{\"data\":{\"bar\":[{\"error_x\":{\"color\":\"#2a3f5f\"},\"error_y\":{\"color\":\"#2a3f5f\"},\"marker\":{\"line\":{\"color\":\"#E5ECF6\",\"width\":0.5},\"pattern\":{\"fillmode\":\"overlay\",\"size\":10,\"solidity\":0.2}},\"type\":\"bar\"}],\"barpolar\":[{\"marker\":{\"line\":{\"color\":\"#E5ECF6\",\"width\":0.5},\"pattern\":{\"fillmode\":\"overlay\",\"size\":10,\"solidity\":0.2}},\"type\":\"barpolar\"}],\"carpet\":[{\"aaxis\":{\"endlinecolor\":\"#2a3f5f\",\"gridcolor\":\"white\",\"linecolor\":\"white\",\"minorgridcolor\":\"white\",\"startlinecolor\":\"#2a3f5f\"},\"baxis\":{\"endlinecolor\":\"#2a3f5f\",\"gridcolor\":\"white\",\"linecolor\":\"white\",\"minorgridcolor\":\"white\",\"startlinecolor\":\"#2a3f5f\"},\"type\":\"carpet\"}],\"choropleth\":[{\"colorbar\":{\"outlinewidth\":0,\"ticks\":\"\"},\"type\":\"choropleth\"}],\"contour\":[{\"colorbar\":{\"outlinewidth\":0,\"ticks\":\"\"},\"colorscale\":[[0.0,\"#0d0887\"],[0.1111111111111111,\"#46039f\"],[0.2222222222222222,\"#7201a8\"],[0.3333333333333333,\"#9c179e\"],[0.4444444444444444,\"#bd3786\"],[0.5555555555555556,\"#d8576b\"],[0.6666666666666666,\"#ed7953\"],[0.7777777777777778,\"#fb9f3a\"],[0.8888888888888888,\"#fdca26\"],[1.0,\"#f0f921\"]],\"type\":\"contour\"}],\"contourcarpet\":[{\"colorbar\":{\"outlinewidth\":0,\"ticks\":\"\"},\"type\":\"contourcarpet\"}],\"heatmap\":[{\"colorbar\":{\"outlinewidth\":0,\"ticks\":\"\"},\"colorscale\":[[0.0,\"#0d0887\"],[0.1111111111111111,\"#46039f\"],[0.2222222222222222,\"#7201a8\"],[0.3333333333333333,\"#9c179e\"],[0.4444444444444444,\"#bd3786\"],[0.5555555555555556,\"#d8576b\"],[0.6666666666666666,\"#ed7953\"],[0.7777777777777778,\"#fb9f3a\"],[0.8888888888888888,\"#fdca26\"],[1.0,\"#f0f921\"]],\"type\":\"heatmap\"}],\"heatmapgl\":[{\"colorbar\":{\"outlinewidth\":0,\"ticks\":\"\"},\"colorscale\":[[0.0,\"#0d0887\"],[0.1111111111111111,\"#46039f\"],[0.2222222222222222,\"#7201a8\"],[0.3333333333333333,\"#9c179e\"],[0.4444444444444444,\"#bd3786\"],[0.5555555555555556,\"#d8576b\"],[0.6666666666666666,\"#ed7953\"],[0.7777777777777778,\"#fb9f3a\"],[0.8888888888888888,\"#fdca26\"],[1.0,\"#f0f921\"]],\"type\":\"heatmapgl\"}],\"histogram\":[{\"marker\":{\"pattern\":{\"fillmode\":\"overlay\",\"size\":10,\"solidity\":0.2}},\"type\":\"histogram\"}],\"histogram2d\":[{\"colorbar\":{\"outlinewidth\":0,\"ticks\":\"\"},\"colorscale\":[[0.0,\"#0d0887\"],[0.1111111111111111,\"#46039f\"],[0.2222222222222222,\"#7201a8\"],[0.3333333333333333,\"#9c179e\"],[0.4444444444444444,\"#bd3786\"],[0.5555555555555556,\"#d8576b\"],[0.6666666666666666,\"#ed7953\"],[0.7777777777777778,\"#fb9f3a\"],[0.8888888888888888,\"#fdca26\"],[1.0,\"#f0f921\"]],\"type\":\"histogram2d\"}],\"histogram2dcontour\":[{\"colorbar\":{\"outlinewidth\":0,\"ticks\":\"\"},\"colorscale\":[[0.0,\"#0d0887\"],[0.1111111111111111,\"#46039f\"],[0.2222222222222222,\"#7201a8\"],[0.3333333333333333,\"#9c179e\"],[0.4444444444444444,\"#bd3786\"],[0.5555555555555556,\"#d8576b\"],[0.6666666666666666,\"#ed7953\"],[0.7777777777777778,\"#fb9f3a\"],[0.8888888888888888,\"#fdca26\"],[1.0,\"#f0f921\"]],\"type\":\"histogram2dcontour\"}],\"mesh3d\":[{\"colorbar\":{\"outlinewidth\":0,\"ticks\":\"\"},\"type\":\"mesh3d\"}],\"parcoords\":[{\"line\":{\"colorbar\":{\"outlinewidth\":0,\"ticks\":\"\"}},\"type\":\"parcoords\"}],\"pie\":[{\"automargin\":true,\"type\":\"pie\"}],\"scatter\":[{\"marker\":{\"colorbar\":{\"outlinewidth\":0,\"ticks\":\"\"}},\"type\":\"scatter\"}],\"scatter3d\":[{\"line\":{\"colorbar\":{\"outlinewidth\":0,\"ticks\":\"\"}},\"marker\":{\"colorbar\":{\"outlinewidth\":0,\"ticks\":\"\"}},\"type\":\"scatter3d\"}],\"scattercarpet\":[{\"marker\":{\"colorbar\":{\"outlinewidth\":0,\"ticks\":\"\"}},\"type\":\"scattercarpet\"}],\"scattergeo\":[{\"marker\":{\"colorbar\":{\"outlinewidth\":0,\"ticks\":\"\"}},\"type\":\"scattergeo\"}],\"scattergl\":[{\"marker\":{\"colorbar\":{\"outlinewidth\":0,\"ticks\":\"\"}},\"type\":\"scattergl\"}],\"scattermapbox\":[{\"marker\":{\"colorbar\":{\"outlinewidth\":0,\"ticks\":\"\"}},\"type\":\"scattermapbox\"}],\"scatterpolar\":[{\"marker\":{\"colorbar\":{\"outlinewidth\":0,\"ticks\":\"\"}},\"type\":\"scatterpolar\"}],\"scatterpolargl\":[{\"marker\":{\"colorbar\":{\"outlinewidth\":0,\"ticks\":\"\"}},\"type\":\"scatterpolargl\"}],\"scatterternary\":[{\"marker\":{\"colorbar\":{\"outlinewidth\":0,\"ticks\":\"\"}},\"type\":\"scatterternary\"}],\"surface\":[{\"colorbar\":{\"outlinewidth\":0,\"ticks\":\"\"},\"colorscale\":[[0.0,\"#0d0887\"],[0.1111111111111111,\"#46039f\"],[0.2222222222222222,\"#7201a8\"],[0.3333333333333333,\"#9c179e\"],[0.4444444444444444,\"#bd3786\"],[0.5555555555555556,\"#d8576b\"],[0.6666666666666666,\"#ed7953\"],[0.7777777777777778,\"#fb9f3a\"],[0.8888888888888888,\"#fdca26\"],[1.0,\"#f0f921\"]],\"type\":\"surface\"}],\"table\":[{\"cells\":{\"fill\":{\"color\":\"#EBF0F8\"},\"line\":{\"color\":\"white\"}},\"header\":{\"fill\":{\"color\":\"#C8D4E3\"},\"line\":{\"color\":\"white\"}},\"type\":\"table\"}]},\"layout\":{\"annotationdefaults\":{\"arrowcolor\":\"#2a3f5f\",\"arrowhead\":0,\"arrowwidth\":1},\"autotypenumbers\":\"strict\",\"coloraxis\":{\"colorbar\":{\"outlinewidth\":0,\"ticks\":\"\"}},\"colorscale\":{\"diverging\":[[0,\"#8e0152\"],[0.1,\"#c51b7d\"],[0.2,\"#de77ae\"],[0.3,\"#f1b6da\"],[0.4,\"#fde0ef\"],[0.5,\"#f7f7f7\"],[0.6,\"#e6f5d0\"],[0.7,\"#b8e186\"],[0.8,\"#7fbc41\"],[0.9,\"#4d9221\"],[1,\"#276419\"]],\"sequential\":[[0.0,\"#0d0887\"],[0.1111111111111111,\"#46039f\"],[0.2222222222222222,\"#7201a8\"],[0.3333333333333333,\"#9c179e\"],[0.4444444444444444,\"#bd3786\"],[0.5555555555555556,\"#d8576b\"],[0.6666666666666666,\"#ed7953\"],[0.7777777777777778,\"#fb9f3a\"],[0.8888888888888888,\"#fdca26\"],[1.0,\"#f0f921\"]],\"sequentialminus\":[[0.0,\"#0d0887\"],[0.1111111111111111,\"#46039f\"],[0.2222222222222222,\"#7201a8\"],[0.3333333333333333,\"#9c179e\"],[0.4444444444444444,\"#bd3786\"],[0.5555555555555556,\"#d8576b\"],[0.6666666666666666,\"#ed7953\"],[0.7777777777777778,\"#fb9f3a\"],[0.8888888888888888,\"#fdca26\"],[1.0,\"#f0f921\"]]},\"colorway\":[\"#636efa\",\"#EF553B\",\"#00cc96\",\"#ab63fa\",\"#FFA15A\",\"#19d3f3\",\"#FF6692\",\"#B6E880\",\"#FF97FF\",\"#FECB52\"],\"font\":{\"color\":\"#2a3f5f\"},\"geo\":{\"bgcolor\":\"white\",\"lakecolor\":\"white\",\"landcolor\":\"#E5ECF6\",\"showlakes\":true,\"showland\":true,\"subunitcolor\":\"white\"},\"hoverlabel\":{\"align\":\"left\"},\"hovermode\":\"closest\",\"mapbox\":{\"style\":\"light\"},\"paper_bgcolor\":\"white\",\"plot_bgcolor\":\"#E5ECF6\",\"polar\":{\"angularaxis\":{\"gridcolor\":\"white\",\"linecolor\":\"white\",\"ticks\":\"\"},\"bgcolor\":\"#E5ECF6\",\"radialaxis\":{\"gridcolor\":\"white\",\"linecolor\":\"white\",\"ticks\":\"\"}},\"scene\":{\"xaxis\":{\"backgroundcolor\":\"#E5ECF6\",\"gridcolor\":\"white\",\"gridwidth\":2,\"linecolor\":\"white\",\"showbackground\":true,\"ticks\":\"\",\"zerolinecolor\":\"white\"},\"yaxis\":{\"backgroundcolor\":\"#E5ECF6\",\"gridcolor\":\"white\",\"gridwidth\":2,\"linecolor\":\"white\",\"showbackground\":true,\"ticks\":\"\",\"zerolinecolor\":\"white\"},\"zaxis\":{\"backgroundcolor\":\"#E5ECF6\",\"gridcolor\":\"white\",\"gridwidth\":2,\"linecolor\":\"white\",\"showbackground\":true,\"ticks\":\"\",\"zerolinecolor\":\"white\"}},\"shapedefaults\":{\"line\":{\"color\":\"#2a3f5f\"}},\"ternary\":{\"aaxis\":{\"gridcolor\":\"white\",\"linecolor\":\"white\",\"ticks\":\"\"},\"baxis\":{\"gridcolor\":\"white\",\"linecolor\":\"white\",\"ticks\":\"\"},\"bgcolor\":\"#E5ECF6\",\"caxis\":{\"gridcolor\":\"white\",\"linecolor\":\"white\",\"ticks\":\"\"}},\"title\":{\"x\":0.05},\"xaxis\":{\"automargin\":true,\"gridcolor\":\"white\",\"linecolor\":\"white\",\"ticks\":\"\",\"title\":{\"standoff\":15},\"zerolinecolor\":\"white\",\"zerolinewidth\":2},\"yaxis\":{\"automargin\":true,\"gridcolor\":\"white\",\"linecolor\":\"white\",\"ticks\":\"\",\"title\":{\"standoff\":15},\"zerolinecolor\":\"white\",\"zerolinewidth\":2}}},\"xaxis\":{\"anchor\":\"y\",\"domain\":[0.0,1.0],\"title\":{\"text\":\"id \\u0434\\u043e\\u043c\\u0430\"}},\"yaxis\":{\"anchor\":\"x\",\"domain\":[0.0,1.0],\"title\":{\"text\":\"\\u0413\\u043e\\u0434 \\u0432\\u0432\\u043e\\u0434\\u0430\"}},\"legend\":{\"tracegroupgap\":0},\"margin\":{\"t\":30,\"l\":0,\"r\":0,\"b\":0},\"title\":{\"text\":\"\\u0412\\u0432\\u043e\\u0434 \\u0434\\u043e\\u043c\\u043e\\u0432 \\u0432 \\u044d\\u043a\\u0441\\u043f\\u043b\\u0443\\u0430\\u0442\\u0430\\u0446\\u0438\\u044e \\u043f\\u043e \\u0440\\u0435\\u0433\\u0438\\u043e\\u043d\\u0430\\u043c\"}},                        {\"responsive\": true}                    ).then(function(){\n",
       "                            \n",
       "var gd = document.getElementById('af5a564f-acaf-462d-9bc4-3197916b07cb');\n",
       "var x = new MutationObserver(function (mutations, observer) {{\n",
       "        var display = window.getComputedStyle(gd).display;\n",
       "        if (!display || display === 'none') {{\n",
       "            console.log([gd, 'removed!']);\n",
       "            Plotly.purge(gd);\n",
       "            observer.disconnect();\n",
       "        }}\n",
       "}});\n",
       "\n",
       "// Listen for the removal of the full notebook cells\n",
       "var notebookContainer = gd.closest('#notebook-container');\n",
       "if (notebookContainer) {{\n",
       "    x.observe(notebookContainer, {childList: true});\n",
       "}}\n",
       "\n",
       "// Listen for the clearing of the current output cell\n",
       "var outputEl = gd.closest('.output');\n",
       "if (outputEl) {{\n",
       "    x.observe(outputEl, {childList: true});\n",
       "}}\n",
       "\n",
       "                        })                };                });            </script>        </div>"
      ]
     },
     "metadata": {},
     "output_type": "display_data"
    }
   ],
   "source": [
    "fig = px.scatter(x=sktb['id дома'], y=sktb['ввод в эксплуатацию'])\n",
    "fig.update_layout(title=\"Ввод домов в эксплуатацию по регионам\",\n",
    "                  xaxis_title=\"id дома\",\n",
    "                  yaxis_title=\"Год ввода\",\n",
    "                  margin=dict(l=0, r=0, t=30, b=0))\n",
    "fig.show()"
   ]
  },
  {
   "cell_type": "code",
   "execution_count": 34,
   "metadata": {},
   "outputs": [
    {
     "data": {
      "text/html": [
       "<div>\n",
       "<style scoped>\n",
       "    .dataframe tbody tr th:only-of-type {\n",
       "        vertical-align: middle;\n",
       "    }\n",
       "\n",
       "    .dataframe tbody tr th {\n",
       "        vertical-align: top;\n",
       "    }\n",
       "\n",
       "    .dataframe thead th {\n",
       "        text-align: right;\n",
       "    }\n",
       "</style>\n",
       "<table border=\"1\" class=\"dataframe\">\n",
       "  <thead>\n",
       "    <tr style=\"text-align: right;\">\n",
       "      <th></th>\n",
       "      <th>количество этажей</th>\n",
       "      <th>жилая площадь</th>\n",
       "      <th>количество мест в паркинге</th>\n",
       "      <th>средняя цена за 1 м²</th>\n",
       "    </tr>\n",
       "    <tr>\n",
       "      <th>номер региона</th>\n",
       "      <th></th>\n",
       "      <th></th>\n",
       "      <th></th>\n",
       "      <th></th>\n",
       "    </tr>\n",
       "  </thead>\n",
       "  <tbody>\n",
       "    <tr>\n",
       "      <th>32</th>\n",
       "      <td>11.131148</td>\n",
       "      <td>7863.432623</td>\n",
       "      <td>1.180328</td>\n",
       "      <td>61777.355556</td>\n",
       "    </tr>\n",
       "    <tr>\n",
       "      <th>40</th>\n",
       "      <td>10.375000</td>\n",
       "      <td>6799.588333</td>\n",
       "      <td>15.041667</td>\n",
       "      <td>80812.346154</td>\n",
       "    </tr>\n",
       "    <tr>\n",
       "      <th>67</th>\n",
       "      <td>9.913793</td>\n",
       "      <td>5263.905862</td>\n",
       "      <td>5.327586</td>\n",
       "      <td>52489.180000</td>\n",
       "    </tr>\n",
       "    <tr>\n",
       "      <th>69</th>\n",
       "      <td>11.357143</td>\n",
       "      <td>5763.092024</td>\n",
       "      <td>4.273810</td>\n",
       "      <td>69211.734694</td>\n",
       "    </tr>\n",
       "  </tbody>\n",
       "</table>\n",
       "</div>"
      ],
      "text/plain": [
       "               количество этажей  жилая площадь  количество мест в паркинге  \\\n",
       "номер региона                                                                 \n",
       "32                     11.131148    7863.432623                    1.180328   \n",
       "40                     10.375000    6799.588333                   15.041667   \n",
       "67                      9.913793    5263.905862                    5.327586   \n",
       "69                     11.357143    5763.092024                    4.273810   \n",
       "\n",
       "               средняя цена за 1 м²  \n",
       "номер региона                        \n",
       "32                     61777.355556  \n",
       "40                     80812.346154  \n",
       "67                     52489.180000  \n",
       "69                     69211.734694  "
      ]
     },
     "execution_count": 34,
     "metadata": {},
     "output_type": "execute_result"
    }
   ],
   "source": [
    "# Сравнить этажность домов, количество квартир, жилую площадь, количество парковочных мест\n",
    "# и цену за квадратный метр в разных регионах\n",
    "sktb.groupby(['номер региона'])[['количество этажей', 'жилая площадь','количество мест в паркинге',\n",
    "                                'средняя цена за 1 м²']].mean()"
   ]
  },
  {
   "cell_type": "code",
   "execution_count": 35,
   "metadata": {},
   "outputs": [
    {
     "data": {
      "text/html": [
       "<div>\n",
       "<style scoped>\n",
       "    .dataframe tbody tr th:only-of-type {\n",
       "        vertical-align: middle;\n",
       "    }\n",
       "\n",
       "    .dataframe tbody tr th {\n",
       "        vertical-align: top;\n",
       "    }\n",
       "\n",
       "    .dataframe thead tr th {\n",
       "        text-align: left;\n",
       "    }\n",
       "\n",
       "    .dataframe thead tr:last-of-type th {\n",
       "        text-align: right;\n",
       "    }\n",
       "</style>\n",
       "<table border=\"1\" class=\"dataframe\">\n",
       "  <thead>\n",
       "    <tr>\n",
       "      <th></th>\n",
       "      <th colspan=\"4\" halign=\"left\">количество этажей</th>\n",
       "      <th colspan=\"4\" halign=\"left\">жилая площадь</th>\n",
       "      <th colspan=\"4\" halign=\"left\">количество мест в паркинге</th>\n",
       "      <th colspan=\"4\" halign=\"left\">средняя цена за 1 м²</th>\n",
       "    </tr>\n",
       "    <tr>\n",
       "      <th></th>\n",
       "      <th>min</th>\n",
       "      <th>max</th>\n",
       "      <th>mean</th>\n",
       "      <th>median</th>\n",
       "      <th>min</th>\n",
       "      <th>max</th>\n",
       "      <th>mean</th>\n",
       "      <th>median</th>\n",
       "      <th>min</th>\n",
       "      <th>max</th>\n",
       "      <th>mean</th>\n",
       "      <th>median</th>\n",
       "      <th>min</th>\n",
       "      <th>max</th>\n",
       "      <th>mean</th>\n",
       "      <th>median</th>\n",
       "    </tr>\n",
       "    <tr>\n",
       "      <th>номер региона</th>\n",
       "      <th></th>\n",
       "      <th></th>\n",
       "      <th></th>\n",
       "      <th></th>\n",
       "      <th></th>\n",
       "      <th></th>\n",
       "      <th></th>\n",
       "      <th></th>\n",
       "      <th></th>\n",
       "      <th></th>\n",
       "      <th></th>\n",
       "      <th></th>\n",
       "      <th></th>\n",
       "      <th></th>\n",
       "      <th></th>\n",
       "      <th></th>\n",
       "    </tr>\n",
       "  </thead>\n",
       "  <tbody>\n",
       "    <tr>\n",
       "      <th>32</th>\n",
       "      <td>3</td>\n",
       "      <td>22</td>\n",
       "      <td>11.131148</td>\n",
       "      <td>11.0</td>\n",
       "      <td>1630.05</td>\n",
       "      <td>41571.04</td>\n",
       "      <td>7863.432623</td>\n",
       "      <td>5422.520</td>\n",
       "      <td>0</td>\n",
       "      <td>42</td>\n",
       "      <td>1.180328</td>\n",
       "      <td>0.0</td>\n",
       "      <td>21851.0</td>\n",
       "      <td>89529.0</td>\n",
       "      <td>61777.355556</td>\n",
       "      <td>66983.0</td>\n",
       "    </tr>\n",
       "    <tr>\n",
       "      <th>40</th>\n",
       "      <td>1</td>\n",
       "      <td>26</td>\n",
       "      <td>10.375000</td>\n",
       "      <td>10.0</td>\n",
       "      <td>0.00</td>\n",
       "      <td>29464.60</td>\n",
       "      <td>6799.588333</td>\n",
       "      <td>5592.690</td>\n",
       "      <td>0</td>\n",
       "      <td>300</td>\n",
       "      <td>15.041667</td>\n",
       "      <td>0.0</td>\n",
       "      <td>25897.0</td>\n",
       "      <td>174545.0</td>\n",
       "      <td>80812.346154</td>\n",
       "      <td>83199.5</td>\n",
       "    </tr>\n",
       "    <tr>\n",
       "      <th>67</th>\n",
       "      <td>3</td>\n",
       "      <td>17</td>\n",
       "      <td>9.913793</td>\n",
       "      <td>11.0</td>\n",
       "      <td>439.10</td>\n",
       "      <td>21601.99</td>\n",
       "      <td>5263.905862</td>\n",
       "      <td>4376.365</td>\n",
       "      <td>0</td>\n",
       "      <td>96</td>\n",
       "      <td>5.327586</td>\n",
       "      <td>0.0</td>\n",
       "      <td>15337.0</td>\n",
       "      <td>83941.0</td>\n",
       "      <td>52489.180000</td>\n",
       "      <td>55428.5</td>\n",
       "    </tr>\n",
       "    <tr>\n",
       "      <th>69</th>\n",
       "      <td>1</td>\n",
       "      <td>26</td>\n",
       "      <td>11.357143</td>\n",
       "      <td>11.0</td>\n",
       "      <td>0.00</td>\n",
       "      <td>33422.95</td>\n",
       "      <td>5763.092024</td>\n",
       "      <td>4177.555</td>\n",
       "      <td>0</td>\n",
       "      <td>88</td>\n",
       "      <td>4.273810</td>\n",
       "      <td>0.0</td>\n",
       "      <td>15592.0</td>\n",
       "      <td>118689.0</td>\n",
       "      <td>69211.734694</td>\n",
       "      <td>68879.0</td>\n",
       "    </tr>\n",
       "  </tbody>\n",
       "</table>\n",
       "</div>"
      ],
      "text/plain": [
       "              количество этажей                       жилая площадь            \\\n",
       "                            min max       mean median           min       max   \n",
       "номер региона                                                                   \n",
       "32                            3  22  11.131148   11.0       1630.05  41571.04   \n",
       "40                            1  26  10.375000   10.0          0.00  29464.60   \n",
       "67                            3  17   9.913793   11.0        439.10  21601.99   \n",
       "69                            1  26  11.357143   11.0          0.00  33422.95   \n",
       "\n",
       "                                     количество мест в паркинге       \\\n",
       "                      mean    median                        min  max   \n",
       "номер региона                                                          \n",
       "32             7863.432623  5422.520                          0   42   \n",
       "40             6799.588333  5592.690                          0  300   \n",
       "67             5263.905862  4376.365                          0   96   \n",
       "69             5763.092024  4177.555                          0   88   \n",
       "\n",
       "                                средняя цена за 1 м²                          \\\n",
       "                    mean median                  min       max          mean   \n",
       "номер региона                                                                  \n",
       "32              1.180328    0.0              21851.0   89529.0  61777.355556   \n",
       "40             15.041667    0.0              25897.0  174545.0  80812.346154   \n",
       "67              5.327586    0.0              15337.0   83941.0  52489.180000   \n",
       "69              4.273810    0.0              15592.0  118689.0  69211.734694   \n",
       "\n",
       "                        \n",
       "                median  \n",
       "номер региона           \n",
       "32             66983.0  \n",
       "40             83199.5  \n",
       "67             55428.5  \n",
       "69             68879.0  "
      ]
     },
     "execution_count": 35,
     "metadata": {},
     "output_type": "execute_result"
    }
   ],
   "source": [
    "g4 = sktb.groupby(['номер региона'])[['количество этажей', 'жилая площадь','количество мест в паркинге',\n",
    "                                'средняя цена за 1 м²']].agg(['min', 'max', 'mean', 'median'])\n",
    "g4"
   ]
  },
  {
   "cell_type": "code",
   "execution_count": 36,
   "metadata": {},
   "outputs": [
    {
     "data": {
      "image/png": "[encoded data removed]",
      "text/plain": [
       "<Figure size 576x288 with 1 Axes>"
      ]
     },
     "metadata": {
      "needs_background": "light"
     },
     "output_type": "display_data"
    }
   ],
   "source": [
    "sns.catplot(\n",
    "    x='номер региона', \n",
    "    y='количество квартир', \n",
    "    data=sktb, \n",
    "    kind='box', \n",
    "    height=4, \n",
    "    aspect=2\n",
    "); "
   ]
  },
  {
   "cell_type": "code",
   "execution_count": 37,
   "metadata": {},
   "outputs": [
    {
     "data": {
      "image/png": "[encoded data removed]",
      "text/plain": [
       "<Figure size 576x288 with 1 Axes>"
      ]
     },
     "metadata": {
      "needs_background": "light"
     },
     "output_type": "display_data"
    }
   ],
   "source": [
    "sns.catplot(\n",
    "    x='номер региона', \n",
    "    y='жилая площадь', \n",
    "    data=sktb, \n",
    "    kind='box', \n",
    "    height=4, \n",
    "    aspect=2\n",
    "); "
   ]
  },
  {
   "cell_type": "code",
   "execution_count": 38,
   "metadata": {},
   "outputs": [
    {
     "data": {
      "image/png": "[encoded data removed]",
      "text/plain": [
       "<Figure size 576x288 with 1 Axes>"
      ]
     },
     "metadata": {
      "needs_background": "light"
     },
     "output_type": "display_data"
    }
   ],
   "source": [
    "sns.catplot(\n",
    "    x='номер региона', \n",
    "    y='средняя цена за 1 м²', \n",
    "    data=sktb, \n",
    "    kind='box', \n",
    "    height=4, \n",
    "    aspect=2\n",
    "); "
   ]
  }
 ],
 "metadata": {
  "kernelspec": {
   "display_name": "Python 3 (ipykernel)",
   "language": "python",
   "name": "python3"
  },
  "language_info": {
   "codemirror_mode": {
    "name": "ipython",
    "version": 3
   },
   "file_extension": ".py",
   "mimetype": "text/x-python",
   "name": "python",
   "nbconvert_exporter": "python",
   "pygments_lexer": "ipython3",
   "version": "3.9.12"
  }
 },
 "nbformat": 4,
 "nbformat_minor": 1
}
