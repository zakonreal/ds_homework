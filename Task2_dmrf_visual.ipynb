{
 "cells": [
  {
   "cell_type": "markdown",
   "metadata": {
    "pycharm": {
     "name": "#%% md\n"
    }
   },
   "source": [
    "[![Open In Colab](https://colab.research.google.com/assets/colab-badge.svg)](https://colab.research.google.com/github/ds-reboot/python-first-part/blob/main/notebooks/hometasks/Task2_dmrf_visual.ipynb)"
   ]
  },
  {
   "cell_type": "markdown",
   "metadata": {
    "pycharm": {
     "name": "#%% md\n"
    }
   },
   "source": [
    "# Задание\n",
    "* Собрать информацию о всех строящихся объектах на сайте \"наш.дом.рф\"\n",
    "* Cохранить результаты в pandas dataframe\n",
    "<hr>\n",
    "\n",
    "* Проверить состояние датафрейма и привести его в формат, позволяющий дальнейшее исследование данных:\n",
    "-- Привести колонки датафрейма к одному типу данных\n",
    "-- Проверить индекс, чтобы он соответствовал порядку строк\n",
    "-- Проверить наличие пропусков и в случае обнаружения, определить стратегию их обработки\n",
    "<hr>\n",
    "\n",
    "* Провести мини-исследование рынка строящейся недвижимости в одном или нескольких регионах с помощью pandas, matplotlib, seaborn, plotly и других инструментов.\n",
    "-- Рассчитать средние цены за квадратный метр по регионам. Важно чтобы пропуски не учитывались при расчете средней цены.\n",
    "-- Рассчитать объемы вводимого жилья по регионам и по годам.\n",
    "-- Сравнить этажность домов, количество квартир, жилую площадь, количество парковочных мест и цену за квадратный метр в разных регионах\n",
    "-- Визуализировать разброс, связь и распределение этих показателей по регионам\n",
    "-- Сделать выводы по каждому из расчетов и графиков\n",
    "\n"
   ]
  },
  {
   "cell_type": "code",
   "execution_count": 61,
   "metadata": {
    "pycharm": {
     "name": "#%%\n"
    }
   },
   "outputs": [],
   "source": [
    "import requests\n",
    "import os\n",
    "import csv\n",
    "import pandas as pd\n",
    "from tqdm.auto import tqdm\n",
    "from bs4 import BeautifulSoup as bs\n",
    "from urllib.parse import urljoin, urlparse\n",
    "import datetime\n",
    "from datetime import datetime, date\n",
    "import matplotlib.pyplot as plt\n",
    "import seaborn as sns\n",
    "import plotly.express as px\n",
    "import plotly.graph_objs as go\n",
    "\n",
    "import warnings\n",
    "warnings.filterwarnings('ignore')"
   ]
  },
  {
   "cell_type": "code",
   "execution_count": 2,
   "metadata": {},
   "outputs": [],
   "source": [
    "# установим параметры экрана\n",
    "# pd.set_option('display.max_rows', 10)\n",
    "pd.set_option('display.max_columns', None)\n",
    "# pd.set_option('display.max_colwidth', None)"
   ]
  },
  {
   "cell_type": "markdown",
   "metadata": {
    "pycharm": {
     "name": "#%% md\n"
    }
   },
   "source": [
    "## Список объектов"
   ]
  },
  {
   "cell_type": "code",
   "execution_count": 3,
   "metadata": {
    "pycharm": {
     "name": "#%%\n"
    }
   },
   "outputs": [],
   "source": [
    "# offset_ = 1\n",
    "# limit_ = 1000\n",
    "# url = f'https://xn--80az8a.xn--d1aqf.xn--p1ai/%D1%81%D0%B5%D1%80%D0%B2%D0%B8%D1%81%D1%8B/api/kn/object?offset={offset_}&limit={limit_}&sortField=devId.devShortCleanNm&sortType=asc&objStatus=0'\n",
    "# res = requests.get(url)\n",
    "# objects_data = res.json()"
   ]
  },
  {
   "cell_type": "code",
   "execution_count": 4,
   "metadata": {},
   "outputs": [
    {
     "data": {
      "text/html": [
       "<div>\n",
       "<style scoped>\n",
       "    .dataframe tbody tr th:only-of-type {\n",
       "        vertical-align: middle;\n",
       "    }\n",
       "\n",
       "    .dataframe tbody tr th {\n",
       "        vertical-align: top;\n",
       "    }\n",
       "\n",
       "    .dataframe thead th {\n",
       "        text-align: right;\n",
       "    }\n",
       "</style>\n",
       "<table border=\"1\" class=\"dataframe\">\n",
       "  <thead>\n",
       "    <tr style=\"text-align: right;\">\n",
       "      <th></th>\n",
       "      <th>objId</th>\n",
       "      <th>developer</th>\n",
       "      <th>rpdRegionCd</th>\n",
       "      <th>objAddr</th>\n",
       "      <th>objElemLivingCnt</th>\n",
       "      <th>objReady100PercDt</th>\n",
       "      <th>objSquareLiving</th>\n",
       "      <th>objCompensFundFlg</th>\n",
       "      <th>objProblemFlg</th>\n",
       "      <th>latitude</th>\n",
       "      <th>longitude</th>\n",
       "      <th>problemFlag</th>\n",
       "      <th>siteStatus</th>\n",
       "      <th>objGuarantyEscrowFlg</th>\n",
       "      <th>residentialBuildings</th>\n",
       "      <th>rpdNum</th>\n",
       "      <th>pdId</th>\n",
       "      <th>buildType</th>\n",
       "      <th>objStatus</th>\n",
       "      <th>objFloorMin</th>\n",
       "      <th>objFloorMax</th>\n",
       "      <th>objCommercNm</th>\n",
       "      <th>complexShortName</th>\n",
       "    </tr>\n",
       "  </thead>\n",
       "  <tbody>\n",
       "    <tr>\n",
       "      <th>0</th>\n",
       "      <td>29679</td>\n",
       "      <td>212-2</td>\n",
       "      <td>61</td>\n",
       "      <td>г Таганрог</td>\n",
       "      <td>18</td>\n",
       "      <td>2020-03-31</td>\n",
       "      <td>1519.00</td>\n",
       "      <td>0</td>\n",
       "      <td>0</td>\n",
       "      <td>47.2238</td>\n",
       "      <td>38.8513</td>\n",
       "      <td>NONE</td>\n",
       "      <td>Строящиеся</td>\n",
       "      <td>0</td>\n",
       "      <td>1</td>\n",
       "      <td>61-000818</td>\n",
       "      <td>124647</td>\n",
       "      <td>Жилое</td>\n",
       "      <td>0</td>\n",
       "      <td>NaN</td>\n",
       "      <td>NaN</td>\n",
       "      <td>NaN</td>\n",
       "      <td>NaN</td>\n",
       "    </tr>\n",
       "    <tr>\n",
       "      <th>1</th>\n",
       "      <td>13383</td>\n",
       "      <td>2МЕН ГРУПП</td>\n",
       "      <td>72</td>\n",
       "      <td>г Тюмень</td>\n",
       "      <td>68</td>\n",
       "      <td>2022-12-31</td>\n",
       "      <td>6293.78</td>\n",
       "      <td>1</td>\n",
       "      <td>0</td>\n",
       "      <td>57.1519</td>\n",
       "      <td>65.5536</td>\n",
       "      <td>NONE</td>\n",
       "      <td>Строящиеся</td>\n",
       "      <td>0</td>\n",
       "      <td>1</td>\n",
       "      <td>72-000095</td>\n",
       "      <td>28105</td>\n",
       "      <td>Жилое</td>\n",
       "      <td>0</td>\n",
       "      <td>4.0</td>\n",
       "      <td>20.0</td>\n",
       "      <td>NaN</td>\n",
       "      <td>NaN</td>\n",
       "    </tr>\n",
       "    <tr>\n",
       "      <th>2</th>\n",
       "      <td>13397</td>\n",
       "      <td>2МЕН ГРУПП</td>\n",
       "      <td>72</td>\n",
       "      <td>г Тюмень, ул Профсоюзная, д. 56</td>\n",
       "      <td>65</td>\n",
       "      <td>2024-12-31</td>\n",
       "      <td>6248.51</td>\n",
       "      <td>0</td>\n",
       "      <td>0</td>\n",
       "      <td>57.1519</td>\n",
       "      <td>65.5544</td>\n",
       "      <td>NONE</td>\n",
       "      <td>Строящиеся</td>\n",
       "      <td>0</td>\n",
       "      <td>1</td>\n",
       "      <td>72-000097</td>\n",
       "      <td>28141</td>\n",
       "      <td>Жилое</td>\n",
       "      <td>0</td>\n",
       "      <td>6.0</td>\n",
       "      <td>12.0</td>\n",
       "      <td>NaN</td>\n",
       "      <td>NaN</td>\n",
       "    </tr>\n",
       "    <tr>\n",
       "      <th>3</th>\n",
       "      <td>13399</td>\n",
       "      <td>2МЕН ГРУПП</td>\n",
       "      <td>72</td>\n",
       "      <td>г Тюмень, ул Профсоюзная, д. 56</td>\n",
       "      <td>0</td>\n",
       "      <td>2024-12-31</td>\n",
       "      <td>0.00</td>\n",
       "      <td>0</td>\n",
       "      <td>0</td>\n",
       "      <td>57.1519</td>\n",
       "      <td>65.5544</td>\n",
       "      <td>NONE</td>\n",
       "      <td>Строящиеся</td>\n",
       "      <td>0</td>\n",
       "      <td>0</td>\n",
       "      <td>72-000097</td>\n",
       "      <td>28141</td>\n",
       "      <td>Нежилое</td>\n",
       "      <td>0</td>\n",
       "      <td>1.0</td>\n",
       "      <td>1.0</td>\n",
       "      <td>NaN</td>\n",
       "      <td>NaN</td>\n",
       "    </tr>\n",
       "    <tr>\n",
       "      <th>4</th>\n",
       "      <td>13398</td>\n",
       "      <td>2МЕН ГРУПП</td>\n",
       "      <td>72</td>\n",
       "      <td>г Тюмень, ул Профсоюзная, д. 56</td>\n",
       "      <td>43</td>\n",
       "      <td>2024-12-31</td>\n",
       "      <td>4812.98</td>\n",
       "      <td>0</td>\n",
       "      <td>0</td>\n",
       "      <td>57.1519</td>\n",
       "      <td>65.5544</td>\n",
       "      <td>NONE</td>\n",
       "      <td>Строящиеся</td>\n",
       "      <td>0</td>\n",
       "      <td>1</td>\n",
       "      <td>72-000097</td>\n",
       "      <td>28141</td>\n",
       "      <td>Жилое</td>\n",
       "      <td>0</td>\n",
       "      <td>7.0</td>\n",
       "      <td>10.0</td>\n",
       "      <td>NaN</td>\n",
       "      <td>NaN</td>\n",
       "    </tr>\n",
       "  </tbody>\n",
       "</table>\n",
       "</div>"
      ],
      "text/plain": [
       "   objId   developer  rpdRegionCd                          objAddr  \\\n",
       "0  29679       212-2           61                       г Таганрог   \n",
       "1  13383  2МЕН ГРУПП           72                         г Тюмень   \n",
       "2  13397  2МЕН ГРУПП           72  г Тюмень, ул Профсоюзная, д. 56   \n",
       "3  13399  2МЕН ГРУПП           72  г Тюмень, ул Профсоюзная, д. 56   \n",
       "4  13398  2МЕН ГРУПП           72  г Тюмень, ул Профсоюзная, д. 56   \n",
       "\n",
       "   objElemLivingCnt objReady100PercDt  objSquareLiving  objCompensFundFlg  \\\n",
       "0                18        2020-03-31          1519.00                  0   \n",
       "1                68        2022-12-31          6293.78                  1   \n",
       "2                65        2024-12-31          6248.51                  0   \n",
       "3                 0        2024-12-31             0.00                  0   \n",
       "4                43        2024-12-31          4812.98                  0   \n",
       "\n",
       "   objProblemFlg  latitude  longitude problemFlag  siteStatus  \\\n",
       "0              0   47.2238    38.8513        NONE  Строящиеся   \n",
       "1              0   57.1519    65.5536        NONE  Строящиеся   \n",
       "2              0   57.1519    65.5544        NONE  Строящиеся   \n",
       "3              0   57.1519    65.5544        NONE  Строящиеся   \n",
       "4              0   57.1519    65.5544        NONE  Строящиеся   \n",
       "\n",
       "   objGuarantyEscrowFlg  residentialBuildings     rpdNum    pdId buildType  \\\n",
       "0                     0                     1  61-000818  124647     Жилое   \n",
       "1                     0                     1  72-000095   28105     Жилое   \n",
       "2                     0                     1  72-000097   28141     Жилое   \n",
       "3                     0                     0  72-000097   28141   Нежилое   \n",
       "4                     0                     1  72-000097   28141     Жилое   \n",
       "\n",
       "   objStatus  objFloorMin  objFloorMax objCommercNm complexShortName  \n",
       "0          0          NaN          NaN          NaN              NaN  \n",
       "1          0          4.0         20.0          NaN              NaN  \n",
       "2          0          6.0         12.0          NaN              NaN  \n",
       "3          0          1.0          1.0          NaN              NaN  \n",
       "4          0          7.0         10.0          NaN              NaN  "
      ]
     },
     "execution_count": 4,
     "metadata": {},
     "output_type": "execute_result"
    }
   ],
   "source": [
    "# загрузим датасет из ДЗ1\n",
    "df = pd.read_csv('nash-dom-rf.csv')\n",
    "df.head(5)"
   ]
  },
  {
   "cell_type": "markdown",
   "metadata": {
    "pycharm": {
     "name": "#%% md\n"
    }
   },
   "source": [
    "# Данные по определенному объекту"
   ]
  },
  {
   "cell_type": "code",
   "execution_count": 5,
   "metadata": {
    "pycharm": {
     "name": "#%%\n"
    }
   },
   "outputs": [],
   "source": [
    "# url = f'https://xn--80az8a.xn--d1aqf.xn--p1ai/%D1%81%D0%B5%D1%80%D0%B2%D0%B8%D1%81%D1%8B/api/object/36774'"
   ]
  },
  {
   "cell_type": "code",
   "execution_count": 6,
   "metadata": {
    "pycharm": {
     "name": "#%%\n"
    },
    "scrolled": false
   },
   "outputs": [
    {
     "data": {
      "text/html": [
       "<div>\n",
       "<style scoped>\n",
       "    .dataframe tbody tr th:only-of-type {\n",
       "        vertical-align: middle;\n",
       "    }\n",
       "\n",
       "    .dataframe tbody tr th {\n",
       "        vertical-align: top;\n",
       "    }\n",
       "\n",
       "    .dataframe thead th {\n",
       "        text-align: right;\n",
       "    }\n",
       "</style>\n",
       "<table border=\"1\" class=\"dataframe\">\n",
       "  <thead>\n",
       "    <tr style=\"text-align: right;\">\n",
       "      <th></th>\n",
       "      <th>id</th>\n",
       "      <th>pdId</th>\n",
       "      <th>region</th>\n",
       "      <th>address</th>\n",
       "      <th>objElemLivingCnt</th>\n",
       "      <th>objReady100PercDt</th>\n",
       "      <th>wallMaterialShortDesc</th>\n",
       "      <th>objLkFinishTypeDesc</th>\n",
       "      <th>objLkFreePlanDesc</th>\n",
       "      <th>objElemParkingCnt</th>\n",
       "      <th>objSquareLiving</th>\n",
       "      <th>rpdNum</th>\n",
       "      <th>rpdPdfLink</th>\n",
       "      <th>rpdIssueDttm</th>\n",
       "      <th>objLkLatitude</th>\n",
       "      <th>objLkLongitude</th>\n",
       "      <th>objCompensFundFlg</th>\n",
       "      <th>objProblemFlg</th>\n",
       "      <th>objLkClassDesc</th>\n",
       "      <th>loadDttm</th>\n",
       "      <th>photoRenderDTO</th>\n",
       "      <th>objGuarantyEscrowFlg</th>\n",
       "      <th>objectType</th>\n",
       "      <th>residentialBuildings</th>\n",
       "      <th>newBuildingId</th>\n",
       "      <th>objFlatCnt</th>\n",
       "      <th>objFlatSq</th>\n",
       "      <th>objNonlivElemCnt</th>\n",
       "      <th>objStatus</th>\n",
       "      <th>isAvailableWantLiveHere</th>\n",
       "      <th>objInfrstrBicycleLaneFlg</th>\n",
       "      <th>objInfrstrRampFlg</th>\n",
       "      <th>objInfrstrCurbLoweringFlg</th>\n",
       "      <th>objectTransportInfo</th>\n",
       "      <th>conclusion</th>\n",
       "      <th>objGreenHouseFlg</th>\n",
       "      <th>objEnergyEffShortDesc</th>\n",
       "      <th>infrastructureIndexValue</th>\n",
       "      <th>developer.devId</th>\n",
       "      <th>developer.devShortCleanNm</th>\n",
       "      <th>developer.devShortNm</th>\n",
       "      <th>developer.devFullCleanNm</th>\n",
       "      <th>developer.problObjCnt</th>\n",
       "      <th>developer.buildObjCnt</th>\n",
       "      <th>developer.comissObjCnt</th>\n",
       "      <th>developer.regRegionDesc</th>\n",
       "      <th>developer.devPhoneNum</th>\n",
       "      <th>developer.devSite</th>\n",
       "      <th>developer.devEmail</th>\n",
       "      <th>developer.devInn</th>\n",
       "      <th>developer.devOgrn</th>\n",
       "      <th>developer.devKpp</th>\n",
       "      <th>developer.devLegalAddr</th>\n",
       "      <th>developer.devFactAddr</th>\n",
       "      <th>developer.lastRpdId</th>\n",
       "      <th>developer.fundGuarantyFlg</th>\n",
       "      <th>developer.devOrgRegRegionCd</th>\n",
       "      <th>developer.devEmplMainFullNm</th>\n",
       "      <th>developer.orgForm.id</th>\n",
       "      <th>developer.orgForm.fullForm</th>\n",
       "      <th>developer.orgForm.shortForm</th>\n",
       "      <th>developer.objGuarantyEscrowFlg</th>\n",
       "      <th>developer.govFundFlg</th>\n",
       "      <th>floorMin</th>\n",
       "      <th>floorMax</th>\n",
       "      <th>miniUrl</th>\n",
       "      <th>objFloorCnt</th>\n",
       "      <th>objTransferPlanDt</th>\n",
       "      <th>objLivCeilingHeight</th>\n",
       "      <th>objInfrstrPlaygrndCnt</th>\n",
       "      <th>objInfrstrSportGroundCnt</th>\n",
       "      <th>objInfrstrTrashAreaCnt</th>\n",
       "      <th>objInfrstrObjPrkngCnt</th>\n",
       "      <th>objInfrstrNotObjPrkngCnt</th>\n",
       "      <th>objElevatorWheelchairCnt</th>\n",
       "      <th>objElevatorPassengerCnt</th>\n",
       "      <th>objElevatorCargoCnt</th>\n",
       "      <th>soldOutPerc</th>\n",
       "      <th>objPriceAvg</th>\n",
       "      <th>generalContractorNm</th>\n",
       "      <th>nonlivFirstFloor</th>\n",
       "      <th>objLkSaleDepEmail</th>\n",
       "      <th>developer.developerGroupName</th>\n",
       "      <th>developer.companyGroupId</th>\n",
       "      <th>quartography.objLivElem1KCnt</th>\n",
       "      <th>quartography.objLivElem2KCnt</th>\n",
       "      <th>quartography.objLivElem3KCnt</th>\n",
       "      <th>quartography.objLivElem4KCnt</th>\n",
       "      <th>quartography.objLivElemCnt</th>\n",
       "      <th>quartography.objLivElemEntrCnt</th>\n",
       "      <th>quartography.objLivElemEntrFloorAvg</th>\n",
       "      <th>transportDistIndex</th>\n",
       "      <th>transportDistIndexValue</th>\n",
       "      <th>nameObj</th>\n",
       "      <th>greenAreaIndexValue</th>\n",
       "      <th>airQualityIndexValue</th>\n",
       "      <th>complexShortNm</th>\n",
       "      <th>developer.bankruptStage.bankruptStageCd</th>\n",
       "      <th>developer.bankruptStage.bankruptStageDesc</th>\n",
       "      <th>developer.bankruptStage.bankruptLawUrl</th>\n",
       "      <th>developer.orgBankruptMsgDttm</th>\n",
       "      <th>metro.id</th>\n",
       "      <th>metro.name</th>\n",
       "      <th>metro.line</th>\n",
       "      <th>metro.color</th>\n",
       "      <th>metro.time</th>\n",
       "      <th>metro.isWalk</th>\n",
       "      <th>metro.colors</th>\n",
       "    </tr>\n",
       "  </thead>\n",
       "  <tbody>\n",
       "    <tr>\n",
       "      <th>0</th>\n",
       "      <td>29679</td>\n",
       "      <td>124647</td>\n",
       "      <td>61</td>\n",
       "      <td>г Таганрог</td>\n",
       "      <td>18</td>\n",
       "      <td>2020-03-31</td>\n",
       "      <td>Другое</td>\n",
       "      <td>Под ключ</td>\n",
       "      <td>Есть</td>\n",
       "      <td>0</td>\n",
       "      <td>1519.00</td>\n",
       "      <td>61-000818</td>\n",
       "      <td>https://xn--80az8a.xn--d1aqf.xn--p1ai/api/ext/...</td>\n",
       "      <td>20-03-2019 18:41</td>\n",
       "      <td>47.2238</td>\n",
       "      <td>38.8513</td>\n",
       "      <td>0</td>\n",
       "      <td>0</td>\n",
       "      <td>Комфорт</td>\n",
       "      <td>13-09-2022 01:29</td>\n",
       "      <td>[]</td>\n",
       "      <td>0</td>\n",
       "      <td>normal</td>\n",
       "      <td>1</td>\n",
       "      <td>40800</td>\n",
       "      <td>18</td>\n",
       "      <td>1519.00</td>\n",
       "      <td>0</td>\n",
       "      <td>0</td>\n",
       "      <td>True</td>\n",
       "      <td>0</td>\n",
       "      <td>0</td>\n",
       "      <td>0</td>\n",
       "      <td>[]</td>\n",
       "      <td>False</td>\n",
       "      <td>0</td>\n",
       "      <td>Не нормируется</td>\n",
       "      <td>7.0</td>\n",
       "      <td>7424</td>\n",
       "      <td>212-2</td>\n",
       "      <td>212-2</td>\n",
       "      <td>212-2</td>\n",
       "      <td>0</td>\n",
       "      <td>1</td>\n",
       "      <td>0</td>\n",
       "      <td>Ростовская область</td>\n",
       "      <td>+7(961)285-90-10</td>\n",
       "      <td>taganrogjsk.wixsite.com</td>\n",
       "      <td>kirpol76@gmail.com</td>\n",
       "      <td>6154572922</td>\n",
       "      <td>1116154005923</td>\n",
       "      <td>615401001</td>\n",
       "      <td>Ростовская область, город Таганрог, улица Своб...</td>\n",
       "      <td>обл Ростовская город Таганрог улица Сергея Шил...</td>\n",
       "      <td>126093.0</td>\n",
       "      <td>0</td>\n",
       "      <td>61.0</td>\n",
       "      <td>Снимщикова Ольга Викторовна</td>\n",
       "      <td>20</td>\n",
       "      <td>Жилищный или жилищно-строительный кооператив</td>\n",
       "      <td>ЖСК</td>\n",
       "      <td>0</td>\n",
       "      <td>0</td>\n",
       "      <td>NaN</td>\n",
       "      <td>NaN</td>\n",
       "      <td>NaN</td>\n",
       "      <td>NaN</td>\n",
       "      <td>NaN</td>\n",
       "      <td>NaN</td>\n",
       "      <td>NaN</td>\n",
       "      <td>NaN</td>\n",
       "      <td>NaN</td>\n",
       "      <td>NaN</td>\n",
       "      <td>NaN</td>\n",
       "      <td>NaN</td>\n",
       "      <td>NaN</td>\n",
       "      <td>NaN</td>\n",
       "      <td>NaN</td>\n",
       "      <td>NaN</td>\n",
       "      <td>NaN</td>\n",
       "      <td>NaN</td>\n",
       "      <td>NaN</td>\n",
       "      <td>NaN</td>\n",
       "      <td>NaN</td>\n",
       "      <td>NaN</td>\n",
       "      <td>NaN</td>\n",
       "      <td>NaN</td>\n",
       "      <td>NaN</td>\n",
       "      <td>NaN</td>\n",
       "      <td>NaN</td>\n",
       "      <td>NaN</td>\n",
       "      <td>NaN</td>\n",
       "      <td>NaN</td>\n",
       "      <td>NaN</td>\n",
       "      <td>NaN</td>\n",
       "      <td>NaN</td>\n",
       "      <td>NaN</td>\n",
       "      <td>NaN</td>\n",
       "      <td>NaN</td>\n",
       "      <td>NaN</td>\n",
       "      <td>NaN</td>\n",
       "      <td>NaN</td>\n",
       "      <td>NaN</td>\n",
       "      <td>NaN</td>\n",
       "      <td>NaN</td>\n",
       "      <td>NaN</td>\n",
       "      <td>NaN</td>\n",
       "      <td>NaN</td>\n",
       "    </tr>\n",
       "    <tr>\n",
       "      <th>1</th>\n",
       "      <td>13383</td>\n",
       "      <td>28105</td>\n",
       "      <td>72</td>\n",
       "      <td>г Тюмень</td>\n",
       "      <td>68</td>\n",
       "      <td>2022-12-31</td>\n",
       "      <td>Другое</td>\n",
       "      <td>По желанию заказчика</td>\n",
       "      <td>Есть</td>\n",
       "      <td>31</td>\n",
       "      <td>6293.78</td>\n",
       "      <td>72-000095</td>\n",
       "      <td>https://xn--80az8a.xn--d1aqf.xn--p1ai/api/ext/...</td>\n",
       "      <td>07-09-2022 15:16</td>\n",
       "      <td>57.1519</td>\n",
       "      <td>65.5536</td>\n",
       "      <td>1</td>\n",
       "      <td>0</td>\n",
       "      <td>Элитный</td>\n",
       "      <td>13-09-2022 01:29</td>\n",
       "      <td>[{'objId': 13383, 'pdId': 28105, 'rpdId': 6269...</td>\n",
       "      <td>0</td>\n",
       "      <td>normal</td>\n",
       "      <td>1</td>\n",
       "      <td>39024</td>\n",
       "      <td>68</td>\n",
       "      <td>6293.78</td>\n",
       "      <td>10</td>\n",
       "      <td>0</td>\n",
       "      <td>True</td>\n",
       "      <td>0</td>\n",
       "      <td>1</td>\n",
       "      <td>1</td>\n",
       "      <td>[]</td>\n",
       "      <td>False</td>\n",
       "      <td>0</td>\n",
       "      <td>B</td>\n",
       "      <td>10.0</td>\n",
       "      <td>306</td>\n",
       "      <td>2МЕН ГРУПП</td>\n",
       "      <td>2МЕН ГРУПП</td>\n",
       "      <td>2МЕН ГРУПП</td>\n",
       "      <td>0</td>\n",
       "      <td>5</td>\n",
       "      <td>0</td>\n",
       "      <td>Тюменская область</td>\n",
       "      <td>+7(345)279-18-88</td>\n",
       "      <td>2mengroup.ru</td>\n",
       "      <td>info@2mengroup.ru</td>\n",
       "      <td>7701651356</td>\n",
       "      <td>1067746424899</td>\n",
       "      <td>720301001</td>\n",
       "      <td>Тюменская область, город Тюмень, улица Комсомо...</td>\n",
       "      <td>Тюменская область, город Тюмень, улица Комсомо...</td>\n",
       "      <td>632865.0</td>\n",
       "      <td>1</td>\n",
       "      <td>72.0</td>\n",
       "      <td>Киселев Сергей Михайлович</td>\n",
       "      <td>1</td>\n",
       "      <td>Акционерное общество</td>\n",
       "      <td>АО</td>\n",
       "      <td>0</td>\n",
       "      <td>0</td>\n",
       "      <td>4.0</td>\n",
       "      <td>20.0</td>\n",
       "      <td>https://xn--80az8a.xn--d1aqf.xn--p1ai/api/ext/...</td>\n",
       "      <td>20.0</td>\n",
       "      <td>28-02-2023 12:00</td>\n",
       "      <td>2,8</td>\n",
       "      <td>1.0</td>\n",
       "      <td>1.0</td>\n",
       "      <td>1.0</td>\n",
       "      <td>0.0</td>\n",
       "      <td>11.0</td>\n",
       "      <td>0.0</td>\n",
       "      <td>5.0</td>\n",
       "      <td>1.0</td>\n",
       "      <td>0.407164</td>\n",
       "      <td>53109.0</td>\n",
       "      <td>ООО Транспромжилстрой-2005 (ИНН: 7204097730)</td>\n",
       "      <td>1.0</td>\n",
       "      <td>info@2mengroup.ru</td>\n",
       "      <td>2МЕН ГРУПП ДЕВЕЛОПМЕНТ</td>\n",
       "      <td>5776.0</td>\n",
       "      <td>13.0</td>\n",
       "      <td>21.0</td>\n",
       "      <td>34.0</td>\n",
       "      <td>0.0</td>\n",
       "      <td>68.0</td>\n",
       "      <td>1.0</td>\n",
       "      <td>6.0</td>\n",
       "      <td>NaN</td>\n",
       "      <td>NaN</td>\n",
       "      <td>NaN</td>\n",
       "      <td>NaN</td>\n",
       "      <td>NaN</td>\n",
       "      <td>NaN</td>\n",
       "      <td>NaN</td>\n",
       "      <td>NaN</td>\n",
       "      <td>NaN</td>\n",
       "      <td>NaN</td>\n",
       "      <td>NaN</td>\n",
       "      <td>NaN</td>\n",
       "      <td>NaN</td>\n",
       "      <td>NaN</td>\n",
       "      <td>NaN</td>\n",
       "      <td>NaN</td>\n",
       "      <td>NaN</td>\n",
       "    </tr>\n",
       "    <tr>\n",
       "      <th>2</th>\n",
       "      <td>13397</td>\n",
       "      <td>28141</td>\n",
       "      <td>72</td>\n",
       "      <td>г Тюмень, ул Профсоюзная, д. 56</td>\n",
       "      <td>65</td>\n",
       "      <td>2024-12-31</td>\n",
       "      <td>Другое</td>\n",
       "      <td>Без отделки</td>\n",
       "      <td>Нет</td>\n",
       "      <td>0</td>\n",
       "      <td>6248.51</td>\n",
       "      <td>72-000097</td>\n",
       "      <td>https://xn--80az8a.xn--d1aqf.xn--p1ai/api/ext/...</td>\n",
       "      <td>07-09-2022 15:20</td>\n",
       "      <td>57.1519</td>\n",
       "      <td>65.5544</td>\n",
       "      <td>0</td>\n",
       "      <td>0</td>\n",
       "      <td>Элитный</td>\n",
       "      <td>13-09-2022 01:29</td>\n",
       "      <td>[{'objId': 13397, 'pdId': 28141, 'rpdId': 6328...</td>\n",
       "      <td>0</td>\n",
       "      <td>normal</td>\n",
       "      <td>1</td>\n",
       "      <td>37201</td>\n",
       "      <td>65</td>\n",
       "      <td>6248.51</td>\n",
       "      <td>70</td>\n",
       "      <td>0</td>\n",
       "      <td>True</td>\n",
       "      <td>0</td>\n",
       "      <td>1</td>\n",
       "      <td>1</td>\n",
       "      <td>[]</td>\n",
       "      <td>False</td>\n",
       "      <td>0</td>\n",
       "      <td>B</td>\n",
       "      <td>10.0</td>\n",
       "      <td>306</td>\n",
       "      <td>2МЕН ГРУПП</td>\n",
       "      <td>2МЕН ГРУПП</td>\n",
       "      <td>2МЕН ГРУПП</td>\n",
       "      <td>0</td>\n",
       "      <td>5</td>\n",
       "      <td>0</td>\n",
       "      <td>Тюменская область</td>\n",
       "      <td>+7(345)279-18-88</td>\n",
       "      <td>2mengroup.ru</td>\n",
       "      <td>info@2mengroup.ru</td>\n",
       "      <td>7701651356</td>\n",
       "      <td>1067746424899</td>\n",
       "      <td>720301001</td>\n",
       "      <td>Тюменская область, город Тюмень, улица Комсомо...</td>\n",
       "      <td>Тюменская область, город Тюмень, улица Комсомо...</td>\n",
       "      <td>632865.0</td>\n",
       "      <td>1</td>\n",
       "      <td>72.0</td>\n",
       "      <td>Киселев Сергей Михайлович</td>\n",
       "      <td>1</td>\n",
       "      <td>Акционерное общество</td>\n",
       "      <td>АО</td>\n",
       "      <td>0</td>\n",
       "      <td>0</td>\n",
       "      <td>6.0</td>\n",
       "      <td>12.0</td>\n",
       "      <td>https://xn--80az8a.xn--d1aqf.xn--p1ai/api/ext/...</td>\n",
       "      <td>12.0</td>\n",
       "      <td>28-02-2025 12:00</td>\n",
       "      <td>2,96</td>\n",
       "      <td>1.0</td>\n",
       "      <td>1.0</td>\n",
       "      <td>1.0</td>\n",
       "      <td>11.0</td>\n",
       "      <td>10.0</td>\n",
       "      <td>0.0</td>\n",
       "      <td>5.0</td>\n",
       "      <td>4.0</td>\n",
       "      <td>0.999984</td>\n",
       "      <td>45523.0</td>\n",
       "      <td>ООО Транспромжилстрой-2005 (ИНН: 7204097730)</td>\n",
       "      <td>0.0</td>\n",
       "      <td>info@2mengroup.ru</td>\n",
       "      <td>2МЕН ГРУПП ДЕВЕЛОПМЕНТ</td>\n",
       "      <td>5776.0</td>\n",
       "      <td>0.0</td>\n",
       "      <td>24.0</td>\n",
       "      <td>35.0</td>\n",
       "      <td>6.0</td>\n",
       "      <td>65.0</td>\n",
       "      <td>4.0</td>\n",
       "      <td>3.0</td>\n",
       "      <td>NaN</td>\n",
       "      <td>NaN</td>\n",
       "      <td>NaN</td>\n",
       "      <td>NaN</td>\n",
       "      <td>NaN</td>\n",
       "      <td>NaN</td>\n",
       "      <td>NaN</td>\n",
       "      <td>NaN</td>\n",
       "      <td>NaN</td>\n",
       "      <td>NaN</td>\n",
       "      <td>NaN</td>\n",
       "      <td>NaN</td>\n",
       "      <td>NaN</td>\n",
       "      <td>NaN</td>\n",
       "      <td>NaN</td>\n",
       "      <td>NaN</td>\n",
       "      <td>NaN</td>\n",
       "    </tr>\n",
       "    <tr>\n",
       "      <th>3</th>\n",
       "      <td>13399</td>\n",
       "      <td>28141</td>\n",
       "      <td>72</td>\n",
       "      <td>г Тюмень, ул Профсоюзная, д. 56</td>\n",
       "      <td>0</td>\n",
       "      <td>2024-12-31</td>\n",
       "      <td>Другое</td>\n",
       "      <td>Без отделки</td>\n",
       "      <td>Нет</td>\n",
       "      <td>125</td>\n",
       "      <td>0.00</td>\n",
       "      <td>72-000097</td>\n",
       "      <td>https://xn--80az8a.xn--d1aqf.xn--p1ai/api/ext/...</td>\n",
       "      <td>07-09-2022 15:20</td>\n",
       "      <td>57.1519</td>\n",
       "      <td>65.5544</td>\n",
       "      <td>0</td>\n",
       "      <td>0</td>\n",
       "      <td>Элитный</td>\n",
       "      <td>13-09-2022 01:29</td>\n",
       "      <td>[{'objId': 13399, 'pdId': 28141, 'rpdId': 6328...</td>\n",
       "      <td>0</td>\n",
       "      <td>normal</td>\n",
       "      <td>0</td>\n",
       "      <td>34754</td>\n",
       "      <td>0</td>\n",
       "      <td>0.00</td>\n",
       "      <td>0</td>\n",
       "      <td>0</td>\n",
       "      <td>True</td>\n",
       "      <td>0</td>\n",
       "      <td>1</td>\n",
       "      <td>1</td>\n",
       "      <td>[]</td>\n",
       "      <td>False</td>\n",
       "      <td>0</td>\n",
       "      <td>B</td>\n",
       "      <td>10.0</td>\n",
       "      <td>306</td>\n",
       "      <td>2МЕН ГРУПП</td>\n",
       "      <td>2МЕН ГРУПП</td>\n",
       "      <td>2МЕН ГРУПП</td>\n",
       "      <td>0</td>\n",
       "      <td>5</td>\n",
       "      <td>0</td>\n",
       "      <td>Тюменская область</td>\n",
       "      <td>+7(345)279-18-88</td>\n",
       "      <td>2mengroup.ru</td>\n",
       "      <td>info@2mengroup.ru</td>\n",
       "      <td>7701651356</td>\n",
       "      <td>1067746424899</td>\n",
       "      <td>720301001</td>\n",
       "      <td>Тюменская область, город Тюмень, улица Комсомо...</td>\n",
       "      <td>Тюменская область, город Тюмень, улица Комсомо...</td>\n",
       "      <td>632865.0</td>\n",
       "      <td>1</td>\n",
       "      <td>72.0</td>\n",
       "      <td>Киселев Сергей Михайлович</td>\n",
       "      <td>1</td>\n",
       "      <td>Акционерное общество</td>\n",
       "      <td>АО</td>\n",
       "      <td>0</td>\n",
       "      <td>0</td>\n",
       "      <td>1.0</td>\n",
       "      <td>1.0</td>\n",
       "      <td>https://xn--80az8a.xn--d1aqf.xn--p1ai/api/ext/...</td>\n",
       "      <td>1.0</td>\n",
       "      <td>28-02-2025 12:00</td>\n",
       "      <td>NaN</td>\n",
       "      <td>0.0</td>\n",
       "      <td>0.0</td>\n",
       "      <td>1.0</td>\n",
       "      <td>0.0</td>\n",
       "      <td>0.0</td>\n",
       "      <td>0.0</td>\n",
       "      <td>8.0</td>\n",
       "      <td>7.0</td>\n",
       "      <td>0.917243</td>\n",
       "      <td>50768.0</td>\n",
       "      <td>ООО Транспромжилстрой-2005 (ИНН: 7204097730)</td>\n",
       "      <td>1.0</td>\n",
       "      <td>info@2mengroup.ru</td>\n",
       "      <td>2МЕН ГРУПП ДЕВЕЛОПМЕНТ</td>\n",
       "      <td>5776.0</td>\n",
       "      <td>NaN</td>\n",
       "      <td>NaN</td>\n",
       "      <td>NaN</td>\n",
       "      <td>NaN</td>\n",
       "      <td>NaN</td>\n",
       "      <td>NaN</td>\n",
       "      <td>NaN</td>\n",
       "      <td>NaN</td>\n",
       "      <td>NaN</td>\n",
       "      <td>NaN</td>\n",
       "      <td>NaN</td>\n",
       "      <td>NaN</td>\n",
       "      <td>NaN</td>\n",
       "      <td>NaN</td>\n",
       "      <td>NaN</td>\n",
       "      <td>NaN</td>\n",
       "      <td>NaN</td>\n",
       "      <td>NaN</td>\n",
       "      <td>NaN</td>\n",
       "      <td>NaN</td>\n",
       "      <td>NaN</td>\n",
       "      <td>NaN</td>\n",
       "      <td>NaN</td>\n",
       "      <td>NaN</td>\n",
       "    </tr>\n",
       "    <tr>\n",
       "      <th>4</th>\n",
       "      <td>13398</td>\n",
       "      <td>28141</td>\n",
       "      <td>72</td>\n",
       "      <td>г Тюмень, ул Профсоюзная, д. 56</td>\n",
       "      <td>43</td>\n",
       "      <td>2024-12-31</td>\n",
       "      <td>Другое</td>\n",
       "      <td>Без отделки</td>\n",
       "      <td>Нет</td>\n",
       "      <td>0</td>\n",
       "      <td>4812.98</td>\n",
       "      <td>72-000097</td>\n",
       "      <td>https://xn--80az8a.xn--d1aqf.xn--p1ai/api/ext/...</td>\n",
       "      <td>07-09-2022 15:20</td>\n",
       "      <td>57.1519</td>\n",
       "      <td>65.5544</td>\n",
       "      <td>0</td>\n",
       "      <td>0</td>\n",
       "      <td>Элитный</td>\n",
       "      <td>13-09-2022 01:29</td>\n",
       "      <td>[{'objId': 13398, 'pdId': 28141, 'rpdId': 6328...</td>\n",
       "      <td>0</td>\n",
       "      <td>normal</td>\n",
       "      <td>1</td>\n",
       "      <td>37165</td>\n",
       "      <td>43</td>\n",
       "      <td>4812.98</td>\n",
       "      <td>48</td>\n",
       "      <td>0</td>\n",
       "      <td>True</td>\n",
       "      <td>0</td>\n",
       "      <td>1</td>\n",
       "      <td>1</td>\n",
       "      <td>[]</td>\n",
       "      <td>False</td>\n",
       "      <td>0</td>\n",
       "      <td>B</td>\n",
       "      <td>10.0</td>\n",
       "      <td>306</td>\n",
       "      <td>2МЕН ГРУПП</td>\n",
       "      <td>2МЕН ГРУПП</td>\n",
       "      <td>2МЕН ГРУПП</td>\n",
       "      <td>0</td>\n",
       "      <td>5</td>\n",
       "      <td>0</td>\n",
       "      <td>Тюменская область</td>\n",
       "      <td>+7(345)279-18-88</td>\n",
       "      <td>2mengroup.ru</td>\n",
       "      <td>info@2mengroup.ru</td>\n",
       "      <td>7701651356</td>\n",
       "      <td>1067746424899</td>\n",
       "      <td>720301001</td>\n",
       "      <td>Тюменская область, город Тюмень, улица Комсомо...</td>\n",
       "      <td>Тюменская область, город Тюмень, улица Комсомо...</td>\n",
       "      <td>632865.0</td>\n",
       "      <td>1</td>\n",
       "      <td>72.0</td>\n",
       "      <td>Киселев Сергей Михайлович</td>\n",
       "      <td>1</td>\n",
       "      <td>Акционерное общество</td>\n",
       "      <td>АО</td>\n",
       "      <td>0</td>\n",
       "      <td>0</td>\n",
       "      <td>7.0</td>\n",
       "      <td>10.0</td>\n",
       "      <td>https://xn--80az8a.xn--d1aqf.xn--p1ai/api/ext/...</td>\n",
       "      <td>10.0</td>\n",
       "      <td>28-02-2025 12:00</td>\n",
       "      <td>2,96</td>\n",
       "      <td>1.0</td>\n",
       "      <td>1.0</td>\n",
       "      <td>1.0</td>\n",
       "      <td>4.0</td>\n",
       "      <td>15.0</td>\n",
       "      <td>0.0</td>\n",
       "      <td>3.0</td>\n",
       "      <td>3.0</td>\n",
       "      <td>1.000000</td>\n",
       "      <td>47886.0</td>\n",
       "      <td>ООО Транспромжилстрой-2005 (ИНН: 7204097730)</td>\n",
       "      <td>0.0</td>\n",
       "      <td>info@2mengroup.ru</td>\n",
       "      <td>2МЕН ГРУПП ДЕВЕЛОПМЕНТ</td>\n",
       "      <td>5776.0</td>\n",
       "      <td>0.0</td>\n",
       "      <td>11.0</td>\n",
       "      <td>19.0</td>\n",
       "      <td>13.0</td>\n",
       "      <td>43.0</td>\n",
       "      <td>3.0</td>\n",
       "      <td>3.0</td>\n",
       "      <td>NaN</td>\n",
       "      <td>NaN</td>\n",
       "      <td>NaN</td>\n",
       "      <td>NaN</td>\n",
       "      <td>NaN</td>\n",
       "      <td>NaN</td>\n",
       "      <td>NaN</td>\n",
       "      <td>NaN</td>\n",
       "      <td>NaN</td>\n",
       "      <td>NaN</td>\n",
       "      <td>NaN</td>\n",
       "      <td>NaN</td>\n",
       "      <td>NaN</td>\n",
       "      <td>NaN</td>\n",
       "      <td>NaN</td>\n",
       "      <td>NaN</td>\n",
       "      <td>NaN</td>\n",
       "    </tr>\n",
       "  </tbody>\n",
       "</table>\n",
       "</div>"
      ],
      "text/plain": [
       "      id    pdId  region                          address  objElemLivingCnt  \\\n",
       "0  29679  124647      61                       г Таганрог                18   \n",
       "1  13383   28105      72                         г Тюмень                68   \n",
       "2  13397   28141      72  г Тюмень, ул Профсоюзная, д. 56                65   \n",
       "3  13399   28141      72  г Тюмень, ул Профсоюзная, д. 56                 0   \n",
       "4  13398   28141      72  г Тюмень, ул Профсоюзная, д. 56                43   \n",
       "\n",
       "  objReady100PercDt wallMaterialShortDesc   objLkFinishTypeDesc  \\\n",
       "0        2020-03-31                Другое              Под ключ   \n",
       "1        2022-12-31                Другое  По желанию заказчика   \n",
       "2        2024-12-31                Другое           Без отделки   \n",
       "3        2024-12-31                Другое           Без отделки   \n",
       "4        2024-12-31                Другое           Без отделки   \n",
       "\n",
       "  objLkFreePlanDesc  objElemParkingCnt  objSquareLiving     rpdNum  \\\n",
       "0              Есть                  0          1519.00  61-000818   \n",
       "1              Есть                 31          6293.78  72-000095   \n",
       "2               Нет                  0          6248.51  72-000097   \n",
       "3               Нет                125             0.00  72-000097   \n",
       "4               Нет                  0          4812.98  72-000097   \n",
       "\n",
       "                                          rpdPdfLink      rpdIssueDttm  \\\n",
       "0  https://xn--80az8a.xn--d1aqf.xn--p1ai/api/ext/...  20-03-2019 18:41   \n",
       "1  https://xn--80az8a.xn--d1aqf.xn--p1ai/api/ext/...  07-09-2022 15:16   \n",
       "2  https://xn--80az8a.xn--d1aqf.xn--p1ai/api/ext/...  07-09-2022 15:20   \n",
       "3  https://xn--80az8a.xn--d1aqf.xn--p1ai/api/ext/...  07-09-2022 15:20   \n",
       "4  https://xn--80az8a.xn--d1aqf.xn--p1ai/api/ext/...  07-09-2022 15:20   \n",
       "\n",
       "   objLkLatitude  objLkLongitude  objCompensFundFlg  objProblemFlg  \\\n",
       "0        47.2238         38.8513                  0              0   \n",
       "1        57.1519         65.5536                  1              0   \n",
       "2        57.1519         65.5544                  0              0   \n",
       "3        57.1519         65.5544                  0              0   \n",
       "4        57.1519         65.5544                  0              0   \n",
       "\n",
       "  objLkClassDesc          loadDttm  \\\n",
       "0        Комфорт  13-09-2022 01:29   \n",
       "1        Элитный  13-09-2022 01:29   \n",
       "2        Элитный  13-09-2022 01:29   \n",
       "3        Элитный  13-09-2022 01:29   \n",
       "4        Элитный  13-09-2022 01:29   \n",
       "\n",
       "                                      photoRenderDTO  objGuarantyEscrowFlg  \\\n",
       "0                                                 []                     0   \n",
       "1  [{'objId': 13383, 'pdId': 28105, 'rpdId': 6269...                     0   \n",
       "2  [{'objId': 13397, 'pdId': 28141, 'rpdId': 6328...                     0   \n",
       "3  [{'objId': 13399, 'pdId': 28141, 'rpdId': 6328...                     0   \n",
       "4  [{'objId': 13398, 'pdId': 28141, 'rpdId': 6328...                     0   \n",
       "\n",
       "  objectType  residentialBuildings  newBuildingId  objFlatCnt  objFlatSq  \\\n",
       "0     normal                     1          40800          18    1519.00   \n",
       "1     normal                     1          39024          68    6293.78   \n",
       "2     normal                     1          37201          65    6248.51   \n",
       "3     normal                     0          34754           0       0.00   \n",
       "4     normal                     1          37165          43    4812.98   \n",
       "\n",
       "   objNonlivElemCnt  objStatus  isAvailableWantLiveHere  \\\n",
       "0                 0          0                     True   \n",
       "1                10          0                     True   \n",
       "2                70          0                     True   \n",
       "3                 0          0                     True   \n",
       "4                48          0                     True   \n",
       "\n",
       "   objInfrstrBicycleLaneFlg  objInfrstrRampFlg  objInfrstrCurbLoweringFlg  \\\n",
       "0                         0                  0                          0   \n",
       "1                         0                  1                          1   \n",
       "2                         0                  1                          1   \n",
       "3                         0                  1                          1   \n",
       "4                         0                  1                          1   \n",
       "\n",
       "  objectTransportInfo  conclusion  objGreenHouseFlg objEnergyEffShortDesc  \\\n",
       "0                  []       False                 0        Не нормируется   \n",
       "1                  []       False                 0                     B   \n",
       "2                  []       False                 0                     B   \n",
       "3                  []       False                 0                     B   \n",
       "4                  []       False                 0                     B   \n",
       "\n",
       "   infrastructureIndexValue  developer.devId developer.devShortCleanNm  \\\n",
       "0                       7.0             7424                     212-2   \n",
       "1                      10.0              306                2МЕН ГРУПП   \n",
       "2                      10.0              306                2МЕН ГРУПП   \n",
       "3                      10.0              306                2МЕН ГРУПП   \n",
       "4                      10.0              306                2МЕН ГРУПП   \n",
       "\n",
       "  developer.devShortNm developer.devFullCleanNm  developer.problObjCnt  \\\n",
       "0                212-2                    212-2                      0   \n",
       "1           2МЕН ГРУПП               2МЕН ГРУПП                      0   \n",
       "2           2МЕН ГРУПП               2МЕН ГРУПП                      0   \n",
       "3           2МЕН ГРУПП               2МЕН ГРУПП                      0   \n",
       "4           2МЕН ГРУПП               2МЕН ГРУПП                      0   \n",
       "\n",
       "   developer.buildObjCnt  developer.comissObjCnt developer.regRegionDesc  \\\n",
       "0                      1                       0      Ростовская область   \n",
       "1                      5                       0       Тюменская область   \n",
       "2                      5                       0       Тюменская область   \n",
       "3                      5                       0       Тюменская область   \n",
       "4                      5                       0       Тюменская область   \n",
       "\n",
       "  developer.devPhoneNum        developer.devSite  developer.devEmail  \\\n",
       "0      +7(961)285-90-10  taganrogjsk.wixsite.com  kirpol76@gmail.com   \n",
       "1      +7(345)279-18-88             2mengroup.ru   info@2mengroup.ru   \n",
       "2      +7(345)279-18-88             2mengroup.ru   info@2mengroup.ru   \n",
       "3      +7(345)279-18-88             2mengroup.ru   info@2mengroup.ru   \n",
       "4      +7(345)279-18-88             2mengroup.ru   info@2mengroup.ru   \n",
       "\n",
       "   developer.devInn  developer.devOgrn  developer.devKpp  \\\n",
       "0        6154572922      1116154005923         615401001   \n",
       "1        7701651356      1067746424899         720301001   \n",
       "2        7701651356      1067746424899         720301001   \n",
       "3        7701651356      1067746424899         720301001   \n",
       "4        7701651356      1067746424899         720301001   \n",
       "\n",
       "                              developer.devLegalAddr  \\\n",
       "0  Ростовская область, город Таганрог, улица Своб...   \n",
       "1  Тюменская область, город Тюмень, улица Комсомо...   \n",
       "2  Тюменская область, город Тюмень, улица Комсомо...   \n",
       "3  Тюменская область, город Тюмень, улица Комсомо...   \n",
       "4  Тюменская область, город Тюмень, улица Комсомо...   \n",
       "\n",
       "                               developer.devFactAddr  developer.lastRpdId  \\\n",
       "0  обл Ростовская город Таганрог улица Сергея Шил...             126093.0   \n",
       "1  Тюменская область, город Тюмень, улица Комсомо...             632865.0   \n",
       "2  Тюменская область, город Тюмень, улица Комсомо...             632865.0   \n",
       "3  Тюменская область, город Тюмень, улица Комсомо...             632865.0   \n",
       "4  Тюменская область, город Тюмень, улица Комсомо...             632865.0   \n",
       "\n",
       "   developer.fundGuarantyFlg  developer.devOrgRegRegionCd  \\\n",
       "0                          0                         61.0   \n",
       "1                          1                         72.0   \n",
       "2                          1                         72.0   \n",
       "3                          1                         72.0   \n",
       "4                          1                         72.0   \n",
       "\n",
       "   developer.devEmplMainFullNm  developer.orgForm.id  \\\n",
       "0  Снимщикова Ольга Викторовна                    20   \n",
       "1    Киселев Сергей Михайлович                     1   \n",
       "2    Киселев Сергей Михайлович                     1   \n",
       "3    Киселев Сергей Михайлович                     1   \n",
       "4    Киселев Сергей Михайлович                     1   \n",
       "\n",
       "                     developer.orgForm.fullForm developer.orgForm.shortForm  \\\n",
       "0  Жилищный или жилищно-строительный кооператив                         ЖСК   \n",
       "1                          Акционерное общество                          АО   \n",
       "2                          Акционерное общество                          АО   \n",
       "3                          Акционерное общество                          АО   \n",
       "4                          Акционерное общество                          АО   \n",
       "\n",
       "   developer.objGuarantyEscrowFlg  developer.govFundFlg  floorMin  floorMax  \\\n",
       "0                               0                     0       NaN       NaN   \n",
       "1                               0                     0       4.0      20.0   \n",
       "2                               0                     0       6.0      12.0   \n",
       "3                               0                     0       1.0       1.0   \n",
       "4                               0                     0       7.0      10.0   \n",
       "\n",
       "                                             miniUrl  objFloorCnt  \\\n",
       "0                                                NaN          NaN   \n",
       "1  https://xn--80az8a.xn--d1aqf.xn--p1ai/api/ext/...         20.0   \n",
       "2  https://xn--80az8a.xn--d1aqf.xn--p1ai/api/ext/...         12.0   \n",
       "3  https://xn--80az8a.xn--d1aqf.xn--p1ai/api/ext/...          1.0   \n",
       "4  https://xn--80az8a.xn--d1aqf.xn--p1ai/api/ext/...         10.0   \n",
       "\n",
       "  objTransferPlanDt objLivCeilingHeight  objInfrstrPlaygrndCnt  \\\n",
       "0               NaN                 NaN                    NaN   \n",
       "1  28-02-2023 12:00                 2,8                    1.0   \n",
       "2  28-02-2025 12:00                2,96                    1.0   \n",
       "3  28-02-2025 12:00                 NaN                    0.0   \n",
       "4  28-02-2025 12:00                2,96                    1.0   \n",
       "\n",
       "   objInfrstrSportGroundCnt  objInfrstrTrashAreaCnt  objInfrstrObjPrkngCnt  \\\n",
       "0                       NaN                     NaN                    NaN   \n",
       "1                       1.0                     1.0                    0.0   \n",
       "2                       1.0                     1.0                   11.0   \n",
       "3                       0.0                     1.0                    0.0   \n",
       "4                       1.0                     1.0                    4.0   \n",
       "\n",
       "   objInfrstrNotObjPrkngCnt  objElevatorWheelchairCnt  \\\n",
       "0                       NaN                       NaN   \n",
       "1                      11.0                       0.0   \n",
       "2                      10.0                       0.0   \n",
       "3                       0.0                       0.0   \n",
       "4                      15.0                       0.0   \n",
       "\n",
       "   objElevatorPassengerCnt  objElevatorCargoCnt  soldOutPerc  objPriceAvg  \\\n",
       "0                      NaN                  NaN          NaN          NaN   \n",
       "1                      5.0                  1.0     0.407164      53109.0   \n",
       "2                      5.0                  4.0     0.999984      45523.0   \n",
       "3                      8.0                  7.0     0.917243      50768.0   \n",
       "4                      3.0                  3.0     1.000000      47886.0   \n",
       "\n",
       "                            generalContractorNm  nonlivFirstFloor  \\\n",
       "0                                           NaN               NaN   \n",
       "1  ООО Транспромжилстрой-2005 (ИНН: 7204097730)               1.0   \n",
       "2  ООО Транспромжилстрой-2005 (ИНН: 7204097730)               0.0   \n",
       "3  ООО Транспромжилстрой-2005 (ИНН: 7204097730)               1.0   \n",
       "4  ООО Транспромжилстрой-2005 (ИНН: 7204097730)               0.0   \n",
       "\n",
       "   objLkSaleDepEmail developer.developerGroupName  developer.companyGroupId  \\\n",
       "0                NaN                          NaN                       NaN   \n",
       "1  info@2mengroup.ru       2МЕН ГРУПП ДЕВЕЛОПМЕНТ                    5776.0   \n",
       "2  info@2mengroup.ru       2МЕН ГРУПП ДЕВЕЛОПМЕНТ                    5776.0   \n",
       "3  info@2mengroup.ru       2МЕН ГРУПП ДЕВЕЛОПМЕНТ                    5776.0   \n",
       "4  info@2mengroup.ru       2МЕН ГРУПП ДЕВЕЛОПМЕНТ                    5776.0   \n",
       "\n",
       "   quartography.objLivElem1KCnt  quartography.objLivElem2KCnt  \\\n",
       "0                           NaN                           NaN   \n",
       "1                          13.0                          21.0   \n",
       "2                           0.0                          24.0   \n",
       "3                           NaN                           NaN   \n",
       "4                           0.0                          11.0   \n",
       "\n",
       "   quartography.objLivElem3KCnt  quartography.objLivElem4KCnt  \\\n",
       "0                           NaN                           NaN   \n",
       "1                          34.0                           0.0   \n",
       "2                          35.0                           6.0   \n",
       "3                           NaN                           NaN   \n",
       "4                          19.0                          13.0   \n",
       "\n",
       "   quartography.objLivElemCnt  quartography.objLivElemEntrCnt  \\\n",
       "0                         NaN                             NaN   \n",
       "1                        68.0                             1.0   \n",
       "2                        65.0                             4.0   \n",
       "3                         NaN                             NaN   \n",
       "4                        43.0                             3.0   \n",
       "\n",
       "   quartography.objLivElemEntrFloorAvg transportDistIndex  \\\n",
       "0                                  NaN                NaN   \n",
       "1                                  6.0                NaN   \n",
       "2                                  3.0                NaN   \n",
       "3                                  NaN                NaN   \n",
       "4                                  3.0                NaN   \n",
       "\n",
       "   transportDistIndexValue nameObj  greenAreaIndexValue  airQualityIndexValue  \\\n",
       "0                      NaN     NaN                  NaN                   NaN   \n",
       "1                      NaN     NaN                  NaN                   NaN   \n",
       "2                      NaN     NaN                  NaN                   NaN   \n",
       "3                      NaN     NaN                  NaN                   NaN   \n",
       "4                      NaN     NaN                  NaN                   NaN   \n",
       "\n",
       "  complexShortNm  developer.bankruptStage.bankruptStageCd  \\\n",
       "0            NaN                                      NaN   \n",
       "1            NaN                                      NaN   \n",
       "2            NaN                                      NaN   \n",
       "3            NaN                                      NaN   \n",
       "4            NaN                                      NaN   \n",
       "\n",
       "  developer.bankruptStage.bankruptStageDesc  \\\n",
       "0                                       NaN   \n",
       "1                                       NaN   \n",
       "2                                       NaN   \n",
       "3                                       NaN   \n",
       "4                                       NaN   \n",
       "\n",
       "  developer.bankruptStage.bankruptLawUrl developer.orgBankruptMsgDttm  \\\n",
       "0                                    NaN                          NaN   \n",
       "1                                    NaN                          NaN   \n",
       "2                                    NaN                          NaN   \n",
       "3                                    NaN                          NaN   \n",
       "4                                    NaN                          NaN   \n",
       "\n",
       "   metro.id metro.name metro.line metro.color  metro.time metro.isWalk  \\\n",
       "0       NaN        NaN        NaN         NaN         NaN          NaN   \n",
       "1       NaN        NaN        NaN         NaN         NaN          NaN   \n",
       "2       NaN        NaN        NaN         NaN         NaN          NaN   \n",
       "3       NaN        NaN        NaN         NaN         NaN          NaN   \n",
       "4       NaN        NaN        NaN         NaN         NaN          NaN   \n",
       "\n",
       "  metro.colors  \n",
       "0          NaN  \n",
       "1          NaN  \n",
       "2          NaN  \n",
       "3          NaN  \n",
       "4          NaN  "
      ]
     },
     "execution_count": 6,
     "metadata": {},
     "output_type": "execute_result"
    }
   ],
   "source": [
    "# загрузим датасет из ДЗ1\n",
    "df2 = pd.read_csv('nash-dom-rf1.csv')\n",
    "df2.head(5)"
   ]
  },
  {
   "cell_type": "code",
   "execution_count": 63,
   "metadata": {},
   "outputs": [
    {
     "data": {
      "text/plain": [
       "Text(0.5, 1.0, 'Пропущенные значения')"
      ]
     },
     "execution_count": 63,
     "metadata": {},
     "output_type": "execute_result"
    },
    {
     "data": {
      "image/png": "[encoded data removed]",
      "text/plain": [
       "<Figure size 432x288 with 1 Axes>"
      ]
     },
     "metadata": {
      "needs_background": "light"
     },
     "output_type": "display_data"
    }
   ],
   "source": [
    "# строим график пропущенных значений\n",
    "sns.heatmap(df2.isnull(), cbar = False).set_title(\"Пропущенные значения\")"
   ]
  },
  {
   "cell_type": "code",
   "execution_count": 7,
   "metadata": {},
   "outputs": [
    {
     "data": {
      "text/html": [
       "<div>\n",
       "<style scoped>\n",
       "    .dataframe tbody tr th:only-of-type {\n",
       "        vertical-align: middle;\n",
       "    }\n",
       "\n",
       "    .dataframe tbody tr th {\n",
       "        vertical-align: top;\n",
       "    }\n",
       "\n",
       "    .dataframe thead th {\n",
       "        text-align: right;\n",
       "    }\n",
       "</style>\n",
       "<table border=\"1\" class=\"dataframe\">\n",
       "  <thead>\n",
       "    <tr style=\"text-align: right;\">\n",
       "      <th></th>\n",
       "      <th>id</th>\n",
       "      <th>developer.devShortCleanNm</th>\n",
       "      <th>region</th>\n",
       "      <th>developer.regRegionDesc</th>\n",
       "      <th>address</th>\n",
       "      <th>objLkClassDesc</th>\n",
       "      <th>wallMaterialShortDesc</th>\n",
       "      <th>objLkFinishTypeDesc</th>\n",
       "      <th>objReady100PercDt</th>\n",
       "      <th>soldOutPerc</th>\n",
       "      <th>objElemParkingCnt</th>\n",
       "      <th>objElemLivingCnt</th>\n",
       "      <th>objSquareLiving</th>\n",
       "      <th>floorMax</th>\n",
       "      <th>objPriceAvg</th>\n",
       "    </tr>\n",
       "  </thead>\n",
       "  <tbody>\n",
       "    <tr>\n",
       "      <th>0</th>\n",
       "      <td>29679</td>\n",
       "      <td>212-2</td>\n",
       "      <td>61</td>\n",
       "      <td>Ростовская область</td>\n",
       "      <td>г Таганрог</td>\n",
       "      <td>Комфорт</td>\n",
       "      <td>Другое</td>\n",
       "      <td>Под ключ</td>\n",
       "      <td>2020-03-31</td>\n",
       "      <td>NaN</td>\n",
       "      <td>0</td>\n",
       "      <td>18</td>\n",
       "      <td>1519.00</td>\n",
       "      <td>NaN</td>\n",
       "      <td>NaN</td>\n",
       "    </tr>\n",
       "    <tr>\n",
       "      <th>1</th>\n",
       "      <td>13383</td>\n",
       "      <td>2МЕН ГРУПП</td>\n",
       "      <td>72</td>\n",
       "      <td>Тюменская область</td>\n",
       "      <td>г Тюмень</td>\n",
       "      <td>Элитный</td>\n",
       "      <td>Другое</td>\n",
       "      <td>По желанию заказчика</td>\n",
       "      <td>2022-12-31</td>\n",
       "      <td>0.407164</td>\n",
       "      <td>31</td>\n",
       "      <td>68</td>\n",
       "      <td>6293.78</td>\n",
       "      <td>20.0</td>\n",
       "      <td>53109.0</td>\n",
       "    </tr>\n",
       "    <tr>\n",
       "      <th>2</th>\n",
       "      <td>13397</td>\n",
       "      <td>2МЕН ГРУПП</td>\n",
       "      <td>72</td>\n",
       "      <td>Тюменская область</td>\n",
       "      <td>г Тюмень, ул Профсоюзная, д. 56</td>\n",
       "      <td>Элитный</td>\n",
       "      <td>Другое</td>\n",
       "      <td>Без отделки</td>\n",
       "      <td>2024-12-31</td>\n",
       "      <td>0.999984</td>\n",
       "      <td>0</td>\n",
       "      <td>65</td>\n",
       "      <td>6248.51</td>\n",
       "      <td>12.0</td>\n",
       "      <td>45523.0</td>\n",
       "    </tr>\n",
       "    <tr>\n",
       "      <th>3</th>\n",
       "      <td>13399</td>\n",
       "      <td>2МЕН ГРУПП</td>\n",
       "      <td>72</td>\n",
       "      <td>Тюменская область</td>\n",
       "      <td>г Тюмень, ул Профсоюзная, д. 56</td>\n",
       "      <td>Элитный</td>\n",
       "      <td>Другое</td>\n",
       "      <td>Без отделки</td>\n",
       "      <td>2024-12-31</td>\n",
       "      <td>0.917243</td>\n",
       "      <td>125</td>\n",
       "      <td>0</td>\n",
       "      <td>0.00</td>\n",
       "      <td>1.0</td>\n",
       "      <td>50768.0</td>\n",
       "    </tr>\n",
       "    <tr>\n",
       "      <th>4</th>\n",
       "      <td>13398</td>\n",
       "      <td>2МЕН ГРУПП</td>\n",
       "      <td>72</td>\n",
       "      <td>Тюменская область</td>\n",
       "      <td>г Тюмень, ул Профсоюзная, д. 56</td>\n",
       "      <td>Элитный</td>\n",
       "      <td>Другое</td>\n",
       "      <td>Без отделки</td>\n",
       "      <td>2024-12-31</td>\n",
       "      <td>1.000000</td>\n",
       "      <td>0</td>\n",
       "      <td>43</td>\n",
       "      <td>4812.98</td>\n",
       "      <td>10.0</td>\n",
       "      <td>47886.0</td>\n",
       "    </tr>\n",
       "    <tr>\n",
       "      <th>...</th>\n",
       "      <td>...</td>\n",
       "      <td>...</td>\n",
       "      <td>...</td>\n",
       "      <td>...</td>\n",
       "      <td>...</td>\n",
       "      <td>...</td>\n",
       "      <td>...</td>\n",
       "      <td>...</td>\n",
       "      <td>...</td>\n",
       "      <td>...</td>\n",
       "      <td>...</td>\n",
       "      <td>...</td>\n",
       "      <td>...</td>\n",
       "      <td>...</td>\n",
       "      <td>...</td>\n",
       "    </tr>\n",
       "    <tr>\n",
       "      <th>10587</th>\n",
       "      <td>28072</td>\n",
       "      <td>ЯРКИЙ МИР</td>\n",
       "      <td>50</td>\n",
       "      <td>Московская область</td>\n",
       "      <td>г Котельники, район мкр.Ковровый, д.1-5, 24-29...</td>\n",
       "      <td>Типовой</td>\n",
       "      <td>Другое</td>\n",
       "      <td>Под ключ</td>\n",
       "      <td>2024-06-30</td>\n",
       "      <td>0.073569</td>\n",
       "      <td>0</td>\n",
       "      <td>312</td>\n",
       "      <td>14788.80</td>\n",
       "      <td>26.0</td>\n",
       "      <td>85610.0</td>\n",
       "    </tr>\n",
       "    <tr>\n",
       "      <th>10588</th>\n",
       "      <td>28071</td>\n",
       "      <td>ЯРКИЙ МИР</td>\n",
       "      <td>50</td>\n",
       "      <td>Московская область</td>\n",
       "      <td>г Котельники, район мкр.Ковровый, д.1-5, 24-29...</td>\n",
       "      <td>Типовой</td>\n",
       "      <td>Другое</td>\n",
       "      <td>Под ключ</td>\n",
       "      <td>2024-06-30</td>\n",
       "      <td>0.071155</td>\n",
       "      <td>0</td>\n",
       "      <td>288</td>\n",
       "      <td>14870.40</td>\n",
       "      <td>26.0</td>\n",
       "      <td>85604.0</td>\n",
       "    </tr>\n",
       "    <tr>\n",
       "      <th>10589</th>\n",
       "      <td>28073</td>\n",
       "      <td>ЯРКИЙ МИР</td>\n",
       "      <td>50</td>\n",
       "      <td>Московская область</td>\n",
       "      <td>г Котельники, район мкр.Ковровый, д.1-5, 24-29...</td>\n",
       "      <td>Типовой</td>\n",
       "      <td>Другое</td>\n",
       "      <td>Под ключ</td>\n",
       "      <td>2024-06-30</td>\n",
       "      <td>0.070834</td>\n",
       "      <td>0</td>\n",
       "      <td>312</td>\n",
       "      <td>14872.80</td>\n",
       "      <td>26.0</td>\n",
       "      <td>85634.0</td>\n",
       "    </tr>\n",
       "    <tr>\n",
       "      <th>10590</th>\n",
       "      <td>44447</td>\n",
       "      <td>ЯРОСЛАВЛЬЗАКАЗЧИК</td>\n",
       "      <td>76</td>\n",
       "      <td>Ярославская область</td>\n",
       "      <td>г Ярославль, Фрунзенский район, территория в р...</td>\n",
       "      <td>Типовой</td>\n",
       "      <td>Кирпич</td>\n",
       "      <td>Другое</td>\n",
       "      <td>2022-12-31</td>\n",
       "      <td>0.241243</td>\n",
       "      <td>0</td>\n",
       "      <td>127</td>\n",
       "      <td>6764.22</td>\n",
       "      <td>6.0</td>\n",
       "      <td>69916.0</td>\n",
       "    </tr>\n",
       "    <tr>\n",
       "      <th>10591</th>\n",
       "      <td>45321</td>\n",
       "      <td>‹‹СЗ ‹‹СТРОЙ-НАДЕЖДА››</td>\n",
       "      <td>32</td>\n",
       "      <td>Брянская область</td>\n",
       "      <td>г Брянск, улица Молодой Гвардии, строение Поз.1</td>\n",
       "      <td>Типовой</td>\n",
       "      <td>Монолит-кирпич</td>\n",
       "      <td>Без отделки</td>\n",
       "      <td>2023-03-31</td>\n",
       "      <td>0.088968</td>\n",
       "      <td>0</td>\n",
       "      <td>90</td>\n",
       "      <td>5288.40</td>\n",
       "      <td>11.0</td>\n",
       "      <td>68188.0</td>\n",
       "    </tr>\n",
       "  </tbody>\n",
       "</table>\n",
       "<p>10592 rows × 15 columns</p>\n",
       "</div>"
      ],
      "text/plain": [
       "          id developer.devShortCleanNm  region developer.regRegionDesc  \\\n",
       "0      29679                     212-2      61      Ростовская область   \n",
       "1      13383                2МЕН ГРУПП      72       Тюменская область   \n",
       "2      13397                2МЕН ГРУПП      72       Тюменская область   \n",
       "3      13399                2МЕН ГРУПП      72       Тюменская область   \n",
       "4      13398                2МЕН ГРУПП      72       Тюменская область   \n",
       "...      ...                       ...     ...                     ...   \n",
       "10587  28072                 ЯРКИЙ МИР      50      Московская область   \n",
       "10588  28071                 ЯРКИЙ МИР      50      Московская область   \n",
       "10589  28073                 ЯРКИЙ МИР      50      Московская область   \n",
       "10590  44447         ЯРОСЛАВЛЬЗАКАЗЧИК      76     Ярославская область   \n",
       "10591  45321    ‹‹СЗ ‹‹СТРОЙ-НАДЕЖДА››      32        Брянская область   \n",
       "\n",
       "                                                 address objLkClassDesc  \\\n",
       "0                                             г Таганрог        Комфорт   \n",
       "1                                               г Тюмень        Элитный   \n",
       "2                        г Тюмень, ул Профсоюзная, д. 56        Элитный   \n",
       "3                        г Тюмень, ул Профсоюзная, д. 56        Элитный   \n",
       "4                        г Тюмень, ул Профсоюзная, д. 56        Элитный   \n",
       "...                                                  ...            ...   \n",
       "10587  г Котельники, район мкр.Ковровый, д.1-5, 24-29...        Типовой   \n",
       "10588  г Котельники, район мкр.Ковровый, д.1-5, 24-29...        Типовой   \n",
       "10589  г Котельники, район мкр.Ковровый, д.1-5, 24-29...        Типовой   \n",
       "10590  г Ярославль, Фрунзенский район, территория в р...        Типовой   \n",
       "10591    г Брянск, улица Молодой Гвардии, строение Поз.1        Типовой   \n",
       "\n",
       "      wallMaterialShortDesc   objLkFinishTypeDesc objReady100PercDt  \\\n",
       "0                    Другое              Под ключ        2020-03-31   \n",
       "1                    Другое  По желанию заказчика        2022-12-31   \n",
       "2                    Другое           Без отделки        2024-12-31   \n",
       "3                    Другое           Без отделки        2024-12-31   \n",
       "4                    Другое           Без отделки        2024-12-31   \n",
       "...                     ...                   ...               ...   \n",
       "10587                Другое              Под ключ        2024-06-30   \n",
       "10588                Другое              Под ключ        2024-06-30   \n",
       "10589                Другое              Под ключ        2024-06-30   \n",
       "10590                Кирпич                Другое        2022-12-31   \n",
       "10591        Монолит-кирпич           Без отделки        2023-03-31   \n",
       "\n",
       "       soldOutPerc  objElemParkingCnt  objElemLivingCnt  objSquareLiving  \\\n",
       "0              NaN                  0                18          1519.00   \n",
       "1         0.407164                 31                68          6293.78   \n",
       "2         0.999984                  0                65          6248.51   \n",
       "3         0.917243                125                 0             0.00   \n",
       "4         1.000000                  0                43          4812.98   \n",
       "...            ...                ...               ...              ...   \n",
       "10587     0.073569                  0               312         14788.80   \n",
       "10588     0.071155                  0               288         14870.40   \n",
       "10589     0.070834                  0               312         14872.80   \n",
       "10590     0.241243                  0               127          6764.22   \n",
       "10591     0.088968                  0                90          5288.40   \n",
       "\n",
       "       floorMax  objPriceAvg  \n",
       "0           NaN          NaN  \n",
       "1          20.0      53109.0  \n",
       "2          12.0      45523.0  \n",
       "3           1.0      50768.0  \n",
       "4          10.0      47886.0  \n",
       "...         ...          ...  \n",
       "10587      26.0      85610.0  \n",
       "10588      26.0      85604.0  \n",
       "10589      26.0      85634.0  \n",
       "10590       6.0      69916.0  \n",
       "10591      11.0      68188.0  \n",
       "\n",
       "[10592 rows x 15 columns]"
      ]
     },
     "execution_count": 7,
     "metadata": {},
     "output_type": "execute_result"
    }
   ],
   "source": [
    "# выберем необходимые столбцы\n",
    "df3 = df2[['id', 'developer.devShortCleanNm', 'region', 'developer.regRegionDesc', 'address', 'objLkClassDesc',\n",
    "     'wallMaterialShortDesc', 'objLkFinishTypeDesc', 'objReady100PercDt', 'soldOutPerc', 'objElemParkingCnt',\n",
    "     'objElemLivingCnt', 'objSquareLiving',  'floorMax', 'objPriceAvg']]\n",
    "df3"
   ]
  },
  {
   "cell_type": "code",
   "execution_count": 8,
   "metadata": {},
   "outputs": [
    {
     "data": {
      "text/html": [
       "<div>\n",
       "<style scoped>\n",
       "    .dataframe tbody tr th:only-of-type {\n",
       "        vertical-align: middle;\n",
       "    }\n",
       "\n",
       "    .dataframe tbody tr th {\n",
       "        vertical-align: top;\n",
       "    }\n",
       "\n",
       "    .dataframe thead th {\n",
       "        text-align: right;\n",
       "    }\n",
       "</style>\n",
       "<table border=\"1\" class=\"dataframe\">\n",
       "  <thead>\n",
       "    <tr style=\"text-align: right;\">\n",
       "      <th></th>\n",
       "      <th>id дома</th>\n",
       "      <th>застройщик</th>\n",
       "      <th>номер региона</th>\n",
       "      <th>название региона</th>\n",
       "      <th>адрес дома</th>\n",
       "      <th>класс недвижимости</th>\n",
       "      <th>материал стен</th>\n",
       "      <th>тип отделки</th>\n",
       "      <th>ввод в эксплуатацию</th>\n",
       "      <th>распроданность квартир</th>\n",
       "      <th>количество мест в паркинге</th>\n",
       "      <th>количество квартир</th>\n",
       "      <th>жилая площадь</th>\n",
       "      <th>количество этажей</th>\n",
       "      <th>средняя цена за 1 м²</th>\n",
       "    </tr>\n",
       "  </thead>\n",
       "  <tbody>\n",
       "    <tr>\n",
       "      <th>0</th>\n",
       "      <td>29679</td>\n",
       "      <td>212-2</td>\n",
       "      <td>61</td>\n",
       "      <td>Ростовская область</td>\n",
       "      <td>г Таганрог</td>\n",
       "      <td>Комфорт</td>\n",
       "      <td>Другое</td>\n",
       "      <td>Под ключ</td>\n",
       "      <td>2020-03-31</td>\n",
       "      <td>NaN</td>\n",
       "      <td>0</td>\n",
       "      <td>18</td>\n",
       "      <td>1519.00</td>\n",
       "      <td>NaN</td>\n",
       "      <td>NaN</td>\n",
       "    </tr>\n",
       "    <tr>\n",
       "      <th>1</th>\n",
       "      <td>13383</td>\n",
       "      <td>2МЕН ГРУПП</td>\n",
       "      <td>72</td>\n",
       "      <td>Тюменская область</td>\n",
       "      <td>г Тюмень</td>\n",
       "      <td>Элитный</td>\n",
       "      <td>Другое</td>\n",
       "      <td>По желанию заказчика</td>\n",
       "      <td>2022-12-31</td>\n",
       "      <td>0.407164</td>\n",
       "      <td>31</td>\n",
       "      <td>68</td>\n",
       "      <td>6293.78</td>\n",
       "      <td>20.0</td>\n",
       "      <td>53109.0</td>\n",
       "    </tr>\n",
       "    <tr>\n",
       "      <th>2</th>\n",
       "      <td>13397</td>\n",
       "      <td>2МЕН ГРУПП</td>\n",
       "      <td>72</td>\n",
       "      <td>Тюменская область</td>\n",
       "      <td>г Тюмень, ул Профсоюзная, д. 56</td>\n",
       "      <td>Элитный</td>\n",
       "      <td>Другое</td>\n",
       "      <td>Без отделки</td>\n",
       "      <td>2024-12-31</td>\n",
       "      <td>0.999984</td>\n",
       "      <td>0</td>\n",
       "      <td>65</td>\n",
       "      <td>6248.51</td>\n",
       "      <td>12.0</td>\n",
       "      <td>45523.0</td>\n",
       "    </tr>\n",
       "    <tr>\n",
       "      <th>3</th>\n",
       "      <td>13399</td>\n",
       "      <td>2МЕН ГРУПП</td>\n",
       "      <td>72</td>\n",
       "      <td>Тюменская область</td>\n",
       "      <td>г Тюмень, ул Профсоюзная, д. 56</td>\n",
       "      <td>Элитный</td>\n",
       "      <td>Другое</td>\n",
       "      <td>Без отделки</td>\n",
       "      <td>2024-12-31</td>\n",
       "      <td>0.917243</td>\n",
       "      <td>125</td>\n",
       "      <td>0</td>\n",
       "      <td>0.00</td>\n",
       "      <td>1.0</td>\n",
       "      <td>50768.0</td>\n",
       "    </tr>\n",
       "    <tr>\n",
       "      <th>4</th>\n",
       "      <td>13398</td>\n",
       "      <td>2МЕН ГРУПП</td>\n",
       "      <td>72</td>\n",
       "      <td>Тюменская область</td>\n",
       "      <td>г Тюмень, ул Профсоюзная, д. 56</td>\n",
       "      <td>Элитный</td>\n",
       "      <td>Другое</td>\n",
       "      <td>Без отделки</td>\n",
       "      <td>2024-12-31</td>\n",
       "      <td>1.000000</td>\n",
       "      <td>0</td>\n",
       "      <td>43</td>\n",
       "      <td>4812.98</td>\n",
       "      <td>10.0</td>\n",
       "      <td>47886.0</td>\n",
       "    </tr>\n",
       "    <tr>\n",
       "      <th>...</th>\n",
       "      <td>...</td>\n",
       "      <td>...</td>\n",
       "      <td>...</td>\n",
       "      <td>...</td>\n",
       "      <td>...</td>\n",
       "      <td>...</td>\n",
       "      <td>...</td>\n",
       "      <td>...</td>\n",
       "      <td>...</td>\n",
       "      <td>...</td>\n",
       "      <td>...</td>\n",
       "      <td>...</td>\n",
       "      <td>...</td>\n",
       "      <td>...</td>\n",
       "      <td>...</td>\n",
       "    </tr>\n",
       "    <tr>\n",
       "      <th>10587</th>\n",
       "      <td>28072</td>\n",
       "      <td>ЯРКИЙ МИР</td>\n",
       "      <td>50</td>\n",
       "      <td>Московская область</td>\n",
       "      <td>г Котельники, район мкр.Ковровый, д.1-5, 24-29...</td>\n",
       "      <td>Типовой</td>\n",
       "      <td>Другое</td>\n",
       "      <td>Под ключ</td>\n",
       "      <td>2024-06-30</td>\n",
       "      <td>0.073569</td>\n",
       "      <td>0</td>\n",
       "      <td>312</td>\n",
       "      <td>14788.80</td>\n",
       "      <td>26.0</td>\n",
       "      <td>85610.0</td>\n",
       "    </tr>\n",
       "    <tr>\n",
       "      <th>10588</th>\n",
       "      <td>28071</td>\n",
       "      <td>ЯРКИЙ МИР</td>\n",
       "      <td>50</td>\n",
       "      <td>Московская область</td>\n",
       "      <td>г Котельники, район мкр.Ковровый, д.1-5, 24-29...</td>\n",
       "      <td>Типовой</td>\n",
       "      <td>Другое</td>\n",
       "      <td>Под ключ</td>\n",
       "      <td>2024-06-30</td>\n",
       "      <td>0.071155</td>\n",
       "      <td>0</td>\n",
       "      <td>288</td>\n",
       "      <td>14870.40</td>\n",
       "      <td>26.0</td>\n",
       "      <td>85604.0</td>\n",
       "    </tr>\n",
       "    <tr>\n",
       "      <th>10589</th>\n",
       "      <td>28073</td>\n",
       "      <td>ЯРКИЙ МИР</td>\n",
       "      <td>50</td>\n",
       "      <td>Московская область</td>\n",
       "      <td>г Котельники, район мкр.Ковровый, д.1-5, 24-29...</td>\n",
       "      <td>Типовой</td>\n",
       "      <td>Другое</td>\n",
       "      <td>Под ключ</td>\n",
       "      <td>2024-06-30</td>\n",
       "      <td>0.070834</td>\n",
       "      <td>0</td>\n",
       "      <td>312</td>\n",
       "      <td>14872.80</td>\n",
       "      <td>26.0</td>\n",
       "      <td>85634.0</td>\n",
       "    </tr>\n",
       "    <tr>\n",
       "      <th>10590</th>\n",
       "      <td>44447</td>\n",
       "      <td>ЯРОСЛАВЛЬЗАКАЗЧИК</td>\n",
       "      <td>76</td>\n",
       "      <td>Ярославская область</td>\n",
       "      <td>г Ярославль, Фрунзенский район, территория в р...</td>\n",
       "      <td>Типовой</td>\n",
       "      <td>Кирпич</td>\n",
       "      <td>Другое</td>\n",
       "      <td>2022-12-31</td>\n",
       "      <td>0.241243</td>\n",
       "      <td>0</td>\n",
       "      <td>127</td>\n",
       "      <td>6764.22</td>\n",
       "      <td>6.0</td>\n",
       "      <td>69916.0</td>\n",
       "    </tr>\n",
       "    <tr>\n",
       "      <th>10591</th>\n",
       "      <td>45321</td>\n",
       "      <td>‹‹СЗ ‹‹СТРОЙ-НАДЕЖДА››</td>\n",
       "      <td>32</td>\n",
       "      <td>Брянская область</td>\n",
       "      <td>г Брянск, улица Молодой Гвардии, строение Поз.1</td>\n",
       "      <td>Типовой</td>\n",
       "      <td>Монолит-кирпич</td>\n",
       "      <td>Без отделки</td>\n",
       "      <td>2023-03-31</td>\n",
       "      <td>0.088968</td>\n",
       "      <td>0</td>\n",
       "      <td>90</td>\n",
       "      <td>5288.40</td>\n",
       "      <td>11.0</td>\n",
       "      <td>68188.0</td>\n",
       "    </tr>\n",
       "  </tbody>\n",
       "</table>\n",
       "<p>10592 rows × 15 columns</p>\n",
       "</div>"
      ],
      "text/plain": [
       "       id дома              застройщик  номер региона     название региона  \\\n",
       "0        29679                   212-2             61   Ростовская область   \n",
       "1        13383              2МЕН ГРУПП             72    Тюменская область   \n",
       "2        13397              2МЕН ГРУПП             72    Тюменская область   \n",
       "3        13399              2МЕН ГРУПП             72    Тюменская область   \n",
       "4        13398              2МЕН ГРУПП             72    Тюменская область   \n",
       "...        ...                     ...            ...                  ...   \n",
       "10587    28072               ЯРКИЙ МИР             50   Московская область   \n",
       "10588    28071               ЯРКИЙ МИР             50   Московская область   \n",
       "10589    28073               ЯРКИЙ МИР             50   Московская область   \n",
       "10590    44447       ЯРОСЛАВЛЬЗАКАЗЧИК             76  Ярославская область   \n",
       "10591    45321  ‹‹СЗ ‹‹СТРОЙ-НАДЕЖДА››             32     Брянская область   \n",
       "\n",
       "                                              адрес дома класс недвижимости  \\\n",
       "0                                             г Таганрог            Комфорт   \n",
       "1                                               г Тюмень            Элитный   \n",
       "2                        г Тюмень, ул Профсоюзная, д. 56            Элитный   \n",
       "3                        г Тюмень, ул Профсоюзная, д. 56            Элитный   \n",
       "4                        г Тюмень, ул Профсоюзная, д. 56            Элитный   \n",
       "...                                                  ...                ...   \n",
       "10587  г Котельники, район мкр.Ковровый, д.1-5, 24-29...            Типовой   \n",
       "10588  г Котельники, район мкр.Ковровый, д.1-5, 24-29...            Типовой   \n",
       "10589  г Котельники, район мкр.Ковровый, д.1-5, 24-29...            Типовой   \n",
       "10590  г Ярославль, Фрунзенский район, территория в р...            Типовой   \n",
       "10591    г Брянск, улица Молодой Гвардии, строение Поз.1            Типовой   \n",
       "\n",
       "        материал стен           тип отделки ввод в эксплуатацию  \\\n",
       "0              Другое              Под ключ          2020-03-31   \n",
       "1              Другое  По желанию заказчика          2022-12-31   \n",
       "2              Другое           Без отделки          2024-12-31   \n",
       "3              Другое           Без отделки          2024-12-31   \n",
       "4              Другое           Без отделки          2024-12-31   \n",
       "...               ...                   ...                 ...   \n",
       "10587          Другое              Под ключ          2024-06-30   \n",
       "10588          Другое              Под ключ          2024-06-30   \n",
       "10589          Другое              Под ключ          2024-06-30   \n",
       "10590          Кирпич                Другое          2022-12-31   \n",
       "10591  Монолит-кирпич           Без отделки          2023-03-31   \n",
       "\n",
       "       распроданность квартир  количество мест в паркинге  количество квартир  \\\n",
       "0                         NaN                           0                  18   \n",
       "1                    0.407164                          31                  68   \n",
       "2                    0.999984                           0                  65   \n",
       "3                    0.917243                         125                   0   \n",
       "4                    1.000000                           0                  43   \n",
       "...                       ...                         ...                 ...   \n",
       "10587                0.073569                           0                 312   \n",
       "10588                0.071155                           0                 288   \n",
       "10589                0.070834                           0                 312   \n",
       "10590                0.241243                           0                 127   \n",
       "10591                0.088968                           0                  90   \n",
       "\n",
       "       жилая площадь  количество этажей  средняя цена за 1 м²  \n",
       "0            1519.00                NaN                   NaN  \n",
       "1            6293.78               20.0               53109.0  \n",
       "2            6248.51               12.0               45523.0  \n",
       "3               0.00                1.0               50768.0  \n",
       "4            4812.98               10.0               47886.0  \n",
       "...              ...                ...                   ...  \n",
       "10587       14788.80               26.0               85610.0  \n",
       "10588       14870.40               26.0               85604.0  \n",
       "10589       14872.80               26.0               85634.0  \n",
       "10590        6764.22                6.0               69916.0  \n",
       "10591        5288.40               11.0               68188.0  \n",
       "\n",
       "[10592 rows x 15 columns]"
      ]
     },
     "execution_count": 8,
     "metadata": {},
     "output_type": "execute_result"
    }
   ],
   "source": [
    "# меняем имена столбцов\n",
    "df3.rename(columns = {'id': 'id дома', 'developer.devShortCleanNm': 'застройщик', 'region': 'номер региона',\n",
    "                      'developer.regRegionDesc': 'название региона', 'address': 'адрес дома',\n",
    "                      'objLkClassDesc': 'класс недвижимости', 'wallMaterialShortDesc': 'материал стен',\n",
    "                      'objLkFinishTypeDesc': 'тип отделки', 'objReady100PercDt': 'ввод в эксплуатацию',\n",
    "                      'soldOutPerc': 'распроданность квартир', 'objElemParkingCnt':'количество мест в паркинге',\n",
    "                       'objElemLivingCnt': 'количество квартир', 'objSquareLiving': 'жилая площадь', \n",
    "                      'floorMax': 'количество этажей', 'objPriceAvg': 'средняя цена за 1 м²'}, inplace=True)\n",
    "df3"
   ]
  },
  {
   "cell_type": "code",
   "execution_count": 9,
   "metadata": {},
   "outputs": [
    {
     "name": "stdout",
     "output_type": "stream",
     "text": [
      "<class 'pandas.core.frame.DataFrame'>\n",
      "RangeIndex: 10592 entries, 0 to 10591\n",
      "Data columns (total 15 columns):\n",
      " #   Column                      Non-Null Count  Dtype  \n",
      "---  ------                      --------------  -----  \n",
      " 0   id дома                     10592 non-null  int64  \n",
      " 1   застройщик                  10592 non-null  object \n",
      " 2   номер региона               10592 non-null  int64  \n",
      " 3   название региона            10459 non-null  object \n",
      " 4   адрес дома                  10566 non-null  object \n",
      " 5   класс недвижимости          10592 non-null  object \n",
      " 6   материал стен               10592 non-null  object \n",
      " 7   тип отделки                 10592 non-null  object \n",
      " 8   ввод в эксплуатацию         10592 non-null  object \n",
      " 9   распроданность квартир      7707 non-null   float64\n",
      " 10  количество мест в паркинге  10592 non-null  int64  \n",
      " 11  количество квартир          10592 non-null  int64  \n",
      " 12  жилая площадь               10592 non-null  float64\n",
      " 13  количество этажей           10591 non-null  float64\n",
      " 14  средняя цена за 1 м²        7702 non-null   float64\n",
      "dtypes: float64(4), int64(4), object(7)\n",
      "memory usage: 1.2+ MB\n"
     ]
    }
   ],
   "source": [
    "# смотрим инфу по датасету\n",
    "df3.info()"
   ]
  },
  {
   "cell_type": "code",
   "execution_count": 10,
   "metadata": {},
   "outputs": [
    {
     "data": {
      "text/html": [
       "<div>\n",
       "<style scoped>\n",
       "    .dataframe tbody tr th:only-of-type {\n",
       "        vertical-align: middle;\n",
       "    }\n",
       "\n",
       "    .dataframe tbody tr th {\n",
       "        vertical-align: top;\n",
       "    }\n",
       "\n",
       "    .dataframe thead th {\n",
       "        text-align: right;\n",
       "    }\n",
       "</style>\n",
       "<table border=\"1\" class=\"dataframe\">\n",
       "  <thead>\n",
       "    <tr style=\"text-align: right;\">\n",
       "      <th></th>\n",
       "      <th>id дома</th>\n",
       "      <th>застройщик</th>\n",
       "      <th>номер региона</th>\n",
       "      <th>название региона</th>\n",
       "      <th>адрес дома</th>\n",
       "      <th>класс недвижимости</th>\n",
       "      <th>материал стен</th>\n",
       "      <th>тип отделки</th>\n",
       "      <th>ввод в эксплуатацию</th>\n",
       "      <th>распроданность квартир</th>\n",
       "      <th>количество мест в паркинге</th>\n",
       "      <th>количество квартир</th>\n",
       "      <th>жилая площадь</th>\n",
       "      <th>количество этажей</th>\n",
       "      <th>средняя цена за 1 м²</th>\n",
       "    </tr>\n",
       "  </thead>\n",
       "  <tbody>\n",
       "    <tr>\n",
       "      <th>count</th>\n",
       "      <td>10592.000000</td>\n",
       "      <td>10592</td>\n",
       "      <td>10592.000000</td>\n",
       "      <td>10459</td>\n",
       "      <td>10566</td>\n",
       "      <td>10592</td>\n",
       "      <td>10592</td>\n",
       "      <td>10592</td>\n",
       "      <td>10592</td>\n",
       "      <td>7.707000e+03</td>\n",
       "      <td>10592.000000</td>\n",
       "      <td>10592.000000</td>\n",
       "      <td>10592.000000</td>\n",
       "      <td>10591.000000</td>\n",
       "      <td>7.702000e+03</td>\n",
       "    </tr>\n",
       "    <tr>\n",
       "      <th>unique</th>\n",
       "      <td>NaN</td>\n",
       "      <td>3587</td>\n",
       "      <td>NaN</td>\n",
       "      <td>81</td>\n",
       "      <td>8445</td>\n",
       "      <td>5</td>\n",
       "      <td>6</td>\n",
       "      <td>5</td>\n",
       "      <td>58</td>\n",
       "      <td>NaN</td>\n",
       "      <td>NaN</td>\n",
       "      <td>NaN</td>\n",
       "      <td>NaN</td>\n",
       "      <td>NaN</td>\n",
       "      <td>NaN</td>\n",
       "    </tr>\n",
       "    <tr>\n",
       "      <th>top</th>\n",
       "      <td>NaN</td>\n",
       "      <td>СЗ ГЕЛЕОН СТРОЙ</td>\n",
       "      <td>NaN</td>\n",
       "      <td>Москва город</td>\n",
       "      <td>г Санкт-Петербург</td>\n",
       "      <td>Комфорт</td>\n",
       "      <td>Монолит-кирпич</td>\n",
       "      <td>Без отделки</td>\n",
       "      <td>2022-12-31</td>\n",
       "      <td>NaN</td>\n",
       "      <td>NaN</td>\n",
       "      <td>NaN</td>\n",
       "      <td>NaN</td>\n",
       "      <td>NaN</td>\n",
       "      <td>NaN</td>\n",
       "    </tr>\n",
       "    <tr>\n",
       "      <th>freq</th>\n",
       "      <td>NaN</td>\n",
       "      <td>148</td>\n",
       "      <td>NaN</td>\n",
       "      <td>1093</td>\n",
       "      <td>98</td>\n",
       "      <td>5339</td>\n",
       "      <td>5500</td>\n",
       "      <td>5226</td>\n",
       "      <td>1985</td>\n",
       "      <td>NaN</td>\n",
       "      <td>NaN</td>\n",
       "      <td>NaN</td>\n",
       "      <td>NaN</td>\n",
       "      <td>NaN</td>\n",
       "      <td>NaN</td>\n",
       "    </tr>\n",
       "    <tr>\n",
       "      <th>mean</th>\n",
       "      <td>38457.713085</td>\n",
       "      <td>NaN</td>\n",
       "      <td>48.518788</td>\n",
       "      <td>NaN</td>\n",
       "      <td>NaN</td>\n",
       "      <td>NaN</td>\n",
       "      <td>NaN</td>\n",
       "      <td>NaN</td>\n",
       "      <td>NaN</td>\n",
       "      <td>4.649594e-01</td>\n",
       "      <td>36.626511</td>\n",
       "      <td>190.775963</td>\n",
       "      <td>9463.424954</td>\n",
       "      <td>12.522236</td>\n",
       "      <td>1.133708e+05</td>\n",
       "    </tr>\n",
       "    <tr>\n",
       "      <th>std</th>\n",
       "      <td>9883.265776</td>\n",
       "      <td>NaN</td>\n",
       "      <td>23.241748</td>\n",
       "      <td>NaN</td>\n",
       "      <td>NaN</td>\n",
       "      <td>NaN</td>\n",
       "      <td>NaN</td>\n",
       "      <td>NaN</td>\n",
       "      <td>NaN</td>\n",
       "      <td>3.478007e-01</td>\n",
       "      <td>116.158713</td>\n",
       "      <td>237.093904</td>\n",
       "      <td>11430.693076</td>\n",
       "      <td>8.422700</td>\n",
       "      <td>1.124996e+05</td>\n",
       "    </tr>\n",
       "    <tr>\n",
       "      <th>min</th>\n",
       "      <td>1259.000000</td>\n",
       "      <td>NaN</td>\n",
       "      <td>1.000000</td>\n",
       "      <td>NaN</td>\n",
       "      <td>NaN</td>\n",
       "      <td>NaN</td>\n",
       "      <td>NaN</td>\n",
       "      <td>NaN</td>\n",
       "      <td>NaN</td>\n",
       "      <td>7.770370e-07</td>\n",
       "      <td>0.000000</td>\n",
       "      <td>0.000000</td>\n",
       "      <td>0.000000</td>\n",
       "      <td>0.000000</td>\n",
       "      <td>1.000000e+03</td>\n",
       "    </tr>\n",
       "    <tr>\n",
       "      <th>25%</th>\n",
       "      <td>36145.750000</td>\n",
       "      <td>NaN</td>\n",
       "      <td>26.000000</td>\n",
       "      <td>NaN</td>\n",
       "      <td>NaN</td>\n",
       "      <td>NaN</td>\n",
       "      <td>NaN</td>\n",
       "      <td>NaN</td>\n",
       "      <td>NaN</td>\n",
       "      <td>1.224281e-01</td>\n",
       "      <td>0.000000</td>\n",
       "      <td>40.000000</td>\n",
       "      <td>2112.285000</td>\n",
       "      <td>5.000000</td>\n",
       "      <td>6.306450e+04</td>\n",
       "    </tr>\n",
       "    <tr>\n",
       "      <th>50%</th>\n",
       "      <td>41723.500000</td>\n",
       "      <td>NaN</td>\n",
       "      <td>50.000000</td>\n",
       "      <td>NaN</td>\n",
       "      <td>NaN</td>\n",
       "      <td>NaN</td>\n",
       "      <td>NaN</td>\n",
       "      <td>NaN</td>\n",
       "      <td>NaN</td>\n",
       "      <td>4.339038e-01</td>\n",
       "      <td>0.000000</td>\n",
       "      <td>125.000000</td>\n",
       "      <td>6482.510000</td>\n",
       "      <td>11.000000</td>\n",
       "      <td>8.736500e+04</td>\n",
       "    </tr>\n",
       "    <tr>\n",
       "      <th>75%</th>\n",
       "      <td>45099.250000</td>\n",
       "      <td>NaN</td>\n",
       "      <td>71.000000</td>\n",
       "      <td>NaN</td>\n",
       "      <td>NaN</td>\n",
       "      <td>NaN</td>\n",
       "      <td>NaN</td>\n",
       "      <td>NaN</td>\n",
       "      <td>NaN</td>\n",
       "      <td>7.854767e-01</td>\n",
       "      <td>0.000000</td>\n",
       "      <td>254.000000</td>\n",
       "      <td>12500.112500</td>\n",
       "      <td>18.000000</td>\n",
       "      <td>1.291055e+05</td>\n",
       "    </tr>\n",
       "    <tr>\n",
       "      <th>max</th>\n",
       "      <td>47965.000000</td>\n",
       "      <td>NaN</td>\n",
       "      <td>92.000000</td>\n",
       "      <td>NaN</td>\n",
       "      <td>NaN</td>\n",
       "      <td>NaN</td>\n",
       "      <td>NaN</td>\n",
       "      <td>NaN</td>\n",
       "      <td>NaN</td>\n",
       "      <td>1.000000e+00</td>\n",
       "      <td>3580.000000</td>\n",
       "      <td>2676.000000</td>\n",
       "      <td>142978.700000</td>\n",
       "      <td>76.000000</td>\n",
       "      <td>2.583664e+06</td>\n",
       "    </tr>\n",
       "  </tbody>\n",
       "</table>\n",
       "</div>"
      ],
      "text/plain": [
       "             id дома       застройщик  номер региона название региона  \\\n",
       "count   10592.000000            10592   10592.000000            10459   \n",
       "unique           NaN             3587            NaN               81   \n",
       "top              NaN  СЗ ГЕЛЕОН СТРОЙ            NaN     Москва город   \n",
       "freq             NaN              148            NaN             1093   \n",
       "mean    38457.713085              NaN      48.518788              NaN   \n",
       "std      9883.265776              NaN      23.241748              NaN   \n",
       "min      1259.000000              NaN       1.000000              NaN   \n",
       "25%     36145.750000              NaN      26.000000              NaN   \n",
       "50%     41723.500000              NaN      50.000000              NaN   \n",
       "75%     45099.250000              NaN      71.000000              NaN   \n",
       "max     47965.000000              NaN      92.000000              NaN   \n",
       "\n",
       "               адрес дома класс недвижимости   материал стен  тип отделки  \\\n",
       "count               10566              10592           10592        10592   \n",
       "unique               8445                  5               6            5   \n",
       "top     г Санкт-Петербург            Комфорт  Монолит-кирпич  Без отделки   \n",
       "freq                   98               5339            5500         5226   \n",
       "mean                  NaN                NaN             NaN          NaN   \n",
       "std                   NaN                NaN             NaN          NaN   \n",
       "min                   NaN                NaN             NaN          NaN   \n",
       "25%                   NaN                NaN             NaN          NaN   \n",
       "50%                   NaN                NaN             NaN          NaN   \n",
       "75%                   NaN                NaN             NaN          NaN   \n",
       "max                   NaN                NaN             NaN          NaN   \n",
       "\n",
       "       ввод в эксплуатацию  распроданность квартир  \\\n",
       "count                10592            7.707000e+03   \n",
       "unique                  58                     NaN   \n",
       "top             2022-12-31                     NaN   \n",
       "freq                  1985                     NaN   \n",
       "mean                   NaN            4.649594e-01   \n",
       "std                    NaN            3.478007e-01   \n",
       "min                    NaN            7.770370e-07   \n",
       "25%                    NaN            1.224281e-01   \n",
       "50%                    NaN            4.339038e-01   \n",
       "75%                    NaN            7.854767e-01   \n",
       "max                    NaN            1.000000e+00   \n",
       "\n",
       "        количество мест в паркинге  количество квартир  жилая площадь  \\\n",
       "count                 10592.000000        10592.000000   10592.000000   \n",
       "unique                         NaN                 NaN            NaN   \n",
       "top                            NaN                 NaN            NaN   \n",
       "freq                           NaN                 NaN            NaN   \n",
       "mean                     36.626511          190.775963    9463.424954   \n",
       "std                     116.158713          237.093904   11430.693076   \n",
       "min                       0.000000            0.000000       0.000000   \n",
       "25%                       0.000000           40.000000    2112.285000   \n",
       "50%                       0.000000          125.000000    6482.510000   \n",
       "75%                       0.000000          254.000000   12500.112500   \n",
       "max                    3580.000000         2676.000000  142978.700000   \n",
       "\n",
       "        количество этажей  средняя цена за 1 м²  \n",
       "count        10591.000000          7.702000e+03  \n",
       "unique                NaN                   NaN  \n",
       "top                   NaN                   NaN  \n",
       "freq                  NaN                   NaN  \n",
       "mean            12.522236          1.133708e+05  \n",
       "std              8.422700          1.124996e+05  \n",
       "min              0.000000          1.000000e+03  \n",
       "25%              5.000000          6.306450e+04  \n",
       "50%             11.000000          8.736500e+04  \n",
       "75%             18.000000          1.291055e+05  \n",
       "max             76.000000          2.583664e+06  "
      ]
     },
     "execution_count": 10,
     "metadata": {},
     "output_type": "execute_result"
    }
   ],
   "source": [
    "# описательная характеристика датасета\n",
    "df3.describe(include = \"all\")"
   ]
  },
  {
   "cell_type": "code",
   "execution_count": 11,
   "metadata": {},
   "outputs": [
    {
     "data": {
      "text/plain": [
       "id дома                       10586\n",
       "застройщик                     3587\n",
       "номер региона                    80\n",
       "название региона                 81\n",
       "адрес дома                     8445\n",
       "класс недвижимости                5\n",
       "материал стен                     6\n",
       "тип отделки                       5\n",
       "ввод в эксплуатацию              58\n",
       "распроданность квартир         6957\n",
       "количество мест в паркинге      514\n",
       "количество квартир              953\n",
       "жилая площадь                  7624\n",
       "количество этажей                62\n",
       "средняя цена за 1 м²           7055\n",
       "dtype: int64"
      ]
     },
     "execution_count": 11,
     "metadata": {},
     "output_type": "execute_result"
    }
   ],
   "source": [
    "# смотрим уникальность колонок\n",
    "df3.nunique()"
   ]
  },
  {
   "cell_type": "code",
   "execution_count": 12,
   "metadata": {},
   "outputs": [
    {
     "data": {
      "text/plain": [
       "id дома                          0\n",
       "застройщик                       0\n",
       "номер региона                    0\n",
       "название региона               133\n",
       "адрес дома                      26\n",
       "класс недвижимости               0\n",
       "материал стен                    0\n",
       "тип отделки                      0\n",
       "ввод в эксплуатацию              0\n",
       "распроданность квартир        2885\n",
       "количество мест в паркинге       0\n",
       "количество квартир               0\n",
       "жилая площадь                    0\n",
       "количество этажей                1\n",
       "средняя цена за 1 м²          2890\n",
       "dtype: int64"
      ]
     },
     "execution_count": 12,
     "metadata": {},
     "output_type": "execute_result"
    }
   ],
   "source": [
    "#  считаем количестово пропущенных значений\n",
    "df3.isna().sum()"
   ]
  },
  {
   "cell_type": "code",
   "execution_count": 13,
   "metadata": {},
   "outputs": [
    {
     "data": {
      "text/plain": [
       "5"
      ]
     },
     "execution_count": 13,
     "metadata": {},
     "output_type": "execute_result"
    }
   ],
   "source": [
    "# количество столбцов, которые имеют хотя бы одно пропущенное значение\n",
    "len(df3.columns[df3.isna().any()].tolist())"
   ]
  },
  {
   "cell_type": "code",
   "execution_count": 14,
   "metadata": {},
   "outputs": [],
   "source": [
    "# изменяем форман с object на datetime\n",
    "df3['ввод в эксплуатацию'] = pd.to_datetime(df3['ввод в эксплуатацию'], dayfirst=True)"
   ]
  },
  {
   "cell_type": "code",
   "execution_count": 23,
   "metadata": {},
   "outputs": [],
   "source": [
    "# выбираем дома где 'количество мест в паркинге' / 'распроданность квартир'  NaN и устанавливаем 0 \n",
    "sktb['количество мест в паркинге'].fillna(0, inplace = True)\n",
    "sktb['распроданность квартир'].fillna(0, inplace = True)"
   ]
  },
  {
   "cell_type": "code",
   "execution_count": 15,
   "metadata": {},
   "outputs": [
    {
     "name": "stdout",
     "output_type": "stream",
     "text": [
      "<class 'pandas.core.frame.DataFrame'>\n",
      "RangeIndex: 10592 entries, 0 to 10591\n",
      "Data columns (total 15 columns):\n",
      " #   Column                      Non-Null Count  Dtype         \n",
      "---  ------                      --------------  -----         \n",
      " 0   id дома                     10592 non-null  int64         \n",
      " 1   застройщик                  10592 non-null  object        \n",
      " 2   номер региона               10592 non-null  int64         \n",
      " 3   название региона            10459 non-null  object        \n",
      " 4   адрес дома                  10566 non-null  object        \n",
      " 5   класс недвижимости          10592 non-null  object        \n",
      " 6   материал стен               10592 non-null  object        \n",
      " 7   тип отделки                 10592 non-null  object        \n",
      " 8   ввод в эксплуатацию         10592 non-null  datetime64[ns]\n",
      " 9   распроданность квартир      7707 non-null   float64       \n",
      " 10  количество мест в паркинге  10592 non-null  int64         \n",
      " 11  количество квартир          10592 non-null  int64         \n",
      " 12  жилая площадь               10592 non-null  float64       \n",
      " 13  количество этажей           10591 non-null  float64       \n",
      " 14  средняя цена за 1 м²        7702 non-null   float64       \n",
      "dtypes: datetime64[ns](1), float64(4), int64(4), object(6)\n",
      "memory usage: 1.2+ MB\n"
     ]
    }
   ],
   "source": [
    "# смотрим инфу по датасету\n",
    "df3.info()"
   ]
  },
  {
   "cell_type": "code",
   "execution_count": 16,
   "metadata": {},
   "outputs": [
    {
     "data": {
      "text/html": [
       "<div>\n",
       "<style scoped>\n",
       "    .dataframe tbody tr th:only-of-type {\n",
       "        vertical-align: middle;\n",
       "    }\n",
       "\n",
       "    .dataframe tbody tr th {\n",
       "        vertical-align: top;\n",
       "    }\n",
       "\n",
       "    .dataframe thead th {\n",
       "        text-align: right;\n",
       "    }\n",
       "</style>\n",
       "<table border=\"1\" class=\"dataframe\">\n",
       "  <thead>\n",
       "    <tr style=\"text-align: right;\">\n",
       "      <th></th>\n",
       "      <th>id дома</th>\n",
       "      <th>застройщик</th>\n",
       "      <th>номер региона</th>\n",
       "      <th>название региона</th>\n",
       "      <th>адрес дома</th>\n",
       "      <th>класс недвижимости</th>\n",
       "      <th>материал стен</th>\n",
       "      <th>тип отделки</th>\n",
       "      <th>ввод в эксплуатацию</th>\n",
       "      <th>распроданность квартир</th>\n",
       "      <th>количество мест в паркинге</th>\n",
       "      <th>количество квартир</th>\n",
       "      <th>жилая площадь</th>\n",
       "      <th>количество этажей</th>\n",
       "      <th>средняя цена за 1 м²</th>\n",
       "    </tr>\n",
       "  </thead>\n",
       "  <tbody>\n",
       "    <tr>\n",
       "      <th>0</th>\n",
       "      <td>29679</td>\n",
       "      <td>212-2</td>\n",
       "      <td>61</td>\n",
       "      <td>Ростовская область</td>\n",
       "      <td>г Таганрог</td>\n",
       "      <td>Комфорт</td>\n",
       "      <td>Другое</td>\n",
       "      <td>Под ключ</td>\n",
       "      <td>2020-03-31</td>\n",
       "      <td>NaN</td>\n",
       "      <td>0</td>\n",
       "      <td>18</td>\n",
       "      <td>1519.00</td>\n",
       "      <td>NaN</td>\n",
       "      <td>NaN</td>\n",
       "    </tr>\n",
       "    <tr>\n",
       "      <th>1</th>\n",
       "      <td>13383</td>\n",
       "      <td>2МЕН ГРУПП</td>\n",
       "      <td>72</td>\n",
       "      <td>Тюменская область</td>\n",
       "      <td>г Тюмень</td>\n",
       "      <td>Элитный</td>\n",
       "      <td>Другое</td>\n",
       "      <td>По желанию заказчика</td>\n",
       "      <td>2022-12-31</td>\n",
       "      <td>0.407164</td>\n",
       "      <td>31</td>\n",
       "      <td>68</td>\n",
       "      <td>6293.78</td>\n",
       "      <td>20.0</td>\n",
       "      <td>53109.0</td>\n",
       "    </tr>\n",
       "    <tr>\n",
       "      <th>2</th>\n",
       "      <td>13397</td>\n",
       "      <td>2МЕН ГРУПП</td>\n",
       "      <td>72</td>\n",
       "      <td>Тюменская область</td>\n",
       "      <td>г Тюмень, ул Профсоюзная, д. 56</td>\n",
       "      <td>Элитный</td>\n",
       "      <td>Другое</td>\n",
       "      <td>Без отделки</td>\n",
       "      <td>2024-12-31</td>\n",
       "      <td>0.999984</td>\n",
       "      <td>0</td>\n",
       "      <td>65</td>\n",
       "      <td>6248.51</td>\n",
       "      <td>12.0</td>\n",
       "      <td>45523.0</td>\n",
       "    </tr>\n",
       "    <tr>\n",
       "      <th>3</th>\n",
       "      <td>13399</td>\n",
       "      <td>2МЕН ГРУПП</td>\n",
       "      <td>72</td>\n",
       "      <td>Тюменская область</td>\n",
       "      <td>г Тюмень, ул Профсоюзная, д. 56</td>\n",
       "      <td>Элитный</td>\n",
       "      <td>Другое</td>\n",
       "      <td>Без отделки</td>\n",
       "      <td>2024-12-31</td>\n",
       "      <td>0.917243</td>\n",
       "      <td>125</td>\n",
       "      <td>0</td>\n",
       "      <td>0.00</td>\n",
       "      <td>1.0</td>\n",
       "      <td>50768.0</td>\n",
       "    </tr>\n",
       "    <tr>\n",
       "      <th>4</th>\n",
       "      <td>13398</td>\n",
       "      <td>2МЕН ГРУПП</td>\n",
       "      <td>72</td>\n",
       "      <td>Тюменская область</td>\n",
       "      <td>г Тюмень, ул Профсоюзная, д. 56</td>\n",
       "      <td>Элитный</td>\n",
       "      <td>Другое</td>\n",
       "      <td>Без отделки</td>\n",
       "      <td>2024-12-31</td>\n",
       "      <td>1.000000</td>\n",
       "      <td>0</td>\n",
       "      <td>43</td>\n",
       "      <td>4812.98</td>\n",
       "      <td>10.0</td>\n",
       "      <td>47886.0</td>\n",
       "    </tr>\n",
       "    <tr>\n",
       "      <th>...</th>\n",
       "      <td>...</td>\n",
       "      <td>...</td>\n",
       "      <td>...</td>\n",
       "      <td>...</td>\n",
       "      <td>...</td>\n",
       "      <td>...</td>\n",
       "      <td>...</td>\n",
       "      <td>...</td>\n",
       "      <td>...</td>\n",
       "      <td>...</td>\n",
       "      <td>...</td>\n",
       "      <td>...</td>\n",
       "      <td>...</td>\n",
       "      <td>...</td>\n",
       "      <td>...</td>\n",
       "    </tr>\n",
       "    <tr>\n",
       "      <th>10587</th>\n",
       "      <td>28072</td>\n",
       "      <td>ЯРКИЙ МИР</td>\n",
       "      <td>50</td>\n",
       "      <td>Московская область</td>\n",
       "      <td>г Котельники, район мкр.Ковровый, д.1-5, 24-29...</td>\n",
       "      <td>Типовой</td>\n",
       "      <td>Другое</td>\n",
       "      <td>Под ключ</td>\n",
       "      <td>2024-06-30</td>\n",
       "      <td>0.073569</td>\n",
       "      <td>0</td>\n",
       "      <td>312</td>\n",
       "      <td>14788.80</td>\n",
       "      <td>26.0</td>\n",
       "      <td>85610.0</td>\n",
       "    </tr>\n",
       "    <tr>\n",
       "      <th>10588</th>\n",
       "      <td>28071</td>\n",
       "      <td>ЯРКИЙ МИР</td>\n",
       "      <td>50</td>\n",
       "      <td>Московская область</td>\n",
       "      <td>г Котельники, район мкр.Ковровый, д.1-5, 24-29...</td>\n",
       "      <td>Типовой</td>\n",
       "      <td>Другое</td>\n",
       "      <td>Под ключ</td>\n",
       "      <td>2024-06-30</td>\n",
       "      <td>0.071155</td>\n",
       "      <td>0</td>\n",
       "      <td>288</td>\n",
       "      <td>14870.40</td>\n",
       "      <td>26.0</td>\n",
       "      <td>85604.0</td>\n",
       "    </tr>\n",
       "    <tr>\n",
       "      <th>10589</th>\n",
       "      <td>28073</td>\n",
       "      <td>ЯРКИЙ МИР</td>\n",
       "      <td>50</td>\n",
       "      <td>Московская область</td>\n",
       "      <td>г Котельники, район мкр.Ковровый, д.1-5, 24-29...</td>\n",
       "      <td>Типовой</td>\n",
       "      <td>Другое</td>\n",
       "      <td>Под ключ</td>\n",
       "      <td>2024-06-30</td>\n",
       "      <td>0.070834</td>\n",
       "      <td>0</td>\n",
       "      <td>312</td>\n",
       "      <td>14872.80</td>\n",
       "      <td>26.0</td>\n",
       "      <td>85634.0</td>\n",
       "    </tr>\n",
       "    <tr>\n",
       "      <th>10590</th>\n",
       "      <td>44447</td>\n",
       "      <td>ЯРОСЛАВЛЬЗАКАЗЧИК</td>\n",
       "      <td>76</td>\n",
       "      <td>Ярославская область</td>\n",
       "      <td>г Ярославль, Фрунзенский район, территория в р...</td>\n",
       "      <td>Типовой</td>\n",
       "      <td>Кирпич</td>\n",
       "      <td>Другое</td>\n",
       "      <td>2022-12-31</td>\n",
       "      <td>0.241243</td>\n",
       "      <td>0</td>\n",
       "      <td>127</td>\n",
       "      <td>6764.22</td>\n",
       "      <td>6.0</td>\n",
       "      <td>69916.0</td>\n",
       "    </tr>\n",
       "    <tr>\n",
       "      <th>10591</th>\n",
       "      <td>45321</td>\n",
       "      <td>‹‹СЗ ‹‹СТРОЙ-НАДЕЖДА››</td>\n",
       "      <td>32</td>\n",
       "      <td>Брянская область</td>\n",
       "      <td>г Брянск, улица Молодой Гвардии, строение Поз.1</td>\n",
       "      <td>Типовой</td>\n",
       "      <td>Монолит-кирпич</td>\n",
       "      <td>Без отделки</td>\n",
       "      <td>2023-03-31</td>\n",
       "      <td>0.088968</td>\n",
       "      <td>0</td>\n",
       "      <td>90</td>\n",
       "      <td>5288.40</td>\n",
       "      <td>11.0</td>\n",
       "      <td>68188.0</td>\n",
       "    </tr>\n",
       "  </tbody>\n",
       "</table>\n",
       "<p>10592 rows × 15 columns</p>\n",
       "</div>"
      ],
      "text/plain": [
       "       id дома              застройщик  номер региона     название региона  \\\n",
       "0        29679                   212-2             61   Ростовская область   \n",
       "1        13383              2МЕН ГРУПП             72    Тюменская область   \n",
       "2        13397              2МЕН ГРУПП             72    Тюменская область   \n",
       "3        13399              2МЕН ГРУПП             72    Тюменская область   \n",
       "4        13398              2МЕН ГРУПП             72    Тюменская область   \n",
       "...        ...                     ...            ...                  ...   \n",
       "10587    28072               ЯРКИЙ МИР             50   Московская область   \n",
       "10588    28071               ЯРКИЙ МИР             50   Московская область   \n",
       "10589    28073               ЯРКИЙ МИР             50   Московская область   \n",
       "10590    44447       ЯРОСЛАВЛЬЗАКАЗЧИК             76  Ярославская область   \n",
       "10591    45321  ‹‹СЗ ‹‹СТРОЙ-НАДЕЖДА››             32     Брянская область   \n",
       "\n",
       "                                              адрес дома класс недвижимости  \\\n",
       "0                                             г Таганрог            Комфорт   \n",
       "1                                               г Тюмень            Элитный   \n",
       "2                        г Тюмень, ул Профсоюзная, д. 56            Элитный   \n",
       "3                        г Тюмень, ул Профсоюзная, д. 56            Элитный   \n",
       "4                        г Тюмень, ул Профсоюзная, д. 56            Элитный   \n",
       "...                                                  ...                ...   \n",
       "10587  г Котельники, район мкр.Ковровый, д.1-5, 24-29...            Типовой   \n",
       "10588  г Котельники, район мкр.Ковровый, д.1-5, 24-29...            Типовой   \n",
       "10589  г Котельники, район мкр.Ковровый, д.1-5, 24-29...            Типовой   \n",
       "10590  г Ярославль, Фрунзенский район, территория в р...            Типовой   \n",
       "10591    г Брянск, улица Молодой Гвардии, строение Поз.1            Типовой   \n",
       "\n",
       "        материал стен           тип отделки ввод в эксплуатацию  \\\n",
       "0              Другое              Под ключ          2020-03-31   \n",
       "1              Другое  По желанию заказчика          2022-12-31   \n",
       "2              Другое           Без отделки          2024-12-31   \n",
       "3              Другое           Без отделки          2024-12-31   \n",
       "4              Другое           Без отделки          2024-12-31   \n",
       "...               ...                   ...                 ...   \n",
       "10587          Другое              Под ключ          2024-06-30   \n",
       "10588          Другое              Под ключ          2024-06-30   \n",
       "10589          Другое              Под ключ          2024-06-30   \n",
       "10590          Кирпич                Другое          2022-12-31   \n",
       "10591  Монолит-кирпич           Без отделки          2023-03-31   \n",
       "\n",
       "       распроданность квартир  количество мест в паркинге  количество квартир  \\\n",
       "0                         NaN                           0                  18   \n",
       "1                    0.407164                          31                  68   \n",
       "2                    0.999984                           0                  65   \n",
       "3                    0.917243                         125                   0   \n",
       "4                    1.000000                           0                  43   \n",
       "...                       ...                         ...                 ...   \n",
       "10587                0.073569                           0                 312   \n",
       "10588                0.071155                           0                 288   \n",
       "10589                0.070834                           0                 312   \n",
       "10590                0.241243                           0                 127   \n",
       "10591                0.088968                           0                  90   \n",
       "\n",
       "       жилая площадь  количество этажей  средняя цена за 1 м²  \n",
       "0            1519.00                NaN                   NaN  \n",
       "1            6293.78               20.0               53109.0  \n",
       "2            6248.51               12.0               45523.0  \n",
       "3               0.00                1.0               50768.0  \n",
       "4            4812.98               10.0               47886.0  \n",
       "...              ...                ...                   ...  \n",
       "10587       14788.80               26.0               85610.0  \n",
       "10588       14870.40               26.0               85604.0  \n",
       "10589       14872.80               26.0               85634.0  \n",
       "10590        6764.22                6.0               69916.0  \n",
       "10591        5288.40               11.0               68188.0  \n",
       "\n",
       "[10592 rows x 15 columns]"
      ]
     },
     "execution_count": 16,
     "metadata": {},
     "output_type": "execute_result"
    }
   ],
   "source": [
    "df3"
   ]
  },
  {
   "cell_type": "code",
   "execution_count": 17,
   "metadata": {},
   "outputs": [
    {
     "data": {
      "text/html": [
       "<div>\n",
       "<style scoped>\n",
       "    .dataframe tbody tr th:only-of-type {\n",
       "        vertical-align: middle;\n",
       "    }\n",
       "\n",
       "    .dataframe tbody tr th {\n",
       "        vertical-align: top;\n",
       "    }\n",
       "\n",
       "    .dataframe thead th {\n",
       "        text-align: right;\n",
       "    }\n",
       "</style>\n",
       "<table border=\"1\" class=\"dataframe\">\n",
       "  <thead>\n",
       "    <tr style=\"text-align: right;\">\n",
       "      <th></th>\n",
       "      <th>id дома</th>\n",
       "      <th>номер региона</th>\n",
       "      <th>распроданность квартир</th>\n",
       "      <th>количество мест в паркинге</th>\n",
       "      <th>количество квартир</th>\n",
       "      <th>жилая площадь</th>\n",
       "      <th>количество этажей</th>\n",
       "      <th>средняя цена за 1 м²</th>\n",
       "    </tr>\n",
       "  </thead>\n",
       "  <tbody>\n",
       "    <tr>\n",
       "      <th>count</th>\n",
       "      <td>10592.000000</td>\n",
       "      <td>10592.000000</td>\n",
       "      <td>7.707000e+03</td>\n",
       "      <td>10592.000000</td>\n",
       "      <td>10592.000000</td>\n",
       "      <td>10592.000000</td>\n",
       "      <td>10591.000000</td>\n",
       "      <td>7.702000e+03</td>\n",
       "    </tr>\n",
       "    <tr>\n",
       "      <th>mean</th>\n",
       "      <td>38457.713085</td>\n",
       "      <td>48.518788</td>\n",
       "      <td>4.649594e-01</td>\n",
       "      <td>36.626511</td>\n",
       "      <td>190.775963</td>\n",
       "      <td>9463.424954</td>\n",
       "      <td>12.522236</td>\n",
       "      <td>1.133708e+05</td>\n",
       "    </tr>\n",
       "    <tr>\n",
       "      <th>std</th>\n",
       "      <td>9883.265776</td>\n",
       "      <td>23.241748</td>\n",
       "      <td>3.478007e-01</td>\n",
       "      <td>116.158713</td>\n",
       "      <td>237.093904</td>\n",
       "      <td>11430.693076</td>\n",
       "      <td>8.422700</td>\n",
       "      <td>1.124996e+05</td>\n",
       "    </tr>\n",
       "    <tr>\n",
       "      <th>min</th>\n",
       "      <td>1259.000000</td>\n",
       "      <td>1.000000</td>\n",
       "      <td>7.770370e-07</td>\n",
       "      <td>0.000000</td>\n",
       "      <td>0.000000</td>\n",
       "      <td>0.000000</td>\n",
       "      <td>0.000000</td>\n",
       "      <td>1.000000e+03</td>\n",
       "    </tr>\n",
       "    <tr>\n",
       "      <th>25%</th>\n",
       "      <td>36145.750000</td>\n",
       "      <td>26.000000</td>\n",
       "      <td>1.224281e-01</td>\n",
       "      <td>0.000000</td>\n",
       "      <td>40.000000</td>\n",
       "      <td>2112.285000</td>\n",
       "      <td>5.000000</td>\n",
       "      <td>6.306450e+04</td>\n",
       "    </tr>\n",
       "    <tr>\n",
       "      <th>50%</th>\n",
       "      <td>41723.500000</td>\n",
       "      <td>50.000000</td>\n",
       "      <td>4.339038e-01</td>\n",
       "      <td>0.000000</td>\n",
       "      <td>125.000000</td>\n",
       "      <td>6482.510000</td>\n",
       "      <td>11.000000</td>\n",
       "      <td>8.736500e+04</td>\n",
       "    </tr>\n",
       "    <tr>\n",
       "      <th>75%</th>\n",
       "      <td>45099.250000</td>\n",
       "      <td>71.000000</td>\n",
       "      <td>7.854767e-01</td>\n",
       "      <td>0.000000</td>\n",
       "      <td>254.000000</td>\n",
       "      <td>12500.112500</td>\n",
       "      <td>18.000000</td>\n",
       "      <td>1.291055e+05</td>\n",
       "    </tr>\n",
       "    <tr>\n",
       "      <th>max</th>\n",
       "      <td>47965.000000</td>\n",
       "      <td>92.000000</td>\n",
       "      <td>1.000000e+00</td>\n",
       "      <td>3580.000000</td>\n",
       "      <td>2676.000000</td>\n",
       "      <td>142978.700000</td>\n",
       "      <td>76.000000</td>\n",
       "      <td>2.583664e+06</td>\n",
       "    </tr>\n",
       "  </tbody>\n",
       "</table>\n",
       "</div>"
      ],
      "text/plain": [
       "            id дома  номер региона  распроданность квартир  \\\n",
       "count  10592.000000   10592.000000            7.707000e+03   \n",
       "mean   38457.713085      48.518788            4.649594e-01   \n",
       "std     9883.265776      23.241748            3.478007e-01   \n",
       "min     1259.000000       1.000000            7.770370e-07   \n",
       "25%    36145.750000      26.000000            1.224281e-01   \n",
       "50%    41723.500000      50.000000            4.339038e-01   \n",
       "75%    45099.250000      71.000000            7.854767e-01   \n",
       "max    47965.000000      92.000000            1.000000e+00   \n",
       "\n",
       "       количество мест в паркинге  количество квартир  жилая площадь  \\\n",
       "count                10592.000000        10592.000000   10592.000000   \n",
       "mean                    36.626511          190.775963    9463.424954   \n",
       "std                    116.158713          237.093904   11430.693076   \n",
       "min                      0.000000            0.000000       0.000000   \n",
       "25%                      0.000000           40.000000    2112.285000   \n",
       "50%                      0.000000          125.000000    6482.510000   \n",
       "75%                      0.000000          254.000000   12500.112500   \n",
       "max                   3580.000000         2676.000000  142978.700000   \n",
       "\n",
       "       количество этажей  средняя цена за 1 м²  \n",
       "count       10591.000000          7.702000e+03  \n",
       "mean           12.522236          1.133708e+05  \n",
       "std             8.422700          1.124996e+05  \n",
       "min             0.000000          1.000000e+03  \n",
       "25%             5.000000          6.306450e+04  \n",
       "50%            11.000000          8.736500e+04  \n",
       "75%            18.000000          1.291055e+05  \n",
       "max            76.000000          2.583664e+06  "
      ]
     },
     "execution_count": 17,
     "metadata": {},
     "output_type": "execute_result"
    }
   ],
   "source": [
    "df3.describe()"
   ]
  },
  {
   "cell_type": "code",
   "execution_count": 18,
   "metadata": {},
   "outputs": [],
   "source": [
    "# Провести мини-исследование рынка строящейся недвижимости в одном или нескольких регионах\n",
    "# с помощью pandas, matplotlib, seaborn, plotly и других инструментов."
   ]
  },
  {
   "cell_type": "code",
   "execution_count": 19,
   "metadata": {},
   "outputs": [
    {
     "data": {
      "text/html": [
       "<div>\n",
       "<style scoped>\n",
       "    .dataframe tbody tr th:only-of-type {\n",
       "        vertical-align: middle;\n",
       "    }\n",
       "\n",
       "    .dataframe tbody tr th {\n",
       "        vertical-align: top;\n",
       "    }\n",
       "\n",
       "    .dataframe thead th {\n",
       "        text-align: right;\n",
       "    }\n",
       "</style>\n",
       "<table border=\"1\" class=\"dataframe\">\n",
       "  <thead>\n",
       "    <tr style=\"text-align: right;\">\n",
       "      <th></th>\n",
       "      <th>id дома</th>\n",
       "      <th>застройщик</th>\n",
       "      <th>номер региона</th>\n",
       "      <th>название региона</th>\n",
       "      <th>адрес дома</th>\n",
       "      <th>класс недвижимости</th>\n",
       "      <th>материал стен</th>\n",
       "      <th>тип отделки</th>\n",
       "      <th>ввод в эксплуатацию</th>\n",
       "      <th>распроданность квартир</th>\n",
       "      <th>количество мест в паркинге</th>\n",
       "      <th>количество квартир</th>\n",
       "      <th>жилая площадь</th>\n",
       "      <th>количество этажей</th>\n",
       "      <th>средняя цена за 1 м²</th>\n",
       "    </tr>\n",
       "  </thead>\n",
       "  <tbody>\n",
       "    <tr>\n",
       "      <th>0</th>\n",
       "      <td>41000</td>\n",
       "      <td>ГК ЖБИ-2</td>\n",
       "      <td>69</td>\n",
       "      <td>Тверская область</td>\n",
       "      <td>г Тверь, переулок 1-ый Вагонников, д. 6</td>\n",
       "      <td>Комфорт</td>\n",
       "      <td>Кирпич</td>\n",
       "      <td>Без отделки</td>\n",
       "      <td>2023-06-30</td>\n",
       "      <td>0.020472</td>\n",
       "      <td>0</td>\n",
       "      <td>55</td>\n",
       "      <td>3111.50</td>\n",
       "      <td>8.0</td>\n",
       "      <td>47400.0</td>\n",
       "    </tr>\n",
       "    <tr>\n",
       "      <th>1</th>\n",
       "      <td>40008</td>\n",
       "      <td>ГК ЖБИ-2</td>\n",
       "      <td>69</td>\n",
       "      <td>Тверская область</td>\n",
       "      <td>г Тверь, переулок 1-ый Вагонников, д. 6</td>\n",
       "      <td>Комфорт</td>\n",
       "      <td>Кирпич</td>\n",
       "      <td>Без отделки</td>\n",
       "      <td>2023-06-30</td>\n",
       "      <td>1.000000</td>\n",
       "      <td>0</td>\n",
       "      <td>79</td>\n",
       "      <td>4765.50</td>\n",
       "      <td>11.0</td>\n",
       "      <td>38946.0</td>\n",
       "    </tr>\n",
       "    <tr>\n",
       "      <th>2</th>\n",
       "      <td>5120</td>\n",
       "      <td>ЖИРАФ И К</td>\n",
       "      <td>69</td>\n",
       "      <td>Тверская область</td>\n",
       "      <td>г Тверь, улица Терещенко, д. 6, корпус 4</td>\n",
       "      <td>Типовой</td>\n",
       "      <td>Другое</td>\n",
       "      <td>По желанию заказчика</td>\n",
       "      <td>2022-09-30</td>\n",
       "      <td>1.000000</td>\n",
       "      <td>0</td>\n",
       "      <td>79</td>\n",
       "      <td>4097.10</td>\n",
       "      <td>16.0</td>\n",
       "      <td>41180.0</td>\n",
       "    </tr>\n",
       "    <tr>\n",
       "      <th>3</th>\n",
       "      <td>46139</td>\n",
       "      <td>ИСК ФИНАНСИНВЕСТ</td>\n",
       "      <td>69</td>\n",
       "      <td>Москва город</td>\n",
       "      <td>г Тверь, ул Складская, д. 164</td>\n",
       "      <td>Комфорт</td>\n",
       "      <td>Монолит-кирпич</td>\n",
       "      <td>Без отделки</td>\n",
       "      <td>2024-03-31</td>\n",
       "      <td>0.026067</td>\n",
       "      <td>0</td>\n",
       "      <td>309</td>\n",
       "      <td>14951.36</td>\n",
       "      <td>25.0</td>\n",
       "      <td>108609.0</td>\n",
       "    </tr>\n",
       "    <tr>\n",
       "      <th>4</th>\n",
       "      <td>40676</td>\n",
       "      <td>ИСК ФИНАНСИНВЕСТ</td>\n",
       "      <td>69</td>\n",
       "      <td>Москва город</td>\n",
       "      <td>г Тверь</td>\n",
       "      <td>Типовой</td>\n",
       "      <td>Монолит-кирпич</td>\n",
       "      <td>Без отделки</td>\n",
       "      <td>2023-09-30</td>\n",
       "      <td>0.688313</td>\n",
       "      <td>0</td>\n",
       "      <td>231</td>\n",
       "      <td>14082.92</td>\n",
       "      <td>23.0</td>\n",
       "      <td>68428.0</td>\n",
       "    </tr>\n",
       "    <tr>\n",
       "      <th>...</th>\n",
       "      <td>...</td>\n",
       "      <td>...</td>\n",
       "      <td>...</td>\n",
       "      <td>...</td>\n",
       "      <td>...</td>\n",
       "      <td>...</td>\n",
       "      <td>...</td>\n",
       "      <td>...</td>\n",
       "      <td>...</td>\n",
       "      <td>...</td>\n",
       "      <td>...</td>\n",
       "      <td>...</td>\n",
       "      <td>...</td>\n",
       "      <td>...</td>\n",
       "      <td>...</td>\n",
       "    </tr>\n",
       "    <tr>\n",
       "      <th>277</th>\n",
       "      <td>34611</td>\n",
       "      <td>УНИМАРКЕТ</td>\n",
       "      <td>40</td>\n",
       "      <td>Калужская область</td>\n",
       "      <td>г Калуга, улица Кутузова, д. 14 16</td>\n",
       "      <td>Комфорт</td>\n",
       "      <td>Кирпич</td>\n",
       "      <td>Без отделки</td>\n",
       "      <td>2022-12-31</td>\n",
       "      <td>0.890705</td>\n",
       "      <td>0</td>\n",
       "      <td>12</td>\n",
       "      <td>979.00</td>\n",
       "      <td>6.0</td>\n",
       "      <td>57912.0</td>\n",
       "    </tr>\n",
       "    <tr>\n",
       "      <th>278</th>\n",
       "      <td>42543</td>\n",
       "      <td>ФОНД ПОДДЕРЖКИ СТРОИТЕЛЬСТВА ДОСТУПНОГО ЖИЛЬЯ ...</td>\n",
       "      <td>40</td>\n",
       "      <td>Калужская область</td>\n",
       "      <td>п Воротынск, ул Сиреневый Бульвар, д. 8, строе...</td>\n",
       "      <td>Типовой</td>\n",
       "      <td>Другое</td>\n",
       "      <td>Без отделки</td>\n",
       "      <td>2022-12-31</td>\n",
       "      <td>0.072988</td>\n",
       "      <td>0</td>\n",
       "      <td>60</td>\n",
       "      <td>3148.20</td>\n",
       "      <td>6.0</td>\n",
       "      <td>32661.0</td>\n",
       "    </tr>\n",
       "    <tr>\n",
       "      <th>279</th>\n",
       "      <td>37771</td>\n",
       "      <td>ЦЕНТРСТРОЙ</td>\n",
       "      <td>69</td>\n",
       "      <td>Тверская область</td>\n",
       "      <td>г Тверь, ул Гончаровой, д. 34</td>\n",
       "      <td>Комфорт</td>\n",
       "      <td>Кирпич</td>\n",
       "      <td>Без отделки</td>\n",
       "      <td>2023-06-30</td>\n",
       "      <td>0.981185</td>\n",
       "      <td>0</td>\n",
       "      <td>94</td>\n",
       "      <td>4283.80</td>\n",
       "      <td>9.0</td>\n",
       "      <td>60133.0</td>\n",
       "    </tr>\n",
       "    <tr>\n",
       "      <th>280</th>\n",
       "      <td>37772</td>\n",
       "      <td>ЦЕНТРСТРОЙ</td>\n",
       "      <td>69</td>\n",
       "      <td>Тверская область</td>\n",
       "      <td>г Тверь, ул Гончаровой, д. 34</td>\n",
       "      <td>Комфорт</td>\n",
       "      <td>Кирпич</td>\n",
       "      <td>Без отделки</td>\n",
       "      <td>2023-06-30</td>\n",
       "      <td>NaN</td>\n",
       "      <td>0</td>\n",
       "      <td>0</td>\n",
       "      <td>0.00</td>\n",
       "      <td>1.0</td>\n",
       "      <td>NaN</td>\n",
       "    </tr>\n",
       "    <tr>\n",
       "      <th>281</th>\n",
       "      <td>45321</td>\n",
       "      <td>‹‹СЗ ‹‹СТРОЙ-НАДЕЖДА››</td>\n",
       "      <td>32</td>\n",
       "      <td>Брянская область</td>\n",
       "      <td>г Брянск, улица Молодой Гвардии, строение Поз.1</td>\n",
       "      <td>Типовой</td>\n",
       "      <td>Монолит-кирпич</td>\n",
       "      <td>Без отделки</td>\n",
       "      <td>2023-03-31</td>\n",
       "      <td>0.088968</td>\n",
       "      <td>0</td>\n",
       "      <td>90</td>\n",
       "      <td>5288.40</td>\n",
       "      <td>11.0</td>\n",
       "      <td>68188.0</td>\n",
       "    </tr>\n",
       "  </tbody>\n",
       "</table>\n",
       "<p>282 rows × 15 columns</p>\n",
       "</div>"
      ],
      "text/plain": [
       "     id дома                                         застройщик  \\\n",
       "0      41000                                           ГК ЖБИ-2   \n",
       "1      40008                                           ГК ЖБИ-2   \n",
       "2       5120                                          ЖИРАФ И К   \n",
       "3      46139                                   ИСК ФИНАНСИНВЕСТ   \n",
       "4      40676                                   ИСК ФИНАНСИНВЕСТ   \n",
       "..       ...                                                ...   \n",
       "277    34611                                          УНИМАРКЕТ   \n",
       "278    42543  ФОНД ПОДДЕРЖКИ СТРОИТЕЛЬСТВА ДОСТУПНОГО ЖИЛЬЯ ...   \n",
       "279    37771                                         ЦЕНТРСТРОЙ   \n",
       "280    37772                                         ЦЕНТРСТРОЙ   \n",
       "281    45321                             ‹‹СЗ ‹‹СТРОЙ-НАДЕЖДА››   \n",
       "\n",
       "     номер региона   название региона  \\\n",
       "0               69   Тверская область   \n",
       "1               69   Тверская область   \n",
       "2               69   Тверская область   \n",
       "3               69       Москва город   \n",
       "4               69       Москва город   \n",
       "..             ...                ...   \n",
       "277             40  Калужская область   \n",
       "278             40  Калужская область   \n",
       "279             69   Тверская область   \n",
       "280             69   Тверская область   \n",
       "281             32   Брянская область   \n",
       "\n",
       "                                            адрес дома класс недвижимости  \\\n",
       "0              г Тверь, переулок 1-ый Вагонников, д. 6            Комфорт   \n",
       "1              г Тверь, переулок 1-ый Вагонников, д. 6            Комфорт   \n",
       "2             г Тверь, улица Терещенко, д. 6, корпус 4            Типовой   \n",
       "3                        г Тверь, ул Складская, д. 164            Комфорт   \n",
       "4                                              г Тверь            Типовой   \n",
       "..                                                 ...                ...   \n",
       "277                 г Калуга, улица Кутузова, д. 14 16            Комфорт   \n",
       "278  п Воротынск, ул Сиреневый Бульвар, д. 8, строе...            Типовой   \n",
       "279                      г Тверь, ул Гончаровой, д. 34            Комфорт   \n",
       "280                      г Тверь, ул Гончаровой, д. 34            Комфорт   \n",
       "281    г Брянск, улица Молодой Гвардии, строение Поз.1            Типовой   \n",
       "\n",
       "      материал стен           тип отделки ввод в эксплуатацию  \\\n",
       "0            Кирпич           Без отделки          2023-06-30   \n",
       "1            Кирпич           Без отделки          2023-06-30   \n",
       "2            Другое  По желанию заказчика          2022-09-30   \n",
       "3    Монолит-кирпич           Без отделки          2024-03-31   \n",
       "4    Монолит-кирпич           Без отделки          2023-09-30   \n",
       "..              ...                   ...                 ...   \n",
       "277          Кирпич           Без отделки          2022-12-31   \n",
       "278          Другое           Без отделки          2022-12-31   \n",
       "279          Кирпич           Без отделки          2023-06-30   \n",
       "280          Кирпич           Без отделки          2023-06-30   \n",
       "281  Монолит-кирпич           Без отделки          2023-03-31   \n",
       "\n",
       "     распроданность квартир  количество мест в паркинге  количество квартир  \\\n",
       "0                  0.020472                           0                  55   \n",
       "1                  1.000000                           0                  79   \n",
       "2                  1.000000                           0                  79   \n",
       "3                  0.026067                           0                 309   \n",
       "4                  0.688313                           0                 231   \n",
       "..                      ...                         ...                 ...   \n",
       "277                0.890705                           0                  12   \n",
       "278                0.072988                           0                  60   \n",
       "279                0.981185                           0                  94   \n",
       "280                     NaN                           0                   0   \n",
       "281                0.088968                           0                  90   \n",
       "\n",
       "     жилая площадь  количество этажей  средняя цена за 1 м²  \n",
       "0          3111.50                8.0               47400.0  \n",
       "1          4765.50               11.0               38946.0  \n",
       "2          4097.10               16.0               41180.0  \n",
       "3         14951.36               25.0              108609.0  \n",
       "4         14082.92               23.0               68428.0  \n",
       "..             ...                ...                   ...  \n",
       "277         979.00                6.0               57912.0  \n",
       "278        3148.20                6.0               32661.0  \n",
       "279        4283.80                9.0               60133.0  \n",
       "280           0.00                1.0                   NaN  \n",
       "281        5288.40               11.0               68188.0  \n",
       "\n",
       "[282 rows x 15 columns]"
      ]
     },
     "execution_count": 19,
     "metadata": {},
     "output_type": "execute_result"
    }
   ],
   "source": [
    "# выберем Смоленскую, Калужскую, Тверьскую и Брянскую области\n",
    "sktb = df3.loc[(df3['номер региона'] == 67) | (df3['номер региона'] == 40) | \n",
    "                (df3['номер региона'] == 69) | (df3['номер региона'] == 32)]\n",
    "sktb = sktb.reset_index()\n",
    "sktb = sktb.drop(['index'],axis=1)\n",
    "sktb"
   ]
  },
  {
   "cell_type": "code",
   "execution_count": 20,
   "metadata": {},
   "outputs": [
    {
     "name": "stdout",
     "output_type": "stream",
     "text": [
      "<class 'pandas.core.frame.DataFrame'>\n",
      "RangeIndex: 282 entries, 0 to 281\n",
      "Data columns (total 15 columns):\n",
      " #   Column                      Non-Null Count  Dtype         \n",
      "---  ------                      --------------  -----         \n",
      " 0   id дома                     282 non-null    int64         \n",
      " 1   застройщик                  282 non-null    object        \n",
      " 2   номер региона               282 non-null    int64         \n",
      " 3   название региона            282 non-null    object        \n",
      " 4   адрес дома                  282 non-null    object        \n",
      " 5   класс недвижимости          282 non-null    object        \n",
      " 6   материал стен               282 non-null    object        \n",
      " 7   тип отделки                 282 non-null    object        \n",
      " 8   ввод в эксплуатацию         282 non-null    datetime64[ns]\n",
      " 9   распроданность квартир      216 non-null    float64       \n",
      " 10  количество мест в паркинге  282 non-null    int64         \n",
      " 11  количество квартир          282 non-null    int64         \n",
      " 12  жилая площадь               282 non-null    float64       \n",
      " 13  количество этажей           282 non-null    float64       \n",
      " 14  средняя цена за 1 м²        216 non-null    float64       \n",
      "dtypes: datetime64[ns](1), float64(4), int64(4), object(6)\n",
      "memory usage: 33.2+ KB\n"
     ]
    }
   ],
   "source": [
    "sktb.info()"
   ]
  },
  {
   "cell_type": "code",
   "execution_count": 62,
   "metadata": {},
   "outputs": [
    {
     "data": {
      "text/plain": [
       "Text(0.5, 1.0, 'Пропущенные значения')"
      ]
     },
     "execution_count": 62,
     "metadata": {},
     "output_type": "execute_result"
    },
    {
     "data": {
      "image/png": "[encoded data removed]",
      "text/plain": [
       "<Figure size 432x288 with 1 Axes>"
      ]
     },
     "metadata": {
      "needs_background": "light"
     },
     "output_type": "display_data"
    }
   ],
   "source": [
    "# строим график пропущенных значений\n",
    "sns.heatmap(sktb.isnull(), cbar = False).set_title(\"Пропущенные значения\")"
   ]
  },
  {
   "cell_type": "code",
   "execution_count": 22,
   "metadata": {},
   "outputs": [
    {
     "data": {
      "text/plain": [
       "номер региона  название региона    \n",
       "32             Брянская область        60\n",
       "               Москва город             2\n",
       "40             Калужская область       36\n",
       "               Московская область      24\n",
       "               Смоленская область       9\n",
       "               Москва город             3\n",
       "               Брянская область         1\n",
       "67             Смоленская область      60\n",
       "               Московская область       2\n",
       "               Свердловская область     1\n",
       "69             Тверская область        71\n",
       "               Москва город             6\n",
       "               Московская область       5\n",
       "               Рязанская область        2\n",
       "dtype: int64"
      ]
     },
     "execution_count": 22,
     "metadata": {},
     "output_type": "execute_result"
    }
   ],
   "source": [
    "# нестыковка (неместные застройщики в сторонних регионах)\n",
    "sktb.groupby('номер региона')[['название региона']].value_counts()"
   ]
  },
  {
   "cell_type": "code",
   "execution_count": 58,
   "metadata": {},
   "outputs": [
    {
     "data": {
      "text/plain": [
       "69    84\n",
       "40    73\n",
       "67    63\n",
       "32    62\n",
       "Name: номер региона, dtype: int64"
      ]
     },
     "execution_count": 58,
     "metadata": {},
     "output_type": "execute_result"
    }
   ],
   "source": [
    "# количество строящихся домов по регионам\n",
    "g1 =sktb['номер региона'].value_counts()\n",
    "g1"
   ]
  },
  {
   "cell_type": "code",
   "execution_count": 60,
   "metadata": {},
   "outputs": [
    {
     "data": {
      "image/png": "[encoded data removed]",
      "text/plain": [
       "<Figure size 432x288 with 1 Axes>"
      ]
     },
     "metadata": {
      "needs_background": "light"
     },
     "output_type": "display_data"
    }
   ],
   "source": [
    "g1.plot(kind='bar')\n",
    "plt.xlabel('регион')\n",
    "plt.ylabel('количество домов')\n",
    "plt.title(\"Количество строящихся домов по регионам\")\n",
    "plt.show()"
   ]
  },
  {
   "cell_type": "code",
   "execution_count": 64,
   "metadata": {},
   "outputs": [
    {
     "data": {
      "text/html": [
       "<div>\n",
       "<style scoped>\n",
       "    .dataframe tbody tr th:only-of-type {\n",
       "        vertical-align: middle;\n",
       "    }\n",
       "\n",
       "    .dataframe tbody tr th {\n",
       "        vertical-align: top;\n",
       "    }\n",
       "\n",
       "    .dataframe thead th {\n",
       "        text-align: right;\n",
       "    }\n",
       "</style>\n",
       "<table border=\"1\" class=\"dataframe\">\n",
       "  <thead>\n",
       "    <tr style=\"text-align: right;\">\n",
       "      <th></th>\n",
       "      <th>min</th>\n",
       "      <th>max</th>\n",
       "      <th>mean</th>\n",
       "    </tr>\n",
       "    <tr>\n",
       "      <th>номер региона</th>\n",
       "      <th></th>\n",
       "      <th></th>\n",
       "      <th></th>\n",
       "    </tr>\n",
       "  </thead>\n",
       "  <tbody>\n",
       "    <tr>\n",
       "      <th>67</th>\n",
       "      <td>15337.0</td>\n",
       "      <td>83941.0</td>\n",
       "      <td>51771.250000</td>\n",
       "    </tr>\n",
       "    <tr>\n",
       "      <th>32</th>\n",
       "      <td>20306.0</td>\n",
       "      <td>81096.0</td>\n",
       "      <td>57713.739130</td>\n",
       "    </tr>\n",
       "    <tr>\n",
       "      <th>69</th>\n",
       "      <td>15000.0</td>\n",
       "      <td>117410.0</td>\n",
       "      <td>67183.745455</td>\n",
       "    </tr>\n",
       "    <tr>\n",
       "      <th>40</th>\n",
       "      <td>25897.0</td>\n",
       "      <td>168944.0</td>\n",
       "      <td>78270.966102</td>\n",
       "    </tr>\n",
       "  </tbody>\n",
       "</table>\n",
       "</div>"
      ],
      "text/plain": [
       "                   min       max          mean\n",
       "номер региона                                 \n",
       "67             15337.0   83941.0  51771.250000\n",
       "32             20306.0   81096.0  57713.739130\n",
       "69             15000.0  117410.0  67183.745455\n",
       "40             25897.0  168944.0  78270.966102"
      ]
     },
     "execution_count": 64,
     "metadata": {},
     "output_type": "execute_result"
    }
   ],
   "source": [
    "# Рассчитать средние цены за квадратный метр по регионам. Важно чтобы пропуски не учитывались при расчете средней цены.\n",
    "# Любые значения NaN автоматически пропускаются (не трогаем).\n",
    "g2 = sktb.groupby('номер региона')['средняя цена за 1 м²'].agg(['min', 'max', 'mean']).sort_values('mean')\n",
    "g2"
   ]
  },
  {
   "cell_type": "code",
   "execution_count": 100,
   "metadata": {},
   "outputs": [
    {
     "data": {
      "image/png": "[encoded data removed]",
      "text/plain": [
       "<Figure size 648x864 with 1 Axes>"
      ]
     },
     "metadata": {
      "needs_background": "light"
     },
     "output_type": "display_data"
    }
   ],
   "source": [
    "g2['mean'].plot(kind='barh', color='c')\n",
    "plt.show()"
   ]
  },
  {
   "cell_type": "code",
   "execution_count": 26,
   "metadata": {},
   "outputs": [],
   "source": [
    "# Вывод: самые дорогие квартиры в Калужской области, самые дешевые в Смоленской области"
   ]
  },
  {
   "cell_type": "code",
   "execution_count": 34,
   "metadata": {},
   "outputs": [
    {
     "data": {
      "text/html": [
       "<div>\n",
       "<style scoped>\n",
       "    .dataframe tbody tr th:only-of-type {\n",
       "        vertical-align: middle;\n",
       "    }\n",
       "\n",
       "    .dataframe tbody tr th {\n",
       "        vertical-align: top;\n",
       "    }\n",
       "\n",
       "    .dataframe thead th {\n",
       "        text-align: right;\n",
       "    }\n",
       "</style>\n",
       "<table border=\"1\" class=\"dataframe\">\n",
       "  <thead>\n",
       "    <tr style=\"text-align: right;\">\n",
       "      <th></th>\n",
       "      <th>жилая площадь</th>\n",
       "    </tr>\n",
       "    <tr>\n",
       "      <th>номер региона</th>\n",
       "      <th></th>\n",
       "    </tr>\n",
       "  </thead>\n",
       "  <tbody>\n",
       "    <tr>\n",
       "      <th>67</th>\n",
       "      <td>315586.88</td>\n",
       "    </tr>\n",
       "    <tr>\n",
       "      <th>40</th>\n",
       "      <td>462279.58</td>\n",
       "    </tr>\n",
       "    <tr>\n",
       "      <th>69</th>\n",
       "      <td>473105.43</td>\n",
       "    </tr>\n",
       "    <tr>\n",
       "      <th>32</th>\n",
       "      <td>488846.73</td>\n",
       "    </tr>\n",
       "  </tbody>\n",
       "</table>\n",
       "</div>"
      ],
      "text/plain": [
       "               жилая площадь\n",
       "номер региона               \n",
       "67                 315586.88\n",
       "40                 462279.58\n",
       "69                 473105.43\n",
       "32                 488846.73"
      ]
     },
     "execution_count": 34,
     "metadata": {},
     "output_type": "execute_result"
    }
   ],
   "source": [
    "# Рассчитать объемы вводимого жилья по регионам и по годам.\n",
    "g = (sktb.groupby(sktb['номер региона'])[['жилая площадь']].sum()).sort_values('жилая площадь')\n",
    "g"
   ]
  },
  {
   "cell_type": "code",
   "execution_count": 99,
   "metadata": {},
   "outputs": [
    {
     "data": {
      "image/png": "[encoded data removed]",
      "text/plain": [
       "<Figure size 720x432 with 4 Axes>"
      ]
     },
     "metadata": {
      "needs_background": "light"
     },
     "output_type": "display_data"
    }
   ],
   "source": [
    "# sktb['средняя цена за 1 м²'].fillna(0, inplace = True)\n",
    "fig, ax = plt.subplots(nrows=2,ncols=2)\n",
    "ax1, ax2, ax3, ax4 = ax.flatten()\n",
    "ax1.scatter(sktb.loc[sktb['номер региона'] == 67]['id дома'],sktb.loc[sktb['номер региона'] == 67]['жилая площадь'],color='r', marker=\"^\")\n",
    "ax2.scatter(sktb.loc[sktb['номер региона'] == 32]['id дома'],sktb.loc[sktb['номер региона'] == 32]['жилая площадь'],color='y', marker=\"*\")\n",
    "ax3.scatter(sktb.loc[sktb['номер региона'] == 40]['id дома'],sktb.loc[sktb['номер региона'] == 40]['жилая площадь'],color='g',marker=\"+\")\n",
    "ax4.scatter(sktb.loc[sktb['номер региона'] == 69]['id дома'],sktb.loc[sktb['номер региона'] == 69]['жилая площадь'])\n",
    "fig.set_size_inches(10,6)"
   ]
  },
  {
   "cell_type": "code",
   "execution_count": 53,
   "metadata": {},
   "outputs": [
    {
     "data": {
      "image/png": "[encoded data removed]",
      "text/plain": [
       "<Figure size 432x288 with 1 Axes>"
      ]
     },
     "metadata": {},
     "output_type": "display_data"
    }
   ],
   "source": [
    "v = g['жилая площадь']\n",
    "labels = g.index\n",
    "explode = [0, 0.1, 0, 0.2]\n",
    "plt.pie(v, labels=labels, explode=explode, autopct=\"%1.1f%%\")\n",
    "plt.title(\"Объемы вводимого жилья по регионам\")\n",
    "plt.show()"
   ]
  },
  {
   "cell_type": "code",
   "execution_count": 28,
   "metadata": {},
   "outputs": [],
   "source": [
    "# Вывод: больше всего строят жилой площади в Брянской области"
   ]
  },
  {
   "cell_type": "code",
   "execution_count": 29,
   "metadata": {},
   "outputs": [],
   "source": [
    "# посчитаем количество лет дома от сегодня до ввода в эксплуатацию ввод в эксплуатацию\n",
    "today = datetime.combine(date.today(), datetime.min.time()) # сегодня\n",
    "sktb['срок'] = sktb['ввод в эксплуатацию'].apply(lambda x: (x - today).days / 365)"
   ]
  },
  {
   "cell_type": "code",
   "execution_count": 117,
   "metadata": {},
   "outputs": [
    {
     "data": {
      "text/html": [
       "<div>\n",
       "<style scoped>\n",
       "    .dataframe tbody tr th:only-of-type {\n",
       "        vertical-align: middle;\n",
       "    }\n",
       "\n",
       "    .dataframe tbody tr th {\n",
       "        vertical-align: top;\n",
       "    }\n",
       "\n",
       "    .dataframe thead tr th {\n",
       "        text-align: left;\n",
       "    }\n",
       "\n",
       "    .dataframe thead tr:last-of-type th {\n",
       "        text-align: right;\n",
       "    }\n",
       "</style>\n",
       "<table border=\"1\" class=\"dataframe\">\n",
       "  <thead>\n",
       "    <tr>\n",
       "      <th></th>\n",
       "      <th colspan=\"2\" halign=\"left\">срок</th>\n",
       "    </tr>\n",
       "    <tr>\n",
       "      <th></th>\n",
       "      <th>count</th>\n",
       "      <th>mean</th>\n",
       "    </tr>\n",
       "    <tr>\n",
       "      <th>номер региона</th>\n",
       "      <th></th>\n",
       "      <th></th>\n",
       "    </tr>\n",
       "  </thead>\n",
       "  <tbody>\n",
       "    <tr>\n",
       "      <th>32</th>\n",
       "      <td>62</td>\n",
       "      <td>1.162086</td>\n",
       "    </tr>\n",
       "    <tr>\n",
       "      <th>40</th>\n",
       "      <td>73</td>\n",
       "      <td>0.691649</td>\n",
       "    </tr>\n",
       "    <tr>\n",
       "      <th>67</th>\n",
       "      <td>63</td>\n",
       "      <td>1.235095</td>\n",
       "    </tr>\n",
       "    <tr>\n",
       "      <th>69</th>\n",
       "      <td>84</td>\n",
       "      <td>0.951924</td>\n",
       "    </tr>\n",
       "  </tbody>\n",
       "</table>\n",
       "</div>"
      ],
      "text/plain": [
       "               срок          \n",
       "              count      mean\n",
       "номер региона                \n",
       "32               62  1.162086\n",
       "40               73  0.691649\n",
       "67               63  1.235095\n",
       "69               84  0.951924"
      ]
     },
     "execution_count": 117,
     "metadata": {},
     "output_type": "execute_result"
    }
   ],
   "source": [
    "# посчитаем средний срок до ввода домов в эксплуатацию по регионам\n",
    "today = datetime.combine(date.today(), datetime.min.time()) # сегодня\n",
    "g3 = sktb.groupby(['номер региона'])[['срок']].agg(['count', 'mean'])\n",
    "g3"
   ]
  },
  {
   "cell_type": "code",
   "execution_count": 31,
   "metadata": {},
   "outputs": [],
   "source": [
    "# Вывод: Быстрее всего строят в Калужской области"
   ]
  },
  {
   "cell_type": "code",
   "execution_count": 119,
   "metadata": {},
   "outputs": [
    {
     "data": {
      "application/vnd.plotly.v1+json": {
       "config": {
        "plotlyServerURL": "https://plot.ly"
       },
       "data": [
        {
         "alignmentgroup": "True",
         "hovertemplate": "x=%{x}<br>y=%{y}<extra></extra>",
         "legendgroup": "",
         "marker": {
          "color": "#636efa",
          "pattern": {
           "shape": ""
          }
         },
         "name": "",
         "offsetgroup": "",
         "orientation": "v",
         "showlegend": false,
         "textposition": "auto",
         "type": "bar",
         "x": [
          32,
          40,
          67,
          69
         ],
         "xaxis": "x",
         "y": [
          1.1620857269111797,
          0.6916494651904672,
          1.2350945857795173,
          0.9519243313763862
         ],
         "yaxis": "y"
        }
       ],
       "layout": {
        "barmode": "relative",
        "legend": {
         "tracegroupgap": 0
        },
        "margin": {
         "t": 60
        },
        "template": {
         "data": {
          "bar": [
           {
            "error_x": {
             "color": "#2a3f5f"
            },
            "error_y": {
             "color": "#2a3f5f"
            },
            "marker": {
             "line": {
              "color": "#E5ECF6",
              "width": 0.5
             },
             "pattern": {
              "fillmode": "overlay",
              "size": 10,
              "solidity": 0.2
             }
            },
            "type": "bar"
           }
          ],
          "barpolar": [
           {
            "marker": {
             "line": {
              "color": "#E5ECF6",
              "width": 0.5
             },
             "pattern": {
              "fillmode": "overlay",
              "size": 10,
              "solidity": 0.2
             }
            },
            "type": "barpolar"
           }
          ],
          "carpet": [
           {
            "aaxis": {
             "endlinecolor": "#2a3f5f",
             "gridcolor": "white",
             "linecolor": "white",
             "minorgridcolor": "white",
             "startlinecolor": "#2a3f5f"
            },
            "baxis": {
             "endlinecolor": "#2a3f5f",
             "gridcolor": "white",
             "linecolor": "white",
             "minorgridcolor": "white",
             "startlinecolor": "#2a3f5f"
            },
            "type": "carpet"
           }
          ],
          "choropleth": [
           {
            "colorbar": {
             "outlinewidth": 0,
             "ticks": ""
            },
            "type": "choropleth"
           }
          ],
          "contour": [
           {
            "colorbar": {
             "outlinewidth": 0,
             "ticks": ""
            },
            "colorscale": [
             [
              0,
              "#0d0887"
             ],
             [
              0.1111111111111111,
              "#46039f"
             ],
             [
              0.2222222222222222,
              "#7201a8"
             ],
             [
              0.3333333333333333,
              "#9c179e"
             ],
             [
              0.4444444444444444,
              "#bd3786"
             ],
             [
              0.5555555555555556,
              "#d8576b"
             ],
             [
              0.6666666666666666,
              "#ed7953"
             ],
             [
              0.7777777777777778,
              "#fb9f3a"
             ],
             [
              0.8888888888888888,
              "#fdca26"
             ],
             [
              1,
              "#f0f921"
             ]
            ],
            "type": "contour"
           }
          ],
          "contourcarpet": [
           {
            "colorbar": {
             "outlinewidth": 0,
             "ticks": ""
            },
            "type": "contourcarpet"
           }
          ],
          "heatmap": [
           {
            "colorbar": {
             "outlinewidth": 0,
             "ticks": ""
            },
            "colorscale": [
             [
              0,
              "#0d0887"
             ],
             [
              0.1111111111111111,
              "#46039f"
             ],
             [
              0.2222222222222222,
              "#7201a8"
             ],
             [
              0.3333333333333333,
              "#9c179e"
             ],
             [
              0.4444444444444444,
              "#bd3786"
             ],
             [
              0.5555555555555556,
              "#d8576b"
             ],
             [
              0.6666666666666666,
              "#ed7953"
             ],
             [
              0.7777777777777778,
              "#fb9f3a"
             ],
             [
              0.8888888888888888,
              "#fdca26"
             ],
             [
              1,
              "#f0f921"
             ]
            ],
            "type": "heatmap"
           }
          ],
          "heatmapgl": [
           {
            "colorbar": {
             "outlinewidth": 0,
             "ticks": ""
            },
            "colorscale": [
             [
              0,
              "#0d0887"
             ],
             [
              0.1111111111111111,
              "#46039f"
             ],
             [
              0.2222222222222222,
              "#7201a8"
             ],
             [
              0.3333333333333333,
              "#9c179e"
             ],
             [
              0.4444444444444444,
              "#bd3786"
             ],
             [
              0.5555555555555556,
              "#d8576b"
             ],
             [
              0.6666666666666666,
              "#ed7953"
             ],
             [
              0.7777777777777778,
              "#fb9f3a"
             ],
             [
              0.8888888888888888,
              "#fdca26"
             ],
             [
              1,
              "#f0f921"
             ]
            ],
            "type": "heatmapgl"
           }
          ],
          "histogram": [
           {
            "marker": {
             "pattern": {
              "fillmode": "overlay",
              "size": 10,
              "solidity": 0.2
             }
            },
            "type": "histogram"
           }
          ],
          "histogram2d": [
           {
            "colorbar": {
             "outlinewidth": 0,
             "ticks": ""
            },
            "colorscale": [
             [
              0,
              "#0d0887"
             ],
             [
              0.1111111111111111,
              "#46039f"
             ],
             [
              0.2222222222222222,
              "#7201a8"
             ],
             [
              0.3333333333333333,
              "#9c179e"
             ],
             [
              0.4444444444444444,
              "#bd3786"
             ],
             [
              0.5555555555555556,
              "#d8576b"
             ],
             [
              0.6666666666666666,
              "#ed7953"
             ],
             [
              0.7777777777777778,
              "#fb9f3a"
             ],
             [
              0.8888888888888888,
              "#fdca26"
             ],
             [
              1,
              "#f0f921"
             ]
            ],
            "type": "histogram2d"
           }
          ],
          "histogram2dcontour": [
           {
            "colorbar": {
             "outlinewidth": 0,
             "ticks": ""
            },
            "colorscale": [
             [
              0,
              "#0d0887"
             ],
             [
              0.1111111111111111,
              "#46039f"
             ],
             [
              0.2222222222222222,
              "#7201a8"
             ],
             [
              0.3333333333333333,
              "#9c179e"
             ],
             [
              0.4444444444444444,
              "#bd3786"
             ],
             [
              0.5555555555555556,
              "#d8576b"
             ],
             [
              0.6666666666666666,
              "#ed7953"
             ],
             [
              0.7777777777777778,
              "#fb9f3a"
             ],
             [
              0.8888888888888888,
              "#fdca26"
             ],
             [
              1,
              "#f0f921"
             ]
            ],
            "type": "histogram2dcontour"
           }
          ],
          "mesh3d": [
           {
            "colorbar": {
             "outlinewidth": 0,
             "ticks": ""
            },
            "type": "mesh3d"
           }
          ],
          "parcoords": [
           {
            "line": {
             "colorbar": {
              "outlinewidth": 0,
              "ticks": ""
             }
            },
            "type": "parcoords"
           }
          ],
          "pie": [
           {
            "automargin": true,
            "type": "pie"
           }
          ],
          "scatter": [
           {
            "marker": {
             "colorbar": {
              "outlinewidth": 0,
              "ticks": ""
             }
            },
            "type": "scatter"
           }
          ],
          "scatter3d": [
           {
            "line": {
             "colorbar": {
              "outlinewidth": 0,
              "ticks": ""
             }
            },
            "marker": {
             "colorbar": {
              "outlinewidth": 0,
              "ticks": ""
             }
            },
            "type": "scatter3d"
           }
          ],
          "scattercarpet": [
           {
            "marker": {
             "colorbar": {
              "outlinewidth": 0,
              "ticks": ""
             }
            },
            "type": "scattercarpet"
           }
          ],
          "scattergeo": [
           {
            "marker": {
             "colorbar": {
              "outlinewidth": 0,
              "ticks": ""
             }
            },
            "type": "scattergeo"
           }
          ],
          "scattergl": [
           {
            "marker": {
             "colorbar": {
              "outlinewidth": 0,
              "ticks": ""
             }
            },
            "type": "scattergl"
           }
          ],
          "scattermapbox": [
           {
            "marker": {
             "colorbar": {
              "outlinewidth": 0,
              "ticks": ""
             }
            },
            "type": "scattermapbox"
           }
          ],
          "scatterpolar": [
           {
            "marker": {
             "colorbar": {
              "outlinewidth": 0,
              "ticks": ""
             }
            },
            "type": "scatterpolar"
           }
          ],
          "scatterpolargl": [
           {
            "marker": {
             "colorbar": {
              "outlinewidth": 0,
              "ticks": ""
             }
            },
            "type": "scatterpolargl"
           }
          ],
          "scatterternary": [
           {
            "marker": {
             "colorbar": {
              "outlinewidth": 0,
              "ticks": ""
             }
            },
            "type": "scatterternary"
           }
          ],
          "surface": [
           {
            "colorbar": {
             "outlinewidth": 0,
             "ticks": ""
            },
            "colorscale": [
             [
              0,
              "#0d0887"
             ],
             [
              0.1111111111111111,
              "#46039f"
             ],
             [
              0.2222222222222222,
              "#7201a8"
             ],
             [
              0.3333333333333333,
              "#9c179e"
             ],
             [
              0.4444444444444444,
              "#bd3786"
             ],
             [
              0.5555555555555556,
              "#d8576b"
             ],
             [
              0.6666666666666666,
              "#ed7953"
             ],
             [
              0.7777777777777778,
              "#fb9f3a"
             ],
             [
              0.8888888888888888,
              "#fdca26"
             ],
             [
              1,
              "#f0f921"
             ]
            ],
            "type": "surface"
           }
          ],
          "table": [
           {
            "cells": {
             "fill": {
              "color": "#EBF0F8"
             },
             "line": {
              "color": "white"
             }
            },
            "header": {
             "fill": {
              "color": "#C8D4E3"
             },
             "line": {
              "color": "white"
             }
            },
            "type": "table"
           }
          ]
         },
         "layout": {
          "annotationdefaults": {
           "arrowcolor": "#2a3f5f",
           "arrowhead": 0,
           "arrowwidth": 1
          },
          "autotypenumbers": "strict",
          "coloraxis": {
           "colorbar": {
            "outlinewidth": 0,
            "ticks": ""
           }
          },
          "colorscale": {
           "diverging": [
            [
             0,
             "#8e0152"
            ],
            [
             0.1,
             "#c51b7d"
            ],
            [
             0.2,
             "#de77ae"
            ],
            [
             0.3,
             "#f1b6da"
            ],
            [
             0.4,
             "#fde0ef"
            ],
            [
             0.5,
             "#f7f7f7"
            ],
            [
             0.6,
             "#e6f5d0"
            ],
            [
             0.7,
             "#b8e186"
            ],
            [
             0.8,
             "#7fbc41"
            ],
            [
             0.9,
             "#4d9221"
            ],
            [
             1,
             "#276419"
            ]
           ],
           "sequential": [
            [
             0,
             "#0d0887"
            ],
            [
             0.1111111111111111,
             "#46039f"
            ],
            [
             0.2222222222222222,
             "#7201a8"
            ],
            [
             0.3333333333333333,
             "#9c179e"
            ],
            [
             0.4444444444444444,
             "#bd3786"
            ],
            [
             0.5555555555555556,
             "#d8576b"
            ],
            [
             0.6666666666666666,
             "#ed7953"
            ],
            [
             0.7777777777777778,
             "#fb9f3a"
            ],
            [
             0.8888888888888888,
             "#fdca26"
            ],
            [
             1,
             "#f0f921"
            ]
           ],
           "sequentialminus": [
            [
             0,
             "#0d0887"
            ],
            [
             0.1111111111111111,
             "#46039f"
            ],
            [
             0.2222222222222222,
             "#7201a8"
            ],
            [
             0.3333333333333333,
             "#9c179e"
            ],
            [
             0.4444444444444444,
             "#bd3786"
            ],
            [
             0.5555555555555556,
             "#d8576b"
            ],
            [
             0.6666666666666666,
             "#ed7953"
            ],
            [
             0.7777777777777778,
             "#fb9f3a"
            ],
            [
             0.8888888888888888,
             "#fdca26"
            ],
            [
             1,
             "#f0f921"
            ]
           ]
          },
          "colorway": [
           "#636efa",
           "#EF553B",
           "#00cc96",
           "#ab63fa",
           "#FFA15A",
           "#19d3f3",
           "#FF6692",
           "#B6E880",
           "#FF97FF",
           "#FECB52"
          ],
          "font": {
           "color": "#2a3f5f"
          },
          "geo": {
           "bgcolor": "white",
           "lakecolor": "white",
           "landcolor": "#E5ECF6",
           "showlakes": true,
           "showland": true,
           "subunitcolor": "white"
          },
          "hoverlabel": {
           "align": "left"
          },
          "hovermode": "closest",
          "mapbox": {
           "style": "light"
          },
          "paper_bgcolor": "white",
          "plot_bgcolor": "#E5ECF6",
          "polar": {
           "angularaxis": {
            "gridcolor": "white",
            "linecolor": "white",
            "ticks": ""
           },
           "bgcolor": "#E5ECF6",
           "radialaxis": {
            "gridcolor": "white",
            "linecolor": "white",
            "ticks": ""
           }
          },
          "scene": {
           "xaxis": {
            "backgroundcolor": "#E5ECF6",
            "gridcolor": "white",
            "gridwidth": 2,
            "linecolor": "white",
            "showbackground": true,
            "ticks": "",
            "zerolinecolor": "white"
           },
           "yaxis": {
            "backgroundcolor": "#E5ECF6",
            "gridcolor": "white",
            "gridwidth": 2,
            "linecolor": "white",
            "showbackground": true,
            "ticks": "",
            "zerolinecolor": "white"
           },
           "zaxis": {
            "backgroundcolor": "#E5ECF6",
            "gridcolor": "white",
            "gridwidth": 2,
            "linecolor": "white",
            "showbackground": true,
            "ticks": "",
            "zerolinecolor": "white"
           }
          },
          "shapedefaults": {
           "line": {
            "color": "#2a3f5f"
           }
          },
          "ternary": {
           "aaxis": {
            "gridcolor": "white",
            "linecolor": "white",
            "ticks": ""
           },
           "baxis": {
            "gridcolor": "white",
            "linecolor": "white",
            "ticks": ""
           },
           "bgcolor": "#E5ECF6",
           "caxis": {
            "gridcolor": "white",
            "linecolor": "white",
            "ticks": ""
           }
          },
          "title": {
           "x": 0.05
          },
          "xaxis": {
           "automargin": true,
           "gridcolor": "white",
           "linecolor": "white",
           "ticks": "",
           "title": {
            "standoff": 15
           },
           "zerolinecolor": "white",
           "zerolinewidth": 2
          },
          "yaxis": {
           "automargin": true,
           "gridcolor": "white",
           "linecolor": "white",
           "ticks": "",
           "title": {
            "standoff": 15
           },
           "zerolinecolor": "white",
           "zerolinewidth": 2
          }
         }
        },
        "xaxis": {
         "anchor": "y",
         "domain": [
          0,
          1
         ],
         "title": {
          "text": "x"
         }
        },
        "yaxis": {
         "anchor": "x",
         "domain": [
          0,
          1
         ],
         "title": {
          "text": "y"
         }
        }
       }
      },
      "text/html": [
       "<div>                            <div id=\"98c43b9e-fe98-4c3a-847c-4b6d820670d0\" class=\"plotly-graph-div\" style=\"height:525px; width:100%;\"></div>            <script type=\"text/javascript\">                require([\"plotly\"], function(Plotly) {                    window.PLOTLYENV=window.PLOTLYENV || {};                                    if (document.getElementById(\"98c43b9e-fe98-4c3a-847c-4b6d820670d0\")) {                    Plotly.newPlot(                        \"98c43b9e-fe98-4c3a-847c-4b6d820670d0\",                        [{\"alignmentgroup\":\"True\",\"hovertemplate\":\"x=%{x}<br>y=%{y}<extra></extra>\",\"legendgroup\":\"\",\"marker\":{\"color\":\"#636efa\",\"pattern\":{\"shape\":\"\"}},\"name\":\"\",\"offsetgroup\":\"\",\"orientation\":\"v\",\"showlegend\":false,\"textposition\":\"auto\",\"x\":[32,40,67,69],\"xaxis\":\"x\",\"y\":[1.1620857269111797,0.6916494651904672,1.2350945857795173,0.9519243313763862],\"yaxis\":\"y\",\"type\":\"bar\"}],                        {\"template\":{\"data\":{\"bar\":[{\"error_x\":{\"color\":\"#2a3f5f\"},\"error_y\":{\"color\":\"#2a3f5f\"},\"marker\":{\"line\":{\"color\":\"#E5ECF6\",\"width\":0.5},\"pattern\":{\"fillmode\":\"overlay\",\"size\":10,\"solidity\":0.2}},\"type\":\"bar\"}],\"barpolar\":[{\"marker\":{\"line\":{\"color\":\"#E5ECF6\",\"width\":0.5},\"pattern\":{\"fillmode\":\"overlay\",\"size\":10,\"solidity\":0.2}},\"type\":\"barpolar\"}],\"carpet\":[{\"aaxis\":{\"endlinecolor\":\"#2a3f5f\",\"gridcolor\":\"white\",\"linecolor\":\"white\",\"minorgridcolor\":\"white\",\"startlinecolor\":\"#2a3f5f\"},\"baxis\":{\"endlinecolor\":\"#2a3f5f\",\"gridcolor\":\"white\",\"linecolor\":\"white\",\"minorgridcolor\":\"white\",\"startlinecolor\":\"#2a3f5f\"},\"type\":\"carpet\"}],\"choropleth\":[{\"colorbar\":{\"outlinewidth\":0,\"ticks\":\"\"},\"type\":\"choropleth\"}],\"contour\":[{\"colorbar\":{\"outlinewidth\":0,\"ticks\":\"\"},\"colorscale\":[[0.0,\"#0d0887\"],[0.1111111111111111,\"#46039f\"],[0.2222222222222222,\"#7201a8\"],[0.3333333333333333,\"#9c179e\"],[0.4444444444444444,\"#bd3786\"],[0.5555555555555556,\"#d8576b\"],[0.6666666666666666,\"#ed7953\"],[0.7777777777777778,\"#fb9f3a\"],[0.8888888888888888,\"#fdca26\"],[1.0,\"#f0f921\"]],\"type\":\"contour\"}],\"contourcarpet\":[{\"colorbar\":{\"outlinewidth\":0,\"ticks\":\"\"},\"type\":\"contourcarpet\"}],\"heatmap\":[{\"colorbar\":{\"outlinewidth\":0,\"ticks\":\"\"},\"colorscale\":[[0.0,\"#0d0887\"],[0.1111111111111111,\"#46039f\"],[0.2222222222222222,\"#7201a8\"],[0.3333333333333333,\"#9c179e\"],[0.4444444444444444,\"#bd3786\"],[0.5555555555555556,\"#d8576b\"],[0.6666666666666666,\"#ed7953\"],[0.7777777777777778,\"#fb9f3a\"],[0.8888888888888888,\"#fdca26\"],[1.0,\"#f0f921\"]],\"type\":\"heatmap\"}],\"heatmapgl\":[{\"colorbar\":{\"outlinewidth\":0,\"ticks\":\"\"},\"colorscale\":[[0.0,\"#0d0887\"],[0.1111111111111111,\"#46039f\"],[0.2222222222222222,\"#7201a8\"],[0.3333333333333333,\"#9c179e\"],[0.4444444444444444,\"#bd3786\"],[0.5555555555555556,\"#d8576b\"],[0.6666666666666666,\"#ed7953\"],[0.7777777777777778,\"#fb9f3a\"],[0.8888888888888888,\"#fdca26\"],[1.0,\"#f0f921\"]],\"type\":\"heatmapgl\"}],\"histogram\":[{\"marker\":{\"pattern\":{\"fillmode\":\"overlay\",\"size\":10,\"solidity\":0.2}},\"type\":\"histogram\"}],\"histogram2d\":[{\"colorbar\":{\"outlinewidth\":0,\"ticks\":\"\"},\"colorscale\":[[0.0,\"#0d0887\"],[0.1111111111111111,\"#46039f\"],[0.2222222222222222,\"#7201a8\"],[0.3333333333333333,\"#9c179e\"],[0.4444444444444444,\"#bd3786\"],[0.5555555555555556,\"#d8576b\"],[0.6666666666666666,\"#ed7953\"],[0.7777777777777778,\"#fb9f3a\"],[0.8888888888888888,\"#fdca26\"],[1.0,\"#f0f921\"]],\"type\":\"histogram2d\"}],\"histogram2dcontour\":[{\"colorbar\":{\"outlinewidth\":0,\"ticks\":\"\"},\"colorscale\":[[0.0,\"#0d0887\"],[0.1111111111111111,\"#46039f\"],[0.2222222222222222,\"#7201a8\"],[0.3333333333333333,\"#9c179e\"],[0.4444444444444444,\"#bd3786\"],[0.5555555555555556,\"#d8576b\"],[0.6666666666666666,\"#ed7953\"],[0.7777777777777778,\"#fb9f3a\"],[0.8888888888888888,\"#fdca26\"],[1.0,\"#f0f921\"]],\"type\":\"histogram2dcontour\"}],\"mesh3d\":[{\"colorbar\":{\"outlinewidth\":0,\"ticks\":\"\"},\"type\":\"mesh3d\"}],\"parcoords\":[{\"line\":{\"colorbar\":{\"outlinewidth\":0,\"ticks\":\"\"}},\"type\":\"parcoords\"}],\"pie\":[{\"automargin\":true,\"type\":\"pie\"}],\"scatter\":[{\"marker\":{\"colorbar\":{\"outlinewidth\":0,\"ticks\":\"\"}},\"type\":\"scatter\"}],\"scatter3d\":[{\"line\":{\"colorbar\":{\"outlinewidth\":0,\"ticks\":\"\"}},\"marker\":{\"colorbar\":{\"outlinewidth\":0,\"ticks\":\"\"}},\"type\":\"scatter3d\"}],\"scattercarpet\":[{\"marker\":{\"colorbar\":{\"outlinewidth\":0,\"ticks\":\"\"}},\"type\":\"scattercarpet\"}],\"scattergeo\":[{\"marker\":{\"colorbar\":{\"outlinewidth\":0,\"ticks\":\"\"}},\"type\":\"scattergeo\"}],\"scattergl\":[{\"marker\":{\"colorbar\":{\"outlinewidth\":0,\"ticks\":\"\"}},\"type\":\"scattergl\"}],\"scattermapbox\":[{\"marker\":{\"colorbar\":{\"outlinewidth\":0,\"ticks\":\"\"}},\"type\":\"scattermapbox\"}],\"scatterpolar\":[{\"marker\":{\"colorbar\":{\"outlinewidth\":0,\"ticks\":\"\"}},\"type\":\"scatterpolar\"}],\"scatterpolargl\":[{\"marker\":{\"colorbar\":{\"outlinewidth\":0,\"ticks\":\"\"}},\"type\":\"scatterpolargl\"}],\"scatterternary\":[{\"marker\":{\"colorbar\":{\"outlinewidth\":0,\"ticks\":\"\"}},\"type\":\"scatterternary\"}],\"surface\":[{\"colorbar\":{\"outlinewidth\":0,\"ticks\":\"\"},\"colorscale\":[[0.0,\"#0d0887\"],[0.1111111111111111,\"#46039f\"],[0.2222222222222222,\"#7201a8\"],[0.3333333333333333,\"#9c179e\"],[0.4444444444444444,\"#bd3786\"],[0.5555555555555556,\"#d8576b\"],[0.6666666666666666,\"#ed7953\"],[0.7777777777777778,\"#fb9f3a\"],[0.8888888888888888,\"#fdca26\"],[1.0,\"#f0f921\"]],\"type\":\"surface\"}],\"table\":[{\"cells\":{\"fill\":{\"color\":\"#EBF0F8\"},\"line\":{\"color\":\"white\"}},\"header\":{\"fill\":{\"color\":\"#C8D4E3\"},\"line\":{\"color\":\"white\"}},\"type\":\"table\"}]},\"layout\":{\"annotationdefaults\":{\"arrowcolor\":\"#2a3f5f\",\"arrowhead\":0,\"arrowwidth\":1},\"autotypenumbers\":\"strict\",\"coloraxis\":{\"colorbar\":{\"outlinewidth\":0,\"ticks\":\"\"}},\"colorscale\":{\"diverging\":[[0,\"#8e0152\"],[0.1,\"#c51b7d\"],[0.2,\"#de77ae\"],[0.3,\"#f1b6da\"],[0.4,\"#fde0ef\"],[0.5,\"#f7f7f7\"],[0.6,\"#e6f5d0\"],[0.7,\"#b8e186\"],[0.8,\"#7fbc41\"],[0.9,\"#4d9221\"],[1,\"#276419\"]],\"sequential\":[[0.0,\"#0d0887\"],[0.1111111111111111,\"#46039f\"],[0.2222222222222222,\"#7201a8\"],[0.3333333333333333,\"#9c179e\"],[0.4444444444444444,\"#bd3786\"],[0.5555555555555556,\"#d8576b\"],[0.6666666666666666,\"#ed7953\"],[0.7777777777777778,\"#fb9f3a\"],[0.8888888888888888,\"#fdca26\"],[1.0,\"#f0f921\"]],\"sequentialminus\":[[0.0,\"#0d0887\"],[0.1111111111111111,\"#46039f\"],[0.2222222222222222,\"#7201a8\"],[0.3333333333333333,\"#9c179e\"],[0.4444444444444444,\"#bd3786\"],[0.5555555555555556,\"#d8576b\"],[0.6666666666666666,\"#ed7953\"],[0.7777777777777778,\"#fb9f3a\"],[0.8888888888888888,\"#fdca26\"],[1.0,\"#f0f921\"]]},\"colorway\":[\"#636efa\",\"#EF553B\",\"#00cc96\",\"#ab63fa\",\"#FFA15A\",\"#19d3f3\",\"#FF6692\",\"#B6E880\",\"#FF97FF\",\"#FECB52\"],\"font\":{\"color\":\"#2a3f5f\"},\"geo\":{\"bgcolor\":\"white\",\"lakecolor\":\"white\",\"landcolor\":\"#E5ECF6\",\"showlakes\":true,\"showland\":true,\"subunitcolor\":\"white\"},\"hoverlabel\":{\"align\":\"left\"},\"hovermode\":\"closest\",\"mapbox\":{\"style\":\"light\"},\"paper_bgcolor\":\"white\",\"plot_bgcolor\":\"#E5ECF6\",\"polar\":{\"angularaxis\":{\"gridcolor\":\"white\",\"linecolor\":\"white\",\"ticks\":\"\"},\"bgcolor\":\"#E5ECF6\",\"radialaxis\":{\"gridcolor\":\"white\",\"linecolor\":\"white\",\"ticks\":\"\"}},\"scene\":{\"xaxis\":{\"backgroundcolor\":\"#E5ECF6\",\"gridcolor\":\"white\",\"gridwidth\":2,\"linecolor\":\"white\",\"showbackground\":true,\"ticks\":\"\",\"zerolinecolor\":\"white\"},\"yaxis\":{\"backgroundcolor\":\"#E5ECF6\",\"gridcolor\":\"white\",\"gridwidth\":2,\"linecolor\":\"white\",\"showbackground\":true,\"ticks\":\"\",\"zerolinecolor\":\"white\"},\"zaxis\":{\"backgroundcolor\":\"#E5ECF6\",\"gridcolor\":\"white\",\"gridwidth\":2,\"linecolor\":\"white\",\"showbackground\":true,\"ticks\":\"\",\"zerolinecolor\":\"white\"}},\"shapedefaults\":{\"line\":{\"color\":\"#2a3f5f\"}},\"ternary\":{\"aaxis\":{\"gridcolor\":\"white\",\"linecolor\":\"white\",\"ticks\":\"\"},\"baxis\":{\"gridcolor\":\"white\",\"linecolor\":\"white\",\"ticks\":\"\"},\"bgcolor\":\"#E5ECF6\",\"caxis\":{\"gridcolor\":\"white\",\"linecolor\":\"white\",\"ticks\":\"\"}},\"title\":{\"x\":0.05},\"xaxis\":{\"automargin\":true,\"gridcolor\":\"white\",\"linecolor\":\"white\",\"ticks\":\"\",\"title\":{\"standoff\":15},\"zerolinecolor\":\"white\",\"zerolinewidth\":2},\"yaxis\":{\"automargin\":true,\"gridcolor\":\"white\",\"linecolor\":\"white\",\"ticks\":\"\",\"title\":{\"standoff\":15},\"zerolinecolor\":\"white\",\"zerolinewidth\":2}}},\"xaxis\":{\"anchor\":\"y\",\"domain\":[0.0,1.0],\"title\":{\"text\":\"x\"}},\"yaxis\":{\"anchor\":\"x\",\"domain\":[0.0,1.0],\"title\":{\"text\":\"y\"}},\"legend\":{\"tracegroupgap\":0},\"margin\":{\"t\":60},\"barmode\":\"relative\"},                        {\"responsive\": true}                    ).then(function(){\n",
       "                            \n",
       "var gd = document.getElementById('98c43b9e-fe98-4c3a-847c-4b6d820670d0');\n",
       "var x = new MutationObserver(function (mutations, observer) {{\n",
       "        var display = window.getComputedStyle(gd).display;\n",
       "        if (!display || display === 'none') {{\n",
       "            console.log([gd, 'removed!']);\n",
       "            Plotly.purge(gd);\n",
       "            observer.disconnect();\n",
       "        }}\n",
       "}});\n",
       "\n",
       "// Listen for the removal of the full notebook cells\n",
       "var notebookContainer = gd.closest('#notebook-container');\n",
       "if (notebookContainer) {{\n",
       "    x.observe(notebookContainer, {childList: true});\n",
       "}}\n",
       "\n",
       "// Listen for the clearing of the current output cell\n",
       "var outputEl = gd.closest('.output');\n",
       "if (outputEl) {{\n",
       "    x.observe(outputEl, {childList: true});\n",
       "}}\n",
       "\n",
       "                        })                };                });            </script>        </div>"
      ]
     },
     "metadata": {},
     "output_type": "display_data"
    }
   ],
   "source": [
    "fig = px.bar(x=g3.index, y=g3['срок']['mean'])\n",
    "fig.show()"
   ]
  },
  {
   "cell_type": "code",
   "execution_count": 104,
   "metadata": {},
   "outputs": [
    {
     "data": {
      "application/vnd.plotly.v1+json": {
       "config": {
        "plotlyServerURL": "https://plot.ly"
       },
       "data": [
        {
         "hovertemplate": "x=%{x}<br>y=%{y}<extra></extra>",
         "legendgroup": "",
         "marker": {
          "color": "#636efa",
          "symbol": "circle"
         },
         "mode": "markers",
         "name": "",
         "orientation": "h",
         "showlegend": false,
         "type": "scatter",
         "x": [
          41000,
          40008,
          5120,
          46139,
          40676,
          46140,
          38360,
          26158,
          41658,
          43811,
          27946,
          27945,
          7045,
          7043,
          47074,
          47057,
          41012,
          46950,
          36673,
          46388,
          44458,
          35073,
          35071,
          35072,
          35070,
          35069,
          43825,
          13136,
          27528,
          34507,
          34506,
          45803,
          36633,
          46593,
          46567,
          41689,
          42728,
          47418,
          40498,
          46602,
          39288,
          30481,
          27484,
          30516,
          47129,
          45375,
          45372,
          45371,
          45370,
          45374,
          42763,
          41067,
          44883,
          41066,
          44668,
          42095,
          43379,
          37864,
          45310,
          46975,
          45621,
          30907,
          30906,
          30904,
          30905,
          39520,
          45916,
          43764,
          37796,
          31582,
          38668,
          40327,
          44855,
          42504,
          44967,
          46995,
          46484,
          46376,
          26287,
          39632,
          45457,
          45413,
          33279,
          33280,
          33281,
          33278,
          47627,
          41060,
          43778,
          47679,
          39706,
          44365,
          42264,
          41998,
          21241,
          21240,
          21242,
          31337,
          47537,
          46621,
          40082,
          45079,
          44407,
          45422,
          44134,
          38719,
          38721,
          38720,
          38722,
          44131,
          44135,
          43621,
          45535,
          45541,
          45548,
          45537,
          45542,
          45540,
          45534,
          43617,
          43622,
          45546,
          45545,
          43620,
          45536,
          45543,
          43616,
          43618,
          45539,
          45544,
          45547,
          43619,
          43623,
          45538,
          39058,
          46759,
          44484,
          44036,
          39518,
          45362,
          38480,
          47520,
          39474,
          45243,
          27397,
          42284,
          42583,
          43872,
          44640,
          46682,
          41278,
          41279,
          41280,
          26401,
          26402,
          43421,
          44912,
          44908,
          42656,
          43420,
          42655,
          41260,
          40929,
          45935,
          37597,
          44962,
          44845,
          44906,
          44087,
          41732,
          47857,
          47858,
          41731,
          47805,
          47806,
          46672,
          44889,
          42349,
          40720,
          41862,
          38554,
          23073,
          45361,
          39290,
          39453,
          47138,
          38965,
          45601,
          30704,
          41530,
          41531,
          45971,
          42410,
          44398,
          44395,
          44396,
          44399,
          44397,
          41173,
          46530,
          37452,
          37453,
          39011,
          45907,
          43777,
          42337,
          41715,
          42338,
          42340,
          42339,
          42336,
          44253,
          44186,
          45168,
          45170,
          45412,
          45043,
          47426,
          45066,
          46270,
          47425,
          17910,
          46205,
          42648,
          39325,
          44015,
          40332,
          40009,
          43966,
          45415,
          43839,
          42413,
          41320,
          46914,
          45861,
          47729,
          44449,
          46836,
          44450,
          42387,
          38962,
          41924,
          42345,
          42386,
          41657,
          43884,
          43885,
          40211,
          40210,
          43781,
          36711,
          42051,
          41008,
          47881,
          47879,
          47880,
          41204,
          32677,
          12033,
          29873,
          30933,
          30928,
          30935,
          34894,
          34895,
          33860,
          33862,
          33863,
          33861,
          33866,
          33865,
          35322,
          35326,
          35325,
          15317,
          14294,
          25395,
          34611,
          42543,
          37771,
          37772,
          45321
         ],
         "xaxis": "x",
         "y": [
          "2023-06-30T00:00:00",
          "2023-06-30T00:00:00",
          "2022-09-30T00:00:00",
          "2024-03-31T00:00:00",
          "2023-09-30T00:00:00",
          "2024-12-31T00:00:00",
          "2024-12-31T00:00:00",
          "2022-12-31T00:00:00",
          "2023-12-31T00:00:00",
          "2023-09-30T00:00:00",
          "2022-06-30T00:00:00",
          "2022-09-30T00:00:00",
          "2023-06-30T00:00:00",
          "2023-06-30T00:00:00",
          "2022-06-30T00:00:00",
          "2022-06-30T00:00:00",
          "2023-03-31T00:00:00",
          "2024-03-31T00:00:00",
          "2022-12-31T00:00:00",
          "2024-06-30T00:00:00",
          "2023-12-31T00:00:00",
          "2022-12-31T00:00:00",
          "2022-12-31T00:00:00",
          "2022-12-31T00:00:00",
          "2022-12-31T00:00:00",
          "2022-12-31T00:00:00",
          "2023-12-31T00:00:00",
          "2022-12-31T00:00:00",
          "2023-12-31T00:00:00",
          "2022-12-31T00:00:00",
          "2022-12-31T00:00:00",
          "2024-06-30T00:00:00",
          "2022-12-31T00:00:00",
          "2025-03-31T00:00:00",
          "2024-03-31T00:00:00",
          "2022-12-31T00:00:00",
          "2024-12-31T00:00:00",
          "2025-09-30T00:00:00",
          "2024-06-30T00:00:00",
          "2025-09-30T00:00:00",
          "2023-09-30T00:00:00",
          "2023-06-30T00:00:00",
          "2022-12-31T00:00:00",
          "2023-06-30T00:00:00",
          "2022-12-31T00:00:00",
          "2023-09-30T00:00:00",
          "2023-09-30T00:00:00",
          "2022-12-31T00:00:00",
          "2022-12-31T00:00:00",
          "2023-09-30T00:00:00",
          "2023-12-31T00:00:00",
          "2022-12-31T00:00:00",
          "2024-06-30T00:00:00",
          "2022-12-31T00:00:00",
          "2023-09-30T00:00:00",
          "2022-12-31T00:00:00",
          "2022-12-31T00:00:00",
          "2023-09-30T00:00:00",
          "2022-12-31T00:00:00",
          "2023-09-30T00:00:00",
          "2023-06-30T00:00:00",
          "2026-09-30T00:00:00",
          "2025-09-30T00:00:00",
          "2023-06-30T00:00:00",
          "2024-09-30T00:00:00",
          "2025-03-31T00:00:00",
          "2023-12-31T00:00:00",
          "2022-12-31T00:00:00",
          "2023-12-31T00:00:00",
          "2022-12-31T00:00:00",
          "2023-06-30T00:00:00",
          "2023-06-30T00:00:00",
          "2023-09-30T00:00:00",
          "2023-06-30T00:00:00",
          "2023-12-31T00:00:00",
          "2022-12-31T00:00:00",
          "2023-12-31T00:00:00",
          "2024-12-31T00:00:00",
          "2022-09-30T00:00:00",
          "2025-12-31T00:00:00",
          "2024-03-31T00:00:00",
          "2022-12-31T00:00:00",
          "2023-06-30T00:00:00",
          "2023-09-30T00:00:00",
          "2023-12-31T00:00:00",
          "2023-06-30T00:00:00",
          "2023-09-30T00:00:00",
          "2023-06-30T00:00:00",
          "2023-12-31T00:00:00",
          "2024-09-30T00:00:00",
          "2023-03-31T00:00:00",
          "2023-12-31T00:00:00",
          "2022-12-31T00:00:00",
          "2023-03-31T00:00:00",
          "2023-06-30T00:00:00",
          "2022-12-31T00:00:00",
          "2022-09-30T00:00:00",
          "2022-12-31T00:00:00",
          "2024-03-31T00:00:00",
          "2023-12-31T00:00:00",
          "2022-12-31T00:00:00",
          "2023-06-30T00:00:00",
          "2022-12-31T00:00:00",
          "2023-09-30T00:00:00",
          "2023-12-31T00:00:00",
          "2022-09-30T00:00:00",
          "2023-09-30T00:00:00",
          "2023-03-31T00:00:00",
          "2024-03-31T00:00:00",
          "2024-09-30T00:00:00",
          "2023-09-30T00:00:00",
          "2022-12-31T00:00:00",
          "2023-06-30T00:00:00",
          "2023-06-30T00:00:00",
          "2023-06-30T00:00:00",
          "2023-06-30T00:00:00",
          "2023-06-30T00:00:00",
          "2023-06-30T00:00:00",
          "2023-06-30T00:00:00",
          "2022-12-31T00:00:00",
          "2022-12-31T00:00:00",
          "2023-06-30T00:00:00",
          "2023-06-30T00:00:00",
          "2022-12-31T00:00:00",
          "2023-06-30T00:00:00",
          "2023-06-30T00:00:00",
          "2022-12-31T00:00:00",
          "2022-12-31T00:00:00",
          "2023-06-30T00:00:00",
          "2023-06-30T00:00:00",
          "2023-06-30T00:00:00",
          "2022-12-31T00:00:00",
          "2022-12-31T00:00:00",
          "2023-06-30T00:00:00",
          "2022-12-31T00:00:00",
          "2023-12-31T00:00:00",
          "2023-12-31T00:00:00",
          "2023-12-31T00:00:00",
          "2022-12-31T00:00:00",
          "2023-12-31T00:00:00",
          "2023-12-31T00:00:00",
          "2023-12-31T00:00:00",
          "2022-12-31T00:00:00",
          "2023-12-31T00:00:00",
          "2022-12-31T00:00:00",
          "2022-12-31T00:00:00",
          "2023-12-31T00:00:00",
          "2023-09-30T00:00:00",
          "2023-06-30T00:00:00",
          "2024-03-31T00:00:00",
          "2023-12-31T00:00:00",
          "2023-12-31T00:00:00",
          "2023-12-31T00:00:00",
          "2024-03-31T00:00:00",
          "2022-06-30T00:00:00",
          "2023-06-30T00:00:00",
          "2023-12-31T00:00:00",
          "2023-12-31T00:00:00",
          "2023-03-31T00:00:00",
          "2023-06-30T00:00:00",
          "2023-03-31T00:00:00",
          "2023-03-31T00:00:00",
          "2023-06-30T00:00:00",
          "2025-12-31T00:00:00",
          "2024-03-31T00:00:00",
          "2023-12-31T00:00:00",
          "2023-12-31T00:00:00",
          "2022-12-31T00:00:00",
          "2023-12-31T00:00:00",
          "2023-09-30T00:00:00",
          "2024-03-31T00:00:00",
          "2024-06-30T00:00:00",
          "2023-09-30T00:00:00",
          "2023-09-30T00:00:00",
          "2023-09-30T00:00:00",
          "2023-06-30T00:00:00",
          "2024-06-30T00:00:00",
          "2024-06-30T00:00:00",
          "2023-09-30T00:00:00",
          "2022-12-31T00:00:00",
          "2022-12-31T00:00:00",
          "2022-09-30T00:00:00",
          "2022-12-31T00:00:00",
          "2023-09-30T00:00:00",
          "2022-12-31T00:00:00",
          "2023-09-30T00:00:00",
          "2022-09-30T00:00:00",
          "2023-09-30T00:00:00",
          "2023-03-31T00:00:00",
          "2024-09-30T00:00:00",
          "2025-06-30T00:00:00",
          "2022-12-31T00:00:00",
          "2023-12-31T00:00:00",
          "2026-09-30T00:00:00",
          "2024-09-30T00:00:00",
          "2024-09-30T00:00:00",
          "2026-09-30T00:00:00",
          "2026-09-30T00:00:00",
          "2023-12-31T00:00:00",
          "2023-12-31T00:00:00",
          "2022-12-31T00:00:00",
          "2022-09-30T00:00:00",
          "2022-12-31T00:00:00",
          "2024-12-31T00:00:00",
          "2023-03-31T00:00:00",
          "2023-09-30T00:00:00",
          "2023-09-30T00:00:00",
          "2023-09-30T00:00:00",
          "2023-09-30T00:00:00",
          "2023-09-30T00:00:00",
          "2023-09-30T00:00:00",
          "2022-09-30T00:00:00",
          "2022-09-30T00:00:00",
          "2023-06-30T00:00:00",
          "2023-06-30T00:00:00",
          "2023-06-30T00:00:00",
          "2023-06-30T00:00:00",
          "2023-09-30T00:00:00",
          "2023-06-30T00:00:00",
          "2023-06-30T00:00:00",
          "2023-09-30T00:00:00",
          "2024-12-31T00:00:00",
          "2025-06-30T00:00:00",
          "2022-12-31T00:00:00",
          "2023-06-30T00:00:00",
          "2023-06-30T00:00:00",
          "2022-09-30T00:00:00",
          "2022-09-30T00:00:00",
          "2022-12-31T00:00:00",
          "2022-12-31T00:00:00",
          "2023-03-31T00:00:00",
          "2023-12-31T00:00:00",
          "2025-06-30T00:00:00",
          "2024-06-30T00:00:00",
          "2023-09-30T00:00:00",
          "2024-06-30T00:00:00",
          "2023-06-30T00:00:00",
          "2023-12-31T00:00:00",
          "2023-12-31T00:00:00",
          "2025-03-31T00:00:00",
          "2022-12-31T00:00:00",
          "2024-03-31T00:00:00",
          "2024-09-30T00:00:00",
          "2025-06-30T00:00:00",
          "2023-09-30T00:00:00",
          "2024-12-31T00:00:00",
          "2024-09-30T00:00:00",
          "2024-09-30T00:00:00",
          "2023-09-30T00:00:00",
          "2023-09-30T00:00:00",
          "2022-09-30T00:00:00",
          "2022-12-31T00:00:00",
          "2022-12-31T00:00:00",
          "2024-06-30T00:00:00",
          "2024-06-30T00:00:00",
          "2024-06-30T00:00:00",
          "2023-03-31T00:00:00",
          "2024-09-30T00:00:00",
          "2022-12-31T00:00:00",
          "2022-12-31T00:00:00",
          "2023-06-30T00:00:00",
          "2023-03-31T00:00:00",
          "2024-09-30T00:00:00",
          "2023-03-31T00:00:00",
          "2024-09-30T00:00:00",
          "2023-03-31T00:00:00",
          "2024-06-30T00:00:00",
          "2024-12-31T00:00:00",
          "2023-12-31T00:00:00",
          "2025-03-31T00:00:00",
          "2023-03-31T00:00:00",
          "2020-03-31T00:00:00",
          "2020-03-31T00:00:00",
          "2020-03-31T00:00:00",
          "2023-06-30T00:00:00",
          "2022-12-31T00:00:00",
          "2022-09-30T00:00:00",
          "2022-12-31T00:00:00",
          "2022-12-31T00:00:00",
          "2023-06-30T00:00:00",
          "2023-06-30T00:00:00",
          "2023-03-31T00:00:00"
         ],
         "yaxis": "y"
        }
       ],
       "layout": {
        "legend": {
         "tracegroupgap": 0
        },
        "margin": {
         "t": 60
        },
        "template": {
         "data": {
          "bar": [
           {
            "error_x": {
             "color": "#2a3f5f"
            },
            "error_y": {
             "color": "#2a3f5f"
            },
            "marker": {
             "line": {
              "color": "#E5ECF6",
              "width": 0.5
             },
             "pattern": {
              "fillmode": "overlay",
              "size": 10,
              "solidity": 0.2
             }
            },
            "type": "bar"
           }
          ],
          "barpolar": [
           {
            "marker": {
             "line": {
              "color": "#E5ECF6",
              "width": 0.5
             },
             "pattern": {
              "fillmode": "overlay",
              "size": 10,
              "solidity": 0.2
             }
            },
            "type": "barpolar"
           }
          ],
          "carpet": [
           {
            "aaxis": {
             "endlinecolor": "#2a3f5f",
             "gridcolor": "white",
             "linecolor": "white",
             "minorgridcolor": "white",
             "startlinecolor": "#2a3f5f"
            },
            "baxis": {
             "endlinecolor": "#2a3f5f",
             "gridcolor": "white",
             "linecolor": "white",
             "minorgridcolor": "white",
             "startlinecolor": "#2a3f5f"
            },
            "type": "carpet"
           }
          ],
          "choropleth": [
           {
            "colorbar": {
             "outlinewidth": 0,
             "ticks": ""
            },
            "type": "choropleth"
           }
          ],
          "contour": [
           {
            "colorbar": {
             "outlinewidth": 0,
             "ticks": ""
            },
            "colorscale": [
             [
              0,
              "#0d0887"
             ],
             [
              0.1111111111111111,
              "#46039f"
             ],
             [
              0.2222222222222222,
              "#7201a8"
             ],
             [
              0.3333333333333333,
              "#9c179e"
             ],
             [
              0.4444444444444444,
              "#bd3786"
             ],
             [
              0.5555555555555556,
              "#d8576b"
             ],
             [
              0.6666666666666666,
              "#ed7953"
             ],
             [
              0.7777777777777778,
              "#fb9f3a"
             ],
             [
              0.8888888888888888,
              "#fdca26"
             ],
             [
              1,
              "#f0f921"
             ]
            ],
            "type": "contour"
           }
          ],
          "contourcarpet": [
           {
            "colorbar": {
             "outlinewidth": 0,
             "ticks": ""
            },
            "type": "contourcarpet"
           }
          ],
          "heatmap": [
           {
            "colorbar": {
             "outlinewidth": 0,
             "ticks": ""
            },
            "colorscale": [
             [
              0,
              "#0d0887"
             ],
             [
              0.1111111111111111,
              "#46039f"
             ],
             [
              0.2222222222222222,
              "#7201a8"
             ],
             [
              0.3333333333333333,
              "#9c179e"
             ],
             [
              0.4444444444444444,
              "#bd3786"
             ],
             [
              0.5555555555555556,
              "#d8576b"
             ],
             [
              0.6666666666666666,
              "#ed7953"
             ],
             [
              0.7777777777777778,
              "#fb9f3a"
             ],
             [
              0.8888888888888888,
              "#fdca26"
             ],
             [
              1,
              "#f0f921"
             ]
            ],
            "type": "heatmap"
           }
          ],
          "heatmapgl": [
           {
            "colorbar": {
             "outlinewidth": 0,
             "ticks": ""
            },
            "colorscale": [
             [
              0,
              "#0d0887"
             ],
             [
              0.1111111111111111,
              "#46039f"
             ],
             [
              0.2222222222222222,
              "#7201a8"
             ],
             [
              0.3333333333333333,
              "#9c179e"
             ],
             [
              0.4444444444444444,
              "#bd3786"
             ],
             [
              0.5555555555555556,
              "#d8576b"
             ],
             [
              0.6666666666666666,
              "#ed7953"
             ],
             [
              0.7777777777777778,
              "#fb9f3a"
             ],
             [
              0.8888888888888888,
              "#fdca26"
             ],
             [
              1,
              "#f0f921"
             ]
            ],
            "type": "heatmapgl"
           }
          ],
          "histogram": [
           {
            "marker": {
             "pattern": {
              "fillmode": "overlay",
              "size": 10,
              "solidity": 0.2
             }
            },
            "type": "histogram"
           }
          ],
          "histogram2d": [
           {
            "colorbar": {
             "outlinewidth": 0,
             "ticks": ""
            },
            "colorscale": [
             [
              0,
              "#0d0887"
             ],
             [
              0.1111111111111111,
              "#46039f"
             ],
             [
              0.2222222222222222,
              "#7201a8"
             ],
             [
              0.3333333333333333,
              "#9c179e"
             ],
             [
              0.4444444444444444,
              "#bd3786"
             ],
             [
              0.5555555555555556,
              "#d8576b"
             ],
             [
              0.6666666666666666,
              "#ed7953"
             ],
             [
              0.7777777777777778,
              "#fb9f3a"
             ],
             [
              0.8888888888888888,
              "#fdca26"
             ],
             [
              1,
              "#f0f921"
             ]
            ],
            "type": "histogram2d"
           }
          ],
          "histogram2dcontour": [
           {
            "colorbar": {
             "outlinewidth": 0,
             "ticks": ""
            },
            "colorscale": [
             [
              0,
              "#0d0887"
             ],
             [
              0.1111111111111111,
              "#46039f"
             ],
             [
              0.2222222222222222,
              "#7201a8"
             ],
             [
              0.3333333333333333,
              "#9c179e"
             ],
             [
              0.4444444444444444,
              "#bd3786"
             ],
             [
              0.5555555555555556,
              "#d8576b"
             ],
             [
              0.6666666666666666,
              "#ed7953"
             ],
             [
              0.7777777777777778,
              "#fb9f3a"
             ],
             [
              0.8888888888888888,
              "#fdca26"
             ],
             [
              1,
              "#f0f921"
             ]
            ],
            "type": "histogram2dcontour"
           }
          ],
          "mesh3d": [
           {
            "colorbar": {
             "outlinewidth": 0,
             "ticks": ""
            },
            "type": "mesh3d"
           }
          ],
          "parcoords": [
           {
            "line": {
             "colorbar": {
              "outlinewidth": 0,
              "ticks": ""
             }
            },
            "type": "parcoords"
           }
          ],
          "pie": [
           {
            "automargin": true,
            "type": "pie"
           }
          ],
          "scatter": [
           {
            "marker": {
             "colorbar": {
              "outlinewidth": 0,
              "ticks": ""
             }
            },
            "type": "scatter"
           }
          ],
          "scatter3d": [
           {
            "line": {
             "colorbar": {
              "outlinewidth": 0,
              "ticks": ""
             }
            },
            "marker": {
             "colorbar": {
              "outlinewidth": 0,
              "ticks": ""
             }
            },
            "type": "scatter3d"
           }
          ],
          "scattercarpet": [
           {
            "marker": {
             "colorbar": {
              "outlinewidth": 0,
              "ticks": ""
             }
            },
            "type": "scattercarpet"
           }
          ],
          "scattergeo": [
           {
            "marker": {
             "colorbar": {
              "outlinewidth": 0,
              "ticks": ""
             }
            },
            "type": "scattergeo"
           }
          ],
          "scattergl": [
           {
            "marker": {
             "colorbar": {
              "outlinewidth": 0,
              "ticks": ""
             }
            },
            "type": "scattergl"
           }
          ],
          "scattermapbox": [
           {
            "marker": {
             "colorbar": {
              "outlinewidth": 0,
              "ticks": ""
             }
            },
            "type": "scattermapbox"
           }
          ],
          "scatterpolar": [
           {
            "marker": {
             "colorbar": {
              "outlinewidth": 0,
              "ticks": ""
             }
            },
            "type": "scatterpolar"
           }
          ],
          "scatterpolargl": [
           {
            "marker": {
             "colorbar": {
              "outlinewidth": 0,
              "ticks": ""
             }
            },
            "type": "scatterpolargl"
           }
          ],
          "scatterternary": [
           {
            "marker": {
             "colorbar": {
              "outlinewidth": 0,
              "ticks": ""
             }
            },
            "type": "scatterternary"
           }
          ],
          "surface": [
           {
            "colorbar": {
             "outlinewidth": 0,
             "ticks": ""
            },
            "colorscale": [
             [
              0,
              "#0d0887"
             ],
             [
              0.1111111111111111,
              "#46039f"
             ],
             [
              0.2222222222222222,
              "#7201a8"
             ],
             [
              0.3333333333333333,
              "#9c179e"
             ],
             [
              0.4444444444444444,
              "#bd3786"
             ],
             [
              0.5555555555555556,
              "#d8576b"
             ],
             [
              0.6666666666666666,
              "#ed7953"
             ],
             [
              0.7777777777777778,
              "#fb9f3a"
             ],
             [
              0.8888888888888888,
              "#fdca26"
             ],
             [
              1,
              "#f0f921"
             ]
            ],
            "type": "surface"
           }
          ],
          "table": [
           {
            "cells": {
             "fill": {
              "color": "#EBF0F8"
             },
             "line": {
              "color": "white"
             }
            },
            "header": {
             "fill": {
              "color": "#C8D4E3"
             },
             "line": {
              "color": "white"
             }
            },
            "type": "table"
           }
          ]
         },
         "layout": {
          "annotationdefaults": {
           "arrowcolor": "#2a3f5f",
           "arrowhead": 0,
           "arrowwidth": 1
          },
          "autotypenumbers": "strict",
          "coloraxis": {
           "colorbar": {
            "outlinewidth": 0,
            "ticks": ""
           }
          },
          "colorscale": {
           "diverging": [
            [
             0,
             "#8e0152"
            ],
            [
             0.1,
             "#c51b7d"
            ],
            [
             0.2,
             "#de77ae"
            ],
            [
             0.3,
             "#f1b6da"
            ],
            [
             0.4,
             "#fde0ef"
            ],
            [
             0.5,
             "#f7f7f7"
            ],
            [
             0.6,
             "#e6f5d0"
            ],
            [
             0.7,
             "#b8e186"
            ],
            [
             0.8,
             "#7fbc41"
            ],
            [
             0.9,
             "#4d9221"
            ],
            [
             1,
             "#276419"
            ]
           ],
           "sequential": [
            [
             0,
             "#0d0887"
            ],
            [
             0.1111111111111111,
             "#46039f"
            ],
            [
             0.2222222222222222,
             "#7201a8"
            ],
            [
             0.3333333333333333,
             "#9c179e"
            ],
            [
             0.4444444444444444,
             "#bd3786"
            ],
            [
             0.5555555555555556,
             "#d8576b"
            ],
            [
             0.6666666666666666,
             "#ed7953"
            ],
            [
             0.7777777777777778,
             "#fb9f3a"
            ],
            [
             0.8888888888888888,
             "#fdca26"
            ],
            [
             1,
             "#f0f921"
            ]
           ],
           "sequentialminus": [
            [
             0,
             "#0d0887"
            ],
            [
             0.1111111111111111,
             "#46039f"
            ],
            [
             0.2222222222222222,
             "#7201a8"
            ],
            [
             0.3333333333333333,
             "#9c179e"
            ],
            [
             0.4444444444444444,
             "#bd3786"
            ],
            [
             0.5555555555555556,
             "#d8576b"
            ],
            [
             0.6666666666666666,
             "#ed7953"
            ],
            [
             0.7777777777777778,
             "#fb9f3a"
            ],
            [
             0.8888888888888888,
             "#fdca26"
            ],
            [
             1,
             "#f0f921"
            ]
           ]
          },
          "colorway": [
           "#636efa",
           "#EF553B",
           "#00cc96",
           "#ab63fa",
           "#FFA15A",
           "#19d3f3",
           "#FF6692",
           "#B6E880",
           "#FF97FF",
           "#FECB52"
          ],
          "font": {
           "color": "#2a3f5f"
          },
          "geo": {
           "bgcolor": "white",
           "lakecolor": "white",
           "landcolor": "#E5ECF6",
           "showlakes": true,
           "showland": true,
           "subunitcolor": "white"
          },
          "hoverlabel": {
           "align": "left"
          },
          "hovermode": "closest",
          "mapbox": {
           "style": "light"
          },
          "paper_bgcolor": "white",
          "plot_bgcolor": "#E5ECF6",
          "polar": {
           "angularaxis": {
            "gridcolor": "white",
            "linecolor": "white",
            "ticks": ""
           },
           "bgcolor": "#E5ECF6",
           "radialaxis": {
            "gridcolor": "white",
            "linecolor": "white",
            "ticks": ""
           }
          },
          "scene": {
           "xaxis": {
            "backgroundcolor": "#E5ECF6",
            "gridcolor": "white",
            "gridwidth": 2,
            "linecolor": "white",
            "showbackground": true,
            "ticks": "",
            "zerolinecolor": "white"
           },
           "yaxis": {
            "backgroundcolor": "#E5ECF6",
            "gridcolor": "white",
            "gridwidth": 2,
            "linecolor": "white",
            "showbackground": true,
            "ticks": "",
            "zerolinecolor": "white"
           },
           "zaxis": {
            "backgroundcolor": "#E5ECF6",
            "gridcolor": "white",
            "gridwidth": 2,
            "linecolor": "white",
            "showbackground": true,
            "ticks": "",
            "zerolinecolor": "white"
           }
          },
          "shapedefaults": {
           "line": {
            "color": "#2a3f5f"
           }
          },
          "ternary": {
           "aaxis": {
            "gridcolor": "white",
            "linecolor": "white",
            "ticks": ""
           },
           "baxis": {
            "gridcolor": "white",
            "linecolor": "white",
            "ticks": ""
           },
           "bgcolor": "#E5ECF6",
           "caxis": {
            "gridcolor": "white",
            "linecolor": "white",
            "ticks": ""
           }
          },
          "title": {
           "x": 0.05
          },
          "xaxis": {
           "automargin": true,
           "gridcolor": "white",
           "linecolor": "white",
           "ticks": "",
           "title": {
            "standoff": 15
           },
           "zerolinecolor": "white",
           "zerolinewidth": 2
          },
          "yaxis": {
           "automargin": true,
           "gridcolor": "white",
           "linecolor": "white",
           "ticks": "",
           "title": {
            "standoff": 15
           },
           "zerolinecolor": "white",
           "zerolinewidth": 2
          }
         }
        },
        "xaxis": {
         "anchor": "y",
         "domain": [
          0,
          1
         ],
         "title": {
          "text": "x"
         }
        },
        "yaxis": {
         "anchor": "x",
         "domain": [
          0,
          1
         ],
         "title": {
          "text": "y"
         }
        }
       }
      },
      "text/html": [
       "<div>                            <div id=\"60a8a25b-ce54-41f8-9411-0dd7d22e6f5a\" class=\"plotly-graph-div\" style=\"height:525px; width:100%;\"></div>            <script type=\"text/javascript\">                require([\"plotly\"], function(Plotly) {                    window.PLOTLYENV=window.PLOTLYENV || {};                                    if (document.getElementById(\"60a8a25b-ce54-41f8-9411-0dd7d22e6f5a\")) {                    Plotly.newPlot(                        \"60a8a25b-ce54-41f8-9411-0dd7d22e6f5a\",                        [{\"hovertemplate\":\"x=%{x}<br>y=%{y}<extra></extra>\",\"legendgroup\":\"\",\"marker\":{\"color\":\"#636efa\",\"symbol\":\"circle\"},\"mode\":\"markers\",\"name\":\"\",\"orientation\":\"h\",\"showlegend\":false,\"x\":[41000,40008,5120,46139,40676,46140,38360,26158,41658,43811,27946,27945,7045,7043,47074,47057,41012,46950,36673,46388,44458,35073,35071,35072,35070,35069,43825,13136,27528,34507,34506,45803,36633,46593,46567,41689,42728,47418,40498,46602,39288,30481,27484,30516,47129,45375,45372,45371,45370,45374,42763,41067,44883,41066,44668,42095,43379,37864,45310,46975,45621,30907,30906,30904,30905,39520,45916,43764,37796,31582,38668,40327,44855,42504,44967,46995,46484,46376,26287,39632,45457,45413,33279,33280,33281,33278,47627,41060,43778,47679,39706,44365,42264,41998,21241,21240,21242,31337,47537,46621,40082,45079,44407,45422,44134,38719,38721,38720,38722,44131,44135,43621,45535,45541,45548,45537,45542,45540,45534,43617,43622,45546,45545,43620,45536,45543,43616,43618,45539,45544,45547,43619,43623,45538,39058,46759,44484,44036,39518,45362,38480,47520,39474,45243,27397,42284,42583,43872,44640,46682,41278,41279,41280,26401,26402,43421,44912,44908,42656,43420,42655,41260,40929,45935,37597,44962,44845,44906,44087,41732,47857,47858,41731,47805,47806,46672,44889,42349,40720,41862,38554,23073,45361,39290,39453,47138,38965,45601,30704,41530,41531,45971,42410,44398,44395,44396,44399,44397,41173,46530,37452,37453,39011,45907,43777,42337,41715,42338,42340,42339,42336,44253,44186,45168,45170,45412,45043,47426,45066,46270,47425,17910,46205,42648,39325,44015,40332,40009,43966,45415,43839,42413,41320,46914,45861,47729,44449,46836,44450,42387,38962,41924,42345,42386,41657,43884,43885,40211,40210,43781,36711,42051,41008,47881,47879,47880,41204,32677,12033,29873,30933,30928,30935,34894,34895,33860,33862,33863,33861,33866,33865,35322,35326,35325,15317,14294,25395,34611,42543,37771,37772,45321],\"xaxis\":\"x\",\"y\":[\"2023-06-30T00:00:00\",\"2023-06-30T00:00:00\",\"2022-09-30T00:00:00\",\"2024-03-31T00:00:00\",\"2023-09-30T00:00:00\",\"2024-12-31T00:00:00\",\"2024-12-31T00:00:00\",\"2022-12-31T00:00:00\",\"2023-12-31T00:00:00\",\"2023-09-30T00:00:00\",\"2022-06-30T00:00:00\",\"2022-09-30T00:00:00\",\"2023-06-30T00:00:00\",\"2023-06-30T00:00:00\",\"2022-06-30T00:00:00\",\"2022-06-30T00:00:00\",\"2023-03-31T00:00:00\",\"2024-03-31T00:00:00\",\"2022-12-31T00:00:00\",\"2024-06-30T00:00:00\",\"2023-12-31T00:00:00\",\"2022-12-31T00:00:00\",\"2022-12-31T00:00:00\",\"2022-12-31T00:00:00\",\"2022-12-31T00:00:00\",\"2022-12-31T00:00:00\",\"2023-12-31T00:00:00\",\"2022-12-31T00:00:00\",\"2023-12-31T00:00:00\",\"2022-12-31T00:00:00\",\"2022-12-31T00:00:00\",\"2024-06-30T00:00:00\",\"2022-12-31T00:00:00\",\"2025-03-31T00:00:00\",\"2024-03-31T00:00:00\",\"2022-12-31T00:00:00\",\"2024-12-31T00:00:00\",\"2025-09-30T00:00:00\",\"2024-06-30T00:00:00\",\"2025-09-30T00:00:00\",\"2023-09-30T00:00:00\",\"2023-06-30T00:00:00\",\"2022-12-31T00:00:00\",\"2023-06-30T00:00:00\",\"2022-12-31T00:00:00\",\"2023-09-30T00:00:00\",\"2023-09-30T00:00:00\",\"2022-12-31T00:00:00\",\"2022-12-31T00:00:00\",\"2023-09-30T00:00:00\",\"2023-12-31T00:00:00\",\"2022-12-31T00:00:00\",\"2024-06-30T00:00:00\",\"2022-12-31T00:00:00\",\"2023-09-30T00:00:00\",\"2022-12-31T00:00:00\",\"2022-12-31T00:00:00\",\"2023-09-30T00:00:00\",\"2022-12-31T00:00:00\",\"2023-09-30T00:00:00\",\"2023-06-30T00:00:00\",\"2026-09-30T00:00:00\",\"2025-09-30T00:00:00\",\"2023-06-30T00:00:00\",\"2024-09-30T00:00:00\",\"2025-03-31T00:00:00\",\"2023-12-31T00:00:00\",\"2022-12-31T00:00:00\",\"2023-12-31T00:00:00\",\"2022-12-31T00:00:00\",\"2023-06-30T00:00:00\",\"2023-06-30T00:00:00\",\"2023-09-30T00:00:00\",\"2023-06-30T00:00:00\",\"2023-12-31T00:00:00\",\"2022-12-31T00:00:00\",\"2023-12-31T00:00:00\",\"2024-12-31T00:00:00\",\"2022-09-30T00:00:00\",\"2025-12-31T00:00:00\",\"2024-03-31T00:00:00\",\"2022-12-31T00:00:00\",\"2023-06-30T00:00:00\",\"2023-09-30T00:00:00\",\"2023-12-31T00:00:00\",\"2023-06-30T00:00:00\",\"2023-09-30T00:00:00\",\"2023-06-30T00:00:00\",\"2023-12-31T00:00:00\",\"2024-09-30T00:00:00\",\"2023-03-31T00:00:00\",\"2023-12-31T00:00:00\",\"2022-12-31T00:00:00\",\"2023-03-31T00:00:00\",\"2023-06-30T00:00:00\",\"2022-12-31T00:00:00\",\"2022-09-30T00:00:00\",\"2022-12-31T00:00:00\",\"2024-03-31T00:00:00\",\"2023-12-31T00:00:00\",\"2022-12-31T00:00:00\",\"2023-06-30T00:00:00\",\"2022-12-31T00:00:00\",\"2023-09-30T00:00:00\",\"2023-12-31T00:00:00\",\"2022-09-30T00:00:00\",\"2023-09-30T00:00:00\",\"2023-03-31T00:00:00\",\"2024-03-31T00:00:00\",\"2024-09-30T00:00:00\",\"2023-09-30T00:00:00\",\"2022-12-31T00:00:00\",\"2023-06-30T00:00:00\",\"2023-06-30T00:00:00\",\"2023-06-30T00:00:00\",\"2023-06-30T00:00:00\",\"2023-06-30T00:00:00\",\"2023-06-30T00:00:00\",\"2023-06-30T00:00:00\",\"2022-12-31T00:00:00\",\"2022-12-31T00:00:00\",\"2023-06-30T00:00:00\",\"2023-06-30T00:00:00\",\"2022-12-31T00:00:00\",\"2023-06-30T00:00:00\",\"2023-06-30T00:00:00\",\"2022-12-31T00:00:00\",\"2022-12-31T00:00:00\",\"2023-06-30T00:00:00\",\"2023-06-30T00:00:00\",\"2023-06-30T00:00:00\",\"2022-12-31T00:00:00\",\"2022-12-31T00:00:00\",\"2023-06-30T00:00:00\",\"2022-12-31T00:00:00\",\"2023-12-31T00:00:00\",\"2023-12-31T00:00:00\",\"2023-12-31T00:00:00\",\"2022-12-31T00:00:00\",\"2023-12-31T00:00:00\",\"2023-12-31T00:00:00\",\"2023-12-31T00:00:00\",\"2022-12-31T00:00:00\",\"2023-12-31T00:00:00\",\"2022-12-31T00:00:00\",\"2022-12-31T00:00:00\",\"2023-12-31T00:00:00\",\"2023-09-30T00:00:00\",\"2023-06-30T00:00:00\",\"2024-03-31T00:00:00\",\"2023-12-31T00:00:00\",\"2023-12-31T00:00:00\",\"2023-12-31T00:00:00\",\"2024-03-31T00:00:00\",\"2022-06-30T00:00:00\",\"2023-06-30T00:00:00\",\"2023-12-31T00:00:00\",\"2023-12-31T00:00:00\",\"2023-03-31T00:00:00\",\"2023-06-30T00:00:00\",\"2023-03-31T00:00:00\",\"2023-03-31T00:00:00\",\"2023-06-30T00:00:00\",\"2025-12-31T00:00:00\",\"2024-03-31T00:00:00\",\"2023-12-31T00:00:00\",\"2023-12-31T00:00:00\",\"2022-12-31T00:00:00\",\"2023-12-31T00:00:00\",\"2023-09-30T00:00:00\",\"2024-03-31T00:00:00\",\"2024-06-30T00:00:00\",\"2023-09-30T00:00:00\",\"2023-09-30T00:00:00\",\"2023-09-30T00:00:00\",\"2023-06-30T00:00:00\",\"2024-06-30T00:00:00\",\"2024-06-30T00:00:00\",\"2023-09-30T00:00:00\",\"2022-12-31T00:00:00\",\"2022-12-31T00:00:00\",\"2022-09-30T00:00:00\",\"2022-12-31T00:00:00\",\"2023-09-30T00:00:00\",\"2022-12-31T00:00:00\",\"2023-09-30T00:00:00\",\"2022-09-30T00:00:00\",\"2023-09-30T00:00:00\",\"2023-03-31T00:00:00\",\"2024-09-30T00:00:00\",\"2025-06-30T00:00:00\",\"2022-12-31T00:00:00\",\"2023-12-31T00:00:00\",\"2026-09-30T00:00:00\",\"2024-09-30T00:00:00\",\"2024-09-30T00:00:00\",\"2026-09-30T00:00:00\",\"2026-09-30T00:00:00\",\"2023-12-31T00:00:00\",\"2023-12-31T00:00:00\",\"2022-12-31T00:00:00\",\"2022-09-30T00:00:00\",\"2022-12-31T00:00:00\",\"2024-12-31T00:00:00\",\"2023-03-31T00:00:00\",\"2023-09-30T00:00:00\",\"2023-09-30T00:00:00\",\"2023-09-30T00:00:00\",\"2023-09-30T00:00:00\",\"2023-09-30T00:00:00\",\"2023-09-30T00:00:00\",\"2022-09-30T00:00:00\",\"2022-09-30T00:00:00\",\"2023-06-30T00:00:00\",\"2023-06-30T00:00:00\",\"2023-06-30T00:00:00\",\"2023-06-30T00:00:00\",\"2023-09-30T00:00:00\",\"2023-06-30T00:00:00\",\"2023-06-30T00:00:00\",\"2023-09-30T00:00:00\",\"2024-12-31T00:00:00\",\"2025-06-30T00:00:00\",\"2022-12-31T00:00:00\",\"2023-06-30T00:00:00\",\"2023-06-30T00:00:00\",\"2022-09-30T00:00:00\",\"2022-09-30T00:00:00\",\"2022-12-31T00:00:00\",\"2022-12-31T00:00:00\",\"2023-03-31T00:00:00\",\"2023-12-31T00:00:00\",\"2025-06-30T00:00:00\",\"2024-06-30T00:00:00\",\"2023-09-30T00:00:00\",\"2024-06-30T00:00:00\",\"2023-06-30T00:00:00\",\"2023-12-31T00:00:00\",\"2023-12-31T00:00:00\",\"2025-03-31T00:00:00\",\"2022-12-31T00:00:00\",\"2024-03-31T00:00:00\",\"2024-09-30T00:00:00\",\"2025-06-30T00:00:00\",\"2023-09-30T00:00:00\",\"2024-12-31T00:00:00\",\"2024-09-30T00:00:00\",\"2024-09-30T00:00:00\",\"2023-09-30T00:00:00\",\"2023-09-30T00:00:00\",\"2022-09-30T00:00:00\",\"2022-12-31T00:00:00\",\"2022-12-31T00:00:00\",\"2024-06-30T00:00:00\",\"2024-06-30T00:00:00\",\"2024-06-30T00:00:00\",\"2023-03-31T00:00:00\",\"2024-09-30T00:00:00\",\"2022-12-31T00:00:00\",\"2022-12-31T00:00:00\",\"2023-06-30T00:00:00\",\"2023-03-31T00:00:00\",\"2024-09-30T00:00:00\",\"2023-03-31T00:00:00\",\"2024-09-30T00:00:00\",\"2023-03-31T00:00:00\",\"2024-06-30T00:00:00\",\"2024-12-31T00:00:00\",\"2023-12-31T00:00:00\",\"2025-03-31T00:00:00\",\"2023-03-31T00:00:00\",\"2020-03-31T00:00:00\",\"2020-03-31T00:00:00\",\"2020-03-31T00:00:00\",\"2023-06-30T00:00:00\",\"2022-12-31T00:00:00\",\"2022-09-30T00:00:00\",\"2022-12-31T00:00:00\",\"2022-12-31T00:00:00\",\"2023-06-30T00:00:00\",\"2023-06-30T00:00:00\",\"2023-03-31T00:00:00\"],\"yaxis\":\"y\",\"type\":\"scatter\"}],                        {\"template\":{\"data\":{\"bar\":[{\"error_x\":{\"color\":\"#2a3f5f\"},\"error_y\":{\"color\":\"#2a3f5f\"},\"marker\":{\"line\":{\"color\":\"#E5ECF6\",\"width\":0.5},\"pattern\":{\"fillmode\":\"overlay\",\"size\":10,\"solidity\":0.2}},\"type\":\"bar\"}],\"barpolar\":[{\"marker\":{\"line\":{\"color\":\"#E5ECF6\",\"width\":0.5},\"pattern\":{\"fillmode\":\"overlay\",\"size\":10,\"solidity\":0.2}},\"type\":\"barpolar\"}],\"carpet\":[{\"aaxis\":{\"endlinecolor\":\"#2a3f5f\",\"gridcolor\":\"white\",\"linecolor\":\"white\",\"minorgridcolor\":\"white\",\"startlinecolor\":\"#2a3f5f\"},\"baxis\":{\"endlinecolor\":\"#2a3f5f\",\"gridcolor\":\"white\",\"linecolor\":\"white\",\"minorgridcolor\":\"white\",\"startlinecolor\":\"#2a3f5f\"},\"type\":\"carpet\"}],\"choropleth\":[{\"colorbar\":{\"outlinewidth\":0,\"ticks\":\"\"},\"type\":\"choropleth\"}],\"contour\":[{\"colorbar\":{\"outlinewidth\":0,\"ticks\":\"\"},\"colorscale\":[[0.0,\"#0d0887\"],[0.1111111111111111,\"#46039f\"],[0.2222222222222222,\"#7201a8\"],[0.3333333333333333,\"#9c179e\"],[0.4444444444444444,\"#bd3786\"],[0.5555555555555556,\"#d8576b\"],[0.6666666666666666,\"#ed7953\"],[0.7777777777777778,\"#fb9f3a\"],[0.8888888888888888,\"#fdca26\"],[1.0,\"#f0f921\"]],\"type\":\"contour\"}],\"contourcarpet\":[{\"colorbar\":{\"outlinewidth\":0,\"ticks\":\"\"},\"type\":\"contourcarpet\"}],\"heatmap\":[{\"colorbar\":{\"outlinewidth\":0,\"ticks\":\"\"},\"colorscale\":[[0.0,\"#0d0887\"],[0.1111111111111111,\"#46039f\"],[0.2222222222222222,\"#7201a8\"],[0.3333333333333333,\"#9c179e\"],[0.4444444444444444,\"#bd3786\"],[0.5555555555555556,\"#d8576b\"],[0.6666666666666666,\"#ed7953\"],[0.7777777777777778,\"#fb9f3a\"],[0.8888888888888888,\"#fdca26\"],[1.0,\"#f0f921\"]],\"type\":\"heatmap\"}],\"heatmapgl\":[{\"colorbar\":{\"outlinewidth\":0,\"ticks\":\"\"},\"colorscale\":[[0.0,\"#0d0887\"],[0.1111111111111111,\"#46039f\"],[0.2222222222222222,\"#7201a8\"],[0.3333333333333333,\"#9c179e\"],[0.4444444444444444,\"#bd3786\"],[0.5555555555555556,\"#d8576b\"],[0.6666666666666666,\"#ed7953\"],[0.7777777777777778,\"#fb9f3a\"],[0.8888888888888888,\"#fdca26\"],[1.0,\"#f0f921\"]],\"type\":\"heatmapgl\"}],\"histogram\":[{\"marker\":{\"pattern\":{\"fillmode\":\"overlay\",\"size\":10,\"solidity\":0.2}},\"type\":\"histogram\"}],\"histogram2d\":[{\"colorbar\":{\"outlinewidth\":0,\"ticks\":\"\"},\"colorscale\":[[0.0,\"#0d0887\"],[0.1111111111111111,\"#46039f\"],[0.2222222222222222,\"#7201a8\"],[0.3333333333333333,\"#9c179e\"],[0.4444444444444444,\"#bd3786\"],[0.5555555555555556,\"#d8576b\"],[0.6666666666666666,\"#ed7953\"],[0.7777777777777778,\"#fb9f3a\"],[0.8888888888888888,\"#fdca26\"],[1.0,\"#f0f921\"]],\"type\":\"histogram2d\"}],\"histogram2dcontour\":[{\"colorbar\":{\"outlinewidth\":0,\"ticks\":\"\"},\"colorscale\":[[0.0,\"#0d0887\"],[0.1111111111111111,\"#46039f\"],[0.2222222222222222,\"#7201a8\"],[0.3333333333333333,\"#9c179e\"],[0.4444444444444444,\"#bd3786\"],[0.5555555555555556,\"#d8576b\"],[0.6666666666666666,\"#ed7953\"],[0.7777777777777778,\"#fb9f3a\"],[0.8888888888888888,\"#fdca26\"],[1.0,\"#f0f921\"]],\"type\":\"histogram2dcontour\"}],\"mesh3d\":[{\"colorbar\":{\"outlinewidth\":0,\"ticks\":\"\"},\"type\":\"mesh3d\"}],\"parcoords\":[{\"line\":{\"colorbar\":{\"outlinewidth\":0,\"ticks\":\"\"}},\"type\":\"parcoords\"}],\"pie\":[{\"automargin\":true,\"type\":\"pie\"}],\"scatter\":[{\"marker\":{\"colorbar\":{\"outlinewidth\":0,\"ticks\":\"\"}},\"type\":\"scatter\"}],\"scatter3d\":[{\"line\":{\"colorbar\":{\"outlinewidth\":0,\"ticks\":\"\"}},\"marker\":{\"colorbar\":{\"outlinewidth\":0,\"ticks\":\"\"}},\"type\":\"scatter3d\"}],\"scattercarpet\":[{\"marker\":{\"colorbar\":{\"outlinewidth\":0,\"ticks\":\"\"}},\"type\":\"scattercarpet\"}],\"scattergeo\":[{\"marker\":{\"colorbar\":{\"outlinewidth\":0,\"ticks\":\"\"}},\"type\":\"scattergeo\"}],\"scattergl\":[{\"marker\":{\"colorbar\":{\"outlinewidth\":0,\"ticks\":\"\"}},\"type\":\"scattergl\"}],\"scattermapbox\":[{\"marker\":{\"colorbar\":{\"outlinewidth\":0,\"ticks\":\"\"}},\"type\":\"scattermapbox\"}],\"scatterpolar\":[{\"marker\":{\"colorbar\":{\"outlinewidth\":0,\"ticks\":\"\"}},\"type\":\"scatterpolar\"}],\"scatterpolargl\":[{\"marker\":{\"colorbar\":{\"outlinewidth\":0,\"ticks\":\"\"}},\"type\":\"scatterpolargl\"}],\"scatterternary\":[{\"marker\":{\"colorbar\":{\"outlinewidth\":0,\"ticks\":\"\"}},\"type\":\"scatterternary\"}],\"surface\":[{\"colorbar\":{\"outlinewidth\":0,\"ticks\":\"\"},\"colorscale\":[[0.0,\"#0d0887\"],[0.1111111111111111,\"#46039f\"],[0.2222222222222222,\"#7201a8\"],[0.3333333333333333,\"#9c179e\"],[0.4444444444444444,\"#bd3786\"],[0.5555555555555556,\"#d8576b\"],[0.6666666666666666,\"#ed7953\"],[0.7777777777777778,\"#fb9f3a\"],[0.8888888888888888,\"#fdca26\"],[1.0,\"#f0f921\"]],\"type\":\"surface\"}],\"table\":[{\"cells\":{\"fill\":{\"color\":\"#EBF0F8\"},\"line\":{\"color\":\"white\"}},\"header\":{\"fill\":{\"color\":\"#C8D4E3\"},\"line\":{\"color\":\"white\"}},\"type\":\"table\"}]},\"layout\":{\"annotationdefaults\":{\"arrowcolor\":\"#2a3f5f\",\"arrowhead\":0,\"arrowwidth\":1},\"autotypenumbers\":\"strict\",\"coloraxis\":{\"colorbar\":{\"outlinewidth\":0,\"ticks\":\"\"}},\"colorscale\":{\"diverging\":[[0,\"#8e0152\"],[0.1,\"#c51b7d\"],[0.2,\"#de77ae\"],[0.3,\"#f1b6da\"],[0.4,\"#fde0ef\"],[0.5,\"#f7f7f7\"],[0.6,\"#e6f5d0\"],[0.7,\"#b8e186\"],[0.8,\"#7fbc41\"],[0.9,\"#4d9221\"],[1,\"#276419\"]],\"sequential\":[[0.0,\"#0d0887\"],[0.1111111111111111,\"#46039f\"],[0.2222222222222222,\"#7201a8\"],[0.3333333333333333,\"#9c179e\"],[0.4444444444444444,\"#bd3786\"],[0.5555555555555556,\"#d8576b\"],[0.6666666666666666,\"#ed7953\"],[0.7777777777777778,\"#fb9f3a\"],[0.8888888888888888,\"#fdca26\"],[1.0,\"#f0f921\"]],\"sequentialminus\":[[0.0,\"#0d0887\"],[0.1111111111111111,\"#46039f\"],[0.2222222222222222,\"#7201a8\"],[0.3333333333333333,\"#9c179e\"],[0.4444444444444444,\"#bd3786\"],[0.5555555555555556,\"#d8576b\"],[0.6666666666666666,\"#ed7953\"],[0.7777777777777778,\"#fb9f3a\"],[0.8888888888888888,\"#fdca26\"],[1.0,\"#f0f921\"]]},\"colorway\":[\"#636efa\",\"#EF553B\",\"#00cc96\",\"#ab63fa\",\"#FFA15A\",\"#19d3f3\",\"#FF6692\",\"#B6E880\",\"#FF97FF\",\"#FECB52\"],\"font\":{\"color\":\"#2a3f5f\"},\"geo\":{\"bgcolor\":\"white\",\"lakecolor\":\"white\",\"landcolor\":\"#E5ECF6\",\"showlakes\":true,\"showland\":true,\"subunitcolor\":\"white\"},\"hoverlabel\":{\"align\":\"left\"},\"hovermode\":\"closest\",\"mapbox\":{\"style\":\"light\"},\"paper_bgcolor\":\"white\",\"plot_bgcolor\":\"#E5ECF6\",\"polar\":{\"angularaxis\":{\"gridcolor\":\"white\",\"linecolor\":\"white\",\"ticks\":\"\"},\"bgcolor\":\"#E5ECF6\",\"radialaxis\":{\"gridcolor\":\"white\",\"linecolor\":\"white\",\"ticks\":\"\"}},\"scene\":{\"xaxis\":{\"backgroundcolor\":\"#E5ECF6\",\"gridcolor\":\"white\",\"gridwidth\":2,\"linecolor\":\"white\",\"showbackground\":true,\"ticks\":\"\",\"zerolinecolor\":\"white\"},\"yaxis\":{\"backgroundcolor\":\"#E5ECF6\",\"gridcolor\":\"white\",\"gridwidth\":2,\"linecolor\":\"white\",\"showbackground\":true,\"ticks\":\"\",\"zerolinecolor\":\"white\"},\"zaxis\":{\"backgroundcolor\":\"#E5ECF6\",\"gridcolor\":\"white\",\"gridwidth\":2,\"linecolor\":\"white\",\"showbackground\":true,\"ticks\":\"\",\"zerolinecolor\":\"white\"}},\"shapedefaults\":{\"line\":{\"color\":\"#2a3f5f\"}},\"ternary\":{\"aaxis\":{\"gridcolor\":\"white\",\"linecolor\":\"white\",\"ticks\":\"\"},\"baxis\":{\"gridcolor\":\"white\",\"linecolor\":\"white\",\"ticks\":\"\"},\"bgcolor\":\"#E5ECF6\",\"caxis\":{\"gridcolor\":\"white\",\"linecolor\":\"white\",\"ticks\":\"\"}},\"title\":{\"x\":0.05},\"xaxis\":{\"automargin\":true,\"gridcolor\":\"white\",\"linecolor\":\"white\",\"ticks\":\"\",\"title\":{\"standoff\":15},\"zerolinecolor\":\"white\",\"zerolinewidth\":2},\"yaxis\":{\"automargin\":true,\"gridcolor\":\"white\",\"linecolor\":\"white\",\"ticks\":\"\",\"title\":{\"standoff\":15},\"zerolinecolor\":\"white\",\"zerolinewidth\":2}}},\"xaxis\":{\"anchor\":\"y\",\"domain\":[0.0,1.0],\"title\":{\"text\":\"x\"}},\"yaxis\":{\"anchor\":\"x\",\"domain\":[0.0,1.0],\"title\":{\"text\":\"y\"}},\"legend\":{\"tracegroupgap\":0},\"margin\":{\"t\":60}},                        {\"responsive\": true}                    ).then(function(){\n",
       "                            \n",
       "var gd = document.getElementById('60a8a25b-ce54-41f8-9411-0dd7d22e6f5a');\n",
       "var x = new MutationObserver(function (mutations, observer) {{\n",
       "        var display = window.getComputedStyle(gd).display;\n",
       "        if (!display || display === 'none') {{\n",
       "            console.log([gd, 'removed!']);\n",
       "            Plotly.purge(gd);\n",
       "            observer.disconnect();\n",
       "        }}\n",
       "}});\n",
       "\n",
       "// Listen for the removal of the full notebook cells\n",
       "var notebookContainer = gd.closest('#notebook-container');\n",
       "if (notebookContainer) {{\n",
       "    x.observe(notebookContainer, {childList: true});\n",
       "}}\n",
       "\n",
       "// Listen for the clearing of the current output cell\n",
       "var outputEl = gd.closest('.output');\n",
       "if (outputEl) {{\n",
       "    x.observe(outputEl, {childList: true});\n",
       "}}\n",
       "\n",
       "                        })                };                });            </script>        </div>"
      ]
     },
     "metadata": {},
     "output_type": "display_data"
    }
   ],
   "source": [
    "fig = px.scatter(x=sktb['id дома'], y=sktb['ввод в эксплуатацию'])\n",
    "fig.show()"
   ]
  },
  {
   "cell_type": "code",
   "execution_count": 32,
   "metadata": {},
   "outputs": [
    {
     "data": {
      "text/html": [
       "<div>\n",
       "<style scoped>\n",
       "    .dataframe tbody tr th:only-of-type {\n",
       "        vertical-align: middle;\n",
       "    }\n",
       "\n",
       "    .dataframe tbody tr th {\n",
       "        vertical-align: top;\n",
       "    }\n",
       "\n",
       "    .dataframe thead th {\n",
       "        text-align: right;\n",
       "    }\n",
       "</style>\n",
       "<table border=\"1\" class=\"dataframe\">\n",
       "  <thead>\n",
       "    <tr style=\"text-align: right;\">\n",
       "      <th></th>\n",
       "      <th>количество этажей</th>\n",
       "      <th>жилая площадь</th>\n",
       "      <th>количество мест в паркинге</th>\n",
       "      <th>средняя цена за 1 м²</th>\n",
       "    </tr>\n",
       "    <tr>\n",
       "      <th>номер региона</th>\n",
       "      <th></th>\n",
       "      <th></th>\n",
       "      <th></th>\n",
       "      <th></th>\n",
       "    </tr>\n",
       "  </thead>\n",
       "  <tbody>\n",
       "    <tr>\n",
       "      <th>32</th>\n",
       "      <td>10.790323</td>\n",
       "      <td>7884.624677</td>\n",
       "      <td>1.161290</td>\n",
       "      <td>57713.739130</td>\n",
       "    </tr>\n",
       "    <tr>\n",
       "      <th>40</th>\n",
       "      <td>9.589041</td>\n",
       "      <td>6332.596986</td>\n",
       "      <td>10.000000</td>\n",
       "      <td>78270.966102</td>\n",
       "    </tr>\n",
       "    <tr>\n",
       "      <th>67</th>\n",
       "      <td>9.793651</td>\n",
       "      <td>5009.315556</td>\n",
       "      <td>4.904762</td>\n",
       "      <td>51771.250000</td>\n",
       "    </tr>\n",
       "    <tr>\n",
       "      <th>69</th>\n",
       "      <td>10.916667</td>\n",
       "      <td>5632.207500</td>\n",
       "      <td>6.726190</td>\n",
       "      <td>67183.745455</td>\n",
       "    </tr>\n",
       "  </tbody>\n",
       "</table>\n",
       "</div>"
      ],
      "text/plain": [
       "               количество этажей  жилая площадь  количество мест в паркинге  \\\n",
       "номер региона                                                                 \n",
       "32                     10.790323    7884.624677                    1.161290   \n",
       "40                      9.589041    6332.596986                   10.000000   \n",
       "67                      9.793651    5009.315556                    4.904762   \n",
       "69                     10.916667    5632.207500                    6.726190   \n",
       "\n",
       "               средняя цена за 1 м²  \n",
       "номер региона                        \n",
       "32                     57713.739130  \n",
       "40                     78270.966102  \n",
       "67                     51771.250000  \n",
       "69                     67183.745455  "
      ]
     },
     "execution_count": 32,
     "metadata": {},
     "output_type": "execute_result"
    }
   ],
   "source": [
    "# Сравнить этажность домов, количество квартир, жилую площадь, количество парковочных мест\n",
    "# и цену за квадратный метр в разных регионах\n",
    "sktb.groupby(['номер региона'])[['количество этажей', 'жилая площадь','количество мест в паркинге',\n",
    "                                'средняя цена за 1 м²']].mean()"
   ]
  },
  {
   "cell_type": "code",
   "execution_count": 131,
   "metadata": {},
   "outputs": [
    {
     "data": {
      "text/html": [
       "<div>\n",
       "<style scoped>\n",
       "    .dataframe tbody tr th:only-of-type {\n",
       "        vertical-align: middle;\n",
       "    }\n",
       "\n",
       "    .dataframe tbody tr th {\n",
       "        vertical-align: top;\n",
       "    }\n",
       "\n",
       "    .dataframe thead tr th {\n",
       "        text-align: left;\n",
       "    }\n",
       "\n",
       "    .dataframe thead tr:last-of-type th {\n",
       "        text-align: right;\n",
       "    }\n",
       "</style>\n",
       "<table border=\"1\" class=\"dataframe\">\n",
       "  <thead>\n",
       "    <tr>\n",
       "      <th></th>\n",
       "      <th colspan=\"4\" halign=\"left\">количество этажей</th>\n",
       "      <th colspan=\"4\" halign=\"left\">жилая площадь</th>\n",
       "      <th colspan=\"4\" halign=\"left\">количество мест в паркинге</th>\n",
       "      <th colspan=\"4\" halign=\"left\">средняя цена за 1 м²</th>\n",
       "    </tr>\n",
       "    <tr>\n",
       "      <th></th>\n",
       "      <th>min</th>\n",
       "      <th>max</th>\n",
       "      <th>mean</th>\n",
       "      <th>median</th>\n",
       "      <th>min</th>\n",
       "      <th>max</th>\n",
       "      <th>mean</th>\n",
       "      <th>median</th>\n",
       "      <th>min</th>\n",
       "      <th>max</th>\n",
       "      <th>mean</th>\n",
       "      <th>median</th>\n",
       "      <th>min</th>\n",
       "      <th>max</th>\n",
       "      <th>mean</th>\n",
       "      <th>median</th>\n",
       "    </tr>\n",
       "    <tr>\n",
       "      <th>номер региона</th>\n",
       "      <th></th>\n",
       "      <th></th>\n",
       "      <th></th>\n",
       "      <th></th>\n",
       "      <th></th>\n",
       "      <th></th>\n",
       "      <th></th>\n",
       "      <th></th>\n",
       "      <th></th>\n",
       "      <th></th>\n",
       "      <th></th>\n",
       "      <th></th>\n",
       "      <th></th>\n",
       "      <th></th>\n",
       "      <th></th>\n",
       "      <th></th>\n",
       "    </tr>\n",
       "  </thead>\n",
       "  <tbody>\n",
       "    <tr>\n",
       "      <th>32</th>\n",
       "      <td>3.0</td>\n",
       "      <td>22.0</td>\n",
       "      <td>10.790323</td>\n",
       "      <td>11.0</td>\n",
       "      <td>1273.95</td>\n",
       "      <td>41571.04</td>\n",
       "      <td>7884.624677</td>\n",
       "      <td>5769.585</td>\n",
       "      <td>0</td>\n",
       "      <td>42</td>\n",
       "      <td>1.161290</td>\n",
       "      <td>0.0</td>\n",
       "      <td>0.0</td>\n",
       "      <td>81096.0</td>\n",
       "      <td>42819.870968</td>\n",
       "      <td>51693.0</td>\n",
       "    </tr>\n",
       "    <tr>\n",
       "      <th>40</th>\n",
       "      <td>1.0</td>\n",
       "      <td>26.0</td>\n",
       "      <td>9.589041</td>\n",
       "      <td>10.0</td>\n",
       "      <td>0.00</td>\n",
       "      <td>29464.60</td>\n",
       "      <td>6332.596986</td>\n",
       "      <td>4441.900</td>\n",
       "      <td>0</td>\n",
       "      <td>267</td>\n",
       "      <td>10.000000</td>\n",
       "      <td>0.0</td>\n",
       "      <td>0.0</td>\n",
       "      <td>168944.0</td>\n",
       "      <td>63260.095890</td>\n",
       "      <td>68310.0</td>\n",
       "    </tr>\n",
       "    <tr>\n",
       "      <th>67</th>\n",
       "      <td>3.0</td>\n",
       "      <td>17.0</td>\n",
       "      <td>9.793651</td>\n",
       "      <td>11.0</td>\n",
       "      <td>439.10</td>\n",
       "      <td>21601.99</td>\n",
       "      <td>5009.315556</td>\n",
       "      <td>4342.020</td>\n",
       "      <td>0</td>\n",
       "      <td>96</td>\n",
       "      <td>4.904762</td>\n",
       "      <td>0.0</td>\n",
       "      <td>0.0</td>\n",
       "      <td>83941.0</td>\n",
       "      <td>46018.888889</td>\n",
       "      <td>50626.0</td>\n",
       "    </tr>\n",
       "    <tr>\n",
       "      <th>69</th>\n",
       "      <td>1.0</td>\n",
       "      <td>26.0</td>\n",
       "      <td>10.916667</td>\n",
       "      <td>10.5</td>\n",
       "      <td>0.00</td>\n",
       "      <td>33422.95</td>\n",
       "      <td>5632.207500</td>\n",
       "      <td>4177.555</td>\n",
       "      <td>0</td>\n",
       "      <td>186</td>\n",
       "      <td>6.726190</td>\n",
       "      <td>0.0</td>\n",
       "      <td>0.0</td>\n",
       "      <td>117410.0</td>\n",
       "      <td>43989.357143</td>\n",
       "      <td>47260.0</td>\n",
       "    </tr>\n",
       "  </tbody>\n",
       "</table>\n",
       "</div>"
      ],
      "text/plain": [
       "              количество этажей                         жилая площадь  \\\n",
       "                            min   max       mean median           min   \n",
       "номер региона                                                           \n",
       "32                          3.0  22.0  10.790323   11.0       1273.95   \n",
       "40                          1.0  26.0   9.589041   10.0          0.00   \n",
       "67                          3.0  17.0   9.793651   11.0        439.10   \n",
       "69                          1.0  26.0  10.916667   10.5          0.00   \n",
       "\n",
       "                                               количество мест в паркинге  \\\n",
       "                    max         mean    median                        min   \n",
       "номер региона                                                               \n",
       "32             41571.04  7884.624677  5769.585                          0   \n",
       "40             29464.60  6332.596986  4441.900                          0   \n",
       "67             21601.99  5009.315556  4342.020                          0   \n",
       "69             33422.95  5632.207500  4177.555                          0   \n",
       "\n",
       "                                     средняя цена за 1 м²            \\\n",
       "               max       mean median                  min       max   \n",
       "номер региона                                                         \n",
       "32              42   1.161290    0.0                  0.0   81096.0   \n",
       "40             267  10.000000    0.0                  0.0  168944.0   \n",
       "67              96   4.904762    0.0                  0.0   83941.0   \n",
       "69             186   6.726190    0.0                  0.0  117410.0   \n",
       "\n",
       "                                      \n",
       "                       mean   median  \n",
       "номер региона                         \n",
       "32             42819.870968  51693.0  \n",
       "40             63260.095890  68310.0  \n",
       "67             46018.888889  50626.0  \n",
       "69             43989.357143  47260.0  "
      ]
     },
     "execution_count": 131,
     "metadata": {},
     "output_type": "execute_result"
    }
   ],
   "source": [
    "g4 = sktb.groupby(['номер региона'])[['количество этажей', 'жилая площадь','количество мест в паркинге',\n",
    "                                'средняя цена за 1 м²']].agg(['min', 'max', 'mean', 'median'])\n",
    "g4"
   ]
  },
  {
   "cell_type": "code",
   "execution_count": 127,
   "metadata": {},
   "outputs": [
    {
     "data": {
      "image/png": "[encoded data removed]",
      "text/plain": [
       "<Figure size 576x288 with 1 Axes>"
      ]
     },
     "metadata": {
      "needs_background": "light"
     },
     "output_type": "display_data"
    }
   ],
   "source": [
    "sns.catplot(\n",
    "    x='номер региона', \n",
    "    y='количество квартир', \n",
    "    data=sktb, \n",
    "    kind='box', \n",
    "    height=4, \n",
    "    aspect=2\n",
    "); "
   ]
  },
  {
   "cell_type": "code",
   "execution_count": 129,
   "metadata": {},
   "outputs": [
    {
     "data": {
      "image/png": "[encoded data removed]",
      "text/plain": [
       "<Figure size 576x288 with 1 Axes>"
      ]
     },
     "metadata": {
      "needs_background": "light"
     },
     "output_type": "display_data"
    }
   ],
   "source": [
    "sns.catplot(\n",
    "    x='номер региона', \n",
    "    y='жилая площадь', \n",
    "    data=sktb, \n",
    "    kind='box', \n",
    "    height=4, \n",
    "    aspect=2\n",
    "); "
   ]
  },
  {
   "cell_type": "code",
   "execution_count": 130,
   "metadata": {},
   "outputs": [
    {
     "data": {
      "image/png": "[encoded data removed]",
      "text/plain": [
       "<Figure size 576x288 with 1 Axes>"
      ]
     },
     "metadata": {
      "needs_background": "light"
     },
     "output_type": "display_data"
    }
   ],
   "source": [
    "sns.catplot(\n",
    "    x='номер региона', \n",
    "    y='средняя цена за 1 м²', \n",
    "    data=sktb, \n",
    "    kind='box', \n",
    "    height=4, \n",
    "    aspect=2\n",
    "); "
   ]
  }
 ],
 "metadata": {
  "kernelspec": {
   "display_name": "Python 3 (ipykernel)",
   "language": "python",
   "name": "python3"
  },
  "language_info": {
   "codemirror_mode": {
    "name": "ipython",
    "version": 3
   },
   "file_extension": ".py",
   "mimetype": "text/x-python",
   "name": "python",
   "nbconvert_exporter": "python",
   "pygments_lexer": "ipython3",
   "version": "3.9.12"
  }
 },
 "nbformat": 4,
 "nbformat_minor": 1
}
