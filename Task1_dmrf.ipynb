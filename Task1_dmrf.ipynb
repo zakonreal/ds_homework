{
 "cells": [
  {
   "cell_type": "markdown",
   "metadata": {
    "pycharm": {
     "name": "#%% md\n"
    }
   },
   "source": [
    "[![Open In Colab](https://colab.research.google.com/assets/colab-badge.svg)](https://colab.research.google.com/github/ds-reboot/python-first-part/blob/main/notebooks/hometasks/Task1_dmrf.ipynb)"
   ]
  },
  {
   "cell_type": "markdown",
   "metadata": {
    "pycharm": {
     "name": "#%% md\n"
    }
   },
   "source": [
    "# Задание\n",
    "* Собрать информацию о всех строящихся объектах на сайте \"наш.дом.рф\"\n",
    "* Cохранить ее в pandas dataframe\n",
    "* Cохранить pandas dataframe в excel\n",
    "* Cохранить pandas dataframe в pickle\n",
    "* Cохранить pandas dataframe в БД\n"
   ]
  },
  {
   "cell_type": "code",
   "execution_count": 28,
   "metadata": {
    "jupyter": {
     "outputs_hidden": false
    },
    "pycharm": {
     "name": "#%%\n"
    }
   },
   "outputs": [],
   "source": [
    "import requests\n",
    "import os\n",
    "import csv\n",
    "import pandas as pd\n",
    "from tqdm.auto import tqdm\n",
    "from bs4 import BeautifulSoup as bs\n",
    "from urllib.parse import urljoin, urlparse\n",
    "\n",
    "import warnings\n",
    "warnings.filterwarnings('ignore')"
   ]
  },
  {
   "cell_type": "markdown",
   "metadata": {
    "pycharm": {
     "name": "#%% md\n"
    }
   },
   "source": [
    "## Список объектов"
   ]
  },
  {
   "cell_type": "code",
   "execution_count": 5,
   "metadata": {
    "jupyter": {
     "outputs_hidden": false
    },
    "pycharm": {
     "name": "#%%\n"
    }
   },
   "outputs": [],
   "source": [
    "# скачиваем информацию о всех строящихся объектах на сайте \"наш.дом.рф\" в pandas dataframe\n",
    "\n",
    "offset = 0\n",
    "df = pd.DataFrame()\n",
    "\n",
    "while True:\n",
    "        \n",
    "        url = 'https://наш.дом.рф/сервисы/api/kn/object'\n",
    "        params = (\n",
    "                  ('offset', offset),\n",
    "                  ('limit', 100),\n",
    "                  ('sortField', 'devId.devShortCleanNm'),\n",
    "                  ('sortType', 'asc'),\n",
    "                  ('objStatus', '0')\n",
    "                 )\n",
    "         \n",
    "        response = requests.get(url, params = params)\n",
    "        reestr = response.json()\n",
    "        obj = reestr.get('data').get('list')\n",
    "         \n",
    "        if not obj:\n",
    "                   break\n",
    "     \n",
    "        df1 = pd.DataFrame(obj)\n",
    "        df1['developer'] = df1['developer'].apply(lambda x: x['shortName'])\n",
    "        df = df.append(df1, ignore_index=True)\n",
    "        \n",
    "        offset += 100"
   ]
  },
  {
   "cell_type": "code",
   "execution_count": 6,
   "metadata": {},
   "outputs": [
    {
     "data": {
      "text/html": [
       "<div>\n",
       "<style scoped>\n",
       "    .dataframe tbody tr th:only-of-type {\n",
       "        vertical-align: middle;\n",
       "    }\n",
       "\n",
       "    .dataframe tbody tr th {\n",
       "        vertical-align: top;\n",
       "    }\n",
       "\n",
       "    .dataframe thead th {\n",
       "        text-align: right;\n",
       "    }\n",
       "</style>\n",
       "<table border=\"1\" class=\"dataframe\">\n",
       "  <thead>\n",
       "    <tr style=\"text-align: right;\">\n",
       "      <th></th>\n",
       "      <th>objId</th>\n",
       "      <th>developer</th>\n",
       "      <th>rpdRegionCd</th>\n",
       "      <th>objAddr</th>\n",
       "      <th>objElemLivingCnt</th>\n",
       "      <th>objReady100PercDt</th>\n",
       "      <th>objSquareLiving</th>\n",
       "      <th>objCompensFundFlg</th>\n",
       "      <th>objProblemFlg</th>\n",
       "      <th>latitude</th>\n",
       "      <th>...</th>\n",
       "      <th>objGuarantyEscrowFlg</th>\n",
       "      <th>residentialBuildings</th>\n",
       "      <th>rpdNum</th>\n",
       "      <th>pdId</th>\n",
       "      <th>buildType</th>\n",
       "      <th>objStatus</th>\n",
       "      <th>objFloorMin</th>\n",
       "      <th>objFloorMax</th>\n",
       "      <th>objCommercNm</th>\n",
       "      <th>complexShortName</th>\n",
       "    </tr>\n",
       "  </thead>\n",
       "  <tbody>\n",
       "    <tr>\n",
       "      <th>0</th>\n",
       "      <td>29679</td>\n",
       "      <td>212-2</td>\n",
       "      <td>61</td>\n",
       "      <td>г Таганрог</td>\n",
       "      <td>18</td>\n",
       "      <td>2020-03-31</td>\n",
       "      <td>1519.00</td>\n",
       "      <td>0</td>\n",
       "      <td>0</td>\n",
       "      <td>47.2238</td>\n",
       "      <td>...</td>\n",
       "      <td>0</td>\n",
       "      <td>1</td>\n",
       "      <td>61-000818</td>\n",
       "      <td>124647</td>\n",
       "      <td>Жилое</td>\n",
       "      <td>0</td>\n",
       "      <td>NaN</td>\n",
       "      <td>NaN</td>\n",
       "      <td>NaN</td>\n",
       "      <td>NaN</td>\n",
       "    </tr>\n",
       "    <tr>\n",
       "      <th>1</th>\n",
       "      <td>13383</td>\n",
       "      <td>2МЕН ГРУПП</td>\n",
       "      <td>72</td>\n",
       "      <td>г Тюмень</td>\n",
       "      <td>68</td>\n",
       "      <td>2022-12-31</td>\n",
       "      <td>6293.78</td>\n",
       "      <td>1</td>\n",
       "      <td>0</td>\n",
       "      <td>57.1519</td>\n",
       "      <td>...</td>\n",
       "      <td>0</td>\n",
       "      <td>1</td>\n",
       "      <td>72-000095</td>\n",
       "      <td>28105</td>\n",
       "      <td>Жилое</td>\n",
       "      <td>0</td>\n",
       "      <td>4.0</td>\n",
       "      <td>20.0</td>\n",
       "      <td>NaN</td>\n",
       "      <td>NaN</td>\n",
       "    </tr>\n",
       "    <tr>\n",
       "      <th>2</th>\n",
       "      <td>13397</td>\n",
       "      <td>2МЕН ГРУПП</td>\n",
       "      <td>72</td>\n",
       "      <td>г Тюмень, ул Профсоюзная, д. 56</td>\n",
       "      <td>65</td>\n",
       "      <td>2024-12-31</td>\n",
       "      <td>6248.51</td>\n",
       "      <td>0</td>\n",
       "      <td>0</td>\n",
       "      <td>57.1519</td>\n",
       "      <td>...</td>\n",
       "      <td>0</td>\n",
       "      <td>1</td>\n",
       "      <td>72-000097</td>\n",
       "      <td>28141</td>\n",
       "      <td>Жилое</td>\n",
       "      <td>0</td>\n",
       "      <td>6.0</td>\n",
       "      <td>12.0</td>\n",
       "      <td>NaN</td>\n",
       "      <td>NaN</td>\n",
       "    </tr>\n",
       "    <tr>\n",
       "      <th>3</th>\n",
       "      <td>13399</td>\n",
       "      <td>2МЕН ГРУПП</td>\n",
       "      <td>72</td>\n",
       "      <td>г Тюмень, ул Профсоюзная, д. 56</td>\n",
       "      <td>0</td>\n",
       "      <td>2024-12-31</td>\n",
       "      <td>0.00</td>\n",
       "      <td>0</td>\n",
       "      <td>0</td>\n",
       "      <td>57.1519</td>\n",
       "      <td>...</td>\n",
       "      <td>0</td>\n",
       "      <td>0</td>\n",
       "      <td>72-000097</td>\n",
       "      <td>28141</td>\n",
       "      <td>Нежилое</td>\n",
       "      <td>0</td>\n",
       "      <td>1.0</td>\n",
       "      <td>1.0</td>\n",
       "      <td>NaN</td>\n",
       "      <td>NaN</td>\n",
       "    </tr>\n",
       "    <tr>\n",
       "      <th>4</th>\n",
       "      <td>13398</td>\n",
       "      <td>2МЕН ГРУПП</td>\n",
       "      <td>72</td>\n",
       "      <td>г Тюмень, ул Профсоюзная, д. 56</td>\n",
       "      <td>43</td>\n",
       "      <td>2024-12-31</td>\n",
       "      <td>4812.98</td>\n",
       "      <td>0</td>\n",
       "      <td>0</td>\n",
       "      <td>57.1519</td>\n",
       "      <td>...</td>\n",
       "      <td>0</td>\n",
       "      <td>1</td>\n",
       "      <td>72-000097</td>\n",
       "      <td>28141</td>\n",
       "      <td>Жилое</td>\n",
       "      <td>0</td>\n",
       "      <td>7.0</td>\n",
       "      <td>10.0</td>\n",
       "      <td>NaN</td>\n",
       "      <td>NaN</td>\n",
       "    </tr>\n",
       "    <tr>\n",
       "      <th>...</th>\n",
       "      <td>...</td>\n",
       "      <td>...</td>\n",
       "      <td>...</td>\n",
       "      <td>...</td>\n",
       "      <td>...</td>\n",
       "      <td>...</td>\n",
       "      <td>...</td>\n",
       "      <td>...</td>\n",
       "      <td>...</td>\n",
       "      <td>...</td>\n",
       "      <td>...</td>\n",
       "      <td>...</td>\n",
       "      <td>...</td>\n",
       "      <td>...</td>\n",
       "      <td>...</td>\n",
       "      <td>...</td>\n",
       "      <td>...</td>\n",
       "      <td>...</td>\n",
       "      <td>...</td>\n",
       "      <td>...</td>\n",
       "      <td>...</td>\n",
       "    </tr>\n",
       "    <tr>\n",
       "      <th>10578</th>\n",
       "      <td>28072</td>\n",
       "      <td>ЯРКИЙ МИР</td>\n",
       "      <td>50</td>\n",
       "      <td>г Котельники, район мкр.Ковровый, д.1-5, 24-29...</td>\n",
       "      <td>312</td>\n",
       "      <td>2024-06-30</td>\n",
       "      <td>14788.80</td>\n",
       "      <td>1</td>\n",
       "      <td>0</td>\n",
       "      <td>55.6591</td>\n",
       "      <td>...</td>\n",
       "      <td>0</td>\n",
       "      <td>1</td>\n",
       "      <td>50-001971</td>\n",
       "      <td>96379</td>\n",
       "      <td>Жилое</td>\n",
       "      <td>0</td>\n",
       "      <td>2.0</td>\n",
       "      <td>26.0</td>\n",
       "      <td>Жилой комплекс\"Томилинский бульвар\"</td>\n",
       "      <td>NaN</td>\n",
       "    </tr>\n",
       "    <tr>\n",
       "      <th>10579</th>\n",
       "      <td>28071</td>\n",
       "      <td>ЯРКИЙ МИР</td>\n",
       "      <td>50</td>\n",
       "      <td>г Котельники, район мкр.Ковровый, д.1-5, 24-29...</td>\n",
       "      <td>288</td>\n",
       "      <td>2024-06-30</td>\n",
       "      <td>14870.40</td>\n",
       "      <td>1</td>\n",
       "      <td>0</td>\n",
       "      <td>55.6603</td>\n",
       "      <td>...</td>\n",
       "      <td>0</td>\n",
       "      <td>1</td>\n",
       "      <td>50-002025</td>\n",
       "      <td>99284</td>\n",
       "      <td>Жилое</td>\n",
       "      <td>0</td>\n",
       "      <td>26.0</td>\n",
       "      <td>26.0</td>\n",
       "      <td>Жилой комплекс\"Томилинский бульвар\"</td>\n",
       "      <td>NaN</td>\n",
       "    </tr>\n",
       "    <tr>\n",
       "      <th>10580</th>\n",
       "      <td>28073</td>\n",
       "      <td>ЯРКИЙ МИР</td>\n",
       "      <td>50</td>\n",
       "      <td>г Котельники, район мкр.Ковровый, д.1-5, 24-29...</td>\n",
       "      <td>312</td>\n",
       "      <td>2024-06-30</td>\n",
       "      <td>14872.80</td>\n",
       "      <td>1</td>\n",
       "      <td>0</td>\n",
       "      <td>55.6611</td>\n",
       "      <td>...</td>\n",
       "      <td>0</td>\n",
       "      <td>1</td>\n",
       "      <td>50-001972</td>\n",
       "      <td>96446</td>\n",
       "      <td>Жилое</td>\n",
       "      <td>0</td>\n",
       "      <td>26.0</td>\n",
       "      <td>26.0</td>\n",
       "      <td>Жилой комплекс\"Томилинский бульвар\"</td>\n",
       "      <td>NaN</td>\n",
       "    </tr>\n",
       "    <tr>\n",
       "      <th>10581</th>\n",
       "      <td>44447</td>\n",
       "      <td>ЯРОСЛАВЛЬЗАКАЗЧИК</td>\n",
       "      <td>76</td>\n",
       "      <td>г Ярославль, Фрунзенский район, территория в р...</td>\n",
       "      <td>127</td>\n",
       "      <td>2022-12-31</td>\n",
       "      <td>6764.22</td>\n",
       "      <td>0</td>\n",
       "      <td>0</td>\n",
       "      <td>57.5679</td>\n",
       "      <td>...</td>\n",
       "      <td>1</td>\n",
       "      <td>1</td>\n",
       "      <td>76-000546</td>\n",
       "      <td>475093</td>\n",
       "      <td>Жилое</td>\n",
       "      <td>0</td>\n",
       "      <td>6.0</td>\n",
       "      <td>6.0</td>\n",
       "      <td>NaN</td>\n",
       "      <td>NaN</td>\n",
       "    </tr>\n",
       "    <tr>\n",
       "      <th>10582</th>\n",
       "      <td>45321</td>\n",
       "      <td>‹‹СЗ ‹‹СТРОЙ-НАДЕЖДА››</td>\n",
       "      <td>32</td>\n",
       "      <td>г Брянск, улица Молодой Гвардии, строение Поз.1</td>\n",
       "      <td>90</td>\n",
       "      <td>2023-03-31</td>\n",
       "      <td>5288.40</td>\n",
       "      <td>0</td>\n",
       "      <td>0</td>\n",
       "      <td>53.3129</td>\n",
       "      <td>...</td>\n",
       "      <td>1</td>\n",
       "      <td>1</td>\n",
       "      <td>32-000336</td>\n",
       "      <td>516648</td>\n",
       "      <td>Жилое</td>\n",
       "      <td>0</td>\n",
       "      <td>11.0</td>\n",
       "      <td>11.0</td>\n",
       "      <td>NaN</td>\n",
       "      <td>NaN</td>\n",
       "    </tr>\n",
       "  </tbody>\n",
       "</table>\n",
       "<p>10583 rows × 23 columns</p>\n",
       "</div>"
      ],
      "text/plain": [
       "       objId               developer  rpdRegionCd  \\\n",
       "0      29679                   212-2           61   \n",
       "1      13383              2МЕН ГРУПП           72   \n",
       "2      13397              2МЕН ГРУПП           72   \n",
       "3      13399              2МЕН ГРУПП           72   \n",
       "4      13398              2МЕН ГРУПП           72   \n",
       "...      ...                     ...          ...   \n",
       "10578  28072               ЯРКИЙ МИР           50   \n",
       "10579  28071               ЯРКИЙ МИР           50   \n",
       "10580  28073               ЯРКИЙ МИР           50   \n",
       "10581  44447       ЯРОСЛАВЛЬЗАКАЗЧИК           76   \n",
       "10582  45321  ‹‹СЗ ‹‹СТРОЙ-НАДЕЖДА››           32   \n",
       "\n",
       "                                                 objAddr  objElemLivingCnt  \\\n",
       "0                                             г Таганрог                18   \n",
       "1                                               г Тюмень                68   \n",
       "2                        г Тюмень, ул Профсоюзная, д. 56                65   \n",
       "3                        г Тюмень, ул Профсоюзная, д. 56                 0   \n",
       "4                        г Тюмень, ул Профсоюзная, д. 56                43   \n",
       "...                                                  ...               ...   \n",
       "10578  г Котельники, район мкр.Ковровый, д.1-5, 24-29...               312   \n",
       "10579  г Котельники, район мкр.Ковровый, д.1-5, 24-29...               288   \n",
       "10580  г Котельники, район мкр.Ковровый, д.1-5, 24-29...               312   \n",
       "10581  г Ярославль, Фрунзенский район, территория в р...               127   \n",
       "10582    г Брянск, улица Молодой Гвардии, строение Поз.1                90   \n",
       "\n",
       "      objReady100PercDt  objSquareLiving  objCompensFundFlg  objProblemFlg  \\\n",
       "0            2020-03-31          1519.00                  0              0   \n",
       "1            2022-12-31          6293.78                  1              0   \n",
       "2            2024-12-31          6248.51                  0              0   \n",
       "3            2024-12-31             0.00                  0              0   \n",
       "4            2024-12-31          4812.98                  0              0   \n",
       "...                 ...              ...                ...            ...   \n",
       "10578        2024-06-30         14788.80                  1              0   \n",
       "10579        2024-06-30         14870.40                  1              0   \n",
       "10580        2024-06-30         14872.80                  1              0   \n",
       "10581        2022-12-31          6764.22                  0              0   \n",
       "10582        2023-03-31          5288.40                  0              0   \n",
       "\n",
       "       latitude  ...  objGuarantyEscrowFlg residentialBuildings     rpdNum  \\\n",
       "0       47.2238  ...                     0                    1  61-000818   \n",
       "1       57.1519  ...                     0                    1  72-000095   \n",
       "2       57.1519  ...                     0                    1  72-000097   \n",
       "3       57.1519  ...                     0                    0  72-000097   \n",
       "4       57.1519  ...                     0                    1  72-000097   \n",
       "...         ...  ...                   ...                  ...        ...   \n",
       "10578   55.6591  ...                     0                    1  50-001971   \n",
       "10579   55.6603  ...                     0                    1  50-002025   \n",
       "10580   55.6611  ...                     0                    1  50-001972   \n",
       "10581   57.5679  ...                     1                    1  76-000546   \n",
       "10582   53.3129  ...                     1                    1  32-000336   \n",
       "\n",
       "         pdId  buildType objStatus  objFloorMin objFloorMax  \\\n",
       "0      124647      Жилое         0          NaN         NaN   \n",
       "1       28105      Жилое         0          4.0        20.0   \n",
       "2       28141      Жилое         0          6.0        12.0   \n",
       "3       28141    Нежилое         0          1.0         1.0   \n",
       "4       28141      Жилое         0          7.0        10.0   \n",
       "...       ...        ...       ...          ...         ...   \n",
       "10578   96379      Жилое         0          2.0        26.0   \n",
       "10579   99284      Жилое         0         26.0        26.0   \n",
       "10580   96446      Жилое         0         26.0        26.0   \n",
       "10581  475093      Жилое         0          6.0         6.0   \n",
       "10582  516648      Жилое         0         11.0        11.0   \n",
       "\n",
       "                              objCommercNm  complexShortName  \n",
       "0                                      NaN               NaN  \n",
       "1                                      NaN               NaN  \n",
       "2                                      NaN               NaN  \n",
       "3                                      NaN               NaN  \n",
       "4                                      NaN               NaN  \n",
       "...                                    ...               ...  \n",
       "10578  Жилой комплекс\"Томилинский бульвар\"               NaN  \n",
       "10579  Жилой комплекс\"Томилинский бульвар\"               NaN  \n",
       "10580  Жилой комплекс\"Томилинский бульвар\"               NaN  \n",
       "10581                                  NaN               NaN  \n",
       "10582                                  NaN               NaN  \n",
       "\n",
       "[10583 rows x 23 columns]"
      ]
     },
     "execution_count": 6,
     "metadata": {},
     "output_type": "execute_result"
    }
   ],
   "source": [
    "df"
   ]
  },
  {
   "cell_type": "code",
   "execution_count": 7,
   "metadata": {
    "jupyter": {
     "outputs_hidden": false
    },
    "pycharm": {
     "name": "#%%\n"
    }
   },
   "outputs": [],
   "source": [
    "# Cохраняем pandas dataframe в excel\n",
    "df.to_csv('nash-dom-rf.csv')\n",
    "# Cохраняем pandas dataframe в excel\n",
    "df.to_excel('nash-dom-rf.xlsx')\n",
    "# Cохраняем pandas dataframe pickle\n",
    "df.to_pickle('nash-dom-rf.pkl')"
   ]
  },
  {
   "cell_type": "code",
   "execution_count": 9,
   "metadata": {},
   "outputs": [
    {
     "data": {
      "text/plain": [
       "10583"
      ]
     },
     "execution_count": 9,
     "metadata": {},
     "output_type": "execute_result"
    }
   ],
   "source": [
    "# Cохраняем pandas dataframe в БД\n",
    "import sqlite3\n",
    "conn = sqlite3.connect('BDnashdom.db')  \n",
    "c = conn.cursor()\n",
    "df.to_sql('nash-dom', conn)"
   ]
  },
  {
   "cell_type": "markdown",
   "metadata": {
    "pycharm": {
     "name": "#%% md\n"
    }
   },
   "source": [
    "# Данные по определенному объекту"
   ]
  },
  {
   "cell_type": "code",
   "execution_count": 12,
   "metadata": {
    "jupyter": {
     "outputs_hidden": false
    },
    "pycharm": {
     "name": "#%%\n"
    }
   },
   "outputs": [],
   "source": [
    "# Для скачивания данных по определенному объекту, нужно добавить его id в конец строки запроса\n",
    "url = f'https://xn--80az8a.xn--d1aqf.xn--p1ai/%D1%81%D0%B5%D1%80%D0%B2%D0%B8%D1%81%D1%8B/api/object/29679'"
   ]
  },
  {
   "cell_type": "code",
   "execution_count": 17,
   "metadata": {
    "jupyter": {
     "outputs_hidden": false
    },
    "pycharm": {
     "name": "#%%\n"
    }
   },
   "outputs": [
    {
     "data": {
      "application/vnd.jupyter.widget-view+json": {
       "model_id": "4d9524b271b24a2b9ea03c7b1a6259df",
       "version_major": 2,
       "version_minor": 0
      },
      "text/plain": [
       "  0%|          | 0/10583 [00:00<?, ?it/s]"
      ]
     },
     "metadata": {},
     "output_type": "display_data"
    }
   ],
   "source": [
    "# скачиваем информацию о всех строящихся объектах на сайте \"наш.дом.рф\" в pandas dataframe\n",
    "df2 = pd.DataFrame()\n",
    "for id in tqdm(df.objId):\n",
    "\n",
    "    url = f'https://xn--80az8a.xn--d1aqf.xn--p1ai/%D1%81%D0%B5%D1%80%D0%B2%D0%B8%D1%81%D1%8B/api/object/{id}'\n",
    "    res = requests.get(url)\n",
    "    r = res.json()\n",
    "    df1 = pd.json_normalize(r)\n",
    "    df2 = df2.append(df1, ignore_index=True)"
   ]
  },
  {
   "cell_type": "code",
   "execution_count": 18,
   "metadata": {},
   "outputs": [
    {
     "data": {
      "text/html": [
       "<div>\n",
       "<style scoped>\n",
       "    .dataframe tbody tr th:only-of-type {\n",
       "        vertical-align: middle;\n",
       "    }\n",
       "\n",
       "    .dataframe tbody tr th {\n",
       "        vertical-align: top;\n",
       "    }\n",
       "\n",
       "    .dataframe thead th {\n",
       "        text-align: right;\n",
       "    }\n",
       "</style>\n",
       "<table border=\"1\" class=\"dataframe\">\n",
       "  <thead>\n",
       "    <tr style=\"text-align: right;\">\n",
       "      <th></th>\n",
       "      <th>errcode</th>\n",
       "      <th>data.id</th>\n",
       "      <th>data.pdId</th>\n",
       "      <th>data.developer.devId</th>\n",
       "      <th>data.developer.devShortCleanNm</th>\n",
       "      <th>data.developer.devShortNm</th>\n",
       "      <th>data.developer.devFullCleanNm</th>\n",
       "      <th>data.developer.problObjCnt</th>\n",
       "      <th>data.developer.buildObjCnt</th>\n",
       "      <th>data.developer.comissObjCnt</th>\n",
       "      <th>...</th>\n",
       "      <th>data.developer.bankruptStage.bankruptStageDesc</th>\n",
       "      <th>data.developer.bankruptStage.bankruptLawUrl</th>\n",
       "      <th>data.developer.orgBankruptMsgDttm</th>\n",
       "      <th>data.metro.id</th>\n",
       "      <th>data.metro.name</th>\n",
       "      <th>data.metro.line</th>\n",
       "      <th>data.metro.color</th>\n",
       "      <th>data.metro.time</th>\n",
       "      <th>data.metro.isWalk</th>\n",
       "      <th>data.metro.colors</th>\n",
       "    </tr>\n",
       "  </thead>\n",
       "  <tbody>\n",
       "    <tr>\n",
       "      <th>0</th>\n",
       "      <td>0</td>\n",
       "      <td>29679</td>\n",
       "      <td>124647</td>\n",
       "      <td>7424</td>\n",
       "      <td>212-2</td>\n",
       "      <td>212-2</td>\n",
       "      <td>212-2</td>\n",
       "      <td>0</td>\n",
       "      <td>1</td>\n",
       "      <td>0</td>\n",
       "      <td>...</td>\n",
       "      <td>NaN</td>\n",
       "      <td>NaN</td>\n",
       "      <td>NaN</td>\n",
       "      <td>NaN</td>\n",
       "      <td>NaN</td>\n",
       "      <td>NaN</td>\n",
       "      <td>NaN</td>\n",
       "      <td>NaN</td>\n",
       "      <td>NaN</td>\n",
       "      <td>NaN</td>\n",
       "    </tr>\n",
       "    <tr>\n",
       "      <th>1</th>\n",
       "      <td>0</td>\n",
       "      <td>13383</td>\n",
       "      <td>28105</td>\n",
       "      <td>306</td>\n",
       "      <td>2МЕН ГРУПП</td>\n",
       "      <td>2МЕН ГРУПП</td>\n",
       "      <td>2МЕН ГРУПП</td>\n",
       "      <td>0</td>\n",
       "      <td>5</td>\n",
       "      <td>0</td>\n",
       "      <td>...</td>\n",
       "      <td>NaN</td>\n",
       "      <td>NaN</td>\n",
       "      <td>NaN</td>\n",
       "      <td>NaN</td>\n",
       "      <td>NaN</td>\n",
       "      <td>NaN</td>\n",
       "      <td>NaN</td>\n",
       "      <td>NaN</td>\n",
       "      <td>NaN</td>\n",
       "      <td>NaN</td>\n",
       "    </tr>\n",
       "    <tr>\n",
       "      <th>2</th>\n",
       "      <td>0</td>\n",
       "      <td>13397</td>\n",
       "      <td>28141</td>\n",
       "      <td>306</td>\n",
       "      <td>2МЕН ГРУПП</td>\n",
       "      <td>2МЕН ГРУПП</td>\n",
       "      <td>2МЕН ГРУПП</td>\n",
       "      <td>0</td>\n",
       "      <td>5</td>\n",
       "      <td>0</td>\n",
       "      <td>...</td>\n",
       "      <td>NaN</td>\n",
       "      <td>NaN</td>\n",
       "      <td>NaN</td>\n",
       "      <td>NaN</td>\n",
       "      <td>NaN</td>\n",
       "      <td>NaN</td>\n",
       "      <td>NaN</td>\n",
       "      <td>NaN</td>\n",
       "      <td>NaN</td>\n",
       "      <td>NaN</td>\n",
       "    </tr>\n",
       "    <tr>\n",
       "      <th>3</th>\n",
       "      <td>0</td>\n",
       "      <td>13399</td>\n",
       "      <td>28141</td>\n",
       "      <td>306</td>\n",
       "      <td>2МЕН ГРУПП</td>\n",
       "      <td>2МЕН ГРУПП</td>\n",
       "      <td>2МЕН ГРУПП</td>\n",
       "      <td>0</td>\n",
       "      <td>5</td>\n",
       "      <td>0</td>\n",
       "      <td>...</td>\n",
       "      <td>NaN</td>\n",
       "      <td>NaN</td>\n",
       "      <td>NaN</td>\n",
       "      <td>NaN</td>\n",
       "      <td>NaN</td>\n",
       "      <td>NaN</td>\n",
       "      <td>NaN</td>\n",
       "      <td>NaN</td>\n",
       "      <td>NaN</td>\n",
       "      <td>NaN</td>\n",
       "    </tr>\n",
       "    <tr>\n",
       "      <th>4</th>\n",
       "      <td>0</td>\n",
       "      <td>13398</td>\n",
       "      <td>28141</td>\n",
       "      <td>306</td>\n",
       "      <td>2МЕН ГРУПП</td>\n",
       "      <td>2МЕН ГРУПП</td>\n",
       "      <td>2МЕН ГРУПП</td>\n",
       "      <td>0</td>\n",
       "      <td>5</td>\n",
       "      <td>0</td>\n",
       "      <td>...</td>\n",
       "      <td>NaN</td>\n",
       "      <td>NaN</td>\n",
       "      <td>NaN</td>\n",
       "      <td>NaN</td>\n",
       "      <td>NaN</td>\n",
       "      <td>NaN</td>\n",
       "      <td>NaN</td>\n",
       "      <td>NaN</td>\n",
       "      <td>NaN</td>\n",
       "      <td>NaN</td>\n",
       "    </tr>\n",
       "    <tr>\n",
       "      <th>...</th>\n",
       "      <td>...</td>\n",
       "      <td>...</td>\n",
       "      <td>...</td>\n",
       "      <td>...</td>\n",
       "      <td>...</td>\n",
       "      <td>...</td>\n",
       "      <td>...</td>\n",
       "      <td>...</td>\n",
       "      <td>...</td>\n",
       "      <td>...</td>\n",
       "      <td>...</td>\n",
       "      <td>...</td>\n",
       "      <td>...</td>\n",
       "      <td>...</td>\n",
       "      <td>...</td>\n",
       "      <td>...</td>\n",
       "      <td>...</td>\n",
       "      <td>...</td>\n",
       "      <td>...</td>\n",
       "      <td>...</td>\n",
       "      <td>...</td>\n",
       "    </tr>\n",
       "    <tr>\n",
       "      <th>10578</th>\n",
       "      <td>0</td>\n",
       "      <td>28072</td>\n",
       "      <td>96379</td>\n",
       "      <td>7344</td>\n",
       "      <td>ЯРКИЙ МИР</td>\n",
       "      <td>ЯРКИЙ МИР</td>\n",
       "      <td>ЯРКИЙ МИР</td>\n",
       "      <td>0</td>\n",
       "      <td>5</td>\n",
       "      <td>0</td>\n",
       "      <td>...</td>\n",
       "      <td>NaN</td>\n",
       "      <td>NaN</td>\n",
       "      <td>NaN</td>\n",
       "      <td>NaN</td>\n",
       "      <td>NaN</td>\n",
       "      <td>NaN</td>\n",
       "      <td>NaN</td>\n",
       "      <td>NaN</td>\n",
       "      <td>NaN</td>\n",
       "      <td>NaN</td>\n",
       "    </tr>\n",
       "    <tr>\n",
       "      <th>10579</th>\n",
       "      <td>0</td>\n",
       "      <td>28071</td>\n",
       "      <td>99284</td>\n",
       "      <td>7344</td>\n",
       "      <td>ЯРКИЙ МИР</td>\n",
       "      <td>ЯРКИЙ МИР</td>\n",
       "      <td>ЯРКИЙ МИР</td>\n",
       "      <td>0</td>\n",
       "      <td>5</td>\n",
       "      <td>0</td>\n",
       "      <td>...</td>\n",
       "      <td>NaN</td>\n",
       "      <td>NaN</td>\n",
       "      <td>NaN</td>\n",
       "      <td>NaN</td>\n",
       "      <td>NaN</td>\n",
       "      <td>NaN</td>\n",
       "      <td>NaN</td>\n",
       "      <td>NaN</td>\n",
       "      <td>NaN</td>\n",
       "      <td>NaN</td>\n",
       "    </tr>\n",
       "    <tr>\n",
       "      <th>10580</th>\n",
       "      <td>0</td>\n",
       "      <td>28073</td>\n",
       "      <td>96446</td>\n",
       "      <td>7344</td>\n",
       "      <td>ЯРКИЙ МИР</td>\n",
       "      <td>ЯРКИЙ МИР</td>\n",
       "      <td>ЯРКИЙ МИР</td>\n",
       "      <td>0</td>\n",
       "      <td>5</td>\n",
       "      <td>0</td>\n",
       "      <td>...</td>\n",
       "      <td>NaN</td>\n",
       "      <td>NaN</td>\n",
       "      <td>NaN</td>\n",
       "      <td>NaN</td>\n",
       "      <td>NaN</td>\n",
       "      <td>NaN</td>\n",
       "      <td>NaN</td>\n",
       "      <td>NaN</td>\n",
       "      <td>NaN</td>\n",
       "      <td>NaN</td>\n",
       "    </tr>\n",
       "    <tr>\n",
       "      <th>10581</th>\n",
       "      <td>0</td>\n",
       "      <td>44447</td>\n",
       "      <td>475093</td>\n",
       "      <td>2538</td>\n",
       "      <td>ЯРОСЛАВЛЬЗАКАЗЧИК</td>\n",
       "      <td>ЯРОСЛАВЛЬЗАКАЗЧИК</td>\n",
       "      <td>СПЕЦИАЛИЗИРОВАННЫЙ ЗАСТРОЙЩИК ЯРОСЛАВЛЬЗАКАЗЧИК</td>\n",
       "      <td>0</td>\n",
       "      <td>1</td>\n",
       "      <td>3</td>\n",
       "      <td>...</td>\n",
       "      <td>NaN</td>\n",
       "      <td>NaN</td>\n",
       "      <td>NaN</td>\n",
       "      <td>NaN</td>\n",
       "      <td>NaN</td>\n",
       "      <td>NaN</td>\n",
       "      <td>NaN</td>\n",
       "      <td>NaN</td>\n",
       "      <td>NaN</td>\n",
       "      <td>NaN</td>\n",
       "    </tr>\n",
       "    <tr>\n",
       "      <th>10582</th>\n",
       "      <td>0</td>\n",
       "      <td>45321</td>\n",
       "      <td>516648</td>\n",
       "      <td>2912</td>\n",
       "      <td>‹‹СЗ ‹‹СТРОЙ-НАДЕЖДА››</td>\n",
       "      <td>‹‹СЗ ‹‹СТРОЙ-НАДЕЖДА››</td>\n",
       "      <td>‹‹СПЕЦИАЛИЗИРОВАННЫЙ ЗАСТРОЙЩИК ‹‹СТРОЙ-НАДЕЖДА››</td>\n",
       "      <td>0</td>\n",
       "      <td>1</td>\n",
       "      <td>7</td>\n",
       "      <td>...</td>\n",
       "      <td>NaN</td>\n",
       "      <td>NaN</td>\n",
       "      <td>NaN</td>\n",
       "      <td>NaN</td>\n",
       "      <td>NaN</td>\n",
       "      <td>NaN</td>\n",
       "      <td>NaN</td>\n",
       "      <td>NaN</td>\n",
       "      <td>NaN</td>\n",
       "      <td>NaN</td>\n",
       "    </tr>\n",
       "  </tbody>\n",
       "</table>\n",
       "<p>10583 rows × 109 columns</p>\n",
       "</div>"
      ],
      "text/plain": [
       "      errcode  data.id  data.pdId  data.developer.devId  \\\n",
       "0           0    29679     124647                  7424   \n",
       "1           0    13383      28105                   306   \n",
       "2           0    13397      28141                   306   \n",
       "3           0    13399      28141                   306   \n",
       "4           0    13398      28141                   306   \n",
       "...       ...      ...        ...                   ...   \n",
       "10578       0    28072      96379                  7344   \n",
       "10579       0    28071      99284                  7344   \n",
       "10580       0    28073      96446                  7344   \n",
       "10581       0    44447     475093                  2538   \n",
       "10582       0    45321     516648                  2912   \n",
       "\n",
       "      data.developer.devShortCleanNm data.developer.devShortNm  \\\n",
       "0                              212-2                     212-2   \n",
       "1                         2МЕН ГРУПП                2МЕН ГРУПП   \n",
       "2                         2МЕН ГРУПП                2МЕН ГРУПП   \n",
       "3                         2МЕН ГРУПП                2МЕН ГРУПП   \n",
       "4                         2МЕН ГРУПП                2МЕН ГРУПП   \n",
       "...                              ...                       ...   \n",
       "10578                      ЯРКИЙ МИР                 ЯРКИЙ МИР   \n",
       "10579                      ЯРКИЙ МИР                 ЯРКИЙ МИР   \n",
       "10580                      ЯРКИЙ МИР                 ЯРКИЙ МИР   \n",
       "10581              ЯРОСЛАВЛЬЗАКАЗЧИК         ЯРОСЛАВЛЬЗАКАЗЧИК   \n",
       "10582         ‹‹СЗ ‹‹СТРОЙ-НАДЕЖДА››    ‹‹СЗ ‹‹СТРОЙ-НАДЕЖДА››   \n",
       "\n",
       "                           data.developer.devFullCleanNm  \\\n",
       "0                                                  212-2   \n",
       "1                                             2МЕН ГРУПП   \n",
       "2                                             2МЕН ГРУПП   \n",
       "3                                             2МЕН ГРУПП   \n",
       "4                                             2МЕН ГРУПП   \n",
       "...                                                  ...   \n",
       "10578                                          ЯРКИЙ МИР   \n",
       "10579                                          ЯРКИЙ МИР   \n",
       "10580                                          ЯРКИЙ МИР   \n",
       "10581    СПЕЦИАЛИЗИРОВАННЫЙ ЗАСТРОЙЩИК ЯРОСЛАВЛЬЗАКАЗЧИК   \n",
       "10582  ‹‹СПЕЦИАЛИЗИРОВАННЫЙ ЗАСТРОЙЩИК ‹‹СТРОЙ-НАДЕЖДА››   \n",
       "\n",
       "       data.developer.problObjCnt  data.developer.buildObjCnt  \\\n",
       "0                               0                           1   \n",
       "1                               0                           5   \n",
       "2                               0                           5   \n",
       "3                               0                           5   \n",
       "4                               0                           5   \n",
       "...                           ...                         ...   \n",
       "10578                           0                           5   \n",
       "10579                           0                           5   \n",
       "10580                           0                           5   \n",
       "10581                           0                           1   \n",
       "10582                           0                           1   \n",
       "\n",
       "       data.developer.comissObjCnt  ...  \\\n",
       "0                                0  ...   \n",
       "1                                0  ...   \n",
       "2                                0  ...   \n",
       "3                                0  ...   \n",
       "4                                0  ...   \n",
       "...                            ...  ...   \n",
       "10578                            0  ...   \n",
       "10579                            0  ...   \n",
       "10580                            0  ...   \n",
       "10581                            3  ...   \n",
       "10582                            7  ...   \n",
       "\n",
       "      data.developer.bankruptStage.bankruptStageDesc  \\\n",
       "0                                                NaN   \n",
       "1                                                NaN   \n",
       "2                                                NaN   \n",
       "3                                                NaN   \n",
       "4                                                NaN   \n",
       "...                                              ...   \n",
       "10578                                            NaN   \n",
       "10579                                            NaN   \n",
       "10580                                            NaN   \n",
       "10581                                            NaN   \n",
       "10582                                            NaN   \n",
       "\n",
       "      data.developer.bankruptStage.bankruptLawUrl  \\\n",
       "0                                             NaN   \n",
       "1                                             NaN   \n",
       "2                                             NaN   \n",
       "3                                             NaN   \n",
       "4                                             NaN   \n",
       "...                                           ...   \n",
       "10578                                         NaN   \n",
       "10579                                         NaN   \n",
       "10580                                         NaN   \n",
       "10581                                         NaN   \n",
       "10582                                         NaN   \n",
       "\n",
       "      data.developer.orgBankruptMsgDttm data.metro.id data.metro.name  \\\n",
       "0                                   NaN           NaN             NaN   \n",
       "1                                   NaN           NaN             NaN   \n",
       "2                                   NaN           NaN             NaN   \n",
       "3                                   NaN           NaN             NaN   \n",
       "4                                   NaN           NaN             NaN   \n",
       "...                                 ...           ...             ...   \n",
       "10578                               NaN           NaN             NaN   \n",
       "10579                               NaN           NaN             NaN   \n",
       "10580                               NaN           NaN             NaN   \n",
       "10581                               NaN           NaN             NaN   \n",
       "10582                               NaN           NaN             NaN   \n",
       "\n",
       "      data.metro.line data.metro.color data.metro.time data.metro.isWalk  \\\n",
       "0                 NaN              NaN             NaN               NaN   \n",
       "1                 NaN              NaN             NaN               NaN   \n",
       "2                 NaN              NaN             NaN               NaN   \n",
       "3                 NaN              NaN             NaN               NaN   \n",
       "4                 NaN              NaN             NaN               NaN   \n",
       "...               ...              ...             ...               ...   \n",
       "10578             NaN              NaN             NaN               NaN   \n",
       "10579             NaN              NaN             NaN               NaN   \n",
       "10580             NaN              NaN             NaN               NaN   \n",
       "10581             NaN              NaN             NaN               NaN   \n",
       "10582             NaN              NaN             NaN               NaN   \n",
       "\n",
       "       data.metro.colors  \n",
       "0                    NaN  \n",
       "1                    NaN  \n",
       "2                    NaN  \n",
       "3                    NaN  \n",
       "4                    NaN  \n",
       "...                  ...  \n",
       "10578                NaN  \n",
       "10579                NaN  \n",
       "10580                NaN  \n",
       "10581                NaN  \n",
       "10582                NaN  \n",
       "\n",
       "[10583 rows x 109 columns]"
      ]
     },
     "execution_count": 18,
     "metadata": {},
     "output_type": "execute_result"
    }
   ],
   "source": [
    "df2"
   ]
  },
  {
   "cell_type": "code",
   "execution_count": 19,
   "metadata": {},
   "outputs": [],
   "source": [
    "# Cохраняем pandas dataframe в excel\n",
    "df2.to_csv('nash-dom-rf1.csv')\n",
    "# Cохраняем pandas dataframe в excel\n",
    "df2.to_excel('nash-dom-rf1.xlsx')\n",
    "# Cохраняем pandas dataframe pickle\n",
    "df2.to_pickle('nash-dom-rf1.pkl')"
   ]
  },
  {
   "cell_type": "code",
   "execution_count": 24,
   "metadata": {},
   "outputs": [
    {
     "data": {
      "text/plain": [
       "10583"
      ]
     },
     "execution_count": 24,
     "metadata": {},
     "output_type": "execute_result"
    }
   ],
   "source": [
    "# Cохраняем pandas dataframe в БД\n",
    "import sqlite3\n",
    "conn1 = sqlite3.connect('BD.db')  \n",
    "c1 = conn1.cursor()\n",
    "df.to_sql('nash-dom2', conn1)"
   ]
  },
  {
   "cell_type": "markdown",
   "metadata": {},
   "source": [
    "# Задание *\n",
    "* Написать скрипт, который скачивает фотографии всех строящихся объектов с сайта \"наш.дом.рф\""
   ]
  },
  {
   "cell_type": "code",
   "execution_count": 29,
   "metadata": {},
   "outputs": [],
   "source": [
    "# скачиваем фотографии всех строящихся объектов с сайта \"наш.дом.рф\"\n",
    "# источник: https://waksoft.susu.ru/2021/11/03/kak-ispolzuya-python-zagruzit-vse-izobrazheniya-s-veb-straniczy/\n",
    "\n",
    "def is_valid(url):\n",
    "    \"\"\"\n",
    "    Проверяем, является ли url действительным URL\n",
    "    \"\"\"\n",
    "    parsed = urlparse(url)\n",
    "    return bool(parsed.netloc) and bool(parsed.scheme)\n",
    "\n",
    "def get_all_images(url):\n",
    "    \"\"\"\n",
    "    Возвращает все URL‑адреса изображений по одному `url`\n",
    "    \"\"\"\n",
    "    soup = bs(requests.get(url).content, \"html.parser\")\n",
    "    urls = []\n",
    "    for img in tqdm(soup.find_all(\"img\"), \"Получено изображение\"):\n",
    "        img_url = img.attrs.get(\"src\")\n",
    "        if not img_url:\n",
    "            # если img не содержит атрибута src, просто пропускаем\n",
    "            continue\n",
    "        # сделаем URL абсолютным, присоединив имя домена к только что извлеченному URL\n",
    "        img_url = urljoin(url, img_url)\n",
    "        # удалим URL‑адреса типа '/hsts-pixel.gif?c=3.2.5'\n",
    "        try:\n",
    "            pos = img_url.index(\"?\")\n",
    "            img_url = img_url[:pos]\n",
    "        except ValueError:\n",
    "            pass\n",
    "        # наконец, если URL действителен\n",
    "        if is_valid(img_url):\n",
    "            urls.append(img_url)\n",
    "    return urls\n",
    "\n",
    "def download(url, pathname):\n",
    "    \"\"\"\n",
    "    Загружает файл по URL‑адресу и помещает его в папку `pathname`\n",
    "    \"\"\"\n",
    "    # если путь не существует, создать dir\n",
    "    if not os.path.isdir(pathname):\n",
    "        os.makedirs(pathname)\n",
    "    # загружаем тело ответа по частям, а не сразу\n",
    "    response = requests.get(url, stream=True)\n",
    "    # получить общий размер файла\n",
    "    file_size = int(response.headers.get(\"Content-Length\", 0))\n",
    "    # получаем имя файла\n",
    "    filename = os.path.join(pathname, url.split(\"/\")[-1])\n",
    "    # индикатор выполнения, изменение единицы измерения на байты вместо итераций (по умолчанию tqdm)\n",
    "    progress = tqdm(response.iter_content(1024), f\"Загружен {filename}\", total=file_size, unit=\"B\", unit_scale=True, unit_divisor=1024)\n",
    "    with open(filename, \"wb\") as f:\n",
    "        for data in progress.iterable:\n",
    "            # записываем прочитанные данные в файл\n",
    "            f.write(data)\n",
    "            # обновление индикатора выполнения вручную\n",
    "            progress.update(len(data))\n",
    "\n",
    "def main(url, path):\n",
    "    # получить все изображения\n",
    "    imgs = get_all_images(url)\n",
    "    for img in imgs:\n",
    "        # скачать для каждого img\n",
    "        download(img, path)"
   ]
  },
  {
   "cell_type": "code",
   "execution_count": 36,
   "metadata": {},
   "outputs": [
    {
     "data": {
      "application/vnd.jupyter.widget-view+json": {
       "model_id": "c808d4c31ce24119accdaab4cb90dbc0",
       "version_major": 2,
       "version_minor": 0
      },
      "text/plain": [
       "  0%|          | 0/10 [00:00<?, ?it/s]"
      ]
     },
     "metadata": {},
     "output_type": "display_data"
    },
    {
     "data": {
      "application/vnd.jupyter.widget-view+json": {
       "model_id": "9691037ab90045dcad87c86a154de3b2",
       "version_major": 2,
       "version_minor": 0
      },
      "text/plain": [
       "Получено изображение:   0%|          | 0/28 [00:00<?, ?it/s]"
      ]
     },
     "metadata": {},
     "output_type": "display_data"
    },
    {
     "data": {
      "application/vnd.jupyter.widget-view+json": {
       "model_id": "1e2666701ec7402284e0f702f3ffabc6",
       "version_major": 2,
       "version_minor": 0
      },
      "text/plain": [
       "Загружен nash-dom\\47282070:   0%|          | 0.00/43.0 [00:00<?, ?B/s]"
      ]
     },
     "metadata": {},
     "output_type": "display_data"
    },
    {
     "data": {
      "application/vnd.jupyter.widget-view+json": {
       "model_id": "490d1f4196204db7bdda3023f36187f6",
       "version_major": 2,
       "version_minor": 0
      },
      "text/plain": [
       "Получено изображение:   0%|          | 0/68 [00:00<?, ?it/s]"
      ]
     },
     "metadata": {},
     "output_type": "display_data"
    },
    {
     "data": {
      "application/vnd.jupyter.widget-view+json": {
       "model_id": "2fca44543a6b45768de48650efcae376",
       "version_major": 2,
       "version_minor": 0
      },
      "text/plain": [
       "Загружен nash-dom\\47282070:   0%|          | 0.00/43.0 [00:00<?, ?B/s]"
      ]
     },
     "metadata": {},
     "output_type": "display_data"
    },
    {
     "data": {
      "application/vnd.jupyter.widget-view+json": {
       "model_id": "6e072fa011234779ab07656de970151b",
       "version_major": 2,
       "version_minor": 0
      },
      "text/plain": [
       "Загружен nash-dom\\7c1ce108-aa51-45c2-acfa-3091f6bf7e54:   0%|          | 0.00/1.37M [00:00<?, ?B/s]"
      ]
     },
     "metadata": {},
     "output_type": "display_data"
    },
    {
     "data": {
      "application/vnd.jupyter.widget-view+json": {
       "model_id": "e19374c29ab3496c845db0b419f6db87",
       "version_major": 2,
       "version_minor": 0
      },
      "text/plain": [
       "Загружен nash-dom\\cf350104-3afa-40e8-86e1-212da5c99a9a:   0%|          | 0.00/1.24M [00:00<?, ?B/s]"
      ]
     },
     "metadata": {},
     "output_type": "display_data"
    },
    {
     "data": {
      "application/vnd.jupyter.widget-view+json": {
       "model_id": "8e5f9284616a426ca6ac0bfc37c6957d",
       "version_major": 2,
       "version_minor": 0
      },
      "text/plain": [
       "Загружен nash-dom\\80422003-fc35-43f2-9174-de241b92bf1d:   0%|          | 0.00/1.29M [00:00<?, ?B/s]"
      ]
     },
     "metadata": {},
     "output_type": "display_data"
    },
    {
     "data": {
      "application/vnd.jupyter.widget-view+json": {
       "model_id": "aaf1237c3da54b1c9375e423d318487e",
       "version_major": 2,
       "version_minor": 0
      },
      "text/plain": [
       "Загружен nash-dom\\f70dc8e2-776f-4405-8f6f-d410c0061adf:   0%|          | 0.00/1.40M [00:00<?, ?B/s]"
      ]
     },
     "metadata": {},
     "output_type": "display_data"
    },
    {
     "data": {
      "application/vnd.jupyter.widget-view+json": {
       "model_id": "3303f9216abd40338eaf8b852bddbcdf",
       "version_major": 2,
       "version_minor": 0
      },
      "text/plain": [
       "Загружен nash-dom\\ffd2a110-55a5-45c0-9bc1-61e146547df8:   0%|          | 0.00/1.01M [00:00<?, ?B/s]"
      ]
     },
     "metadata": {},
     "output_type": "display_data"
    },
    {
     "data": {
      "application/vnd.jupyter.widget-view+json": {
       "model_id": "bd6a43609d9841bc8210a45bed6e1203",
       "version_major": 2,
       "version_minor": 0
      },
      "text/plain": [
       "Загружен nash-dom\\4c2881c9-a6da-4235-8faa-2f74c5970837:   0%|          | 0.00/0.99M [00:00<?, ?B/s]"
      ]
     },
     "metadata": {},
     "output_type": "display_data"
    },
    {
     "data": {
      "application/vnd.jupyter.widget-view+json": {
       "model_id": "e4ae445267bb4c12a03f299019a84909",
       "version_major": 2,
       "version_minor": 0
      },
      "text/plain": [
       "Загружен nash-dom\\3c35f14c-f16c-46cc-a9a8-c3e828a514b0:   0%|          | 0.00/1.12M [00:00<?, ?B/s]"
      ]
     },
     "metadata": {},
     "output_type": "display_data"
    },
    {
     "data": {
      "application/vnd.jupyter.widget-view+json": {
       "model_id": "c655d13d17344e659f820e2209518d28",
       "version_major": 2,
       "version_minor": 0
      },
      "text/plain": [
       "Загружен nash-dom\\fc81c319-61ef-4d16-a426-03e215793490:   0%|          | 0.00/220k [00:00<?, ?B/s]"
      ]
     },
     "metadata": {},
     "output_type": "display_data"
    },
    {
     "data": {
      "application/vnd.jupyter.widget-view+json": {
       "model_id": "d3134a27bbe4402380bd93dae3af955b",
       "version_major": 2,
       "version_minor": 0
      },
      "text/plain": [
       "Загружен nash-dom\\6df2f9b9-69c2-42d9-a1df-d0b169b55ff3:   0%|          | 0.00/132k [00:00<?, ?B/s]"
      ]
     },
     "metadata": {},
     "output_type": "display_data"
    },
    {
     "data": {
      "application/vnd.jupyter.widget-view+json": {
       "model_id": "e2b0d270a8ad47d8a075403a68322de8",
       "version_major": 2,
       "version_minor": 0
      },
      "text/plain": [
       "Загружен nash-dom\\18333b8e-70d9-4003-8659-dc2b0b1a1af1:   0%|          | 0.00/328k [00:00<?, ?B/s]"
      ]
     },
     "metadata": {},
     "output_type": "display_data"
    },
    {
     "data": {
      "application/vnd.jupyter.widget-view+json": {
       "model_id": "186ddc0e15c84e3f80cdc7f05e8f5666",
       "version_major": 2,
       "version_minor": 0
      },
      "text/plain": [
       "Загружен nash-dom\\85453d34-afd6-4cc6-8d05-c86aa58bca55:   0%|          | 0.00/95.1k [00:00<?, ?B/s]"
      ]
     },
     "metadata": {},
     "output_type": "display_data"
    },
    {
     "data": {
      "application/vnd.jupyter.widget-view+json": {
       "model_id": "734c2c67847e42dcbc115fcddfb7bedf",
       "version_major": 2,
       "version_minor": 0
      },
      "text/plain": [
       "Загружен nash-dom\\26b8461f-f5b8-4890-b4cd-1be1caa1e3fa:   0%|          | 0.00/344k [00:00<?, ?B/s]"
      ]
     },
     "metadata": {},
     "output_type": "display_data"
    },
    {
     "data": {
      "application/vnd.jupyter.widget-view+json": {
       "model_id": "df143d0681b8482184886bb593958d29",
       "version_major": 2,
       "version_minor": 0
      },
      "text/plain": [
       "Загружен nash-dom\\0ecf48a9-622a-41fe-bd4f-6c999a2dd0dd:   0%|          | 0.00/317k [00:00<?, ?B/s]"
      ]
     },
     "metadata": {},
     "output_type": "display_data"
    },
    {
     "data": {
      "application/vnd.jupyter.widget-view+json": {
       "model_id": "d73096d5307440c68ea02c569ab77b0d",
       "version_major": 2,
       "version_minor": 0
      },
      "text/plain": [
       "Загружен nash-dom\\12c13f5e-d691-4c55-bd33-9fe47531774c:   0%|          | 0.00/298k [00:00<?, ?B/s]"
      ]
     },
     "metadata": {},
     "output_type": "display_data"
    },
    {
     "data": {
      "application/vnd.jupyter.widget-view+json": {
       "model_id": "720579ca736e4ea79cd2783ff9bab52c",
       "version_major": 2,
       "version_minor": 0
      },
      "text/plain": [
       "Загружен nash-dom\\eb293faa-20b4-4aa2-998b-ab47d0f9eec7:   0%|          | 0.00/311k [00:00<?, ?B/s]"
      ]
     },
     "metadata": {},
     "output_type": "display_data"
    },
    {
     "data": {
      "application/vnd.jupyter.widget-view+json": {
       "model_id": "14b8a3a4e6b44a719de18c507ebaca69",
       "version_major": 2,
       "version_minor": 0
      },
      "text/plain": [
       "Загружен nash-dom\\d7a6dae7-54ad-4f35-8139-4512965d57bf:   0%|          | 0.00/262k [00:00<?, ?B/s]"
      ]
     },
     "metadata": {},
     "output_type": "display_data"
    },
    {
     "data": {
      "application/vnd.jupyter.widget-view+json": {
       "model_id": "4ef5ca18b6414fe2b63e0292a072a610",
       "version_major": 2,
       "version_minor": 0
      },
      "text/plain": [
       "Загружен nash-dom\\61ad027b-f4e3-4819-96eb-a45ce9288bde:   0%|          | 0.00/219k [00:00<?, ?B/s]"
      ]
     },
     "metadata": {},
     "output_type": "display_data"
    },
    {
     "data": {
      "application/vnd.jupyter.widget-view+json": {
       "model_id": "093ed92d9a8741fc8d256e860233a668",
       "version_major": 2,
       "version_minor": 0
      },
      "text/plain": [
       "Загружен nash-dom\\11207c18-06ee-486e-a98d-a6931eea0b6f:   0%|          | 0.00/178k [00:00<?, ?B/s]"
      ]
     },
     "metadata": {},
     "output_type": "display_data"
    },
    {
     "data": {
      "application/vnd.jupyter.widget-view+json": {
       "model_id": "2ffc999413414bcb8758cdf085fdf220",
       "version_major": 2,
       "version_minor": 0
      },
      "text/plain": [
       "Загружен nash-dom\\76e1092a-7cbb-4be5-9149-0ad427126a11:   0%|          | 0.00/79.1k [00:00<?, ?B/s]"
      ]
     },
     "metadata": {},
     "output_type": "display_data"
    },
    {
     "data": {
      "application/vnd.jupyter.widget-view+json": {
       "model_id": "bb574cb0b0724cbcbdbaf3f403c733cd",
       "version_major": 2,
       "version_minor": 0
      },
      "text/plain": [
       "Загружен nash-dom\\a40f53f4-0a8b-4d7f-8b09-f925083a972a:   0%|          | 0.00/5.52M [00:00<?, ?B/s]"
      ]
     },
     "metadata": {},
     "output_type": "display_data"
    },
    {
     "data": {
      "application/vnd.jupyter.widget-view+json": {
       "model_id": "4a2bdb174e264e50acfeb7022ec3942e",
       "version_major": 2,
       "version_minor": 0
      },
      "text/plain": [
       "Загружен nash-dom\\f27a5185-5569-4f97-9164-231e5840e458:   0%|          | 0.00/2.07M [00:00<?, ?B/s]"
      ]
     },
     "metadata": {},
     "output_type": "display_data"
    },
    {
     "data": {
      "application/vnd.jupyter.widget-view+json": {
       "model_id": "2f3ff2e931b043afa28bc83348364ece",
       "version_major": 2,
       "version_minor": 0
      },
      "text/plain": [
       "Загружен nash-dom\\a22e750a-5adf-432d-93bc-0e422dececb5:   0%|          | 0.00/6.30M [00:00<?, ?B/s]"
      ]
     },
     "metadata": {},
     "output_type": "display_data"
    },
    {
     "data": {
      "application/vnd.jupyter.widget-view+json": {
       "model_id": "68b5d18671c74b17a06a7e92dee4270c",
       "version_major": 2,
       "version_minor": 0
      },
      "text/plain": [
       "Загружен nash-dom\\b9a1ddde-0f75-4fbe-bd8d-0ba43d817b41:   0%|          | 0.00/0.99M [00:00<?, ?B/s]"
      ]
     },
     "metadata": {},
     "output_type": "display_data"
    },
    {
     "data": {
      "application/vnd.jupyter.widget-view+json": {
       "model_id": "a8de09da8a964768831aef00d4376a06",
       "version_major": 2,
       "version_minor": 0
      },
      "text/plain": [
       "Загружен nash-dom\\4def57f2-c557-47eb-b20d-e344ef679a14:   0%|          | 0.00/344k [00:00<?, ?B/s]"
      ]
     },
     "metadata": {},
     "output_type": "display_data"
    },
    {
     "data": {
      "application/vnd.jupyter.widget-view+json": {
       "model_id": "06a980334a9540dd8c000b5a684a31e5",
       "version_major": 2,
       "version_minor": 0
      },
      "text/plain": [
       "Загружен nash-dom\\a4001f3d-4705-4f88-84ce-a68494eba59c:   0%|          | 0.00/231k [00:00<?, ?B/s]"
      ]
     },
     "metadata": {},
     "output_type": "display_data"
    },
    {
     "data": {
      "application/vnd.jupyter.widget-view+json": {
       "model_id": "ee5e7206085e425687c1dc533df02c51",
       "version_major": 2,
       "version_minor": 0
      },
      "text/plain": [
       "Загружен nash-dom\\15790051-c6de-43dd-af49-c4da8d4ad473:   0%|          | 0.00/937k [00:00<?, ?B/s]"
      ]
     },
     "metadata": {},
     "output_type": "display_data"
    },
    {
     "data": {
      "application/vnd.jupyter.widget-view+json": {
       "model_id": "6f89f4923af74e639f5021f494c61b54",
       "version_major": 2,
       "version_minor": 0
      },
      "text/plain": [
       "Загружен nash-dom\\a3bdbc13-112f-4ff7-b4ee-114356258d52:   0%|          | 0.00/58.3k [00:00<?, ?B/s]"
      ]
     },
     "metadata": {},
     "output_type": "display_data"
    },
    {
     "data": {
      "application/vnd.jupyter.widget-view+json": {
       "model_id": "a30275c93d364284afc630b241da92fb",
       "version_major": 2,
       "version_minor": 0
      },
      "text/plain": [
       "Загружен nash-dom\\30311d55-37e8-4cb0-b536-9d7d19c43373:   0%|          | 0.00/103k [00:00<?, ?B/s]"
      ]
     },
     "metadata": {},
     "output_type": "display_data"
    },
    {
     "data": {
      "application/vnd.jupyter.widget-view+json": {
       "model_id": "f401788c9ec74038b8f514c71c01aa56",
       "version_major": 2,
       "version_minor": 0
      },
      "text/plain": [
       "Загружен nash-dom\\ab946c8f-e104-4097-a56a-052e6ecf8cab:   0%|          | 0.00/203k [00:00<?, ?B/s]"
      ]
     },
     "metadata": {},
     "output_type": "display_data"
    },
    {
     "data": {
      "application/vnd.jupyter.widget-view+json": {
       "model_id": "7cec03cb62ce41eba9064b8df896324f",
       "version_major": 2,
       "version_minor": 0
      },
      "text/plain": [
       "Загружен nash-dom\\c9eef416-a038-46bb-b020-12cddcba413c:   0%|          | 0.00/104k [00:00<?, ?B/s]"
      ]
     },
     "metadata": {},
     "output_type": "display_data"
    },
    {
     "data": {
      "application/vnd.jupyter.widget-view+json": {
       "model_id": "0cde322148e8431aa685c88dd1b4777e",
       "version_major": 2,
       "version_minor": 0
      },
      "text/plain": [
       "Загружен nash-dom\\d810fa4c-af46-4868-8a99-a4e9558dab81:   0%|          | 0.00/80.5k [00:00<?, ?B/s]"
      ]
     },
     "metadata": {},
     "output_type": "display_data"
    },
    {
     "data": {
      "application/vnd.jupyter.widget-view+json": {
       "model_id": "b16a1c4cec834494929f629a08715026",
       "version_major": 2,
       "version_minor": 0
      },
      "text/plain": [
       "Загружен nash-dom\\feec6b80-5bc1-41a9-a748-e115f2dc2550:   0%|          | 0.00/308k [00:00<?, ?B/s]"
      ]
     },
     "metadata": {},
     "output_type": "display_data"
    },
    {
     "data": {
      "application/vnd.jupyter.widget-view+json": {
       "model_id": "76421a5948f34593986307807ec44d84",
       "version_major": 2,
       "version_minor": 0
      },
      "text/plain": [
       "Загружен nash-dom\\9cfa55ea-50c5-40d2-99a8-16a87f9bec66:   0%|          | 0.00/2.79M [00:00<?, ?B/s]"
      ]
     },
     "metadata": {},
     "output_type": "display_data"
    },
    {
     "data": {
      "application/vnd.jupyter.widget-view+json": {
       "model_id": "98ec5fa783f0460692baa0ef0267b48c",
       "version_major": 2,
       "version_minor": 0
      },
      "text/plain": [
       "Загружен nash-dom\\25404a10-bde8-4e9c-9698-49fd9945ce51:   0%|          | 0.00/3.34M [00:00<?, ?B/s]"
      ]
     },
     "metadata": {},
     "output_type": "display_data"
    },
    {
     "data": {
      "application/vnd.jupyter.widget-view+json": {
       "model_id": "d1a6d1d316f7451582dadd622e780f2a",
       "version_major": 2,
       "version_minor": 0
      },
      "text/plain": [
       "Загружен nash-dom\\129c151b-6357-424a-9160-f87d3548b344:   0%|          | 0.00/7.55M [00:00<?, ?B/s]"
      ]
     },
     "metadata": {},
     "output_type": "display_data"
    },
    {
     "data": {
      "application/vnd.jupyter.widget-view+json": {
       "model_id": "c633d8a5331746f990798f05854c9d58",
       "version_major": 2,
       "version_minor": 0
      },
      "text/plain": [
       "Загружен nash-dom\\78532649-2f17-4c6c-8caf-882039d1711c:   0%|          | 0.00/176k [00:00<?, ?B/s]"
      ]
     },
     "metadata": {},
     "output_type": "display_data"
    },
    {
     "data": {
      "application/vnd.jupyter.widget-view+json": {
       "model_id": "b30b3de3fb1f46a0b804cdc5cbb4ac78",
       "version_major": 2,
       "version_minor": 0
      },
      "text/plain": [
       "Загружен nash-dom\\466809ae-55c0-4b54-8f07-2c803c1ce2b8:   0%|          | 0.00/283k [00:00<?, ?B/s]"
      ]
     },
     "metadata": {},
     "output_type": "display_data"
    },
    {
     "data": {
      "application/vnd.jupyter.widget-view+json": {
       "model_id": "bb316d92fb3c4672b4569970799540ec",
       "version_major": 2,
       "version_minor": 0
      },
      "text/plain": [
       "Загружен nash-dom\\7c98ada9-fec0-444a-8327-5f8cafd601a7:   0%|          | 0.00/269k [00:00<?, ?B/s]"
      ]
     },
     "metadata": {},
     "output_type": "display_data"
    },
    {
     "data": {
      "application/vnd.jupyter.widget-view+json": {
       "model_id": "a159d468fdd64a8f9cb5aecf9583ec43",
       "version_major": 2,
       "version_minor": 0
      },
      "text/plain": [
       "Загружен nash-dom\\60de90e1-f091-47de-bcfc-d5db439a3e57:   0%|          | 0.00/3.38M [00:00<?, ?B/s]"
      ]
     },
     "metadata": {},
     "output_type": "display_data"
    },
    {
     "data": {
      "application/vnd.jupyter.widget-view+json": {
       "model_id": "16b8b25d9b614015b5f7a8efed49f6c6",
       "version_major": 2,
       "version_minor": 0
      },
      "text/plain": [
       "Получено изображение:   0%|          | 0/62 [00:00<?, ?it/s]"
      ]
     },
     "metadata": {},
     "output_type": "display_data"
    },
    {
     "data": {
      "application/vnd.jupyter.widget-view+json": {
       "model_id": "9d01ac2dd80e4b3388d8ef609c2e543b",
       "version_major": 2,
       "version_minor": 0
      },
      "text/plain": [
       "Загружен nash-dom\\47282070:   0%|          | 0.00/43.0 [00:00<?, ?B/s]"
      ]
     },
     "metadata": {},
     "output_type": "display_data"
    },
    {
     "data": {
      "application/vnd.jupyter.widget-view+json": {
       "model_id": "b14031b1c0704c61970a3b1c7ff2b35d",
       "version_major": 2,
       "version_minor": 0
      },
      "text/plain": [
       "Загружен nash-dom\\3468baf9-f5b6-446b-a6b9-1b3147d72e28:   0%|          | 0.00/1.43M [00:00<?, ?B/s]"
      ]
     },
     "metadata": {},
     "output_type": "display_data"
    },
    {
     "data": {
      "application/vnd.jupyter.widget-view+json": {
       "model_id": "8a69582899f24754b4f33fd34229091f",
       "version_major": 2,
       "version_minor": 0
      },
      "text/plain": [
       "Загружен nash-dom\\c602e57b-9ff4-4f95-8733-a507e50eaebe:   0%|          | 0.00/1.03M [00:00<?, ?B/s]"
      ]
     },
     "metadata": {},
     "output_type": "display_data"
    },
    {
     "data": {
      "application/vnd.jupyter.widget-view+json": {
       "model_id": "fcbddf450b034bcd8d1f659b9ba6f99c",
       "version_major": 2,
       "version_minor": 0
      },
      "text/plain": [
       "Загружен nash-dom\\d6b9d8ea-1541-4526-9bb3-adb413f746bf:   0%|          | 0.00/1.17M [00:00<?, ?B/s]"
      ]
     },
     "metadata": {},
     "output_type": "display_data"
    },
    {
     "data": {
      "application/vnd.jupyter.widget-view+json": {
       "model_id": "78df269837ee44419e9bbe774cd0e98d",
       "version_major": 2,
       "version_minor": 0
      },
      "text/plain": [
       "Загружен nash-dom\\8745e4bc-b106-4917-b0ab-cffc2ec20a2d:   0%|          | 0.00/955k [00:00<?, ?B/s]"
      ]
     },
     "metadata": {},
     "output_type": "display_data"
    },
    {
     "data": {
      "application/vnd.jupyter.widget-view+json": {
       "model_id": "b10e5b9563504d0e8d7cafaa7f8eb18c",
       "version_major": 2,
       "version_minor": 0
      },
      "text/plain": [
       "Загружен nash-dom\\b2cf4dd5-e812-4cb4-a95a-5bd6eb1e60a4:   0%|          | 0.00/154k [00:00<?, ?B/s]"
      ]
     },
     "metadata": {},
     "output_type": "display_data"
    },
    {
     "data": {
      "application/vnd.jupyter.widget-view+json": {
       "model_id": "83e711bf51fb4fffabf6892f6796f5f1",
       "version_major": 2,
       "version_minor": 0
      },
      "text/plain": [
       "Загружен nash-dom\\05c8025b-412d-4229-9fea-ecafd2e9279e:   0%|          | 0.00/109k [00:00<?, ?B/s]"
      ]
     },
     "metadata": {},
     "output_type": "display_data"
    },
    {
     "data": {
      "application/vnd.jupyter.widget-view+json": {
       "model_id": "07a68468515b4bba81672a16bf1e401c",
       "version_major": 2,
       "version_minor": 0
      },
      "text/plain": [
       "Загружен nash-dom\\7f2f5227-5a1e-49fe-a86c-f68f0eebedc8:   0%|          | 0.00/151k [00:00<?, ?B/s]"
      ]
     },
     "metadata": {},
     "output_type": "display_data"
    },
    {
     "data": {
      "application/vnd.jupyter.widget-view+json": {
       "model_id": "0c32566e6a6f4312b39d338c2ebcbda2",
       "version_major": 2,
       "version_minor": 0
      },
      "text/plain": [
       "Загружен nash-dom\\8c3aca1e-28f7-4276-82af-a920f0a9cc39:   0%|          | 0.00/83.7k [00:00<?, ?B/s]"
      ]
     },
     "metadata": {},
     "output_type": "display_data"
    },
    {
     "data": {
      "application/vnd.jupyter.widget-view+json": {
       "model_id": "b7ede29dfb55403fb9ec8908ffc86176",
       "version_major": 2,
       "version_minor": 0
      },
      "text/plain": [
       "Загружен nash-dom\\f0b309bc-8ee0-471c-8738-deb866141041:   0%|          | 0.00/305k [00:00<?, ?B/s]"
      ]
     },
     "metadata": {},
     "output_type": "display_data"
    },
    {
     "data": {
      "application/vnd.jupyter.widget-view+json": {
       "model_id": "8a3e8629bb35422784f5b347a9191a0a",
       "version_major": 2,
       "version_minor": 0
      },
      "text/plain": [
       "Загружен nash-dom\\f56ddeee-0429-4199-8097-66920977db5f:   0%|          | 0.00/356k [00:00<?, ?B/s]"
      ]
     },
     "metadata": {},
     "output_type": "display_data"
    },
    {
     "data": {
      "application/vnd.jupyter.widget-view+json": {
       "model_id": "04741b8ed778431285b12f3b3258a4c8",
       "version_major": 2,
       "version_minor": 0
      },
      "text/plain": [
       "Загружен nash-dom\\08de2815-dfbc-4d28-a568-46897f8eae00:   0%|          | 0.00/294k [00:00<?, ?B/s]"
      ]
     },
     "metadata": {},
     "output_type": "display_data"
    },
    {
     "data": {
      "application/vnd.jupyter.widget-view+json": {
       "model_id": "b2e03e584d94443a8b77283cf1f2f7ff",
       "version_major": 2,
       "version_minor": 0
      },
      "text/plain": [
       "Загружен nash-dom\\ae16fafc-8edc-4c8d-95f9-9193f32ddecb:   0%|          | 0.00/240k [00:00<?, ?B/s]"
      ]
     },
     "metadata": {},
     "output_type": "display_data"
    },
    {
     "data": {
      "application/vnd.jupyter.widget-view+json": {
       "model_id": "f727bec06ef54381b74b7d5391c0ecb0",
       "version_major": 2,
       "version_minor": 0
      },
      "text/plain": [
       "Загружен nash-dom\\33af6c37-e141-4562-aa4d-74796a5ecddf:   0%|          | 0.00/294k [00:00<?, ?B/s]"
      ]
     },
     "metadata": {},
     "output_type": "display_data"
    },
    {
     "data": {
      "application/vnd.jupyter.widget-view+json": {
       "model_id": "b6d3a0bdbdb346a68318078f7b6a1c07",
       "version_major": 2,
       "version_minor": 0
      },
      "text/plain": [
       "Загружен nash-dom\\97083a72-35b0-4980-8586-c8881e481d13:   0%|          | 0.00/120k [00:00<?, ?B/s]"
      ]
     },
     "metadata": {},
     "output_type": "display_data"
    },
    {
     "data": {
      "application/vnd.jupyter.widget-view+json": {
       "model_id": "f91624348cc14a7db3fbef69d2674ff0",
       "version_major": 2,
       "version_minor": 0
      },
      "text/plain": [
       "Загружен nash-dom\\af663e96-1286-4daa-8dc3-6db76be129ef:   0%|          | 0.00/195k [00:00<?, ?B/s]"
      ]
     },
     "metadata": {},
     "output_type": "display_data"
    },
    {
     "data": {
      "application/vnd.jupyter.widget-view+json": {
       "model_id": "1a9aad5ec23b4ae0a10d487493231f81",
       "version_major": 2,
       "version_minor": 0
      },
      "text/plain": [
       "Загружен nash-dom\\0a511588-cf33-4ba8-9ba4-37bc936ea403:   0%|          | 0.00/74.4k [00:00<?, ?B/s]"
      ]
     },
     "metadata": {},
     "output_type": "display_data"
    },
    {
     "data": {
      "application/vnd.jupyter.widget-view+json": {
       "model_id": "f13e0dbc8f744d79931bbd70000ae8b4",
       "version_major": 2,
       "version_minor": 0
      },
      "text/plain": [
       "Загружен nash-dom\\bf22fa38-b3b2-4113-9096-4900b9dd6f01:   0%|          | 0.00/563k [00:00<?, ?B/s]"
      ]
     },
     "metadata": {},
     "output_type": "display_data"
    },
    {
     "data": {
      "application/vnd.jupyter.widget-view+json": {
       "model_id": "199a8bb5a0d740d2b362211149e25050",
       "version_major": 2,
       "version_minor": 0
      },
      "text/plain": [
       "Загружен nash-dom\\27f5ea3f-ebfd-44a4-b5d5-b9408be8f81a:   0%|          | 0.00/2.59M [00:00<?, ?B/s]"
      ]
     },
     "metadata": {},
     "output_type": "display_data"
    },
    {
     "data": {
      "application/vnd.jupyter.widget-view+json": {
       "model_id": "495027bd645a4fb6849821310193e5cc",
       "version_major": 2,
       "version_minor": 0
      },
      "text/plain": [
       "Загружен nash-dom\\bad68756-5f54-4e2b-9953-5e3b8018cc8e:   0%|          | 0.00/2.27M [00:00<?, ?B/s]"
      ]
     },
     "metadata": {},
     "output_type": "display_data"
    },
    {
     "data": {
      "application/vnd.jupyter.widget-view+json": {
       "model_id": "059fb671bec24fc1afa690373a75b5ce",
       "version_major": 2,
       "version_minor": 0
      },
      "text/plain": [
       "Загружен nash-dom\\1a0eaf28-6ee7-4b71-87e8-f708d2d0b098:   0%|          | 0.00/955k [00:00<?, ?B/s]"
      ]
     },
     "metadata": {},
     "output_type": "display_data"
    },
    {
     "data": {
      "application/vnd.jupyter.widget-view+json": {
       "model_id": "909d48699c4e435f9122bc4fa7191f8d",
       "version_major": 2,
       "version_minor": 0
      },
      "text/plain": [
       "Загружен nash-dom\\946dde31-998b-4c25-b5d9-a2ba50b04846:   0%|          | 0.00/133k [00:00<?, ?B/s]"
      ]
     },
     "metadata": {},
     "output_type": "display_data"
    },
    {
     "data": {
      "application/vnd.jupyter.widget-view+json": {
       "model_id": "f74e730a9b1842fe87a63091c0e2ce1a",
       "version_major": 2,
       "version_minor": 0
      },
      "text/plain": [
       "Загружен nash-dom\\65edf55a-8da6-4822-a3f8-b07c5c069803:   0%|          | 0.00/233k [00:00<?, ?B/s]"
      ]
     },
     "metadata": {},
     "output_type": "display_data"
    },
    {
     "data": {
      "application/vnd.jupyter.widget-view+json": {
       "model_id": "9eb8e907fe6844e68fce8fab03a7a1e8",
       "version_major": 2,
       "version_minor": 0
      },
      "text/plain": [
       "Загружен nash-dom\\d6ab71a1-cb6e-43ca-afb3-3e3a88fc650a:   0%|          | 0.00/906k [00:00<?, ?B/s]"
      ]
     },
     "metadata": {},
     "output_type": "display_data"
    },
    {
     "data": {
      "application/vnd.jupyter.widget-view+json": {
       "model_id": "91f70b967e0e4d1497b4eb56bb7c8c0c",
       "version_major": 2,
       "version_minor": 0
      },
      "text/plain": [
       "Загружен nash-dom\\0095a73b-0892-4527-8bda-43a2caeb9dea:   0%|          | 0.00/46.7k [00:00<?, ?B/s]"
      ]
     },
     "metadata": {},
     "output_type": "display_data"
    },
    {
     "data": {
      "application/vnd.jupyter.widget-view+json": {
       "model_id": "33c3af34f75d46ab925408b966971fa9",
       "version_major": 2,
       "version_minor": 0
      },
      "text/plain": [
       "Загружен nash-dom\\48b9cf92-32ac-446a-af0e-a1096f682843:   0%|          | 0.00/2.30M [00:00<?, ?B/s]"
      ]
     },
     "metadata": {},
     "output_type": "display_data"
    },
    {
     "data": {
      "application/vnd.jupyter.widget-view+json": {
       "model_id": "8389679e62e34fed9086b7d624f4774c",
       "version_major": 2,
       "version_minor": 0
      },
      "text/plain": [
       "Загружен nash-dom\\0a1ce53b-8bf1-4944-a79b-19bbed35f433:   0%|          | 0.00/2.46M [00:00<?, ?B/s]"
      ]
     },
     "metadata": {},
     "output_type": "display_data"
    },
    {
     "data": {
      "application/vnd.jupyter.widget-view+json": {
       "model_id": "89e923a0467145d49f487ca75b998408",
       "version_major": 2,
       "version_minor": 0
      },
      "text/plain": [
       "Загружен nash-dom\\f841754d-f590-40b9-8f4f-56619c34bfff:   0%|          | 0.00/83.9k [00:00<?, ?B/s]"
      ]
     },
     "metadata": {},
     "output_type": "display_data"
    },
    {
     "data": {
      "application/vnd.jupyter.widget-view+json": {
       "model_id": "17a978b05aa24090b8a973f0bda6c247",
       "version_major": 2,
       "version_minor": 0
      },
      "text/plain": [
       "Загружен nash-dom\\430b86ab-167e-499e-b2c5-04b75e842dcd:   0%|          | 0.00/76.6k [00:00<?, ?B/s]"
      ]
     },
     "metadata": {},
     "output_type": "display_data"
    },
    {
     "data": {
      "application/vnd.jupyter.widget-view+json": {
       "model_id": "88857d873fda4dffa11cafd556b69fa0",
       "version_major": 2,
       "version_minor": 0
      },
      "text/plain": [
       "Загружен nash-dom\\06c036ab-fe97-4d98-b8cb-2448c3238276:   0%|          | 0.00/353k [00:00<?, ?B/s]"
      ]
     },
     "metadata": {},
     "output_type": "display_data"
    },
    {
     "data": {
      "application/vnd.jupyter.widget-view+json": {
       "model_id": "81b7b83b63ce407590cf857bb31c52d0",
       "version_major": 2,
       "version_minor": 0
      },
      "text/plain": [
       "Загружен nash-dom\\76e26fb3-01a9-48ae-8900-2bbf8ef4638a:   0%|          | 0.00/3.70M [00:00<?, ?B/s]"
      ]
     },
     "metadata": {},
     "output_type": "display_data"
    },
    {
     "data": {
      "application/vnd.jupyter.widget-view+json": {
       "model_id": "c092c78e7fcf47588af16a953b209178",
       "version_major": 2,
       "version_minor": 0
      },
      "text/plain": [
       "Загружен nash-dom\\a6d34792-fb5b-4b73-a981-cca556d03c1a:   0%|          | 0.00/3.07M [00:00<?, ?B/s]"
      ]
     },
     "metadata": {},
     "output_type": "display_data"
    },
    {
     "data": {
      "application/vnd.jupyter.widget-view+json": {
       "model_id": "33be56a56e0f43d7929330c959de7fc7",
       "version_major": 2,
       "version_minor": 0
      },
      "text/plain": [
       "Загружен nash-dom\\c2217f3b-6867-4a0f-b05e-2a95a5849986:   0%|          | 0.00/6.63M [00:00<?, ?B/s]"
      ]
     },
     "metadata": {},
     "output_type": "display_data"
    },
    {
     "data": {
      "application/vnd.jupyter.widget-view+json": {
       "model_id": "7fc464e9302d45f2bbfcbeda0e8e05e1",
       "version_major": 2,
       "version_minor": 0
      },
      "text/plain": [
       "Загружен nash-dom\\e9a6ee23-2b70-40e3-a6e6-724ffc30a51c:   0%|          | 0.00/339k [00:00<?, ?B/s]"
      ]
     },
     "metadata": {},
     "output_type": "display_data"
    },
    {
     "data": {
      "application/vnd.jupyter.widget-view+json": {
       "model_id": "6e6996024f064fb7aee1bc6f15a74b8c",
       "version_major": 2,
       "version_minor": 0
      },
      "text/plain": [
       "Загружен nash-dom\\2fc9290e-464e-44c4-a8c7-27f9bc027df7:   0%|          | 0.00/3.52M [00:00<?, ?B/s]"
      ]
     },
     "metadata": {},
     "output_type": "display_data"
    },
    {
     "data": {
      "application/vnd.jupyter.widget-view+json": {
       "model_id": "63fe748a09a944338ceda25a0de65619",
       "version_major": 2,
       "version_minor": 0
      },
      "text/plain": [
       "Получено изображение:   0%|          | 0/52 [00:00<?, ?it/s]"
      ]
     },
     "metadata": {},
     "output_type": "display_data"
    },
    {
     "data": {
      "application/vnd.jupyter.widget-view+json": {
       "model_id": "55d7f3c4582049ee8511e1a7a79c32db",
       "version_major": 2,
       "version_minor": 0
      },
      "text/plain": [
       "Загружен nash-dom\\47282070:   0%|          | 0.00/43.0 [00:00<?, ?B/s]"
      ]
     },
     "metadata": {},
     "output_type": "display_data"
    },
    {
     "data": {
      "application/vnd.jupyter.widget-view+json": {
       "model_id": "fcdb3a1ecc03442da401849102a951f8",
       "version_major": 2,
       "version_minor": 0
      },
      "text/plain": [
       "Загружен nash-dom\\0b989b49-d32a-40ea-8cd3-28d6d0b6cda9:   0%|          | 0.00/973k [00:00<?, ?B/s]"
      ]
     },
     "metadata": {},
     "output_type": "display_data"
    },
    {
     "data": {
      "application/vnd.jupyter.widget-view+json": {
       "model_id": "6f58c7567b2540e794213c09edb73d9d",
       "version_major": 2,
       "version_minor": 0
      },
      "text/plain": [
       "Загружен nash-dom\\3a900388-475b-4a0a-879c-8f05be793fea:   0%|          | 0.00/130k [00:00<?, ?B/s]"
      ]
     },
     "metadata": {},
     "output_type": "display_data"
    },
    {
     "data": {
      "application/vnd.jupyter.widget-view+json": {
       "model_id": "c5975f85cee84057b6f3034b95f05865",
       "version_major": 2,
       "version_minor": 0
      },
      "text/plain": [
       "Загружен nash-dom\\100826c8-1a7c-4124-b1b1-b0f7d1598400:   0%|          | 0.00/240k [00:00<?, ?B/s]"
      ]
     },
     "metadata": {},
     "output_type": "display_data"
    },
    {
     "data": {
      "application/vnd.jupyter.widget-view+json": {
       "model_id": "fd3da1474b584e6b9cd5c8ddfdfd936a",
       "version_major": 2,
       "version_minor": 0
      },
      "text/plain": [
       "Загружен nash-dom\\945dee72-3dd3-45b8-9a95-aa85bc9b1980:   0%|          | 0.00/241k [00:00<?, ?B/s]"
      ]
     },
     "metadata": {},
     "output_type": "display_data"
    },
    {
     "data": {
      "application/vnd.jupyter.widget-view+json": {
       "model_id": "cfa2d7af0cdd4e9183131fa2b78d3ab9",
       "version_major": 2,
       "version_minor": 0
      },
      "text/plain": [
       "Загружен nash-dom\\c8783897-84d6-4511-b541-bdd2ba819dac:   0%|          | 0.00/128k [00:00<?, ?B/s]"
      ]
     },
     "metadata": {},
     "output_type": "display_data"
    },
    {
     "data": {
      "application/vnd.jupyter.widget-view+json": {
       "model_id": "1d519bd0c107482db08b95d08fd816fb",
       "version_major": 2,
       "version_minor": 0
      },
      "text/plain": [
       "Загружен nash-dom\\fa84dd26-9046-4c0c-8477-5b8b084a85c8:   0%|          | 0.00/107k [00:00<?, ?B/s]"
      ]
     },
     "metadata": {},
     "output_type": "display_data"
    },
    {
     "data": {
      "application/vnd.jupyter.widget-view+json": {
       "model_id": "9081742f44f546c3bbc158e16d1db766",
       "version_major": 2,
       "version_minor": 0
      },
      "text/plain": [
       "Загружен nash-dom\\c9c95135-ad99-4894-9153-368d6ca8095d:   0%|          | 0.00/299k [00:00<?, ?B/s]"
      ]
     },
     "metadata": {},
     "output_type": "display_data"
    },
    {
     "data": {
      "application/vnd.jupyter.widget-view+json": {
       "model_id": "ea8ec45be71d4bb09957492f139c1ede",
       "version_major": 2,
       "version_minor": 0
      },
      "text/plain": [
       "Загружен nash-dom\\e510dc21-8d5d-476e-bde0-844f580b5f4d:   0%|          | 0.00/239k [00:00<?, ?B/s]"
      ]
     },
     "metadata": {},
     "output_type": "display_data"
    },
    {
     "data": {
      "application/vnd.jupyter.widget-view+json": {
       "model_id": "cf37e2e24d124758bf6e430cdfd6f0f9",
       "version_major": 2,
       "version_minor": 0
      },
      "text/plain": [
       "Загружен nash-dom\\d0eeb4ac-a506-430b-959c-58292ae30467:   0%|          | 0.00/276k [00:00<?, ?B/s]"
      ]
     },
     "metadata": {},
     "output_type": "display_data"
    },
    {
     "data": {
      "application/vnd.jupyter.widget-view+json": {
       "model_id": "eac69f4d9644425b899d8cfb8e7ec18f",
       "version_major": 2,
       "version_minor": 0
      },
      "text/plain": [
       "Загружен nash-dom\\6a4f6c18-f2fd-498c-b9f1-089d1883adda:   0%|          | 0.00/116k [00:00<?, ?B/s]"
      ]
     },
     "metadata": {},
     "output_type": "display_data"
    },
    {
     "data": {
      "application/vnd.jupyter.widget-view+json": {
       "model_id": "b9dcd75ddabd46f38ff15dba459a6200",
       "version_major": 2,
       "version_minor": 0
      },
      "text/plain": [
       "Загружен nash-dom\\b3035722-7822-437e-a236-f96f84a85b96:   0%|          | 0.00/229k [00:00<?, ?B/s]"
      ]
     },
     "metadata": {},
     "output_type": "display_data"
    },
    {
     "data": {
      "application/vnd.jupyter.widget-view+json": {
       "model_id": "a5921758f0db4d2badd7ace461f33ef2",
       "version_major": 2,
       "version_minor": 0
      },
      "text/plain": [
       "Загружен nash-dom\\e0f335e0-e2a0-4edc-90e9-e6ac69635ced:   0%|          | 0.00/237k [00:00<?, ?B/s]"
      ]
     },
     "metadata": {},
     "output_type": "display_data"
    },
    {
     "data": {
      "application/vnd.jupyter.widget-view+json": {
       "model_id": "0102aad6684d48a6b68c1270239f6d86",
       "version_major": 2,
       "version_minor": 0
      },
      "text/plain": [
       "Загружен nash-dom\\e0ca70d5-a187-4b55-bbeb-9a679449f67d:   0%|          | 0.00/96.3k [00:00<?, ?B/s]"
      ]
     },
     "metadata": {},
     "output_type": "display_data"
    },
    {
     "data": {
      "application/vnd.jupyter.widget-view+json": {
       "model_id": "0c76540da8004419a96cce0ec65dd3e7",
       "version_major": 2,
       "version_minor": 0
      },
      "text/plain": [
       "Загружен nash-dom\\9eebb2c1-c699-4583-9496-67c9db031fcd:   0%|          | 0.00/459k [00:00<?, ?B/s]"
      ]
     },
     "metadata": {},
     "output_type": "display_data"
    },
    {
     "data": {
      "application/vnd.jupyter.widget-view+json": {
       "model_id": "06ce1bfeae4e450b8bb57f2753ab9fba",
       "version_major": 2,
       "version_minor": 0
      },
      "text/plain": [
       "Загружен nash-dom\\72a122a8-cf10-404c-a521-163c08ac3dfa:   0%|          | 0.00/8.76M [00:00<?, ?B/s]"
      ]
     },
     "metadata": {},
     "output_type": "display_data"
    },
    {
     "data": {
      "application/vnd.jupyter.widget-view+json": {
       "model_id": "698a9f11af1c45f38a78aae15a7728df",
       "version_major": 2,
       "version_minor": 0
      },
      "text/plain": [
       "Загружен nash-dom\\3a9a8b32-ea3c-4bf6-ac68-90907906bc0f:   0%|          | 0.00/2.36M [00:00<?, ?B/s]"
      ]
     },
     "metadata": {},
     "output_type": "display_data"
    },
    {
     "data": {
      "application/vnd.jupyter.widget-view+json": {
       "model_id": "d4f3a73165a54d57bc1c66a48164232d",
       "version_major": 2,
       "version_minor": 0
      },
      "text/plain": [
       "Загружен nash-dom\\c2013af0-335e-4db8-b2e3-ec55bf21eacb:   0%|          | 0.00/973k [00:00<?, ?B/s]"
      ]
     },
     "metadata": {},
     "output_type": "display_data"
    },
    {
     "data": {
      "application/vnd.jupyter.widget-view+json": {
       "model_id": "2c0c232e5cea430ba15401acd31f0ca3",
       "version_major": 2,
       "version_minor": 0
      },
      "text/plain": [
       "Загружен nash-dom\\d036c883-78c2-46c3-9b58-60431d3df68d:   0%|          | 0.00/296k [00:00<?, ?B/s]"
      ]
     },
     "metadata": {},
     "output_type": "display_data"
    },
    {
     "data": {
      "application/vnd.jupyter.widget-view+json": {
       "model_id": "974208b69f674fcc97c4a167075f384b",
       "version_major": 2,
       "version_minor": 0
      },
      "text/plain": [
       "Загружен nash-dom\\add02b28-53b9-43ca-b16b-dba386d949d7:   0%|          | 0.00/2.57M [00:00<?, ?B/s]"
      ]
     },
     "metadata": {},
     "output_type": "display_data"
    },
    {
     "data": {
      "application/vnd.jupyter.widget-view+json": {
       "model_id": "3336161e19c9410e86e83d3a9abce4d4",
       "version_major": 2,
       "version_minor": 0
      },
      "text/plain": [
       "Загружен nash-dom\\5644e3f6-45e9-4967-8455-3e493b8756da:   0%|          | 0.00/624k [00:00<?, ?B/s]"
      ]
     },
     "metadata": {},
     "output_type": "display_data"
    },
    {
     "data": {
      "application/vnd.jupyter.widget-view+json": {
       "model_id": "359a870739ad4105bdf8dd3a0196f134",
       "version_major": 2,
       "version_minor": 0
      },
      "text/plain": [
       "Загружен nash-dom\\cc0c9e43-7080-4828-a048-7b1ae5971ed1:   0%|          | 0.00/45.8k [00:00<?, ?B/s]"
      ]
     },
     "metadata": {},
     "output_type": "display_data"
    },
    {
     "data": {
      "application/vnd.jupyter.widget-view+json": {
       "model_id": "03a3b7ea0b1943cdb3e6ceafe427424b",
       "version_major": 2,
       "version_minor": 0
      },
      "text/plain": [
       "Загружен nash-dom\\3e6ef392-f10b-4f8f-8ac0-225cb6e45df1:   0%|          | 0.00/94.7k [00:00<?, ?B/s]"
      ]
     },
     "metadata": {},
     "output_type": "display_data"
    },
    {
     "data": {
      "application/vnd.jupyter.widget-view+json": {
       "model_id": "9bbb9e9e887b44799ca52602e9b4d3db",
       "version_major": 2,
       "version_minor": 0
      },
      "text/plain": [
       "Загружен nash-dom\\0d7d8689-0d29-49fe-8321-b50af552709c:   0%|          | 0.00/2.84M [00:00<?, ?B/s]"
      ]
     },
     "metadata": {},
     "output_type": "display_data"
    },
    {
     "data": {
      "application/vnd.jupyter.widget-view+json": {
       "model_id": "7b7273a882c544628b1e22b8827e0653",
       "version_major": 2,
       "version_minor": 0
      },
      "text/plain": [
       "Получено изображение:   0%|          | 0/62 [00:00<?, ?it/s]"
      ]
     },
     "metadata": {},
     "output_type": "display_data"
    },
    {
     "data": {
      "application/vnd.jupyter.widget-view+json": {
       "model_id": "874a5efbfbbe48799ddea9e2adfa07f1",
       "version_major": 2,
       "version_minor": 0
      },
      "text/plain": [
       "Загружен nash-dom\\47282070:   0%|          | 0.00/43.0 [00:00<?, ?B/s]"
      ]
     },
     "metadata": {},
     "output_type": "display_data"
    },
    {
     "data": {
      "application/vnd.jupyter.widget-view+json": {
       "model_id": "323f26198ca74cc3ab55c3510e945c02",
       "version_major": 2,
       "version_minor": 0
      },
      "text/plain": [
       "Загружен nash-dom\\02b88db9-bdd0-4b77-b652-32578b277f6b:   0%|          | 0.00/1.26M [00:00<?, ?B/s]"
      ]
     },
     "metadata": {},
     "output_type": "display_data"
    },
    {
     "data": {
      "application/vnd.jupyter.widget-view+json": {
       "model_id": "bcf2eb0123ac4112982733420a0a6a49",
       "version_major": 2,
       "version_minor": 0
      },
      "text/plain": [
       "Загружен nash-dom\\bf3be0fd-4fbf-43e5-9fc8-878e2572c54b:   0%|          | 0.00/1.32M [00:00<?, ?B/s]"
      ]
     },
     "metadata": {},
     "output_type": "display_data"
    },
    {
     "data": {
      "application/vnd.jupyter.widget-view+json": {
       "model_id": "ec66e94c254146e28af888c3a0e23fe6",
       "version_major": 2,
       "version_minor": 0
      },
      "text/plain": [
       "Загружен nash-dom\\9dce7b87-2eec-4a1d-9c95-637915fde79f:   0%|          | 0.00/98.9k [00:00<?, ?B/s]"
      ]
     },
     "metadata": {},
     "output_type": "display_data"
    },
    {
     "data": {
      "application/vnd.jupyter.widget-view+json": {
       "model_id": "91d9b70c503a4693a5c0f800a045e671",
       "version_major": 2,
       "version_minor": 0
      },
      "text/plain": [
       "Загружен nash-dom\\547ca489-819a-4f0f-b0d5-0313a893bf02:   0%|          | 0.00/78.1k [00:00<?, ?B/s]"
      ]
     },
     "metadata": {},
     "output_type": "display_data"
    },
    {
     "data": {
      "application/vnd.jupyter.widget-view+json": {
       "model_id": "fd38522d0aba4354935a9c7e15648782",
       "version_major": 2,
       "version_minor": 0
      },
      "text/plain": [
       "Загружен nash-dom\\5752d0b6-aeba-4914-877c-110ce07da450:   0%|          | 0.00/315k [00:00<?, ?B/s]"
      ]
     },
     "metadata": {},
     "output_type": "display_data"
    },
    {
     "data": {
      "application/vnd.jupyter.widget-view+json": {
       "model_id": "b844d233f32b449aac81dab58eafc621",
       "version_major": 2,
       "version_minor": 0
      },
      "text/plain": [
       "Загружен nash-dom\\c5a49cf0-4187-4d71-a383-185877f482ed:   0%|          | 0.00/238k [00:00<?, ?B/s]"
      ]
     },
     "metadata": {},
     "output_type": "display_data"
    },
    {
     "data": {
      "application/vnd.jupyter.widget-view+json": {
       "model_id": "c961a6bd28c1493d8440d1dd4e88336e",
       "version_major": 2,
       "version_minor": 0
      },
      "text/plain": [
       "Загружен nash-dom\\ad00f3b1-c3da-48d6-a1e3-08c22c74211a:   0%|          | 0.00/157k [00:00<?, ?B/s]"
      ]
     },
     "metadata": {},
     "output_type": "display_data"
    },
    {
     "data": {
      "application/vnd.jupyter.widget-view+json": {
       "model_id": "b2c3d3639d6a4a239c230261b9369908",
       "version_major": 2,
       "version_minor": 0
      },
      "text/plain": [
       "Загружен nash-dom\\889cc23e-ee2c-4875-bb0f-564bc0c8b826:   0%|          | 0.00/294k [00:00<?, ?B/s]"
      ]
     },
     "metadata": {},
     "output_type": "display_data"
    },
    {
     "data": {
      "application/vnd.jupyter.widget-view+json": {
       "model_id": "dc959b2b647d458f86f87ac22212c422",
       "version_major": 2,
       "version_minor": 0
      },
      "text/plain": [
       "Загружен nash-dom\\b46ee8d3-90e0-4b03-b41d-b7052685e585:   0%|          | 0.00/80.9k [00:00<?, ?B/s]"
      ]
     },
     "metadata": {},
     "output_type": "display_data"
    },
    {
     "data": {
      "application/vnd.jupyter.widget-view+json": {
       "model_id": "8eb2b27e050b4b94bbf80323c49d340a",
       "version_major": 2,
       "version_minor": 0
      },
      "text/plain": [
       "Загружен nash-dom\\062dbd65-3aab-4ff6-9834-93da70f0cc3b:   0%|          | 0.00/332k [00:00<?, ?B/s]"
      ]
     },
     "metadata": {},
     "output_type": "display_data"
    },
    {
     "data": {
      "application/vnd.jupyter.widget-view+json": {
       "model_id": "8a12fcd468bd44c6b868f48a38bc3793",
       "version_major": 2,
       "version_minor": 0
      },
      "text/plain": [
       "Загружен nash-dom\\a79abb00-65ee-44bd-9fe6-e55a3639c505:   0%|          | 0.00/375k [00:00<?, ?B/s]"
      ]
     },
     "metadata": {},
     "output_type": "display_data"
    },
    {
     "data": {
      "application/vnd.jupyter.widget-view+json": {
       "model_id": "aa99cbff01ce47f4995d9c861cc31781",
       "version_major": 2,
       "version_minor": 0
      },
      "text/plain": [
       "Загружен nash-dom\\1082c123-b1b0-4e4f-a0cf-46c7b65c61ec:   0%|          | 0.00/319k [00:00<?, ?B/s]"
      ]
     },
     "metadata": {},
     "output_type": "display_data"
    },
    {
     "data": {
      "application/vnd.jupyter.widget-view+json": {
       "model_id": "dc34d70407844781b30b6b52a21e04b2",
       "version_major": 2,
       "version_minor": 0
      },
      "text/plain": [
       "Загружен nash-dom\\9236b640-5568-4806-9077-0ba27e12dd4f:   0%|          | 0.00/315k [00:00<?, ?B/s]"
      ]
     },
     "metadata": {},
     "output_type": "display_data"
    },
    {
     "data": {
      "application/vnd.jupyter.widget-view+json": {
       "model_id": "1e9d62a124074c1f88ddd86d44bbeb26",
       "version_major": 2,
       "version_minor": 0
      },
      "text/plain": [
       "Загружен nash-dom\\7ac339ba-9561-4890-8cb9-a93f00a803ea:   0%|          | 0.00/331k [00:00<?, ?B/s]"
      ]
     },
     "metadata": {},
     "output_type": "display_data"
    },
    {
     "data": {
      "application/vnd.jupyter.widget-view+json": {
       "model_id": "6a3007f780504878bc3b3b455b4a6c1b",
       "version_major": 2,
       "version_minor": 0
      },
      "text/plain": [
       "Загружен nash-dom\\141d5cbe-c5a0-492d-85d7-a5a51ead39a6:   0%|          | 0.00/179k [00:00<?, ?B/s]"
      ]
     },
     "metadata": {},
     "output_type": "display_data"
    },
    {
     "data": {
      "application/vnd.jupyter.widget-view+json": {
       "model_id": "edb0d6497bd94a288d5c1e919fef695d",
       "version_major": 2,
       "version_minor": 0
      },
      "text/plain": [
       "Загружен nash-dom\\9f51a298-047c-4ff6-9bd8-3b3f3d1064a0:   0%|          | 0.00/218k [00:00<?, ?B/s]"
      ]
     },
     "metadata": {},
     "output_type": "display_data"
    },
    {
     "data": {
      "application/vnd.jupyter.widget-view+json": {
       "model_id": "2da7c2d5586b4342940cd038f2da0b45",
       "version_major": 2,
       "version_minor": 0
      },
      "text/plain": [
       "Загружен nash-dom\\c75e0c84-eb3b-4fba-bdc4-5d14428c6c59:   0%|          | 0.00/528k [00:00<?, ?B/s]"
      ]
     },
     "metadata": {},
     "output_type": "display_data"
    },
    {
     "data": {
      "application/vnd.jupyter.widget-view+json": {
       "model_id": "2f94940aecff4314b60e4f05e8b40490",
       "version_major": 2,
       "version_minor": 0
      },
      "text/plain": [
       "Загружен nash-dom\\a8ab453d-8cd3-4aa9-bf2e-f0d7439fa9cb:   0%|          | 0.00/7.05M [00:00<?, ?B/s]"
      ]
     },
     "metadata": {},
     "output_type": "display_data"
    },
    {
     "data": {
      "application/vnd.jupyter.widget-view+json": {
       "model_id": "eb7d6cb171f84266ada6b3f49ba224d4",
       "version_major": 2,
       "version_minor": 0
      },
      "text/plain": [
       "Загружен nash-dom\\93f18fff-4bfc-4d77-8e90-1893ccbccf7f:   0%|          | 0.00/2.00M [00:00<?, ?B/s]"
      ]
     },
     "metadata": {},
     "output_type": "display_data"
    },
    {
     "data": {
      "application/vnd.jupyter.widget-view+json": {
       "model_id": "3315aa7f25554bd19b2adbe1315b6865",
       "version_major": 2,
       "version_minor": 0
      },
      "text/plain": [
       "Загружен nash-dom\\c04bcf2d-76d4-473e-ae96-b3cea3aac6f5:   0%|          | 0.00/1.26M [00:00<?, ?B/s]"
      ]
     },
     "metadata": {},
     "output_type": "display_data"
    },
    {
     "data": {
      "application/vnd.jupyter.widget-view+json": {
       "model_id": "1a3f7f64491f44c8b989456cf4d0e394",
       "version_major": 2,
       "version_minor": 0
      },
      "text/plain": [
       "Загружен nash-dom\\f21153a7-2eeb-40b8-bc42-9c91416d3137:   0%|          | 0.00/119k [00:00<?, ?B/s]"
      ]
     },
     "metadata": {},
     "output_type": "display_data"
    },
    {
     "data": {
      "application/vnd.jupyter.widget-view+json": {
       "model_id": "5c1b0c8282dd4785b577434b6726ecce",
       "version_major": 2,
       "version_minor": 0
      },
      "text/plain": [
       "Загружен nash-dom\\b549d350-e06c-42ad-8f2a-de934be5a437:   0%|          | 0.00/227k [00:00<?, ?B/s]"
      ]
     },
     "metadata": {},
     "output_type": "display_data"
    },
    {
     "data": {
      "application/vnd.jupyter.widget-view+json": {
       "model_id": "38d670946f6d455e86c073ee8d1a0871",
       "version_major": 2,
       "version_minor": 0
      },
      "text/plain": [
       "Загружен nash-dom\\51ba3ba9-5edd-4ba1-89a1-03ead156adff:   0%|          | 0.00/906k [00:00<?, ?B/s]"
      ]
     },
     "metadata": {},
     "output_type": "display_data"
    },
    {
     "data": {
      "application/vnd.jupyter.widget-view+json": {
       "model_id": "471fa632556e4b19abaf2526e7d4f6ca",
       "version_major": 2,
       "version_minor": 0
      },
      "text/plain": [
       "Загружен nash-dom\\0b771abf-156c-4b02-a841-b8b2ab6bbc4e:   0%|          | 0.00/46.1k [00:00<?, ?B/s]"
      ]
     },
     "metadata": {},
     "output_type": "display_data"
    },
    {
     "data": {
      "application/vnd.jupyter.widget-view+json": {
       "model_id": "d9097316aedf4c4e9b598a89a7f4cd0d",
       "version_major": 2,
       "version_minor": 0
      },
      "text/plain": [
       "Загружен nash-dom\\b265eb1e-dbb7-436b-8d04-1acea5e7395f:   0%|          | 0.00/2.87M [00:00<?, ?B/s]"
      ]
     },
     "metadata": {},
     "output_type": "display_data"
    },
    {
     "data": {
      "application/vnd.jupyter.widget-view+json": {
       "model_id": "13dc2cf87d2a48bfa43f46e147cf1c6e",
       "version_major": 2,
       "version_minor": 0
      },
      "text/plain": [
       "Загружен nash-dom\\026b16c8-1758-4c11-843f-746a64037cbb:   0%|          | 0.00/2.68M [00:00<?, ?B/s]"
      ]
     },
     "metadata": {},
     "output_type": "display_data"
    },
    {
     "data": {
      "application/vnd.jupyter.widget-view+json": {
       "model_id": "ead5ea645ce64679865bacf87752cb04",
       "version_major": 2,
       "version_minor": 0
      },
      "text/plain": [
       "Загружен nash-dom\\c1a4599c-c3fa-41d7-ae69-2cc2f8a12c0d:   0%|          | 0.00/94.3k [00:00<?, ?B/s]"
      ]
     },
     "metadata": {},
     "output_type": "display_data"
    },
    {
     "data": {
      "application/vnd.jupyter.widget-view+json": {
       "model_id": "a04ea6ba5af741a9991d39e82a38e024",
       "version_major": 2,
       "version_minor": 0
      },
      "text/plain": [
       "Загружен nash-dom\\27309c61-9711-407c-865d-fe9438da08fb:   0%|          | 0.00/89.6k [00:00<?, ?B/s]"
      ]
     },
     "metadata": {},
     "output_type": "display_data"
    },
    {
     "data": {
      "application/vnd.jupyter.widget-view+json": {
       "model_id": "e20b37149e4b4fd393025f2dba0ad1e2",
       "version_major": 2,
       "version_minor": 0
      },
      "text/plain": [
       "Загружен nash-dom\\acc5cbe4-d90a-4050-a8d9-5512cb5addc8:   0%|          | 0.00/358k [00:00<?, ?B/s]"
      ]
     },
     "metadata": {},
     "output_type": "display_data"
    },
    {
     "data": {
      "application/vnd.jupyter.widget-view+json": {
       "model_id": "1ca388f47fe14ddeaf8f3c332747c53c",
       "version_major": 2,
       "version_minor": 0
      },
      "text/plain": [
       "Загружен nash-dom\\821f36ae-fd36-4bc0-aab2-a78d9f8597bf:   0%|          | 0.00/2.85M [00:00<?, ?B/s]"
      ]
     },
     "metadata": {},
     "output_type": "display_data"
    },
    {
     "data": {
      "application/vnd.jupyter.widget-view+json": {
       "model_id": "81a176f7dd864cc6bdc2829a1f66c1ea",
       "version_major": 2,
       "version_minor": 0
      },
      "text/plain": [
       "Загружен nash-dom\\d7c07b91-483d-41f8-b848-afce02e1339f:   0%|          | 0.00/3.25M [00:00<?, ?B/s]"
      ]
     },
     "metadata": {},
     "output_type": "display_data"
    },
    {
     "data": {
      "application/vnd.jupyter.widget-view+json": {
       "model_id": "729ddac40c3343e8ab52629179013eaa",
       "version_major": 2,
       "version_minor": 0
      },
      "text/plain": [
       "Загружен nash-dom\\048ac553-8274-4ced-9731-6099b439c41f:   0%|          | 0.00/6.12M [00:00<?, ?B/s]"
      ]
     },
     "metadata": {},
     "output_type": "display_data"
    },
    {
     "data": {
      "application/vnd.jupyter.widget-view+json": {
       "model_id": "bfebac947e2149d7bfa38258f8224ddd",
       "version_major": 2,
       "version_minor": 0
      },
      "text/plain": [
       "Загружен nash-dom\\aa13d439-1dcf-413e-87c2-955e80db308a:   0%|          | 0.00/257k [00:00<?, ?B/s]"
      ]
     },
     "metadata": {},
     "output_type": "display_data"
    },
    {
     "data": {
      "application/vnd.jupyter.widget-view+json": {
       "model_id": "3b182b25e27b46289559f677460abd89",
       "version_major": 2,
       "version_minor": 0
      },
      "text/plain": [
       "Загружен nash-dom\\576f74ff-adce-44e2-ac8b-b86bdd54e934:   0%|          | 0.00/1.61M [00:00<?, ?B/s]"
      ]
     },
     "metadata": {},
     "output_type": "display_data"
    },
    {
     "data": {
      "application/vnd.jupyter.widget-view+json": {
       "model_id": "73e12707a430421d8ccb1ac0b15a0526",
       "version_major": 2,
       "version_minor": 0
      },
      "text/plain": [
       "Получено изображение:   0%|          | 0/73 [00:00<?, ?it/s]"
      ]
     },
     "metadata": {},
     "output_type": "display_data"
    },
    {
     "data": {
      "application/vnd.jupyter.widget-view+json": {
       "model_id": "99aaaf1fe97048b289520f62c9550910",
       "version_major": 2,
       "version_minor": 0
      },
      "text/plain": [
       "Загружен nash-dom\\47282070:   0%|          | 0.00/43.0 [00:00<?, ?B/s]"
      ]
     },
     "metadata": {},
     "output_type": "display_data"
    },
    {
     "data": {
      "application/vnd.jupyter.widget-view+json": {
       "model_id": "9d9d00a05e684895a79c92b95d3c7ddb",
       "version_major": 2,
       "version_minor": 0
      },
      "text/plain": [
       "Загружен nash-dom\\1eca0ffa-fb5f-4b30-a239-632c4c79ecd2:   0%|          | 0.00/303k [00:00<?, ?B/s]"
      ]
     },
     "metadata": {},
     "output_type": "display_data"
    },
    {
     "data": {
      "application/vnd.jupyter.widget-view+json": {
       "model_id": "dfffeb57e5184461a8921f55aa0c3087",
       "version_major": 2,
       "version_minor": 0
      },
      "text/plain": [
       "Загружен nash-dom\\a7d88189-046a-49bb-834a-d1745b751eec:   0%|          | 0.00/991k [00:00<?, ?B/s]"
      ]
     },
     "metadata": {},
     "output_type": "display_data"
    },
    {
     "data": {
      "application/vnd.jupyter.widget-view+json": {
       "model_id": "cb1570a71a344c5a84b2026b16c6cb29",
       "version_major": 2,
       "version_minor": 0
      },
      "text/plain": [
       "Загружен nash-dom\\b62e21ec-606d-40a9-8859-39a6e163a3f0:   0%|          | 0.00/0.99M [00:00<?, ?B/s]"
      ]
     },
     "metadata": {},
     "output_type": "display_data"
    },
    {
     "data": {
      "application/vnd.jupyter.widget-view+json": {
       "model_id": "7de0214e4f3545318f4cfd0736f25704",
       "version_major": 2,
       "version_minor": 0
      },
      "text/plain": [
       "Загружен nash-dom\\81ceec28-f574-4b2c-a5d0-59bcfef0e332:   0%|          | 0.00/1.03M [00:00<?, ?B/s]"
      ]
     },
     "metadata": {},
     "output_type": "display_data"
    },
    {
     "data": {
      "application/vnd.jupyter.widget-view+json": {
       "model_id": "8375b82886b044be8c74191095e648ae",
       "version_major": 2,
       "version_minor": 0
      },
      "text/plain": [
       "Загружен nash-dom\\95643167-b78b-4483-bd01-aa52b7515917:   0%|          | 0.00/979k [00:00<?, ?B/s]"
      ]
     },
     "metadata": {},
     "output_type": "display_data"
    },
    {
     "data": {
      "application/vnd.jupyter.widget-view+json": {
       "model_id": "5be9c196f3c44390a07e82d4d2152aac",
       "version_major": 2,
       "version_minor": 0
      },
      "text/plain": [
       "Загружен nash-dom\\c6e3d62e-6586-4e95-b5d8-c451e705c529:   0%|          | 0.00/1.04M [00:00<?, ?B/s]"
      ]
     },
     "metadata": {},
     "output_type": "display_data"
    },
    {
     "data": {
      "application/vnd.jupyter.widget-view+json": {
       "model_id": "b57dd1062d734ff1bea42ef43dc4ad5f",
       "version_major": 2,
       "version_minor": 0
      },
      "text/plain": [
       "Загружен nash-dom\\af008ae4-ea45-430a-a87f-d7bb257d8abf:   0%|          | 0.00/1.28M [00:00<?, ?B/s]"
      ]
     },
     "metadata": {},
     "output_type": "display_data"
    },
    {
     "data": {
      "application/vnd.jupyter.widget-view+json": {
       "model_id": "8bae8c6763424d0d852a96856ee8a52d",
       "version_major": 2,
       "version_minor": 0
      },
      "text/plain": [
       "Загружен nash-dom\\c4ae6be4-0f10-4d39-a8eb-5177a8d0100a:   0%|          | 0.00/1.52M [00:00<?, ?B/s]"
      ]
     },
     "metadata": {},
     "output_type": "display_data"
    },
    {
     "data": {
      "application/vnd.jupyter.widget-view+json": {
       "model_id": "d84837cdbcc841429fcf786b312314d8",
       "version_major": 2,
       "version_minor": 0
      },
      "text/plain": [
       "Загружен nash-dom\\21bf93c1-e73f-4279-b24d-ec691f60df7f:   0%|          | 0.00/1.38M [00:00<?, ?B/s]"
      ]
     },
     "metadata": {},
     "output_type": "display_data"
    },
    {
     "data": {
      "application/vnd.jupyter.widget-view+json": {
       "model_id": "b7a69fb161de43589136d3fa96bda6bc",
       "version_major": 2,
       "version_minor": 0
      },
      "text/plain": [
       "Загружен nash-dom\\90f5ba53-f778-4054-bebc-50b250f3bc05:   0%|          | 0.00/1.39M [00:00<?, ?B/s]"
      ]
     },
     "metadata": {},
     "output_type": "display_data"
    },
    {
     "data": {
      "application/vnd.jupyter.widget-view+json": {
       "model_id": "5c27d04ce031425f864703d199f07df8",
       "version_major": 2,
       "version_minor": 0
      },
      "text/plain": [
       "Загружен nash-dom\\3553f4ec-8d7e-4303-ba25-3ec6f03bfe39:   0%|          | 0.00/1.02M [00:00<?, ?B/s]"
      ]
     },
     "metadata": {},
     "output_type": "display_data"
    },
    {
     "data": {
      "application/vnd.jupyter.widget-view+json": {
       "model_id": "4f1ee06bee694d5d991b27326df2c2ee",
       "version_major": 2,
       "version_minor": 0
      },
      "text/plain": [
       "Загружен nash-dom\\dea2f9b6-e3a6-471c-99a7-485781d4413e:   0%|          | 0.00/210k [00:00<?, ?B/s]"
      ]
     },
     "metadata": {},
     "output_type": "display_data"
    },
    {
     "data": {
      "application/vnd.jupyter.widget-view+json": {
       "model_id": "d204e5bf0a114d6f99a619c1e9f9ee11",
       "version_major": 2,
       "version_minor": 0
      },
      "text/plain": [
       "Загружен nash-dom\\5759b89c-4349-4a51-b49e-8185ce61b295:   0%|          | 0.00/137k [00:00<?, ?B/s]"
      ]
     },
     "metadata": {},
     "output_type": "display_data"
    },
    {
     "data": {
      "application/vnd.jupyter.widget-view+json": {
       "model_id": "fed474a914da410791ae0f8f6d6e184b",
       "version_major": 2,
       "version_minor": 0
      },
      "text/plain": [
       "Загружен nash-dom\\64a8353e-0adf-43a5-b024-80dc927e2689:   0%|          | 0.00/155k [00:00<?, ?B/s]"
      ]
     },
     "metadata": {},
     "output_type": "display_data"
    },
    {
     "data": {
      "application/vnd.jupyter.widget-view+json": {
       "model_id": "0cc094e8c9e04ea7a82df5f2a8f05826",
       "version_major": 2,
       "version_minor": 0
      },
      "text/plain": [
       "Загружен nash-dom\\d7ae1165-e9ad-4620-b98d-f6b5f1c8e03e:   0%|          | 0.00/91.5k [00:00<?, ?B/s]"
      ]
     },
     "metadata": {},
     "output_type": "display_data"
    },
    {
     "data": {
      "application/vnd.jupyter.widget-view+json": {
       "model_id": "4aa02550f75644fdaa7412f6567b9b9a",
       "version_major": 2,
       "version_minor": 0
      },
      "text/plain": [
       "Загружен nash-dom\\315f13ef-710c-46f4-ab63-1a863153203b:   0%|          | 0.00/320k [00:00<?, ?B/s]"
      ]
     },
     "metadata": {},
     "output_type": "display_data"
    },
    {
     "data": {
      "application/vnd.jupyter.widget-view+json": {
       "model_id": "acc6334274574a629b62b598b27ed250",
       "version_major": 2,
       "version_minor": 0
      },
      "text/plain": [
       "Загружен nash-dom\\4152d35f-ce33-418b-adb7-b298dbf1f4e4:   0%|          | 0.00/366k [00:00<?, ?B/s]"
      ]
     },
     "metadata": {},
     "output_type": "display_data"
    },
    {
     "data": {
      "application/vnd.jupyter.widget-view+json": {
       "model_id": "73f0fe4d10b6408e8b4133be40cdb2ab",
       "version_major": 2,
       "version_minor": 0
      },
      "text/plain": [
       "Загружен nash-dom\\3078b6ef-e685-448c-85e8-68984b99b8f5:   0%|          | 0.00/324k [00:00<?, ?B/s]"
      ]
     },
     "metadata": {},
     "output_type": "display_data"
    },
    {
     "data": {
      "application/vnd.jupyter.widget-view+json": {
       "model_id": "85b00ac4a4534a1982687160bd2e0fc3",
       "version_major": 2,
       "version_minor": 0
      },
      "text/plain": [
       "Загружен nash-dom\\effb5457-2854-4e1e-b89a-a206532bf748:   0%|          | 0.00/310k [00:00<?, ?B/s]"
      ]
     },
     "metadata": {},
     "output_type": "display_data"
    },
    {
     "data": {
      "application/vnd.jupyter.widget-view+json": {
       "model_id": "77b7efe992324c89bbc75afad1554106",
       "version_major": 2,
       "version_minor": 0
      },
      "text/plain": [
       "Загружен nash-dom\\43f6902a-889f-4a5d-8a0b-816c9d87b05d:   0%|          | 0.00/327k [00:00<?, ?B/s]"
      ]
     },
     "metadata": {},
     "output_type": "display_data"
    },
    {
     "data": {
      "application/vnd.jupyter.widget-view+json": {
       "model_id": "1aa8bb4d14ec4a6094beafe97f6b9025",
       "version_major": 2,
       "version_minor": 0
      },
      "text/plain": [
       "Загружен nash-dom\\1cd9d61b-0a02-4822-930f-13b81c4b4264:   0%|          | 0.00/174k [00:00<?, ?B/s]"
      ]
     },
     "metadata": {},
     "output_type": "display_data"
    },
    {
     "data": {
      "application/vnd.jupyter.widget-view+json": {
       "model_id": "43e29806f0104bd39693233af5317148",
       "version_major": 2,
       "version_minor": 0
      },
      "text/plain": [
       "Загружен nash-dom\\cb91a1d5-1179-4115-b1e8-8d5106fa6428:   0%|          | 0.00/158k [00:00<?, ?B/s]"
      ]
     },
     "metadata": {},
     "output_type": "display_data"
    },
    {
     "data": {
      "application/vnd.jupyter.widget-view+json": {
       "model_id": "4db9e2be53d54218b3f6a0cf1b25d992",
       "version_major": 2,
       "version_minor": 0
      },
      "text/plain": [
       "Загружен nash-dom\\d5673280-e62a-4fef-936c-1f881ef0d413:   0%|          | 0.00/80.7k [00:00<?, ?B/s]"
      ]
     },
     "metadata": {},
     "output_type": "display_data"
    },
    {
     "data": {
      "application/vnd.jupyter.widget-view+json": {
       "model_id": "52a741c8eecd44da8e8e18638c8f9adb",
       "version_major": 2,
       "version_minor": 0
      },
      "text/plain": [
       "Загружен nash-dom\\6549bc39-8c6b-4178-bf1c-ba812fd3e9f6:   0%|          | 0.00/5.71M [00:00<?, ?B/s]"
      ]
     },
     "metadata": {},
     "output_type": "display_data"
    },
    {
     "data": {
      "application/vnd.jupyter.widget-view+json": {
       "model_id": "8f1e97207e3640568fe00e869a274707",
       "version_major": 2,
       "version_minor": 0
      },
      "text/plain": [
       "Загружен nash-dom\\757c9948-b552-47bf-bab9-433833ff2a4c:   0%|          | 0.00/2.27M [00:00<?, ?B/s]"
      ]
     },
     "metadata": {},
     "output_type": "display_data"
    },
    {
     "data": {
      "application/vnd.jupyter.widget-view+json": {
       "model_id": "97b98493a7f8404cb5b21e72a6ff5f2c",
       "version_major": 2,
       "version_minor": 0
      },
      "text/plain": [
       "Загружен nash-dom\\d80c7376-72dd-444a-86ae-3c593958c1b1:   0%|          | 0.00/7.03M [00:00<?, ?B/s]"
      ]
     },
     "metadata": {},
     "output_type": "display_data"
    },
    {
     "data": {
      "application/vnd.jupyter.widget-view+json": {
       "model_id": "70d2a53a07aa4b1eafa7cfd29fa9e7f9",
       "version_major": 2,
       "version_minor": 0
      },
      "text/plain": [
       "Загружен nash-dom\\9494f852-50cf-436f-bffc-d9b4789ebb65:   0%|          | 0.00/1.52M [00:00<?, ?B/s]"
      ]
     },
     "metadata": {},
     "output_type": "display_data"
    },
    {
     "data": {
      "application/vnd.jupyter.widget-view+json": {
       "model_id": "a4dedef305754bdbbd62a0efb39e9e08",
       "version_major": 2,
       "version_minor": 0
      },
      "text/plain": [
       "Загружен nash-dom\\83a77450-2958-4d16-aeac-2a8e709cdc3d:   0%|          | 0.00/242k [00:00<?, ?B/s]"
      ]
     },
     "metadata": {},
     "output_type": "display_data"
    },
    {
     "data": {
      "application/vnd.jupyter.widget-view+json": {
       "model_id": "838ab4f9945d4ea8bad53298ae0d6594",
       "version_major": 2,
       "version_minor": 0
      },
      "text/plain": [
       "Загружен nash-dom\\1f29d428-b698-4034-b203-c045f39317ad:   0%|          | 0.00/212k [00:00<?, ?B/s]"
      ]
     },
     "metadata": {},
     "output_type": "display_data"
    },
    {
     "data": {
      "application/vnd.jupyter.widget-view+json": {
       "model_id": "a0606126322c47caa77c5a126a08398f",
       "version_major": 2,
       "version_minor": 0
      },
      "text/plain": [
       "Загружен nash-dom\\7859280d-4649-413e-a5d4-44ba155dc30c:   0%|          | 0.00/753k [00:00<?, ?B/s]"
      ]
     },
     "metadata": {},
     "output_type": "display_data"
    },
    {
     "data": {
      "application/vnd.jupyter.widget-view+json": {
       "model_id": "7c15f6a6ae6641ffb443df9def01fb5b",
       "version_major": 2,
       "version_minor": 0
      },
      "text/plain": [
       "Загружен nash-dom\\9004694f-9495-4b9f-93ca-7af9bc000b19:   0%|          | 0.00/57.0k [00:00<?, ?B/s]"
      ]
     },
     "metadata": {},
     "output_type": "display_data"
    },
    {
     "data": {
      "application/vnd.jupyter.widget-view+json": {
       "model_id": "ae8b3afe8ece4dbb871ff1205a6eecd4",
       "version_major": 2,
       "version_minor": 0
      },
      "text/plain": [
       "Загружен nash-dom\\b47d7708-d580-4030-98a4-97bd110a412c:   0%|          | 0.00/112k [00:00<?, ?B/s]"
      ]
     },
     "metadata": {},
     "output_type": "display_data"
    },
    {
     "data": {
      "application/vnd.jupyter.widget-view+json": {
       "model_id": "d902ebf84f054e9a83f9ed98ca688301",
       "version_major": 2,
       "version_minor": 0
      },
      "text/plain": [
       "Загружен nash-dom\\0d25602e-340b-4c00-8a28-8d56ba61d787:   0%|          | 0.00/191k [00:00<?, ?B/s]"
      ]
     },
     "metadata": {},
     "output_type": "display_data"
    },
    {
     "data": {
      "application/vnd.jupyter.widget-view+json": {
       "model_id": "10f272f1f9f846138780e50c69cfda44",
       "version_major": 2,
       "version_minor": 0
      },
      "text/plain": [
       "Загружен nash-dom\\a713d9a7-9a9b-48c3-96df-c16d23d47b04:   0%|          | 0.00/114k [00:00<?, ?B/s]"
      ]
     },
     "metadata": {},
     "output_type": "display_data"
    },
    {
     "data": {
      "application/vnd.jupyter.widget-view+json": {
       "model_id": "b0a4d2efe9cd4d318cbe8c4b72dd8630",
       "version_major": 2,
       "version_minor": 0
      },
      "text/plain": [
       "Загружен nash-dom\\5c6c82ed-41ce-45b5-8fa1-6fa203705b1f:   0%|          | 0.00/74.6k [00:00<?, ?B/s]"
      ]
     },
     "metadata": {},
     "output_type": "display_data"
    },
    {
     "data": {
      "application/vnd.jupyter.widget-view+json": {
       "model_id": "bb4fcfe9baaa4e629ecc37c6206367f5",
       "version_major": 2,
       "version_minor": 0
      },
      "text/plain": [
       "Загружен nash-dom\\d7875d0c-7e90-42af-9895-84d82026f2b1:   0%|          | 0.00/347k [00:00<?, ?B/s]"
      ]
     },
     "metadata": {},
     "output_type": "display_data"
    },
    {
     "data": {
      "application/vnd.jupyter.widget-view+json": {
       "model_id": "03b2ebd72f8b43f8a78daac3a5beb9a7",
       "version_major": 2,
       "version_minor": 0
      },
      "text/plain": [
       "Загружен nash-dom\\d41292ac-682c-4d3c-be43-f8d4611919be:   0%|          | 0.00/2.63M [00:00<?, ?B/s]"
      ]
     },
     "metadata": {},
     "output_type": "display_data"
    },
    {
     "data": {
      "application/vnd.jupyter.widget-view+json": {
       "model_id": "91a850a9bf69472b8d53aeaad2d3efd6",
       "version_major": 2,
       "version_minor": 0
      },
      "text/plain": [
       "Загружен nash-dom\\1b149ea4-88f1-4dcc-b3d3-92125f6869c6:   0%|          | 0.00/2.60M [00:00<?, ?B/s]"
      ]
     },
     "metadata": {},
     "output_type": "display_data"
    },
    {
     "data": {
      "application/vnd.jupyter.widget-view+json": {
       "model_id": "ddc960334d34468da6a36d73d1628f3c",
       "version_major": 2,
       "version_minor": 0
      },
      "text/plain": [
       "Загружен nash-dom\\2467ff8d-98bd-4dc7-b75c-37b057a7993a:   0%|          | 0.00/6.61M [00:00<?, ?B/s]"
      ]
     },
     "metadata": {},
     "output_type": "display_data"
    },
    {
     "data": {
      "application/vnd.jupyter.widget-view+json": {
       "model_id": "312d5ef95f1b40a887e7c0dc2dc0797d",
       "version_major": 2,
       "version_minor": 0
      },
      "text/plain": [
       "Загружен nash-dom\\cc94f54d-54f0-4ece-bd19-dc1a3a7f0995:   0%|          | 0.00/165k [00:00<?, ?B/s]"
      ]
     },
     "metadata": {},
     "output_type": "display_data"
    },
    {
     "data": {
      "application/vnd.jupyter.widget-view+json": {
       "model_id": "9ee5e092a003459abef6b67dd95e5c43",
       "version_major": 2,
       "version_minor": 0
      },
      "text/plain": [
       "Загружен nash-dom\\b80d8f72-d85d-412e-b070-3cf5a2ed6694:   0%|          | 0.00/303k [00:00<?, ?B/s]"
      ]
     },
     "metadata": {},
     "output_type": "display_data"
    },
    {
     "data": {
      "application/vnd.jupyter.widget-view+json": {
       "model_id": "94fcd806c3fa4ea782c0d66d714fa619",
       "version_major": 2,
       "version_minor": 0
      },
      "text/plain": [
       "Загружен nash-dom\\6dd9f4a1-53ca-4eb4-87d9-f621a7600eab:   0%|          | 0.00/271k [00:00<?, ?B/s]"
      ]
     },
     "metadata": {},
     "output_type": "display_data"
    },
    {
     "data": {
      "application/vnd.jupyter.widget-view+json": {
       "model_id": "2557093399384ae899464e42559a1564",
       "version_major": 2,
       "version_minor": 0
      },
      "text/plain": [
       "Загружен nash-dom\\3b85f38d-b171-44dc-b834-45fad009562e:   0%|          | 0.00/268k [00:00<?, ?B/s]"
      ]
     },
     "metadata": {},
     "output_type": "display_data"
    },
    {
     "data": {
      "application/vnd.jupyter.widget-view+json": {
       "model_id": "26ef0a050f1a4b089341a164f50b3aed",
       "version_major": 2,
       "version_minor": 0
      },
      "text/plain": [
       "Загружен nash-dom\\0d26da0e-ef69-483f-8c55-f198525394f2:   0%|          | 0.00/3.53M [00:00<?, ?B/s]"
      ]
     },
     "metadata": {},
     "output_type": "display_data"
    },
    {
     "data": {
      "application/vnd.jupyter.widget-view+json": {
       "model_id": "8ce939de328d4931b02f21594e4cf6e3",
       "version_major": 2,
       "version_minor": 0
      },
      "text/plain": [
       "Получено изображение:   0%|          | 0/58 [00:00<?, ?it/s]"
      ]
     },
     "metadata": {},
     "output_type": "display_data"
    },
    {
     "data": {
      "application/vnd.jupyter.widget-view+json": {
       "model_id": "2079c9c9cec141b593cabb0c7f8ffdcf",
       "version_major": 2,
       "version_minor": 0
      },
      "text/plain": [
       "Загружен nash-dom\\47282070:   0%|          | 0.00/43.0 [00:00<?, ?B/s]"
      ]
     },
     "metadata": {},
     "output_type": "display_data"
    },
    {
     "data": {
      "application/vnd.jupyter.widget-view+json": {
       "model_id": "8107daf1c8dd43e8bed5ca47ae110f45",
       "version_major": 2,
       "version_minor": 0
      },
      "text/plain": [
       "Загружен nash-dom\\163a4483-4231-45b1-88ff-14013ee3a070:   0%|          | 0.00/2.88M [00:00<?, ?B/s]"
      ]
     },
     "metadata": {},
     "output_type": "display_data"
    },
    {
     "data": {
      "application/vnd.jupyter.widget-view+json": {
       "model_id": "acbe33b5caa141438f41a438dd13fde0",
       "version_major": 2,
       "version_minor": 0
      },
      "text/plain": [
       "Загружен nash-dom\\c691285b-029a-43b6-977a-db3d6c6ef05d:   0%|          | 0.00/2.59M [00:00<?, ?B/s]"
      ]
     },
     "metadata": {},
     "output_type": "display_data"
    },
    {
     "data": {
      "application/vnd.jupyter.widget-view+json": {
       "model_id": "66642eede9b243809f637acfc41f1bc7",
       "version_major": 2,
       "version_minor": 0
      },
      "text/plain": [
       "Загружен nash-dom\\73026840-5ee8-4329-a39d-d830f08ea4ee:   0%|          | 0.00/247k [00:00<?, ?B/s]"
      ]
     },
     "metadata": {},
     "output_type": "display_data"
    },
    {
     "data": {
      "application/vnd.jupyter.widget-view+json": {
       "model_id": "f2f880c662004d16a6e88edb65b9b1ca",
       "version_major": 2,
       "version_minor": 0
      },
      "text/plain": [
       "Загружен nash-dom\\b26e2b42-0b10-4451-9a11-ec4a927cc8c0:   0%|          | 0.00/61.2k [00:00<?, ?B/s]"
      ]
     },
     "metadata": {},
     "output_type": "display_data"
    },
    {
     "data": {
      "application/vnd.jupyter.widget-view+json": {
       "model_id": "3965cc406d804b6db5655f58a72f822d",
       "version_major": 2,
       "version_minor": 0
      },
      "text/plain": [
       "Загружен nash-dom\\8ab130b9-fd2e-4e8c-8e89-9bab6d342f92:   0%|          | 0.00/128k [00:00<?, ?B/s]"
      ]
     },
     "metadata": {},
     "output_type": "display_data"
    },
    {
     "data": {
      "application/vnd.jupyter.widget-view+json": {
       "model_id": "c83807c8693f455aadd7cbbe82c14d8f",
       "version_major": 2,
       "version_minor": 0
      },
      "text/plain": [
       "Загружен nash-dom\\c0131964-b89c-4e7c-b33d-451043c7e635:   0%|          | 0.00/249k [00:00<?, ?B/s]"
      ]
     },
     "metadata": {},
     "output_type": "display_data"
    },
    {
     "data": {
      "application/vnd.jupyter.widget-view+json": {
       "model_id": "638f279ad53943e481893cd9b7f4ba42",
       "version_major": 2,
       "version_minor": 0
      },
      "text/plain": [
       "Загружен nash-dom\\22aaaebd-6763-4485-b561-10ba458e80f8:   0%|          | 0.00/102k [00:00<?, ?B/s]"
      ]
     },
     "metadata": {},
     "output_type": "display_data"
    },
    {
     "data": {
      "application/vnd.jupyter.widget-view+json": {
       "model_id": "98f552fbbb554f11ac2e60cc8100f33e",
       "version_major": 2,
       "version_minor": 0
      },
      "text/plain": [
       "Загружен nash-dom\\fd18ac59-f3de-4a7c-b61d-55927c073a06:   0%|          | 0.00/102k [00:00<?, ?B/s]"
      ]
     },
     "metadata": {},
     "output_type": "display_data"
    },
    {
     "data": {
      "application/vnd.jupyter.widget-view+json": {
       "model_id": "ee5c67ec5cbb4f059c44102e3deba191",
       "version_major": 2,
       "version_minor": 0
      },
      "text/plain": [
       "Загружен nash-dom\\da823e8f-c2ad-4b70-a2af-9e511635c519:   0%|          | 0.00/224k [00:00<?, ?B/s]"
      ]
     },
     "metadata": {},
     "output_type": "display_data"
    },
    {
     "data": {
      "application/vnd.jupyter.widget-view+json": {
       "model_id": "a8cff5b9a4dc4ca4b478f815fe21cdd0",
       "version_major": 2,
       "version_minor": 0
      },
      "text/plain": [
       "Загружен nash-dom\\b63fe6a8-038d-4b7f-8b5e-9d84bcbe82d7:   0%|          | 0.00/72.4k [00:00<?, ?B/s]"
      ]
     },
     "metadata": {},
     "output_type": "display_data"
    },
    {
     "data": {
      "application/vnd.jupyter.widget-view+json": {
       "model_id": "96f620e11b164802aeeeeed8ca763775",
       "version_major": 2,
       "version_minor": 0
      },
      "text/plain": [
       "Загружен nash-dom\\1a8eee2e-9f88-499a-b2ee-f89b20a4bce1:   0%|          | 0.00/2.02M [00:00<?, ?B/s]"
      ]
     },
     "metadata": {},
     "output_type": "display_data"
    },
    {
     "data": {
      "application/vnd.jupyter.widget-view+json": {
       "model_id": "01cec359466845da9fb51ef6186a26ba",
       "version_major": 2,
       "version_minor": 0
      },
      "text/plain": [
       "Загружен nash-dom\\c0804769-a925-4268-8af6-1813250319f8:   0%|          | 0.00/315k [00:00<?, ?B/s]"
      ]
     },
     "metadata": {},
     "output_type": "display_data"
    },
    {
     "data": {
      "application/vnd.jupyter.widget-view+json": {
       "model_id": "64c1ed045da0414aae49279e6f469edb",
       "version_major": 2,
       "version_minor": 0
      },
      "text/plain": [
       "Загружен nash-dom\\13dc7a12-3298-4649-b595-648605f6be6e:   0%|          | 0.00/87.3k [00:00<?, ?B/s]"
      ]
     },
     "metadata": {},
     "output_type": "display_data"
    },
    {
     "data": {
      "application/vnd.jupyter.widget-view+json": {
       "model_id": "5371cc546f914acbba255b4eab3a70d2",
       "version_major": 2,
       "version_minor": 0
      },
      "text/plain": [
       "Загружен nash-dom\\941d109f-f459-4467-b8b7-184c97b5b004:   0%|          | 0.00/260k [00:00<?, ?B/s]"
      ]
     },
     "metadata": {},
     "output_type": "display_data"
    },
    {
     "data": {
      "application/vnd.jupyter.widget-view+json": {
       "model_id": "058446483032491ab1c5ab0b954fdc85",
       "version_major": 2,
       "version_minor": 0
      },
      "text/plain": [
       "Загружен nash-dom\\bd6e1df6-7f22-49ef-81e7-74ca70543409:   0%|          | 0.00/245k [00:00<?, ?B/s]"
      ]
     },
     "metadata": {},
     "output_type": "display_data"
    },
    {
     "data": {
      "application/vnd.jupyter.widget-view+json": {
       "model_id": "ed97e6c333f84f5186cbb0edbc4a74ba",
       "version_major": 2,
       "version_minor": 0
      },
      "text/plain": [
       "Загружен nash-dom\\fd149cb6-1b33-4a55-ab38-61a274109c25:   0%|          | 0.00/198k [00:00<?, ?B/s]"
      ]
     },
     "metadata": {},
     "output_type": "display_data"
    },
    {
     "data": {
      "application/vnd.jupyter.widget-view+json": {
       "model_id": "349ccd978b294c2198609a299f21630a",
       "version_major": 2,
       "version_minor": 0
      },
      "text/plain": [
       "Загружен nash-dom\\4304da44-3615-45c4-95cb-0a62639d3d1a:   0%|          | 0.00/84.2k [00:00<?, ?B/s]"
      ]
     },
     "metadata": {},
     "output_type": "display_data"
    },
    {
     "data": {
      "application/vnd.jupyter.widget-view+json": {
       "model_id": "41b65965c9ca41e9ac9bbb0293c3ff65",
       "version_major": 2,
       "version_minor": 0
      },
      "text/plain": [
       "Загружен nash-dom\\5797a1b8-5d57-414a-ad0a-7d03bdf5e4fc:   0%|          | 0.00/221k [00:00<?, ?B/s]"
      ]
     },
     "metadata": {},
     "output_type": "display_data"
    },
    {
     "data": {
      "application/vnd.jupyter.widget-view+json": {
       "model_id": "3f55034d5bcd401c9b6f79512c5299e9",
       "version_major": 2,
       "version_minor": 0
      },
      "text/plain": [
       "Загружен nash-dom\\a274a1b0-2ef9-4f36-9269-0bdb1fd794be:   0%|          | 0.00/175k [00:00<?, ?B/s]"
      ]
     },
     "metadata": {},
     "output_type": "display_data"
    },
    {
     "data": {
      "application/vnd.jupyter.widget-view+json": {
       "model_id": "3c0223f4d1d242f8bf96fb0b6751f0ac",
       "version_major": 2,
       "version_minor": 0
      },
      "text/plain": [
       "Загружен nash-dom\\fae81610-2ca5-4062-b97d-8dacf3ab7068:   0%|          | 0.00/133k [00:00<?, ?B/s]"
      ]
     },
     "metadata": {},
     "output_type": "display_data"
    },
    {
     "data": {
      "application/vnd.jupyter.widget-view+json": {
       "model_id": "3dcbcef272a44a96bb4e0b8967960dda",
       "version_major": 2,
       "version_minor": 0
      },
      "text/plain": [
       "Загружен nash-dom\\de58116c-ead6-47bf-bdc5-f03c70f7e209:   0%|          | 0.00/34.4k [00:00<?, ?B/s]"
      ]
     },
     "metadata": {},
     "output_type": "display_data"
    },
    {
     "data": {
      "application/vnd.jupyter.widget-view+json": {
       "model_id": "52b1be25d28d4ad8a28d85d362dc7c91",
       "version_major": 2,
       "version_minor": 0
      },
      "text/plain": [
       "Загружен nash-dom\\21ed0342-bf80-4293-9135-6d97e51e6ded:   0%|          | 0.00/110k [00:00<?, ?B/s]"
      ]
     },
     "metadata": {},
     "output_type": "display_data"
    },
    {
     "data": {
      "application/vnd.jupyter.widget-view+json": {
       "model_id": "0192a573e1034767a00c0f721c2d12bc",
       "version_major": 2,
       "version_minor": 0
      },
      "text/plain": [
       "Загружен nash-dom\\d149bea8-2711-4913-bd70-7c126f5a8dab:   0%|          | 0.00/105k [00:00<?, ?B/s]"
      ]
     },
     "metadata": {},
     "output_type": "display_data"
    },
    {
     "data": {
      "application/vnd.jupyter.widget-view+json": {
       "model_id": "24a838eda9e84e4ba51f66ccced46fa0",
       "version_major": 2,
       "version_minor": 0
      },
      "text/plain": [
       "Загружен nash-dom\\d465f9e4-1b2b-43c1-b931-2312d94d1fec:   0%|          | 0.00/117k [00:00<?, ?B/s]"
      ]
     },
     "metadata": {},
     "output_type": "display_data"
    },
    {
     "data": {
      "application/vnd.jupyter.widget-view+json": {
       "model_id": "125d6b13289a4d45869054309e89337f",
       "version_major": 2,
       "version_minor": 0
      },
      "text/plain": [
       "Загружен nash-dom\\6c5232c3-2493-4ced-8ce9-23603310c8f3:   0%|          | 0.00/135k [00:00<?, ?B/s]"
      ]
     },
     "metadata": {},
     "output_type": "display_data"
    },
    {
     "data": {
      "application/vnd.jupyter.widget-view+json": {
       "model_id": "b2c53f20ec3a45fc9fabe39c7b20b93d",
       "version_major": 2,
       "version_minor": 0
      },
      "text/plain": [
       "Загружен nash-dom\\96140467-3ea7-4710-b69e-4be4cc60a4db:   0%|          | 0.00/93.6k [00:00<?, ?B/s]"
      ]
     },
     "metadata": {},
     "output_type": "display_data"
    },
    {
     "data": {
      "application/vnd.jupyter.widget-view+json": {
       "model_id": "50f7582e70434c1596ce3330f59e4d15",
       "version_major": 2,
       "version_minor": 0
      },
      "text/plain": [
       "Загружен nash-dom\\c306638f-5c75-4880-ac12-d30851386199:   0%|          | 0.00/207k [00:00<?, ?B/s]"
      ]
     },
     "metadata": {},
     "output_type": "display_data"
    },
    {
     "data": {
      "application/vnd.jupyter.widget-view+json": {
       "model_id": "f38aa5bb58a3492aa8eee099a6e3a1d5",
       "version_major": 2,
       "version_minor": 0
      },
      "text/plain": [
       "Загружен nash-dom\\a7349d2a-076c-47a3-a9d3-3a0916d479b5:   0%|          | 0.00/182k [00:00<?, ?B/s]"
      ]
     },
     "metadata": {},
     "output_type": "display_data"
    },
    {
     "data": {
      "application/vnd.jupyter.widget-view+json": {
       "model_id": "725d01629f184a10aef11ff1da2533a7",
       "version_major": 2,
       "version_minor": 0
      },
      "text/plain": [
       "Загружен nash-dom\\e21a6141-1199-4b62-8133-b68616bab7f4:   0%|          | 0.00/188k [00:00<?, ?B/s]"
      ]
     },
     "metadata": {},
     "output_type": "display_data"
    },
    {
     "data": {
      "application/vnd.jupyter.widget-view+json": {
       "model_id": "ee8194c34d324ed598a2514065bcd570",
       "version_major": 2,
       "version_minor": 0
      },
      "text/plain": [
       "Получено изображение:   0%|          | 0/48 [00:00<?, ?it/s]"
      ]
     },
     "metadata": {},
     "output_type": "display_data"
    },
    {
     "data": {
      "application/vnd.jupyter.widget-view+json": {
       "model_id": "7effb08f0c284745a01bd841a2c59174",
       "version_major": 2,
       "version_minor": 0
      },
      "text/plain": [
       "Загружен nash-dom\\47282070:   0%|          | 0.00/43.0 [00:00<?, ?B/s]"
      ]
     },
     "metadata": {},
     "output_type": "display_data"
    },
    {
     "data": {
      "application/vnd.jupyter.widget-view+json": {
       "model_id": "798344141f96413ab276003ed95971a5",
       "version_major": 2,
       "version_minor": 0
      },
      "text/plain": [
       "Загружен nash-dom\\f5c1062a-0946-43b1-9287-802a4bc9712a:   0%|          | 0.00/437k [00:00<?, ?B/s]"
      ]
     },
     "metadata": {},
     "output_type": "display_data"
    },
    {
     "data": {
      "application/vnd.jupyter.widget-view+json": {
       "model_id": "4a9cac21f211467b869bc666a2867a7c",
       "version_major": 2,
       "version_minor": 0
      },
      "text/plain": [
       "Загружен nash-dom\\2c471093-c47d-4e82-a151-be440b1334d1:   0%|          | 0.00/297k [00:00<?, ?B/s]"
      ]
     },
     "metadata": {},
     "output_type": "display_data"
    },
    {
     "data": {
      "application/vnd.jupyter.widget-view+json": {
       "model_id": "2022372099b44fa395b06e599950dd11",
       "version_major": 2,
       "version_minor": 0
      },
      "text/plain": [
       "Загружен nash-dom\\a686d15f-d1b3-4782-849c-dbe9243311c4:   0%|          | 0.00/358k [00:00<?, ?B/s]"
      ]
     },
     "metadata": {},
     "output_type": "display_data"
    },
    {
     "data": {
      "application/vnd.jupyter.widget-view+json": {
       "model_id": "04c711db27db4590a1191d59984777d6",
       "version_major": 2,
       "version_minor": 0
      },
      "text/plain": [
       "Загружен nash-dom\\2f199314-d742-448b-a08c-f277f35e85d1:   0%|          | 0.00/318k [00:00<?, ?B/s]"
      ]
     },
     "metadata": {},
     "output_type": "display_data"
    },
    {
     "data": {
      "application/vnd.jupyter.widget-view+json": {
       "model_id": "bc195600bc5a4b24952280d1e67f3d7d",
       "version_major": 2,
       "version_minor": 0
      },
      "text/plain": [
       "Загружен nash-dom\\65517c2b-0eff-4391-a29e-bbb7ac13341d:   0%|          | 0.00/321k [00:00<?, ?B/s]"
      ]
     },
     "metadata": {},
     "output_type": "display_data"
    },
    {
     "data": {
      "application/vnd.jupyter.widget-view+json": {
       "model_id": "2cba90ef266b444aa63e62dc2a213ea7",
       "version_major": 2,
       "version_minor": 0
      },
      "text/plain": [
       "Загружен nash-dom\\45b95099-7e8a-419e-b9d5-3f193d036866:   0%|          | 0.00/193k [00:00<?, ?B/s]"
      ]
     },
     "metadata": {},
     "output_type": "display_data"
    },
    {
     "data": {
      "application/vnd.jupyter.widget-view+json": {
       "model_id": "0d7e0a5fd3ca4b82b05b4f8e4e8e0204",
       "version_major": 2,
       "version_minor": 0
      },
      "text/plain": [
       "Загружен nash-dom\\aea6c287-f112-49f0-96d6-87652e55c11a:   0%|          | 0.00/217k [00:00<?, ?B/s]"
      ]
     },
     "metadata": {},
     "output_type": "display_data"
    },
    {
     "data": {
      "application/vnd.jupyter.widget-view+json": {
       "model_id": "0af9d7b7885c4e8b9414153e016f1d90",
       "version_major": 2,
       "version_minor": 0
      },
      "text/plain": [
       "Загружен nash-dom\\0cd21bb0-bca1-40ee-bd55-54cbfe778e48:   0%|          | 0.00/223k [00:00<?, ?B/s]"
      ]
     },
     "metadata": {},
     "output_type": "display_data"
    },
    {
     "data": {
      "application/vnd.jupyter.widget-view+json": {
       "model_id": "cb61bd5d22914d3286656f9e8622c6d6",
       "version_major": 2,
       "version_minor": 0
      },
      "text/plain": [
       "Загружен nash-dom\\5dc5a5c4-a65d-42e2-8f9d-0d9a62c48c59:   0%|          | 0.00/228k [00:00<?, ?B/s]"
      ]
     },
     "metadata": {},
     "output_type": "display_data"
    },
    {
     "data": {
      "application/vnd.jupyter.widget-view+json": {
       "model_id": "eb901704108b4f7697a4b68475d1fb38",
       "version_major": 2,
       "version_minor": 0
      },
      "text/plain": [
       "Загружен nash-dom\\7d6acf60-afc7-426b-ac41-85da242b95b7:   0%|          | 0.00/223k [00:00<?, ?B/s]"
      ]
     },
     "metadata": {},
     "output_type": "display_data"
    },
    {
     "data": {
      "application/vnd.jupyter.widget-view+json": {
       "model_id": "a058f0607d6c4bee90343b620254916b",
       "version_major": 2,
       "version_minor": 0
      },
      "text/plain": [
       "Загружен nash-dom\\274b78cd-aa2d-4240-907c-360f96005551:   0%|          | 0.00/207k [00:00<?, ?B/s]"
      ]
     },
     "metadata": {},
     "output_type": "display_data"
    },
    {
     "data": {
      "application/vnd.jupyter.widget-view+json": {
       "model_id": "d64efb3a958a466e8d38a1e9ef44e814",
       "version_major": 2,
       "version_minor": 0
      },
      "text/plain": [
       "Загружен nash-dom\\934a67b6-a715-4ce6-8366-c492b9c6fc98:   0%|          | 0.00/2.06M [00:00<?, ?B/s]"
      ]
     },
     "metadata": {},
     "output_type": "display_data"
    },
    {
     "data": {
      "application/vnd.jupyter.widget-view+json": {
       "model_id": "90bbfea6e10343c4bd3ea2fb7065f90d",
       "version_major": 2,
       "version_minor": 0
      },
      "text/plain": [
       "Загружен nash-dom\\19a6b4d0-644f-41bd-aba2-2ed2a0767f61:   0%|          | 0.00/228k [00:00<?, ?B/s]"
      ]
     },
     "metadata": {},
     "output_type": "display_data"
    },
    {
     "data": {
      "application/vnd.jupyter.widget-view+json": {
       "model_id": "05c638c9db1c458ab7cda48ef65bdb7e",
       "version_major": 2,
       "version_minor": 0
      },
      "text/plain": [
       "Загружен nash-dom\\58fbe470-b24c-4ef0-82f0-bfbd92b39137:   0%|          | 0.00/314k [00:00<?, ?B/s]"
      ]
     },
     "metadata": {},
     "output_type": "display_data"
    },
    {
     "data": {
      "application/vnd.jupyter.widget-view+json": {
       "model_id": "57f3915deedf42bc9c90831098321aad",
       "version_major": 2,
       "version_minor": 0
      },
      "text/plain": [
       "Загружен nash-dom\\36876403-93ab-4daf-92af-86b7e80c0aef:   0%|          | 0.00/346k [00:00<?, ?B/s]"
      ]
     },
     "metadata": {},
     "output_type": "display_data"
    },
    {
     "data": {
      "application/vnd.jupyter.widget-view+json": {
       "model_id": "eec74a1cb6ee4a7381fc6d20b0b430c8",
       "version_major": 2,
       "version_minor": 0
      },
      "text/plain": [
       "Загружен nash-dom\\6daa8ea8-3177-43ae-9ca4-d514ebf91f89:   0%|          | 0.00/388k [00:00<?, ?B/s]"
      ]
     },
     "metadata": {},
     "output_type": "display_data"
    },
    {
     "data": {
      "application/vnd.jupyter.widget-view+json": {
       "model_id": "d8efb13a888e46a7bc64fc611db4b003",
       "version_major": 2,
       "version_minor": 0
      },
      "text/plain": [
       "Загружен nash-dom\\35856c2f-075b-461f-bf1e-2fe8d6e72cf4:   0%|          | 0.00/302k [00:00<?, ?B/s]"
      ]
     },
     "metadata": {},
     "output_type": "display_data"
    },
    {
     "data": {
      "application/vnd.jupyter.widget-view+json": {
       "model_id": "f742a20c538e4423a01df6dac8a9b86f",
       "version_major": 2,
       "version_minor": 0
      },
      "text/plain": [
       "Загружен nash-dom\\b180e3c9-ab73-4ab3-afec-e5222cc3a314:   0%|          | 0.00/358k [00:00<?, ?B/s]"
      ]
     },
     "metadata": {},
     "output_type": "display_data"
    },
    {
     "data": {
      "application/vnd.jupyter.widget-view+json": {
       "model_id": "a70afbece6fc4e6da39ffb36da9b671d",
       "version_major": 2,
       "version_minor": 0
      },
      "text/plain": [
       "Получено изображение:   0%|          | 0/83 [00:00<?, ?it/s]"
      ]
     },
     "metadata": {},
     "output_type": "display_data"
    },
    {
     "data": {
      "application/vnd.jupyter.widget-view+json": {
       "model_id": "1fc8d1b9fd1a4ff99072ef08c9ed6600",
       "version_major": 2,
       "version_minor": 0
      },
      "text/plain": [
       "Загружен nash-dom\\47282070:   0%|          | 0.00/43.0 [00:00<?, ?B/s]"
      ]
     },
     "metadata": {},
     "output_type": "display_data"
    },
    {
     "data": {
      "application/vnd.jupyter.widget-view+json": {
       "model_id": "7fd1b3de33744f7b8e9abf710a2716b6",
       "version_major": 2,
       "version_minor": 0
      },
      "text/plain": [
       "Загружен nash-dom\\c92ff7a1-8da2-4654-b6c5-96cbf08e9b76:   0%|          | 0.00/842k [00:00<?, ?B/s]"
      ]
     },
     "metadata": {},
     "output_type": "display_data"
    },
    {
     "data": {
      "application/vnd.jupyter.widget-view+json": {
       "model_id": "ac0769b85ef84f4885dafa7872781781",
       "version_major": 2,
       "version_minor": 0
      },
      "text/plain": [
       "Загружен nash-dom\\f0d484f8-de02-4dae-af44-cb287637a695:   0%|          | 0.00/991k [00:00<?, ?B/s]"
      ]
     },
     "metadata": {},
     "output_type": "display_data"
    },
    {
     "data": {
      "application/vnd.jupyter.widget-view+json": {
       "model_id": "86e2f65053304b888225fbc7576d2d83",
       "version_major": 2,
       "version_minor": 0
      },
      "text/plain": [
       "Загружен nash-dom\\1a4e0767-7b78-47cf-832c-820bc9474ecf:   0%|          | 0.00/1.04M [00:00<?, ?B/s]"
      ]
     },
     "metadata": {},
     "output_type": "display_data"
    },
    {
     "data": {
      "application/vnd.jupyter.widget-view+json": {
       "model_id": "aaf8e2f0d96e40f5a4a27e559d41fe49",
       "version_major": 2,
       "version_minor": 0
      },
      "text/plain": [
       "Загружен nash-dom\\0bcd9bb5-db0d-4e85-912e-bbfdaf5a45db:   0%|          | 0.00/925k [00:00<?, ?B/s]"
      ]
     },
     "metadata": {},
     "output_type": "display_data"
    },
    {
     "data": {
      "application/vnd.jupyter.widget-view+json": {
       "model_id": "129bff363a2740db9e05da8bfdd3cd2b",
       "version_major": 2,
       "version_minor": 0
      },
      "text/plain": [
       "Загружен nash-dom\\a1bbbd80-299f-4b1c-82a7-d623122a1b1e:   0%|          | 0.00/894k [00:00<?, ?B/s]"
      ]
     },
     "metadata": {},
     "output_type": "display_data"
    },
    {
     "data": {
      "application/vnd.jupyter.widget-view+json": {
       "model_id": "d37b91d29d8146b8b506c1382a949983",
       "version_major": 2,
       "version_minor": 0
      },
      "text/plain": [
       "Загружен nash-dom\\999b63f6-3838-4f9e-8ea8-449d8115a3ab:   0%|          | 0.00/215k [00:00<?, ?B/s]"
      ]
     },
     "metadata": {},
     "output_type": "display_data"
    },
    {
     "data": {
      "application/vnd.jupyter.widget-view+json": {
       "model_id": "0db1dde668bb442bb79a9e550819bc27",
       "version_major": 2,
       "version_minor": 0
      },
      "text/plain": [
       "Загружен nash-dom\\444fb178-6565-44e7-95cc-af0a957543cc:   0%|          | 0.00/175k [00:00<?, ?B/s]"
      ]
     },
     "metadata": {},
     "output_type": "display_data"
    },
    {
     "data": {
      "application/vnd.jupyter.widget-view+json": {
       "model_id": "03a417389acc42529fbd6ba31ba142e2",
       "version_major": 2,
       "version_minor": 0
      },
      "text/plain": [
       "Загружен nash-dom\\cad3095e-495c-41e7-8ef8-9af144bd7738:   0%|          | 0.00/37.5k [00:00<?, ?B/s]"
      ]
     },
     "metadata": {},
     "output_type": "display_data"
    },
    {
     "data": {
      "application/vnd.jupyter.widget-view+json": {
       "model_id": "6ad06778206b4df2b4f0c949f7490d12",
       "version_major": 2,
       "version_minor": 0
      },
      "text/plain": [
       "Загружен nash-dom\\06d8bf01-08d5-4b01-9e89-1c8fb00d1d48:   0%|          | 0.00/110k [00:00<?, ?B/s]"
      ]
     },
     "metadata": {},
     "output_type": "display_data"
    },
    {
     "data": {
      "application/vnd.jupyter.widget-view+json": {
       "model_id": "5c014028ec9f484fb3e7cdea36f4c11e",
       "version_major": 2,
       "version_minor": 0
      },
      "text/plain": [
       "Загружен nash-dom\\5fefa0bc-1ed5-41a6-a794-aef83cbdfaff:   0%|          | 0.00/169k [00:00<?, ?B/s]"
      ]
     },
     "metadata": {},
     "output_type": "display_data"
    },
    {
     "data": {
      "application/vnd.jupyter.widget-view+json": {
       "model_id": "d1f59db1f618443cbd6ab5849d8442e4",
       "version_major": 2,
       "version_minor": 0
      },
      "text/plain": [
       "Загружен nash-dom\\c1055f06-fceb-4a36-b27f-9f29333530ad:   0%|          | 0.00/97.7k [00:00<?, ?B/s]"
      ]
     },
     "metadata": {},
     "output_type": "display_data"
    },
    {
     "data": {
      "application/vnd.jupyter.widget-view+json": {
       "model_id": "7c6651f0daf04a54ba04389cb8e15c21",
       "version_major": 2,
       "version_minor": 0
      },
      "text/plain": [
       "Загружен nash-dom\\ec8c0541-d3d5-4d2c-b632-51b4d9ecbadf:   0%|          | 0.00/97.5k [00:00<?, ?B/s]"
      ]
     },
     "metadata": {},
     "output_type": "display_data"
    },
    {
     "data": {
      "application/vnd.jupyter.widget-view+json": {
       "model_id": "f0ec4ce52475483d9ed6276304a7a314",
       "version_major": 2,
       "version_minor": 0
      },
      "text/plain": [
       "Загружен nash-dom\\53668a7b-ede7-42dc-a41a-ecdbc89d91d7:   0%|          | 0.00/4.82M [00:00<?, ?B/s]"
      ]
     },
     "metadata": {},
     "output_type": "display_data"
    },
    {
     "data": {
      "application/vnd.jupyter.widget-view+json": {
       "model_id": "c7ddd87e7355434c9df66ceab4445df6",
       "version_major": 2,
       "version_minor": 0
      },
      "text/plain": [
       "Загружен nash-dom\\e38cb1c2-2017-44c6-ada1-9f7590efd137:   0%|          | 0.00/4.99M [00:00<?, ?B/s]"
      ]
     },
     "metadata": {},
     "output_type": "display_data"
    },
    {
     "data": {
      "application/vnd.jupyter.widget-view+json": {
       "model_id": "64c23f5422ee4c4aa40462911516a3af",
       "version_major": 2,
       "version_minor": 0
      },
      "text/plain": [
       "Загружен nash-dom\\c8877929-6578-4669-9172-fd8a78fcfc6b:   0%|          | 0.00/444k [00:00<?, ?B/s]"
      ]
     },
     "metadata": {},
     "output_type": "display_data"
    },
    {
     "data": {
      "application/vnd.jupyter.widget-view+json": {
       "model_id": "258eafc8f072498c8294edb82e81d7f8",
       "version_major": 2,
       "version_minor": 0
      },
      "text/plain": [
       "Загружен nash-dom\\27b85ee5-2793-4dc1-8c89-c9a383147317:   0%|          | 0.00/302k [00:00<?, ?B/s]"
      ]
     },
     "metadata": {},
     "output_type": "display_data"
    },
    {
     "data": {
      "application/vnd.jupyter.widget-view+json": {
       "model_id": "a835ec404c0a42cab4465d7fa426d602",
       "version_major": 2,
       "version_minor": 0
      },
      "text/plain": [
       "Загружен nash-dom\\3ffcd36f-bee2-415c-9225-69ef256359bb:   0%|          | 0.00/4.76M [00:00<?, ?B/s]"
      ]
     },
     "metadata": {},
     "output_type": "display_data"
    },
    {
     "data": {
      "application/vnd.jupyter.widget-view+json": {
       "model_id": "7b65894001ee41908533f6101c3b2b33",
       "version_major": 2,
       "version_minor": 0
      },
      "text/plain": [
       "Загружен nash-dom\\50717e2a-3686-4410-ba02-be7a8e1c01f4:   0%|          | 0.00/4.83M [00:00<?, ?B/s]"
      ]
     },
     "metadata": {},
     "output_type": "display_data"
    },
    {
     "data": {
      "application/vnd.jupyter.widget-view+json": {
       "model_id": "a6607630a58242bf8c10ed4006e89c60",
       "version_major": 2,
       "version_minor": 0
      },
      "text/plain": [
       "Загружен nash-dom\\23e52429-5adc-4d93-9bf2-c4af5b321ae2:   0%|          | 0.00/3.52M [00:00<?, ?B/s]"
      ]
     },
     "metadata": {},
     "output_type": "display_data"
    },
    {
     "data": {
      "application/vnd.jupyter.widget-view+json": {
       "model_id": "184a5803d4cf4bf49e144b4dc56575e7",
       "version_major": 2,
       "version_minor": 0
      },
      "text/plain": [
       "Загружен nash-dom\\58cdeb49-324b-418b-8be1-9f73ca713fb7:   0%|          | 0.00/313k [00:00<?, ?B/s]"
      ]
     },
     "metadata": {},
     "output_type": "display_data"
    },
    {
     "data": {
      "application/vnd.jupyter.widget-view+json": {
       "model_id": "964147d095ea4dd9a993f11bb893163f",
       "version_major": 2,
       "version_minor": 0
      },
      "text/plain": [
       "Загружен nash-dom\\aecefc1f-e676-477a-9f9f-bb65c50c624c:   0%|          | 0.00/276k [00:00<?, ?B/s]"
      ]
     },
     "metadata": {},
     "output_type": "display_data"
    },
    {
     "data": {
      "application/vnd.jupyter.widget-view+json": {
       "model_id": "f21f2fe27cca442e82b92a45e54e21c0",
       "version_major": 2,
       "version_minor": 0
      },
      "text/plain": [
       "Загружен nash-dom\\daef9153-be2b-4169-8acf-3a5e89df32ad:   0%|          | 0.00/4.49M [00:00<?, ?B/s]"
      ]
     },
     "metadata": {},
     "output_type": "display_data"
    },
    {
     "data": {
      "application/vnd.jupyter.widget-view+json": {
       "model_id": "a3cd9e5728a246039d6ff71042f50b3f",
       "version_major": 2,
       "version_minor": 0
      },
      "text/plain": [
       "Загружен nash-dom\\124d791b-26b8-43a1-8b6a-08df639c1215:   0%|          | 0.00/303k [00:00<?, ?B/s]"
      ]
     },
     "metadata": {},
     "output_type": "display_data"
    },
    {
     "data": {
      "application/vnd.jupyter.widget-view+json": {
       "model_id": "eb12a3dc1a534017970434165dd7fd9e",
       "version_major": 2,
       "version_minor": 0
      },
      "text/plain": [
       "Загружен nash-dom\\865c9f6d-ac0e-4829-874f-9b8098b57f2c:   0%|          | 0.00/332k [00:00<?, ?B/s]"
      ]
     },
     "metadata": {},
     "output_type": "display_data"
    },
    {
     "data": {
      "application/vnd.jupyter.widget-view+json": {
       "model_id": "0329eaf3b42049b59f50b706337c1e58",
       "version_major": 2,
       "version_minor": 0
      },
      "text/plain": [
       "Загружен nash-dom\\e983c819-b06f-42f8-a09b-4521281f44a4:   0%|          | 0.00/145k [00:00<?, ?B/s]"
      ]
     },
     "metadata": {},
     "output_type": "display_data"
    },
    {
     "data": {
      "application/vnd.jupyter.widget-view+json": {
       "model_id": "b697b988efc546c8a38d55d9ef783bf1",
       "version_major": 2,
       "version_minor": 0
      },
      "text/plain": [
       "Загружен nash-dom\\9627119f-1bba-46c4-972f-6a51afa492a4:   0%|          | 0.00/164k [00:00<?, ?B/s]"
      ]
     },
     "metadata": {},
     "output_type": "display_data"
    },
    {
     "data": {
      "application/vnd.jupyter.widget-view+json": {
       "model_id": "147796b9d8cf4abeb430f7912c671304",
       "version_major": 2,
       "version_minor": 0
      },
      "text/plain": [
       "Загружен nash-dom\\72540057-5b6e-48a3-8542-995ee01d5ef4:   0%|          | 0.00/272k [00:00<?, ?B/s]"
      ]
     },
     "metadata": {},
     "output_type": "display_data"
    },
    {
     "data": {
      "application/vnd.jupyter.widget-view+json": {
       "model_id": "bfe28a5d65294074a0f336ed4495e819",
       "version_major": 2,
       "version_minor": 0
      },
      "text/plain": [
       "Загружен nash-dom\\f94b5fa1-a93f-4bfc-a362-2a84e57f9361:   0%|          | 0.00/69.1k [00:00<?, ?B/s]"
      ]
     },
     "metadata": {},
     "output_type": "display_data"
    },
    {
     "data": {
      "application/vnd.jupyter.widget-view+json": {
       "model_id": "968d66eebfb44588829d99821032c7ef",
       "version_major": 2,
       "version_minor": 0
      },
      "text/plain": [
       "Загружен nash-dom\\98f5a273-a1a7-4907-9b6c-cf6dbe38231d:   0%|          | 0.00/156k [00:00<?, ?B/s]"
      ]
     },
     "metadata": {},
     "output_type": "display_data"
    },
    {
     "data": {
      "application/vnd.jupyter.widget-view+json": {
       "model_id": "177e2ed282d945c0ab5f91ef33c06c0b",
       "version_major": 2,
       "version_minor": 0
      },
      "text/plain": [
       "Загружен nash-dom\\7d849cbe-13fc-4e68-967b-e418517f41da:   0%|          | 0.00/965k [00:00<?, ?B/s]"
      ]
     },
     "metadata": {},
     "output_type": "display_data"
    },
    {
     "data": {
      "application/vnd.jupyter.widget-view+json": {
       "model_id": "811391c61c0d4464a19ed6f1e597c57a",
       "version_major": 2,
       "version_minor": 0
      },
      "text/plain": [
       "Загружен nash-dom\\c1169b86-1071-45d0-a1de-b2d1dadd142f:   0%|          | 0.00/960k [00:00<?, ?B/s]"
      ]
     },
     "metadata": {},
     "output_type": "display_data"
    },
    {
     "data": {
      "application/vnd.jupyter.widget-view+json": {
       "model_id": "671f3f689c4547b69a680309fb46cdae",
       "version_major": 2,
       "version_minor": 0
      },
      "text/plain": [
       "Загружен nash-dom\\ab54279f-12de-421c-b91c-230d57c40411:   0%|          | 0.00/1.04M [00:00<?, ?B/s]"
      ]
     },
     "metadata": {},
     "output_type": "display_data"
    },
    {
     "data": {
      "application/vnd.jupyter.widget-view+json": {
       "model_id": "f667adcdbebc482db4f15f827e0df8b9",
       "version_major": 2,
       "version_minor": 0
      },
      "text/plain": [
       "Загружен nash-dom\\2682da65-7930-4364-a734-26171597ddf7:   0%|          | 0.00/964k [00:00<?, ?B/s]"
      ]
     },
     "metadata": {},
     "output_type": "display_data"
    },
    {
     "data": {
      "application/vnd.jupyter.widget-view+json": {
       "model_id": "b8f966422aed482ab9d0865565f552a6",
       "version_major": 2,
       "version_minor": 0
      },
      "text/plain": [
       "Загружен nash-dom\\60f7ddb7-b798-4df0-b2f5-3250049c6b3b:   0%|          | 0.00/1.01M [00:00<?, ?B/s]"
      ]
     },
     "metadata": {},
     "output_type": "display_data"
    },
    {
     "data": {
      "application/vnd.jupyter.widget-view+json": {
       "model_id": "678059e983b94cecb05cdfbe1ff65f35",
       "version_major": 2,
       "version_minor": 0
      },
      "text/plain": [
       "Загружен nash-dom\\e2474f29-549a-456a-ba40-13743b5c3787:   0%|          | 0.00/981k [00:00<?, ?B/s]"
      ]
     },
     "metadata": {},
     "output_type": "display_data"
    },
    {
     "data": {
      "application/vnd.jupyter.widget-view+json": {
       "model_id": "e9314951b0e14a4e93ed069d3caa97a2",
       "version_major": 2,
       "version_minor": 0
      },
      "text/plain": [
       "Загружен nash-dom\\3d8f9a25-81cd-425e-85c0-f37949484341:   0%|          | 0.00/1.14M [00:00<?, ?B/s]"
      ]
     },
     "metadata": {},
     "output_type": "display_data"
    },
    {
     "data": {
      "application/vnd.jupyter.widget-view+json": {
       "model_id": "38b1be6a960d471e910d8ba6edb5ba91",
       "version_major": 2,
       "version_minor": 0
      },
      "text/plain": [
       "Загружен nash-dom\\6ffe9243-852c-42d7-8a39-c5cdb2f1cc7b:   0%|          | 0.00/1.23M [00:00<?, ?B/s]"
      ]
     },
     "metadata": {},
     "output_type": "display_data"
    },
    {
     "data": {
      "application/vnd.jupyter.widget-view+json": {
       "model_id": "35cd72cd80414a4584ab3398126df112",
       "version_major": 2,
       "version_minor": 0
      },
      "text/plain": [
       "Загружен nash-dom\\6efbb572-b123-4dd9-82de-6e8b86a0f67c:   0%|          | 0.00/352k [00:00<?, ?B/s]"
      ]
     },
     "metadata": {},
     "output_type": "display_data"
    },
    {
     "data": {
      "application/vnd.jupyter.widget-view+json": {
       "model_id": "72b9f6a7409940a2888a37d820cab8ea",
       "version_major": 2,
       "version_minor": 0
      },
      "text/plain": [
       "Загружен nash-dom\\643604d5-b169-4e39-8ea8-139f3b944807:   0%|          | 0.00/474k [00:00<?, ?B/s]"
      ]
     },
     "metadata": {},
     "output_type": "display_data"
    },
    {
     "data": {
      "application/vnd.jupyter.widget-view+json": {
       "model_id": "8b66e9aae400475f949ca2c8f949022e",
       "version_major": 2,
       "version_minor": 0
      },
      "text/plain": [
       "Загружен nash-dom\\2f7f1d75-c531-440e-b7cf-81033b5fbc91:   0%|          | 0.00/1.21M [00:00<?, ?B/s]"
      ]
     },
     "metadata": {},
     "output_type": "display_data"
    },
    {
     "data": {
      "application/vnd.jupyter.widget-view+json": {
       "model_id": "698f41a46a5e426fa1c1912db28593a6",
       "version_major": 2,
       "version_minor": 0
      },
      "text/plain": [
       "Загружен nash-dom\\b9defe89-2247-4b68-9ebe-991983f7f3f8:   0%|          | 0.00/1.07M [00:00<?, ?B/s]"
      ]
     },
     "metadata": {},
     "output_type": "display_data"
    },
    {
     "data": {
      "application/vnd.jupyter.widget-view+json": {
       "model_id": "df61563e5b734baca442fd91bb79a2b3",
       "version_major": 2,
       "version_minor": 0
      },
      "text/plain": [
       "Загружен nash-dom\\861aceb8-d2a5-415e-89d2-f23c66f7e31c:   0%|          | 0.00/415k [00:00<?, ?B/s]"
      ]
     },
     "metadata": {},
     "output_type": "display_data"
    },
    {
     "data": {
      "application/vnd.jupyter.widget-view+json": {
       "model_id": "8e3d93d1f0d245b68c6d632735378ee8",
       "version_major": 2,
       "version_minor": 0
      },
      "text/plain": [
       "Загружен nash-dom\\54547d1d-fab6-40fe-9c82-e93005f777e8:   0%|          | 0.00/1.15M [00:00<?, ?B/s]"
      ]
     },
     "metadata": {},
     "output_type": "display_data"
    },
    {
     "data": {
      "application/vnd.jupyter.widget-view+json": {
       "model_id": "58bd5bcdd9a445f6a21e21063c68958c",
       "version_major": 2,
       "version_minor": 0
      },
      "text/plain": [
       "Загружен nash-dom\\638dcc15-9270-45fb-a299-bd5e5cf960a3:   0%|          | 0.00/2.70M [00:00<?, ?B/s]"
      ]
     },
     "metadata": {},
     "output_type": "display_data"
    },
    {
     "data": {
      "application/vnd.jupyter.widget-view+json": {
       "model_id": "adf8a2322d6a4bf483a9cc89344ea03c",
       "version_major": 2,
       "version_minor": 0
      },
      "text/plain": [
       "Загружен nash-dom\\da49d22a-8ad8-4090-b705-0bde4f6682af:   0%|          | 0.00/4.02M [00:00<?, ?B/s]"
      ]
     },
     "metadata": {},
     "output_type": "display_data"
    },
    {
     "data": {
      "application/vnd.jupyter.widget-view+json": {
       "model_id": "81538ff14cd84e1caaf48013dafd126e",
       "version_major": 2,
       "version_minor": 0
      },
      "text/plain": [
       "Загружен nash-dom\\d4ec9e17-a8ac-4e12-8104-1682f06ec19a:   0%|          | 0.00/1.58M [00:00<?, ?B/s]"
      ]
     },
     "metadata": {},
     "output_type": "display_data"
    },
    {
     "data": {
      "application/vnd.jupyter.widget-view+json": {
       "model_id": "077704649b5046ef89d553d0e7d743f1",
       "version_major": 2,
       "version_minor": 0
      },
      "text/plain": [
       "Загружен nash-dom\\7098f8d9-d961-426f-a7e4-3bfdb58239de:   0%|          | 0.00/4.99M [00:00<?, ?B/s]"
      ]
     },
     "metadata": {},
     "output_type": "display_data"
    },
    {
     "data": {
      "application/vnd.jupyter.widget-view+json": {
       "model_id": "b86b2cdbd7f64392972a2989f29da730",
       "version_major": 2,
       "version_minor": 0
      },
      "text/plain": [
       "Загружен nash-dom\\b55c2161-d724-469a-b2c6-b9355a69cff2:   0%|          | 0.00/1.54M [00:00<?, ?B/s]"
      ]
     },
     "metadata": {},
     "output_type": "display_data"
    },
    {
     "data": {
      "application/vnd.jupyter.widget-view+json": {
       "model_id": "bb92e5c34fd64319927004a5a2c16049",
       "version_major": 2,
       "version_minor": 0
      },
      "text/plain": [
       "Загружен nash-dom\\c8f3946b-4088-4c0c-8219-d1910630372a:   0%|          | 0.00/4.20M [00:00<?, ?B/s]"
      ]
     },
     "metadata": {},
     "output_type": "display_data"
    },
    {
     "data": {
      "application/vnd.jupyter.widget-view+json": {
       "model_id": "358459251f804cfca45c708f2bfba066",
       "version_major": 2,
       "version_minor": 0
      },
      "text/plain": [
       "Загружен nash-dom\\a45e511b-d042-41ba-ac88-25c5293f7dcc:   0%|          | 0.00/4.30M [00:00<?, ?B/s]"
      ]
     },
     "metadata": {},
     "output_type": "display_data"
    },
    {
     "data": {
      "application/vnd.jupyter.widget-view+json": {
       "model_id": "2c77c87fe13f42c0b28a67ec1aa8ef13",
       "version_major": 2,
       "version_minor": 0
      },
      "text/plain": [
       "Загружен nash-dom\\0450f9c1-118b-489b-94e2-0ae817f8a9e7:   0%|          | 0.00/1.51M [00:00<?, ?B/s]"
      ]
     },
     "metadata": {},
     "output_type": "display_data"
    },
    {
     "data": {
      "application/vnd.jupyter.widget-view+json": {
       "model_id": "1be5b5551b114504837a0c822550ceae",
       "version_major": 2,
       "version_minor": 0
      },
      "text/plain": [
       "Загружен nash-dom\\424940b1-5c08-45c8-b463-ecf4e19ffeec:   0%|          | 0.00/3.93M [00:00<?, ?B/s]"
      ]
     },
     "metadata": {},
     "output_type": "display_data"
    },
    {
     "data": {
      "application/vnd.jupyter.widget-view+json": {
       "model_id": "64daf5aceea74677ad8c69108429f49f",
       "version_major": 2,
       "version_minor": 0
      },
      "text/plain": [
       "Загружен nash-dom\\617d7c82-5a80-428a-8d62-a300cdf27649:   0%|          | 0.00/4.35M [00:00<?, ?B/s]"
      ]
     },
     "metadata": {},
     "output_type": "display_data"
    },
    {
     "data": {
      "application/vnd.jupyter.widget-view+json": {
       "model_id": "0382d62a86d14823af5a8735c0bef1e3",
       "version_major": 2,
       "version_minor": 0
      },
      "text/plain": [
       "Загружен nash-dom\\85acbbf0-054e-445c-8dc3-bc78babbcbd5:   0%|          | 0.00/4.64M [00:00<?, ?B/s]"
      ]
     },
     "metadata": {},
     "output_type": "display_data"
    },
    {
     "data": {
      "application/vnd.jupyter.widget-view+json": {
       "model_id": "2ce0b0c518f84a4eaa3d12c2682ef1c3",
       "version_major": 2,
       "version_minor": 0
      },
      "text/plain": [
       "Получено изображение:   0%|          | 0/74 [00:00<?, ?it/s]"
      ]
     },
     "metadata": {},
     "output_type": "display_data"
    },
    {
     "data": {
      "application/vnd.jupyter.widget-view+json": {
       "model_id": "6316331166a148938b222f93ef326dba",
       "version_major": 2,
       "version_minor": 0
      },
      "text/plain": [
       "Загружен nash-dom\\47282070:   0%|          | 0.00/43.0 [00:00<?, ?B/s]"
      ]
     },
     "metadata": {},
     "output_type": "display_data"
    },
    {
     "data": {
      "application/vnd.jupyter.widget-view+json": {
       "model_id": "a95a0ed7b535456cb2a6174547ced5ff",
       "version_major": 2,
       "version_minor": 0
      },
      "text/plain": [
       "Загружен nash-dom\\b5163dc9-a1f3-4d64-924a-87088f6c9373:   0%|          | 0.00/6.50M [00:00<?, ?B/s]"
      ]
     },
     "metadata": {},
     "output_type": "display_data"
    },
    {
     "data": {
      "application/vnd.jupyter.widget-view+json": {
       "model_id": "f3949769ca8c4260b3b200c553a2deb9",
       "version_major": 2,
       "version_minor": 0
      },
      "text/plain": [
       "Загружен nash-dom\\771f996c-dabe-42dc-83d8-59acaaa37b9a:   0%|          | 0.00/896k [00:00<?, ?B/s]"
      ]
     },
     "metadata": {},
     "output_type": "display_data"
    },
    {
     "data": {
      "application/vnd.jupyter.widget-view+json": {
       "model_id": "6f1b35392fdf4ec1bf23608e528f5ec7",
       "version_major": 2,
       "version_minor": 0
      },
      "text/plain": [
       "Загружен nash-dom\\49fa6ee7-34b0-4b1e-8c85-040f62820d3f:   0%|          | 0.00/962k [00:00<?, ?B/s]"
      ]
     },
     "metadata": {},
     "output_type": "display_data"
    },
    {
     "data": {
      "application/vnd.jupyter.widget-view+json": {
       "model_id": "d69ac7ff705b4d4bbdeb01e9c50c8be5",
       "version_major": 2,
       "version_minor": 0
      },
      "text/plain": [
       "Загружен nash-dom\\83f54d2b-f495-451d-90a0-ffb12757c9ec:   0%|          | 0.00/1.22M [00:00<?, ?B/s]"
      ]
     },
     "metadata": {},
     "output_type": "display_data"
    },
    {
     "data": {
      "application/vnd.jupyter.widget-view+json": {
       "model_id": "5eb913ff80b4465a8eaab8557678450b",
       "version_major": 2,
       "version_minor": 0
      },
      "text/plain": [
       "Загружен nash-dom\\b0cbd183-d454-4741-b0de-f2be5e2e8e27:   0%|          | 0.00/668k [00:00<?, ?B/s]"
      ]
     },
     "metadata": {},
     "output_type": "display_data"
    },
    {
     "data": {
      "application/vnd.jupyter.widget-view+json": {
       "model_id": "ab09489b2a054c8ab502814dcd3e3fa9",
       "version_major": 2,
       "version_minor": 0
      },
      "text/plain": [
       "Загружен nash-dom\\c86bd15a-7019-47fe-8669-69e89c061dda:   0%|          | 0.00/179k [00:00<?, ?B/s]"
      ]
     },
     "metadata": {},
     "output_type": "display_data"
    },
    {
     "data": {
      "application/vnd.jupyter.widget-view+json": {
       "model_id": "98e74114e7e544bb964c79bcbd6f4580",
       "version_major": 2,
       "version_minor": 0
      },
      "text/plain": [
       "Загружен nash-dom\\8b43da82-922a-40dc-ac41-7575b2244571:   0%|          | 0.00/847k [00:00<?, ?B/s]"
      ]
     },
     "metadata": {},
     "output_type": "display_data"
    },
    {
     "data": {
      "application/vnd.jupyter.widget-view+json": {
       "model_id": "b8861d2828804dacb0c01ad22bc0157d",
       "version_major": 2,
       "version_minor": 0
      },
      "text/plain": [
       "Загружен nash-dom\\482713e6-87aa-478a-afa8-6ae5bfdacce3:   0%|          | 0.00/713k [00:00<?, ?B/s]"
      ]
     },
     "metadata": {},
     "output_type": "display_data"
    },
    {
     "data": {
      "application/vnd.jupyter.widget-view+json": {
       "model_id": "32cb8eef323548acb03a6a9bf5a3ceee",
       "version_major": 2,
       "version_minor": 0
      },
      "text/plain": [
       "Загружен nash-dom\\3941bae3-f879-4e59-a726-fc3a71dc18d1:   0%|          | 0.00/636k [00:00<?, ?B/s]"
      ]
     },
     "metadata": {},
     "output_type": "display_data"
    },
    {
     "data": {
      "application/vnd.jupyter.widget-view+json": {
       "model_id": "5d532e8da7524425b17d30662b1c24b7",
       "version_major": 2,
       "version_minor": 0
      },
      "text/plain": [
       "Загружен nash-dom\\b741e04e-6cd8-4f98-a859-4314ef343d23:   0%|          | 0.00/6.66M [00:00<?, ?B/s]"
      ]
     },
     "metadata": {},
     "output_type": "display_data"
    },
    {
     "data": {
      "application/vnd.jupyter.widget-view+json": {
       "model_id": "6c926164b22145d191c023dd54666080",
       "version_major": 2,
       "version_minor": 0
      },
      "text/plain": [
       "Загружен nash-dom\\7d422199-a027-4eda-9cbf-2d0edf5c4b1e:   0%|          | 0.00/1.80M [00:00<?, ?B/s]"
      ]
     },
     "metadata": {},
     "output_type": "display_data"
    },
    {
     "data": {
      "application/vnd.jupyter.widget-view+json": {
       "model_id": "121033a00ba74cdfb66636ea8902e0ad",
       "version_major": 2,
       "version_minor": 0
      },
      "text/plain": [
       "Загружен nash-dom\\0ddafa28-1667-48f8-a212-f0021cae7183:   0%|          | 0.00/1.74M [00:00<?, ?B/s]"
      ]
     },
     "metadata": {},
     "output_type": "display_data"
    },
    {
     "data": {
      "application/vnd.jupyter.widget-view+json": {
       "model_id": "f5f50b8bd68a4ac8aee5e557defe42d0",
       "version_major": 2,
       "version_minor": 0
      },
      "text/plain": [
       "Загружен nash-dom\\2996789e-f304-4dfe-bdf1-65781b900e3c:   0%|          | 0.00/1.77M [00:00<?, ?B/s]"
      ]
     },
     "metadata": {},
     "output_type": "display_data"
    },
    {
     "data": {
      "application/vnd.jupyter.widget-view+json": {
       "model_id": "362eb30043b349749e8d7b1caa9ca764",
       "version_major": 2,
       "version_minor": 0
      },
      "text/plain": [
       "Загружен nash-dom\\d71560a8-8d0f-4688-bea5-07b2a2f32cf7:   0%|          | 0.00/2.67M [00:00<?, ?B/s]"
      ]
     },
     "metadata": {},
     "output_type": "display_data"
    },
    {
     "data": {
      "application/vnd.jupyter.widget-view+json": {
       "model_id": "28a04ddd91494b0aa19ce8e0b0493a17",
       "version_major": 2,
       "version_minor": 0
      },
      "text/plain": [
       "Загружен nash-dom\\b1ddd907-6502-4809-a1c0-a72c39170086:   0%|          | 0.00/1.34M [00:00<?, ?B/s]"
      ]
     },
     "metadata": {},
     "output_type": "display_data"
    },
    {
     "data": {
      "application/vnd.jupyter.widget-view+json": {
       "model_id": "326b0b6d94b64b8dbf1f4000a2624ad1",
       "version_major": 2,
       "version_minor": 0
      },
      "text/plain": [
       "Загружен nash-dom\\c1f46493-a8cf-4f90-81bf-3ea8e9698f93:   0%|          | 0.00/1.31M [00:00<?, ?B/s]"
      ]
     },
     "metadata": {},
     "output_type": "display_data"
    },
    {
     "data": {
      "application/vnd.jupyter.widget-view+json": {
       "model_id": "e9a8d17bc2d8469da8dcfe55cdf7786e",
       "version_major": 2,
       "version_minor": 0
      },
      "text/plain": [
       "Загружен nash-dom\\9e78916f-fe1c-4858-a3f0-0acf1c1bbaba:   0%|          | 0.00/2.24M [00:00<?, ?B/s]"
      ]
     },
     "metadata": {},
     "output_type": "display_data"
    },
    {
     "data": {
      "application/vnd.jupyter.widget-view+json": {
       "model_id": "69cd7e374ee6436498bb655f38a2479b",
       "version_major": 2,
       "version_minor": 0
      },
      "text/plain": [
       "Загружен nash-dom\\6b578f93-f1a0-46cb-af3e-02a2a26a8eda:   0%|          | 0.00/1.86M [00:00<?, ?B/s]"
      ]
     },
     "metadata": {},
     "output_type": "display_data"
    },
    {
     "data": {
      "application/vnd.jupyter.widget-view+json": {
       "model_id": "9340c82a55e342f7a9e038e94a1e28de",
       "version_major": 2,
       "version_minor": 0
      },
      "text/plain": [
       "Загружен nash-dom\\aa5e468a-b6e9-4dc2-b801-bf29b2b4f578:   0%|          | 0.00/1.88M [00:00<?, ?B/s]"
      ]
     },
     "metadata": {},
     "output_type": "display_data"
    },
    {
     "data": {
      "application/vnd.jupyter.widget-view+json": {
       "model_id": "4ccdd1c2995f4415adffff9b5e35aad4",
       "version_major": 2,
       "version_minor": 0
      },
      "text/plain": [
       "Загружен nash-dom\\147fa61c-e77d-4071-aab6-79f4a1970736:   0%|          | 0.00/2.64M [00:00<?, ?B/s]"
      ]
     },
     "metadata": {},
     "output_type": "display_data"
    },
    {
     "data": {
      "application/vnd.jupyter.widget-view+json": {
       "model_id": "e85d5a51823c4b48bd20fcae6eaa76be",
       "version_major": 2,
       "version_minor": 0
      },
      "text/plain": [
       "Загружен nash-dom\\65cee407-0065-4a47-9ed1-301fa1704de6:   0%|          | 0.00/1.39M [00:00<?, ?B/s]"
      ]
     },
     "metadata": {},
     "output_type": "display_data"
    },
    {
     "data": {
      "application/vnd.jupyter.widget-view+json": {
       "model_id": "dd4aee5eb4414089b10cb4a2515a3e9e",
       "version_major": 2,
       "version_minor": 0
      },
      "text/plain": [
       "Загружен nash-dom\\e2a32da8-3dab-49b2-8344-5f086f4498c8:   0%|          | 0.00/1.30M [00:00<?, ?B/s]"
      ]
     },
     "metadata": {},
     "output_type": "display_data"
    },
    {
     "data": {
      "application/vnd.jupyter.widget-view+json": {
       "model_id": "eba62b99e4034941afc3bce5278d8881",
       "version_major": 2,
       "version_minor": 0
      },
      "text/plain": [
       "Загружен nash-dom\\9f020f43-6ebf-4243-b266-e6f5c48f4012:   0%|          | 0.00/668k [00:00<?, ?B/s]"
      ]
     },
     "metadata": {},
     "output_type": "display_data"
    },
    {
     "data": {
      "application/vnd.jupyter.widget-view+json": {
       "model_id": "707dc481948540048933e5a56bf38fe5",
       "version_major": 2,
       "version_minor": 0
      },
      "text/plain": [
       "Загружен nash-dom\\0f73a8c4-36bd-40af-87ba-27d0249ed929:   0%|          | 0.00/599k [00:00<?, ?B/s]"
      ]
     },
     "metadata": {},
     "output_type": "display_data"
    },
    {
     "data": {
      "application/vnd.jupyter.widget-view+json": {
       "model_id": "22db8a55c42d481cb48d2979cd3803f2",
       "version_major": 2,
       "version_minor": 0
      },
      "text/plain": [
       "Загружен nash-dom\\658a239b-1737-4bc9-837b-61ae43a73224:   0%|          | 0.00/252k [00:00<?, ?B/s]"
      ]
     },
     "metadata": {},
     "output_type": "display_data"
    },
    {
     "data": {
      "application/vnd.jupyter.widget-view+json": {
       "model_id": "3cb7acddb91840a49026600ff92e5981",
       "version_major": 2,
       "version_minor": 0
      },
      "text/plain": [
       "Загружен nash-dom\\6743ce2c-798a-4b59-8cc3-0cbf7b63bc3b:   0%|          | 0.00/1.62M [00:00<?, ?B/s]"
      ]
     },
     "metadata": {},
     "output_type": "display_data"
    },
    {
     "data": {
      "application/vnd.jupyter.widget-view+json": {
       "model_id": "1842924d929e4a4587db9e53eae04680",
       "version_major": 2,
       "version_minor": 0
      },
      "text/plain": [
       "Загружен nash-dom\\25bc7f27-cc80-45fa-9654-d0f56c353092:   0%|          | 0.00/1.41M [00:00<?, ?B/s]"
      ]
     },
     "metadata": {},
     "output_type": "display_data"
    },
    {
     "data": {
      "application/vnd.jupyter.widget-view+json": {
       "model_id": "6f0b916f6b5e4c468ce20c5dc5bbc76f",
       "version_major": 2,
       "version_minor": 0
      },
      "text/plain": [
       "Загружен nash-dom\\62ea34ce-c43a-4029-8832-4ee9c6cbde4b:   0%|          | 0.00/1.36M [00:00<?, ?B/s]"
      ]
     },
     "metadata": {},
     "output_type": "display_data"
    },
    {
     "data": {
      "application/vnd.jupyter.widget-view+json": {
       "model_id": "fd0c3f5db4494091a33ef112be22e28d",
       "version_major": 2,
       "version_minor": 0
      },
      "text/plain": [
       "Загружен nash-dom\\3b642831-c972-4b54-937c-12f6d6b76a1a:   0%|          | 0.00/2.06M [00:00<?, ?B/s]"
      ]
     },
     "metadata": {},
     "output_type": "display_data"
    },
    {
     "data": {
      "application/vnd.jupyter.widget-view+json": {
       "model_id": "3e404d9ed61c496e8a66016e357c4d64",
       "version_major": 2,
       "version_minor": 0
      },
      "text/plain": [
       "Загружен nash-dom\\e8612839-de2d-4a0b-81ec-c1b185251e0c:   0%|          | 0.00/1.87M [00:00<?, ?B/s]"
      ]
     },
     "metadata": {},
     "output_type": "display_data"
    },
    {
     "data": {
      "application/vnd.jupyter.widget-view+json": {
       "model_id": "b03e93182b754c64982d8e07874d727f",
       "version_major": 2,
       "version_minor": 0
      },
      "text/plain": [
       "Загружен nash-dom\\4d0bc5bf-5f04-4a57-aa42-35d427eb815a:   0%|          | 0.00/2.62M [00:00<?, ?B/s]"
      ]
     },
     "metadata": {},
     "output_type": "display_data"
    },
    {
     "data": {
      "application/vnd.jupyter.widget-view+json": {
       "model_id": "a13694e2600d40efa2313be7e19e9b3c",
       "version_major": 2,
       "version_minor": 0
      },
      "text/plain": [
       "Загружен nash-dom\\4570af67-2f18-432b-b1cc-1e484a5e8e36:   0%|          | 0.00/281k [00:00<?, ?B/s]"
      ]
     },
     "metadata": {},
     "output_type": "display_data"
    },
    {
     "data": {
      "application/vnd.jupyter.widget-view+json": {
       "model_id": "dcddb8b4fcc542ad94d7e634327d5b5a",
       "version_major": 2,
       "version_minor": 0
      },
      "text/plain": [
       "Загружен nash-dom\\15d07d5e-5235-4d85-a105-23089c2c3f00:   0%|          | 0.00/279k [00:00<?, ?B/s]"
      ]
     },
     "metadata": {},
     "output_type": "display_data"
    },
    {
     "data": {
      "application/vnd.jupyter.widget-view+json": {
       "model_id": "c3ab44c5624a48428df749200f7d1920",
       "version_major": 2,
       "version_minor": 0
      },
      "text/plain": [
       "Загружен nash-dom\\5ea5a881-e187-4b3b-9062-5a1f2cba60d1:   0%|          | 0.00/1.55M [00:00<?, ?B/s]"
      ]
     },
     "metadata": {},
     "output_type": "display_data"
    },
    {
     "data": {
      "application/vnd.jupyter.widget-view+json": {
       "model_id": "ebc784cfd1084589bc2644a792357f2c",
       "version_major": 2,
       "version_minor": 0
      },
      "text/plain": [
       "Загружен nash-dom\\55291dfc-65e1-4395-8b53-406f4237349e:   0%|          | 0.00/1.25M [00:00<?, ?B/s]"
      ]
     },
     "metadata": {},
     "output_type": "display_data"
    },
    {
     "data": {
      "application/vnd.jupyter.widget-view+json": {
       "model_id": "e3446d4b19614ab6b016f7e76b4db898",
       "version_major": 2,
       "version_minor": 0
      },
      "text/plain": [
       "Загружен nash-dom\\1ea87151-cac4-42f3-b165-1ec01371fb34:   0%|          | 0.00/1.58M [00:00<?, ?B/s]"
      ]
     },
     "metadata": {},
     "output_type": "display_data"
    },
    {
     "data": {
      "application/vnd.jupyter.widget-view+json": {
       "model_id": "982c3c2cc3f74e6fb2e208208f43bc6e",
       "version_major": 2,
       "version_minor": 0
      },
      "text/plain": [
       "Загружен nash-dom\\134cc228-8e30-4ff6-8629-04aef2e3e5a1:   0%|          | 0.00/1.62M [00:00<?, ?B/s]"
      ]
     },
     "metadata": {},
     "output_type": "display_data"
    },
    {
     "data": {
      "application/vnd.jupyter.widget-view+json": {
       "model_id": "bd52e7ee20974f4e995338f4b09a88b0",
       "version_major": 2,
       "version_minor": 0
      },
      "text/plain": [
       "Загружен nash-dom\\2e1670a5-5ffb-45c3-a45a-46856ffbce89:   0%|          | 0.00/1.40M [00:00<?, ?B/s]"
      ]
     },
     "metadata": {},
     "output_type": "display_data"
    },
    {
     "data": {
      "application/vnd.jupyter.widget-view+json": {
       "model_id": "43d0b1d3f93547daa06ab7321e2dc318",
       "version_major": 2,
       "version_minor": 0
      },
      "text/plain": [
       "Загружен nash-dom\\6e5bfa19-175d-49cd-9dc7-7bd52928b447:   0%|          | 0.00/1.26M [00:00<?, ?B/s]"
      ]
     },
     "metadata": {},
     "output_type": "display_data"
    },
    {
     "data": {
      "application/vnd.jupyter.widget-view+json": {
       "model_id": "1a3b1337d50047c894a998d1560c8d7b",
       "version_major": 2,
       "version_minor": 0
      },
      "text/plain": [
       "Загружен nash-dom\\d8a7287e-8720-4a94-a9e7-e86cbcb57b08:   0%|          | 0.00/1.10M [00:00<?, ?B/s]"
      ]
     },
     "metadata": {},
     "output_type": "display_data"
    },
    {
     "data": {
      "application/vnd.jupyter.widget-view+json": {
       "model_id": "ef3a146b0b7748b1af1293a463313265",
       "version_major": 2,
       "version_minor": 0
      },
      "text/plain": [
       "Загружен nash-dom\\eab2d676-02b4-46fe-bd2b-a52a99247b70:   0%|          | 0.00/1.61M [00:00<?, ?B/s]"
      ]
     },
     "metadata": {},
     "output_type": "display_data"
    },
    {
     "data": {
      "application/vnd.jupyter.widget-view+json": {
       "model_id": "f45a4952e76b4ffb8ab23802afaa1bec",
       "version_major": 2,
       "version_minor": 0
      },
      "text/plain": [
       "Загружен nash-dom\\46f068fa-d225-419c-9673-95b85173e03c:   0%|          | 0.00/1.21M [00:00<?, ?B/s]"
      ]
     },
     "metadata": {},
     "output_type": "display_data"
    },
    {
     "data": {
      "application/vnd.jupyter.widget-view+json": {
       "model_id": "3c44ef7539e54a91af6702e56d83530b",
       "version_major": 2,
       "version_minor": 0
      },
      "text/plain": [
       "Загружен nash-dom\\59d7374e-8509-437b-9d2e-ffa8e3205845:   0%|          | 0.00/1.93M [00:00<?, ?B/s]"
      ]
     },
     "metadata": {},
     "output_type": "display_data"
    },
    {
     "data": {
      "application/vnd.jupyter.widget-view+json": {
       "model_id": "c691fdfc7fcb4b21978f48384d6b4fb0",
       "version_major": 2,
       "version_minor": 0
      },
      "text/plain": [
       "Загружен nash-dom\\6817f548-b064-45c6-9944-2b6ec4224b9c:   0%|          | 0.00/1.38M [00:00<?, ?B/s]"
      ]
     },
     "metadata": {},
     "output_type": "display_data"
    },
    {
     "data": {
      "application/vnd.jupyter.widget-view+json": {
       "model_id": "b1a89b6abd5148cb923882c9c9530039",
       "version_major": 2,
       "version_minor": 0
      },
      "text/plain": [
       "Загружен nash-dom\\557931d7-76f5-4fb5-a3e1-64b6ad30eece:   0%|          | 0.00/787k [00:00<?, ?B/s]"
      ]
     },
     "metadata": {},
     "output_type": "display_data"
    }
   ],
   "source": [
    "# скачаем первые 10 фото объектов\n",
    "for id in tqdm(df.objId[0:10]):\n",
    "    url = f'https://наш.дом.рф/сервисы/каталог-новостроек/объект/{id}'\n",
    "    main(url, \"nash-dom\")"
   ]
  }
 ],
 "metadata": {
  "kernelspec": {
   "display_name": "Python 3 (ipykernel)",
   "language": "python",
   "name": "python3"
  },
  "language_info": {
   "codemirror_mode": {
    "name": "ipython",
    "version": 3
   },
   "file_extension": ".py",
   "mimetype": "text/x-python",
   "name": "python",
   "nbconvert_exporter": "python",
   "pygments_lexer": "ipython3",
   "version": "3.9.12"
  }
 },
 "nbformat": 4,
 "nbformat_minor": 4
}
