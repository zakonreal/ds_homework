{
 "cells": [
  {
   "cell_type": "markdown",
   "metadata": {
    "pycharm": {
     "name": "#%% md\n"
    }
   },
   "source": [
    "[![Open In Colab](https://colab.research.google.com/assets/colab-badge.svg)](https://colab.research.google.com/github/ds-reboot/python-first-part/blob/main/notebooks/hometasks/Task1_dmrf.ipynb)"
   ]
  },
  {
   "cell_type": "markdown",
   "metadata": {
    "pycharm": {
     "name": "#%% md\n"
    }
   },
   "source": [
    "# Задание\n",
    "* Собрать информацию о всех строящихся объектах на сайте \"наш.дом.рф\"\n",
    "* Cохранить ее в pandas dataframe\n",
    "* Cохранить pandas dataframe в excel\n",
    "* Cохранить pandas dataframe в pickle\n",
    "* Cохранить pandas dataframe в БД\n"
   ]
  },
  {
   "cell_type": "code",
   "execution_count": 4,
   "metadata": {
    "jupyter": {
     "outputs_hidden": false
    },
    "pycharm": {
     "name": "#%%\n"
    }
   },
   "outputs": [],
   "source": [
    "import requests\n",
    "import os\n",
    "import csv\n",
    "import pandas as pd\n",
    "from tqdm.auto import tqdm\n",
    "from bs4 import BeautifulSoup as bs\n",
    "from urllib.parse import urljoin, urlparse\n",
    "\n",
    "import warnings\n",
    "warnings.filterwarnings('ignore')"
   ]
  },
  {
   "cell_type": "markdown",
   "metadata": {
    "pycharm": {
     "name": "#%% md\n"
    }
   },
   "source": [
    "## Список объектов"
   ]
  },
  {
   "cell_type": "code",
   "execution_count": 5,
   "metadata": {
    "jupyter": {
     "outputs_hidden": false
    },
    "pycharm": {
     "name": "#%%\n"
    }
   },
   "outputs": [],
   "source": [
    "# скачиваем информацию о всех строящихся объектах на сайте \"наш.дом.рф\" в pandas dataframe\n",
    "\n",
    "offset = 0\n",
    "df = pd.DataFrame()\n",
    "\n",
    "while True:\n",
    "        \n",
    "        url = 'https://наш.дом.рф/сервисы/api/kn/object'\n",
    "        params = (\n",
    "                  ('offset', offset),\n",
    "                  ('limit', 100),\n",
    "                  ('sortField', 'devId.devShortCleanNm'),\n",
    "                  ('sortType', 'asc'),\n",
    "                  ('objStatus', '0')\n",
    "                 )\n",
    "         \n",
    "        response = requests.get(url, params = params)\n",
    "        reestr = response.json()\n",
    "        obj = reestr.get('data').get('list')\n",
    "         \n",
    "        if not obj:\n",
    "                   break\n",
    "     \n",
    "        df1 = pd.DataFrame(obj)\n",
    "        df1['developer'] = df1['developer'].apply(lambda x: x['shortName'])\n",
    "        df = df.append(df1, ignore_index=True)\n",
    "        \n",
    "        offset += 100"
   ]
  },
  {
   "cell_type": "code",
   "execution_count": 30,
   "metadata": {},
   "outputs": [
    {
     "data": {
      "text/html": [
       "<div>\n",
       "<style scoped>\n",
       "    .dataframe tbody tr th:only-of-type {\n",
       "        vertical-align: middle;\n",
       "    }\n",
       "\n",
       "    .dataframe tbody tr th {\n",
       "        vertical-align: top;\n",
       "    }\n",
       "\n",
       "    .dataframe thead th {\n",
       "        text-align: right;\n",
       "    }\n",
       "</style>\n",
       "<table border=\"1\" class=\"dataframe\">\n",
       "  <thead>\n",
       "    <tr style=\"text-align: right;\">\n",
       "      <th></th>\n",
       "      <th>objId</th>\n",
       "      <th>developer</th>\n",
       "      <th>rpdRegionCd</th>\n",
       "      <th>objAddr</th>\n",
       "      <th>objElemLivingCnt</th>\n",
       "      <th>objReady100PercDt</th>\n",
       "      <th>objSquareLiving</th>\n",
       "      <th>objCompensFundFlg</th>\n",
       "      <th>objProblemFlg</th>\n",
       "      <th>latitude</th>\n",
       "      <th>...</th>\n",
       "      <th>objGuarantyEscrowFlg</th>\n",
       "      <th>residentialBuildings</th>\n",
       "      <th>rpdNum</th>\n",
       "      <th>pdId</th>\n",
       "      <th>buildType</th>\n",
       "      <th>objStatus</th>\n",
       "      <th>objFloorMin</th>\n",
       "      <th>objFloorMax</th>\n",
       "      <th>objCommercNm</th>\n",
       "      <th>complexShortName</th>\n",
       "    </tr>\n",
       "  </thead>\n",
       "  <tbody>\n",
       "    <tr>\n",
       "      <th>0</th>\n",
       "      <td>29679</td>\n",
       "      <td>212-2</td>\n",
       "      <td>61</td>\n",
       "      <td>г Таганрог</td>\n",
       "      <td>18</td>\n",
       "      <td>2020-03-31</td>\n",
       "      <td>1519.00</td>\n",
       "      <td>0</td>\n",
       "      <td>0</td>\n",
       "      <td>47.2238</td>\n",
       "      <td>...</td>\n",
       "      <td>0</td>\n",
       "      <td>1</td>\n",
       "      <td>61-000818</td>\n",
       "      <td>124647</td>\n",
       "      <td>Жилое</td>\n",
       "      <td>0</td>\n",
       "      <td>NaN</td>\n",
       "      <td>NaN</td>\n",
       "      <td>NaN</td>\n",
       "      <td>NaN</td>\n",
       "    </tr>\n",
       "    <tr>\n",
       "      <th>1</th>\n",
       "      <td>13383</td>\n",
       "      <td>2МЕН ГРУПП</td>\n",
       "      <td>72</td>\n",
       "      <td>г Тюмень</td>\n",
       "      <td>68</td>\n",
       "      <td>2022-12-31</td>\n",
       "      <td>6293.78</td>\n",
       "      <td>1</td>\n",
       "      <td>0</td>\n",
       "      <td>57.1519</td>\n",
       "      <td>...</td>\n",
       "      <td>0</td>\n",
       "      <td>1</td>\n",
       "      <td>72-000095</td>\n",
       "      <td>28105</td>\n",
       "      <td>Жилое</td>\n",
       "      <td>0</td>\n",
       "      <td>4.0</td>\n",
       "      <td>20.0</td>\n",
       "      <td>NaN</td>\n",
       "      <td>NaN</td>\n",
       "    </tr>\n",
       "    <tr>\n",
       "      <th>2</th>\n",
       "      <td>13397</td>\n",
       "      <td>2МЕН ГРУПП</td>\n",
       "      <td>72</td>\n",
       "      <td>г Тюмень, ул Профсоюзная, д. 56</td>\n",
       "      <td>65</td>\n",
       "      <td>2024-12-31</td>\n",
       "      <td>6248.51</td>\n",
       "      <td>0</td>\n",
       "      <td>0</td>\n",
       "      <td>57.1519</td>\n",
       "      <td>...</td>\n",
       "      <td>0</td>\n",
       "      <td>1</td>\n",
       "      <td>72-000097</td>\n",
       "      <td>28141</td>\n",
       "      <td>Жилое</td>\n",
       "      <td>0</td>\n",
       "      <td>6.0</td>\n",
       "      <td>12.0</td>\n",
       "      <td>NaN</td>\n",
       "      <td>NaN</td>\n",
       "    </tr>\n",
       "    <tr>\n",
       "      <th>3</th>\n",
       "      <td>13399</td>\n",
       "      <td>2МЕН ГРУПП</td>\n",
       "      <td>72</td>\n",
       "      <td>г Тюмень, ул Профсоюзная, д. 56</td>\n",
       "      <td>0</td>\n",
       "      <td>2024-12-31</td>\n",
       "      <td>0.00</td>\n",
       "      <td>0</td>\n",
       "      <td>0</td>\n",
       "      <td>57.1519</td>\n",
       "      <td>...</td>\n",
       "      <td>0</td>\n",
       "      <td>0</td>\n",
       "      <td>72-000097</td>\n",
       "      <td>28141</td>\n",
       "      <td>Нежилое</td>\n",
       "      <td>0</td>\n",
       "      <td>1.0</td>\n",
       "      <td>1.0</td>\n",
       "      <td>NaN</td>\n",
       "      <td>NaN</td>\n",
       "    </tr>\n",
       "    <tr>\n",
       "      <th>4</th>\n",
       "      <td>13398</td>\n",
       "      <td>2МЕН ГРУПП</td>\n",
       "      <td>72</td>\n",
       "      <td>г Тюмень, ул Профсоюзная, д. 56</td>\n",
       "      <td>43</td>\n",
       "      <td>2024-12-31</td>\n",
       "      <td>4812.98</td>\n",
       "      <td>0</td>\n",
       "      <td>0</td>\n",
       "      <td>57.1519</td>\n",
       "      <td>...</td>\n",
       "      <td>0</td>\n",
       "      <td>1</td>\n",
       "      <td>72-000097</td>\n",
       "      <td>28141</td>\n",
       "      <td>Жилое</td>\n",
       "      <td>0</td>\n",
       "      <td>7.0</td>\n",
       "      <td>10.0</td>\n",
       "      <td>NaN</td>\n",
       "      <td>NaN</td>\n",
       "    </tr>\n",
       "    <tr>\n",
       "      <th>...</th>\n",
       "      <td>...</td>\n",
       "      <td>...</td>\n",
       "      <td>...</td>\n",
       "      <td>...</td>\n",
       "      <td>...</td>\n",
       "      <td>...</td>\n",
       "      <td>...</td>\n",
       "      <td>...</td>\n",
       "      <td>...</td>\n",
       "      <td>...</td>\n",
       "      <td>...</td>\n",
       "      <td>...</td>\n",
       "      <td>...</td>\n",
       "      <td>...</td>\n",
       "      <td>...</td>\n",
       "      <td>...</td>\n",
       "      <td>...</td>\n",
       "      <td>...</td>\n",
       "      <td>...</td>\n",
       "      <td>...</td>\n",
       "      <td>...</td>\n",
       "    </tr>\n",
       "    <tr>\n",
       "      <th>10587</th>\n",
       "      <td>28072</td>\n",
       "      <td>ЯРКИЙ МИР</td>\n",
       "      <td>50</td>\n",
       "      <td>г Котельники, район мкр.Ковровый, д.1-5, 24-29...</td>\n",
       "      <td>312</td>\n",
       "      <td>2024-06-30</td>\n",
       "      <td>14788.80</td>\n",
       "      <td>1</td>\n",
       "      <td>0</td>\n",
       "      <td>55.6591</td>\n",
       "      <td>...</td>\n",
       "      <td>0</td>\n",
       "      <td>1</td>\n",
       "      <td>50-001971</td>\n",
       "      <td>96379</td>\n",
       "      <td>Жилое</td>\n",
       "      <td>0</td>\n",
       "      <td>2.0</td>\n",
       "      <td>26.0</td>\n",
       "      <td>Жилой комплекс\"Томилинский бульвар\"</td>\n",
       "      <td>NaN</td>\n",
       "    </tr>\n",
       "    <tr>\n",
       "      <th>10588</th>\n",
       "      <td>28071</td>\n",
       "      <td>ЯРКИЙ МИР</td>\n",
       "      <td>50</td>\n",
       "      <td>г Котельники, район мкр.Ковровый, д.1-5, 24-29...</td>\n",
       "      <td>288</td>\n",
       "      <td>2024-06-30</td>\n",
       "      <td>14870.40</td>\n",
       "      <td>1</td>\n",
       "      <td>0</td>\n",
       "      <td>55.6603</td>\n",
       "      <td>...</td>\n",
       "      <td>0</td>\n",
       "      <td>1</td>\n",
       "      <td>50-002025</td>\n",
       "      <td>99284</td>\n",
       "      <td>Жилое</td>\n",
       "      <td>0</td>\n",
       "      <td>26.0</td>\n",
       "      <td>26.0</td>\n",
       "      <td>Жилой комплекс\"Томилинский бульвар\"</td>\n",
       "      <td>NaN</td>\n",
       "    </tr>\n",
       "    <tr>\n",
       "      <th>10589</th>\n",
       "      <td>28073</td>\n",
       "      <td>ЯРКИЙ МИР</td>\n",
       "      <td>50</td>\n",
       "      <td>г Котельники, район мкр.Ковровый, д.1-5, 24-29...</td>\n",
       "      <td>312</td>\n",
       "      <td>2024-06-30</td>\n",
       "      <td>14872.80</td>\n",
       "      <td>1</td>\n",
       "      <td>0</td>\n",
       "      <td>55.6611</td>\n",
       "      <td>...</td>\n",
       "      <td>0</td>\n",
       "      <td>1</td>\n",
       "      <td>50-001972</td>\n",
       "      <td>96446</td>\n",
       "      <td>Жилое</td>\n",
       "      <td>0</td>\n",
       "      <td>26.0</td>\n",
       "      <td>26.0</td>\n",
       "      <td>Жилой комплекс\"Томилинский бульвар\"</td>\n",
       "      <td>NaN</td>\n",
       "    </tr>\n",
       "    <tr>\n",
       "      <th>10590</th>\n",
       "      <td>44447</td>\n",
       "      <td>ЯРОСЛАВЛЬЗАКАЗЧИК</td>\n",
       "      <td>76</td>\n",
       "      <td>г Ярославль, Фрунзенский район, территория в р...</td>\n",
       "      <td>127</td>\n",
       "      <td>2022-12-31</td>\n",
       "      <td>6764.22</td>\n",
       "      <td>0</td>\n",
       "      <td>0</td>\n",
       "      <td>57.5679</td>\n",
       "      <td>...</td>\n",
       "      <td>1</td>\n",
       "      <td>1</td>\n",
       "      <td>76-000546</td>\n",
       "      <td>475093</td>\n",
       "      <td>Жилое</td>\n",
       "      <td>0</td>\n",
       "      <td>6.0</td>\n",
       "      <td>6.0</td>\n",
       "      <td>NaN</td>\n",
       "      <td>NaN</td>\n",
       "    </tr>\n",
       "    <tr>\n",
       "      <th>10591</th>\n",
       "      <td>45321</td>\n",
       "      <td>‹‹СЗ ‹‹СТРОЙ-НАДЕЖДА››</td>\n",
       "      <td>32</td>\n",
       "      <td>г Брянск, улица Молодой Гвардии, строение Поз.1</td>\n",
       "      <td>90</td>\n",
       "      <td>2023-03-31</td>\n",
       "      <td>5288.40</td>\n",
       "      <td>0</td>\n",
       "      <td>0</td>\n",
       "      <td>53.3129</td>\n",
       "      <td>...</td>\n",
       "      <td>1</td>\n",
       "      <td>1</td>\n",
       "      <td>32-000336</td>\n",
       "      <td>516648</td>\n",
       "      <td>Жилое</td>\n",
       "      <td>0</td>\n",
       "      <td>11.0</td>\n",
       "      <td>11.0</td>\n",
       "      <td>NaN</td>\n",
       "      <td>NaN</td>\n",
       "    </tr>\n",
       "  </tbody>\n",
       "</table>\n",
       "<p>10592 rows × 23 columns</p>\n",
       "</div>"
      ],
      "text/plain": [
       "       objId               developer  rpdRegionCd  \\\n",
       "0      29679                   212-2           61   \n",
       "1      13383              2МЕН ГРУПП           72   \n",
       "2      13397              2МЕН ГРУПП           72   \n",
       "3      13399              2МЕН ГРУПП           72   \n",
       "4      13398              2МЕН ГРУПП           72   \n",
       "...      ...                     ...          ...   \n",
       "10587  28072               ЯРКИЙ МИР           50   \n",
       "10588  28071               ЯРКИЙ МИР           50   \n",
       "10589  28073               ЯРКИЙ МИР           50   \n",
       "10590  44447       ЯРОСЛАВЛЬЗАКАЗЧИК           76   \n",
       "10591  45321  ‹‹СЗ ‹‹СТРОЙ-НАДЕЖДА››           32   \n",
       "\n",
       "                                                 objAddr  objElemLivingCnt  \\\n",
       "0                                             г Таганрог                18   \n",
       "1                                               г Тюмень                68   \n",
       "2                        г Тюмень, ул Профсоюзная, д. 56                65   \n",
       "3                        г Тюмень, ул Профсоюзная, д. 56                 0   \n",
       "4                        г Тюмень, ул Профсоюзная, д. 56                43   \n",
       "...                                                  ...               ...   \n",
       "10587  г Котельники, район мкр.Ковровый, д.1-5, 24-29...               312   \n",
       "10588  г Котельники, район мкр.Ковровый, д.1-5, 24-29...               288   \n",
       "10589  г Котельники, район мкр.Ковровый, д.1-5, 24-29...               312   \n",
       "10590  г Ярославль, Фрунзенский район, территория в р...               127   \n",
       "10591    г Брянск, улица Молодой Гвардии, строение Поз.1                90   \n",
       "\n",
       "      objReady100PercDt  objSquareLiving  objCompensFundFlg  objProblemFlg  \\\n",
       "0            2020-03-31          1519.00                  0              0   \n",
       "1            2022-12-31          6293.78                  1              0   \n",
       "2            2024-12-31          6248.51                  0              0   \n",
       "3            2024-12-31             0.00                  0              0   \n",
       "4            2024-12-31          4812.98                  0              0   \n",
       "...                 ...              ...                ...            ...   \n",
       "10587        2024-06-30         14788.80                  1              0   \n",
       "10588        2024-06-30         14870.40                  1              0   \n",
       "10589        2024-06-30         14872.80                  1              0   \n",
       "10590        2022-12-31          6764.22                  0              0   \n",
       "10591        2023-03-31          5288.40                  0              0   \n",
       "\n",
       "       latitude  ...  objGuarantyEscrowFlg residentialBuildings     rpdNum  \\\n",
       "0       47.2238  ...                     0                    1  61-000818   \n",
       "1       57.1519  ...                     0                    1  72-000095   \n",
       "2       57.1519  ...                     0                    1  72-000097   \n",
       "3       57.1519  ...                     0                    0  72-000097   \n",
       "4       57.1519  ...                     0                    1  72-000097   \n",
       "...         ...  ...                   ...                  ...        ...   \n",
       "10587   55.6591  ...                     0                    1  50-001971   \n",
       "10588   55.6603  ...                     0                    1  50-002025   \n",
       "10589   55.6611  ...                     0                    1  50-001972   \n",
       "10590   57.5679  ...                     1                    1  76-000546   \n",
       "10591   53.3129  ...                     1                    1  32-000336   \n",
       "\n",
       "         pdId  buildType objStatus  objFloorMin objFloorMax  \\\n",
       "0      124647      Жилое         0          NaN         NaN   \n",
       "1       28105      Жилое         0          4.0        20.0   \n",
       "2       28141      Жилое         0          6.0        12.0   \n",
       "3       28141    Нежилое         0          1.0         1.0   \n",
       "4       28141      Жилое         0          7.0        10.0   \n",
       "...       ...        ...       ...          ...         ...   \n",
       "10587   96379      Жилое         0          2.0        26.0   \n",
       "10588   99284      Жилое         0         26.0        26.0   \n",
       "10589   96446      Жилое         0         26.0        26.0   \n",
       "10590  475093      Жилое         0          6.0         6.0   \n",
       "10591  516648      Жилое         0         11.0        11.0   \n",
       "\n",
       "                              objCommercNm  complexShortName  \n",
       "0                                      NaN               NaN  \n",
       "1                                      NaN               NaN  \n",
       "2                                      NaN               NaN  \n",
       "3                                      NaN               NaN  \n",
       "4                                      NaN               NaN  \n",
       "...                                    ...               ...  \n",
       "10587  Жилой комплекс\"Томилинский бульвар\"               NaN  \n",
       "10588  Жилой комплекс\"Томилинский бульвар\"               NaN  \n",
       "10589  Жилой комплекс\"Томилинский бульвар\"               NaN  \n",
       "10590                                  NaN               NaN  \n",
       "10591                                  NaN               NaN  \n",
       "\n",
       "[10592 rows x 23 columns]"
      ]
     },
     "execution_count": 30,
     "metadata": {},
     "output_type": "execute_result"
    }
   ],
   "source": [
    "df"
   ]
  },
  {
   "cell_type": "code",
   "execution_count": 6,
   "metadata": {
    "jupyter": {
     "outputs_hidden": false
    },
    "pycharm": {
     "name": "#%%\n"
    }
   },
   "outputs": [],
   "source": [
    "# Cохраняем pandas dataframe в excel\n",
    "df.to_csv('nash-dom-rf.csv', index = False)\n",
    "# Cохраняем pandas dataframe в excel\n",
    "df.to_excel('nash-dom-rf.xlsx')\n",
    "# Cохраняем pandas dataframe pickle\n",
    "df.to_pickle('nash-dom-rf.pkl')"
   ]
  },
  {
   "cell_type": "code",
   "execution_count": 33,
   "metadata": {},
   "outputs": [
    {
     "data": {
      "text/plain": [
       "10592"
      ]
     },
     "execution_count": 33,
     "metadata": {},
     "output_type": "execute_result"
    }
   ],
   "source": [
    "# Cохраняем pandas dataframe в БД\n",
    "import sqlite3\n",
    "conn = sqlite3.connect('BDnashdom.db')  \n",
    "c = conn.cursor()\n",
    "df.to_sql('nash-dom', conn)"
   ]
  },
  {
   "cell_type": "markdown",
   "metadata": {
    "pycharm": {
     "name": "#%% md\n"
    }
   },
   "source": [
    "# Данные по определенному объекту"
   ]
  },
  {
   "cell_type": "code",
   "execution_count": 12,
   "metadata": {
    "jupyter": {
     "outputs_hidden": false
    },
    "pycharm": {
     "name": "#%%\n"
    }
   },
   "outputs": [],
   "source": [
    "# Для скачивания данных по определенному объекту, нужно добавить его id в конец строки запроса\n",
    "url = f'https://xn--80az8a.xn--d1aqf.xn--p1ai/%D1%81%D0%B5%D1%80%D0%B2%D0%B8%D1%81%D1%8B/api/object/29679'"
   ]
  },
  {
   "cell_type": "code",
   "execution_count": 32,
   "metadata": {},
   "outputs": [
    {
     "data": {
      "application/vnd.jupyter.widget-view+json": {
       "model_id": "0dd1dfe52c99414db3d692f3e3dc8736",
       "version_major": 2,
       "version_minor": 0
      },
      "text/plain": [
       "  0%|          | 0/10592 [00:00<?, ?it/s]"
      ]
     },
     "metadata": {},
     "output_type": "display_data"
    }
   ],
   "source": [
    "# скачиваем информацию о всех строящихся объектах на сайте \"наш.дом.рф\" в pandas dataframe\n",
    "df2 = pd.DataFrame()\n",
    "for id in tqdm(df.objId):\n",
    "\n",
    "    url = f'https://xn--80az8a.xn--d1aqf.xn--p1ai/%D1%81%D0%B5%D1%80%D0%B2%D0%B8%D1%81%D1%8B/api/object/{id}'\n",
    "    res = requests.get(url)\n",
    "    r = res.json()\n",
    "    obj = r.get('data')\n",
    "    \n",
    "    df1 = pd.json_normalize(obj)\n",
    "    df2 = df2.append(df1, ignore_index=True)"
   ]
  },
  {
   "cell_type": "code",
   "execution_count": 34,
   "metadata": {},
   "outputs": [
    {
     "data": {
      "text/html": [
       "<div>\n",
       "<style scoped>\n",
       "    .dataframe tbody tr th:only-of-type {\n",
       "        vertical-align: middle;\n",
       "    }\n",
       "\n",
       "    .dataframe tbody tr th {\n",
       "        vertical-align: top;\n",
       "    }\n",
       "\n",
       "    .dataframe thead th {\n",
       "        text-align: right;\n",
       "    }\n",
       "</style>\n",
       "<table border=\"1\" class=\"dataframe\">\n",
       "  <thead>\n",
       "    <tr style=\"text-align: right;\">\n",
       "      <th></th>\n",
       "      <th>id</th>\n",
       "      <th>pdId</th>\n",
       "      <th>region</th>\n",
       "      <th>address</th>\n",
       "      <th>objElemLivingCnt</th>\n",
       "      <th>objReady100PercDt</th>\n",
       "      <th>wallMaterialShortDesc</th>\n",
       "      <th>objLkFinishTypeDesc</th>\n",
       "      <th>objLkFreePlanDesc</th>\n",
       "      <th>objElemParkingCnt</th>\n",
       "      <th>...</th>\n",
       "      <th>developer.bankruptStage.bankruptStageDesc</th>\n",
       "      <th>developer.bankruptStage.bankruptLawUrl</th>\n",
       "      <th>developer.orgBankruptMsgDttm</th>\n",
       "      <th>metro.id</th>\n",
       "      <th>metro.name</th>\n",
       "      <th>metro.line</th>\n",
       "      <th>metro.color</th>\n",
       "      <th>metro.time</th>\n",
       "      <th>metro.isWalk</th>\n",
       "      <th>metro.colors</th>\n",
       "    </tr>\n",
       "  </thead>\n",
       "  <tbody>\n",
       "    <tr>\n",
       "      <th>0</th>\n",
       "      <td>29679</td>\n",
       "      <td>124647</td>\n",
       "      <td>61</td>\n",
       "      <td>г Таганрог</td>\n",
       "      <td>18</td>\n",
       "      <td>2020-03-31</td>\n",
       "      <td>Другое</td>\n",
       "      <td>Под ключ</td>\n",
       "      <td>Есть</td>\n",
       "      <td>0</td>\n",
       "      <td>...</td>\n",
       "      <td>NaN</td>\n",
       "      <td>NaN</td>\n",
       "      <td>NaN</td>\n",
       "      <td>NaN</td>\n",
       "      <td>NaN</td>\n",
       "      <td>NaN</td>\n",
       "      <td>NaN</td>\n",
       "      <td>NaN</td>\n",
       "      <td>NaN</td>\n",
       "      <td>NaN</td>\n",
       "    </tr>\n",
       "    <tr>\n",
       "      <th>1</th>\n",
       "      <td>13383</td>\n",
       "      <td>28105</td>\n",
       "      <td>72</td>\n",
       "      <td>г Тюмень</td>\n",
       "      <td>68</td>\n",
       "      <td>2022-12-31</td>\n",
       "      <td>Другое</td>\n",
       "      <td>По желанию заказчика</td>\n",
       "      <td>Есть</td>\n",
       "      <td>31</td>\n",
       "      <td>...</td>\n",
       "      <td>NaN</td>\n",
       "      <td>NaN</td>\n",
       "      <td>NaN</td>\n",
       "      <td>NaN</td>\n",
       "      <td>NaN</td>\n",
       "      <td>NaN</td>\n",
       "      <td>NaN</td>\n",
       "      <td>NaN</td>\n",
       "      <td>NaN</td>\n",
       "      <td>NaN</td>\n",
       "    </tr>\n",
       "    <tr>\n",
       "      <th>2</th>\n",
       "      <td>13397</td>\n",
       "      <td>28141</td>\n",
       "      <td>72</td>\n",
       "      <td>г Тюмень, ул Профсоюзная, д. 56</td>\n",
       "      <td>65</td>\n",
       "      <td>2024-12-31</td>\n",
       "      <td>Другое</td>\n",
       "      <td>Без отделки</td>\n",
       "      <td>Нет</td>\n",
       "      <td>0</td>\n",
       "      <td>...</td>\n",
       "      <td>NaN</td>\n",
       "      <td>NaN</td>\n",
       "      <td>NaN</td>\n",
       "      <td>NaN</td>\n",
       "      <td>NaN</td>\n",
       "      <td>NaN</td>\n",
       "      <td>NaN</td>\n",
       "      <td>NaN</td>\n",
       "      <td>NaN</td>\n",
       "      <td>NaN</td>\n",
       "    </tr>\n",
       "    <tr>\n",
       "      <th>3</th>\n",
       "      <td>13399</td>\n",
       "      <td>28141</td>\n",
       "      <td>72</td>\n",
       "      <td>г Тюмень, ул Профсоюзная, д. 56</td>\n",
       "      <td>0</td>\n",
       "      <td>2024-12-31</td>\n",
       "      <td>Другое</td>\n",
       "      <td>Без отделки</td>\n",
       "      <td>Нет</td>\n",
       "      <td>125</td>\n",
       "      <td>...</td>\n",
       "      <td>NaN</td>\n",
       "      <td>NaN</td>\n",
       "      <td>NaN</td>\n",
       "      <td>NaN</td>\n",
       "      <td>NaN</td>\n",
       "      <td>NaN</td>\n",
       "      <td>NaN</td>\n",
       "      <td>NaN</td>\n",
       "      <td>NaN</td>\n",
       "      <td>NaN</td>\n",
       "    </tr>\n",
       "    <tr>\n",
       "      <th>4</th>\n",
       "      <td>13398</td>\n",
       "      <td>28141</td>\n",
       "      <td>72</td>\n",
       "      <td>г Тюмень, ул Профсоюзная, д. 56</td>\n",
       "      <td>43</td>\n",
       "      <td>2024-12-31</td>\n",
       "      <td>Другое</td>\n",
       "      <td>Без отделки</td>\n",
       "      <td>Нет</td>\n",
       "      <td>0</td>\n",
       "      <td>...</td>\n",
       "      <td>NaN</td>\n",
       "      <td>NaN</td>\n",
       "      <td>NaN</td>\n",
       "      <td>NaN</td>\n",
       "      <td>NaN</td>\n",
       "      <td>NaN</td>\n",
       "      <td>NaN</td>\n",
       "      <td>NaN</td>\n",
       "      <td>NaN</td>\n",
       "      <td>NaN</td>\n",
       "    </tr>\n",
       "    <tr>\n",
       "      <th>...</th>\n",
       "      <td>...</td>\n",
       "      <td>...</td>\n",
       "      <td>...</td>\n",
       "      <td>...</td>\n",
       "      <td>...</td>\n",
       "      <td>...</td>\n",
       "      <td>...</td>\n",
       "      <td>...</td>\n",
       "      <td>...</td>\n",
       "      <td>...</td>\n",
       "      <td>...</td>\n",
       "      <td>...</td>\n",
       "      <td>...</td>\n",
       "      <td>...</td>\n",
       "      <td>...</td>\n",
       "      <td>...</td>\n",
       "      <td>...</td>\n",
       "      <td>...</td>\n",
       "      <td>...</td>\n",
       "      <td>...</td>\n",
       "      <td>...</td>\n",
       "    </tr>\n",
       "    <tr>\n",
       "      <th>10587</th>\n",
       "      <td>28072</td>\n",
       "      <td>96379</td>\n",
       "      <td>50</td>\n",
       "      <td>г Котельники, район мкр.Ковровый, д.1-5, 24-29...</td>\n",
       "      <td>312</td>\n",
       "      <td>2024-06-30</td>\n",
       "      <td>Другое</td>\n",
       "      <td>Под ключ</td>\n",
       "      <td>Нет</td>\n",
       "      <td>0</td>\n",
       "      <td>...</td>\n",
       "      <td>NaN</td>\n",
       "      <td>NaN</td>\n",
       "      <td>NaN</td>\n",
       "      <td>NaN</td>\n",
       "      <td>NaN</td>\n",
       "      <td>NaN</td>\n",
       "      <td>NaN</td>\n",
       "      <td>NaN</td>\n",
       "      <td>NaN</td>\n",
       "      <td>NaN</td>\n",
       "    </tr>\n",
       "    <tr>\n",
       "      <th>10588</th>\n",
       "      <td>28071</td>\n",
       "      <td>99284</td>\n",
       "      <td>50</td>\n",
       "      <td>г Котельники, район мкр.Ковровый, д.1-5, 24-29...</td>\n",
       "      <td>288</td>\n",
       "      <td>2024-06-30</td>\n",
       "      <td>Другое</td>\n",
       "      <td>Под ключ</td>\n",
       "      <td>Нет</td>\n",
       "      <td>0</td>\n",
       "      <td>...</td>\n",
       "      <td>NaN</td>\n",
       "      <td>NaN</td>\n",
       "      <td>NaN</td>\n",
       "      <td>NaN</td>\n",
       "      <td>NaN</td>\n",
       "      <td>NaN</td>\n",
       "      <td>NaN</td>\n",
       "      <td>NaN</td>\n",
       "      <td>NaN</td>\n",
       "      <td>NaN</td>\n",
       "    </tr>\n",
       "    <tr>\n",
       "      <th>10589</th>\n",
       "      <td>28073</td>\n",
       "      <td>96446</td>\n",
       "      <td>50</td>\n",
       "      <td>г Котельники, район мкр.Ковровый, д.1-5, 24-29...</td>\n",
       "      <td>312</td>\n",
       "      <td>2024-06-30</td>\n",
       "      <td>Другое</td>\n",
       "      <td>Под ключ</td>\n",
       "      <td>Нет</td>\n",
       "      <td>0</td>\n",
       "      <td>...</td>\n",
       "      <td>NaN</td>\n",
       "      <td>NaN</td>\n",
       "      <td>NaN</td>\n",
       "      <td>NaN</td>\n",
       "      <td>NaN</td>\n",
       "      <td>NaN</td>\n",
       "      <td>NaN</td>\n",
       "      <td>NaN</td>\n",
       "      <td>NaN</td>\n",
       "      <td>NaN</td>\n",
       "    </tr>\n",
       "    <tr>\n",
       "      <th>10590</th>\n",
       "      <td>44447</td>\n",
       "      <td>475093</td>\n",
       "      <td>76</td>\n",
       "      <td>г Ярославль, Фрунзенский район, территория в р...</td>\n",
       "      <td>127</td>\n",
       "      <td>2022-12-31</td>\n",
       "      <td>Кирпич</td>\n",
       "      <td>Другое</td>\n",
       "      <td>Нет</td>\n",
       "      <td>0</td>\n",
       "      <td>...</td>\n",
       "      <td>NaN</td>\n",
       "      <td>NaN</td>\n",
       "      <td>NaN</td>\n",
       "      <td>NaN</td>\n",
       "      <td>NaN</td>\n",
       "      <td>NaN</td>\n",
       "      <td>NaN</td>\n",
       "      <td>NaN</td>\n",
       "      <td>NaN</td>\n",
       "      <td>NaN</td>\n",
       "    </tr>\n",
       "    <tr>\n",
       "      <th>10591</th>\n",
       "      <td>45321</td>\n",
       "      <td>516648</td>\n",
       "      <td>32</td>\n",
       "      <td>г Брянск, улица Молодой Гвардии, строение Поз.1</td>\n",
       "      <td>90</td>\n",
       "      <td>2023-03-31</td>\n",
       "      <td>Монолит-кирпич</td>\n",
       "      <td>Без отделки</td>\n",
       "      <td>Нет</td>\n",
       "      <td>0</td>\n",
       "      <td>...</td>\n",
       "      <td>NaN</td>\n",
       "      <td>NaN</td>\n",
       "      <td>NaN</td>\n",
       "      <td>NaN</td>\n",
       "      <td>NaN</td>\n",
       "      <td>NaN</td>\n",
       "      <td>NaN</td>\n",
       "      <td>NaN</td>\n",
       "      <td>NaN</td>\n",
       "      <td>NaN</td>\n",
       "    </tr>\n",
       "  </tbody>\n",
       "</table>\n",
       "<p>10592 rows × 108 columns</p>\n",
       "</div>"
      ],
      "text/plain": [
       "          id    pdId  region  \\\n",
       "0      29679  124647      61   \n",
       "1      13383   28105      72   \n",
       "2      13397   28141      72   \n",
       "3      13399   28141      72   \n",
       "4      13398   28141      72   \n",
       "...      ...     ...     ...   \n",
       "10587  28072   96379      50   \n",
       "10588  28071   99284      50   \n",
       "10589  28073   96446      50   \n",
       "10590  44447  475093      76   \n",
       "10591  45321  516648      32   \n",
       "\n",
       "                                                 address  objElemLivingCnt  \\\n",
       "0                                             г Таганрог                18   \n",
       "1                                               г Тюмень                68   \n",
       "2                        г Тюмень, ул Профсоюзная, д. 56                65   \n",
       "3                        г Тюмень, ул Профсоюзная, д. 56                 0   \n",
       "4                        г Тюмень, ул Профсоюзная, д. 56                43   \n",
       "...                                                  ...               ...   \n",
       "10587  г Котельники, район мкр.Ковровый, д.1-5, 24-29...               312   \n",
       "10588  г Котельники, район мкр.Ковровый, д.1-5, 24-29...               288   \n",
       "10589  г Котельники, район мкр.Ковровый, д.1-5, 24-29...               312   \n",
       "10590  г Ярославль, Фрунзенский район, территория в р...               127   \n",
       "10591    г Брянск, улица Молодой Гвардии, строение Поз.1                90   \n",
       "\n",
       "      objReady100PercDt wallMaterialShortDesc   objLkFinishTypeDesc  \\\n",
       "0            2020-03-31                Другое              Под ключ   \n",
       "1            2022-12-31                Другое  По желанию заказчика   \n",
       "2            2024-12-31                Другое           Без отделки   \n",
       "3            2024-12-31                Другое           Без отделки   \n",
       "4            2024-12-31                Другое           Без отделки   \n",
       "...                 ...                   ...                   ...   \n",
       "10587        2024-06-30                Другое              Под ключ   \n",
       "10588        2024-06-30                Другое              Под ключ   \n",
       "10589        2024-06-30                Другое              Под ключ   \n",
       "10590        2022-12-31                Кирпич                Другое   \n",
       "10591        2023-03-31        Монолит-кирпич           Без отделки   \n",
       "\n",
       "      objLkFreePlanDesc  objElemParkingCnt  ...  \\\n",
       "0                  Есть                  0  ...   \n",
       "1                  Есть                 31  ...   \n",
       "2                   Нет                  0  ...   \n",
       "3                   Нет                125  ...   \n",
       "4                   Нет                  0  ...   \n",
       "...                 ...                ...  ...   \n",
       "10587               Нет                  0  ...   \n",
       "10588               Нет                  0  ...   \n",
       "10589               Нет                  0  ...   \n",
       "10590               Нет                  0  ...   \n",
       "10591               Нет                  0  ...   \n",
       "\n",
       "       developer.bankruptStage.bankruptStageDesc  \\\n",
       "0                                            NaN   \n",
       "1                                            NaN   \n",
       "2                                            NaN   \n",
       "3                                            NaN   \n",
       "4                                            NaN   \n",
       "...                                          ...   \n",
       "10587                                        NaN   \n",
       "10588                                        NaN   \n",
       "10589                                        NaN   \n",
       "10590                                        NaN   \n",
       "10591                                        NaN   \n",
       "\n",
       "      developer.bankruptStage.bankruptLawUrl developer.orgBankruptMsgDttm  \\\n",
       "0                                        NaN                          NaN   \n",
       "1                                        NaN                          NaN   \n",
       "2                                        NaN                          NaN   \n",
       "3                                        NaN                          NaN   \n",
       "4                                        NaN                          NaN   \n",
       "...                                      ...                          ...   \n",
       "10587                                    NaN                          NaN   \n",
       "10588                                    NaN                          NaN   \n",
       "10589                                    NaN                          NaN   \n",
       "10590                                    NaN                          NaN   \n",
       "10591                                    NaN                          NaN   \n",
       "\n",
       "      metro.id metro.name metro.line  metro.color  metro.time metro.isWalk  \\\n",
       "0          NaN        NaN        NaN          NaN         NaN          NaN   \n",
       "1          NaN        NaN        NaN          NaN         NaN          NaN   \n",
       "2          NaN        NaN        NaN          NaN         NaN          NaN   \n",
       "3          NaN        NaN        NaN          NaN         NaN          NaN   \n",
       "4          NaN        NaN        NaN          NaN         NaN          NaN   \n",
       "...        ...        ...        ...          ...         ...          ...   \n",
       "10587      NaN        NaN        NaN          NaN         NaN          NaN   \n",
       "10588      NaN        NaN        NaN          NaN         NaN          NaN   \n",
       "10589      NaN        NaN        NaN          NaN         NaN          NaN   \n",
       "10590      NaN        NaN        NaN          NaN         NaN          NaN   \n",
       "10591      NaN        NaN        NaN          NaN         NaN          NaN   \n",
       "\n",
       "      metro.colors  \n",
       "0              NaN  \n",
       "1              NaN  \n",
       "2              NaN  \n",
       "3              NaN  \n",
       "4              NaN  \n",
       "...            ...  \n",
       "10587          NaN  \n",
       "10588          NaN  \n",
       "10589          NaN  \n",
       "10590          NaN  \n",
       "10591          NaN  \n",
       "\n",
       "[10592 rows x 108 columns]"
      ]
     },
     "execution_count": 34,
     "metadata": {},
     "output_type": "execute_result"
    }
   ],
   "source": [
    "df2"
   ]
  },
  {
   "cell_type": "code",
   "execution_count": 35,
   "metadata": {},
   "outputs": [],
   "source": [
    "# Cохраняем pandas dataframe в excel\n",
    "df2.to_csv('nash-dom-rf1.csv', index = False)\n",
    "# Cохраняем pandas dataframe в excel\n",
    "df2.to_excel('nash-dom-rf1.xlsx')\n",
    "# Cохраняем pandas dataframe pickle\n",
    "df2.to_pickle('nash-dom-rf1.pkl')"
   ]
  },
  {
   "cell_type": "code",
   "execution_count": 36,
   "metadata": {},
   "outputs": [
    {
     "data": {
      "text/plain": [
       "10592"
      ]
     },
     "execution_count": 36,
     "metadata": {},
     "output_type": "execute_result"
    }
   ],
   "source": [
    "# Cохраняем pandas dataframe в БД\n",
    "import sqlite3\n",
    "conn1 = sqlite3.connect('BD.db')  \n",
    "c1 = conn1.cursor()\n",
    "df.to_sql('nash-dom2', conn1)"
   ]
  },
  {
   "cell_type": "markdown",
   "metadata": {},
   "source": [
    "# Задание *\n",
    "* Написать скрипт, который скачивает фотографии всех строящихся объектов с сайта \"наш.дом.рф\""
   ]
  },
  {
   "cell_type": "code",
   "execution_count": 37,
   "metadata": {},
   "outputs": [],
   "source": [
    "# скачиваем фотографии всех строящихся объектов с сайта \"наш.дом.рф\"\n",
    "# источник: https://waksoft.susu.ru/2021/11/03/kak-ispolzuya-python-zagruzit-vse-izobrazheniya-s-veb-straniczy/\n",
    "\n",
    "def is_valid(url):\n",
    "    \"\"\"\n",
    "    Проверяем, является ли url действительным URL\n",
    "    \"\"\"\n",
    "    parsed = urlparse(url)\n",
    "    return bool(parsed.netloc) and bool(parsed.scheme)\n",
    "\n",
    "def get_all_images(url):\n",
    "    \"\"\"\n",
    "    Возвращает все URL‑адреса изображений по одному `url`\n",
    "    \"\"\"\n",
    "    soup = bs(requests.get(url).content, \"html.parser\")\n",
    "    urls = []\n",
    "    for img in tqdm(soup.find_all(\"img\"), \"Получено изображение\"):\n",
    "        img_url = img.attrs.get(\"src\")\n",
    "        if not img_url:\n",
    "            # если img не содержит атрибута src, просто пропускаем\n",
    "            continue\n",
    "        # сделаем URL абсолютным, присоединив имя домена к только что извлеченному URL\n",
    "        img_url = urljoin(url, img_url)\n",
    "        # удалим URL‑адреса типа '/hsts-pixel.gif?c=3.2.5'\n",
    "        try:\n",
    "            pos = img_url.index(\"?\")\n",
    "            img_url = img_url[:pos]\n",
    "        except ValueError:\n",
    "            pass\n",
    "        # наконец, если URL действителен\n",
    "        if is_valid(img_url):\n",
    "            urls.append(img_url)\n",
    "    return urls\n",
    "\n",
    "def download(url, pathname):\n",
    "    \"\"\"\n",
    "    Загружает файл по URL‑адресу и помещает его в папку `pathname`\n",
    "    \"\"\"\n",
    "    # если путь не существует, создать dir\n",
    "    if not os.path.isdir(pathname):\n",
    "        os.makedirs(pathname)\n",
    "    # загружаем тело ответа по частям, а не сразу\n",
    "    response = requests.get(url, stream=True)\n",
    "    # получить общий размер файла\n",
    "    file_size = int(response.headers.get(\"Content-Length\", 0))\n",
    "    # получаем имя файла\n",
    "    filename = os.path.join(pathname, url.split(\"/\")[-1])\n",
    "    # индикатор выполнения, изменение единицы измерения на байты вместо итераций (по умолчанию tqdm)\n",
    "    progress = tqdm(response.iter_content(1024), f\"Загружен {filename}\", total=file_size, unit=\"B\", unit_scale=True, unit_divisor=1024)\n",
    "    with open(filename, \"wb\") as f:\n",
    "        for data in progress.iterable:\n",
    "            # записываем прочитанные данные в файл\n",
    "            f.write(data)\n",
    "            # обновление индикатора выполнения вручную\n",
    "            progress.update(len(data))\n",
    "\n",
    "def main(url, path):\n",
    "    # получить все изображения\n",
    "    imgs = get_all_images(url)\n",
    "    for img in imgs:\n",
    "        # скачать для каждого img\n",
    "        download(img, path)"
   ]
  },
  {
   "cell_type": "code",
   "execution_count": 38,
   "metadata": {},
   "outputs": [
    {
     "data": {
      "application/vnd.jupyter.widget-view+json": {
       "model_id": "bce236c9f174448583f03ee0a07eb53a",
       "version_major": 2,
       "version_minor": 0
      },
      "text/plain": [
       "  0%|          | 0/5 [00:00<?, ?it/s]"
      ]
     },
     "metadata": {},
     "output_type": "display_data"
    },
    {
     "data": {
      "application/vnd.jupyter.widget-view+json": {
       "model_id": "8e7677bea9474439adc4d5651ec70d75",
       "version_major": 2,
       "version_minor": 0
      },
      "text/plain": [
       "Получено изображение:   0%|          | 0/28 [00:00<?, ?it/s]"
      ]
     },
     "metadata": {},
     "output_type": "display_data"
    },
    {
     "data": {
      "application/vnd.jupyter.widget-view+json": {
       "model_id": "1140df6c7a354fbda5757bb9d687fed6",
       "version_major": 2,
       "version_minor": 0
      },
      "text/plain": [
       "Загружен nash-dom\\47282070:   0%|          | 0.00/43.0 [00:00<?, ?B/s]"
      ]
     },
     "metadata": {},
     "output_type": "display_data"
    },
    {
     "data": {
      "application/vnd.jupyter.widget-view+json": {
       "model_id": "b247e39b594c44a69e38978523b998d2",
       "version_major": 2,
       "version_minor": 0
      },
      "text/plain": [
       "Получено изображение:   0%|          | 0/68 [00:00<?, ?it/s]"
      ]
     },
     "metadata": {},
     "output_type": "display_data"
    },
    {
     "data": {
      "application/vnd.jupyter.widget-view+json": {
       "model_id": "ae83aa7667d341899722ae18fbb40106",
       "version_major": 2,
       "version_minor": 0
      },
      "text/plain": [
       "Загружен nash-dom\\47282070:   0%|          | 0.00/43.0 [00:00<?, ?B/s]"
      ]
     },
     "metadata": {},
     "output_type": "display_data"
    },
    {
     "data": {
      "application/vnd.jupyter.widget-view+json": {
       "model_id": "27775af146ba49e9a68f864107c53e02",
       "version_major": 2,
       "version_minor": 0
      },
      "text/plain": [
       "Загружен nash-dom\\7c1ce108-aa51-45c2-acfa-3091f6bf7e54:   0%|          | 0.00/1.37M [00:00<?, ?B/s]"
      ]
     },
     "metadata": {},
     "output_type": "display_data"
    },
    {
     "data": {
      "application/vnd.jupyter.widget-view+json": {
       "model_id": "3f75e0315f014cfcb8388107830835a9",
       "version_major": 2,
       "version_minor": 0
      },
      "text/plain": [
       "Загружен nash-dom\\cf350104-3afa-40e8-86e1-212da5c99a9a:   0%|          | 0.00/1.24M [00:00<?, ?B/s]"
      ]
     },
     "metadata": {},
     "output_type": "display_data"
    },
    {
     "data": {
      "application/vnd.jupyter.widget-view+json": {
       "model_id": "6cd9d0d0aefb4975b13de0ea1df43bda",
       "version_major": 2,
       "version_minor": 0
      },
      "text/plain": [
       "Загружен nash-dom\\80422003-fc35-43f2-9174-de241b92bf1d:   0%|          | 0.00/1.29M [00:00<?, ?B/s]"
      ]
     },
     "metadata": {},
     "output_type": "display_data"
    },
    {
     "data": {
      "application/vnd.jupyter.widget-view+json": {
       "model_id": "ef567071867446aeb93a84c095aaef8c",
       "version_major": 2,
       "version_minor": 0
      },
      "text/plain": [
       "Загружен nash-dom\\f70dc8e2-776f-4405-8f6f-d410c0061adf:   0%|          | 0.00/1.40M [00:00<?, ?B/s]"
      ]
     },
     "metadata": {},
     "output_type": "display_data"
    },
    {
     "data": {
      "application/vnd.jupyter.widget-view+json": {
       "model_id": "56b716e859144137ad71de44ba6cd809",
       "version_major": 2,
       "version_minor": 0
      },
      "text/plain": [
       "Загружен nash-dom\\ffd2a110-55a5-45c0-9bc1-61e146547df8:   0%|          | 0.00/1.01M [00:00<?, ?B/s]"
      ]
     },
     "metadata": {},
     "output_type": "display_data"
    },
    {
     "data": {
      "application/vnd.jupyter.widget-view+json": {
       "model_id": "2c9a13a4e59d46dbb0205bdf38c1fbbb",
       "version_major": 2,
       "version_minor": 0
      },
      "text/plain": [
       "Загружен nash-dom\\4c2881c9-a6da-4235-8faa-2f74c5970837:   0%|          | 0.00/0.99M [00:00<?, ?B/s]"
      ]
     },
     "metadata": {},
     "output_type": "display_data"
    },
    {
     "data": {
      "application/vnd.jupyter.widget-view+json": {
       "model_id": "9092dd6d00f54e8a8f6c149180fa2cf3",
       "version_major": 2,
       "version_minor": 0
      },
      "text/plain": [
       "Загружен nash-dom\\3c35f14c-f16c-46cc-a9a8-c3e828a514b0:   0%|          | 0.00/1.12M [00:00<?, ?B/s]"
      ]
     },
     "metadata": {},
     "output_type": "display_data"
    },
    {
     "data": {
      "application/vnd.jupyter.widget-view+json": {
       "model_id": "9d55bfd602f749158719b83ab6b1dac8",
       "version_major": 2,
       "version_minor": 0
      },
      "text/plain": [
       "Загружен nash-dom\\fc81c319-61ef-4d16-a426-03e215793490:   0%|          | 0.00/220k [00:00<?, ?B/s]"
      ]
     },
     "metadata": {},
     "output_type": "display_data"
    },
    {
     "data": {
      "application/vnd.jupyter.widget-view+json": {
       "model_id": "891cce278e8b430ba43f2d2a582489c6",
       "version_major": 2,
       "version_minor": 0
      },
      "text/plain": [
       "Загружен nash-dom\\6df2f9b9-69c2-42d9-a1df-d0b169b55ff3:   0%|          | 0.00/132k [00:00<?, ?B/s]"
      ]
     },
     "metadata": {},
     "output_type": "display_data"
    },
    {
     "data": {
      "application/vnd.jupyter.widget-view+json": {
       "model_id": "6af27a38780a4aee8b76ef53d25ec6ab",
       "version_major": 2,
       "version_minor": 0
      },
      "text/plain": [
       "Загружен nash-dom\\18333b8e-70d9-4003-8659-dc2b0b1a1af1:   0%|          | 0.00/328k [00:00<?, ?B/s]"
      ]
     },
     "metadata": {},
     "output_type": "display_data"
    },
    {
     "data": {
      "application/vnd.jupyter.widget-view+json": {
       "model_id": "00d9ceb149c84d28a91c254e863670a7",
       "version_major": 2,
       "version_minor": 0
      },
      "text/plain": [
       "Загружен nash-dom\\85453d34-afd6-4cc6-8d05-c86aa58bca55:   0%|          | 0.00/95.1k [00:00<?, ?B/s]"
      ]
     },
     "metadata": {},
     "output_type": "display_data"
    },
    {
     "data": {
      "application/vnd.jupyter.widget-view+json": {
       "model_id": "16861e14e1fd4ce9a763e5c065c7f41e",
       "version_major": 2,
       "version_minor": 0
      },
      "text/plain": [
       "Загружен nash-dom\\26b8461f-f5b8-4890-b4cd-1be1caa1e3fa:   0%|          | 0.00/344k [00:00<?, ?B/s]"
      ]
     },
     "metadata": {},
     "output_type": "display_data"
    },
    {
     "data": {
      "application/vnd.jupyter.widget-view+json": {
       "model_id": "9bfd905821ec415aa3dfa50ba4dbe801",
       "version_major": 2,
       "version_minor": 0
      },
      "text/plain": [
       "Загружен nash-dom\\0ecf48a9-622a-41fe-bd4f-6c999a2dd0dd:   0%|          | 0.00/317k [00:00<?, ?B/s]"
      ]
     },
     "metadata": {},
     "output_type": "display_data"
    },
    {
     "data": {
      "application/vnd.jupyter.widget-view+json": {
       "model_id": "159f5a75c39442a3a745df16f100f65d",
       "version_major": 2,
       "version_minor": 0
      },
      "text/plain": [
       "Загружен nash-dom\\12c13f5e-d691-4c55-bd33-9fe47531774c:   0%|          | 0.00/298k [00:00<?, ?B/s]"
      ]
     },
     "metadata": {},
     "output_type": "display_data"
    },
    {
     "data": {
      "application/vnd.jupyter.widget-view+json": {
       "model_id": "c647286459284dc09b961fb6fe625dc1",
       "version_major": 2,
       "version_minor": 0
      },
      "text/plain": [
       "Загружен nash-dom\\eb293faa-20b4-4aa2-998b-ab47d0f9eec7:   0%|          | 0.00/311k [00:00<?, ?B/s]"
      ]
     },
     "metadata": {},
     "output_type": "display_data"
    },
    {
     "data": {
      "application/vnd.jupyter.widget-view+json": {
       "model_id": "f38dca49dcf44527918070519030dc6d",
       "version_major": 2,
       "version_minor": 0
      },
      "text/plain": [
       "Загружен nash-dom\\d7a6dae7-54ad-4f35-8139-4512965d57bf:   0%|          | 0.00/262k [00:00<?, ?B/s]"
      ]
     },
     "metadata": {},
     "output_type": "display_data"
    },
    {
     "data": {
      "application/vnd.jupyter.widget-view+json": {
       "model_id": "823cebdd732e4067b392296b15b7b7d1",
       "version_major": 2,
       "version_minor": 0
      },
      "text/plain": [
       "Загружен nash-dom\\61ad027b-f4e3-4819-96eb-a45ce9288bde:   0%|          | 0.00/219k [00:00<?, ?B/s]"
      ]
     },
     "metadata": {},
     "output_type": "display_data"
    },
    {
     "data": {
      "application/vnd.jupyter.widget-view+json": {
       "model_id": "e7ebf2a23ff74718934df4cecaf57f97",
       "version_major": 2,
       "version_minor": 0
      },
      "text/plain": [
       "Загружен nash-dom\\11207c18-06ee-486e-a98d-a6931eea0b6f:   0%|          | 0.00/178k [00:00<?, ?B/s]"
      ]
     },
     "metadata": {},
     "output_type": "display_data"
    },
    {
     "data": {
      "application/vnd.jupyter.widget-view+json": {
       "model_id": "ad539d7d41a044f3a6f7376de467690b",
       "version_major": 2,
       "version_minor": 0
      },
      "text/plain": [
       "Загружен nash-dom\\76e1092a-7cbb-4be5-9149-0ad427126a11:   0%|          | 0.00/79.1k [00:00<?, ?B/s]"
      ]
     },
     "metadata": {},
     "output_type": "display_data"
    },
    {
     "data": {
      "application/vnd.jupyter.widget-view+json": {
       "model_id": "e8dbddfe5e564af7ad8c97fddff84ce1",
       "version_major": 2,
       "version_minor": 0
      },
      "text/plain": [
       "Загружен nash-dom\\a40f53f4-0a8b-4d7f-8b09-f925083a972a:   0%|          | 0.00/5.52M [00:00<?, ?B/s]"
      ]
     },
     "metadata": {},
     "output_type": "display_data"
    },
    {
     "data": {
      "application/vnd.jupyter.widget-view+json": {
       "model_id": "bec29c65250b493cbaaf15211bab2cc0",
       "version_major": 2,
       "version_minor": 0
      },
      "text/plain": [
       "Загружен nash-dom\\f27a5185-5569-4f97-9164-231e5840e458:   0%|          | 0.00/2.07M [00:00<?, ?B/s]"
      ]
     },
     "metadata": {},
     "output_type": "display_data"
    },
    {
     "data": {
      "application/vnd.jupyter.widget-view+json": {
       "model_id": "9ffad70ef1a747d99ef5318b57cc02dd",
       "version_major": 2,
       "version_minor": 0
      },
      "text/plain": [
       "Загружен nash-dom\\a22e750a-5adf-432d-93bc-0e422dececb5:   0%|          | 0.00/6.30M [00:00<?, ?B/s]"
      ]
     },
     "metadata": {},
     "output_type": "display_data"
    },
    {
     "data": {
      "application/vnd.jupyter.widget-view+json": {
       "model_id": "93bb93fab2304fc1b244295ba950c8a9",
       "version_major": 2,
       "version_minor": 0
      },
      "text/plain": [
       "Загружен nash-dom\\b9a1ddde-0f75-4fbe-bd8d-0ba43d817b41:   0%|          | 0.00/0.99M [00:00<?, ?B/s]"
      ]
     },
     "metadata": {},
     "output_type": "display_data"
    },
    {
     "data": {
      "application/vnd.jupyter.widget-view+json": {
       "model_id": "7c3f1721336d4419a9fd6213e7f06ee7",
       "version_major": 2,
       "version_minor": 0
      },
      "text/plain": [
       "Загружен nash-dom\\4def57f2-c557-47eb-b20d-e344ef679a14:   0%|          | 0.00/344k [00:00<?, ?B/s]"
      ]
     },
     "metadata": {},
     "output_type": "display_data"
    },
    {
     "data": {
      "application/vnd.jupyter.widget-view+json": {
       "model_id": "1348d1f121cd417fb8b89d12a2d87d68",
       "version_major": 2,
       "version_minor": 0
      },
      "text/plain": [
       "Загружен nash-dom\\a4001f3d-4705-4f88-84ce-a68494eba59c:   0%|          | 0.00/231k [00:00<?, ?B/s]"
      ]
     },
     "metadata": {},
     "output_type": "display_data"
    },
    {
     "data": {
      "application/vnd.jupyter.widget-view+json": {
       "model_id": "e088e11c10eb4b58a17d895d06dad2db",
       "version_major": 2,
       "version_minor": 0
      },
      "text/plain": [
       "Загружен nash-dom\\15790051-c6de-43dd-af49-c4da8d4ad473:   0%|          | 0.00/937k [00:00<?, ?B/s]"
      ]
     },
     "metadata": {},
     "output_type": "display_data"
    },
    {
     "data": {
      "application/vnd.jupyter.widget-view+json": {
       "model_id": "b732fc632a1a408a95fe567398649939",
       "version_major": 2,
       "version_minor": 0
      },
      "text/plain": [
       "Загружен nash-dom\\a3bdbc13-112f-4ff7-b4ee-114356258d52:   0%|          | 0.00/58.3k [00:00<?, ?B/s]"
      ]
     },
     "metadata": {},
     "output_type": "display_data"
    },
    {
     "data": {
      "application/vnd.jupyter.widget-view+json": {
       "model_id": "b0cf5fd35af2491784c3169fa008cb65",
       "version_major": 2,
       "version_minor": 0
      },
      "text/plain": [
       "Загружен nash-dom\\30311d55-37e8-4cb0-b536-9d7d19c43373:   0%|          | 0.00/103k [00:00<?, ?B/s]"
      ]
     },
     "metadata": {},
     "output_type": "display_data"
    },
    {
     "data": {
      "application/vnd.jupyter.widget-view+json": {
       "model_id": "83d9cb6a579a41128a411876d2fa5f41",
       "version_major": 2,
       "version_minor": 0
      },
      "text/plain": [
       "Загружен nash-dom\\ab946c8f-e104-4097-a56a-052e6ecf8cab:   0%|          | 0.00/203k [00:00<?, ?B/s]"
      ]
     },
     "metadata": {},
     "output_type": "display_data"
    },
    {
     "data": {
      "application/vnd.jupyter.widget-view+json": {
       "model_id": "2030812e6b4b4ea285887dad96786d57",
       "version_major": 2,
       "version_minor": 0
      },
      "text/plain": [
       "Загружен nash-dom\\c9eef416-a038-46bb-b020-12cddcba413c:   0%|          | 0.00/104k [00:00<?, ?B/s]"
      ]
     },
     "metadata": {},
     "output_type": "display_data"
    },
    {
     "data": {
      "application/vnd.jupyter.widget-view+json": {
       "model_id": "b4045fa7f54841b796fac0ac634d712d",
       "version_major": 2,
       "version_minor": 0
      },
      "text/plain": [
       "Загружен nash-dom\\d810fa4c-af46-4868-8a99-a4e9558dab81:   0%|          | 0.00/80.5k [00:00<?, ?B/s]"
      ]
     },
     "metadata": {},
     "output_type": "display_data"
    },
    {
     "data": {
      "application/vnd.jupyter.widget-view+json": {
       "model_id": "28c5cb9d070645e393ce170f4738e2ed",
       "version_major": 2,
       "version_minor": 0
      },
      "text/plain": [
       "Загружен nash-dom\\feec6b80-5bc1-41a9-a748-e115f2dc2550:   0%|          | 0.00/308k [00:00<?, ?B/s]"
      ]
     },
     "metadata": {},
     "output_type": "display_data"
    },
    {
     "data": {
      "application/vnd.jupyter.widget-view+json": {
       "model_id": "21ab317006454bb3bb211169aae5187d",
       "version_major": 2,
       "version_minor": 0
      },
      "text/plain": [
       "Загружен nash-dom\\9cfa55ea-50c5-40d2-99a8-16a87f9bec66:   0%|          | 0.00/2.79M [00:00<?, ?B/s]"
      ]
     },
     "metadata": {},
     "output_type": "display_data"
    },
    {
     "data": {
      "application/vnd.jupyter.widget-view+json": {
       "model_id": "5dda3b053f2840c89f04743df33282d6",
       "version_major": 2,
       "version_minor": 0
      },
      "text/plain": [
       "Загружен nash-dom\\25404a10-bde8-4e9c-9698-49fd9945ce51:   0%|          | 0.00/3.34M [00:00<?, ?B/s]"
      ]
     },
     "metadata": {},
     "output_type": "display_data"
    },
    {
     "data": {
      "application/vnd.jupyter.widget-view+json": {
       "model_id": "50ec06dc3a3841c685f301fb8996bf27",
       "version_major": 2,
       "version_minor": 0
      },
      "text/plain": [
       "Загружен nash-dom\\129c151b-6357-424a-9160-f87d3548b344:   0%|          | 0.00/7.55M [00:00<?, ?B/s]"
      ]
     },
     "metadata": {},
     "output_type": "display_data"
    },
    {
     "data": {
      "application/vnd.jupyter.widget-view+json": {
       "model_id": "dcca7e1982c04f3b8448adc1aed6e3cc",
       "version_major": 2,
       "version_minor": 0
      },
      "text/plain": [
       "Загружен nash-dom\\78532649-2f17-4c6c-8caf-882039d1711c:   0%|          | 0.00/176k [00:00<?, ?B/s]"
      ]
     },
     "metadata": {},
     "output_type": "display_data"
    },
    {
     "data": {
      "application/vnd.jupyter.widget-view+json": {
       "model_id": "d2156c4ab117496ea61ea794d9f1b672",
       "version_major": 2,
       "version_minor": 0
      },
      "text/plain": [
       "Загружен nash-dom\\466809ae-55c0-4b54-8f07-2c803c1ce2b8:   0%|          | 0.00/283k [00:00<?, ?B/s]"
      ]
     },
     "metadata": {},
     "output_type": "display_data"
    },
    {
     "data": {
      "application/vnd.jupyter.widget-view+json": {
       "model_id": "96770c33b8434501be2ec813882fd7d6",
       "version_major": 2,
       "version_minor": 0
      },
      "text/plain": [
       "Загружен nash-dom\\7c98ada9-fec0-444a-8327-5f8cafd601a7:   0%|          | 0.00/269k [00:00<?, ?B/s]"
      ]
     },
     "metadata": {},
     "output_type": "display_data"
    },
    {
     "data": {
      "application/vnd.jupyter.widget-view+json": {
       "model_id": "2914ae73e9404b90aafeea9a56b5cb1e",
       "version_major": 2,
       "version_minor": 0
      },
      "text/plain": [
       "Загружен nash-dom\\60de90e1-f091-47de-bcfc-d5db439a3e57:   0%|          | 0.00/3.38M [00:00<?, ?B/s]"
      ]
     },
     "metadata": {},
     "output_type": "display_data"
    },
    {
     "data": {
      "application/vnd.jupyter.widget-view+json": {
       "model_id": "0fa91ba7730d4a819080eca77f6acf28",
       "version_major": 2,
       "version_minor": 0
      },
      "text/plain": [
       "Получено изображение:   0%|          | 0/62 [00:00<?, ?it/s]"
      ]
     },
     "metadata": {},
     "output_type": "display_data"
    },
    {
     "data": {
      "application/vnd.jupyter.widget-view+json": {
       "model_id": "c2c163a6ae824137947ea482e986252c",
       "version_major": 2,
       "version_minor": 0
      },
      "text/plain": [
       "Загружен nash-dom\\47282070:   0%|          | 0.00/43.0 [00:00<?, ?B/s]"
      ]
     },
     "metadata": {},
     "output_type": "display_data"
    },
    {
     "data": {
      "application/vnd.jupyter.widget-view+json": {
       "model_id": "c1d0d9ecf2fe47758898c434330bc49d",
       "version_major": 2,
       "version_minor": 0
      },
      "text/plain": [
       "Загружен nash-dom\\3468baf9-f5b6-446b-a6b9-1b3147d72e28:   0%|          | 0.00/1.43M [00:00<?, ?B/s]"
      ]
     },
     "metadata": {},
     "output_type": "display_data"
    },
    {
     "data": {
      "application/vnd.jupyter.widget-view+json": {
       "model_id": "532ea329ae0841ddbddd44bc298c17c5",
       "version_major": 2,
       "version_minor": 0
      },
      "text/plain": [
       "Загружен nash-dom\\c602e57b-9ff4-4f95-8733-a507e50eaebe:   0%|          | 0.00/1.03M [00:00<?, ?B/s]"
      ]
     },
     "metadata": {},
     "output_type": "display_data"
    },
    {
     "data": {
      "application/vnd.jupyter.widget-view+json": {
       "model_id": "702581684cd04c8db67c35cf9f09fbdd",
       "version_major": 2,
       "version_minor": 0
      },
      "text/plain": [
       "Загружен nash-dom\\d6b9d8ea-1541-4526-9bb3-adb413f746bf:   0%|          | 0.00/1.17M [00:00<?, ?B/s]"
      ]
     },
     "metadata": {},
     "output_type": "display_data"
    },
    {
     "data": {
      "application/vnd.jupyter.widget-view+json": {
       "model_id": "67f9f6cf5210468b8cd601bc0947726c",
       "version_major": 2,
       "version_minor": 0
      },
      "text/plain": [
       "Загружен nash-dom\\8745e4bc-b106-4917-b0ab-cffc2ec20a2d:   0%|          | 0.00/955k [00:00<?, ?B/s]"
      ]
     },
     "metadata": {},
     "output_type": "display_data"
    },
    {
     "data": {
      "application/vnd.jupyter.widget-view+json": {
       "model_id": "677f00c3e0ef4d72b673eb2866cad5f9",
       "version_major": 2,
       "version_minor": 0
      },
      "text/plain": [
       "Загружен nash-dom\\b2cf4dd5-e812-4cb4-a95a-5bd6eb1e60a4:   0%|          | 0.00/154k [00:00<?, ?B/s]"
      ]
     },
     "metadata": {},
     "output_type": "display_data"
    },
    {
     "data": {
      "application/vnd.jupyter.widget-view+json": {
       "model_id": "7ccead9b687f4f039020825b69a96c86",
       "version_major": 2,
       "version_minor": 0
      },
      "text/plain": [
       "Загружен nash-dom\\05c8025b-412d-4229-9fea-ecafd2e9279e:   0%|          | 0.00/109k [00:00<?, ?B/s]"
      ]
     },
     "metadata": {},
     "output_type": "display_data"
    },
    {
     "data": {
      "application/vnd.jupyter.widget-view+json": {
       "model_id": "92601adc87b448308e5b49c2192cc465",
       "version_major": 2,
       "version_minor": 0
      },
      "text/plain": [
       "Загружен nash-dom\\7f2f5227-5a1e-49fe-a86c-f68f0eebedc8:   0%|          | 0.00/151k [00:00<?, ?B/s]"
      ]
     },
     "metadata": {},
     "output_type": "display_data"
    },
    {
     "data": {
      "application/vnd.jupyter.widget-view+json": {
       "model_id": "4f850839ce394dc892fdf6a49b265750",
       "version_major": 2,
       "version_minor": 0
      },
      "text/plain": [
       "Загружен nash-dom\\8c3aca1e-28f7-4276-82af-a920f0a9cc39:   0%|          | 0.00/83.7k [00:00<?, ?B/s]"
      ]
     },
     "metadata": {},
     "output_type": "display_data"
    },
    {
     "data": {
      "application/vnd.jupyter.widget-view+json": {
       "model_id": "03414ebaa0ad41619e7ef36c4e9cc15e",
       "version_major": 2,
       "version_minor": 0
      },
      "text/plain": [
       "Загружен nash-dom\\f0b309bc-8ee0-471c-8738-deb866141041:   0%|          | 0.00/305k [00:00<?, ?B/s]"
      ]
     },
     "metadata": {},
     "output_type": "display_data"
    },
    {
     "data": {
      "application/vnd.jupyter.widget-view+json": {
       "model_id": "81992de74ad94b5eaf627e4d46162971",
       "version_major": 2,
       "version_minor": 0
      },
      "text/plain": [
       "Загружен nash-dom\\f56ddeee-0429-4199-8097-66920977db5f:   0%|          | 0.00/356k [00:00<?, ?B/s]"
      ]
     },
     "metadata": {},
     "output_type": "display_data"
    },
    {
     "data": {
      "application/vnd.jupyter.widget-view+json": {
       "model_id": "e540683c0f0d41d7b9e96af118dd16fd",
       "version_major": 2,
       "version_minor": 0
      },
      "text/plain": [
       "Загружен nash-dom\\08de2815-dfbc-4d28-a568-46897f8eae00:   0%|          | 0.00/294k [00:00<?, ?B/s]"
      ]
     },
     "metadata": {},
     "output_type": "display_data"
    },
    {
     "data": {
      "application/vnd.jupyter.widget-view+json": {
       "model_id": "51cbee5d6bb148bb89db4cfd5ce4344f",
       "version_major": 2,
       "version_minor": 0
      },
      "text/plain": [
       "Загружен nash-dom\\ae16fafc-8edc-4c8d-95f9-9193f32ddecb:   0%|          | 0.00/240k [00:00<?, ?B/s]"
      ]
     },
     "metadata": {},
     "output_type": "display_data"
    },
    {
     "data": {
      "application/vnd.jupyter.widget-view+json": {
       "model_id": "558753f3f08d40ca96bf1b452f59bcd8",
       "version_major": 2,
       "version_minor": 0
      },
      "text/plain": [
       "Загружен nash-dom\\33af6c37-e141-4562-aa4d-74796a5ecddf:   0%|          | 0.00/294k [00:00<?, ?B/s]"
      ]
     },
     "metadata": {},
     "output_type": "display_data"
    },
    {
     "data": {
      "application/vnd.jupyter.widget-view+json": {
       "model_id": "b4a327bd914748f98f610af3d0b5493f",
       "version_major": 2,
       "version_minor": 0
      },
      "text/plain": [
       "Загружен nash-dom\\97083a72-35b0-4980-8586-c8881e481d13:   0%|          | 0.00/120k [00:00<?, ?B/s]"
      ]
     },
     "metadata": {},
     "output_type": "display_data"
    },
    {
     "data": {
      "application/vnd.jupyter.widget-view+json": {
       "model_id": "92e3adc3ca8d4d838fec47c5c2b88c7f",
       "version_major": 2,
       "version_minor": 0
      },
      "text/plain": [
       "Загружен nash-dom\\af663e96-1286-4daa-8dc3-6db76be129ef:   0%|          | 0.00/195k [00:00<?, ?B/s]"
      ]
     },
     "metadata": {},
     "output_type": "display_data"
    },
    {
     "data": {
      "application/vnd.jupyter.widget-view+json": {
       "model_id": "10c2677011b844c48343d442fa899f9b",
       "version_major": 2,
       "version_minor": 0
      },
      "text/plain": [
       "Загружен nash-dom\\0a511588-cf33-4ba8-9ba4-37bc936ea403:   0%|          | 0.00/74.4k [00:00<?, ?B/s]"
      ]
     },
     "metadata": {},
     "output_type": "display_data"
    },
    {
     "data": {
      "application/vnd.jupyter.widget-view+json": {
       "model_id": "e6986ee3cba84f2382fb654427df0325",
       "version_major": 2,
       "version_minor": 0
      },
      "text/plain": [
       "Загружен nash-dom\\bf22fa38-b3b2-4113-9096-4900b9dd6f01:   0%|          | 0.00/563k [00:00<?, ?B/s]"
      ]
     },
     "metadata": {},
     "output_type": "display_data"
    },
    {
     "data": {
      "application/vnd.jupyter.widget-view+json": {
       "model_id": "651b736ea0be41a4af903cb47c41a4c5",
       "version_major": 2,
       "version_minor": 0
      },
      "text/plain": [
       "Загружен nash-dom\\27f5ea3f-ebfd-44a4-b5d5-b9408be8f81a:   0%|          | 0.00/2.59M [00:00<?, ?B/s]"
      ]
     },
     "metadata": {},
     "output_type": "display_data"
    },
    {
     "data": {
      "application/vnd.jupyter.widget-view+json": {
       "model_id": "82295ffb7ff9441b971e8ebf531e8e46",
       "version_major": 2,
       "version_minor": 0
      },
      "text/plain": [
       "Загружен nash-dom\\bad68756-5f54-4e2b-9953-5e3b8018cc8e:   0%|          | 0.00/2.27M [00:00<?, ?B/s]"
      ]
     },
     "metadata": {},
     "output_type": "display_data"
    },
    {
     "data": {
      "application/vnd.jupyter.widget-view+json": {
       "model_id": "be0396273854480a9961531b7c47199d",
       "version_major": 2,
       "version_minor": 0
      },
      "text/plain": [
       "Загружен nash-dom\\1a0eaf28-6ee7-4b71-87e8-f708d2d0b098:   0%|          | 0.00/955k [00:00<?, ?B/s]"
      ]
     },
     "metadata": {},
     "output_type": "display_data"
    },
    {
     "data": {
      "application/vnd.jupyter.widget-view+json": {
       "model_id": "10c5aa6bf94a4ed3a21daa634056cf58",
       "version_major": 2,
       "version_minor": 0
      },
      "text/plain": [
       "Загружен nash-dom\\946dde31-998b-4c25-b5d9-a2ba50b04846:   0%|          | 0.00/133k [00:00<?, ?B/s]"
      ]
     },
     "metadata": {},
     "output_type": "display_data"
    },
    {
     "data": {
      "application/vnd.jupyter.widget-view+json": {
       "model_id": "efb2849d89464cf994a39e3802ef0a3b",
       "version_major": 2,
       "version_minor": 0
      },
      "text/plain": [
       "Загружен nash-dom\\65edf55a-8da6-4822-a3f8-b07c5c069803:   0%|          | 0.00/233k [00:00<?, ?B/s]"
      ]
     },
     "metadata": {},
     "output_type": "display_data"
    },
    {
     "data": {
      "application/vnd.jupyter.widget-view+json": {
       "model_id": "9b9141f106154333ad58d71f3db831ad",
       "version_major": 2,
       "version_minor": 0
      },
      "text/plain": [
       "Загружен nash-dom\\d6ab71a1-cb6e-43ca-afb3-3e3a88fc650a:   0%|          | 0.00/906k [00:00<?, ?B/s]"
      ]
     },
     "metadata": {},
     "output_type": "display_data"
    },
    {
     "data": {
      "application/vnd.jupyter.widget-view+json": {
       "model_id": "ca55e8bc3fba4cf69e0c377bd79d7cf2",
       "version_major": 2,
       "version_minor": 0
      },
      "text/plain": [
       "Загружен nash-dom\\0095a73b-0892-4527-8bda-43a2caeb9dea:   0%|          | 0.00/46.7k [00:00<?, ?B/s]"
      ]
     },
     "metadata": {},
     "output_type": "display_data"
    },
    {
     "data": {
      "application/vnd.jupyter.widget-view+json": {
       "model_id": "988af619ac3d4381b9a8c6ef2947b150",
       "version_major": 2,
       "version_minor": 0
      },
      "text/plain": [
       "Загружен nash-dom\\48b9cf92-32ac-446a-af0e-a1096f682843:   0%|          | 0.00/2.30M [00:00<?, ?B/s]"
      ]
     },
     "metadata": {},
     "output_type": "display_data"
    },
    {
     "data": {
      "application/vnd.jupyter.widget-view+json": {
       "model_id": "aa97928e2a7e40d9a3e335953ce07eb8",
       "version_major": 2,
       "version_minor": 0
      },
      "text/plain": [
       "Загружен nash-dom\\0a1ce53b-8bf1-4944-a79b-19bbed35f433:   0%|          | 0.00/2.46M [00:00<?, ?B/s]"
      ]
     },
     "metadata": {},
     "output_type": "display_data"
    },
    {
     "data": {
      "application/vnd.jupyter.widget-view+json": {
       "model_id": "a30bdd9f25904fa698658e02860aedee",
       "version_major": 2,
       "version_minor": 0
      },
      "text/plain": [
       "Загружен nash-dom\\f841754d-f590-40b9-8f4f-56619c34bfff:   0%|          | 0.00/83.9k [00:00<?, ?B/s]"
      ]
     },
     "metadata": {},
     "output_type": "display_data"
    },
    {
     "data": {
      "application/vnd.jupyter.widget-view+json": {
       "model_id": "b657beaa30304239b5bc02057d7605e7",
       "version_major": 2,
       "version_minor": 0
      },
      "text/plain": [
       "Загружен nash-dom\\430b86ab-167e-499e-b2c5-04b75e842dcd:   0%|          | 0.00/76.6k [00:00<?, ?B/s]"
      ]
     },
     "metadata": {},
     "output_type": "display_data"
    },
    {
     "data": {
      "application/vnd.jupyter.widget-view+json": {
       "model_id": "066084fb1c174fccb1caceeb8e3af512",
       "version_major": 2,
       "version_minor": 0
      },
      "text/plain": [
       "Загружен nash-dom\\06c036ab-fe97-4d98-b8cb-2448c3238276:   0%|          | 0.00/353k [00:00<?, ?B/s]"
      ]
     },
     "metadata": {},
     "output_type": "display_data"
    },
    {
     "data": {
      "application/vnd.jupyter.widget-view+json": {
       "model_id": "08a3008227494fcb89cba1a635302589",
       "version_major": 2,
       "version_minor": 0
      },
      "text/plain": [
       "Загружен nash-dom\\76e26fb3-01a9-48ae-8900-2bbf8ef4638a:   0%|          | 0.00/3.70M [00:00<?, ?B/s]"
      ]
     },
     "metadata": {},
     "output_type": "display_data"
    },
    {
     "data": {
      "application/vnd.jupyter.widget-view+json": {
       "model_id": "a97cbaa856e942b984b393c6eb462750",
       "version_major": 2,
       "version_minor": 0
      },
      "text/plain": [
       "Загружен nash-dom\\a6d34792-fb5b-4b73-a981-cca556d03c1a:   0%|          | 0.00/3.07M [00:00<?, ?B/s]"
      ]
     },
     "metadata": {},
     "output_type": "display_data"
    },
    {
     "data": {
      "application/vnd.jupyter.widget-view+json": {
       "model_id": "556368688f244b6abf10adf089580122",
       "version_major": 2,
       "version_minor": 0
      },
      "text/plain": [
       "Загружен nash-dom\\c2217f3b-6867-4a0f-b05e-2a95a5849986:   0%|          | 0.00/6.63M [00:00<?, ?B/s]"
      ]
     },
     "metadata": {},
     "output_type": "display_data"
    },
    {
     "data": {
      "application/vnd.jupyter.widget-view+json": {
       "model_id": "9eb7dbed926645c1b68a842e18f19975",
       "version_major": 2,
       "version_minor": 0
      },
      "text/plain": [
       "Загружен nash-dom\\e9a6ee23-2b70-40e3-a6e6-724ffc30a51c:   0%|          | 0.00/339k [00:00<?, ?B/s]"
      ]
     },
     "metadata": {},
     "output_type": "display_data"
    },
    {
     "data": {
      "application/vnd.jupyter.widget-view+json": {
       "model_id": "5c6398f899f147d2995ec1d8f6d7c038",
       "version_major": 2,
       "version_minor": 0
      },
      "text/plain": [
       "Загружен nash-dom\\2fc9290e-464e-44c4-a8c7-27f9bc027df7:   0%|          | 0.00/3.52M [00:00<?, ?B/s]"
      ]
     },
     "metadata": {},
     "output_type": "display_data"
    },
    {
     "data": {
      "application/vnd.jupyter.widget-view+json": {
       "model_id": "ce94fdb08aaf4da4a65668c8b8785871",
       "version_major": 2,
       "version_minor": 0
      },
      "text/plain": [
       "Получено изображение:   0%|          | 0/52 [00:00<?, ?it/s]"
      ]
     },
     "metadata": {},
     "output_type": "display_data"
    },
    {
     "data": {
      "application/vnd.jupyter.widget-view+json": {
       "model_id": "86d14f6a729a48f9a48ae373c6372b5c",
       "version_major": 2,
       "version_minor": 0
      },
      "text/plain": [
       "Загружен nash-dom\\47282070:   0%|          | 0.00/43.0 [00:00<?, ?B/s]"
      ]
     },
     "metadata": {},
     "output_type": "display_data"
    },
    {
     "data": {
      "application/vnd.jupyter.widget-view+json": {
       "model_id": "6dbe558073c845df9256fc1d19d77e8c",
       "version_major": 2,
       "version_minor": 0
      },
      "text/plain": [
       "Загружен nash-dom\\0b989b49-d32a-40ea-8cd3-28d6d0b6cda9:   0%|          | 0.00/973k [00:00<?, ?B/s]"
      ]
     },
     "metadata": {},
     "output_type": "display_data"
    },
    {
     "data": {
      "application/vnd.jupyter.widget-view+json": {
       "model_id": "1b9fd8f4a445471ea77e56c68a9999d8",
       "version_major": 2,
       "version_minor": 0
      },
      "text/plain": [
       "Загружен nash-dom\\3a900388-475b-4a0a-879c-8f05be793fea:   0%|          | 0.00/130k [00:00<?, ?B/s]"
      ]
     },
     "metadata": {},
     "output_type": "display_data"
    },
    {
     "data": {
      "application/vnd.jupyter.widget-view+json": {
       "model_id": "ce2b6ab8aabe4004b05089f98ca79d99",
       "version_major": 2,
       "version_minor": 0
      },
      "text/plain": [
       "Загружен nash-dom\\100826c8-1a7c-4124-b1b1-b0f7d1598400:   0%|          | 0.00/240k [00:00<?, ?B/s]"
      ]
     },
     "metadata": {},
     "output_type": "display_data"
    },
    {
     "data": {
      "application/vnd.jupyter.widget-view+json": {
       "model_id": "c309112a6d484efa862d1e6993a9bbda",
       "version_major": 2,
       "version_minor": 0
      },
      "text/plain": [
       "Загружен nash-dom\\945dee72-3dd3-45b8-9a95-aa85bc9b1980:   0%|          | 0.00/241k [00:00<?, ?B/s]"
      ]
     },
     "metadata": {},
     "output_type": "display_data"
    },
    {
     "data": {
      "application/vnd.jupyter.widget-view+json": {
       "model_id": "f9a25c3b5bc64b46b3bd679e7d19389e",
       "version_major": 2,
       "version_minor": 0
      },
      "text/plain": [
       "Загружен nash-dom\\c8783897-84d6-4511-b541-bdd2ba819dac:   0%|          | 0.00/128k [00:00<?, ?B/s]"
      ]
     },
     "metadata": {},
     "output_type": "display_data"
    },
    {
     "data": {
      "application/vnd.jupyter.widget-view+json": {
       "model_id": "0ec4878f453147b09197f1ec620a881d",
       "version_major": 2,
       "version_minor": 0
      },
      "text/plain": [
       "Загружен nash-dom\\fa84dd26-9046-4c0c-8477-5b8b084a85c8:   0%|          | 0.00/107k [00:00<?, ?B/s]"
      ]
     },
     "metadata": {},
     "output_type": "display_data"
    },
    {
     "data": {
      "application/vnd.jupyter.widget-view+json": {
       "model_id": "9be55535ea814744adacf59705278d84",
       "version_major": 2,
       "version_minor": 0
      },
      "text/plain": [
       "Загружен nash-dom\\c9c95135-ad99-4894-9153-368d6ca8095d:   0%|          | 0.00/299k [00:00<?, ?B/s]"
      ]
     },
     "metadata": {},
     "output_type": "display_data"
    },
    {
     "data": {
      "application/vnd.jupyter.widget-view+json": {
       "model_id": "c37ff4c5be4244a3af7fc22f2e13da0b",
       "version_major": 2,
       "version_minor": 0
      },
      "text/plain": [
       "Загружен nash-dom\\e510dc21-8d5d-476e-bde0-844f580b5f4d:   0%|          | 0.00/239k [00:00<?, ?B/s]"
      ]
     },
     "metadata": {},
     "output_type": "display_data"
    },
    {
     "data": {
      "application/vnd.jupyter.widget-view+json": {
       "model_id": "33cfc25d32f943adb210e9d651f25ba2",
       "version_major": 2,
       "version_minor": 0
      },
      "text/plain": [
       "Загружен nash-dom\\d0eeb4ac-a506-430b-959c-58292ae30467:   0%|          | 0.00/276k [00:00<?, ?B/s]"
      ]
     },
     "metadata": {},
     "output_type": "display_data"
    },
    {
     "data": {
      "application/vnd.jupyter.widget-view+json": {
       "model_id": "9de7436a23434a248b7186f68287dad7",
       "version_major": 2,
       "version_minor": 0
      },
      "text/plain": [
       "Загружен nash-dom\\6a4f6c18-f2fd-498c-b9f1-089d1883adda:   0%|          | 0.00/116k [00:00<?, ?B/s]"
      ]
     },
     "metadata": {},
     "output_type": "display_data"
    },
    {
     "data": {
      "application/vnd.jupyter.widget-view+json": {
       "model_id": "3401a031f6254183a24f55f822a74609",
       "version_major": 2,
       "version_minor": 0
      },
      "text/plain": [
       "Загружен nash-dom\\b3035722-7822-437e-a236-f96f84a85b96:   0%|          | 0.00/229k [00:00<?, ?B/s]"
      ]
     },
     "metadata": {},
     "output_type": "display_data"
    },
    {
     "data": {
      "application/vnd.jupyter.widget-view+json": {
       "model_id": "ef7361e67c944a6fb20b19673e5f9b1c",
       "version_major": 2,
       "version_minor": 0
      },
      "text/plain": [
       "Загружен nash-dom\\e0f335e0-e2a0-4edc-90e9-e6ac69635ced:   0%|          | 0.00/237k [00:00<?, ?B/s]"
      ]
     },
     "metadata": {},
     "output_type": "display_data"
    },
    {
     "data": {
      "application/vnd.jupyter.widget-view+json": {
       "model_id": "ad703641fba14d21992f275b83972b22",
       "version_major": 2,
       "version_minor": 0
      },
      "text/plain": [
       "Загружен nash-dom\\e0ca70d5-a187-4b55-bbeb-9a679449f67d:   0%|          | 0.00/96.3k [00:00<?, ?B/s]"
      ]
     },
     "metadata": {},
     "output_type": "display_data"
    },
    {
     "data": {
      "application/vnd.jupyter.widget-view+json": {
       "model_id": "1868034b982944e8ab22b17a0b890478",
       "version_major": 2,
       "version_minor": 0
      },
      "text/plain": [
       "Загружен nash-dom\\9eebb2c1-c699-4583-9496-67c9db031fcd:   0%|          | 0.00/459k [00:00<?, ?B/s]"
      ]
     },
     "metadata": {},
     "output_type": "display_data"
    },
    {
     "data": {
      "application/vnd.jupyter.widget-view+json": {
       "model_id": "8c4eab1a547b400d90a9ef7f995719cf",
       "version_major": 2,
       "version_minor": 0
      },
      "text/plain": [
       "Загружен nash-dom\\72a122a8-cf10-404c-a521-163c08ac3dfa:   0%|          | 0.00/8.76M [00:00<?, ?B/s]"
      ]
     },
     "metadata": {},
     "output_type": "display_data"
    },
    {
     "data": {
      "application/vnd.jupyter.widget-view+json": {
       "model_id": "caac8956b16d46e7b655e2e423a82619",
       "version_major": 2,
       "version_minor": 0
      },
      "text/plain": [
       "Загружен nash-dom\\3a9a8b32-ea3c-4bf6-ac68-90907906bc0f:   0%|          | 0.00/2.36M [00:00<?, ?B/s]"
      ]
     },
     "metadata": {},
     "output_type": "display_data"
    },
    {
     "data": {
      "application/vnd.jupyter.widget-view+json": {
       "model_id": "4b37a35ba1a248ad91e632aa16abb2f1",
       "version_major": 2,
       "version_minor": 0
      },
      "text/plain": [
       "Загружен nash-dom\\c2013af0-335e-4db8-b2e3-ec55bf21eacb:   0%|          | 0.00/973k [00:00<?, ?B/s]"
      ]
     },
     "metadata": {},
     "output_type": "display_data"
    },
    {
     "data": {
      "application/vnd.jupyter.widget-view+json": {
       "model_id": "a01c1f205065451992f6e9ec83fe5151",
       "version_major": 2,
       "version_minor": 0
      },
      "text/plain": [
       "Загружен nash-dom\\d036c883-78c2-46c3-9b58-60431d3df68d:   0%|          | 0.00/296k [00:00<?, ?B/s]"
      ]
     },
     "metadata": {},
     "output_type": "display_data"
    },
    {
     "data": {
      "application/vnd.jupyter.widget-view+json": {
       "model_id": "704d2abd68ed41769a841749693ec556",
       "version_major": 2,
       "version_minor": 0
      },
      "text/plain": [
       "Загружен nash-dom\\add02b28-53b9-43ca-b16b-dba386d949d7:   0%|          | 0.00/2.57M [00:00<?, ?B/s]"
      ]
     },
     "metadata": {},
     "output_type": "display_data"
    },
    {
     "data": {
      "application/vnd.jupyter.widget-view+json": {
       "model_id": "5e68a27f6670408d8d933f628ae81613",
       "version_major": 2,
       "version_minor": 0
      },
      "text/plain": [
       "Загружен nash-dom\\5644e3f6-45e9-4967-8455-3e493b8756da:   0%|          | 0.00/624k [00:00<?, ?B/s]"
      ]
     },
     "metadata": {},
     "output_type": "display_data"
    },
    {
     "data": {
      "application/vnd.jupyter.widget-view+json": {
       "model_id": "24a6f9787b064e858d001727b1717441",
       "version_major": 2,
       "version_minor": 0
      },
      "text/plain": [
       "Загружен nash-dom\\cc0c9e43-7080-4828-a048-7b1ae5971ed1:   0%|          | 0.00/45.8k [00:00<?, ?B/s]"
      ]
     },
     "metadata": {},
     "output_type": "display_data"
    },
    {
     "data": {
      "application/vnd.jupyter.widget-view+json": {
       "model_id": "9eed7758ef5445afb7d8a9c9123fa134",
       "version_major": 2,
       "version_minor": 0
      },
      "text/plain": [
       "Загружен nash-dom\\3e6ef392-f10b-4f8f-8ac0-225cb6e45df1:   0%|          | 0.00/94.7k [00:00<?, ?B/s]"
      ]
     },
     "metadata": {},
     "output_type": "display_data"
    },
    {
     "data": {
      "application/vnd.jupyter.widget-view+json": {
       "model_id": "c24062cec087420face8a95f4a798927",
       "version_major": 2,
       "version_minor": 0
      },
      "text/plain": [
       "Загружен nash-dom\\0d7d8689-0d29-49fe-8321-b50af552709c:   0%|          | 0.00/2.84M [00:00<?, ?B/s]"
      ]
     },
     "metadata": {},
     "output_type": "display_data"
    },
    {
     "data": {
      "application/vnd.jupyter.widget-view+json": {
       "model_id": "33f4cd363333405d8737b42dcaad0023",
       "version_major": 2,
       "version_minor": 0
      },
      "text/plain": [
       "Получено изображение:   0%|          | 0/62 [00:00<?, ?it/s]"
      ]
     },
     "metadata": {},
     "output_type": "display_data"
    },
    {
     "data": {
      "application/vnd.jupyter.widget-view+json": {
       "model_id": "74d0d1a3925f4ba0b27d14f8d01b281e",
       "version_major": 2,
       "version_minor": 0
      },
      "text/plain": [
       "Загружен nash-dom\\47282070:   0%|          | 0.00/43.0 [00:00<?, ?B/s]"
      ]
     },
     "metadata": {},
     "output_type": "display_data"
    },
    {
     "data": {
      "application/vnd.jupyter.widget-view+json": {
       "model_id": "1d3a7e878293424199e3a4acd4e2d63f",
       "version_major": 2,
       "version_minor": 0
      },
      "text/plain": [
       "Загружен nash-dom\\02b88db9-bdd0-4b77-b652-32578b277f6b:   0%|          | 0.00/1.26M [00:00<?, ?B/s]"
      ]
     },
     "metadata": {},
     "output_type": "display_data"
    },
    {
     "data": {
      "application/vnd.jupyter.widget-view+json": {
       "model_id": "1f42540420b349cc933c6d479c4abf06",
       "version_major": 2,
       "version_minor": 0
      },
      "text/plain": [
       "Загружен nash-dom\\bf3be0fd-4fbf-43e5-9fc8-878e2572c54b:   0%|          | 0.00/1.32M [00:00<?, ?B/s]"
      ]
     },
     "metadata": {},
     "output_type": "display_data"
    },
    {
     "data": {
      "application/vnd.jupyter.widget-view+json": {
       "model_id": "72d01e2e441b40cd8453417a94fd1bf7",
       "version_major": 2,
       "version_minor": 0
      },
      "text/plain": [
       "Загружен nash-dom\\9dce7b87-2eec-4a1d-9c95-637915fde79f:   0%|          | 0.00/98.9k [00:00<?, ?B/s]"
      ]
     },
     "metadata": {},
     "output_type": "display_data"
    },
    {
     "data": {
      "application/vnd.jupyter.widget-view+json": {
       "model_id": "824660602b9143cfb710e935fc6d746c",
       "version_major": 2,
       "version_minor": 0
      },
      "text/plain": [
       "Загружен nash-dom\\547ca489-819a-4f0f-b0d5-0313a893bf02:   0%|          | 0.00/78.1k [00:00<?, ?B/s]"
      ]
     },
     "metadata": {},
     "output_type": "display_data"
    },
    {
     "data": {
      "application/vnd.jupyter.widget-view+json": {
       "model_id": "bff9690b8c3f4e4aa1efe7c24d18370c",
       "version_major": 2,
       "version_minor": 0
      },
      "text/plain": [
       "Загружен nash-dom\\5752d0b6-aeba-4914-877c-110ce07da450:   0%|          | 0.00/315k [00:00<?, ?B/s]"
      ]
     },
     "metadata": {},
     "output_type": "display_data"
    },
    {
     "data": {
      "application/vnd.jupyter.widget-view+json": {
       "model_id": "ced58dbc2b894fe0996cdc3cc9f6af81",
       "version_major": 2,
       "version_minor": 0
      },
      "text/plain": [
       "Загружен nash-dom\\c5a49cf0-4187-4d71-a383-185877f482ed:   0%|          | 0.00/238k [00:00<?, ?B/s]"
      ]
     },
     "metadata": {},
     "output_type": "display_data"
    },
    {
     "data": {
      "application/vnd.jupyter.widget-view+json": {
       "model_id": "a34fe61130944a92a74cad7401c1964c",
       "version_major": 2,
       "version_minor": 0
      },
      "text/plain": [
       "Загружен nash-dom\\ad00f3b1-c3da-48d6-a1e3-08c22c74211a:   0%|          | 0.00/157k [00:00<?, ?B/s]"
      ]
     },
     "metadata": {},
     "output_type": "display_data"
    },
    {
     "data": {
      "application/vnd.jupyter.widget-view+json": {
       "model_id": "232f31418c8f4e4487d9382e94de113b",
       "version_major": 2,
       "version_minor": 0
      },
      "text/plain": [
       "Загружен nash-dom\\889cc23e-ee2c-4875-bb0f-564bc0c8b826:   0%|          | 0.00/294k [00:00<?, ?B/s]"
      ]
     },
     "metadata": {},
     "output_type": "display_data"
    },
    {
     "data": {
      "application/vnd.jupyter.widget-view+json": {
       "model_id": "c2a4aa30b8f94ed5b8ead4326b6c407d",
       "version_major": 2,
       "version_minor": 0
      },
      "text/plain": [
       "Загружен nash-dom\\b46ee8d3-90e0-4b03-b41d-b7052685e585:   0%|          | 0.00/80.9k [00:00<?, ?B/s]"
      ]
     },
     "metadata": {},
     "output_type": "display_data"
    },
    {
     "data": {
      "application/vnd.jupyter.widget-view+json": {
       "model_id": "6cd0f6785e004b8f9731b91a5520e76b",
       "version_major": 2,
       "version_minor": 0
      },
      "text/plain": [
       "Загружен nash-dom\\062dbd65-3aab-4ff6-9834-93da70f0cc3b:   0%|          | 0.00/332k [00:00<?, ?B/s]"
      ]
     },
     "metadata": {},
     "output_type": "display_data"
    },
    {
     "data": {
      "application/vnd.jupyter.widget-view+json": {
       "model_id": "60d2d26d084a45f9a6f9f318cd2c9eb3",
       "version_major": 2,
       "version_minor": 0
      },
      "text/plain": [
       "Загружен nash-dom\\a79abb00-65ee-44bd-9fe6-e55a3639c505:   0%|          | 0.00/375k [00:00<?, ?B/s]"
      ]
     },
     "metadata": {},
     "output_type": "display_data"
    },
    {
     "data": {
      "application/vnd.jupyter.widget-view+json": {
       "model_id": "658e0bfbc0824faba2f2588e40a4c4b0",
       "version_major": 2,
       "version_minor": 0
      },
      "text/plain": [
       "Загружен nash-dom\\1082c123-b1b0-4e4f-a0cf-46c7b65c61ec:   0%|          | 0.00/319k [00:00<?, ?B/s]"
      ]
     },
     "metadata": {},
     "output_type": "display_data"
    },
    {
     "data": {
      "application/vnd.jupyter.widget-view+json": {
       "model_id": "ecee453e98674b1483915b2a2d954ce5",
       "version_major": 2,
       "version_minor": 0
      },
      "text/plain": [
       "Загружен nash-dom\\9236b640-5568-4806-9077-0ba27e12dd4f:   0%|          | 0.00/315k [00:00<?, ?B/s]"
      ]
     },
     "metadata": {},
     "output_type": "display_data"
    },
    {
     "data": {
      "application/vnd.jupyter.widget-view+json": {
       "model_id": "eb37e5c050de401fbba915b2a1d365f3",
       "version_major": 2,
       "version_minor": 0
      },
      "text/plain": [
       "Загружен nash-dom\\7ac339ba-9561-4890-8cb9-a93f00a803ea:   0%|          | 0.00/331k [00:00<?, ?B/s]"
      ]
     },
     "metadata": {},
     "output_type": "display_data"
    },
    {
     "data": {
      "application/vnd.jupyter.widget-view+json": {
       "model_id": "e8f6960b9eb34ab091e3f6c4ca9525d4",
       "version_major": 2,
       "version_minor": 0
      },
      "text/plain": [
       "Загружен nash-dom\\141d5cbe-c5a0-492d-85d7-a5a51ead39a6:   0%|          | 0.00/179k [00:00<?, ?B/s]"
      ]
     },
     "metadata": {},
     "output_type": "display_data"
    },
    {
     "data": {
      "application/vnd.jupyter.widget-view+json": {
       "model_id": "5591a00825704f6498f8da3a1586786b",
       "version_major": 2,
       "version_minor": 0
      },
      "text/plain": [
       "Загружен nash-dom\\9f51a298-047c-4ff6-9bd8-3b3f3d1064a0:   0%|          | 0.00/218k [00:00<?, ?B/s]"
      ]
     },
     "metadata": {},
     "output_type": "display_data"
    },
    {
     "data": {
      "application/vnd.jupyter.widget-view+json": {
       "model_id": "9d9bf51d00cf4811a70295da596cb80e",
       "version_major": 2,
       "version_minor": 0
      },
      "text/plain": [
       "Загружен nash-dom\\c75e0c84-eb3b-4fba-bdc4-5d14428c6c59:   0%|          | 0.00/528k [00:00<?, ?B/s]"
      ]
     },
     "metadata": {},
     "output_type": "display_data"
    },
    {
     "data": {
      "application/vnd.jupyter.widget-view+json": {
       "model_id": "3eb189f3e2e1412aaa19fdb9da1b9e5c",
       "version_major": 2,
       "version_minor": 0
      },
      "text/plain": [
       "Загружен nash-dom\\a8ab453d-8cd3-4aa9-bf2e-f0d7439fa9cb:   0%|          | 0.00/7.05M [00:00<?, ?B/s]"
      ]
     },
     "metadata": {},
     "output_type": "display_data"
    },
    {
     "data": {
      "application/vnd.jupyter.widget-view+json": {
       "model_id": "defbe234db2a4a629321499b33a41c49",
       "version_major": 2,
       "version_minor": 0
      },
      "text/plain": [
       "Загружен nash-dom\\93f18fff-4bfc-4d77-8e90-1893ccbccf7f:   0%|          | 0.00/2.00M [00:00<?, ?B/s]"
      ]
     },
     "metadata": {},
     "output_type": "display_data"
    },
    {
     "data": {
      "application/vnd.jupyter.widget-view+json": {
       "model_id": "32966b7804a2463fbc4296c63f3e028e",
       "version_major": 2,
       "version_minor": 0
      },
      "text/plain": [
       "Загружен nash-dom\\c04bcf2d-76d4-473e-ae96-b3cea3aac6f5:   0%|          | 0.00/1.26M [00:00<?, ?B/s]"
      ]
     },
     "metadata": {},
     "output_type": "display_data"
    },
    {
     "data": {
      "application/vnd.jupyter.widget-view+json": {
       "model_id": "bae23d4a67e74169b310b9ec8153c3fb",
       "version_major": 2,
       "version_minor": 0
      },
      "text/plain": [
       "Загружен nash-dom\\f21153a7-2eeb-40b8-bc42-9c91416d3137:   0%|          | 0.00/119k [00:00<?, ?B/s]"
      ]
     },
     "metadata": {},
     "output_type": "display_data"
    },
    {
     "data": {
      "application/vnd.jupyter.widget-view+json": {
       "model_id": "41a62c884dd04d48a5f123830cd90194",
       "version_major": 2,
       "version_minor": 0
      },
      "text/plain": [
       "Загружен nash-dom\\b549d350-e06c-42ad-8f2a-de934be5a437:   0%|          | 0.00/227k [00:00<?, ?B/s]"
      ]
     },
     "metadata": {},
     "output_type": "display_data"
    },
    {
     "data": {
      "application/vnd.jupyter.widget-view+json": {
       "model_id": "0e6bee952ed641d2b7e9c1bd68911a58",
       "version_major": 2,
       "version_minor": 0
      },
      "text/plain": [
       "Загружен nash-dom\\51ba3ba9-5edd-4ba1-89a1-03ead156adff:   0%|          | 0.00/906k [00:00<?, ?B/s]"
      ]
     },
     "metadata": {},
     "output_type": "display_data"
    },
    {
     "data": {
      "application/vnd.jupyter.widget-view+json": {
       "model_id": "0487e1d26db344e8a2d1d705b714653d",
       "version_major": 2,
       "version_minor": 0
      },
      "text/plain": [
       "Загружен nash-dom\\0b771abf-156c-4b02-a841-b8b2ab6bbc4e:   0%|          | 0.00/46.1k [00:00<?, ?B/s]"
      ]
     },
     "metadata": {},
     "output_type": "display_data"
    },
    {
     "data": {
      "application/vnd.jupyter.widget-view+json": {
       "model_id": "200ac2edd42341439fe3505c7b754086",
       "version_major": 2,
       "version_minor": 0
      },
      "text/plain": [
       "Загружен nash-dom\\b265eb1e-dbb7-436b-8d04-1acea5e7395f:   0%|          | 0.00/2.87M [00:00<?, ?B/s]"
      ]
     },
     "metadata": {},
     "output_type": "display_data"
    },
    {
     "data": {
      "application/vnd.jupyter.widget-view+json": {
       "model_id": "058a4adc75da454697b2d02ace6ca556",
       "version_major": 2,
       "version_minor": 0
      },
      "text/plain": [
       "Загружен nash-dom\\026b16c8-1758-4c11-843f-746a64037cbb:   0%|          | 0.00/2.68M [00:00<?, ?B/s]"
      ]
     },
     "metadata": {},
     "output_type": "display_data"
    },
    {
     "data": {
      "application/vnd.jupyter.widget-view+json": {
       "model_id": "8e82251c281540fb9d3e27d161711fb1",
       "version_major": 2,
       "version_minor": 0
      },
      "text/plain": [
       "Загружен nash-dom\\c1a4599c-c3fa-41d7-ae69-2cc2f8a12c0d:   0%|          | 0.00/94.3k [00:00<?, ?B/s]"
      ]
     },
     "metadata": {},
     "output_type": "display_data"
    },
    {
     "data": {
      "application/vnd.jupyter.widget-view+json": {
       "model_id": "4867022a553d4e11848be9f1bd09058c",
       "version_major": 2,
       "version_minor": 0
      },
      "text/plain": [
       "Загружен nash-dom\\27309c61-9711-407c-865d-fe9438da08fb:   0%|          | 0.00/89.6k [00:00<?, ?B/s]"
      ]
     },
     "metadata": {},
     "output_type": "display_data"
    },
    {
     "data": {
      "application/vnd.jupyter.widget-view+json": {
       "model_id": "c87f2f920b3646198bb3d761aeda3f5c",
       "version_major": 2,
       "version_minor": 0
      },
      "text/plain": [
       "Загружен nash-dom\\acc5cbe4-d90a-4050-a8d9-5512cb5addc8:   0%|          | 0.00/358k [00:00<?, ?B/s]"
      ]
     },
     "metadata": {},
     "output_type": "display_data"
    },
    {
     "data": {
      "application/vnd.jupyter.widget-view+json": {
       "model_id": "08a8e0793b9343e781e5a2fcb1df3519",
       "version_major": 2,
       "version_minor": 0
      },
      "text/plain": [
       "Загружен nash-dom\\821f36ae-fd36-4bc0-aab2-a78d9f8597bf:   0%|          | 0.00/2.85M [00:00<?, ?B/s]"
      ]
     },
     "metadata": {},
     "output_type": "display_data"
    },
    {
     "data": {
      "application/vnd.jupyter.widget-view+json": {
       "model_id": "1ecce5ae7b7c4e74b883e14bd0af0c51",
       "version_major": 2,
       "version_minor": 0
      },
      "text/plain": [
       "Загружен nash-dom\\d7c07b91-483d-41f8-b848-afce02e1339f:   0%|          | 0.00/3.25M [00:00<?, ?B/s]"
      ]
     },
     "metadata": {},
     "output_type": "display_data"
    },
    {
     "data": {
      "application/vnd.jupyter.widget-view+json": {
       "model_id": "4f502a72e68645a584d9c4b923db99eb",
       "version_major": 2,
       "version_minor": 0
      },
      "text/plain": [
       "Загружен nash-dom\\048ac553-8274-4ced-9731-6099b439c41f:   0%|          | 0.00/6.12M [00:00<?, ?B/s]"
      ]
     },
     "metadata": {},
     "output_type": "display_data"
    },
    {
     "data": {
      "application/vnd.jupyter.widget-view+json": {
       "model_id": "407ece995b30481c9571a5e1fd681472",
       "version_major": 2,
       "version_minor": 0
      },
      "text/plain": [
       "Загружен nash-dom\\aa13d439-1dcf-413e-87c2-955e80db308a:   0%|          | 0.00/257k [00:00<?, ?B/s]"
      ]
     },
     "metadata": {},
     "output_type": "display_data"
    },
    {
     "data": {
      "application/vnd.jupyter.widget-view+json": {
       "model_id": "6f300fa26d0346238b6a18ffc0fe56f9",
       "version_major": 2,
       "version_minor": 0
      },
      "text/plain": [
       "Загружен nash-dom\\576f74ff-adce-44e2-ac8b-b86bdd54e934:   0%|          | 0.00/1.61M [00:00<?, ?B/s]"
      ]
     },
     "metadata": {},
     "output_type": "display_data"
    }
   ],
   "source": [
    "# скачаем первые 10 фото объектов\n",
    "for id in tqdm(df.objId[0:5]):\n",
    "    url = f'https://наш.дом.рф/сервисы/каталог-новостроек/объект/{id}'\n",
    "    main(url, \"nash-dom\")"
   ]
  }
 ],
 "metadata": {
  "kernelspec": {
   "display_name": "Python 3 (ipykernel)",
   "language": "python",
   "name": "python3"
  },
  "language_info": {
   "codemirror_mode": {
    "name": "ipython",
    "version": 3
   },
   "file_extension": ".py",
   "mimetype": "text/x-python",
   "name": "python",
   "nbconvert_exporter": "python",
   "pygments_lexer": "ipython3",
   "version": "3.9.12"
  }
 },
 "nbformat": 4,
 "nbformat_minor": 4
}
