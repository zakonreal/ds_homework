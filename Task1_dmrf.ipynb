{
 "cells": [
  {
   "cell_type": "markdown",
   "metadata": {
    "pycharm": {
     "name": "#%% md\n"
    }
   },
   "source": [
    "[![Open In Colab](https://colab.research.google.com/assets/colab-badge.svg)](https://colab.research.google.com/github/ds-reboot/python-first-part/blob/main/notebooks/hometasks/Task1_dmrf.ipynb)"
   ]
  },
  {
   "cell_type": "markdown",
   "metadata": {
    "pycharm": {
     "name": "#%% md\n"
    }
   },
   "source": [
    "# Задание\n",
    "* Собрать информацию о всех строящихся объектах на сайте \"наш.дом.рф\"\n",
    "* Cохранить ее в pandas dataframe\n",
    "* Cохранить pandas dataframe в excel\n",
    "* Cохранить pandas dataframe в pickle\n",
    "* Cохранить pandas dataframe в БД\n"
   ]
  },
  {
   "cell_type": "code",
   "execution_count": 1,
   "metadata": {
    "jupyter": {
     "outputs_hidden": false
    },
    "pycharm": {
     "name": "#%%\n"
    }
   },
   "outputs": [],
   "source": [
    "import requests\n",
    "import os\n",
    "import csv\n",
    "import pandas as pd\n",
    "from tqdm.auto import tqdm\n",
    "from bs4 import BeautifulSoup as bs\n",
    "from urllib.parse import urljoin, urlparse\n",
    "\n",
    "import warnings\n",
    "warnings.filterwarnings('ignore')"
   ]
  },
  {
   "cell_type": "markdown",
   "metadata": {
    "pycharm": {
     "name": "#%% md\n"
    }
   },
   "source": [
    "## Список объектов"
   ]
  },
  {
   "cell_type": "code",
   "execution_count": 2,
   "metadata": {
    "jupyter": {
     "outputs_hidden": false
    },
    "pycharm": {
     "name": "#%%\n"
    }
   },
   "outputs": [],
   "source": [
    "# скачиваем информацию о всех строящихся объектах на сайте \"наш.дом.рф\" в pandas dataframe\n",
    "\n",
    "offset = 0\n",
    "df = pd.DataFrame()\n",
    "\n",
    "while True:\n",
    "        \n",
    "        url = 'https://наш.дом.рф/сервисы/api/kn/object'\n",
    "        params = (\n",
    "                  ('offset', offset),\n",
    "                  ('limit', 100),\n",
    "                  ('sortField', 'devId.devShortCleanNm'),\n",
    "                  ('sortType', 'asc'),\n",
    "                  ('objStatus', '0')\n",
    "                 )\n",
    "         \n",
    "        response = requests.get(url, params = params)\n",
    "        reestr = response.json()\n",
    "        obj = reestr.get('data').get('list')\n",
    "         \n",
    "        if not obj:\n",
    "                   break\n",
    "     \n",
    "        df1 = pd.DataFrame(obj)\n",
    "        df1['developer'] = df1['developer'].apply(lambda x: x['shortName'])\n",
    "        df = df.append(df1, ignore_index=True)\n",
    "        \n",
    "        offset += 100"
   ]
  },
  {
   "cell_type": "code",
   "execution_count": 3,
   "metadata": {},
   "outputs": [
    {
     "data": {
      "text/html": [
       "<div>\n",
       "<style scoped>\n",
       "    .dataframe tbody tr th:only-of-type {\n",
       "        vertical-align: middle;\n",
       "    }\n",
       "\n",
       "    .dataframe tbody tr th {\n",
       "        vertical-align: top;\n",
       "    }\n",
       "\n",
       "    .dataframe thead th {\n",
       "        text-align: right;\n",
       "    }\n",
       "</style>\n",
       "<table border=\"1\" class=\"dataframe\">\n",
       "  <thead>\n",
       "    <tr style=\"text-align: right;\">\n",
       "      <th></th>\n",
       "      <th>hobjId</th>\n",
       "      <th>objId</th>\n",
       "      <th>developer</th>\n",
       "      <th>rpdRegionCd</th>\n",
       "      <th>objAddr</th>\n",
       "      <th>objFloorMin</th>\n",
       "      <th>objFloorMax</th>\n",
       "      <th>objElemLivingCnt</th>\n",
       "      <th>objReady100PercDt</th>\n",
       "      <th>objSquareLiving</th>\n",
       "      <th>...</th>\n",
       "      <th>problemFlag</th>\n",
       "      <th>siteStatus</th>\n",
       "      <th>objGuarantyEscrowFlg</th>\n",
       "      <th>residentialBuildings</th>\n",
       "      <th>rpdNum</th>\n",
       "      <th>pdId</th>\n",
       "      <th>buildType</th>\n",
       "      <th>objStatus</th>\n",
       "      <th>objCommercNm</th>\n",
       "      <th>complexShortName</th>\n",
       "    </tr>\n",
       "  </thead>\n",
       "  <tbody>\n",
       "    <tr>\n",
       "      <th>0</th>\n",
       "      <td>37219</td>\n",
       "      <td>13391</td>\n",
       "      <td>2МЕН ГРУПП</td>\n",
       "      <td>72</td>\n",
       "      <td>г Тюмень, ул Профсоюзная</td>\n",
       "      <td>3</td>\n",
       "      <td>12</td>\n",
       "      <td>44</td>\n",
       "      <td>2022-12-31</td>\n",
       "      <td>4297.44</td>\n",
       "      <td>...</td>\n",
       "      <td>NONE</td>\n",
       "      <td>Строящиеся</td>\n",
       "      <td>0</td>\n",
       "      <td>1</td>\n",
       "      <td>72-000096</td>\n",
       "      <td>28101</td>\n",
       "      <td>Жилое</td>\n",
       "      <td>0</td>\n",
       "      <td>NaN</td>\n",
       "      <td>NaN</td>\n",
       "    </tr>\n",
       "    <tr>\n",
       "      <th>1</th>\n",
       "      <td>39024</td>\n",
       "      <td>13383</td>\n",
       "      <td>2МЕН ГРУПП</td>\n",
       "      <td>72</td>\n",
       "      <td>г Тюмень</td>\n",
       "      <td>4</td>\n",
       "      <td>20</td>\n",
       "      <td>68</td>\n",
       "      <td>2022-12-31</td>\n",
       "      <td>6296.55</td>\n",
       "      <td>...</td>\n",
       "      <td>NONE</td>\n",
       "      <td>Строящиеся</td>\n",
       "      <td>0</td>\n",
       "      <td>1</td>\n",
       "      <td>72-000095</td>\n",
       "      <td>28105</td>\n",
       "      <td>Жилое</td>\n",
       "      <td>0</td>\n",
       "      <td>NaN</td>\n",
       "      <td>NaN</td>\n",
       "    </tr>\n",
       "    <tr>\n",
       "      <th>2</th>\n",
       "      <td>37165</td>\n",
       "      <td>13398</td>\n",
       "      <td>2МЕН ГРУПП</td>\n",
       "      <td>72</td>\n",
       "      <td>г Тюмень, ул Профсоюзная, д. 56</td>\n",
       "      <td>7</td>\n",
       "      <td>10</td>\n",
       "      <td>43</td>\n",
       "      <td>2024-12-31</td>\n",
       "      <td>4812.98</td>\n",
       "      <td>...</td>\n",
       "      <td>NONE</td>\n",
       "      <td>Строящиеся</td>\n",
       "      <td>0</td>\n",
       "      <td>1</td>\n",
       "      <td>72-000097</td>\n",
       "      <td>28141</td>\n",
       "      <td>Жилое</td>\n",
       "      <td>0</td>\n",
       "      <td>NaN</td>\n",
       "      <td>NaN</td>\n",
       "    </tr>\n",
       "    <tr>\n",
       "      <th>3</th>\n",
       "      <td>37201</td>\n",
       "      <td>13397</td>\n",
       "      <td>2МЕН ГРУПП</td>\n",
       "      <td>72</td>\n",
       "      <td>г Тюмень, ул Профсоюзная, д. 56</td>\n",
       "      <td>6</td>\n",
       "      <td>12</td>\n",
       "      <td>65</td>\n",
       "      <td>2024-12-31</td>\n",
       "      <td>6248.51</td>\n",
       "      <td>...</td>\n",
       "      <td>NONE</td>\n",
       "      <td>Строящиеся</td>\n",
       "      <td>0</td>\n",
       "      <td>1</td>\n",
       "      <td>72-000097</td>\n",
       "      <td>28141</td>\n",
       "      <td>Жилое</td>\n",
       "      <td>0</td>\n",
       "      <td>NaN</td>\n",
       "      <td>NaN</td>\n",
       "    </tr>\n",
       "    <tr>\n",
       "      <th>4</th>\n",
       "      <td>34754</td>\n",
       "      <td>13399</td>\n",
       "      <td>2МЕН ГРУПП</td>\n",
       "      <td>72</td>\n",
       "      <td>г Тюмень, ул Профсоюзная, д. 56</td>\n",
       "      <td>1</td>\n",
       "      <td>1</td>\n",
       "      <td>0</td>\n",
       "      <td>2024-12-31</td>\n",
       "      <td>0.00</td>\n",
       "      <td>...</td>\n",
       "      <td>NONE</td>\n",
       "      <td>Строящиеся</td>\n",
       "      <td>0</td>\n",
       "      <td>0</td>\n",
       "      <td>72-000097</td>\n",
       "      <td>28141</td>\n",
       "      <td>Нежилое</td>\n",
       "      <td>0</td>\n",
       "      <td>NaN</td>\n",
       "      <td>NaN</td>\n",
       "    </tr>\n",
       "    <tr>\n",
       "      <th>...</th>\n",
       "      <td>...</td>\n",
       "      <td>...</td>\n",
       "      <td>...</td>\n",
       "      <td>...</td>\n",
       "      <td>...</td>\n",
       "      <td>...</td>\n",
       "      <td>...</td>\n",
       "      <td>...</td>\n",
       "      <td>...</td>\n",
       "      <td>...</td>\n",
       "      <td>...</td>\n",
       "      <td>...</td>\n",
       "      <td>...</td>\n",
       "      <td>...</td>\n",
       "      <td>...</td>\n",
       "      <td>...</td>\n",
       "      <td>...</td>\n",
       "      <td>...</td>\n",
       "      <td>...</td>\n",
       "      <td>...</td>\n",
       "      <td>...</td>\n",
       "    </tr>\n",
       "    <tr>\n",
       "      <th>10788</th>\n",
       "      <td>19791</td>\n",
       "      <td>28071</td>\n",
       "      <td>ЯРКИЙ МИР</td>\n",
       "      <td>50</td>\n",
       "      <td>г Котельники, район мкр.Ковровый, д.1-5, 24-29...</td>\n",
       "      <td>26</td>\n",
       "      <td>26</td>\n",
       "      <td>288</td>\n",
       "      <td>2024-06-30</td>\n",
       "      <td>14870.40</td>\n",
       "      <td>...</td>\n",
       "      <td>NONE</td>\n",
       "      <td>Строящиеся</td>\n",
       "      <td>0</td>\n",
       "      <td>1</td>\n",
       "      <td>50-002025</td>\n",
       "      <td>99284</td>\n",
       "      <td>Жилое</td>\n",
       "      <td>0</td>\n",
       "      <td>Жилой комплекс\"Томилинский бульвар\"</td>\n",
       "      <td>NaN</td>\n",
       "    </tr>\n",
       "    <tr>\n",
       "      <th>10789</th>\n",
       "      <td>19242</td>\n",
       "      <td>28070</td>\n",
       "      <td>ЯРКИЙ МИР</td>\n",
       "      <td>50</td>\n",
       "      <td>г Котельники, район мкр.Ковровый, д.1-5, 24-29...</td>\n",
       "      <td>2</td>\n",
       "      <td>26</td>\n",
       "      <td>768</td>\n",
       "      <td>2025-03-31</td>\n",
       "      <td>29620.10</td>\n",
       "      <td>...</td>\n",
       "      <td>NONE</td>\n",
       "      <td>Строящиеся</td>\n",
       "      <td>0</td>\n",
       "      <td>1</td>\n",
       "      <td>50-002026</td>\n",
       "      <td>99487</td>\n",
       "      <td>Жилое</td>\n",
       "      <td>0</td>\n",
       "      <td>Жилой комплекс\"Томилинский бульвар\"</td>\n",
       "      <td>NaN</td>\n",
       "    </tr>\n",
       "    <tr>\n",
       "      <th>10790</th>\n",
       "      <td>19245</td>\n",
       "      <td>28073</td>\n",
       "      <td>ЯРКИЙ МИР</td>\n",
       "      <td>50</td>\n",
       "      <td>г Котельники, район мкр.Ковровый, д.1-5, 24-29...</td>\n",
       "      <td>26</td>\n",
       "      <td>26</td>\n",
       "      <td>312</td>\n",
       "      <td>2024-06-30</td>\n",
       "      <td>14872.80</td>\n",
       "      <td>...</td>\n",
       "      <td>NONE</td>\n",
       "      <td>Строящиеся</td>\n",
       "      <td>0</td>\n",
       "      <td>1</td>\n",
       "      <td>50-001972</td>\n",
       "      <td>96446</td>\n",
       "      <td>Жилое</td>\n",
       "      <td>0</td>\n",
       "      <td>Жилой комплекс\"Томилинский бульвар\"</td>\n",
       "      <td>NaN</td>\n",
       "    </tr>\n",
       "    <tr>\n",
       "      <th>10791</th>\n",
       "      <td>125044</td>\n",
       "      <td>44447</td>\n",
       "      <td>ЯРОСЛАВЛЬЗАКАЗЧИК</td>\n",
       "      <td>76</td>\n",
       "      <td>г Ярославль, Фрунзенский район, территория в р...</td>\n",
       "      <td>6</td>\n",
       "      <td>6</td>\n",
       "      <td>127</td>\n",
       "      <td>2022-12-31</td>\n",
       "      <td>6764.22</td>\n",
       "      <td>...</td>\n",
       "      <td>NONE</td>\n",
       "      <td>Строящиеся</td>\n",
       "      <td>1</td>\n",
       "      <td>1</td>\n",
       "      <td>76-000546</td>\n",
       "      <td>475093</td>\n",
       "      <td>Жилое</td>\n",
       "      <td>0</td>\n",
       "      <td>NaN</td>\n",
       "      <td>NaN</td>\n",
       "    </tr>\n",
       "    <tr>\n",
       "      <th>10792</th>\n",
       "      <td>125942</td>\n",
       "      <td>45321</td>\n",
       "      <td>‹‹СЗ ‹‹СТРОЙ-НАДЕЖДА››</td>\n",
       "      <td>32</td>\n",
       "      <td>г Брянск, улица Молодой Гвардии, строение Поз.1</td>\n",
       "      <td>11</td>\n",
       "      <td>11</td>\n",
       "      <td>90</td>\n",
       "      <td>2023-03-31</td>\n",
       "      <td>5288.40</td>\n",
       "      <td>...</td>\n",
       "      <td>NONE</td>\n",
       "      <td>Строящиеся</td>\n",
       "      <td>1</td>\n",
       "      <td>1</td>\n",
       "      <td>32-000336</td>\n",
       "      <td>516648</td>\n",
       "      <td>Жилое</td>\n",
       "      <td>0</td>\n",
       "      <td>NaN</td>\n",
       "      <td>NaN</td>\n",
       "    </tr>\n",
       "  </tbody>\n",
       "</table>\n",
       "<p>10793 rows × 24 columns</p>\n",
       "</div>"
      ],
      "text/plain": [
       "       hobjId  objId               developer  rpdRegionCd  \\\n",
       "0       37219  13391              2МЕН ГРУПП           72   \n",
       "1       39024  13383              2МЕН ГРУПП           72   \n",
       "2       37165  13398              2МЕН ГРУПП           72   \n",
       "3       37201  13397              2МЕН ГРУПП           72   \n",
       "4       34754  13399              2МЕН ГРУПП           72   \n",
       "...       ...    ...                     ...          ...   \n",
       "10788   19791  28071               ЯРКИЙ МИР           50   \n",
       "10789   19242  28070               ЯРКИЙ МИР           50   \n",
       "10790   19245  28073               ЯРКИЙ МИР           50   \n",
       "10791  125044  44447       ЯРОСЛАВЛЬЗАКАЗЧИК           76   \n",
       "10792  125942  45321  ‹‹СЗ ‹‹СТРОЙ-НАДЕЖДА››           32   \n",
       "\n",
       "                                                 objAddr  objFloorMin  \\\n",
       "0                               г Тюмень, ул Профсоюзная            3   \n",
       "1                                               г Тюмень            4   \n",
       "2                        г Тюмень, ул Профсоюзная, д. 56            7   \n",
       "3                        г Тюмень, ул Профсоюзная, д. 56            6   \n",
       "4                        г Тюмень, ул Профсоюзная, д. 56            1   \n",
       "...                                                  ...          ...   \n",
       "10788  г Котельники, район мкр.Ковровый, д.1-5, 24-29...           26   \n",
       "10789  г Котельники, район мкр.Ковровый, д.1-5, 24-29...            2   \n",
       "10790  г Котельники, район мкр.Ковровый, д.1-5, 24-29...           26   \n",
       "10791  г Ярославль, Фрунзенский район, территория в р...            6   \n",
       "10792    г Брянск, улица Молодой Гвардии, строение Поз.1           11   \n",
       "\n",
       "       objFloorMax  objElemLivingCnt objReady100PercDt  objSquareLiving  ...  \\\n",
       "0               12                44        2022-12-31          4297.44  ...   \n",
       "1               20                68        2022-12-31          6296.55  ...   \n",
       "2               10                43        2024-12-31          4812.98  ...   \n",
       "3               12                65        2024-12-31          6248.51  ...   \n",
       "4                1                 0        2024-12-31             0.00  ...   \n",
       "...            ...               ...               ...              ...  ...   \n",
       "10788           26               288        2024-06-30         14870.40  ...   \n",
       "10789           26               768        2025-03-31         29620.10  ...   \n",
       "10790           26               312        2024-06-30         14872.80  ...   \n",
       "10791            6               127        2022-12-31          6764.22  ...   \n",
       "10792           11                90        2023-03-31          5288.40  ...   \n",
       "\n",
       "       problemFlag  siteStatus  objGuarantyEscrowFlg  residentialBuildings  \\\n",
       "0             NONE  Строящиеся                     0                     1   \n",
       "1             NONE  Строящиеся                     0                     1   \n",
       "2             NONE  Строящиеся                     0                     1   \n",
       "3             NONE  Строящиеся                     0                     1   \n",
       "4             NONE  Строящиеся                     0                     0   \n",
       "...            ...         ...                   ...                   ...   \n",
       "10788         NONE  Строящиеся                     0                     1   \n",
       "10789         NONE  Строящиеся                     0                     1   \n",
       "10790         NONE  Строящиеся                     0                     1   \n",
       "10791         NONE  Строящиеся                     1                     1   \n",
       "10792         NONE  Строящиеся                     1                     1   \n",
       "\n",
       "          rpdNum    pdId  buildType  objStatus  \\\n",
       "0      72-000096   28101      Жилое          0   \n",
       "1      72-000095   28105      Жилое          0   \n",
       "2      72-000097   28141      Жилое          0   \n",
       "3      72-000097   28141      Жилое          0   \n",
       "4      72-000097   28141    Нежилое          0   \n",
       "...          ...     ...        ...        ...   \n",
       "10788  50-002025   99284      Жилое          0   \n",
       "10789  50-002026   99487      Жилое          0   \n",
       "10790  50-001972   96446      Жилое          0   \n",
       "10791  76-000546  475093      Жилое          0   \n",
       "10792  32-000336  516648      Жилое          0   \n",
       "\n",
       "                              objCommercNm  complexShortName  \n",
       "0                                      NaN               NaN  \n",
       "1                                      NaN               NaN  \n",
       "2                                      NaN               NaN  \n",
       "3                                      NaN               NaN  \n",
       "4                                      NaN               NaN  \n",
       "...                                    ...               ...  \n",
       "10788  Жилой комплекс\"Томилинский бульвар\"               NaN  \n",
       "10789  Жилой комплекс\"Томилинский бульвар\"               NaN  \n",
       "10790  Жилой комплекс\"Томилинский бульвар\"               NaN  \n",
       "10791                                  NaN               NaN  \n",
       "10792                                  NaN               NaN  \n",
       "\n",
       "[10793 rows x 24 columns]"
      ]
     },
     "execution_count": 3,
     "metadata": {},
     "output_type": "execute_result"
    }
   ],
   "source": [
    "df"
   ]
  },
  {
   "cell_type": "code",
   "execution_count": 4,
   "metadata": {
    "jupyter": {
     "outputs_hidden": false
    },
    "pycharm": {
     "name": "#%%\n"
    }
   },
   "outputs": [],
   "source": [
    "# Cохраняем pandas dataframe в excel\n",
    "df.to_csv('nash-dom-rf.csv', index = False)\n",
    "# Cохраняем pandas dataframe в excel\n",
    "df.to_excel('nash-dom-rf.xlsx')\n",
    "# Cохраняем pandas dataframe pickle\n",
    "df.to_pickle('nash-dom-rf.pkl')"
   ]
  },
  {
   "cell_type": "code",
   "execution_count": 8,
   "metadata": {},
   "outputs": [
    {
     "data": {
      "text/plain": [
       "10793"
      ]
     },
     "execution_count": 8,
     "metadata": {},
     "output_type": "execute_result"
    }
   ],
   "source": [
    "# Cохраняем pandas dataframe в БД\n",
    "import sqlite3\n",
    "conn = sqlite3.connect('BDnashDom.db')  \n",
    "c = conn.cursor()\n",
    "df.to_sql('nashDom', conn)"
   ]
  },
  {
   "cell_type": "markdown",
   "metadata": {
    "pycharm": {
     "name": "#%% md\n"
    }
   },
   "source": [
    "# Данные по определенному объекту"
   ]
  },
  {
   "cell_type": "code",
   "execution_count": 6,
   "metadata": {
    "jupyter": {
     "outputs_hidden": false
    },
    "pycharm": {
     "name": "#%%\n"
    }
   },
   "outputs": [],
   "source": [
    "# Для скачивания данных по определенному объекту, нужно добавить его id в конец строки запроса\n",
    "url = f'https://xn--80az8a.xn--d1aqf.xn--p1ai/%D1%81%D0%B5%D1%80%D0%B2%D0%B8%D1%81%D1%8B/api/object/29679'"
   ]
  },
  {
   "cell_type": "code",
   "execution_count": 10,
   "metadata": {},
   "outputs": [
    {
     "data": {
      "application/vnd.jupyter.widget-view+json": {
       "model_id": "bf0de0b06e4a4502a247e2a0aadf5fa4",
       "version_major": 2,
       "version_minor": 0
      },
      "text/plain": [
       "  0%|          | 0/10793 [00:00<?, ?it/s]"
      ]
     },
     "metadata": {},
     "output_type": "display_data"
    },
    {
     "name": "stdout",
     "output_type": "stream",
     "text": [
      "прерывание\n"
     ]
    }
   ],
   "source": [
    "# скачиваем информацию о всех строящихся объектах на сайте \"наш.дом.рф\" в pandas dataframe\n",
    "df2 = pd.DataFrame()\n",
    "for id in tqdm(df.objId):\n",
    "    try:\n",
    "        url = f'https://xn--80az8a.xn--d1aqf.xn--p1ai/%D1%81%D0%B5%D1%80%D0%B2%D0%B8%D1%81%D1%8B/api/object/{id}'\n",
    "        res = requests.get(url)\n",
    "        r = res.json()\n",
    "        obj = r.get('data')\n",
    "    except:\n",
    "        print('прерывание')\n",
    "    else:\n",
    "        df1 = pd.json_normalize(obj)\n",
    "        df2 = df2.append(df1, ignore_index=True)"
   ]
  },
  {
   "cell_type": "code",
   "execution_count": 11,
   "metadata": {},
   "outputs": [
    {
     "data": {
      "text/html": [
       "<div>\n",
       "<style scoped>\n",
       "    .dataframe tbody tr th:only-of-type {\n",
       "        vertical-align: middle;\n",
       "    }\n",
       "\n",
       "    .dataframe tbody tr th {\n",
       "        vertical-align: top;\n",
       "    }\n",
       "\n",
       "    .dataframe thead th {\n",
       "        text-align: right;\n",
       "    }\n",
       "</style>\n",
       "<table border=\"1\" class=\"dataframe\">\n",
       "  <thead>\n",
       "    <tr style=\"text-align: right;\">\n",
       "      <th></th>\n",
       "      <th>id</th>\n",
       "      <th>hobjId</th>\n",
       "      <th>pdId</th>\n",
       "      <th>region</th>\n",
       "      <th>address</th>\n",
       "      <th>floorMin</th>\n",
       "      <th>floorMax</th>\n",
       "      <th>objElemLivingCnt</th>\n",
       "      <th>objReady100PercDt</th>\n",
       "      <th>wallMaterialShortDesc</th>\n",
       "      <th>...</th>\n",
       "      <th>metro.time</th>\n",
       "      <th>metro.isWalk</th>\n",
       "      <th>metro.colors</th>\n",
       "      <th>airQualityIndexValue</th>\n",
       "      <th>developer.bankruptStage.bankruptStageCd</th>\n",
       "      <th>developer.bankruptStage.bankruptStageDesc</th>\n",
       "      <th>developer.bankruptStage.bankruptLawUrl</th>\n",
       "      <th>developer.orgBankruptMsgDttm</th>\n",
       "      <th>complexShortNm</th>\n",
       "      <th>greenAreaIndexValue</th>\n",
       "    </tr>\n",
       "  </thead>\n",
       "  <tbody>\n",
       "    <tr>\n",
       "      <th>0</th>\n",
       "      <td>13391</td>\n",
       "      <td>37219</td>\n",
       "      <td>28101</td>\n",
       "      <td>72</td>\n",
       "      <td>г Тюмень, ул Профсоюзная</td>\n",
       "      <td>3</td>\n",
       "      <td>12</td>\n",
       "      <td>44</td>\n",
       "      <td>2022-12-31</td>\n",
       "      <td>Другое</td>\n",
       "      <td>...</td>\n",
       "      <td>NaN</td>\n",
       "      <td>NaN</td>\n",
       "      <td>NaN</td>\n",
       "      <td>NaN</td>\n",
       "      <td>NaN</td>\n",
       "      <td>NaN</td>\n",
       "      <td>NaN</td>\n",
       "      <td>NaN</td>\n",
       "      <td>NaN</td>\n",
       "      <td>NaN</td>\n",
       "    </tr>\n",
       "    <tr>\n",
       "      <th>1</th>\n",
       "      <td>13383</td>\n",
       "      <td>39024</td>\n",
       "      <td>28105</td>\n",
       "      <td>72</td>\n",
       "      <td>г Тюмень</td>\n",
       "      <td>4</td>\n",
       "      <td>20</td>\n",
       "      <td>68</td>\n",
       "      <td>2022-12-31</td>\n",
       "      <td>Другое</td>\n",
       "      <td>...</td>\n",
       "      <td>NaN</td>\n",
       "      <td>NaN</td>\n",
       "      <td>NaN</td>\n",
       "      <td>NaN</td>\n",
       "      <td>NaN</td>\n",
       "      <td>NaN</td>\n",
       "      <td>NaN</td>\n",
       "      <td>NaN</td>\n",
       "      <td>NaN</td>\n",
       "      <td>NaN</td>\n",
       "    </tr>\n",
       "    <tr>\n",
       "      <th>2</th>\n",
       "      <td>13398</td>\n",
       "      <td>37165</td>\n",
       "      <td>28141</td>\n",
       "      <td>72</td>\n",
       "      <td>г Тюмень, ул Профсоюзная, д. 56</td>\n",
       "      <td>7</td>\n",
       "      <td>10</td>\n",
       "      <td>43</td>\n",
       "      <td>2024-12-31</td>\n",
       "      <td>Другое</td>\n",
       "      <td>...</td>\n",
       "      <td>NaN</td>\n",
       "      <td>NaN</td>\n",
       "      <td>NaN</td>\n",
       "      <td>NaN</td>\n",
       "      <td>NaN</td>\n",
       "      <td>NaN</td>\n",
       "      <td>NaN</td>\n",
       "      <td>NaN</td>\n",
       "      <td>NaN</td>\n",
       "      <td>NaN</td>\n",
       "    </tr>\n",
       "    <tr>\n",
       "      <th>3</th>\n",
       "      <td>13397</td>\n",
       "      <td>37201</td>\n",
       "      <td>28141</td>\n",
       "      <td>72</td>\n",
       "      <td>г Тюмень, ул Профсоюзная, д. 56</td>\n",
       "      <td>6</td>\n",
       "      <td>12</td>\n",
       "      <td>65</td>\n",
       "      <td>2024-12-31</td>\n",
       "      <td>Другое</td>\n",
       "      <td>...</td>\n",
       "      <td>NaN</td>\n",
       "      <td>NaN</td>\n",
       "      <td>NaN</td>\n",
       "      <td>NaN</td>\n",
       "      <td>NaN</td>\n",
       "      <td>NaN</td>\n",
       "      <td>NaN</td>\n",
       "      <td>NaN</td>\n",
       "      <td>NaN</td>\n",
       "      <td>NaN</td>\n",
       "    </tr>\n",
       "    <tr>\n",
       "      <th>4</th>\n",
       "      <td>13399</td>\n",
       "      <td>34754</td>\n",
       "      <td>28141</td>\n",
       "      <td>72</td>\n",
       "      <td>г Тюмень, ул Профсоюзная, д. 56</td>\n",
       "      <td>1</td>\n",
       "      <td>1</td>\n",
       "      <td>0</td>\n",
       "      <td>2024-12-31</td>\n",
       "      <td>Другое</td>\n",
       "      <td>...</td>\n",
       "      <td>NaN</td>\n",
       "      <td>NaN</td>\n",
       "      <td>NaN</td>\n",
       "      <td>NaN</td>\n",
       "      <td>NaN</td>\n",
       "      <td>NaN</td>\n",
       "      <td>NaN</td>\n",
       "      <td>NaN</td>\n",
       "      <td>NaN</td>\n",
       "      <td>NaN</td>\n",
       "    </tr>\n",
       "    <tr>\n",
       "      <th>...</th>\n",
       "      <td>...</td>\n",
       "      <td>...</td>\n",
       "      <td>...</td>\n",
       "      <td>...</td>\n",
       "      <td>...</td>\n",
       "      <td>...</td>\n",
       "      <td>...</td>\n",
       "      <td>...</td>\n",
       "      <td>...</td>\n",
       "      <td>...</td>\n",
       "      <td>...</td>\n",
       "      <td>...</td>\n",
       "      <td>...</td>\n",
       "      <td>...</td>\n",
       "      <td>...</td>\n",
       "      <td>...</td>\n",
       "      <td>...</td>\n",
       "      <td>...</td>\n",
       "      <td>...</td>\n",
       "      <td>...</td>\n",
       "      <td>...</td>\n",
       "    </tr>\n",
       "    <tr>\n",
       "      <th>10787</th>\n",
       "      <td>28071</td>\n",
       "      <td>19791</td>\n",
       "      <td>99284</td>\n",
       "      <td>50</td>\n",
       "      <td>г Котельники, район мкр.Ковровый, д.1-5, 24-29...</td>\n",
       "      <td>26</td>\n",
       "      <td>26</td>\n",
       "      <td>288</td>\n",
       "      <td>2024-06-30</td>\n",
       "      <td>Другое</td>\n",
       "      <td>...</td>\n",
       "      <td>24.016667</td>\n",
       "      <td>False</td>\n",
       "      <td>[#943E90]</td>\n",
       "      <td>8.0</td>\n",
       "      <td>NaN</td>\n",
       "      <td>NaN</td>\n",
       "      <td>NaN</td>\n",
       "      <td>NaN</td>\n",
       "      <td>NaN</td>\n",
       "      <td>NaN</td>\n",
       "    </tr>\n",
       "    <tr>\n",
       "      <th>10788</th>\n",
       "      <td>28070</td>\n",
       "      <td>19242</td>\n",
       "      <td>99487</td>\n",
       "      <td>50</td>\n",
       "      <td>г Котельники, район мкр.Ковровый, д.1-5, 24-29...</td>\n",
       "      <td>2</td>\n",
       "      <td>26</td>\n",
       "      <td>768</td>\n",
       "      <td>2025-03-31</td>\n",
       "      <td>Другое</td>\n",
       "      <td>...</td>\n",
       "      <td>21.416667</td>\n",
       "      <td>True</td>\n",
       "      <td>[#943E90]</td>\n",
       "      <td>7.0</td>\n",
       "      <td>NaN</td>\n",
       "      <td>NaN</td>\n",
       "      <td>NaN</td>\n",
       "      <td>NaN</td>\n",
       "      <td>NaN</td>\n",
       "      <td>NaN</td>\n",
       "    </tr>\n",
       "    <tr>\n",
       "      <th>10789</th>\n",
       "      <td>28073</td>\n",
       "      <td>19245</td>\n",
       "      <td>96446</td>\n",
       "      <td>50</td>\n",
       "      <td>г Котельники, район мкр.Ковровый, д.1-5, 24-29...</td>\n",
       "      <td>26</td>\n",
       "      <td>26</td>\n",
       "      <td>312</td>\n",
       "      <td>2024-06-30</td>\n",
       "      <td>Другое</td>\n",
       "      <td>...</td>\n",
       "      <td>23.200000</td>\n",
       "      <td>True</td>\n",
       "      <td>[#943E90]</td>\n",
       "      <td>8.0</td>\n",
       "      <td>NaN</td>\n",
       "      <td>NaN</td>\n",
       "      <td>NaN</td>\n",
       "      <td>NaN</td>\n",
       "      <td>NaN</td>\n",
       "      <td>NaN</td>\n",
       "    </tr>\n",
       "    <tr>\n",
       "      <th>10790</th>\n",
       "      <td>44447</td>\n",
       "      <td>125044</td>\n",
       "      <td>475093</td>\n",
       "      <td>76</td>\n",
       "      <td>г Ярославль, Фрунзенский район, территория в р...</td>\n",
       "      <td>6</td>\n",
       "      <td>6</td>\n",
       "      <td>127</td>\n",
       "      <td>2022-12-31</td>\n",
       "      <td>Кирпич</td>\n",
       "      <td>...</td>\n",
       "      <td>NaN</td>\n",
       "      <td>NaN</td>\n",
       "      <td>NaN</td>\n",
       "      <td>NaN</td>\n",
       "      <td>NaN</td>\n",
       "      <td>NaN</td>\n",
       "      <td>NaN</td>\n",
       "      <td>NaN</td>\n",
       "      <td>NaN</td>\n",
       "      <td>NaN</td>\n",
       "    </tr>\n",
       "    <tr>\n",
       "      <th>10791</th>\n",
       "      <td>45321</td>\n",
       "      <td>125942</td>\n",
       "      <td>516648</td>\n",
       "      <td>32</td>\n",
       "      <td>г Брянск, улица Молодой Гвардии, строение Поз.1</td>\n",
       "      <td>11</td>\n",
       "      <td>11</td>\n",
       "      <td>90</td>\n",
       "      <td>2023-03-31</td>\n",
       "      <td>Монолит-кирпич</td>\n",
       "      <td>...</td>\n",
       "      <td>NaN</td>\n",
       "      <td>NaN</td>\n",
       "      <td>NaN</td>\n",
       "      <td>NaN</td>\n",
       "      <td>NaN</td>\n",
       "      <td>NaN</td>\n",
       "      <td>NaN</td>\n",
       "      <td>NaN</td>\n",
       "      <td>NaN</td>\n",
       "      <td>NaN</td>\n",
       "    </tr>\n",
       "  </tbody>\n",
       "</table>\n",
       "<p>10792 rows × 110 columns</p>\n",
       "</div>"
      ],
      "text/plain": [
       "          id  hobjId    pdId  region  \\\n",
       "0      13391   37219   28101      72   \n",
       "1      13383   39024   28105      72   \n",
       "2      13398   37165   28141      72   \n",
       "3      13397   37201   28141      72   \n",
       "4      13399   34754   28141      72   \n",
       "...      ...     ...     ...     ...   \n",
       "10787  28071   19791   99284      50   \n",
       "10788  28070   19242   99487      50   \n",
       "10789  28073   19245   96446      50   \n",
       "10790  44447  125044  475093      76   \n",
       "10791  45321  125942  516648      32   \n",
       "\n",
       "                                                 address  floorMin  floorMax  \\\n",
       "0                               г Тюмень, ул Профсоюзная         3        12   \n",
       "1                                               г Тюмень         4        20   \n",
       "2                        г Тюмень, ул Профсоюзная, д. 56         7        10   \n",
       "3                        г Тюмень, ул Профсоюзная, д. 56         6        12   \n",
       "4                        г Тюмень, ул Профсоюзная, д. 56         1         1   \n",
       "...                                                  ...       ...       ...   \n",
       "10787  г Котельники, район мкр.Ковровый, д.1-5, 24-29...        26        26   \n",
       "10788  г Котельники, район мкр.Ковровый, д.1-5, 24-29...         2        26   \n",
       "10789  г Котельники, район мкр.Ковровый, д.1-5, 24-29...        26        26   \n",
       "10790  г Ярославль, Фрунзенский район, территория в р...         6         6   \n",
       "10791    г Брянск, улица Молодой Гвардии, строение Поз.1        11        11   \n",
       "\n",
       "       objElemLivingCnt objReady100PercDt wallMaterialShortDesc  ...  \\\n",
       "0                    44        2022-12-31                Другое  ...   \n",
       "1                    68        2022-12-31                Другое  ...   \n",
       "2                    43        2024-12-31                Другое  ...   \n",
       "3                    65        2024-12-31                Другое  ...   \n",
       "4                     0        2024-12-31                Другое  ...   \n",
       "...                 ...               ...                   ...  ...   \n",
       "10787               288        2024-06-30                Другое  ...   \n",
       "10788               768        2025-03-31                Другое  ...   \n",
       "10789               312        2024-06-30                Другое  ...   \n",
       "10790               127        2022-12-31                Кирпич  ...   \n",
       "10791                90        2023-03-31        Монолит-кирпич  ...   \n",
       "\n",
       "      metro.time metro.isWalk  metro.colors  airQualityIndexValue  \\\n",
       "0            NaN          NaN           NaN                   NaN   \n",
       "1            NaN          NaN           NaN                   NaN   \n",
       "2            NaN          NaN           NaN                   NaN   \n",
       "3            NaN          NaN           NaN                   NaN   \n",
       "4            NaN          NaN           NaN                   NaN   \n",
       "...          ...          ...           ...                   ...   \n",
       "10787  24.016667        False     [#943E90]                   8.0   \n",
       "10788  21.416667         True     [#943E90]                   7.0   \n",
       "10789  23.200000         True     [#943E90]                   8.0   \n",
       "10790        NaN          NaN           NaN                   NaN   \n",
       "10791        NaN          NaN           NaN                   NaN   \n",
       "\n",
       "      developer.bankruptStage.bankruptStageCd  \\\n",
       "0                                         NaN   \n",
       "1                                         NaN   \n",
       "2                                         NaN   \n",
       "3                                         NaN   \n",
       "4                                         NaN   \n",
       "...                                       ...   \n",
       "10787                                     NaN   \n",
       "10788                                     NaN   \n",
       "10789                                     NaN   \n",
       "10790                                     NaN   \n",
       "10791                                     NaN   \n",
       "\n",
       "      developer.bankruptStage.bankruptStageDesc  \\\n",
       "0                                           NaN   \n",
       "1                                           NaN   \n",
       "2                                           NaN   \n",
       "3                                           NaN   \n",
       "4                                           NaN   \n",
       "...                                         ...   \n",
       "10787                                       NaN   \n",
       "10788                                       NaN   \n",
       "10789                                       NaN   \n",
       "10790                                       NaN   \n",
       "10791                                       NaN   \n",
       "\n",
       "      developer.bankruptStage.bankruptLawUrl developer.orgBankruptMsgDttm  \\\n",
       "0                                        NaN                          NaN   \n",
       "1                                        NaN                          NaN   \n",
       "2                                        NaN                          NaN   \n",
       "3                                        NaN                          NaN   \n",
       "4                                        NaN                          NaN   \n",
       "...                                      ...                          ...   \n",
       "10787                                    NaN                          NaN   \n",
       "10788                                    NaN                          NaN   \n",
       "10789                                    NaN                          NaN   \n",
       "10790                                    NaN                          NaN   \n",
       "10791                                    NaN                          NaN   \n",
       "\n",
       "      complexShortNm  greenAreaIndexValue  \n",
       "0                NaN                  NaN  \n",
       "1                NaN                  NaN  \n",
       "2                NaN                  NaN  \n",
       "3                NaN                  NaN  \n",
       "4                NaN                  NaN  \n",
       "...              ...                  ...  \n",
       "10787            NaN                  NaN  \n",
       "10788            NaN                  NaN  \n",
       "10789            NaN                  NaN  \n",
       "10790            NaN                  NaN  \n",
       "10791            NaN                  NaN  \n",
       "\n",
       "[10792 rows x 110 columns]"
      ]
     },
     "execution_count": 11,
     "metadata": {},
     "output_type": "execute_result"
    }
   ],
   "source": [
    "df2"
   ]
  },
  {
   "cell_type": "code",
   "execution_count": 12,
   "metadata": {},
   "outputs": [],
   "source": [
    "# Cохраняем pandas dataframe в excel\n",
    "df2.to_csv('nash-dom-rf1.csv', index = False)\n",
    "# Cохраняем pandas dataframe в excel\n",
    "df2.to_excel('nash-dom-rf1.xlsx')\n",
    "# Cохраняем pandas dataframe pickle\n",
    "df2.to_pickle('nash-dom-rf1.pkl')"
   ]
  },
  {
   "cell_type": "code",
   "execution_count": 21,
   "metadata": {},
   "outputs": [
    {
     "data": {
      "text/plain": [
       "10792"
      ]
     },
     "execution_count": 21,
     "metadata": {},
     "output_type": "execute_result"
    }
   ],
   "source": [
    "# Cохраняем pandas dataframe в БД\n",
    "conn1 = sqlite3.connect('BD_1.db')  \n",
    "c1 = conn1.cursor()\n",
    "df2.applymap(str).to_sql('ND_1', conn1)"
   ]
  },
  {
   "cell_type": "markdown",
   "metadata": {},
   "source": [
    "# Задание *\n",
    "* Написать скрипт, который скачивает фотографии всех строящихся объектов с сайта \"наш.дом.рф\""
   ]
  },
  {
   "cell_type": "code",
   "execution_count": 22,
   "metadata": {},
   "outputs": [],
   "source": [
    "# скачиваем фотографии всех строящихся объектов с сайта \"наш.дом.рф\"\n",
    "# источник: https://waksoft.susu.ru/2021/11/03/kak-ispolzuya-python-zagruzit-vse-izobrazheniya-s-veb-straniczy/\n",
    "\n",
    "def is_valid(url):\n",
    "    \"\"\"\n",
    "    Проверяем, является ли url действительным URL\n",
    "    \"\"\"\n",
    "    parsed = urlparse(url)\n",
    "    return bool(parsed.netloc) and bool(parsed.scheme)\n",
    "\n",
    "def get_all_images(url):\n",
    "    \"\"\"\n",
    "    Возвращает все URL‑адреса изображений по одному `url`\n",
    "    \"\"\"\n",
    "    soup = bs(requests.get(url).content, \"html.parser\")\n",
    "    urls = []\n",
    "    for img in tqdm(soup.find_all(\"img\"), \"Получено изображение\"):\n",
    "        img_url = img.attrs.get(\"src\")\n",
    "        if not img_url:\n",
    "            # если img не содержит атрибута src, просто пропускаем\n",
    "            continue\n",
    "        # сделаем URL абсолютным, присоединив имя домена к только что извлеченному URL\n",
    "        img_url = urljoin(url, img_url)\n",
    "        # удалим URL‑адреса типа '/hsts-pixel.gif?c=3.2.5'\n",
    "        try:\n",
    "            pos = img_url.index(\"?\")\n",
    "            img_url = img_url[:pos]\n",
    "        except ValueError:\n",
    "            pass\n",
    "        # наконец, если URL действителен\n",
    "        if is_valid(img_url):\n",
    "            urls.append(img_url)\n",
    "    return urls\n",
    "\n",
    "def download(url, pathname):\n",
    "    \"\"\"\n",
    "    Загружает файл по URL‑адресу и помещает его в папку `pathname`\n",
    "    \"\"\"\n",
    "    # если путь не существует, создать dir\n",
    "    if not os.path.isdir(pathname):\n",
    "        os.makedirs(pathname)\n",
    "    # загружаем тело ответа по частям, а не сразу\n",
    "    response = requests.get(url, stream=True)\n",
    "    # получить общий размер файла\n",
    "    file_size = int(response.headers.get(\"Content-Length\", 0))\n",
    "    # получаем имя файла\n",
    "    filename = os.path.join(pathname, url.split(\"/\")[-1])\n",
    "    # индикатор выполнения, изменение единицы измерения на байты вместо итераций (по умолчанию tqdm)\n",
    "    progress = tqdm(response.iter_content(1024), f\"Загружен {filename}\", total=file_size, unit=\"B\", unit_scale=True, unit_divisor=1024)\n",
    "    with open(filename, \"wb\") as f:\n",
    "        for data in progress.iterable:\n",
    "            # записываем прочитанные данные в файл\n",
    "            f.write(data)\n",
    "            # обновление индикатора выполнения вручную\n",
    "            progress.update(len(data))\n",
    "\n",
    "def main(url, path):\n",
    "    # получить все изображения\n",
    "    imgs = get_all_images(url)\n",
    "    for img in imgs:\n",
    "        # скачать для каждого img\n",
    "        download(img, path)"
   ]
  },
  {
   "cell_type": "code",
   "execution_count": 23,
   "metadata": {},
   "outputs": [
    {
     "data": {
      "application/vnd.jupyter.widget-view+json": {
       "model_id": "fd5ec365ba4d45e89672a88d226489ad",
       "version_major": 2,
       "version_minor": 0
      },
      "text/plain": [
       "  0%|          | 0/5 [00:00<?, ?it/s]"
      ]
     },
     "metadata": {},
     "output_type": "display_data"
    },
    {
     "data": {
      "application/vnd.jupyter.widget-view+json": {
       "model_id": "f3f52e231a7d42868bb6feb5e2962c65",
       "version_major": 2,
       "version_minor": 0
      },
      "text/plain": [
       "Получено изображение:   0%|          | 0/69 [00:00<?, ?it/s]"
      ]
     },
     "metadata": {},
     "output_type": "display_data"
    },
    {
     "data": {
      "application/vnd.jupyter.widget-view+json": {
       "model_id": "51015327c4ed418fac3271cb37f427f6",
       "version_major": 2,
       "version_minor": 0
      },
      "text/plain": [
       "Загружен nash-dom\\47282070:   0%|          | 0.00/43.0 [00:00<?, ?B/s]"
      ]
     },
     "metadata": {},
     "output_type": "display_data"
    },
    {
     "data": {
      "application/vnd.jupyter.widget-view+json": {
       "model_id": "3c71d5bdf36044cb98c237ad094f0bae",
       "version_major": 2,
       "version_minor": 0
      },
      "text/plain": [
       "Загружен nash-dom\\1eca0ffa-fb5f-4b30-a239-632c4c79ecd2:   0%|          | 0.00/303k [00:00<?, ?B/s]"
      ]
     },
     "metadata": {},
     "output_type": "display_data"
    },
    {
     "data": {
      "application/vnd.jupyter.widget-view+json": {
       "model_id": "b9219cd4024d4cb9ada798e3f5a4307d",
       "version_major": 2,
       "version_minor": 0
      },
      "text/plain": [
       "Загружен nash-dom\\a7d88189-046a-49bb-834a-d1745b751eec:   0%|          | 0.00/991k [00:00<?, ?B/s]"
      ]
     },
     "metadata": {},
     "output_type": "display_data"
    },
    {
     "data": {
      "application/vnd.jupyter.widget-view+json": {
       "model_id": "012afbd378de4063aa3c38274c35d380",
       "version_major": 2,
       "version_minor": 0
      },
      "text/plain": [
       "Загружен nash-dom\\b62e21ec-606d-40a9-8859-39a6e163a3f0:   0%|          | 0.00/0.99M [00:00<?, ?B/s]"
      ]
     },
     "metadata": {},
     "output_type": "display_data"
    },
    {
     "data": {
      "application/vnd.jupyter.widget-view+json": {
       "model_id": "b15ae6ed6efb4494bef109053fbf48af",
       "version_major": 2,
       "version_minor": 0
      },
      "text/plain": [
       "Загружен nash-dom\\81ceec28-f574-4b2c-a5d0-59bcfef0e332:   0%|          | 0.00/1.03M [00:00<?, ?B/s]"
      ]
     },
     "metadata": {},
     "output_type": "display_data"
    },
    {
     "data": {
      "application/vnd.jupyter.widget-view+json": {
       "model_id": "722ecf9d194f4d85852838ef1d5ec230",
       "version_major": 2,
       "version_minor": 0
      },
      "text/plain": [
       "Загружен nash-dom\\95643167-b78b-4483-bd01-aa52b7515917:   0%|          | 0.00/979k [00:00<?, ?B/s]"
      ]
     },
     "metadata": {},
     "output_type": "display_data"
    },
    {
     "data": {
      "application/vnd.jupyter.widget-view+json": {
       "model_id": "3d2b8ce58cff42d98e855b6a7dfcd30f",
       "version_major": 2,
       "version_minor": 0
      },
      "text/plain": [
       "Загружен nash-dom\\c6e3d62e-6586-4e95-b5d8-c451e705c529:   0%|          | 0.00/1.04M [00:00<?, ?B/s]"
      ]
     },
     "metadata": {},
     "output_type": "display_data"
    },
    {
     "data": {
      "application/vnd.jupyter.widget-view+json": {
       "model_id": "2a977437c85b4e1b80b00d509c0fa235",
       "version_major": 2,
       "version_minor": 0
      },
      "text/plain": [
       "Загружен nash-dom\\af008ae4-ea45-430a-a87f-d7bb257d8abf:   0%|          | 0.00/1.28M [00:00<?, ?B/s]"
      ]
     },
     "metadata": {},
     "output_type": "display_data"
    },
    {
     "data": {
      "application/vnd.jupyter.widget-view+json": {
       "model_id": "1fa05bdfb9cd46f2b1d38474451e9ac7",
       "version_major": 2,
       "version_minor": 0
      },
      "text/plain": [
       "Загружен nash-dom\\c4ae6be4-0f10-4d39-a8eb-5177a8d0100a:   0%|          | 0.00/1.52M [00:00<?, ?B/s]"
      ]
     },
     "metadata": {},
     "output_type": "display_data"
    },
    {
     "data": {
      "application/vnd.jupyter.widget-view+json": {
       "model_id": "c04a02fd10d8405a946dc6a23e6acdc2",
       "version_major": 2,
       "version_minor": 0
      },
      "text/plain": [
       "Загружен nash-dom\\21bf93c1-e73f-4279-b24d-ec691f60df7f:   0%|          | 0.00/1.38M [00:00<?, ?B/s]"
      ]
     },
     "metadata": {},
     "output_type": "display_data"
    },
    {
     "data": {
      "application/vnd.jupyter.widget-view+json": {
       "model_id": "4c23d93712a84149b03108dbaa7f22c9",
       "version_major": 2,
       "version_minor": 0
      },
      "text/plain": [
       "Загружен nash-dom\\90f5ba53-f778-4054-bebc-50b250f3bc05:   0%|          | 0.00/1.39M [00:00<?, ?B/s]"
      ]
     },
     "metadata": {},
     "output_type": "display_data"
    },
    {
     "data": {
      "application/vnd.jupyter.widget-view+json": {
       "model_id": "84c90a08c98446fe93df1c786bd85e1e",
       "version_major": 2,
       "version_minor": 0
      },
      "text/plain": [
       "Загружен nash-dom\\3553f4ec-8d7e-4303-ba25-3ec6f03bfe39:   0%|          | 0.00/1.02M [00:00<?, ?B/s]"
      ]
     },
     "metadata": {},
     "output_type": "display_data"
    },
    {
     "data": {
      "application/vnd.jupyter.widget-view+json": {
       "model_id": "eb00bf20d22b4ec1891c0cbc3ccc637c",
       "version_major": 2,
       "version_minor": 0
      },
      "text/plain": [
       "Загружен nash-dom\\c86e88fd-9f16-4f84-8272-e3f73ae4e0d1:   0%|          | 0.00/159k [00:00<?, ?B/s]"
      ]
     },
     "metadata": {},
     "output_type": "display_data"
    },
    {
     "data": {
      "application/vnd.jupyter.widget-view+json": {
       "model_id": "19c5918bca7646f5be5303b86c9eba41",
       "version_major": 2,
       "version_minor": 0
      },
      "text/plain": [
       "Загружен nash-dom\\b6098072-245c-449e-aa37-3c391c010c34:   0%|          | 0.00/101k [00:00<?, ?B/s]"
      ]
     },
     "metadata": {},
     "output_type": "display_data"
    },
    {
     "data": {
      "application/vnd.jupyter.widget-view+json": {
       "model_id": "1f57a6c4d1f043fa88a527b594672c69",
       "version_major": 2,
       "version_minor": 0
      },
      "text/plain": [
       "Загружен nash-dom\\e93edceb-545a-462c-b26b-b2924c4b5212:   0%|          | 0.00/266k [00:00<?, ?B/s]"
      ]
     },
     "metadata": {},
     "output_type": "display_data"
    },
    {
     "data": {
      "application/vnd.jupyter.widget-view+json": {
       "model_id": "30c7deb1d9bb45dd8fba00eb19be6929",
       "version_major": 2,
       "version_minor": 0
      },
      "text/plain": [
       "Загружен nash-dom\\dea2f9b6-e3a6-471c-99a7-485781d4413e:   0%|          | 0.00/210k [00:00<?, ?B/s]"
      ]
     },
     "metadata": {},
     "output_type": "display_data"
    },
    {
     "data": {
      "application/vnd.jupyter.widget-view+json": {
       "model_id": "a2ca1197784349bdbab4364856717c98",
       "version_major": 2,
       "version_minor": 0
      },
      "text/plain": [
       "Загружен nash-dom\\5759b89c-4349-4a51-b49e-8185ce61b295:   0%|          | 0.00/137k [00:00<?, ?B/s]"
      ]
     },
     "metadata": {},
     "output_type": "display_data"
    },
    {
     "data": {
      "application/vnd.jupyter.widget-view+json": {
       "model_id": "26f9517c74c142ca953efe206c3bc477",
       "version_major": 2,
       "version_minor": 0
      },
      "text/plain": [
       "Загружен nash-dom\\64a8353e-0adf-43a5-b024-80dc927e2689:   0%|          | 0.00/155k [00:00<?, ?B/s]"
      ]
     },
     "metadata": {},
     "output_type": "display_data"
    },
    {
     "data": {
      "application/vnd.jupyter.widget-view+json": {
       "model_id": "31d400ae3b334d1d812b70a109246f58",
       "version_major": 2,
       "version_minor": 0
      },
      "text/plain": [
       "Загружен nash-dom\\d7ae1165-e9ad-4620-b98d-f6b5f1c8e03e:   0%|          | 0.00/91.5k [00:00<?, ?B/s]"
      ]
     },
     "metadata": {},
     "output_type": "display_data"
    },
    {
     "data": {
      "application/vnd.jupyter.widget-view+json": {
       "model_id": "1a7ca04b9a0247329c63b80d1639132c",
       "version_major": 2,
       "version_minor": 0
      },
      "text/plain": [
       "Загружен nash-dom\\315f13ef-710c-46f4-ab63-1a863153203b:   0%|          | 0.00/320k [00:00<?, ?B/s]"
      ]
     },
     "metadata": {},
     "output_type": "display_data"
    },
    {
     "data": {
      "application/vnd.jupyter.widget-view+json": {
       "model_id": "92c4e4b77c7e41f99a52b99aa3e7aa31",
       "version_major": 2,
       "version_minor": 0
      },
      "text/plain": [
       "Загружен nash-dom\\4152d35f-ce33-418b-adb7-b298dbf1f4e4:   0%|          | 0.00/366k [00:00<?, ?B/s]"
      ]
     },
     "metadata": {},
     "output_type": "display_data"
    },
    {
     "data": {
      "application/vnd.jupyter.widget-view+json": {
       "model_id": "6d4670c95f3a4ac8af473a93d245fb9c",
       "version_major": 2,
       "version_minor": 0
      },
      "text/plain": [
       "Загружен nash-dom\\3078b6ef-e685-448c-85e8-68984b99b8f5:   0%|          | 0.00/324k [00:00<?, ?B/s]"
      ]
     },
     "metadata": {},
     "output_type": "display_data"
    },
    {
     "data": {
      "application/vnd.jupyter.widget-view+json": {
       "model_id": "794f055a688a4c2197a9dae7d8413cb5",
       "version_major": 2,
       "version_minor": 0
      },
      "text/plain": [
       "Загружен nash-dom\\effb5457-2854-4e1e-b89a-a206532bf748:   0%|          | 0.00/310k [00:00<?, ?B/s]"
      ]
     },
     "metadata": {},
     "output_type": "display_data"
    },
    {
     "data": {
      "application/vnd.jupyter.widget-view+json": {
       "model_id": "fcc470072385495abc38c9bae9492ef4",
       "version_major": 2,
       "version_minor": 0
      },
      "text/plain": [
       "Загружен nash-dom\\43f6902a-889f-4a5d-8a0b-816c9d87b05d:   0%|          | 0.00/327k [00:00<?, ?B/s]"
      ]
     },
     "metadata": {},
     "output_type": "display_data"
    },
    {
     "data": {
      "application/vnd.jupyter.widget-view+json": {
       "model_id": "0b8178c47a2448499c1f54dfcaffc39f",
       "version_major": 2,
       "version_minor": 0
      },
      "text/plain": [
       "Загружен nash-dom\\1cd9d61b-0a02-4822-930f-13b81c4b4264:   0%|          | 0.00/174k [00:00<?, ?B/s]"
      ]
     },
     "metadata": {},
     "output_type": "display_data"
    },
    {
     "data": {
      "application/vnd.jupyter.widget-view+json": {
       "model_id": "1dd1144f1102442d9529743c61e4c42c",
       "version_major": 2,
       "version_minor": 0
      },
      "text/plain": [
       "Загружен nash-dom\\cb91a1d5-1179-4115-b1e8-8d5106fa6428:   0%|          | 0.00/158k [00:00<?, ?B/s]"
      ]
     },
     "metadata": {},
     "output_type": "display_data"
    },
    {
     "data": {
      "application/vnd.jupyter.widget-view+json": {
       "model_id": "02c84d32ffd641c8b047107893fb0df3",
       "version_major": 2,
       "version_minor": 0
      },
      "text/plain": [
       "Загружен nash-dom\\d5673280-e62a-4fef-936c-1f881ef0d413:   0%|          | 0.00/80.7k [00:00<?, ?B/s]"
      ]
     },
     "metadata": {},
     "output_type": "display_data"
    },
    {
     "data": {
      "application/vnd.jupyter.widget-view+json": {
       "model_id": "3be5e3f2b08b4768a7d06d0bf44cb2ea",
       "version_major": 2,
       "version_minor": 0
      },
      "text/plain": [
       "Загружен nash-dom\\6549bc39-8c6b-4178-bf1c-ba812fd3e9f6:   0%|          | 0.00/5.71M [00:00<?, ?B/s]"
      ]
     },
     "metadata": {},
     "output_type": "display_data"
    },
    {
     "data": {
      "application/vnd.jupyter.widget-view+json": {
       "model_id": "69cb77abf7b1466dbe7b2d417664f745",
       "version_major": 2,
       "version_minor": 0
      },
      "text/plain": [
       "Загружен nash-dom\\757c9948-b552-47bf-bab9-433833ff2a4c:   0%|          | 0.00/2.27M [00:00<?, ?B/s]"
      ]
     },
     "metadata": {},
     "output_type": "display_data"
    },
    {
     "data": {
      "application/vnd.jupyter.widget-view+json": {
       "model_id": "523c76753cd645f1a0748a0ee2f6e889",
       "version_major": 2,
       "version_minor": 0
      },
      "text/plain": [
       "Загружен nash-dom\\d80c7376-72dd-444a-86ae-3c593958c1b1:   0%|          | 0.00/7.03M [00:00<?, ?B/s]"
      ]
     },
     "metadata": {},
     "output_type": "display_data"
    },
    {
     "data": {
      "application/vnd.jupyter.widget-view+json": {
       "model_id": "9234da3ddf954ceea2529f81cb9abe44",
       "version_major": 2,
       "version_minor": 0
      },
      "text/plain": [
       "Загружен nash-dom\\9494f852-50cf-436f-bffc-d9b4789ebb65:   0%|          | 0.00/1.52M [00:00<?, ?B/s]"
      ]
     },
     "metadata": {},
     "output_type": "display_data"
    },
    {
     "data": {
      "application/vnd.jupyter.widget-view+json": {
       "model_id": "7ee3e1f7e823424cae9e72e8e26a8dc8",
       "version_major": 2,
       "version_minor": 0
      },
      "text/plain": [
       "Загружен nash-dom\\50d4a275-d839-4270-b363-248327b2bd06:   0%|          | 0.00/299k [00:00<?, ?B/s]"
      ]
     },
     "metadata": {},
     "output_type": "display_data"
    },
    {
     "data": {
      "application/vnd.jupyter.widget-view+json": {
       "model_id": "4aa56de0b6b0417895a0fa5e58bc2bf1",
       "version_major": 2,
       "version_minor": 0
      },
      "text/plain": [
       "Загружен nash-dom\\1f29d428-b698-4034-b203-c045f39317ad:   0%|          | 0.00/212k [00:00<?, ?B/s]"
      ]
     },
     "metadata": {},
     "output_type": "display_data"
    },
    {
     "data": {
      "application/vnd.jupyter.widget-view+json": {
       "model_id": "9dde62be4db74a2aae9bb80ee92273b1",
       "version_major": 2,
       "version_minor": 0
      },
      "text/plain": [
       "Загружен nash-dom\\7859280d-4649-413e-a5d4-44ba155dc30c:   0%|          | 0.00/753k [00:00<?, ?B/s]"
      ]
     },
     "metadata": {},
     "output_type": "display_data"
    },
    {
     "data": {
      "application/vnd.jupyter.widget-view+json": {
       "model_id": "36c69ee7c8a54168a19297b6fa49d207",
       "version_major": 2,
       "version_minor": 0
      },
      "text/plain": [
       "Загружен nash-dom\\9004694f-9495-4b9f-93ca-7af9bc000b19:   0%|          | 0.00/57.0k [00:00<?, ?B/s]"
      ]
     },
     "metadata": {},
     "output_type": "display_data"
    },
    {
     "data": {
      "application/vnd.jupyter.widget-view+json": {
       "model_id": "531cff91691147dbbc2f8000fe94512b",
       "version_major": 2,
       "version_minor": 0
      },
      "text/plain": [
       "Загружен nash-dom\\b47d7708-d580-4030-98a4-97bd110a412c:   0%|          | 0.00/112k [00:00<?, ?B/s]"
      ]
     },
     "metadata": {},
     "output_type": "display_data"
    },
    {
     "data": {
      "application/vnd.jupyter.widget-view+json": {
       "model_id": "f0d5ecfa3a534126b1ed14961f92ec8f",
       "version_major": 2,
       "version_minor": 0
      },
      "text/plain": [
       "Загружен nash-dom\\66c96625-5d59-427b-94ae-da64b2abe8b1:   0%|          | 0.00/225k [00:00<?, ?B/s]"
      ]
     },
     "metadata": {},
     "output_type": "display_data"
    },
    {
     "data": {
      "application/vnd.jupyter.widget-view+json": {
       "model_id": "88343f6edfbd434495044a5b332f11f5",
       "version_major": 2,
       "version_minor": 0
      },
      "text/plain": [
       "Загружен nash-dom\\be8a9466-fd78-47e4-a9b1-d1538b7e19c4:   0%|          | 0.00/119k [00:00<?, ?B/s]"
      ]
     },
     "metadata": {},
     "output_type": "display_data"
    },
    {
     "data": {
      "application/vnd.jupyter.widget-view+json": {
       "model_id": "311edc225eb84f1f921920eaf3337261",
       "version_major": 2,
       "version_minor": 0
      },
      "text/plain": [
       "Загружен nash-dom\\caa43557-079b-42bf-930d-3038eaa417e4:   0%|          | 0.00/70.9k [00:00<?, ?B/s]"
      ]
     },
     "metadata": {},
     "output_type": "display_data"
    },
    {
     "data": {
      "application/vnd.jupyter.widget-view+json": {
       "model_id": "3c002c1ca239494389467dcd575b091b",
       "version_major": 2,
       "version_minor": 0
      },
      "text/plain": [
       "Загружен nash-dom\\2e10684c-f93b-4bb9-8abd-7e08c9650102:   0%|          | 0.00/328k [00:00<?, ?B/s]"
      ]
     },
     "metadata": {},
     "output_type": "display_data"
    },
    {
     "data": {
      "application/vnd.jupyter.widget-view+json": {
       "model_id": "cd88670274974d799756c86c9eb8cb65",
       "version_major": 2,
       "version_minor": 0
      },
      "text/plain": [
       "Загружен nash-dom\\d41292ac-682c-4d3c-be43-f8d4611919be:   0%|          | 0.00/2.63M [00:00<?, ?B/s]"
      ]
     },
     "metadata": {},
     "output_type": "display_data"
    },
    {
     "data": {
      "application/vnd.jupyter.widget-view+json": {
       "model_id": "943ab309eb1f42d4a74d453c19910cab",
       "version_major": 2,
       "version_minor": 0
      },
      "text/plain": [
       "Загружен nash-dom\\1b149ea4-88f1-4dcc-b3d3-92125f6869c6:   0%|          | 0.00/2.60M [00:00<?, ?B/s]"
      ]
     },
     "metadata": {},
     "output_type": "display_data"
    },
    {
     "data": {
      "application/vnd.jupyter.widget-view+json": {
       "model_id": "aaad65a2e2794d049b6509d84f7d16cd",
       "version_major": 2,
       "version_minor": 0
      },
      "text/plain": [
       "Загружен nash-dom\\2467ff8d-98bd-4dc7-b75c-37b057a7993a:   0%|          | 0.00/6.61M [00:00<?, ?B/s]"
      ]
     },
     "metadata": {},
     "output_type": "display_data"
    },
    {
     "data": {
      "application/vnd.jupyter.widget-view+json": {
       "model_id": "99137be782864d7582434ca3dba5a26e",
       "version_major": 2,
       "version_minor": 0
      },
      "text/plain": [
       "Загружен nash-dom\\cc94f54d-54f0-4ece-bd19-dc1a3a7f0995:   0%|          | 0.00/165k [00:00<?, ?B/s]"
      ]
     },
     "metadata": {},
     "output_type": "display_data"
    },
    {
     "data": {
      "application/vnd.jupyter.widget-view+json": {
       "model_id": "33ac504f024f431db374f0646b3720af",
       "version_major": 2,
       "version_minor": 0
      },
      "text/plain": [
       "Загружен nash-dom\\d297718c-bbd5-47bd-ae5f-ef17115371e3:   0%|          | 0.00/330k [00:00<?, ?B/s]"
      ]
     },
     "metadata": {},
     "output_type": "display_data"
    },
    {
     "data": {
      "application/vnd.jupyter.widget-view+json": {
       "model_id": "c43061352654422ca1ca2cecdb3a70b8",
       "version_major": 2,
       "version_minor": 0
      },
      "text/plain": [
       "Загружен nash-dom\\acf10473-f486-466f-be03-6501166e1cf3:   0%|          | 0.00/272k [00:00<?, ?B/s]"
      ]
     },
     "metadata": {},
     "output_type": "display_data"
    },
    {
     "data": {
      "application/vnd.jupyter.widget-view+json": {
       "model_id": "c8075f8f6cd74f0d8e547b431282ba15",
       "version_major": 2,
       "version_minor": 0
      },
      "text/plain": [
       "Загружен nash-dom\\18315dec-4f0c-4508-b173-2097ed12d35b:   0%|          | 0.00/269k [00:00<?, ?B/s]"
      ]
     },
     "metadata": {},
     "output_type": "display_data"
    },
    {
     "data": {
      "application/vnd.jupyter.widget-view+json": {
       "model_id": "989317ee513140c58847dd5ab3372356",
       "version_major": 2,
       "version_minor": 0
      },
      "text/plain": [
       "Загружен nash-dom\\371487b9-43dd-4a55-a34e-4557704b8414:   0%|          | 0.00/3.43M [00:00<?, ?B/s]"
      ]
     },
     "metadata": {},
     "output_type": "display_data"
    },
    {
     "data": {
      "application/vnd.jupyter.widget-view+json": {
       "model_id": "e0dc58f228f5473eae256e699592c4f3",
       "version_major": 2,
       "version_minor": 0
      },
      "text/plain": [
       "Получено изображение:   0%|          | 0/64 [00:00<?, ?it/s]"
      ]
     },
     "metadata": {},
     "output_type": "display_data"
    },
    {
     "data": {
      "application/vnd.jupyter.widget-view+json": {
       "model_id": "798f7a1d06be4825a3e4021a9bb0b4fc",
       "version_major": 2,
       "version_minor": 0
      },
      "text/plain": [
       "Загружен nash-dom\\47282070:   0%|          | 0.00/43.0 [00:00<?, ?B/s]"
      ]
     },
     "metadata": {},
     "output_type": "display_data"
    },
    {
     "data": {
      "application/vnd.jupyter.widget-view+json": {
       "model_id": "87e25d9283c342ae9e263c5a8220cf7a",
       "version_major": 2,
       "version_minor": 0
      },
      "text/plain": [
       "Загружен nash-dom\\7c1ce108-aa51-45c2-acfa-3091f6bf7e54:   0%|          | 0.00/1.37M [00:00<?, ?B/s]"
      ]
     },
     "metadata": {},
     "output_type": "display_data"
    },
    {
     "data": {
      "application/vnd.jupyter.widget-view+json": {
       "model_id": "dd33d89a241a4055886c772c52b067d5",
       "version_major": 2,
       "version_minor": 0
      },
      "text/plain": [
       "Загружен nash-dom\\cf350104-3afa-40e8-86e1-212da5c99a9a:   0%|          | 0.00/1.24M [00:00<?, ?B/s]"
      ]
     },
     "metadata": {},
     "output_type": "display_data"
    },
    {
     "data": {
      "application/vnd.jupyter.widget-view+json": {
       "model_id": "de4d234ab92443acacb3dd1601c6fc95",
       "version_major": 2,
       "version_minor": 0
      },
      "text/plain": [
       "Загружен nash-dom\\80422003-fc35-43f2-9174-de241b92bf1d:   0%|          | 0.00/1.29M [00:00<?, ?B/s]"
      ]
     },
     "metadata": {},
     "output_type": "display_data"
    },
    {
     "data": {
      "application/vnd.jupyter.widget-view+json": {
       "model_id": "24e0fb82548d409bb4e1167144a1620b",
       "version_major": 2,
       "version_minor": 0
      },
      "text/plain": [
       "Загружен nash-dom\\f70dc8e2-776f-4405-8f6f-d410c0061adf:   0%|          | 0.00/1.40M [00:00<?, ?B/s]"
      ]
     },
     "metadata": {},
     "output_type": "display_data"
    },
    {
     "data": {
      "application/vnd.jupyter.widget-view+json": {
       "model_id": "a7e6f7817ae345bbbbed2041a0f3bfd3",
       "version_major": 2,
       "version_minor": 0
      },
      "text/plain": [
       "Загружен nash-dom\\ffd2a110-55a5-45c0-9bc1-61e146547df8:   0%|          | 0.00/1.01M [00:00<?, ?B/s]"
      ]
     },
     "metadata": {},
     "output_type": "display_data"
    },
    {
     "data": {
      "application/vnd.jupyter.widget-view+json": {
       "model_id": "b022a8ddf63e4b54b19c160bc3b27caa",
       "version_major": 2,
       "version_minor": 0
      },
      "text/plain": [
       "Загружен nash-dom\\4c2881c9-a6da-4235-8faa-2f74c5970837:   0%|          | 0.00/0.99M [00:00<?, ?B/s]"
      ]
     },
     "metadata": {},
     "output_type": "display_data"
    },
    {
     "data": {
      "application/vnd.jupyter.widget-view+json": {
       "model_id": "21bb6bed8e83451f877535c15f747014",
       "version_major": 2,
       "version_minor": 0
      },
      "text/plain": [
       "Загружен nash-dom\\3c35f14c-f16c-46cc-a9a8-c3e828a514b0:   0%|          | 0.00/1.12M [00:00<?, ?B/s]"
      ]
     },
     "metadata": {},
     "output_type": "display_data"
    },
    {
     "data": {
      "application/vnd.jupyter.widget-view+json": {
       "model_id": "a7acc93bfe2e4390a083e9018a2b75a7",
       "version_major": 2,
       "version_minor": 0
      },
      "text/plain": [
       "Загружен nash-dom\\15c8035f-32a6-4ca7-9703-ae3a0b60f2a3:   0%|          | 0.00/170k [00:00<?, ?B/s]"
      ]
     },
     "metadata": {},
     "output_type": "display_data"
    },
    {
     "data": {
      "application/vnd.jupyter.widget-view+json": {
       "model_id": "ca2595a39abc4752b6ede8c99766aab4",
       "version_major": 2,
       "version_minor": 0
      },
      "text/plain": [
       "Загружен nash-dom\\dde99e44-cdc1-4a4e-9073-b6da59717405:   0%|          | 0.00/159k [00:00<?, ?B/s]"
      ]
     },
     "metadata": {},
     "output_type": "display_data"
    },
    {
     "data": {
      "application/vnd.jupyter.widget-view+json": {
       "model_id": "1d783150cf5f4393a96130a47c1e397e",
       "version_major": 2,
       "version_minor": 0
      },
      "text/plain": [
       "Загружен nash-dom\\3bbec157-10f3-46e2-a860-d2405c4b33e3:   0%|          | 0.00/177k [00:00<?, ?B/s]"
      ]
     },
     "metadata": {},
     "output_type": "display_data"
    },
    {
     "data": {
      "application/vnd.jupyter.widget-view+json": {
       "model_id": "c320c98d1a8c4272b6a4bb33514cfa77",
       "version_major": 2,
       "version_minor": 0
      },
      "text/plain": [
       "Загружен nash-dom\\fc81c319-61ef-4d16-a426-03e215793490:   0%|          | 0.00/220k [00:00<?, ?B/s]"
      ]
     },
     "metadata": {},
     "output_type": "display_data"
    },
    {
     "data": {
      "application/vnd.jupyter.widget-view+json": {
       "model_id": "caab01263fc94207907cfc1e2198ba2a",
       "version_major": 2,
       "version_minor": 0
      },
      "text/plain": [
       "Загружен nash-dom\\6df2f9b9-69c2-42d9-a1df-d0b169b55ff3:   0%|          | 0.00/132k [00:00<?, ?B/s]"
      ]
     },
     "metadata": {},
     "output_type": "display_data"
    },
    {
     "data": {
      "application/vnd.jupyter.widget-view+json": {
       "model_id": "37e19f2397ca4f1c9fd29aa3dc2a7cd4",
       "version_major": 2,
       "version_minor": 0
      },
      "text/plain": [
       "Загружен nash-dom\\18333b8e-70d9-4003-8659-dc2b0b1a1af1:   0%|          | 0.00/328k [00:00<?, ?B/s]"
      ]
     },
     "metadata": {},
     "output_type": "display_data"
    },
    {
     "data": {
      "application/vnd.jupyter.widget-view+json": {
       "model_id": "1249d185ad214657b9204ae9cb11d8bd",
       "version_major": 2,
       "version_minor": 0
      },
      "text/plain": [
       "Загружен nash-dom\\85453d34-afd6-4cc6-8d05-c86aa58bca55:   0%|          | 0.00/95.1k [00:00<?, ?B/s]"
      ]
     },
     "metadata": {},
     "output_type": "display_data"
    },
    {
     "data": {
      "application/vnd.jupyter.widget-view+json": {
       "model_id": "b3aef93ca15c4954872741fdcb1c3514",
       "version_major": 2,
       "version_minor": 0
      },
      "text/plain": [
       "Загружен nash-dom\\26b8461f-f5b8-4890-b4cd-1be1caa1e3fa:   0%|          | 0.00/344k [00:00<?, ?B/s]"
      ]
     },
     "metadata": {},
     "output_type": "display_data"
    },
    {
     "data": {
      "application/vnd.jupyter.widget-view+json": {
       "model_id": "cc29d6a0d0a047f89f67c3ff4c193a9a",
       "version_major": 2,
       "version_minor": 0
      },
      "text/plain": [
       "Загружен nash-dom\\0ecf48a9-622a-41fe-bd4f-6c999a2dd0dd:   0%|          | 0.00/317k [00:00<?, ?B/s]"
      ]
     },
     "metadata": {},
     "output_type": "display_data"
    },
    {
     "data": {
      "application/vnd.jupyter.widget-view+json": {
       "model_id": "79430e8bb3ef4e3a9ef7d47d2f748a98",
       "version_major": 2,
       "version_minor": 0
      },
      "text/plain": [
       "Загружен nash-dom\\12c13f5e-d691-4c55-bd33-9fe47531774c:   0%|          | 0.00/298k [00:00<?, ?B/s]"
      ]
     },
     "metadata": {},
     "output_type": "display_data"
    },
    {
     "data": {
      "application/vnd.jupyter.widget-view+json": {
       "model_id": "a9ff85df505a47c99a63bd2d81809bb3",
       "version_major": 2,
       "version_minor": 0
      },
      "text/plain": [
       "Загружен nash-dom\\eb293faa-20b4-4aa2-998b-ab47d0f9eec7:   0%|          | 0.00/311k [00:00<?, ?B/s]"
      ]
     },
     "metadata": {},
     "output_type": "display_data"
    },
    {
     "data": {
      "application/vnd.jupyter.widget-view+json": {
       "model_id": "1bd66dbf9fea49a4b8195d1cee3e5ec1",
       "version_major": 2,
       "version_minor": 0
      },
      "text/plain": [
       "Загружен nash-dom\\d7a6dae7-54ad-4f35-8139-4512965d57bf:   0%|          | 0.00/262k [00:00<?, ?B/s]"
      ]
     },
     "metadata": {},
     "output_type": "display_data"
    },
    {
     "data": {
      "application/vnd.jupyter.widget-view+json": {
       "model_id": "0558e013239f41afa756a0082e02e785",
       "version_major": 2,
       "version_minor": 0
      },
      "text/plain": [
       "Загружен nash-dom\\61ad027b-f4e3-4819-96eb-a45ce9288bde:   0%|          | 0.00/219k [00:00<?, ?B/s]"
      ]
     },
     "metadata": {},
     "output_type": "display_data"
    },
    {
     "data": {
      "application/vnd.jupyter.widget-view+json": {
       "model_id": "da3f78d51eb847168b5c2fe1ac1ccc79",
       "version_major": 2,
       "version_minor": 0
      },
      "text/plain": [
       "Загружен nash-dom\\11207c18-06ee-486e-a98d-a6931eea0b6f:   0%|          | 0.00/178k [00:00<?, ?B/s]"
      ]
     },
     "metadata": {},
     "output_type": "display_data"
    },
    {
     "data": {
      "application/vnd.jupyter.widget-view+json": {
       "model_id": "6b5accc25cd94027a26fd9cda0c5ca17",
       "version_major": 2,
       "version_minor": 0
      },
      "text/plain": [
       "Загружен nash-dom\\76e1092a-7cbb-4be5-9149-0ad427126a11:   0%|          | 0.00/79.1k [00:00<?, ?B/s]"
      ]
     },
     "metadata": {},
     "output_type": "display_data"
    },
    {
     "data": {
      "application/vnd.jupyter.widget-view+json": {
       "model_id": "824285cb44c54174968cc896765b3c6e",
       "version_major": 2,
       "version_minor": 0
      },
      "text/plain": [
       "Загружен nash-dom\\a40f53f4-0a8b-4d7f-8b09-f925083a972a:   0%|          | 0.00/5.52M [00:00<?, ?B/s]"
      ]
     },
     "metadata": {},
     "output_type": "display_data"
    },
    {
     "data": {
      "application/vnd.jupyter.widget-view+json": {
       "model_id": "7dbeed4921a042a6932ba7af3e3e9d34",
       "version_major": 2,
       "version_minor": 0
      },
      "text/plain": [
       "Загружен nash-dom\\f27a5185-5569-4f97-9164-231e5840e458:   0%|          | 0.00/2.07M [00:00<?, ?B/s]"
      ]
     },
     "metadata": {},
     "output_type": "display_data"
    },
    {
     "data": {
      "application/vnd.jupyter.widget-view+json": {
       "model_id": "92c5bb9e944a4ceea766f0985ea68f1c",
       "version_major": 2,
       "version_minor": 0
      },
      "text/plain": [
       "Загружен nash-dom\\a22e750a-5adf-432d-93bc-0e422dececb5:   0%|          | 0.00/6.30M [00:00<?, ?B/s]"
      ]
     },
     "metadata": {},
     "output_type": "display_data"
    },
    {
     "data": {
      "application/vnd.jupyter.widget-view+json": {
       "model_id": "d1fb61b0371a46dab7cb6aecb351c948",
       "version_major": 2,
       "version_minor": 0
      },
      "text/plain": [
       "Загружен nash-dom\\b9a1ddde-0f75-4fbe-bd8d-0ba43d817b41:   0%|          | 0.00/0.99M [00:00<?, ?B/s]"
      ]
     },
     "metadata": {},
     "output_type": "display_data"
    },
    {
     "data": {
      "application/vnd.jupyter.widget-view+json": {
       "model_id": "a6de210888b944308a132b93e615e4c1",
       "version_major": 2,
       "version_minor": 0
      },
      "text/plain": [
       "Загружен nash-dom\\4def57f2-c557-47eb-b20d-e344ef679a14:   0%|          | 0.00/344k [00:00<?, ?B/s]"
      ]
     },
     "metadata": {},
     "output_type": "display_data"
    },
    {
     "data": {
      "application/vnd.jupyter.widget-view+json": {
       "model_id": "f5f63e8f95ed495bbda78b4a991410e5",
       "version_major": 2,
       "version_minor": 0
      },
      "text/plain": [
       "Загружен nash-dom\\a4001f3d-4705-4f88-84ce-a68494eba59c:   0%|          | 0.00/231k [00:00<?, ?B/s]"
      ]
     },
     "metadata": {},
     "output_type": "display_data"
    },
    {
     "data": {
      "application/vnd.jupyter.widget-view+json": {
       "model_id": "ac238865e57c434489d5f20245d83950",
       "version_major": 2,
       "version_minor": 0
      },
      "text/plain": [
       "Загружен nash-dom\\7a2d66e8-388f-47f5-ba1e-82134ee799d2:   0%|          | 0.00/939k [00:00<?, ?B/s]"
      ]
     },
     "metadata": {},
     "output_type": "display_data"
    },
    {
     "data": {
      "application/vnd.jupyter.widget-view+json": {
       "model_id": "f48610bb6374494cb6c438bb247d522f",
       "version_major": 2,
       "version_minor": 0
      },
      "text/plain": [
       "Загружен nash-dom\\a3bdbc13-112f-4ff7-b4ee-114356258d52:   0%|          | 0.00/58.3k [00:00<?, ?B/s]"
      ]
     },
     "metadata": {},
     "output_type": "display_data"
    },
    {
     "data": {
      "application/vnd.jupyter.widget-view+json": {
       "model_id": "86331be3d4484bd1ab24786424edde71",
       "version_major": 2,
       "version_minor": 0
      },
      "text/plain": [
       "Загружен nash-dom\\1b068c52-116c-4fa2-9567-0815687bb252:   0%|          | 0.00/85.6k [00:00<?, ?B/s]"
      ]
     },
     "metadata": {},
     "output_type": "display_data"
    },
    {
     "data": {
      "application/vnd.jupyter.widget-view+json": {
       "model_id": "8d02c8c55c3542d9afab1530e1c43701",
       "version_major": 2,
       "version_minor": 0
      },
      "text/plain": [
       "Загружен nash-dom\\0111b666-7fdd-4287-a8f7-4d7e16b3b57e:   0%|          | 0.00/183k [00:00<?, ?B/s]"
      ]
     },
     "metadata": {},
     "output_type": "display_data"
    },
    {
     "data": {
      "application/vnd.jupyter.widget-view+json": {
       "model_id": "8a8d7d1934104ef897ed14c145741964",
       "version_major": 2,
       "version_minor": 0
      },
      "text/plain": [
       "Загружен nash-dom\\f59a5880-7c4e-4dc6-9ce8-c7358e47645d:   0%|          | 0.00/104k [00:00<?, ?B/s]"
      ]
     },
     "metadata": {},
     "output_type": "display_data"
    },
    {
     "data": {
      "application/vnd.jupyter.widget-view+json": {
       "model_id": "21bdce93c5954561ae736f561040840b",
       "version_major": 2,
       "version_minor": 0
      },
      "text/plain": [
       "Загружен nash-dom\\d810fa4c-af46-4868-8a99-a4e9558dab81:   0%|          | 0.00/80.5k [00:00<?, ?B/s]"
      ]
     },
     "metadata": {},
     "output_type": "display_data"
    },
    {
     "data": {
      "application/vnd.jupyter.widget-view+json": {
       "model_id": "c3d6cfe7702d49ec9f62ef88a68d5057",
       "version_major": 2,
       "version_minor": 0
      },
      "text/plain": [
       "Загружен nash-dom\\fd2098e9-6c31-4f1e-b452-50b155e210a0:   0%|          | 0.00/363k [00:00<?, ?B/s]"
      ]
     },
     "metadata": {},
     "output_type": "display_data"
    },
    {
     "data": {
      "application/vnd.jupyter.widget-view+json": {
       "model_id": "66ad350947594e5f942a0a4c4282fe4d",
       "version_major": 2,
       "version_minor": 0
      },
      "text/plain": [
       "Загружен nash-dom\\9cfa55ea-50c5-40d2-99a8-16a87f9bec66:   0%|          | 0.00/2.79M [00:00<?, ?B/s]"
      ]
     },
     "metadata": {},
     "output_type": "display_data"
    },
    {
     "data": {
      "application/vnd.jupyter.widget-view+json": {
       "model_id": "6e6e342bb3d04e9982b4354ebae63ae4",
       "version_major": 2,
       "version_minor": 0
      },
      "text/plain": [
       "Загружен nash-dom\\25404a10-bde8-4e9c-9698-49fd9945ce51:   0%|          | 0.00/3.34M [00:00<?, ?B/s]"
      ]
     },
     "metadata": {},
     "output_type": "display_data"
    },
    {
     "data": {
      "application/vnd.jupyter.widget-view+json": {
       "model_id": "211fa84248944eb5b0eaddcd5b0845fc",
       "version_major": 2,
       "version_minor": 0
      },
      "text/plain": [
       "Загружен nash-dom\\129c151b-6357-424a-9160-f87d3548b344:   0%|          | 0.00/7.55M [00:00<?, ?B/s]"
      ]
     },
     "metadata": {},
     "output_type": "display_data"
    },
    {
     "data": {
      "application/vnd.jupyter.widget-view+json": {
       "model_id": "0a0d94ad033a4cf598830f2abccc1b85",
       "version_major": 2,
       "version_minor": 0
      },
      "text/plain": [
       "Загружен nash-dom\\78532649-2f17-4c6c-8caf-882039d1711c:   0%|          | 0.00/176k [00:00<?, ?B/s]"
      ]
     },
     "metadata": {},
     "output_type": "display_data"
    },
    {
     "data": {
      "application/vnd.jupyter.widget-view+json": {
       "model_id": "3a4c1f3c047d488dbcc23d4669963c20",
       "version_major": 2,
       "version_minor": 0
      },
      "text/plain": [
       "Загружен nash-dom\\697ac5b0-ce48-4d2a-8d92-8f210d005929:   0%|          | 0.00/283k [00:00<?, ?B/s]"
      ]
     },
     "metadata": {},
     "output_type": "display_data"
    },
    {
     "data": {
      "application/vnd.jupyter.widget-view+json": {
       "model_id": "893c7762140043dab3c61e21d591fb8c",
       "version_major": 2,
       "version_minor": 0
      },
      "text/plain": [
       "Загружен nash-dom\\871f8a39-906c-427c-8d28-4efc9363adae:   0%|          | 0.00/264k [00:00<?, ?B/s]"
      ]
     },
     "metadata": {},
     "output_type": "display_data"
    },
    {
     "data": {
      "application/vnd.jupyter.widget-view+json": {
       "model_id": "1eeb011e98e94f9eb0016b2f116d1bbe",
       "version_major": 2,
       "version_minor": 0
      },
      "text/plain": [
       "Загружен nash-dom\\60de90e1-f091-47de-bcfc-d5db439a3e57:   0%|          | 0.00/3.38M [00:00<?, ?B/s]"
      ]
     },
     "metadata": {},
     "output_type": "display_data"
    },
    {
     "data": {
      "application/vnd.jupyter.widget-view+json": {
       "model_id": "3075a1ac1eab4314b9eed144c50058d3",
       "version_major": 2,
       "version_minor": 0
      },
      "text/plain": [
       "Получено изображение:   0%|          | 0/58 [00:00<?, ?it/s]"
      ]
     },
     "metadata": {},
     "output_type": "display_data"
    },
    {
     "data": {
      "application/vnd.jupyter.widget-view+json": {
       "model_id": "68d82e39bb1f410b81b368f11a1745ef",
       "version_major": 2,
       "version_minor": 0
      },
      "text/plain": [
       "Загружен nash-dom\\47282070:   0%|          | 0.00/43.0 [00:00<?, ?B/s]"
      ]
     },
     "metadata": {},
     "output_type": "display_data"
    },
    {
     "data": {
      "application/vnd.jupyter.widget-view+json": {
       "model_id": "e813e8af67444f23a7b249462c631acd",
       "version_major": 2,
       "version_minor": 0
      },
      "text/plain": [
       "Загружен nash-dom\\02b88db9-bdd0-4b77-b652-32578b277f6b:   0%|          | 0.00/1.26M [00:00<?, ?B/s]"
      ]
     },
     "metadata": {},
     "output_type": "display_data"
    },
    {
     "data": {
      "application/vnd.jupyter.widget-view+json": {
       "model_id": "9ed33ca5f7ec458c97c3ff1707df47cf",
       "version_major": 2,
       "version_minor": 0
      },
      "text/plain": [
       "Загружен nash-dom\\bf3be0fd-4fbf-43e5-9fc8-878e2572c54b:   0%|          | 0.00/1.32M [00:00<?, ?B/s]"
      ]
     },
     "metadata": {},
     "output_type": "display_data"
    },
    {
     "data": {
      "application/vnd.jupyter.widget-view+json": {
       "model_id": "f957c8af89b24fe189c49c0cf98a648c",
       "version_major": 2,
       "version_minor": 0
      },
      "text/plain": [
       "Загружен nash-dom\\9dce7b87-2eec-4a1d-9c95-637915fde79f:   0%|          | 0.00/98.9k [00:00<?, ?B/s]"
      ]
     },
     "metadata": {},
     "output_type": "display_data"
    },
    {
     "data": {
      "application/vnd.jupyter.widget-view+json": {
       "model_id": "75ccad147f7d4891985e4dc98f5f2bf3",
       "version_major": 2,
       "version_minor": 0
      },
      "text/plain": [
       "Загружен nash-dom\\547ca489-819a-4f0f-b0d5-0313a893bf02:   0%|          | 0.00/78.1k [00:00<?, ?B/s]"
      ]
     },
     "metadata": {},
     "output_type": "display_data"
    },
    {
     "data": {
      "application/vnd.jupyter.widget-view+json": {
       "model_id": "1c7746ea22d04746875422e8aa73cc21",
       "version_major": 2,
       "version_minor": 0
      },
      "text/plain": [
       "Загружен nash-dom\\5752d0b6-aeba-4914-877c-110ce07da450:   0%|          | 0.00/315k [00:00<?, ?B/s]"
      ]
     },
     "metadata": {},
     "output_type": "display_data"
    },
    {
     "data": {
      "application/vnd.jupyter.widget-view+json": {
       "model_id": "f007a4e1af2b4ef9a42b2c7e48bc75af",
       "version_major": 2,
       "version_minor": 0
      },
      "text/plain": [
       "Загружен nash-dom\\2f6ac27a-ce3c-44b3-8104-69911b1d7e45:   0%|          | 0.00/101k [00:00<?, ?B/s]"
      ]
     },
     "metadata": {},
     "output_type": "display_data"
    },
    {
     "data": {
      "application/vnd.jupyter.widget-view+json": {
       "model_id": "f0b8cc95e20348c1934619d417a0c141",
       "version_major": 2,
       "version_minor": 0
      },
      "text/plain": [
       "Загружен nash-dom\\8a3e6ec0-b00c-4c1a-ba41-4f9a62118c76:   0%|          | 0.00/195k [00:00<?, ?B/s]"
      ]
     },
     "metadata": {},
     "output_type": "display_data"
    },
    {
     "data": {
      "application/vnd.jupyter.widget-view+json": {
       "model_id": "4ebf4dd1097d4fa6929828dadb630058",
       "version_major": 2,
       "version_minor": 0
      },
      "text/plain": [
       "Загружен nash-dom\\5adf5c80-e0af-4ed7-9cea-432f7582df43:   0%|          | 0.00/241k [00:00<?, ?B/s]"
      ]
     },
     "metadata": {},
     "output_type": "display_data"
    },
    {
     "data": {
      "application/vnd.jupyter.widget-view+json": {
       "model_id": "b095fbf661194ae8a0c60c24702c04e3",
       "version_major": 2,
       "version_minor": 0
      },
      "text/plain": [
       "Загружен nash-dom\\c5a49cf0-4187-4d71-a383-185877f482ed:   0%|          | 0.00/238k [00:00<?, ?B/s]"
      ]
     },
     "metadata": {},
     "output_type": "display_data"
    },
    {
     "data": {
      "application/vnd.jupyter.widget-view+json": {
       "model_id": "f49417228cff4c5ca9b85afdfb4700e8",
       "version_major": 2,
       "version_minor": 0
      },
      "text/plain": [
       "Загружен nash-dom\\ad00f3b1-c3da-48d6-a1e3-08c22c74211a:   0%|          | 0.00/157k [00:00<?, ?B/s]"
      ]
     },
     "metadata": {},
     "output_type": "display_data"
    },
    {
     "data": {
      "application/vnd.jupyter.widget-view+json": {
       "model_id": "be1b37a45b76402ca2c346c7495ad2a7",
       "version_major": 2,
       "version_minor": 0
      },
      "text/plain": [
       "Загружен nash-dom\\889cc23e-ee2c-4875-bb0f-564bc0c8b826:   0%|          | 0.00/294k [00:00<?, ?B/s]"
      ]
     },
     "metadata": {},
     "output_type": "display_data"
    },
    {
     "data": {
      "application/vnd.jupyter.widget-view+json": {
       "model_id": "7bad84f1363343f0b9f2877942dda87c",
       "version_major": 2,
       "version_minor": 0
      },
      "text/plain": [
       "Загружен nash-dom\\b46ee8d3-90e0-4b03-b41d-b7052685e585:   0%|          | 0.00/80.9k [00:00<?, ?B/s]"
      ]
     },
     "metadata": {},
     "output_type": "display_data"
    },
    {
     "data": {
      "application/vnd.jupyter.widget-view+json": {
       "model_id": "8dc38f77f62b4711bc73f1d3ebb01990",
       "version_major": 2,
       "version_minor": 0
      },
      "text/plain": [
       "Загружен nash-dom\\062dbd65-3aab-4ff6-9834-93da70f0cc3b:   0%|          | 0.00/332k [00:00<?, ?B/s]"
      ]
     },
     "metadata": {},
     "output_type": "display_data"
    },
    {
     "data": {
      "application/vnd.jupyter.widget-view+json": {
       "model_id": "afce51a4570d47439cac8f3293724c77",
       "version_major": 2,
       "version_minor": 0
      },
      "text/plain": [
       "Загружен nash-dom\\a79abb00-65ee-44bd-9fe6-e55a3639c505:   0%|          | 0.00/375k [00:00<?, ?B/s]"
      ]
     },
     "metadata": {},
     "output_type": "display_data"
    },
    {
     "data": {
      "application/vnd.jupyter.widget-view+json": {
       "model_id": "413ba87197aa4cb0a5847223a7b927fd",
       "version_major": 2,
       "version_minor": 0
      },
      "text/plain": [
       "Загружен nash-dom\\1082c123-b1b0-4e4f-a0cf-46c7b65c61ec:   0%|          | 0.00/319k [00:00<?, ?B/s]"
      ]
     },
     "metadata": {},
     "output_type": "display_data"
    },
    {
     "data": {
      "application/vnd.jupyter.widget-view+json": {
       "model_id": "6aeb65ffe60945298c157ec8f952cbcb",
       "version_major": 2,
       "version_minor": 0
      },
      "text/plain": [
       "Загружен nash-dom\\9236b640-5568-4806-9077-0ba27e12dd4f:   0%|          | 0.00/315k [00:00<?, ?B/s]"
      ]
     },
     "metadata": {},
     "output_type": "display_data"
    },
    {
     "data": {
      "application/vnd.jupyter.widget-view+json": {
       "model_id": "f353e01ab4304e9f9cd5324bb30452a0",
       "version_major": 2,
       "version_minor": 0
      },
      "text/plain": [
       "Загружен nash-dom\\7ac339ba-9561-4890-8cb9-a93f00a803ea:   0%|          | 0.00/331k [00:00<?, ?B/s]"
      ]
     },
     "metadata": {},
     "output_type": "display_data"
    },
    {
     "data": {
      "application/vnd.jupyter.widget-view+json": {
       "model_id": "b03eb463e4734a5cbd6fe56a8736e37e",
       "version_major": 2,
       "version_minor": 0
      },
      "text/plain": [
       "Загружен nash-dom\\141d5cbe-c5a0-492d-85d7-a5a51ead39a6:   0%|          | 0.00/179k [00:00<?, ?B/s]"
      ]
     },
     "metadata": {},
     "output_type": "display_data"
    },
    {
     "data": {
      "application/vnd.jupyter.widget-view+json": {
       "model_id": "a86dcf3e9fb34ecbb1133e8833a8b9c5",
       "version_major": 2,
       "version_minor": 0
      },
      "text/plain": [
       "Загружен nash-dom\\9f51a298-047c-4ff6-9bd8-3b3f3d1064a0:   0%|          | 0.00/218k [00:00<?, ?B/s]"
      ]
     },
     "metadata": {},
     "output_type": "display_data"
    },
    {
     "data": {
      "application/vnd.jupyter.widget-view+json": {
       "model_id": "c3b41bb3b4954bbcb5f6528236579ee3",
       "version_major": 2,
       "version_minor": 0
      },
      "text/plain": [
       "Загружен nash-dom\\c75e0c84-eb3b-4fba-bdc4-5d14428c6c59:   0%|          | 0.00/528k [00:00<?, ?B/s]"
      ]
     },
     "metadata": {},
     "output_type": "display_data"
    },
    {
     "data": {
      "application/vnd.jupyter.widget-view+json": {
       "model_id": "8dd91df6e1094a64b82cee5be663bcde",
       "version_major": 2,
       "version_minor": 0
      },
      "text/plain": [
       "Загружен nash-dom\\a8ab453d-8cd3-4aa9-bf2e-f0d7439fa9cb:   0%|          | 0.00/7.05M [00:00<?, ?B/s]"
      ]
     },
     "metadata": {},
     "output_type": "display_data"
    },
    {
     "data": {
      "application/vnd.jupyter.widget-view+json": {
       "model_id": "3a4f178c9cd5447fa84b6f2c3d754b56",
       "version_major": 2,
       "version_minor": 0
      },
      "text/plain": [
       "Загружен nash-dom\\93f18fff-4bfc-4d77-8e90-1893ccbccf7f:   0%|          | 0.00/2.00M [00:00<?, ?B/s]"
      ]
     },
     "metadata": {},
     "output_type": "display_data"
    },
    {
     "data": {
      "application/vnd.jupyter.widget-view+json": {
       "model_id": "4f75b7cfe6f74b43974422d755f2844b",
       "version_major": 2,
       "version_minor": 0
      },
      "text/plain": [
       "Загружен nash-dom\\c04bcf2d-76d4-473e-ae96-b3cea3aac6f5:   0%|          | 0.00/1.26M [00:00<?, ?B/s]"
      ]
     },
     "metadata": {},
     "output_type": "display_data"
    },
    {
     "data": {
      "application/vnd.jupyter.widget-view+json": {
       "model_id": "506b126f9f3c4808ba92b55f004872ac",
       "version_major": 2,
       "version_minor": 0
      },
      "text/plain": [
       "Загружен nash-dom\\488b7f14-b660-4c98-8335-f959d746919b:   0%|          | 0.00/107k [00:00<?, ?B/s]"
      ]
     },
     "metadata": {},
     "output_type": "display_data"
    },
    {
     "data": {
      "application/vnd.jupyter.widget-view+json": {
       "model_id": "9aa5ea8e89b945b3a83b894ee906c759",
       "version_major": 2,
       "version_minor": 0
      },
      "text/plain": [
       "Загружен nash-dom\\b81ed61f-e467-47f1-9d66-d71300a5c624:   0%|          | 0.00/2.57M [00:00<?, ?B/s]"
      ]
     },
     "metadata": {},
     "output_type": "display_data"
    },
    {
     "data": {
      "application/vnd.jupyter.widget-view+json": {
       "model_id": "3fca5e046fe24bf395a0f9d1d9c8f389",
       "version_major": 2,
       "version_minor": 0
      },
      "text/plain": [
       "Загружен nash-dom\\3c1cbe48-47a9-4c5e-b65e-fc6f2a8340bd:   0%|          | 0.00/709k [00:00<?, ?B/s]"
      ]
     },
     "metadata": {},
     "output_type": "display_data"
    },
    {
     "data": {
      "application/vnd.jupyter.widget-view+json": {
       "model_id": "58373be764294c93a514ebe2cdb5eeb5",
       "version_major": 2,
       "version_minor": 0
      },
      "text/plain": [
       "Загружен nash-dom\\0b771abf-156c-4b02-a841-b8b2ab6bbc4e:   0%|          | 0.00/46.1k [00:00<?, ?B/s]"
      ]
     },
     "metadata": {},
     "output_type": "display_data"
    },
    {
     "data": {
      "application/vnd.jupyter.widget-view+json": {
       "model_id": "0baf5cf29d5e44ee975ce4162e658d51",
       "version_major": 2,
       "version_minor": 0
      },
      "text/plain": [
       "Загружен nash-dom\\b265eb1e-dbb7-436b-8d04-1acea5e7395f:   0%|          | 0.00/2.87M [00:00<?, ?B/s]"
      ]
     },
     "metadata": {},
     "output_type": "display_data"
    },
    {
     "data": {
      "application/vnd.jupyter.widget-view+json": {
       "model_id": "a777478ad22045b0957768694bc58c4e",
       "version_major": 2,
       "version_minor": 0
      },
      "text/plain": [
       "Загружен nash-dom\\b20d7a6d-4e05-4428-a9af-c750c62c3ad8:   0%|          | 0.00/2.72M [00:00<?, ?B/s]"
      ]
     },
     "metadata": {},
     "output_type": "display_data"
    },
    {
     "data": {
      "application/vnd.jupyter.widget-view+json": {
       "model_id": "bf2cdba36aa441df85046b969ccb1312",
       "version_major": 2,
       "version_minor": 0
      },
      "text/plain": [
       "Загружен nash-dom\\c1a4599c-c3fa-41d7-ae69-2cc2f8a12c0d:   0%|          | 0.00/94.3k [00:00<?, ?B/s]"
      ]
     },
     "metadata": {},
     "output_type": "display_data"
    },
    {
     "data": {
      "application/vnd.jupyter.widget-view+json": {
       "model_id": "866918d6c5f445c8805e9fba7d189e4b",
       "version_major": 2,
       "version_minor": 0
      },
      "text/plain": [
       "Загружен nash-dom\\27309c61-9711-407c-865d-fe9438da08fb:   0%|          | 0.00/89.6k [00:00<?, ?B/s]"
      ]
     },
     "metadata": {},
     "output_type": "display_data"
    },
    {
     "data": {
      "application/vnd.jupyter.widget-view+json": {
       "model_id": "a78379ab3706417daf0862164ad32ac4",
       "version_major": 2,
       "version_minor": 0
      },
      "text/plain": [
       "Загружен nash-dom\\acc5cbe4-d90a-4050-a8d9-5512cb5addc8:   0%|          | 0.00/358k [00:00<?, ?B/s]"
      ]
     },
     "metadata": {},
     "output_type": "display_data"
    },
    {
     "data": {
      "application/vnd.jupyter.widget-view+json": {
       "model_id": "0a9aa894436e4f0c8e2964941bb2d9a6",
       "version_major": 2,
       "version_minor": 0
      },
      "text/plain": [
       "Загружен nash-dom\\821f36ae-fd36-4bc0-aab2-a78d9f8597bf:   0%|          | 0.00/2.85M [00:00<?, ?B/s]"
      ]
     },
     "metadata": {},
     "output_type": "display_data"
    },
    {
     "data": {
      "application/vnd.jupyter.widget-view+json": {
       "model_id": "b8316f8af4f648d0ada3844760671c1d",
       "version_major": 2,
       "version_minor": 0
      },
      "text/plain": [
       "Загружен nash-dom\\768a7cba-4de6-429c-8727-7bf435ccffc9:   0%|          | 0.00/2.74M [00:00<?, ?B/s]"
      ]
     },
     "metadata": {},
     "output_type": "display_data"
    },
    {
     "data": {
      "application/vnd.jupyter.widget-view+json": {
       "model_id": "5a2f06fb373b4d2e8e90d4df74178235",
       "version_major": 2,
       "version_minor": 0
      },
      "text/plain": [
       "Загружен nash-dom\\048ac553-8274-4ced-9731-6099b439c41f:   0%|          | 0.00/6.12M [00:00<?, ?B/s]"
      ]
     },
     "metadata": {},
     "output_type": "display_data"
    },
    {
     "data": {
      "application/vnd.jupyter.widget-view+json": {
       "model_id": "b0369db0de3347a3b212edc6db2cf042",
       "version_major": 2,
       "version_minor": 0
      },
      "text/plain": [
       "Загружен nash-dom\\918ae77d-ac92-4a7c-99fb-cbfafbe0af52:   0%|          | 0.00/308k [00:00<?, ?B/s]"
      ]
     },
     "metadata": {},
     "output_type": "display_data"
    },
    {
     "data": {
      "application/vnd.jupyter.widget-view+json": {
       "model_id": "62ec88116613424299126cee87bdfab9",
       "version_major": 2,
       "version_minor": 0
      },
      "text/plain": [
       "Загружен nash-dom\\576f74ff-adce-44e2-ac8b-b86bdd54e934:   0%|          | 0.00/1.61M [00:00<?, ?B/s]"
      ]
     },
     "metadata": {},
     "output_type": "display_data"
    },
    {
     "data": {
      "application/vnd.jupyter.widget-view+json": {
       "model_id": "1527031ff9364681a29bdd1e0a1e3b83",
       "version_major": 2,
       "version_minor": 0
      },
      "text/plain": [
       "Получено изображение:   0%|          | 0/58 [00:00<?, ?it/s]"
      ]
     },
     "metadata": {},
     "output_type": "display_data"
    },
    {
     "data": {
      "application/vnd.jupyter.widget-view+json": {
       "model_id": "5744724a04e54959a4b54ad9d4874f0d",
       "version_major": 2,
       "version_minor": 0
      },
      "text/plain": [
       "Загружен nash-dom\\47282070:   0%|          | 0.00/43.0 [00:00<?, ?B/s]"
      ]
     },
     "metadata": {},
     "output_type": "display_data"
    },
    {
     "data": {
      "application/vnd.jupyter.widget-view+json": {
       "model_id": "7022f6c1aef8410dba2e252ce01793fb",
       "version_major": 2,
       "version_minor": 0
      },
      "text/plain": [
       "Загружен nash-dom\\3468baf9-f5b6-446b-a6b9-1b3147d72e28:   0%|          | 0.00/1.43M [00:00<?, ?B/s]"
      ]
     },
     "metadata": {},
     "output_type": "display_data"
    },
    {
     "data": {
      "application/vnd.jupyter.widget-view+json": {
       "model_id": "04ccb9fce17941689bf0d2325eef0def",
       "version_major": 2,
       "version_minor": 0
      },
      "text/plain": [
       "Загружен nash-dom\\c602e57b-9ff4-4f95-8733-a507e50eaebe:   0%|          | 0.00/1.03M [00:00<?, ?B/s]"
      ]
     },
     "metadata": {},
     "output_type": "display_data"
    },
    {
     "data": {
      "application/vnd.jupyter.widget-view+json": {
       "model_id": "d7675c293131469aaf9192525628a5a6",
       "version_major": 2,
       "version_minor": 0
      },
      "text/plain": [
       "Загружен nash-dom\\d6b9d8ea-1541-4526-9bb3-adb413f746bf:   0%|          | 0.00/1.17M [00:00<?, ?B/s]"
      ]
     },
     "metadata": {},
     "output_type": "display_data"
    },
    {
     "data": {
      "application/vnd.jupyter.widget-view+json": {
       "model_id": "f1c9f8602f7d4405a385ace472253067",
       "version_major": 2,
       "version_minor": 0
      },
      "text/plain": [
       "Загружен nash-dom\\8745e4bc-b106-4917-b0ab-cffc2ec20a2d:   0%|          | 0.00/955k [00:00<?, ?B/s]"
      ]
     },
     "metadata": {},
     "output_type": "display_data"
    },
    {
     "data": {
      "application/vnd.jupyter.widget-view+json": {
       "model_id": "e1e27ecf62d941e6b0494bdf7ff4d0c6",
       "version_major": 2,
       "version_minor": 0
      },
      "text/plain": [
       "Загружен nash-dom\\b4a35c7f-70cb-4e26-8706-20f8e867b89d:   0%|          | 0.00/190k [00:00<?, ?B/s]"
      ]
     },
     "metadata": {},
     "output_type": "display_data"
    },
    {
     "data": {
      "application/vnd.jupyter.widget-view+json": {
       "model_id": "7f71520785fa4ad7aee0c97541f70505",
       "version_major": 2,
       "version_minor": 0
      },
      "text/plain": [
       "Загружен nash-dom\\67655845-0f50-4762-8395-d2f63f312634:   0%|          | 0.00/157k [00:00<?, ?B/s]"
      ]
     },
     "metadata": {},
     "output_type": "display_data"
    },
    {
     "data": {
      "application/vnd.jupyter.widget-view+json": {
       "model_id": "b394513dae2949dfa82b779ff1f62ccc",
       "version_major": 2,
       "version_minor": 0
      },
      "text/plain": [
       "Загружен nash-dom\\ef2a0ee3-e255-4522-a157-e7afb5032a8a:   0%|          | 0.00/159k [00:00<?, ?B/s]"
      ]
     },
     "metadata": {},
     "output_type": "display_data"
    },
    {
     "data": {
      "application/vnd.jupyter.widget-view+json": {
       "model_id": "a1771b78ab5d44e99b1d829a675ee5aa",
       "version_major": 2,
       "version_minor": 0
      },
      "text/plain": [
       "Загружен nash-dom\\b2cf4dd5-e812-4cb4-a95a-5bd6eb1e60a4:   0%|          | 0.00/154k [00:00<?, ?B/s]"
      ]
     },
     "metadata": {},
     "output_type": "display_data"
    },
    {
     "data": {
      "application/vnd.jupyter.widget-view+json": {
       "model_id": "16dadd7f5d14446ba1ff1a750311efd7",
       "version_major": 2,
       "version_minor": 0
      },
      "text/plain": [
       "Загружен nash-dom\\05c8025b-412d-4229-9fea-ecafd2e9279e:   0%|          | 0.00/109k [00:00<?, ?B/s]"
      ]
     },
     "metadata": {},
     "output_type": "display_data"
    },
    {
     "data": {
      "application/vnd.jupyter.widget-view+json": {
       "model_id": "1f15468b60c444999af10b01f6ad8105",
       "version_major": 2,
       "version_minor": 0
      },
      "text/plain": [
       "Загружен nash-dom\\7f2f5227-5a1e-49fe-a86c-f68f0eebedc8:   0%|          | 0.00/151k [00:00<?, ?B/s]"
      ]
     },
     "metadata": {},
     "output_type": "display_data"
    },
    {
     "data": {
      "application/vnd.jupyter.widget-view+json": {
       "model_id": "95c508a175ec458387522a6b49912f06",
       "version_major": 2,
       "version_minor": 0
      },
      "text/plain": [
       "Загружен nash-dom\\8c3aca1e-28f7-4276-82af-a920f0a9cc39:   0%|          | 0.00/83.7k [00:00<?, ?B/s]"
      ]
     },
     "metadata": {},
     "output_type": "display_data"
    },
    {
     "data": {
      "application/vnd.jupyter.widget-view+json": {
       "model_id": "044d492c7cac47a2977f6bb599d5d032",
       "version_major": 2,
       "version_minor": 0
      },
      "text/plain": [
       "Загружен nash-dom\\f0b309bc-8ee0-471c-8738-deb866141041:   0%|          | 0.00/305k [00:00<?, ?B/s]"
      ]
     },
     "metadata": {},
     "output_type": "display_data"
    },
    {
     "data": {
      "application/vnd.jupyter.widget-view+json": {
       "model_id": "38a72eafbc9a42e99c3808df3f032ca1",
       "version_major": 2,
       "version_minor": 0
      },
      "text/plain": [
       "Загружен nash-dom\\f56ddeee-0429-4199-8097-66920977db5f:   0%|          | 0.00/356k [00:00<?, ?B/s]"
      ]
     },
     "metadata": {},
     "output_type": "display_data"
    },
    {
     "data": {
      "application/vnd.jupyter.widget-view+json": {
       "model_id": "c796260237da4ed89493323ff2bbc3b2",
       "version_major": 2,
       "version_minor": 0
      },
      "text/plain": [
       "Загружен nash-dom\\08de2815-dfbc-4d28-a568-46897f8eae00:   0%|          | 0.00/294k [00:00<?, ?B/s]"
      ]
     },
     "metadata": {},
     "output_type": "display_data"
    },
    {
     "data": {
      "application/vnd.jupyter.widget-view+json": {
       "model_id": "443354802f4a458784d417891baad507",
       "version_major": 2,
       "version_minor": 0
      },
      "text/plain": [
       "Загружен nash-dom\\ae16fafc-8edc-4c8d-95f9-9193f32ddecb:   0%|          | 0.00/240k [00:00<?, ?B/s]"
      ]
     },
     "metadata": {},
     "output_type": "display_data"
    },
    {
     "data": {
      "application/vnd.jupyter.widget-view+json": {
       "model_id": "63eb4c5f4f164c30bd0a961f178261c6",
       "version_major": 2,
       "version_minor": 0
      },
      "text/plain": [
       "Загружен nash-dom\\33af6c37-e141-4562-aa4d-74796a5ecddf:   0%|          | 0.00/294k [00:00<?, ?B/s]"
      ]
     },
     "metadata": {},
     "output_type": "display_data"
    },
    {
     "data": {
      "application/vnd.jupyter.widget-view+json": {
       "model_id": "ac69c81de0454448ad29050c6db4b426",
       "version_major": 2,
       "version_minor": 0
      },
      "text/plain": [
       "Загружен nash-dom\\97083a72-35b0-4980-8586-c8881e481d13:   0%|          | 0.00/120k [00:00<?, ?B/s]"
      ]
     },
     "metadata": {},
     "output_type": "display_data"
    },
    {
     "data": {
      "application/vnd.jupyter.widget-view+json": {
       "model_id": "22568b2a139d4114b5c38e3b135f8d75",
       "version_major": 2,
       "version_minor": 0
      },
      "text/plain": [
       "Загружен nash-dom\\af663e96-1286-4daa-8dc3-6db76be129ef:   0%|          | 0.00/195k [00:00<?, ?B/s]"
      ]
     },
     "metadata": {},
     "output_type": "display_data"
    },
    {
     "data": {
      "application/vnd.jupyter.widget-view+json": {
       "model_id": "cf9fefc01b2a4b9f97285e5f660af8ac",
       "version_major": 2,
       "version_minor": 0
      },
      "text/plain": [
       "Загружен nash-dom\\0a511588-cf33-4ba8-9ba4-37bc936ea403:   0%|          | 0.00/74.4k [00:00<?, ?B/s]"
      ]
     },
     "metadata": {},
     "output_type": "display_data"
    },
    {
     "data": {
      "application/vnd.jupyter.widget-view+json": {
       "model_id": "ce0a0de59a1e42b9829dde7ced2e5ecf",
       "version_major": 2,
       "version_minor": 0
      },
      "text/plain": [
       "Загружен nash-dom\\bf22fa38-b3b2-4113-9096-4900b9dd6f01:   0%|          | 0.00/563k [00:00<?, ?B/s]"
      ]
     },
     "metadata": {},
     "output_type": "display_data"
    },
    {
     "data": {
      "application/vnd.jupyter.widget-view+json": {
       "model_id": "c07701cb147e4dcaabd79d69a8392dac",
       "version_major": 2,
       "version_minor": 0
      },
      "text/plain": [
       "Загружен nash-dom\\27f5ea3f-ebfd-44a4-b5d5-b9408be8f81a:   0%|          | 0.00/2.59M [00:00<?, ?B/s]"
      ]
     },
     "metadata": {},
     "output_type": "display_data"
    },
    {
     "data": {
      "application/vnd.jupyter.widget-view+json": {
       "model_id": "8bd953b79ff1489ca998ffa0f8b9d8fa",
       "version_major": 2,
       "version_minor": 0
      },
      "text/plain": [
       "Загружен nash-dom\\bad68756-5f54-4e2b-9953-5e3b8018cc8e:   0%|          | 0.00/2.27M [00:00<?, ?B/s]"
      ]
     },
     "metadata": {},
     "output_type": "display_data"
    },
    {
     "data": {
      "application/vnd.jupyter.widget-view+json": {
       "model_id": "94b4c356f149444ea1379e5bc651d8f4",
       "version_major": 2,
       "version_minor": 0
      },
      "text/plain": [
       "Загружен nash-dom\\1a0eaf28-6ee7-4b71-87e8-f708d2d0b098:   0%|          | 0.00/955k [00:00<?, ?B/s]"
      ]
     },
     "metadata": {},
     "output_type": "display_data"
    },
    {
     "data": {
      "application/vnd.jupyter.widget-view+json": {
       "model_id": "e0055b1501d2422b861b7c5a08b16263",
       "version_major": 2,
       "version_minor": 0
      },
      "text/plain": [
       "Загружен nash-dom\\ac13281e-5d2f-479c-a201-19796ce2643e:   0%|          | 0.00/119k [00:00<?, ?B/s]"
      ]
     },
     "metadata": {},
     "output_type": "display_data"
    },
    {
     "data": {
      "application/vnd.jupyter.widget-view+json": {
       "model_id": "9e29ea7e5de44efebe7b4b4d01ef58b8",
       "version_major": 2,
       "version_minor": 0
      },
      "text/plain": [
       "Загружен nash-dom\\b04abc0f-d20c-459b-9c55-4ab7bb09cad1:   0%|          | 0.00/229k [00:00<?, ?B/s]"
      ]
     },
     "metadata": {},
     "output_type": "display_data"
    },
    {
     "data": {
      "application/vnd.jupyter.widget-view+json": {
       "model_id": "c8d3db22ff02448eb486a393ef6f46bf",
       "version_major": 2,
       "version_minor": 0
      },
      "text/plain": [
       "Загружен nash-dom\\d6ab71a1-cb6e-43ca-afb3-3e3a88fc650a:   0%|          | 0.00/906k [00:00<?, ?B/s]"
      ]
     },
     "metadata": {},
     "output_type": "display_data"
    },
    {
     "data": {
      "application/vnd.jupyter.widget-view+json": {
       "model_id": "abe329392bd3438e95e0dbf58af72e7b",
       "version_major": 2,
       "version_minor": 0
      },
      "text/plain": [
       "Загружен nash-dom\\0095a73b-0892-4527-8bda-43a2caeb9dea:   0%|          | 0.00/46.7k [00:00<?, ?B/s]"
      ]
     },
     "metadata": {},
     "output_type": "display_data"
    },
    {
     "data": {
      "application/vnd.jupyter.widget-view+json": {
       "model_id": "402f8e5f034548e083653ab15cae5ae9",
       "version_major": 2,
       "version_minor": 0
      },
      "text/plain": [
       "Загружен nash-dom\\48b9cf92-32ac-446a-af0e-a1096f682843:   0%|          | 0.00/2.30M [00:00<?, ?B/s]"
      ]
     },
     "metadata": {},
     "output_type": "display_data"
    },
    {
     "data": {
      "application/vnd.jupyter.widget-view+json": {
       "model_id": "68d20f779d7c467392bbb8a2736c933c",
       "version_major": 2,
       "version_minor": 0
      },
      "text/plain": [
       "Загружен nash-dom\\0a1ce53b-8bf1-4944-a79b-19bbed35f433:   0%|          | 0.00/2.46M [00:00<?, ?B/s]"
      ]
     },
     "metadata": {},
     "output_type": "display_data"
    },
    {
     "data": {
      "application/vnd.jupyter.widget-view+json": {
       "model_id": "9bc6adb784eb4ec590cd505c92889295",
       "version_major": 2,
       "version_minor": 0
      },
      "text/plain": [
       "Загружен nash-dom\\f841754d-f590-40b9-8f4f-56619c34bfff:   0%|          | 0.00/83.9k [00:00<?, ?B/s]"
      ]
     },
     "metadata": {},
     "output_type": "display_data"
    },
    {
     "data": {
      "application/vnd.jupyter.widget-view+json": {
       "model_id": "19d5e52075ef41ab8e9c507e718a7ecd",
       "version_major": 2,
       "version_minor": 0
      },
      "text/plain": [
       "Загружен nash-dom\\430b86ab-167e-499e-b2c5-04b75e842dcd:   0%|          | 0.00/76.6k [00:00<?, ?B/s]"
      ]
     },
     "metadata": {},
     "output_type": "display_data"
    },
    {
     "data": {
      "application/vnd.jupyter.widget-view+json": {
       "model_id": "d8c3f1d9bfb246f0816338dfbf0965b4",
       "version_major": 2,
       "version_minor": 0
      },
      "text/plain": [
       "Загружен nash-dom\\06c036ab-fe97-4d98-b8cb-2448c3238276:   0%|          | 0.00/353k [00:00<?, ?B/s]"
      ]
     },
     "metadata": {},
     "output_type": "display_data"
    },
    {
     "data": {
      "application/vnd.jupyter.widget-view+json": {
       "model_id": "a4b3e9354e4644e18c0b2117986d6c73",
       "version_major": 2,
       "version_minor": 0
      },
      "text/plain": [
       "Загружен nash-dom\\76e26fb3-01a9-48ae-8900-2bbf8ef4638a:   0%|          | 0.00/3.70M [00:00<?, ?B/s]"
      ]
     },
     "metadata": {},
     "output_type": "display_data"
    },
    {
     "data": {
      "application/vnd.jupyter.widget-view+json": {
       "model_id": "9d68e0cdf33145e6922ce4c99c838d73",
       "version_major": 2,
       "version_minor": 0
      },
      "text/plain": [
       "Загружен nash-dom\\a6d34792-fb5b-4b73-a981-cca556d03c1a:   0%|          | 0.00/3.07M [00:00<?, ?B/s]"
      ]
     },
     "metadata": {},
     "output_type": "display_data"
    },
    {
     "data": {
      "application/vnd.jupyter.widget-view+json": {
       "model_id": "9d10263a3036470cb7aa0d23c088dd27",
       "version_major": 2,
       "version_minor": 0
      },
      "text/plain": [
       "Загружен nash-dom\\c2217f3b-6867-4a0f-b05e-2a95a5849986:   0%|          | 0.00/6.63M [00:00<?, ?B/s]"
      ]
     },
     "metadata": {},
     "output_type": "display_data"
    },
    {
     "data": {
      "application/vnd.jupyter.widget-view+json": {
       "model_id": "771ff42294c8400cb42944e0d11dd005",
       "version_major": 2,
       "version_minor": 0
      },
      "text/plain": [
       "Загружен nash-dom\\29deca3b-b4f9-41e4-a133-189c129c7d1a:   0%|          | 0.00/271k [00:00<?, ?B/s]"
      ]
     },
     "metadata": {},
     "output_type": "display_data"
    },
    {
     "data": {
      "application/vnd.jupyter.widget-view+json": {
       "model_id": "0435f688b33a4d839dba4db4e3cab6e7",
       "version_major": 2,
       "version_minor": 0
      },
      "text/plain": [
       "Загружен nash-dom\\3efac55c-fc61-4482-8dc7-ac9e8c6dcbcf:   0%|          | 0.00/3.42M [00:00<?, ?B/s]"
      ]
     },
     "metadata": {},
     "output_type": "display_data"
    },
    {
     "data": {
      "application/vnd.jupyter.widget-view+json": {
       "model_id": "85ee412503c640c699afdcf571a35b38",
       "version_major": 2,
       "version_minor": 0
      },
      "text/plain": [
       "Получено изображение:   0%|          | 0/48 [00:00<?, ?it/s]"
      ]
     },
     "metadata": {},
     "output_type": "display_data"
    },
    {
     "data": {
      "application/vnd.jupyter.widget-view+json": {
       "model_id": "97447156012e4340b75eb813e609b6da",
       "version_major": 2,
       "version_minor": 0
      },
      "text/plain": [
       "Загружен nash-dom\\47282070:   0%|          | 0.00/43.0 [00:00<?, ?B/s]"
      ]
     },
     "metadata": {},
     "output_type": "display_data"
    },
    {
     "data": {
      "application/vnd.jupyter.widget-view+json": {
       "model_id": "905c0b5673af48e4a9e84ae11d28bc8f",
       "version_major": 2,
       "version_minor": 0
      },
      "text/plain": [
       "Загружен nash-dom\\0b989b49-d32a-40ea-8cd3-28d6d0b6cda9:   0%|          | 0.00/973k [00:00<?, ?B/s]"
      ]
     },
     "metadata": {},
     "output_type": "display_data"
    },
    {
     "data": {
      "application/vnd.jupyter.widget-view+json": {
       "model_id": "d6c6b3d28e864e0098956175ee309348",
       "version_major": 2,
       "version_minor": 0
      },
      "text/plain": [
       "Загружен nash-dom\\4fe355f8-dd4e-4da8-b7d6-53e4047a664e:   0%|          | 0.00/202k [00:00<?, ?B/s]"
      ]
     },
     "metadata": {},
     "output_type": "display_data"
    },
    {
     "data": {
      "application/vnd.jupyter.widget-view+json": {
       "model_id": "28e9443e7abf430ab0856c0f32ff2c19",
       "version_major": 2,
       "version_minor": 0
      },
      "text/plain": [
       "Загружен nash-dom\\5c172c6f-5d9f-4ca6-9e81-93d841ee9d76:   0%|          | 0.00/148k [00:00<?, ?B/s]"
      ]
     },
     "metadata": {},
     "output_type": "display_data"
    },
    {
     "data": {
      "application/vnd.jupyter.widget-view+json": {
       "model_id": "e94f28ffbf9c4474892b6e2183dc9edf",
       "version_major": 2,
       "version_minor": 0
      },
      "text/plain": [
       "Загружен nash-dom\\32d1222f-14b3-4db9-8c80-fb2a6d8d88dd:   0%|          | 0.00/155k [00:00<?, ?B/s]"
      ]
     },
     "metadata": {},
     "output_type": "display_data"
    },
    {
     "data": {
      "application/vnd.jupyter.widget-view+json": {
       "model_id": "7dc1964685ee48bf8d2eb7780c85b629",
       "version_major": 2,
       "version_minor": 0
      },
      "text/plain": [
       "Загружен nash-dom\\3a900388-475b-4a0a-879c-8f05be793fea:   0%|          | 0.00/130k [00:00<?, ?B/s]"
      ]
     },
     "metadata": {},
     "output_type": "display_data"
    },
    {
     "data": {
      "application/vnd.jupyter.widget-view+json": {
       "model_id": "7dd765c1b43346f1a328c1209a96d7b3",
       "version_major": 2,
       "version_minor": 0
      },
      "text/plain": [
       "Загружен nash-dom\\100826c8-1a7c-4124-b1b1-b0f7d1598400:   0%|          | 0.00/240k [00:00<?, ?B/s]"
      ]
     },
     "metadata": {},
     "output_type": "display_data"
    },
    {
     "data": {
      "application/vnd.jupyter.widget-view+json": {
       "model_id": "8f2f500bdc4342dd9ce38ac3b4f678cf",
       "version_major": 2,
       "version_minor": 0
      },
      "text/plain": [
       "Загружен nash-dom\\945dee72-3dd3-45b8-9a95-aa85bc9b1980:   0%|          | 0.00/241k [00:00<?, ?B/s]"
      ]
     },
     "metadata": {},
     "output_type": "display_data"
    },
    {
     "data": {
      "application/vnd.jupyter.widget-view+json": {
       "model_id": "cfcf1ca1798b4509a8dc287d2e0493b9",
       "version_major": 2,
       "version_minor": 0
      },
      "text/plain": [
       "Загружен nash-dom\\c8783897-84d6-4511-b541-bdd2ba819dac:   0%|          | 0.00/128k [00:00<?, ?B/s]"
      ]
     },
     "metadata": {},
     "output_type": "display_data"
    },
    {
     "data": {
      "application/vnd.jupyter.widget-view+json": {
       "model_id": "0e38bf447dac45048dd50e773d0362fc",
       "version_major": 2,
       "version_minor": 0
      },
      "text/plain": [
       "Загружен nash-dom\\fa84dd26-9046-4c0c-8477-5b8b084a85c8:   0%|          | 0.00/107k [00:00<?, ?B/s]"
      ]
     },
     "metadata": {},
     "output_type": "display_data"
    },
    {
     "data": {
      "application/vnd.jupyter.widget-view+json": {
       "model_id": "4506f45e092a411585a0778158d646c2",
       "version_major": 2,
       "version_minor": 0
      },
      "text/plain": [
       "Загружен nash-dom\\c9c95135-ad99-4894-9153-368d6ca8095d:   0%|          | 0.00/299k [00:00<?, ?B/s]"
      ]
     },
     "metadata": {},
     "output_type": "display_data"
    },
    {
     "data": {
      "application/vnd.jupyter.widget-view+json": {
       "model_id": "c2b692fe117f461f8f8c1533ca7a5b12",
       "version_major": 2,
       "version_minor": 0
      },
      "text/plain": [
       "Загружен nash-dom\\e510dc21-8d5d-476e-bde0-844f580b5f4d:   0%|          | 0.00/239k [00:00<?, ?B/s]"
      ]
     },
     "metadata": {},
     "output_type": "display_data"
    },
    {
     "data": {
      "application/vnd.jupyter.widget-view+json": {
       "model_id": "ad49502367c64d8384ba67f089c6887d",
       "version_major": 2,
       "version_minor": 0
      },
      "text/plain": [
       "Загружен nash-dom\\d0eeb4ac-a506-430b-959c-58292ae30467:   0%|          | 0.00/276k [00:00<?, ?B/s]"
      ]
     },
     "metadata": {},
     "output_type": "display_data"
    },
    {
     "data": {
      "application/vnd.jupyter.widget-view+json": {
       "model_id": "47cc77f420504397b94032512b101108",
       "version_major": 2,
       "version_minor": 0
      },
      "text/plain": [
       "Загружен nash-dom\\6a4f6c18-f2fd-498c-b9f1-089d1883adda:   0%|          | 0.00/116k [00:00<?, ?B/s]"
      ]
     },
     "metadata": {},
     "output_type": "display_data"
    },
    {
     "data": {
      "application/vnd.jupyter.widget-view+json": {
       "model_id": "810f39586c104337b4ac76250249876a",
       "version_major": 2,
       "version_minor": 0
      },
      "text/plain": [
       "Загружен nash-dom\\b3035722-7822-437e-a236-f96f84a85b96:   0%|          | 0.00/229k [00:00<?, ?B/s]"
      ]
     },
     "metadata": {},
     "output_type": "display_data"
    },
    {
     "data": {
      "application/vnd.jupyter.widget-view+json": {
       "model_id": "860cfdeb7f6a4b68ae5c3013c8a71d16",
       "version_major": 2,
       "version_minor": 0
      },
      "text/plain": [
       "Загружен nash-dom\\e0f335e0-e2a0-4edc-90e9-e6ac69635ced:   0%|          | 0.00/237k [00:00<?, ?B/s]"
      ]
     },
     "metadata": {},
     "output_type": "display_data"
    },
    {
     "data": {
      "application/vnd.jupyter.widget-view+json": {
       "model_id": "02bf24ba6ff44ffab44caa76ed6168d2",
       "version_major": 2,
       "version_minor": 0
      },
      "text/plain": [
       "Загружен nash-dom\\e0ca70d5-a187-4b55-bbeb-9a679449f67d:   0%|          | 0.00/96.3k [00:00<?, ?B/s]"
      ]
     },
     "metadata": {},
     "output_type": "display_data"
    },
    {
     "data": {
      "application/vnd.jupyter.widget-view+json": {
       "model_id": "8ebe08bf147e4f4f8479cb20cf5a01f3",
       "version_major": 2,
       "version_minor": 0
      },
      "text/plain": [
       "Загружен nash-dom\\9eebb2c1-c699-4583-9496-67c9db031fcd:   0%|          | 0.00/459k [00:00<?, ?B/s]"
      ]
     },
     "metadata": {},
     "output_type": "display_data"
    },
    {
     "data": {
      "application/vnd.jupyter.widget-view+json": {
       "model_id": "c0e2f243570b4f358ae03c5f3ae4ff1d",
       "version_major": 2,
       "version_minor": 0
      },
      "text/plain": [
       "Загружен nash-dom\\72a122a8-cf10-404c-a521-163c08ac3dfa:   0%|          | 0.00/8.76M [00:00<?, ?B/s]"
      ]
     },
     "metadata": {},
     "output_type": "display_data"
    },
    {
     "data": {
      "application/vnd.jupyter.widget-view+json": {
       "model_id": "a33570ed8a964b6c98a042d57a8bea20",
       "version_major": 2,
       "version_minor": 0
      },
      "text/plain": [
       "Загружен nash-dom\\0af7d890-15ec-437b-b6fc-ffc1d929a8ff:   0%|          | 0.00/2.92M [00:00<?, ?B/s]"
      ]
     },
     "metadata": {},
     "output_type": "display_data"
    },
    {
     "data": {
      "application/vnd.jupyter.widget-view+json": {
       "model_id": "409dd4602a6f4dc9a643d2ddb7e371da",
       "version_major": 2,
       "version_minor": 0
      },
      "text/plain": [
       "Загружен nash-dom\\c2013af0-335e-4db8-b2e3-ec55bf21eacb:   0%|          | 0.00/973k [00:00<?, ?B/s]"
      ]
     },
     "metadata": {},
     "output_type": "display_data"
    },
    {
     "data": {
      "application/vnd.jupyter.widget-view+json": {
       "model_id": "8d80b6e810bf433abe26b36a9a5c5aa4",
       "version_major": 2,
       "version_minor": 0
      },
      "text/plain": [
       "Загружен nash-dom\\d036c883-78c2-46c3-9b58-60431d3df68d:   0%|          | 0.00/296k [00:00<?, ?B/s]"
      ]
     },
     "metadata": {},
     "output_type": "display_data"
    },
    {
     "data": {
      "application/vnd.jupyter.widget-view+json": {
       "model_id": "682699214e0b464db10be1a9519773f5",
       "version_major": 2,
       "version_minor": 0
      },
      "text/plain": [
       "Загружен nash-dom\\add02b28-53b9-43ca-b16b-dba386d949d7:   0%|          | 0.00/2.57M [00:00<?, ?B/s]"
      ]
     },
     "metadata": {},
     "output_type": "display_data"
    },
    {
     "data": {
      "application/vnd.jupyter.widget-view+json": {
       "model_id": "0e5f152e01f34dcaa12f0caee9de2ee1",
       "version_major": 2,
       "version_minor": 0
      },
      "text/plain": [
       "Загружен nash-dom\\5644e3f6-45e9-4967-8455-3e493b8756da:   0%|          | 0.00/624k [00:00<?, ?B/s]"
      ]
     },
     "metadata": {},
     "output_type": "display_data"
    },
    {
     "data": {
      "application/vnd.jupyter.widget-view+json": {
       "model_id": "19633bdf0fa141288224eb40773920d0",
       "version_major": 2,
       "version_minor": 0
      },
      "text/plain": [
       "Загружен nash-dom\\cc0c9e43-7080-4828-a048-7b1ae5971ed1:   0%|          | 0.00/45.8k [00:00<?, ?B/s]"
      ]
     },
     "metadata": {},
     "output_type": "display_data"
    },
    {
     "data": {
      "application/vnd.jupyter.widget-view+json": {
       "model_id": "fdd9b75ecaf34fb4a799aacdea6e0909",
       "version_major": 2,
       "version_minor": 0
      },
      "text/plain": [
       "Загружен nash-dom\\3e6ef392-f10b-4f8f-8ac0-225cb6e45df1:   0%|          | 0.00/94.7k [00:00<?, ?B/s]"
      ]
     },
     "metadata": {},
     "output_type": "display_data"
    },
    {
     "data": {
      "application/vnd.jupyter.widget-view+json": {
       "model_id": "3fc72277157f4112ab2e1d6c395da4eb",
       "version_major": 2,
       "version_minor": 0
      },
      "text/plain": [
       "Загружен nash-dom\\0d7d8689-0d29-49fe-8321-b50af552709c:   0%|          | 0.00/2.84M [00:00<?, ?B/s]"
      ]
     },
     "metadata": {},
     "output_type": "display_data"
    }
   ],
   "source": [
    "# скачаем первые 5 фото объектов\n",
    "for id in tqdm(df.objId[0:5]):\n",
    "    url = f'https://наш.дом.рф/сервисы/каталог-новостроек/объект/{id}'\n",
    "    main(url, \"nash-dom\")"
   ]
  }
 ],
 "metadata": {
  "kernelspec": {
   "display_name": "Python 3 (ipykernel)",
   "language": "python",
   "name": "python3"
  },
  "language_info": {
   "codemirror_mode": {
    "name": "ipython",
    "version": 3
   },
   "file_extension": ".py",
   "mimetype": "text/x-python",
   "name": "python",
   "nbconvert_exporter": "python",
   "pygments_lexer": "ipython3",
   "version": "3.9.12"
  }
 },
 "nbformat": 4,
 "nbformat_minor": 4
}
